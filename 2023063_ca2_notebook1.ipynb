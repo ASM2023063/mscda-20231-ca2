{
 "cells": [
  {
   "cell_type": "markdown",
   "id": "050e33fb",
   "metadata": {},
   "source": [
    "#  Construction in Ireland: Cement Data "
   ]
  },
  {
   "cell_type": "markdown",
   "id": "19244a41",
   "metadata": {},
   "source": [
    "CA2 (26/05/2023) - MSc in Data Analytics \n",
    "<b>Student ID: 2023063"
   ]
  },
  {
   "cell_type": "markdown",
   "id": "1ce2a395",
   "metadata": {},
   "source": [
    "## Introduction \n",
    "write briefing\n",
    "\n",
    "- Cement data source: https://app.indexbox.io/table/252321h1/372/\n",
    "- Reddit data source: https://www.reddit.com/r/ireland/comments/xq6miu/10_added_to_concrete_in_the_midst_of_this_crisis/"
   ]
  },
  {
   "cell_type": "code",
   "execution_count": 117,
   "id": "401817ce",
   "metadata": {
    "scrolled": true
   },
   "outputs": [
    {
     "data": {
      "text/plain": [
       "'\\n\\nHTML(\\'\\'\\'<script>\\ncode_show=true; \\nfunction code_toggle() {\\n if (code_show){\\n $(\\'div.input\\').hide();\\n } else {\\n $(\\'div.input\\').show();\\n }\\n code_show = !code_show\\n} \\n$( document ).ready(code_toggle);\\n</script>\\n<form action=\"javascript:code_toggle()\"><input type=\"submit\" value=\"Click here to toggle on/off the raw code.\"></form>\\'\\'\\')\\n\\n'"
      ]
     },
     "execution_count": 117,
     "metadata": {},
     "output_type": "execute_result"
    }
   ],
   "source": [
    "# Hide/Unhide code\n",
    "\n",
    "from IPython.display import HTML\n",
    "\n",
    "\"\"\"\n",
    "\n",
    "HTML('''<script>\n",
    "code_show=true; \n",
    "function code_toggle() {\n",
    " if (code_show){\n",
    " $('div.input').hide();\n",
    " } else {\n",
    " $('div.input').show();\n",
    " }\n",
    " code_show = !code_show\n",
    "} \n",
    "$( document ).ready(code_toggle);\n",
    "</script>\n",
    "<form action=\"javascript:code_toggle()\"><input type=\"submit\" value=\"Click here to toggle on/off the raw code.\"></form>''')\n",
    "\n",
    "\"\"\""
   ]
  },
  {
   "cell_type": "markdown",
   "id": "74d2b301",
   "metadata": {},
   "source": [
    "## Data Preparation and Visualisation"
   ]
  },
  {
   "cell_type": "code",
   "execution_count": 118,
   "id": "216fb3d5",
   "metadata": {},
   "outputs": [],
   "source": [
    "# Import libraries\n",
    "\n",
    "import pandas as pd\n",
    "import seaborn as sns\n",
    "import numpy as np\n",
    "import matplotlib.pyplot as plt\n",
    "import plotly.express as px\n",
    "import plotly.graph_objects as go\n",
    "\n",
    "import warnings\n",
    "warnings.filterwarnings('ignore') # To suppress the warnings\n",
    "%matplotlib inline "
   ]
  },
  {
   "cell_type": "markdown",
   "id": "5fcae6f0",
   "metadata": {},
   "source": [
    "<b>Cement data .tail()"
   ]
  },
  {
   "cell_type": "code",
   "execution_count": 119,
   "id": "daaa112f",
   "metadata": {},
   "outputs": [],
   "source": [
    "# Read cement data (csv)\n",
    "cement_data = pd.read_csv(\"cementdata.csv\")"
   ]
  },
  {
   "cell_type": "code",
   "execution_count": 120,
   "id": "20b0a75b",
   "metadata": {
    "scrolled": false
   },
   "outputs": [
    {
     "data": {
      "text/html": [
       "<div>\n",
       "<style scoped>\n",
       "    .dataframe tbody tr th:only-of-type {\n",
       "        vertical-align: middle;\n",
       "    }\n",
       "\n",
       "    .dataframe tbody tr th {\n",
       "        vertical-align: top;\n",
       "    }\n",
       "\n",
       "    .dataframe thead th {\n",
       "        text-align: right;\n",
       "    }\n",
       "</style>\n",
       "<table border=\"1\" class=\"dataframe\">\n",
       "  <thead>\n",
       "    <tr style=\"text-align: right;\">\n",
       "      <th></th>\n",
       "      <th>FACTOR</th>\n",
       "      <th>UNITS</th>\n",
       "      <th>2007</th>\n",
       "      <th>2008</th>\n",
       "      <th>2009</th>\n",
       "      <th>2010</th>\n",
       "      <th>2011</th>\n",
       "      <th>2012</th>\n",
       "      <th>2013</th>\n",
       "      <th>2014</th>\n",
       "      <th>2015</th>\n",
       "      <th>Country</th>\n",
       "      <th>Product</th>\n",
       "    </tr>\n",
       "  </thead>\n",
       "  <tbody>\n",
       "    <tr>\n",
       "      <th>0</th>\n",
       "      <td>Consumption Volume</td>\n",
       "      <td>Thousand tons</td>\n",
       "      <td>3563.00</td>\n",
       "      <td>3489.00</td>\n",
       "      <td>1748.00</td>\n",
       "      <td>1704.00</td>\n",
       "      <td>1263.00</td>\n",
       "      <td>48.40</td>\n",
       "      <td>856.00</td>\n",
       "      <td>580.90</td>\n",
       "      <td>667.00</td>\n",
       "      <td>Ireland</td>\n",
       "      <td>Cement</td>\n",
       "    </tr>\n",
       "    <tr>\n",
       "      <th>1</th>\n",
       "      <td>Consumption Value</td>\n",
       "      <td>Million USD</td>\n",
       "      <td>264.30</td>\n",
       "      <td>267.40</td>\n",
       "      <td>159.10</td>\n",
       "      <td>160.80</td>\n",
       "      <td>137.10</td>\n",
       "      <td>7.70</td>\n",
       "      <td>101.40</td>\n",
       "      <td>69.20</td>\n",
       "      <td>83.40</td>\n",
       "      <td>Ireland</td>\n",
       "      <td>Cement</td>\n",
       "    </tr>\n",
       "    <tr>\n",
       "      <th>2</th>\n",
       "      <td>Production Volume</td>\n",
       "      <td>Thousand tons</td>\n",
       "      <td>4003.00</td>\n",
       "      <td>3900.00</td>\n",
       "      <td>2600.00</td>\n",
       "      <td>2600.00</td>\n",
       "      <td>2103.00</td>\n",
       "      <td>1198.00</td>\n",
       "      <td>2000.00</td>\n",
       "      <td>2000.00</td>\n",
       "      <td>2500.00</td>\n",
       "      <td>Ireland</td>\n",
       "      <td>Cement</td>\n",
       "    </tr>\n",
       "    <tr>\n",
       "      <th>3</th>\n",
       "      <td>Production Value</td>\n",
       "      <td>Million USD</td>\n",
       "      <td>146.70</td>\n",
       "      <td>160.20</td>\n",
       "      <td>175.10</td>\n",
       "      <td>191.30</td>\n",
       "      <td>209.00</td>\n",
       "      <td>228.40</td>\n",
       "      <td>234.90</td>\n",
       "      <td>237.60</td>\n",
       "      <td>323.70</td>\n",
       "      <td>Ireland</td>\n",
       "      <td>Cement</td>\n",
       "    </tr>\n",
       "    <tr>\n",
       "      <th>4</th>\n",
       "      <td>Import Volume</td>\n",
       "      <td>Thousand tons</td>\n",
       "      <td>684.40</td>\n",
       "      <td>735.40</td>\n",
       "      <td>204.10</td>\n",
       "      <td>138.70</td>\n",
       "      <td>104.30</td>\n",
       "      <td>90.70</td>\n",
       "      <td>92.30</td>\n",
       "      <td>106.70</td>\n",
       "      <td>89.80</td>\n",
       "      <td>Ireland</td>\n",
       "      <td>Cement</td>\n",
       "    </tr>\n",
       "  </tbody>\n",
       "</table>\n",
       "</div>"
      ],
      "text/plain": [
       "               FACTOR          UNITS     2007     2008     2009     2010  \\\n",
       "0  Consumption Volume  Thousand tons  3563.00  3489.00  1748.00  1704.00   \n",
       "1   Consumption Value    Million USD   264.30   267.40   159.10   160.80   \n",
       "2   Production Volume  Thousand tons  4003.00  3900.00  2600.00  2600.00   \n",
       "3    Production Value    Million USD   146.70   160.20   175.10   191.30   \n",
       "4       Import Volume  Thousand tons   684.40   735.40   204.10   138.70   \n",
       "\n",
       "      2011     2012     2013     2014     2015  Country Product  \n",
       "0  1263.00    48.40   856.00   580.90   667.00  Ireland  Cement  \n",
       "1   137.10     7.70   101.40    69.20    83.40  Ireland  Cement  \n",
       "2  2103.00  1198.00  2000.00  2000.00  2500.00  Ireland  Cement  \n",
       "3   209.00   228.40   234.90   237.60   323.70  Ireland  Cement  \n",
       "4   104.30    90.70    92.30   106.70    89.80  Ireland  Cement  "
      ]
     },
     "execution_count": 120,
     "metadata": {},
     "output_type": "execute_result"
    }
   ],
   "source": [
    "cement_data.head()"
   ]
  },
  {
   "cell_type": "markdown",
   "id": "f5c4a133",
   "metadata": {},
   "source": [
    "<b>Cement data .tail()"
   ]
  },
  {
   "cell_type": "code",
   "execution_count": 121,
   "id": "5ed1c964",
   "metadata": {},
   "outputs": [
    {
     "data": {
      "text/html": [
       "<div>\n",
       "<style scoped>\n",
       "    .dataframe tbody tr th:only-of-type {\n",
       "        vertical-align: middle;\n",
       "    }\n",
       "\n",
       "    .dataframe tbody tr th {\n",
       "        vertical-align: top;\n",
       "    }\n",
       "\n",
       "    .dataframe thead th {\n",
       "        text-align: right;\n",
       "    }\n",
       "</style>\n",
       "<table border=\"1\" class=\"dataframe\">\n",
       "  <thead>\n",
       "    <tr style=\"text-align: right;\">\n",
       "      <th></th>\n",
       "      <th>FACTOR</th>\n",
       "      <th>UNITS</th>\n",
       "      <th>2007</th>\n",
       "      <th>2008</th>\n",
       "      <th>2009</th>\n",
       "      <th>2010</th>\n",
       "      <th>2011</th>\n",
       "      <th>2012</th>\n",
       "      <th>2013</th>\n",
       "      <th>2014</th>\n",
       "      <th>2015</th>\n",
       "      <th>Country</th>\n",
       "      <th>Product</th>\n",
       "    </tr>\n",
       "  </thead>\n",
       "  <tbody>\n",
       "    <tr>\n",
       "      <th>125</th>\n",
       "      <td>Import Price</td>\n",
       "      <td>USD per Ton</td>\n",
       "      <td>81.5</td>\n",
       "      <td>97.6</td>\n",
       "      <td>225.8</td>\n",
       "      <td>343</td>\n",
       "      <td>773.8</td>\n",
       "      <td>189.3</td>\n",
       "      <td>330.6</td>\n",
       "      <td>225.8</td>\n",
       "      <td>275.3</td>\n",
       "      <td>Iran</td>\n",
       "      <td>Cement</td>\n",
       "    </tr>\n",
       "    <tr>\n",
       "      <th>126</th>\n",
       "      <td>Export Price</td>\n",
       "      <td>USD per Ton</td>\n",
       "      <td>91.9</td>\n",
       "      <td>97.2</td>\n",
       "      <td>76.4</td>\n",
       "      <td>76.5</td>\n",
       "      <td>62.5</td>\n",
       "      <td>62.5</td>\n",
       "      <td>59.6</td>\n",
       "      <td>74.5</td>\n",
       "      <td>59.7</td>\n",
       "      <td>Iran</td>\n",
       "      <td>Cement</td>\n",
       "    </tr>\n",
       "    <tr>\n",
       "      <th>127</th>\n",
       "      <td>Per Capita Consumption</td>\n",
       "      <td>Kg per Person</td>\n",
       "      <td>569</td>\n",
       "      <td>608.9</td>\n",
       "      <td>670</td>\n",
       "      <td>653.2</td>\n",
       "      <td>861.6</td>\n",
       "      <td>902.8</td>\n",
       "      <td>862.3</td>\n",
       "      <td>800.3</td>\n",
       "      <td>626.9</td>\n",
       "      <td>Iran</td>\n",
       "      <td>Cement</td>\n",
       "    </tr>\n",
       "    <tr>\n",
       "      <th>128</th>\n",
       "      <td>Net Export Volume</td>\n",
       "      <td>Thousand tons</td>\n",
       "      <td>11.1</td>\n",
       "      <td>43.8</td>\n",
       "      <td>631.5</td>\n",
       "      <td>1291</td>\n",
       "      <td>956.9</td>\n",
       "      <td>1227</td>\n",
       "      <td>1927</td>\n",
       "      <td>3951</td>\n",
       "      <td>8851</td>\n",
       "      <td>Iran</td>\n",
       "      <td>Cement</td>\n",
       "    </tr>\n",
       "    <tr>\n",
       "      <th>129</th>\n",
       "      <td>Net Export Value</td>\n",
       "      <td>Million USD</td>\n",
       "      <td>1.7</td>\n",
       "      <td>4.2</td>\n",
       "      <td>46.9</td>\n",
       "      <td>96.7</td>\n",
       "      <td>53.4</td>\n",
       "      <td>72.7</td>\n",
       "      <td>103.7</td>\n",
       "      <td>286.9</td>\n",
       "      <td>522</td>\n",
       "      <td>Iran</td>\n",
       "      <td>Cement</td>\n",
       "    </tr>\n",
       "  </tbody>\n",
       "</table>\n",
       "</div>"
      ],
      "text/plain": [
       "                     FACTOR          UNITS  2007   2008   2009   2010   2011  \\\n",
       "125            Import Price    USD per Ton  81.5   97.6  225.8    343  773.8   \n",
       "126            Export Price    USD per Ton  91.9   97.2   76.4   76.5   62.5   \n",
       "127  Per Capita Consumption  Kg per Person   569  608.9    670  653.2  861.6   \n",
       "128       Net Export Volume  Thousand tons  11.1   43.8  631.5   1291  956.9   \n",
       "129        Net Export Value    Million USD   1.7    4.2   46.9   96.7   53.4   \n",
       "\n",
       "      2012   2013   2014   2015 Country Product  \n",
       "125  189.3  330.6  225.8  275.3    Iran  Cement  \n",
       "126   62.5   59.6   74.5   59.7    Iran  Cement  \n",
       "127  902.8  862.3  800.3  626.9    Iran  Cement  \n",
       "128   1227   1927   3951   8851    Iran  Cement  \n",
       "129   72.7  103.7  286.9    522    Iran  Cement  "
      ]
     },
     "execution_count": 121,
     "metadata": {},
     "output_type": "execute_result"
    }
   ],
   "source": [
    "cement_data.tail()"
   ]
  },
  {
   "cell_type": "markdown",
   "id": "9d533e16",
   "metadata": {},
   "source": [
    "<b>Number of countries "
   ]
  },
  {
   "cell_type": "code",
   "execution_count": 122,
   "id": "328d16ad",
   "metadata": {
    "scrolled": true
   },
   "outputs": [
    {
     "data": {
      "text/plain": [
       "10"
      ]
     },
     "execution_count": 122,
     "metadata": {},
     "output_type": "execute_result"
    }
   ],
   "source": [
    "cement_data[\"Country\"].nunique()"
   ]
  },
  {
   "cell_type": "markdown",
   "id": "b4431889",
   "metadata": {},
   "source": [
    "<b>Country names"
   ]
  },
  {
   "cell_type": "code",
   "execution_count": 123,
   "id": "69f6e685",
   "metadata": {},
   "outputs": [
    {
     "data": {
      "text/plain": [
       "array(['Ireland', 'USA', 'Brazil', 'China', 'Germany', 'Russia',\n",
       "       'Australia', 'Vietnam', 'Japan', 'Iran'], dtype=object)"
      ]
     },
     "execution_count": 123,
     "metadata": {},
     "output_type": "execute_result"
    }
   ],
   "source": [
    "cement_data[\"Country\"].unique()"
   ]
  },
  {
   "cell_type": "code",
   "execution_count": 124,
   "id": "0f690854",
   "metadata": {},
   "outputs": [],
   "source": [
    "# Define function to split data by country\n",
    "\n",
    "def cement_df(country, new_df, original_df):\n",
    "    new_df = original_df[original_df[\"Country\"]==country]\n",
    "    new_df = new_df.drop({\"Country\",\"Product\",\"UNITS\"}, axis='columns')\n",
    "    new_df = new_df.transpose()\n",
    "    new_df.columns = new_df.iloc[0]\n",
    "    new_df.drop(index=new_df.index[0], axis=0, inplace=True)\n",
    "    new_df.reset_index(inplace=True)\n",
    "    new_df.rename(columns= {\"index\":\"Year\"},inplace=True)\n",
    "    return new_df"
   ]
  },
  {
   "cell_type": "markdown",
   "id": "bbd0214b",
   "metadata": {},
   "source": [
    "<b>Cleaned Ireland cement data"
   ]
  },
  {
   "cell_type": "code",
   "execution_count": 125,
   "id": "b762123c",
   "metadata": {
    "scrolled": true
   },
   "outputs": [
    {
     "data": {
      "text/html": [
       "<div>\n",
       "<style scoped>\n",
       "    .dataframe tbody tr th:only-of-type {\n",
       "        vertical-align: middle;\n",
       "    }\n",
       "\n",
       "    .dataframe tbody tr th {\n",
       "        vertical-align: top;\n",
       "    }\n",
       "\n",
       "    .dataframe thead th {\n",
       "        text-align: right;\n",
       "    }\n",
       "</style>\n",
       "<table border=\"1\" class=\"dataframe\">\n",
       "  <thead>\n",
       "    <tr style=\"text-align: right;\">\n",
       "      <th>FACTOR</th>\n",
       "      <th>Year</th>\n",
       "      <th>Consumption Volume</th>\n",
       "      <th>Consumption Value</th>\n",
       "      <th>Production Volume</th>\n",
       "      <th>Production Value</th>\n",
       "      <th>Import Volume</th>\n",
       "      <th>Import Value</th>\n",
       "      <th>Export Volume</th>\n",
       "      <th>Export Value</th>\n",
       "      <th>Import Price</th>\n",
       "      <th>Export Price</th>\n",
       "      <th>Per Capita Consumption</th>\n",
       "      <th>Net Export Volume</th>\n",
       "      <th>Net Export Value</th>\n",
       "      <th>Code</th>\n",
       "    </tr>\n",
       "  </thead>\n",
       "  <tbody>\n",
       "    <tr>\n",
       "      <th>0</th>\n",
       "      <td>2007</td>\n",
       "      <td>3563.00</td>\n",
       "      <td>264.30</td>\n",
       "      <td>4003.00</td>\n",
       "      <td>146.70</td>\n",
       "      <td>684.40</td>\n",
       "      <td>65.50</td>\n",
       "      <td>1124.00</td>\n",
       "      <td>105.50</td>\n",
       "      <td>95.70</td>\n",
       "      <td>93.90</td>\n",
       "      <td>810.10</td>\n",
       "      <td>439.60</td>\n",
       "      <td>40.00</td>\n",
       "      <td>IRL</td>\n",
       "    </tr>\n",
       "    <tr>\n",
       "      <th>1</th>\n",
       "      <td>2008</td>\n",
       "      <td>3489.00</td>\n",
       "      <td>267.40</td>\n",
       "      <td>3900.00</td>\n",
       "      <td>160.20</td>\n",
       "      <td>735.40</td>\n",
       "      <td>65.40</td>\n",
       "      <td>1146.00</td>\n",
       "      <td>112.00</td>\n",
       "      <td>88.90</td>\n",
       "      <td>97.70</td>\n",
       "      <td>777.20</td>\n",
       "      <td>410.80</td>\n",
       "      <td>46.60</td>\n",
       "      <td>IRL</td>\n",
       "    </tr>\n",
       "    <tr>\n",
       "      <th>2</th>\n",
       "      <td>2009</td>\n",
       "      <td>1748.00</td>\n",
       "      <td>159.10</td>\n",
       "      <td>2600.00</td>\n",
       "      <td>175.10</td>\n",
       "      <td>204.10</td>\n",
       "      <td>23.00</td>\n",
       "      <td>1056.00</td>\n",
       "      <td>101.90</td>\n",
       "      <td>112.60</td>\n",
       "      <td>96.50</td>\n",
       "      <td>382.60</td>\n",
       "      <td>852.00</td>\n",
       "      <td>78.90</td>\n",
       "      <td>IRL</td>\n",
       "    </tr>\n",
       "    <tr>\n",
       "      <th>3</th>\n",
       "      <td>2010</td>\n",
       "      <td>1704.00</td>\n",
       "      <td>160.80</td>\n",
       "      <td>2600.00</td>\n",
       "      <td>191.30</td>\n",
       "      <td>138.70</td>\n",
       "      <td>13.90</td>\n",
       "      <td>1035.00</td>\n",
       "      <td>104.70</td>\n",
       "      <td>99.90</td>\n",
       "      <td>101.20</td>\n",
       "      <td>368.20</td>\n",
       "      <td>896.50</td>\n",
       "      <td>90.90</td>\n",
       "      <td>IRL</td>\n",
       "    </tr>\n",
       "    <tr>\n",
       "      <th>4</th>\n",
       "      <td>2011</td>\n",
       "      <td>1263.00</td>\n",
       "      <td>137.10</td>\n",
       "      <td>2103.00</td>\n",
       "      <td>209.00</td>\n",
       "      <td>104.30</td>\n",
       "      <td>10.90</td>\n",
       "      <td>944.60</td>\n",
       "      <td>94.00</td>\n",
       "      <td>104.60</td>\n",
       "      <td>99.50</td>\n",
       "      <td>270.80</td>\n",
       "      <td>840.30</td>\n",
       "      <td>83.10</td>\n",
       "      <td>IRL</td>\n",
       "    </tr>\n",
       "    <tr>\n",
       "      <th>5</th>\n",
       "      <td>2012</td>\n",
       "      <td>48.40</td>\n",
       "      <td>7.70</td>\n",
       "      <td>1198.00</td>\n",
       "      <td>228.40</td>\n",
       "      <td>90.70</td>\n",
       "      <td>10.70</td>\n",
       "      <td>1240.00</td>\n",
       "      <td>111.20</td>\n",
       "      <td>118.50</td>\n",
       "      <td>89.60</td>\n",
       "      <td>10.40</td>\n",
       "      <td>1150.00</td>\n",
       "      <td>100.40</td>\n",
       "      <td>IRL</td>\n",
       "    </tr>\n",
       "    <tr>\n",
       "      <th>6</th>\n",
       "      <td>2013</td>\n",
       "      <td>856.00</td>\n",
       "      <td>101.40</td>\n",
       "      <td>2000.00</td>\n",
       "      <td>234.90</td>\n",
       "      <td>92.30</td>\n",
       "      <td>10.00</td>\n",
       "      <td>1236.00</td>\n",
       "      <td>110.60</td>\n",
       "      <td>107.80</td>\n",
       "      <td>89.50</td>\n",
       "      <td>182.80</td>\n",
       "      <td>1144.00</td>\n",
       "      <td>100.60</td>\n",
       "      <td>IRL</td>\n",
       "    </tr>\n",
       "    <tr>\n",
       "      <th>7</th>\n",
       "      <td>2014</td>\n",
       "      <td>580.90</td>\n",
       "      <td>69.20</td>\n",
       "      <td>2000.00</td>\n",
       "      <td>237.60</td>\n",
       "      <td>106.70</td>\n",
       "      <td>9.50</td>\n",
       "      <td>1526.00</td>\n",
       "      <td>148.00</td>\n",
       "      <td>88.90</td>\n",
       "      <td>97.00</td>\n",
       "      <td>124.00</td>\n",
       "      <td>1419.00</td>\n",
       "      <td>138.50</td>\n",
       "      <td>IRL</td>\n",
       "    </tr>\n",
       "    <tr>\n",
       "      <th>8</th>\n",
       "      <td>2015</td>\n",
       "      <td>667.00</td>\n",
       "      <td>83.40</td>\n",
       "      <td>2500.00</td>\n",
       "      <td>323.70</td>\n",
       "      <td>89.80</td>\n",
       "      <td>7.00</td>\n",
       "      <td>1923.00</td>\n",
       "      <td>145.40</td>\n",
       "      <td>78.10</td>\n",
       "      <td>75.60</td>\n",
       "      <td>141.90</td>\n",
       "      <td>1833.00</td>\n",
       "      <td>138.40</td>\n",
       "      <td>IRL</td>\n",
       "    </tr>\n",
       "  </tbody>\n",
       "</table>\n",
       "</div>"
      ],
      "text/plain": [
       "FACTOR  Year Consumption Volume Consumption Value Production Volume  \\\n",
       "0       2007            3563.00            264.30           4003.00   \n",
       "1       2008            3489.00            267.40           3900.00   \n",
       "2       2009            1748.00            159.10           2600.00   \n",
       "3       2010            1704.00            160.80           2600.00   \n",
       "4       2011            1263.00            137.10           2103.00   \n",
       "5       2012              48.40              7.70           1198.00   \n",
       "6       2013             856.00            101.40           2000.00   \n",
       "7       2014             580.90             69.20           2000.00   \n",
       "8       2015             667.00             83.40           2500.00   \n",
       "\n",
       "FACTOR Production Value Import Volume Import Value Export Volume Export Value  \\\n",
       "0                146.70        684.40        65.50       1124.00       105.50   \n",
       "1                160.20        735.40        65.40       1146.00       112.00   \n",
       "2                175.10        204.10        23.00       1056.00       101.90   \n",
       "3                191.30        138.70        13.90       1035.00       104.70   \n",
       "4                209.00        104.30        10.90        944.60        94.00   \n",
       "5                228.40         90.70        10.70       1240.00       111.20   \n",
       "6                234.90         92.30        10.00       1236.00       110.60   \n",
       "7                237.60        106.70         9.50       1526.00       148.00   \n",
       "8                323.70         89.80         7.00       1923.00       145.40   \n",
       "\n",
       "FACTOR Import Price Export Price Per Capita Consumption Net Export Volume  \\\n",
       "0             95.70        93.90                 810.10            439.60   \n",
       "1             88.90        97.70                 777.20            410.80   \n",
       "2            112.60        96.50                 382.60            852.00   \n",
       "3             99.90       101.20                 368.20            896.50   \n",
       "4            104.60        99.50                 270.80            840.30   \n",
       "5            118.50        89.60                  10.40           1150.00   \n",
       "6            107.80        89.50                 182.80           1144.00   \n",
       "7             88.90        97.00                 124.00           1419.00   \n",
       "8             78.10        75.60                 141.90           1833.00   \n",
       "\n",
       "FACTOR Net Export Value Code  \n",
       "0                 40.00  IRL  \n",
       "1                 46.60  IRL  \n",
       "2                 78.90  IRL  \n",
       "3                 90.90  IRL  \n",
       "4                 83.10  IRL  \n",
       "5                100.40  IRL  \n",
       "6                100.60  IRL  \n",
       "7                138.50  IRL  \n",
       "8                138.40  IRL  "
      ]
     },
     "execution_count": 125,
     "metadata": {},
     "output_type": "execute_result"
    }
   ],
   "source": [
    "# Ireland cement data\n",
    "ireland_cement = cement_df(country=\"Ireland\", new_df=\"ireland_cement\", original_df=cement_data)\n",
    "ireland_cement[\"Code\"] = \"IRL\"\n",
    "ireland_cement"
   ]
  },
  {
   "cell_type": "code",
   "execution_count": 126,
   "id": "d84c15a3",
   "metadata": {},
   "outputs": [
    {
     "data": {
      "text/html": [
       "<div>\n",
       "<style scoped>\n",
       "    .dataframe tbody tr th:only-of-type {\n",
       "        vertical-align: middle;\n",
       "    }\n",
       "\n",
       "    .dataframe tbody tr th {\n",
       "        vertical-align: top;\n",
       "    }\n",
       "\n",
       "    .dataframe thead th {\n",
       "        text-align: right;\n",
       "    }\n",
       "</style>\n",
       "<table border=\"1\" class=\"dataframe\">\n",
       "  <thead>\n",
       "    <tr style=\"text-align: right;\">\n",
       "      <th>FACTOR</th>\n",
       "      <th>Year</th>\n",
       "      <th>Consumption Volume</th>\n",
       "      <th>Consumption Value</th>\n",
       "      <th>Production Volume</th>\n",
       "      <th>Production Value</th>\n",
       "      <th>Import Volume</th>\n",
       "      <th>Import Value</th>\n",
       "      <th>Export Volume</th>\n",
       "      <th>Export Value</th>\n",
       "      <th>Import Price</th>\n",
       "      <th>Export Price</th>\n",
       "      <th>Per Capita Consumption</th>\n",
       "      <th>Net Export Volume</th>\n",
       "      <th>Net Export Value</th>\n",
       "      <th>Code</th>\n",
       "    </tr>\n",
       "  </thead>\n",
       "  <tbody>\n",
       "    <tr>\n",
       "      <th>count</th>\n",
       "      <td>9</td>\n",
       "      <td>9</td>\n",
       "      <td>9</td>\n",
       "      <td>9</td>\n",
       "      <td>9</td>\n",
       "      <td>9</td>\n",
       "      <td>9</td>\n",
       "      <td>9</td>\n",
       "      <td>9</td>\n",
       "      <td>9</td>\n",
       "      <td>9</td>\n",
       "      <td>9</td>\n",
       "      <td>9</td>\n",
       "      <td>9</td>\n",
       "      <td>9</td>\n",
       "    </tr>\n",
       "    <tr>\n",
       "      <th>unique</th>\n",
       "      <td>9</td>\n",
       "      <td>9</td>\n",
       "      <td>9</td>\n",
       "      <td>7</td>\n",
       "      <td>9</td>\n",
       "      <td>9</td>\n",
       "      <td>9</td>\n",
       "      <td>9</td>\n",
       "      <td>9</td>\n",
       "      <td>8</td>\n",
       "      <td>9</td>\n",
       "      <td>9</td>\n",
       "      <td>9</td>\n",
       "      <td>9</td>\n",
       "      <td>1</td>\n",
       "    </tr>\n",
       "    <tr>\n",
       "      <th>top</th>\n",
       "      <td>2007</td>\n",
       "      <td>3563.00</td>\n",
       "      <td>264.30</td>\n",
       "      <td>2600.00</td>\n",
       "      <td>146.70</td>\n",
       "      <td>684.40</td>\n",
       "      <td>65.50</td>\n",
       "      <td>1124.00</td>\n",
       "      <td>105.50</td>\n",
       "      <td>88.90</td>\n",
       "      <td>93.90</td>\n",
       "      <td>810.10</td>\n",
       "      <td>439.60</td>\n",
       "      <td>40.00</td>\n",
       "      <td>IRL</td>\n",
       "    </tr>\n",
       "    <tr>\n",
       "      <th>freq</th>\n",
       "      <td>1</td>\n",
       "      <td>1</td>\n",
       "      <td>1</td>\n",
       "      <td>2</td>\n",
       "      <td>1</td>\n",
       "      <td>1</td>\n",
       "      <td>1</td>\n",
       "      <td>1</td>\n",
       "      <td>1</td>\n",
       "      <td>2</td>\n",
       "      <td>1</td>\n",
       "      <td>1</td>\n",
       "      <td>1</td>\n",
       "      <td>1</td>\n",
       "      <td>9</td>\n",
       "    </tr>\n",
       "  </tbody>\n",
       "</table>\n",
       "</div>"
      ],
      "text/plain": [
       "FACTOR  Year Consumption Volume Consumption Value Production Volume  \\\n",
       "count      9                  9                 9                 9   \n",
       "unique     9                  9                 9                 7   \n",
       "top     2007            3563.00            264.30           2600.00   \n",
       "freq       1                  1                 1                 2   \n",
       "\n",
       "FACTOR Production Value Import Volume Import Value Export Volume Export Value  \\\n",
       "count                 9             9            9             9            9   \n",
       "unique                9             9            9             9            9   \n",
       "top              146.70        684.40        65.50       1124.00       105.50   \n",
       "freq                  1             1            1             1            1   \n",
       "\n",
       "FACTOR Import Price Export Price Per Capita Consumption Net Export Volume  \\\n",
       "count             9            9                      9                 9   \n",
       "unique            8            9                      9                 9   \n",
       "top           88.90        93.90                 810.10            439.60   \n",
       "freq              2            1                      1                 1   \n",
       "\n",
       "FACTOR Net Export Value Code  \n",
       "count                 9    9  \n",
       "unique                9    1  \n",
       "top               40.00  IRL  \n",
       "freq                  1    9  "
      ]
     },
     "execution_count": 126,
     "metadata": {},
     "output_type": "execute_result"
    }
   ],
   "source": [
    "ireland_cement.describe()"
   ]
  },
  {
   "cell_type": "code",
   "execution_count": 127,
   "id": "a4d8da70",
   "metadata": {},
   "outputs": [],
   "source": [
    "# United States cement data\n",
    "\n",
    "usa_cement = cement_df(country=\"USA\", new_df=\"usa_cement\", original_df=cement_data)\n",
    "usa_cement[\"Code\"] = \"USA\"\n",
    "#usa_cement"
   ]
  },
  {
   "cell_type": "code",
   "execution_count": 128,
   "id": "21f46d68",
   "metadata": {},
   "outputs": [],
   "source": [
    "# Brazil cement data\n",
    "\n",
    "brazil_cement = cement_df(country=\"Brazil\", new_df=\"brazil_cement\", original_df=cement_data)\n",
    "brazil_cement[\"Code\"] = \"BRA\"\n",
    "#brazil_cement"
   ]
  },
  {
   "cell_type": "code",
   "execution_count": 129,
   "id": "9372158a",
   "metadata": {},
   "outputs": [],
   "source": [
    "# China cement data\n",
    "\n",
    "china_cement = cement_df(country=\"China\", new_df=\"china_cement\", original_df=cement_data)\n",
    "china_cement[\"Code\"] = \"CHN\"\n",
    "#china_cement"
   ]
  },
  {
   "cell_type": "code",
   "execution_count": 130,
   "id": "30844892",
   "metadata": {},
   "outputs": [],
   "source": [
    "# Germany cement data\n",
    "\n",
    "germany_cement = cement_df(country=\"Germany\", new_df=\"germany_cement\", original_df=cement_data)\n",
    "germany_cement[\"Code\"] = \"DEU\"\n",
    "#germany_cement"
   ]
  },
  {
   "cell_type": "code",
   "execution_count": 131,
   "id": "f8b1db28",
   "metadata": {},
   "outputs": [],
   "source": [
    "# Russia cement data\n",
    "\n",
    "russia_cement = cement_df(country=\"Russia\", new_df=\"russia_cement\", original_df=cement_data)\n",
    "russia_cement[\"Code\"] = \"RUS\"\n",
    "#russia_cement"
   ]
  },
  {
   "cell_type": "code",
   "execution_count": 132,
   "id": "20213a91",
   "metadata": {},
   "outputs": [],
   "source": [
    "# Australia cement data\n",
    "\n",
    "australia_cement = cement_df(country=\"Australia\", new_df=\"australia_cement\", original_df=cement_data)\n",
    "australia_cement[\"Code\"] = \"AUS\"\n",
    "#australia_cement"
   ]
  },
  {
   "cell_type": "code",
   "execution_count": 133,
   "id": "79b09d4c",
   "metadata": {},
   "outputs": [],
   "source": [
    "# Vietnam cement data\n",
    "\n",
    "vietnam_cement = cement_df(country=\"Vietnam\", new_df=\"vietnam_cement\", original_df=cement_data)\n",
    "vietnam_cement[\"Code\"] = \"VNM\"\n",
    "#vietnam_cement"
   ]
  },
  {
   "cell_type": "code",
   "execution_count": 134,
   "id": "60b19258",
   "metadata": {},
   "outputs": [],
   "source": [
    "# Japan cement data\n",
    "\n",
    "japan_cement = cement_df(country=\"Japan\", new_df=\"japan_cement\", original_df=cement_data)\n",
    "japan_cement[\"Code\"] = \"JPN\"\n",
    "#japan_cement"
   ]
  },
  {
   "cell_type": "code",
   "execution_count": 135,
   "id": "cf0d0f12",
   "metadata": {},
   "outputs": [],
   "source": [
    "# Iran cement data\n",
    "\n",
    "iran_cement = cement_df(country=\"Iran\", new_df=\"iran_cement\", original_df=cement_data)\n",
    "iran_cement[\"Code\"] = \"IRN\"\n",
    "#iran_cement"
   ]
  },
  {
   "cell_type": "code",
   "execution_count": 136,
   "id": "2426343a",
   "metadata": {},
   "outputs": [],
   "source": [
    "# Convert object to number\n",
    "\n",
    "def convert_2num(df):\n",
    "    df[\"Year\"] = pd.to_numeric(df[\"Year\"])\n",
    "    df[\"Consumption Volume\"] = pd.to_numeric(df[\"Consumption Volume\"])\n",
    "    df[\"Consumption Value\"] = pd.to_numeric(df[\"Consumption Value\"])\n",
    "    df[\"Production Volume\"] = pd.to_numeric(df[\"Production Volume\"])\n",
    "    df[\"Production Value\"] = pd.to_numeric(df[\"Production Value\"])\n",
    "    df[\"Import Volume\"] = pd.to_numeric(df[\"Import Volume\"])\n",
    "    df[\"Import Value\"] = pd.to_numeric(df[\"Import Value\"])\n",
    "    df[\"Export Volume\"] = pd.to_numeric(df[\"Export Volume\"])\n",
    "    df[\"Export Value\"] = pd.to_numeric(df[\"Export Value\"])\n",
    "    df[\"Import Price\"] = pd.to_numeric(df[\"Import Price\"])\n",
    "    df[\"Export Price\"] = pd.to_numeric(df[\"Export Price\"])\n",
    "    df[\"Per Capita Consumption\"] = pd.to_numeric(df[\"Per Capita Consumption\"])\n",
    "\n",
    "convert_2num(ireland_cement)\n",
    "convert_2num(usa_cement)\n",
    "convert_2num(brazil_cement)\n",
    "convert_2num(china_cement)\n",
    "convert_2num(germany_cement)\n",
    "convert_2num(russia_cement)\n",
    "convert_2num(australia_cement)\n",
    "convert_2num(vietnam_cement)\n",
    "convert_2num(japan_cement)\n",
    "convert_2num(iran_cement)"
   ]
  },
  {
   "cell_type": "code",
   "execution_count": 137,
   "id": "232627f6",
   "metadata": {
    "scrolled": true
   },
   "outputs": [
    {
     "data": {
      "text/html": [
       "<div>\n",
       "<style scoped>\n",
       "    .dataframe tbody tr th:only-of-type {\n",
       "        vertical-align: middle;\n",
       "    }\n",
       "\n",
       "    .dataframe tbody tr th {\n",
       "        vertical-align: top;\n",
       "    }\n",
       "\n",
       "    .dataframe thead th {\n",
       "        text-align: right;\n",
       "    }\n",
       "</style>\n",
       "<table border=\"1\" class=\"dataframe\">\n",
       "  <thead>\n",
       "    <tr style=\"text-align: right;\">\n",
       "      <th>FACTOR</th>\n",
       "      <th>Year</th>\n",
       "      <th>Consumption Volume</th>\n",
       "      <th>Consumption Value</th>\n",
       "      <th>Production Volume</th>\n",
       "      <th>Production Value</th>\n",
       "      <th>Import Volume</th>\n",
       "      <th>Import Value</th>\n",
       "      <th>Export Volume</th>\n",
       "      <th>Export Value</th>\n",
       "      <th>Import Price</th>\n",
       "      <th>Export Price</th>\n",
       "      <th>Per Capita Consumption</th>\n",
       "    </tr>\n",
       "  </thead>\n",
       "  <tbody>\n",
       "    <tr>\n",
       "      <th>count</th>\n",
       "      <td>9.000000</td>\n",
       "      <td>9.000000</td>\n",
       "      <td>9.000000</td>\n",
       "      <td>9.000000</td>\n",
       "      <td>9.000000</td>\n",
       "      <td>9.000000</td>\n",
       "      <td>9.000000</td>\n",
       "      <td>9.000000</td>\n",
       "      <td>9.000000</td>\n",
       "      <td>9.000000</td>\n",
       "      <td>9.000000</td>\n",
       "      <td>9.000000</td>\n",
       "    </tr>\n",
       "    <tr>\n",
       "      <th>mean</th>\n",
       "      <td>2011.000000</td>\n",
       "      <td>1546.588889</td>\n",
       "      <td>138.933333</td>\n",
       "      <td>2544.888889</td>\n",
       "      <td>211.877778</td>\n",
       "      <td>249.600000</td>\n",
       "      <td>23.988889</td>\n",
       "      <td>1247.844444</td>\n",
       "      <td>114.811111</td>\n",
       "      <td>99.444444</td>\n",
       "      <td>93.388889</td>\n",
       "      <td>340.888889</td>\n",
       "    </tr>\n",
       "    <tr>\n",
       "      <th>std</th>\n",
       "      <td>2.738613</td>\n",
       "      <td>1245.610124</td>\n",
       "      <td>86.375865</td>\n",
       "      <td>906.482687</td>\n",
       "      <td>53.235227</td>\n",
       "      <td>263.742957</td>\n",
       "      <td>23.934726</td>\n",
       "      <td>302.733658</td>\n",
       "      <td>18.922833</td>\n",
       "      <td>12.868383</td>\n",
       "      <td>7.793017</td>\n",
       "      <td>282.572333</td>\n",
       "    </tr>\n",
       "    <tr>\n",
       "      <th>min</th>\n",
       "      <td>2007.000000</td>\n",
       "      <td>48.400000</td>\n",
       "      <td>7.700000</td>\n",
       "      <td>1198.000000</td>\n",
       "      <td>146.700000</td>\n",
       "      <td>89.800000</td>\n",
       "      <td>7.000000</td>\n",
       "      <td>944.600000</td>\n",
       "      <td>94.000000</td>\n",
       "      <td>78.100000</td>\n",
       "      <td>75.600000</td>\n",
       "      <td>10.400000</td>\n",
       "    </tr>\n",
       "    <tr>\n",
       "      <th>25%</th>\n",
       "      <td>2009.000000</td>\n",
       "      <td>667.000000</td>\n",
       "      <td>83.400000</td>\n",
       "      <td>2000.000000</td>\n",
       "      <td>175.100000</td>\n",
       "      <td>92.300000</td>\n",
       "      <td>10.000000</td>\n",
       "      <td>1056.000000</td>\n",
       "      <td>104.700000</td>\n",
       "      <td>88.900000</td>\n",
       "      <td>89.600000</td>\n",
       "      <td>141.900000</td>\n",
       "    </tr>\n",
       "    <tr>\n",
       "      <th>50%</th>\n",
       "      <td>2011.000000</td>\n",
       "      <td>1263.000000</td>\n",
       "      <td>137.100000</td>\n",
       "      <td>2500.000000</td>\n",
       "      <td>209.000000</td>\n",
       "      <td>106.700000</td>\n",
       "      <td>10.900000</td>\n",
       "      <td>1146.000000</td>\n",
       "      <td>110.600000</td>\n",
       "      <td>99.900000</td>\n",
       "      <td>96.500000</td>\n",
       "      <td>270.800000</td>\n",
       "    </tr>\n",
       "    <tr>\n",
       "      <th>75%</th>\n",
       "      <td>2013.000000</td>\n",
       "      <td>1748.000000</td>\n",
       "      <td>160.800000</td>\n",
       "      <td>2600.000000</td>\n",
       "      <td>234.900000</td>\n",
       "      <td>204.100000</td>\n",
       "      <td>23.000000</td>\n",
       "      <td>1240.000000</td>\n",
       "      <td>112.000000</td>\n",
       "      <td>107.800000</td>\n",
       "      <td>97.700000</td>\n",
       "      <td>382.600000</td>\n",
       "    </tr>\n",
       "    <tr>\n",
       "      <th>max</th>\n",
       "      <td>2015.000000</td>\n",
       "      <td>3563.000000</td>\n",
       "      <td>267.400000</td>\n",
       "      <td>4003.000000</td>\n",
       "      <td>323.700000</td>\n",
       "      <td>735.400000</td>\n",
       "      <td>65.500000</td>\n",
       "      <td>1923.000000</td>\n",
       "      <td>148.000000</td>\n",
       "      <td>118.500000</td>\n",
       "      <td>101.200000</td>\n",
       "      <td>810.100000</td>\n",
       "    </tr>\n",
       "  </tbody>\n",
       "</table>\n",
       "</div>"
      ],
      "text/plain": [
       "FACTOR         Year  Consumption Volume  Consumption Value  Production Volume  \\\n",
       "count      9.000000            9.000000           9.000000           9.000000   \n",
       "mean    2011.000000         1546.588889         138.933333        2544.888889   \n",
       "std        2.738613         1245.610124          86.375865         906.482687   \n",
       "min     2007.000000           48.400000           7.700000        1198.000000   \n",
       "25%     2009.000000          667.000000          83.400000        2000.000000   \n",
       "50%     2011.000000         1263.000000         137.100000        2500.000000   \n",
       "75%     2013.000000         1748.000000         160.800000        2600.000000   \n",
       "max     2015.000000         3563.000000         267.400000        4003.000000   \n",
       "\n",
       "FACTOR  Production Value  Import Volume  Import Value  Export Volume  \\\n",
       "count           9.000000       9.000000      9.000000       9.000000   \n",
       "mean          211.877778     249.600000     23.988889    1247.844444   \n",
       "std            53.235227     263.742957     23.934726     302.733658   \n",
       "min           146.700000      89.800000      7.000000     944.600000   \n",
       "25%           175.100000      92.300000     10.000000    1056.000000   \n",
       "50%           209.000000     106.700000     10.900000    1146.000000   \n",
       "75%           234.900000     204.100000     23.000000    1240.000000   \n",
       "max           323.700000     735.400000     65.500000    1923.000000   \n",
       "\n",
       "FACTOR  Export Value  Import Price  Export Price  Per Capita Consumption  \n",
       "count       9.000000      9.000000      9.000000                9.000000  \n",
       "mean      114.811111     99.444444     93.388889              340.888889  \n",
       "std        18.922833     12.868383      7.793017              282.572333  \n",
       "min        94.000000     78.100000     75.600000               10.400000  \n",
       "25%       104.700000     88.900000     89.600000              141.900000  \n",
       "50%       110.600000     99.900000     96.500000              270.800000  \n",
       "75%       112.000000    107.800000     97.700000              382.600000  \n",
       "max       148.000000    118.500000    101.200000              810.100000  "
      ]
     },
     "execution_count": 137,
     "metadata": {},
     "output_type": "execute_result"
    }
   ],
   "source": [
    "ireland_cement.describe()"
   ]
  },
  {
   "cell_type": "markdown",
   "id": "52618742",
   "metadata": {},
   "source": [
    "<b>New dataframe with merged and cleaned cement data (cement_data)"
   ]
  },
  {
   "cell_type": "code",
   "execution_count": 138,
   "id": "ad5a6877",
   "metadata": {
    "scrolled": false
   },
   "outputs": [
    {
     "data": {
      "text/html": [
       "<div>\n",
       "<style scoped>\n",
       "    .dataframe tbody tr th:only-of-type {\n",
       "        vertical-align: middle;\n",
       "    }\n",
       "\n",
       "    .dataframe tbody tr th {\n",
       "        vertical-align: top;\n",
       "    }\n",
       "\n",
       "    .dataframe thead th {\n",
       "        text-align: right;\n",
       "    }\n",
       "</style>\n",
       "<table border=\"1\" class=\"dataframe\">\n",
       "  <thead>\n",
       "    <tr style=\"text-align: right;\">\n",
       "      <th>FACTOR</th>\n",
       "      <th>Year</th>\n",
       "      <th>Consumption Volume</th>\n",
       "      <th>Consumption Value</th>\n",
       "      <th>Production Volume</th>\n",
       "      <th>Production Value</th>\n",
       "      <th>Import Volume</th>\n",
       "      <th>Import Value</th>\n",
       "      <th>Export Volume</th>\n",
       "      <th>Export Value</th>\n",
       "      <th>Import Price</th>\n",
       "      <th>Export Price</th>\n",
       "      <th>Per Capita Consumption</th>\n",
       "      <th>Net Export Volume</th>\n",
       "      <th>Net Export Value</th>\n",
       "      <th>Code</th>\n",
       "    </tr>\n",
       "  </thead>\n",
       "  <tbody>\n",
       "    <tr>\n",
       "      <th>0</th>\n",
       "      <td>2007</td>\n",
       "      <td>3563.0</td>\n",
       "      <td>264.3</td>\n",
       "      <td>4003.0</td>\n",
       "      <td>146.7</td>\n",
       "      <td>684.4</td>\n",
       "      <td>65.5</td>\n",
       "      <td>1124.0</td>\n",
       "      <td>105.5</td>\n",
       "      <td>95.7</td>\n",
       "      <td>93.9</td>\n",
       "      <td>810.1</td>\n",
       "      <td>439.60</td>\n",
       "      <td>40.00</td>\n",
       "      <td>IRL</td>\n",
       "    </tr>\n",
       "    <tr>\n",
       "      <th>1</th>\n",
       "      <td>2008</td>\n",
       "      <td>3489.0</td>\n",
       "      <td>267.4</td>\n",
       "      <td>3900.0</td>\n",
       "      <td>160.2</td>\n",
       "      <td>735.4</td>\n",
       "      <td>65.4</td>\n",
       "      <td>1146.0</td>\n",
       "      <td>112.0</td>\n",
       "      <td>88.9</td>\n",
       "      <td>97.7</td>\n",
       "      <td>777.2</td>\n",
       "      <td>410.80</td>\n",
       "      <td>46.60</td>\n",
       "      <td>IRL</td>\n",
       "    </tr>\n",
       "    <tr>\n",
       "      <th>2</th>\n",
       "      <td>2009</td>\n",
       "      <td>1748.0</td>\n",
       "      <td>159.1</td>\n",
       "      <td>2600.0</td>\n",
       "      <td>175.1</td>\n",
       "      <td>204.1</td>\n",
       "      <td>23.0</td>\n",
       "      <td>1056.0</td>\n",
       "      <td>101.9</td>\n",
       "      <td>112.6</td>\n",
       "      <td>96.5</td>\n",
       "      <td>382.6</td>\n",
       "      <td>852.00</td>\n",
       "      <td>78.90</td>\n",
       "      <td>IRL</td>\n",
       "    </tr>\n",
       "    <tr>\n",
       "      <th>3</th>\n",
       "      <td>2010</td>\n",
       "      <td>1704.0</td>\n",
       "      <td>160.8</td>\n",
       "      <td>2600.0</td>\n",
       "      <td>191.3</td>\n",
       "      <td>138.7</td>\n",
       "      <td>13.9</td>\n",
       "      <td>1035.0</td>\n",
       "      <td>104.7</td>\n",
       "      <td>99.9</td>\n",
       "      <td>101.2</td>\n",
       "      <td>368.2</td>\n",
       "      <td>896.50</td>\n",
       "      <td>90.90</td>\n",
       "      <td>IRL</td>\n",
       "    </tr>\n",
       "    <tr>\n",
       "      <th>4</th>\n",
       "      <td>2011</td>\n",
       "      <td>1263.0</td>\n",
       "      <td>137.1</td>\n",
       "      <td>2103.0</td>\n",
       "      <td>209.0</td>\n",
       "      <td>104.3</td>\n",
       "      <td>10.9</td>\n",
       "      <td>944.6</td>\n",
       "      <td>94.0</td>\n",
       "      <td>104.6</td>\n",
       "      <td>99.5</td>\n",
       "      <td>270.8</td>\n",
       "      <td>840.30</td>\n",
       "      <td>83.10</td>\n",
       "      <td>IRL</td>\n",
       "    </tr>\n",
       "    <tr>\n",
       "      <th>...</th>\n",
       "      <td>...</td>\n",
       "      <td>...</td>\n",
       "      <td>...</td>\n",
       "      <td>...</td>\n",
       "      <td>...</td>\n",
       "      <td>...</td>\n",
       "      <td>...</td>\n",
       "      <td>...</td>\n",
       "      <td>...</td>\n",
       "      <td>...</td>\n",
       "      <td>...</td>\n",
       "      <td>...</td>\n",
       "      <td>...</td>\n",
       "      <td>...</td>\n",
       "      <td>...</td>\n",
       "    </tr>\n",
       "    <tr>\n",
       "      <th>85</th>\n",
       "      <td>2011</td>\n",
       "      <td>65043.0</td>\n",
       "      <td>4129.0</td>\n",
       "      <td>66000.0</td>\n",
       "      <td>3394.0</td>\n",
       "      <td>9.0</td>\n",
       "      <td>7.0</td>\n",
       "      <td>965.9</td>\n",
       "      <td>60.4</td>\n",
       "      <td>773.8</td>\n",
       "      <td>62.5</td>\n",
       "      <td>861.6</td>\n",
       "      <td>956.9</td>\n",
       "      <td>53.4</td>\n",
       "      <td>IRN</td>\n",
       "    </tr>\n",
       "    <tr>\n",
       "      <th>86</th>\n",
       "      <td>2012</td>\n",
       "      <td>69023.0</td>\n",
       "      <td>4610.0</td>\n",
       "      <td>70250.0</td>\n",
       "      <td>3903.0</td>\n",
       "      <td>31.7</td>\n",
       "      <td>6.0</td>\n",
       "      <td>1258.0</td>\n",
       "      <td>78.7</td>\n",
       "      <td>189.3</td>\n",
       "      <td>62.5</td>\n",
       "      <td>902.8</td>\n",
       "      <td>1227</td>\n",
       "      <td>72.7</td>\n",
       "      <td>IRN</td>\n",
       "    </tr>\n",
       "    <tr>\n",
       "      <th>87</th>\n",
       "      <td>2013</td>\n",
       "      <td>66773.0</td>\n",
       "      <td>4984.0</td>\n",
       "      <td>68700.0</td>\n",
       "      <td>4489.0</td>\n",
       "      <td>41.1</td>\n",
       "      <td>13.6</td>\n",
       "      <td>1968.0</td>\n",
       "      <td>117.2</td>\n",
       "      <td>330.6</td>\n",
       "      <td>59.6</td>\n",
       "      <td>862.3</td>\n",
       "      <td>1927</td>\n",
       "      <td>103.7</td>\n",
       "      <td>IRN</td>\n",
       "    </tr>\n",
       "    <tr>\n",
       "      <th>88</th>\n",
       "      <td>2014</td>\n",
       "      <td>62749.0</td>\n",
       "      <td>5290.0</td>\n",
       "      <td>66700.0</td>\n",
       "      <td>5162.0</td>\n",
       "      <td>47.9</td>\n",
       "      <td>10.8</td>\n",
       "      <td>3999.0</td>\n",
       "      <td>297.8</td>\n",
       "      <td>225.8</td>\n",
       "      <td>74.5</td>\n",
       "      <td>800.3</td>\n",
       "      <td>3951</td>\n",
       "      <td>286.9</td>\n",
       "      <td>IRN</td>\n",
       "    </tr>\n",
       "    <tr>\n",
       "      <th>89</th>\n",
       "      <td>2015</td>\n",
       "      <td>49749.0</td>\n",
       "      <td>5148.0</td>\n",
       "      <td>58600.0</td>\n",
       "      <td>5936.0</td>\n",
       "      <td>31.2</td>\n",
       "      <td>8.6</td>\n",
       "      <td>8883.0</td>\n",
       "      <td>530.6</td>\n",
       "      <td>275.3</td>\n",
       "      <td>59.7</td>\n",
       "      <td>626.9</td>\n",
       "      <td>8851</td>\n",
       "      <td>522</td>\n",
       "      <td>IRN</td>\n",
       "    </tr>\n",
       "  </tbody>\n",
       "</table>\n",
       "<p>90 rows × 15 columns</p>\n",
       "</div>"
      ],
      "text/plain": [
       "FACTOR  Year  Consumption Volume  Consumption Value  Production Volume  \\\n",
       "0       2007              3563.0              264.3             4003.0   \n",
       "1       2008              3489.0              267.4             3900.0   \n",
       "2       2009              1748.0              159.1             2600.0   \n",
       "3       2010              1704.0              160.8             2600.0   \n",
       "4       2011              1263.0              137.1             2103.0   \n",
       "..       ...                 ...                ...                ...   \n",
       "85      2011             65043.0             4129.0            66000.0   \n",
       "86      2012             69023.0             4610.0            70250.0   \n",
       "87      2013             66773.0             4984.0            68700.0   \n",
       "88      2014             62749.0             5290.0            66700.0   \n",
       "89      2015             49749.0             5148.0            58600.0   \n",
       "\n",
       "FACTOR  Production Value  Import Volume  Import Value  Export Volume  \\\n",
       "0                  146.7          684.4          65.5         1124.0   \n",
       "1                  160.2          735.4          65.4         1146.0   \n",
       "2                  175.1          204.1          23.0         1056.0   \n",
       "3                  191.3          138.7          13.9         1035.0   \n",
       "4                  209.0          104.3          10.9          944.6   \n",
       "..                   ...            ...           ...            ...   \n",
       "85                3394.0            9.0           7.0          965.9   \n",
       "86                3903.0           31.7           6.0         1258.0   \n",
       "87                4489.0           41.1          13.6         1968.0   \n",
       "88                5162.0           47.9          10.8         3999.0   \n",
       "89                5936.0           31.2           8.6         8883.0   \n",
       "\n",
       "FACTOR  Export Value  Import Price  Export Price  Per Capita Consumption  \\\n",
       "0              105.5          95.7          93.9                   810.1   \n",
       "1              112.0          88.9          97.7                   777.2   \n",
       "2              101.9         112.6          96.5                   382.6   \n",
       "3              104.7          99.9         101.2                   368.2   \n",
       "4               94.0         104.6          99.5                   270.8   \n",
       "..               ...           ...           ...                     ...   \n",
       "85              60.4         773.8          62.5                   861.6   \n",
       "86              78.7         189.3          62.5                   902.8   \n",
       "87             117.2         330.6          59.6                   862.3   \n",
       "88             297.8         225.8          74.5                   800.3   \n",
       "89             530.6         275.3          59.7                   626.9   \n",
       "\n",
       "FACTOR Net Export Volume Net Export Value Code  \n",
       "0                 439.60            40.00  IRL  \n",
       "1                 410.80            46.60  IRL  \n",
       "2                 852.00            78.90  IRL  \n",
       "3                 896.50            90.90  IRL  \n",
       "4                 840.30            83.10  IRL  \n",
       "..                   ...              ...  ...  \n",
       "85                 956.9             53.4  IRN  \n",
       "86                  1227             72.7  IRN  \n",
       "87                  1927            103.7  IRN  \n",
       "88                  3951            286.9  IRN  \n",
       "89                  8851              522  IRN  \n",
       "\n",
       "[90 rows x 15 columns]"
      ]
     },
     "execution_count": 138,
     "metadata": {},
     "output_type": "execute_result"
    }
   ],
   "source": [
    "# Merge data\n",
    "\n",
    "cement_merge = pd.merge(ireland_cement,usa_cement, how=\"outer\")\n",
    "cement_merge = pd.merge(cement_merge,brazil_cement, how=\"outer\")\n",
    "cement_merge = pd.merge(cement_merge,china_cement, how=\"outer\")\n",
    "cement_merge = pd.merge(cement_merge,germany_cement, how=\"outer\")\n",
    "cement_merge = pd.merge(cement_merge,russia_cement, how=\"outer\")\n",
    "cement_merge = pd.merge(cement_merge,australia_cement, how=\"outer\")\n",
    "cement_merge = pd.merge(cement_merge,vietnam_cement, how=\"outer\")\n",
    "cement_merge = pd.merge(cement_merge,japan_cement, how=\"outer\")\n",
    "cement_merge = pd.merge(cement_merge,iran_cement, how=\"outer\")\n",
    "\n",
    "cement_merge"
   ]
  },
  {
   "cell_type": "code",
   "execution_count": 139,
   "id": "33f02881",
   "metadata": {},
   "outputs": [
    {
     "name": "stdout",
     "output_type": "stream",
     "text": [
      "<class 'pandas.core.frame.DataFrame'>\n",
      "Int64Index: 90 entries, 0 to 89\n",
      "Data columns (total 15 columns):\n",
      " #   Column                  Non-Null Count  Dtype  \n",
      "---  ------                  --------------  -----  \n",
      " 0   Year                    90 non-null     int64  \n",
      " 1   Consumption Volume      90 non-null     float64\n",
      " 2   Consumption Value       90 non-null     float64\n",
      " 3   Production Volume       90 non-null     float64\n",
      " 4   Production Value        90 non-null     float64\n",
      " 5   Import Volume           90 non-null     float64\n",
      " 6   Import Value            90 non-null     float64\n",
      " 7   Export Volume           90 non-null     float64\n",
      " 8   Export Value            90 non-null     float64\n",
      " 9   Import Price            90 non-null     float64\n",
      " 10  Export Price            90 non-null     float64\n",
      " 11  Per Capita Consumption  90 non-null     float64\n",
      " 12  Net Export Volume       90 non-null     object \n",
      " 13  Net Export Value        90 non-null     object \n",
      " 14  Code                    90 non-null     object \n",
      "dtypes: float64(11), int64(1), object(3)\n",
      "memory usage: 11.2+ KB\n"
     ]
    }
   ],
   "source": [
    "# Check data type\n",
    "\n",
    "cement_merge.info()"
   ]
  },
  {
   "cell_type": "markdown",
   "id": "0cf966b8",
   "metadata": {},
   "source": [
    "### Interactive and Static charts"
   ]
  },
  {
   "cell_type": "code",
   "execution_count": 141,
   "id": "8897c77a",
   "metadata": {},
   "outputs": [
    {
     "data": {
      "image/png": "[encoded data removed]",
      "text/plain": [
       "<Figure size 2000x400 with 1 Axes>"
      ]
     },
     "metadata": {},
     "output_type": "display_data"
    }
   ],
   "source": [
    "# Plot Cement Consumption Volume (Thousand tons) \n",
    "# Create figure and set of subplots\n",
    "fig, ax = plt.subplots()\n",
    "\n",
    "ax.plot(cement_merge[cement_merge[\"Code\"]==\"IRL\"][\"Year\"], cement_merge[cement_merge[\"Code\"]==\"IRL\"][\"Consumption Volume\"], label=\"Ireland\")\n",
    "ax.plot(cement_merge[cement_merge[\"Code\"]==\"USA\"][\"Year\"], cement_merge[cement_merge[\"Code\"]==\"USA\"][\"Consumption Volume\"], label=\"United States\")\n",
    "ax.plot(cement_merge[cement_merge[\"Code\"]==\"BRA\"][\"Year\"], cement_merge[cement_merge[\"Code\"]==\"BRA\"][\"Consumption Volume\"], label=\"Brazil\")\n",
    "ax.plot(cement_merge[cement_merge[\"Code\"]==\"CHN\"][\"Year\"], cement_merge[cement_merge[\"Code\"]==\"CHN\"][\"Consumption Volume\"], label=\"China\")\n",
    "ax.plot(cement_merge[cement_merge[\"Code\"]==\"DEU\"][\"Year\"], cement_merge[cement_merge[\"Code\"]==\"DEU\"][\"Consumption Volume\"], label=\"Germany\")\n",
    "ax.plot(cement_merge[cement_merge[\"Code\"]==\"RUS\"][\"Year\"], cement_merge[cement_merge[\"Code\"]==\"RUS\"][\"Consumption Volume\"], label=\"Russia\")\n",
    "ax.plot(cement_merge[cement_merge[\"Code\"]==\"AUS\"][\"Year\"], cement_merge[cement_merge[\"Code\"]==\"AUS\"][\"Consumption Volume\"], label=\"Australia\")\n",
    "ax.plot(cement_merge[cement_merge[\"Code\"]==\"VNM\"][\"Year\"], cement_merge[cement_merge[\"Code\"]==\"VNM\"][\"Consumption Volume\"], label=\"Vietnam\")\n",
    "ax.plot(cement_merge[cement_merge[\"Code\"]==\"JPN\"][\"Year\"], cement_merge[cement_merge[\"Code\"]==\"JPN\"][\"Consumption Volume\"], label=\"Japan\")\n",
    "ax.plot(cement_merge[cement_merge[\"Code\"]==\"IRN\"][\"Year\"], cement_merge[cement_merge[\"Code\"]==\"IRN\"][\"Consumption Volume\"], label=\"Iran\")\n",
    "\n",
    "\n",
    "# Config graphic\n",
    "plt.rc(\"figure\", autolayout=True, figsize=(20, 4))\n",
    "plt.title(\"Cement Consumption Volume (Thousand tons) from 2007 to 2015\")\n",
    "plt.xlabel(\"Year\")\n",
    "plt.ylabel(\"Thousand tons\")\n",
    "plt.xticks(rotation=45)\n",
    "ax.legend(loc='center left', bbox_to_anchor=(1, 0.5))\n",
    "\n",
    "# Display graphic\n",
    "plt.show()"
   ]
  },
  {
   "cell_type": "code",
   "execution_count": 142,
   "id": "36dc21e5",
   "metadata": {
    "scrolled": false
   },
   "outputs": [
    {
     "data": {
      "image/png": "[encoded data removed]",
      "text/plain": [
       "<Figure size 2000x400 with 1 Axes>"
      ]
     },
     "metadata": {},
     "output_type": "display_data"
    }
   ],
   "source": [
    "# Plot Cement Consumption Volume (Thousand tons) excluding China\n",
    "# Create figure and set of subplots\n",
    "fig, ax = plt.subplots()\n",
    "\n",
    "ax.plot(cement_merge[cement_merge[\"Code\"]==\"IRL\"][\"Year\"], cement_merge[cement_merge[\"Code\"]==\"IRL\"][\"Consumption Volume\"], label=\"Ireland\")\n",
    "ax.plot(cement_merge[cement_merge[\"Code\"]==\"USA\"][\"Year\"], cement_merge[cement_merge[\"Code\"]==\"USA\"][\"Consumption Volume\"], label=\"United States\")\n",
    "ax.plot(cement_merge[cement_merge[\"Code\"]==\"BRA\"][\"Year\"], cement_merge[cement_merge[\"Code\"]==\"BRA\"][\"Consumption Volume\"], label=\"Brazil\")\n",
    "#ax.plot(cement_merge[cement_merge[\"Code\"]==\"CHN\"][\"Year\"], cement_merge[cement_merge[\"Code\"]==\"CHN\"][\"Consumption Volume\"], label=\"China\")\n",
    "ax.plot(cement_merge[cement_merge[\"Code\"]==\"DEU\"][\"Year\"], cement_merge[cement_merge[\"Code\"]==\"DEU\"][\"Consumption Volume\"], label=\"Germany\")\n",
    "ax.plot(cement_merge[cement_merge[\"Code\"]==\"RUS\"][\"Year\"], cement_merge[cement_merge[\"Code\"]==\"RUS\"][\"Consumption Volume\"], label=\"Russia\")\n",
    "ax.plot(cement_merge[cement_merge[\"Code\"]==\"AUS\"][\"Year\"], cement_merge[cement_merge[\"Code\"]==\"AUS\"][\"Consumption Volume\"], label=\"Australia\")\n",
    "ax.plot(cement_merge[cement_merge[\"Code\"]==\"VNM\"][\"Year\"], cement_merge[cement_merge[\"Code\"]==\"VNM\"][\"Consumption Volume\"], label=\"Vietnam\")\n",
    "ax.plot(cement_merge[cement_merge[\"Code\"]==\"JPN\"][\"Year\"], cement_merge[cement_merge[\"Code\"]==\"JPN\"][\"Consumption Volume\"], label=\"Japan\")\n",
    "ax.plot(cement_merge[cement_merge[\"Code\"]==\"IRN\"][\"Year\"], cement_merge[cement_merge[\"Code\"]==\"IRN\"][\"Consumption Volume\"], label=\"Iran\")\n",
    "\n",
    "\n",
    "# Config graphic\n",
    "plt.rc(\"figure\", autolayout=True, figsize=(20, 4))\n",
    "plt.title(\"Cement Consumption Volume (Thousand tons) from 2007 to 2015\")\n",
    "plt.xlabel(\"Year\")\n",
    "plt.ylabel(\"Thousand tons\")\n",
    "plt.xticks(rotation=45)\n",
    "ax.legend(loc='center left', bbox_to_anchor=(1, 0.5))\n",
    "\n",
    "# Display graphic\n",
    "plt.show()"
   ]
  },
  {
   "cell_type": "code",
   "execution_count": 143,
   "id": "7390e0d1",
   "metadata": {
    "scrolled": false
   },
   "outputs": [
    {
     "data": {
      "application/vnd.plotly.v1+json": {
       "config": {
        "plotlyServerURL": "https://plot.ly"
       },
       "data": [
        {
         "coloraxis": "coloraxis",
         "geo": "geo",
         "hovertemplate": "<b>%{hovertext}</b><br><br>Year=2007<br>Code=%{location}<br>Production Value=%{z}<extra></extra>",
         "hovertext": [
          "IRL",
          "USA",
          "BRA",
          "CHN",
          "DEU",
          "RUS",
          "AUS",
          "VNM",
          "JPN",
          "IRN"
         ],
         "locations": [
          "IRL",
          "USA",
          "BRA",
          "CHN",
          "DEU",
          "RUS",
          "AUS",
          "VNM",
          "JPN",
          "IRN"
         ],
         "name": "",
         "type": "choropleth",
         "z": [
          146.7,
          10153,
          3802,
          54201,
          2644,
          6146,
          2333,
          4297,
          138.6,
          1588
         ]
        }
       ],
       "frames": [
        {
         "data": [
          {
           "coloraxis": "coloraxis",
           "geo": "geo",
           "hovertemplate": "<b>%{hovertext}</b><br><br>Year=2007<br>Code=%{location}<br>Production Value=%{z}<extra></extra>",
           "hovertext": [
            "IRL",
            "USA",
            "BRA",
            "CHN",
            "DEU",
            "RUS",
            "AUS",
            "VNM",
            "JPN",
            "IRN"
           ],
           "locations": [
            "IRL",
            "USA",
            "BRA",
            "CHN",
            "DEU",
            "RUS",
            "AUS",
            "VNM",
            "JPN",
            "IRN"
           ],
           "name": "",
           "type": "choropleth",
           "z": [
            146.7,
            10153,
            3802,
            54201,
            2644,
            6146,
            2333,
            4297,
            138.6,
            1588
           ]
          }
         ],
         "name": "2007"
        },
        {
         "data": [
          {
           "coloraxis": "coloraxis",
           "geo": "geo",
           "hovertemplate": "<b>%{hovertext}</b><br><br>Year=2008<br>Code=%{location}<br>Production Value=%{z}<extra></extra>",
           "hovertext": [
            "IRL",
            "USA",
            "BRA",
            "CHN",
            "DEU",
            "RUS",
            "AUS",
            "VNM",
            "JPN",
            "IRN"
           ],
           "locations": [
            "IRL",
            "USA",
            "BRA",
            "CHN",
            "DEU",
            "RUS",
            "AUS",
            "VNM",
            "JPN",
            "IRN"
           ],
           "name": "",
           "type": "choropleth",
           "z": [
            160.2,
            8915,
            5478,
            66718,
            2665,
            7563,
            3041,
            4209,
            170,
            2233
           ]
          }
         ],
         "name": "2008"
        },
        {
         "data": [
          {
           "coloraxis": "coloraxis",
           "geo": "geo",
           "hovertemplate": "<b>%{hovertext}</b><br><br>Year=2009<br>Code=%{location}<br>Production Value=%{z}<extra></extra>",
           "hovertext": [
            "IRL",
            "USA",
            "BRA",
            "CHN",
            "DEU",
            "RUS",
            "AUS",
            "VNM",
            "JPN",
            "IRN"
           ],
           "locations": [
            "IRL",
            "USA",
            "BRA",
            "CHN",
            "DEU",
            "RUS",
            "AUS",
            "VNM",
            "JPN",
            "IRN"
           ],
           "name": "",
           "type": "choropleth",
           "z": [
            175.1,
            5568,
            5086,
            82445,
            2687,
            3832,
            2836,
            4596,
            190.9,
            2559
           ]
          }
         ],
         "name": "2009"
        },
        {
         "data": [
          {
           "coloraxis": "coloraxis",
           "geo": "geo",
           "hovertemplate": "<b>%{hovertext}</b><br><br>Year=2010<br>Code=%{location}<br>Production Value=%{z}<extra></extra>",
           "hovertext": [
            "IRL",
            "USA",
            "BRA",
            "CHN",
            "DEU",
            "RUS",
            "AUS",
            "VNM",
            "JPN",
            "IRN"
           ],
           "locations": [
            "IRL",
            "USA",
            "BRA",
            "CHN",
            "DEU",
            "RUS",
            "AUS",
            "VNM",
            "JPN",
            "IRN"
           ],
           "name": "",
           "type": "choropleth",
           "z": [
            191.3,
            5064,
            6714,
            94894,
            2483,
            4142,
            2940,
            4987,
            203.8,
            2885
           ]
          }
         ],
         "name": "2010"
        },
        {
         "data": [
          {
           "coloraxis": "coloraxis",
           "geo": "geo",
           "hovertemplate": "<b>%{hovertext}</b><br><br>Year=2011<br>Code=%{location}<br>Production Value=%{z}<extra></extra>",
           "hovertext": [
            "IRL",
            "USA",
            "BRA",
            "CHN",
            "DEU",
            "RUS",
            "AUS",
            "VNM",
            "JPN",
            "IRN"
           ],
           "locations": [
            "IRL",
            "USA",
            "BRA",
            "CHN",
            "DEU",
            "RUS",
            "AUS",
            "VNM",
            "JPN",
            "IRN"
           ],
           "name": "",
           "type": "choropleth",
           "z": [
            209,
            5278,
            8250,
            126356,
            2975,
            5279,
            3423,
            4967,
            276.3,
            3394
           ]
          }
         ],
         "name": "2011"
        },
        {
         "data": [
          {
           "coloraxis": "coloraxis",
           "geo": "geo",
           "hovertemplate": "<b>%{hovertext}</b><br><br>Year=2012<br>Code=%{location}<br>Production Value=%{z}<extra></extra>",
           "hovertext": [
            "IRL",
            "USA",
            "BRA",
            "CHN",
            "DEU",
            "RUS",
            "AUS",
            "VNM",
            "JPN",
            "IRN"
           ],
           "locations": [
            "IRL",
            "USA",
            "BRA",
            "CHN",
            "DEU",
            "RUS",
            "AUS",
            "VNM",
            "JPN",
            "IRN"
           ],
           "name": "",
           "type": "choropleth",
           "z": [
            228.4,
            5661,
            7631,
            134256,
            2660,
            6434,
            2879,
            3603,
            280.4,
            3903
           ]
          }
         ],
         "name": "2012"
        },
        {
         "data": [
          {
           "coloraxis": "coloraxis",
           "geo": "geo",
           "hovertemplate": "<b>%{hovertext}</b><br><br>Year=2013<br>Code=%{location}<br>Production Value=%{z}<extra></extra>",
           "hovertext": [
            "IRL",
            "USA",
            "BRA",
            "CHN",
            "DEU",
            "RUS",
            "AUS",
            "VNM",
            "JPN",
            "IRN"
           ],
           "locations": [
            "IRL",
            "USA",
            "BRA",
            "CHN",
            "DEU",
            "RUS",
            "AUS",
            "VNM",
            "JPN",
            "IRN"
           ],
           "name": "",
           "type": "choropleth",
           "z": [
            234.9,
            6506,
            7690,
            140297,
            2709,
            6999,
            2631,
            4505,
            243.5,
            4489
           ]
          }
         ],
         "name": "2013"
        },
        {
         "data": [
          {
           "coloraxis": "coloraxis",
           "geo": "geo",
           "hovertemplate": "<b>%{hovertext}</b><br><br>Year=2014<br>Code=%{location}<br>Production Value=%{z}<extra></extra>",
           "hovertext": [
            "IRL",
            "USA",
            "BRA",
            "CHN",
            "DEU",
            "RUS",
            "AUS",
            "VNM",
            "JPN",
            "IRN"
           ],
           "locations": [
            "IRL",
            "USA",
            "BRA",
            "CHN",
            "DEU",
            "RUS",
            "AUS",
            "VNM",
            "JPN",
            "IRN"
           ],
           "name": "",
           "type": "choropleth",
           "z": [
            237.6,
            6956,
            7801,
            148660,
            2820,
            5748,
            4047,
            4658,
            244.4,
            5162
           ]
          }
         ],
         "name": "2014"
        },
        {
         "data": [
          {
           "coloraxis": "coloraxis",
           "geo": "geo",
           "hovertemplate": "<b>%{hovertext}</b><br><br>Year=2015<br>Code=%{location}<br>Production Value=%{z}<extra></extra>",
           "hovertext": [
            "IRL",
            "USA",
            "BRA",
            "CHN",
            "DEU",
            "RUS",
            "AUS",
            "VNM",
            "JPN",
            "IRN"
           ],
           "locations": [
            "IRL",
            "USA",
            "BRA",
            "CHN",
            "DEU",
            "RUS",
            "AUS",
            "VNM",
            "JPN",
            "IRN"
           ],
           "name": "",
           "type": "choropleth",
           "z": [
            323.7,
            7800,
            4927,
            136866,
            2322,
            3286,
            2530,
            5269,
            233.5,
            5936
           ]
          }
         ],
         "name": "2015"
        }
       ],
       "layout": {
        "coloraxis": {
         "colorbar": {
          "title": {
           "text": "Production Value"
          }
         },
         "colorscale": [
          [
           0,
           "rgb(240,240,240)"
          ],
          [
           0.1,
           "rgb(252, 244, 83)"
          ],
          [
           0.2,
           "rgb(255, 145, 36)"
          ],
          [
           0.5,
           "rgb(255, 85, 28)"
          ],
          [
           1,
           "rgb(227,26,28,0.5)"
          ]
         ]
        },
        "geo": {
         "center": {},
         "domain": {
          "x": [
           0,
           1
          ],
          "y": [
           0,
           1
          ]
         },
         "projection": {
          "type": "natural earth"
         }
        },
        "legend": {
         "tracegroupgap": 0
        },
        "margin": {
         "t": 60
        },
        "sliders": [
         {
          "active": 0,
          "currentvalue": {
           "prefix": "Year="
          },
          "len": 0.9,
          "pad": {
           "b": 10,
           "t": 60
          },
          "steps": [
           {
            "args": [
             [
              "2007"
             ],
             {
              "frame": {
               "duration": 0,
               "redraw": true
              },
              "fromcurrent": true,
              "mode": "immediate",
              "transition": {
               "duration": 0,
               "easing": "linear"
              }
             }
            ],
            "label": "2007",
            "method": "animate"
           },
           {
            "args": [
             [
              "2008"
             ],
             {
              "frame": {
               "duration": 0,
               "redraw": true
              },
              "fromcurrent": true,
              "mode": "immediate",
              "transition": {
               "duration": 0,
               "easing": "linear"
              }
             }
            ],
            "label": "2008",
            "method": "animate"
           },
           {
            "args": [
             [
              "2009"
             ],
             {
              "frame": {
               "duration": 0,
               "redraw": true
              },
              "fromcurrent": true,
              "mode": "immediate",
              "transition": {
               "duration": 0,
               "easing": "linear"
              }
             }
            ],
            "label": "2009",
            "method": "animate"
           },
           {
            "args": [
             [
              "2010"
             ],
             {
              "frame": {
               "duration": 0,
               "redraw": true
              },
              "fromcurrent": true,
              "mode": "immediate",
              "transition": {
               "duration": 0,
               "easing": "linear"
              }
             }
            ],
            "label": "2010",
            "method": "animate"
           },
           {
            "args": [
             [
              "2011"
             ],
             {
              "frame": {
               "duration": 0,
               "redraw": true
              },
              "fromcurrent": true,
              "mode": "immediate",
              "transition": {
               "duration": 0,
               "easing": "linear"
              }
             }
            ],
            "label": "2011",
            "method": "animate"
           },
           {
            "args": [
             [
              "2012"
             ],
             {
              "frame": {
               "duration": 0,
               "redraw": true
              },
              "fromcurrent": true,
              "mode": "immediate",
              "transition": {
               "duration": 0,
               "easing": "linear"
              }
             }
            ],
            "label": "2012",
            "method": "animate"
           },
           {
            "args": [
             [
              "2013"
             ],
             {
              "frame": {
               "duration": 0,
               "redraw": true
              },
              "fromcurrent": true,
              "mode": "immediate",
              "transition": {
               "duration": 0,
               "easing": "linear"
              }
             }
            ],
            "label": "2013",
            "method": "animate"
           },
           {
            "args": [
             [
              "2014"
             ],
             {
              "frame": {
               "duration": 0,
               "redraw": true
              },
              "fromcurrent": true,
              "mode": "immediate",
              "transition": {
               "duration": 0,
               "easing": "linear"
              }
             }
            ],
            "label": "2014",
            "method": "animate"
           },
           {
            "args": [
             [
              "2015"
             ],
             {
              "frame": {
               "duration": 0,
               "redraw": true
              },
              "fromcurrent": true,
              "mode": "immediate",
              "transition": {
               "duration": 0,
               "easing": "linear"
              }
             }
            ],
            "label": "2015",
            "method": "animate"
           }
          ],
          "x": 0.1,
          "xanchor": "left",
          "y": 0,
          "yanchor": "top"
         }
        ],
        "template": {
         "data": {
          "bar": [
           {
            "error_x": {
             "color": "#2a3f5f"
            },
            "error_y": {
             "color": "#2a3f5f"
            },
            "marker": {
             "line": {
              "color": "#E5ECF6",
              "width": 0.5
             },
             "pattern": {
              "fillmode": "overlay",
              "size": 10,
              "solidity": 0.2
             }
            },
            "type": "bar"
           }
          ],
          "barpolar": [
           {
            "marker": {
             "line": {
              "color": "#E5ECF6",
              "width": 0.5
             },
             "pattern": {
              "fillmode": "overlay",
              "size": 10,
              "solidity": 0.2
             }
            },
            "type": "barpolar"
           }
          ],
          "carpet": [
           {
            "aaxis": {
             "endlinecolor": "#2a3f5f",
             "gridcolor": "white",
             "linecolor": "white",
             "minorgridcolor": "white",
             "startlinecolor": "#2a3f5f"
            },
            "baxis": {
             "endlinecolor": "#2a3f5f",
             "gridcolor": "white",
             "linecolor": "white",
             "minorgridcolor": "white",
             "startlinecolor": "#2a3f5f"
            },
            "type": "carpet"
           }
          ],
          "choropleth": [
           {
            "colorbar": {
             "outlinewidth": 0,
             "ticks": ""
            },
            "type": "choropleth"
           }
          ],
          "contour": [
           {
            "colorbar": {
             "outlinewidth": 0,
             "ticks": ""
            },
            "colorscale": [
             [
              0,
              "#0d0887"
             ],
             [
              0.1111111111111111,
              "#46039f"
             ],
             [
              0.2222222222222222,
              "#7201a8"
             ],
             [
              0.3333333333333333,
              "#9c179e"
             ],
             [
              0.4444444444444444,
              "#bd3786"
             ],
             [
              0.5555555555555556,
              "#d8576b"
             ],
             [
              0.6666666666666666,
              "#ed7953"
             ],
             [
              0.7777777777777778,
              "#fb9f3a"
             ],
             [
              0.8888888888888888,
              "#fdca26"
             ],
             [
              1,
              "#f0f921"
             ]
            ],
            "type": "contour"
           }
          ],
          "contourcarpet": [
           {
            "colorbar": {
             "outlinewidth": 0,
             "ticks": ""
            },
            "type": "contourcarpet"
           }
          ],
          "heatmap": [
           {
            "colorbar": {
             "outlinewidth": 0,
             "ticks": ""
            },
            "colorscale": [
             [
              0,
              "#0d0887"
             ],
             [
              0.1111111111111111,
              "#46039f"
             ],
             [
              0.2222222222222222,
              "#7201a8"
             ],
             [
              0.3333333333333333,
              "#9c179e"
             ],
             [
              0.4444444444444444,
              "#bd3786"
             ],
             [
              0.5555555555555556,
              "#d8576b"
             ],
             [
              0.6666666666666666,
              "#ed7953"
             ],
             [
              0.7777777777777778,
              "#fb9f3a"
             ],
             [
              0.8888888888888888,
              "#fdca26"
             ],
             [
              1,
              "#f0f921"
             ]
            ],
            "type": "heatmap"
           }
          ],
          "heatmapgl": [
           {
            "colorbar": {
             "outlinewidth": 0,
             "ticks": ""
            },
            "colorscale": [
             [
              0,
              "#0d0887"
             ],
             [
              0.1111111111111111,
              "#46039f"
             ],
             [
              0.2222222222222222,
              "#7201a8"
             ],
             [
              0.3333333333333333,
              "#9c179e"
             ],
             [
              0.4444444444444444,
              "#bd3786"
             ],
             [
              0.5555555555555556,
              "#d8576b"
             ],
             [
              0.6666666666666666,
              "#ed7953"
             ],
             [
              0.7777777777777778,
              "#fb9f3a"
             ],
             [
              0.8888888888888888,
              "#fdca26"
             ],
             [
              1,
              "#f0f921"
             ]
            ],
            "type": "heatmapgl"
           }
          ],
          "histogram": [
           {
            "marker": {
             "pattern": {
              "fillmode": "overlay",
              "size": 10,
              "solidity": 0.2
             }
            },
            "type": "histogram"
           }
          ],
          "histogram2d": [
           {
            "colorbar": {
             "outlinewidth": 0,
             "ticks": ""
            },
            "colorscale": [
             [
              0,
              "#0d0887"
             ],
             [
              0.1111111111111111,
              "#46039f"
             ],
             [
              0.2222222222222222,
              "#7201a8"
             ],
             [
              0.3333333333333333,
              "#9c179e"
             ],
             [
              0.4444444444444444,
              "#bd3786"
             ],
             [
              0.5555555555555556,
              "#d8576b"
             ],
             [
              0.6666666666666666,
              "#ed7953"
             ],
             [
              0.7777777777777778,
              "#fb9f3a"
             ],
             [
              0.8888888888888888,
              "#fdca26"
             ],
             [
              1,
              "#f0f921"
             ]
            ],
            "type": "histogram2d"
           }
          ],
          "histogram2dcontour": [
           {
            "colorbar": {
             "outlinewidth": 0,
             "ticks": ""
            },
            "colorscale": [
             [
              0,
              "#0d0887"
             ],
             [
              0.1111111111111111,
              "#46039f"
             ],
             [
              0.2222222222222222,
              "#7201a8"
             ],
             [
              0.3333333333333333,
              "#9c179e"
             ],
             [
              0.4444444444444444,
              "#bd3786"
             ],
             [
              0.5555555555555556,
              "#d8576b"
             ],
             [
              0.6666666666666666,
              "#ed7953"
             ],
             [
              0.7777777777777778,
              "#fb9f3a"
             ],
             [
              0.8888888888888888,
              "#fdca26"
             ],
             [
              1,
              "#f0f921"
             ]
            ],
            "type": "histogram2dcontour"
           }
          ],
          "mesh3d": [
           {
            "colorbar": {
             "outlinewidth": 0,
             "ticks": ""
            },
            "type": "mesh3d"
           }
          ],
          "parcoords": [
           {
            "line": {
             "colorbar": {
              "outlinewidth": 0,
              "ticks": ""
             }
            },
            "type": "parcoords"
           }
          ],
          "pie": [
           {
            "automargin": true,
            "type": "pie"
           }
          ],
          "scatter": [
           {
            "fillpattern": {
             "fillmode": "overlay",
             "size": 10,
             "solidity": 0.2
            },
            "type": "scatter"
           }
          ],
          "scatter3d": [
           {
            "line": {
             "colorbar": {
              "outlinewidth": 0,
              "ticks": ""
             }
            },
            "marker": {
             "colorbar": {
              "outlinewidth": 0,
              "ticks": ""
             }
            },
            "type": "scatter3d"
           }
          ],
          "scattercarpet": [
           {
            "marker": {
             "colorbar": {
              "outlinewidth": 0,
              "ticks": ""
             }
            },
            "type": "scattercarpet"
           }
          ],
          "scattergeo": [
           {
            "marker": {
             "colorbar": {
              "outlinewidth": 0,
              "ticks": ""
             }
            },
            "type": "scattergeo"
           }
          ],
          "scattergl": [
           {
            "marker": {
             "colorbar": {
              "outlinewidth": 0,
              "ticks": ""
             }
            },
            "type": "scattergl"
           }
          ],
          "scattermapbox": [
           {
            "marker": {
             "colorbar": {
              "outlinewidth": 0,
              "ticks": ""
             }
            },
            "type": "scattermapbox"
           }
          ],
          "scatterpolar": [
           {
            "marker": {
             "colorbar": {
              "outlinewidth": 0,
              "ticks": ""
             }
            },
            "type": "scatterpolar"
           }
          ],
          "scatterpolargl": [
           {
            "marker": {
             "colorbar": {
              "outlinewidth": 0,
              "ticks": ""
             }
            },
            "type": "scatterpolargl"
           }
          ],
          "scatterternary": [
           {
            "marker": {
             "colorbar": {
              "outlinewidth": 0,
              "ticks": ""
             }
            },
            "type": "scatterternary"
           }
          ],
          "surface": [
           {
            "colorbar": {
             "outlinewidth": 0,
             "ticks": ""
            },
            "colorscale": [
             [
              0,
              "#0d0887"
             ],
             [
              0.1111111111111111,
              "#46039f"
             ],
             [
              0.2222222222222222,
              "#7201a8"
             ],
             [
              0.3333333333333333,
              "#9c179e"
             ],
             [
              0.4444444444444444,
              "#bd3786"
             ],
             [
              0.5555555555555556,
              "#d8576b"
             ],
             [
              0.6666666666666666,
              "#ed7953"
             ],
             [
              0.7777777777777778,
              "#fb9f3a"
             ],
             [
              0.8888888888888888,
              "#fdca26"
             ],
             [
              1,
              "#f0f921"
             ]
            ],
            "type": "surface"
           }
          ],
          "table": [
           {
            "cells": {
             "fill": {
              "color": "#EBF0F8"
             },
             "line": {
              "color": "white"
             }
            },
            "header": {
             "fill": {
              "color": "#C8D4E3"
             },
             "line": {
              "color": "white"
             }
            },
            "type": "table"
           }
          ]
         },
         "layout": {
          "annotationdefaults": {
           "arrowcolor": "#2a3f5f",
           "arrowhead": 0,
           "arrowwidth": 1
          },
          "autotypenumbers": "strict",
          "coloraxis": {
           "colorbar": {
            "outlinewidth": 0,
            "ticks": ""
           }
          },
          "colorscale": {
           "diverging": [
            [
             0,
             "#8e0152"
            ],
            [
             0.1,
             "#c51b7d"
            ],
            [
             0.2,
             "#de77ae"
            ],
            [
             0.3,
             "#f1b6da"
            ],
            [
             0.4,
             "#fde0ef"
            ],
            [
             0.5,
             "#f7f7f7"
            ],
            [
             0.6,
             "#e6f5d0"
            ],
            [
             0.7,
             "#b8e186"
            ],
            [
             0.8,
             "#7fbc41"
            ],
            [
             0.9,
             "#4d9221"
            ],
            [
             1,
             "#276419"
            ]
           ],
           "sequential": [
            [
             0,
             "#0d0887"
            ],
            [
             0.1111111111111111,
             "#46039f"
            ],
            [
             0.2222222222222222,
             "#7201a8"
            ],
            [
             0.3333333333333333,
             "#9c179e"
            ],
            [
             0.4444444444444444,
             "#bd3786"
            ],
            [
             0.5555555555555556,
             "#d8576b"
            ],
            [
             0.6666666666666666,
             "#ed7953"
            ],
            [
             0.7777777777777778,
             "#fb9f3a"
            ],
            [
             0.8888888888888888,
             "#fdca26"
            ],
            [
             1,
             "#f0f921"
            ]
           ],
           "sequentialminus": [
            [
             0,
             "#0d0887"
            ],
            [
             0.1111111111111111,
             "#46039f"
            ],
            [
             0.2222222222222222,
             "#7201a8"
            ],
            [
             0.3333333333333333,
             "#9c179e"
            ],
            [
             0.4444444444444444,
             "#bd3786"
            ],
            [
             0.5555555555555556,
             "#d8576b"
            ],
            [
             0.6666666666666666,
             "#ed7953"
            ],
            [
             0.7777777777777778,
             "#fb9f3a"
            ],
            [
             0.8888888888888888,
             "#fdca26"
            ],
            [
             1,
             "#f0f921"
            ]
           ]
          },
          "colorway": [
           "#636efa",
           "#EF553B",
           "#00cc96",
           "#ab63fa",
           "#FFA15A",
           "#19d3f3",
           "#FF6692",
           "#B6E880",
           "#FF97FF",
           "#FECB52"
          ],
          "font": {
           "color": "#2a3f5f"
          },
          "geo": {
           "bgcolor": "white",
           "lakecolor": "white",
           "landcolor": "#E5ECF6",
           "showlakes": true,
           "showland": true,
           "subunitcolor": "white"
          },
          "hoverlabel": {
           "align": "left"
          },
          "hovermode": "closest",
          "mapbox": {
           "style": "light"
          },
          "paper_bgcolor": "white",
          "plot_bgcolor": "#E5ECF6",
          "polar": {
           "angularaxis": {
            "gridcolor": "white",
            "linecolor": "white",
            "ticks": ""
           },
           "bgcolor": "#E5ECF6",
           "radialaxis": {
            "gridcolor": "white",
            "linecolor": "white",
            "ticks": ""
           }
          },
          "scene": {
           "xaxis": {
            "backgroundcolor": "#E5ECF6",
            "gridcolor": "white",
            "gridwidth": 2,
            "linecolor": "white",
            "showbackground": true,
            "ticks": "",
            "zerolinecolor": "white"
           },
           "yaxis": {
            "backgroundcolor": "#E5ECF6",
            "gridcolor": "white",
            "gridwidth": 2,
            "linecolor": "white",
            "showbackground": true,
            "ticks": "",
            "zerolinecolor": "white"
           },
           "zaxis": {
            "backgroundcolor": "#E5ECF6",
            "gridcolor": "white",
            "gridwidth": 2,
            "linecolor": "white",
            "showbackground": true,
            "ticks": "",
            "zerolinecolor": "white"
           }
          },
          "shapedefaults": {
           "line": {
            "color": "#2a3f5f"
           }
          },
          "ternary": {
           "aaxis": {
            "gridcolor": "white",
            "linecolor": "white",
            "ticks": ""
           },
           "baxis": {
            "gridcolor": "white",
            "linecolor": "white",
            "ticks": ""
           },
           "bgcolor": "#E5ECF6",
           "caxis": {
            "gridcolor": "white",
            "linecolor": "white",
            "ticks": ""
           }
          },
          "title": {
           "x": 0.05
          },
          "xaxis": {
           "automargin": true,
           "gridcolor": "white",
           "linecolor": "white",
           "ticks": "",
           "title": {
            "standoff": 15
           },
           "zerolinecolor": "white",
           "zerolinewidth": 2
          },
          "yaxis": {
           "automargin": true,
           "gridcolor": "white",
           "linecolor": "white",
           "ticks": "",
           "title": {
            "standoff": 15
           },
           "zerolinecolor": "white",
           "zerolinewidth": 2
          }
         }
        },
        "title": {
         "text": "Cement Production Value (Million USD)"
        },
        "updatemenus": [
         {
          "buttons": [
           {
            "args": [
             null,
             {
              "frame": {
               "duration": 500,
               "redraw": true
              },
              "fromcurrent": true,
              "mode": "immediate",
              "transition": {
               "duration": 500,
               "easing": "linear"
              }
             }
            ],
            "label": "&#9654;",
            "method": "animate"
           },
           {
            "args": [
             [
              null
             ],
             {
              "frame": {
               "duration": 0,
               "redraw": true
              },
              "fromcurrent": true,
              "mode": "immediate",
              "transition": {
               "duration": 0,
               "easing": "linear"
              }
             }
            ],
            "label": "&#9724;",
            "method": "animate"
           }
          ],
          "direction": "left",
          "pad": {
           "r": 10,
           "t": 70
          },
          "showactive": false,
          "type": "buttons",
          "x": 0.1,
          "xanchor": "right",
          "y": 0,
          "yanchor": "top"
         }
        ]
       }
      },
      "text/html": [
       "<div>                            <div id=\"c776a48f-a581-49eb-a37b-01ab1e23cdd9\" class=\"plotly-graph-div\" style=\"height:525px; width:100%;\"></div>            <script type=\"text/javascript\">                require([\"plotly\"], function(Plotly) {                    window.PLOTLYENV=window.PLOTLYENV || {};                                    if (document.getElementById(\"c776a48f-a581-49eb-a37b-01ab1e23cdd9\")) {                    Plotly.newPlot(                        \"c776a48f-a581-49eb-a37b-01ab1e23cdd9\",                        [{\"coloraxis\":\"coloraxis\",\"geo\":\"geo\",\"hovertemplate\":\"<b>%{hovertext}</b><br><br>Year=2007<br>Code=%{location}<br>Production Value=%{z}<extra></extra>\",\"hovertext\":[\"IRL\",\"USA\",\"BRA\",\"CHN\",\"DEU\",\"RUS\",\"AUS\",\"VNM\",\"JPN\",\"IRN\"],\"locations\":[\"IRL\",\"USA\",\"BRA\",\"CHN\",\"DEU\",\"RUS\",\"AUS\",\"VNM\",\"JPN\",\"IRN\"],\"name\":\"\",\"z\":[146.7,10153.0,3802.0,54201.0,2644.0,6146.0,2333.0,4297.0,138.6,1588.0],\"type\":\"choropleth\"}],                        {\"template\":{\"data\":{\"histogram2dcontour\":[{\"type\":\"histogram2dcontour\",\"colorbar\":{\"outlinewidth\":0,\"ticks\":\"\"},\"colorscale\":[[0.0,\"#0d0887\"],[0.1111111111111111,\"#46039f\"],[0.2222222222222222,\"#7201a8\"],[0.3333333333333333,\"#9c179e\"],[0.4444444444444444,\"#bd3786\"],[0.5555555555555556,\"#d8576b\"],[0.6666666666666666,\"#ed7953\"],[0.7777777777777778,\"#fb9f3a\"],[0.8888888888888888,\"#fdca26\"],[1.0,\"#f0f921\"]]}],\"choropleth\":[{\"type\":\"choropleth\",\"colorbar\":{\"outlinewidth\":0,\"ticks\":\"\"}}],\"histogram2d\":[{\"type\":\"histogram2d\",\"colorbar\":{\"outlinewidth\":0,\"ticks\":\"\"},\"colorscale\":[[0.0,\"#0d0887\"],[0.1111111111111111,\"#46039f\"],[0.2222222222222222,\"#7201a8\"],[0.3333333333333333,\"#9c179e\"],[0.4444444444444444,\"#bd3786\"],[0.5555555555555556,\"#d8576b\"],[0.6666666666666666,\"#ed7953\"],[0.7777777777777778,\"#fb9f3a\"],[0.8888888888888888,\"#fdca26\"],[1.0,\"#f0f921\"]]}],\"heatmap\":[{\"type\":\"heatmap\",\"colorbar\":{\"outlinewidth\":0,\"ticks\":\"\"},\"colorscale\":[[0.0,\"#0d0887\"],[0.1111111111111111,\"#46039f\"],[0.2222222222222222,\"#7201a8\"],[0.3333333333333333,\"#9c179e\"],[0.4444444444444444,\"#bd3786\"],[0.5555555555555556,\"#d8576b\"],[0.6666666666666666,\"#ed7953\"],[0.7777777777777778,\"#fb9f3a\"],[0.8888888888888888,\"#fdca26\"],[1.0,\"#f0f921\"]]}],\"heatmapgl\":[{\"type\":\"heatmapgl\",\"colorbar\":{\"outlinewidth\":0,\"ticks\":\"\"},\"colorscale\":[[0.0,\"#0d0887\"],[0.1111111111111111,\"#46039f\"],[0.2222222222222222,\"#7201a8\"],[0.3333333333333333,\"#9c179e\"],[0.4444444444444444,\"#bd3786\"],[0.5555555555555556,\"#d8576b\"],[0.6666666666666666,\"#ed7953\"],[0.7777777777777778,\"#fb9f3a\"],[0.8888888888888888,\"#fdca26\"],[1.0,\"#f0f921\"]]}],\"contourcarpet\":[{\"type\":\"contourcarpet\",\"colorbar\":{\"outlinewidth\":0,\"ticks\":\"\"}}],\"contour\":[{\"type\":\"contour\",\"colorbar\":{\"outlinewidth\":0,\"ticks\":\"\"},\"colorscale\":[[0.0,\"#0d0887\"],[0.1111111111111111,\"#46039f\"],[0.2222222222222222,\"#7201a8\"],[0.3333333333333333,\"#9c179e\"],[0.4444444444444444,\"#bd3786\"],[0.5555555555555556,\"#d8576b\"],[0.6666666666666666,\"#ed7953\"],[0.7777777777777778,\"#fb9f3a\"],[0.8888888888888888,\"#fdca26\"],[1.0,\"#f0f921\"]]}],\"surface\":[{\"type\":\"surface\",\"colorbar\":{\"outlinewidth\":0,\"ticks\":\"\"},\"colorscale\":[[0.0,\"#0d0887\"],[0.1111111111111111,\"#46039f\"],[0.2222222222222222,\"#7201a8\"],[0.3333333333333333,\"#9c179e\"],[0.4444444444444444,\"#bd3786\"],[0.5555555555555556,\"#d8576b\"],[0.6666666666666666,\"#ed7953\"],[0.7777777777777778,\"#fb9f3a\"],[0.8888888888888888,\"#fdca26\"],[1.0,\"#f0f921\"]]}],\"mesh3d\":[{\"type\":\"mesh3d\",\"colorbar\":{\"outlinewidth\":0,\"ticks\":\"\"}}],\"scatter\":[{\"fillpattern\":{\"fillmode\":\"overlay\",\"size\":10,\"solidity\":0.2},\"type\":\"scatter\"}],\"parcoords\":[{\"type\":\"parcoords\",\"line\":{\"colorbar\":{\"outlinewidth\":0,\"ticks\":\"\"}}}],\"scatterpolargl\":[{\"type\":\"scatterpolargl\",\"marker\":{\"colorbar\":{\"outlinewidth\":0,\"ticks\":\"\"}}}],\"bar\":[{\"error_x\":{\"color\":\"#2a3f5f\"},\"error_y\":{\"color\":\"#2a3f5f\"},\"marker\":{\"line\":{\"color\":\"#E5ECF6\",\"width\":0.5},\"pattern\":{\"fillmode\":\"overlay\",\"size\":10,\"solidity\":0.2}},\"type\":\"bar\"}],\"scattergeo\":[{\"type\":\"scattergeo\",\"marker\":{\"colorbar\":{\"outlinewidth\":0,\"ticks\":\"\"}}}],\"scatterpolar\":[{\"type\":\"scatterpolar\",\"marker\":{\"colorbar\":{\"outlinewidth\":0,\"ticks\":\"\"}}}],\"histogram\":[{\"marker\":{\"pattern\":{\"fillmode\":\"overlay\",\"size\":10,\"solidity\":0.2}},\"type\":\"histogram\"}],\"scattergl\":[{\"type\":\"scattergl\",\"marker\":{\"colorbar\":{\"outlinewidth\":0,\"ticks\":\"\"}}}],\"scatter3d\":[{\"type\":\"scatter3d\",\"line\":{\"colorbar\":{\"outlinewidth\":0,\"ticks\":\"\"}},\"marker\":{\"colorbar\":{\"outlinewidth\":0,\"ticks\":\"\"}}}],\"scattermapbox\":[{\"type\":\"scattermapbox\",\"marker\":{\"colorbar\":{\"outlinewidth\":0,\"ticks\":\"\"}}}],\"scatterternary\":[{\"type\":\"scatterternary\",\"marker\":{\"colorbar\":{\"outlinewidth\":0,\"ticks\":\"\"}}}],\"scattercarpet\":[{\"type\":\"scattercarpet\",\"marker\":{\"colorbar\":{\"outlinewidth\":0,\"ticks\":\"\"}}}],\"carpet\":[{\"aaxis\":{\"endlinecolor\":\"#2a3f5f\",\"gridcolor\":\"white\",\"linecolor\":\"white\",\"minorgridcolor\":\"white\",\"startlinecolor\":\"#2a3f5f\"},\"baxis\":{\"endlinecolor\":\"#2a3f5f\",\"gridcolor\":\"white\",\"linecolor\":\"white\",\"minorgridcolor\":\"white\",\"startlinecolor\":\"#2a3f5f\"},\"type\":\"carpet\"}],\"table\":[{\"cells\":{\"fill\":{\"color\":\"#EBF0F8\"},\"line\":{\"color\":\"white\"}},\"header\":{\"fill\":{\"color\":\"#C8D4E3\"},\"line\":{\"color\":\"white\"}},\"type\":\"table\"}],\"barpolar\":[{\"marker\":{\"line\":{\"color\":\"#E5ECF6\",\"width\":0.5},\"pattern\":{\"fillmode\":\"overlay\",\"size\":10,\"solidity\":0.2}},\"type\":\"barpolar\"}],\"pie\":[{\"automargin\":true,\"type\":\"pie\"}]},\"layout\":{\"autotypenumbers\":\"strict\",\"colorway\":[\"#636efa\",\"#EF553B\",\"#00cc96\",\"#ab63fa\",\"#FFA15A\",\"#19d3f3\",\"#FF6692\",\"#B6E880\",\"#FF97FF\",\"#FECB52\"],\"font\":{\"color\":\"#2a3f5f\"},\"hovermode\":\"closest\",\"hoverlabel\":{\"align\":\"left\"},\"paper_bgcolor\":\"white\",\"plot_bgcolor\":\"#E5ECF6\",\"polar\":{\"bgcolor\":\"#E5ECF6\",\"angularaxis\":{\"gridcolor\":\"white\",\"linecolor\":\"white\",\"ticks\":\"\"},\"radialaxis\":{\"gridcolor\":\"white\",\"linecolor\":\"white\",\"ticks\":\"\"}},\"ternary\":{\"bgcolor\":\"#E5ECF6\",\"aaxis\":{\"gridcolor\":\"white\",\"linecolor\":\"white\",\"ticks\":\"\"},\"baxis\":{\"gridcolor\":\"white\",\"linecolor\":\"white\",\"ticks\":\"\"},\"caxis\":{\"gridcolor\":\"white\",\"linecolor\":\"white\",\"ticks\":\"\"}},\"coloraxis\":{\"colorbar\":{\"outlinewidth\":0,\"ticks\":\"\"}},\"colorscale\":{\"sequential\":[[0.0,\"#0d0887\"],[0.1111111111111111,\"#46039f\"],[0.2222222222222222,\"#7201a8\"],[0.3333333333333333,\"#9c179e\"],[0.4444444444444444,\"#bd3786\"],[0.5555555555555556,\"#d8576b\"],[0.6666666666666666,\"#ed7953\"],[0.7777777777777778,\"#fb9f3a\"],[0.8888888888888888,\"#fdca26\"],[1.0,\"#f0f921\"]],\"sequentialminus\":[[0.0,\"#0d0887\"],[0.1111111111111111,\"#46039f\"],[0.2222222222222222,\"#7201a8\"],[0.3333333333333333,\"#9c179e\"],[0.4444444444444444,\"#bd3786\"],[0.5555555555555556,\"#d8576b\"],[0.6666666666666666,\"#ed7953\"],[0.7777777777777778,\"#fb9f3a\"],[0.8888888888888888,\"#fdca26\"],[1.0,\"#f0f921\"]],\"diverging\":[[0,\"#8e0152\"],[0.1,\"#c51b7d\"],[0.2,\"#de77ae\"],[0.3,\"#f1b6da\"],[0.4,\"#fde0ef\"],[0.5,\"#f7f7f7\"],[0.6,\"#e6f5d0\"],[0.7,\"#b8e186\"],[0.8,\"#7fbc41\"],[0.9,\"#4d9221\"],[1,\"#276419\"]]},\"xaxis\":{\"gridcolor\":\"white\",\"linecolor\":\"white\",\"ticks\":\"\",\"title\":{\"standoff\":15},\"zerolinecolor\":\"white\",\"automargin\":true,\"zerolinewidth\":2},\"yaxis\":{\"gridcolor\":\"white\",\"linecolor\":\"white\",\"ticks\":\"\",\"title\":{\"standoff\":15},\"zerolinecolor\":\"white\",\"automargin\":true,\"zerolinewidth\":2},\"scene\":{\"xaxis\":{\"backgroundcolor\":\"#E5ECF6\",\"gridcolor\":\"white\",\"linecolor\":\"white\",\"showbackground\":true,\"ticks\":\"\",\"zerolinecolor\":\"white\",\"gridwidth\":2},\"yaxis\":{\"backgroundcolor\":\"#E5ECF6\",\"gridcolor\":\"white\",\"linecolor\":\"white\",\"showbackground\":true,\"ticks\":\"\",\"zerolinecolor\":\"white\",\"gridwidth\":2},\"zaxis\":{\"backgroundcolor\":\"#E5ECF6\",\"gridcolor\":\"white\",\"linecolor\":\"white\",\"showbackground\":true,\"ticks\":\"\",\"zerolinecolor\":\"white\",\"gridwidth\":2}},\"shapedefaults\":{\"line\":{\"color\":\"#2a3f5f\"}},\"annotationdefaults\":{\"arrowcolor\":\"#2a3f5f\",\"arrowhead\":0,\"arrowwidth\":1},\"geo\":{\"bgcolor\":\"white\",\"landcolor\":\"#E5ECF6\",\"subunitcolor\":\"white\",\"showland\":true,\"showlakes\":true,\"lakecolor\":\"white\"},\"title\":{\"x\":0.05},\"mapbox\":{\"style\":\"light\"}}},\"geo\":{\"domain\":{\"x\":[0.0,1.0],\"y\":[0.0,1.0]},\"center\":{},\"projection\":{\"type\":\"natural earth\"}},\"coloraxis\":{\"colorbar\":{\"title\":{\"text\":\"Production Value\"}},\"colorscale\":[[0,\"rgb(240,240,240)\"],[0.1,\"rgb(252, 244, 83)\"],[0.2,\"rgb(255, 145, 36)\"],[0.5,\"rgb(255, 85, 28)\"],[1,\"rgb(227,26,28,0.5)\"]]},\"legend\":{\"tracegroupgap\":0},\"margin\":{\"t\":60},\"updatemenus\":[{\"buttons\":[{\"args\":[null,{\"frame\":{\"duration\":500,\"redraw\":true},\"mode\":\"immediate\",\"fromcurrent\":true,\"transition\":{\"duration\":500,\"easing\":\"linear\"}}],\"label\":\"&#9654;\",\"method\":\"animate\"},{\"args\":[[null],{\"frame\":{\"duration\":0,\"redraw\":true},\"mode\":\"immediate\",\"fromcurrent\":true,\"transition\":{\"duration\":0,\"easing\":\"linear\"}}],\"label\":\"&#9724;\",\"method\":\"animate\"}],\"direction\":\"left\",\"pad\":{\"r\":10,\"t\":70},\"showactive\":false,\"type\":\"buttons\",\"x\":0.1,\"xanchor\":\"right\",\"y\":0,\"yanchor\":\"top\"}],\"sliders\":[{\"active\":0,\"currentvalue\":{\"prefix\":\"Year=\"},\"len\":0.9,\"pad\":{\"b\":10,\"t\":60},\"steps\":[{\"args\":[[\"2007\"],{\"frame\":{\"duration\":0,\"redraw\":true},\"mode\":\"immediate\",\"fromcurrent\":true,\"transition\":{\"duration\":0,\"easing\":\"linear\"}}],\"label\":\"2007\",\"method\":\"animate\"},{\"args\":[[\"2008\"],{\"frame\":{\"duration\":0,\"redraw\":true},\"mode\":\"immediate\",\"fromcurrent\":true,\"transition\":{\"duration\":0,\"easing\":\"linear\"}}],\"label\":\"2008\",\"method\":\"animate\"},{\"args\":[[\"2009\"],{\"frame\":{\"duration\":0,\"redraw\":true},\"mode\":\"immediate\",\"fromcurrent\":true,\"transition\":{\"duration\":0,\"easing\":\"linear\"}}],\"label\":\"2009\",\"method\":\"animate\"},{\"args\":[[\"2010\"],{\"frame\":{\"duration\":0,\"redraw\":true},\"mode\":\"immediate\",\"fromcurrent\":true,\"transition\":{\"duration\":0,\"easing\":\"linear\"}}],\"label\":\"2010\",\"method\":\"animate\"},{\"args\":[[\"2011\"],{\"frame\":{\"duration\":0,\"redraw\":true},\"mode\":\"immediate\",\"fromcurrent\":true,\"transition\":{\"duration\":0,\"easing\":\"linear\"}}],\"label\":\"2011\",\"method\":\"animate\"},{\"args\":[[\"2012\"],{\"frame\":{\"duration\":0,\"redraw\":true},\"mode\":\"immediate\",\"fromcurrent\":true,\"transition\":{\"duration\":0,\"easing\":\"linear\"}}],\"label\":\"2012\",\"method\":\"animate\"},{\"args\":[[\"2013\"],{\"frame\":{\"duration\":0,\"redraw\":true},\"mode\":\"immediate\",\"fromcurrent\":true,\"transition\":{\"duration\":0,\"easing\":\"linear\"}}],\"label\":\"2013\",\"method\":\"animate\"},{\"args\":[[\"2014\"],{\"frame\":{\"duration\":0,\"redraw\":true},\"mode\":\"immediate\",\"fromcurrent\":true,\"transition\":{\"duration\":0,\"easing\":\"linear\"}}],\"label\":\"2014\",\"method\":\"animate\"},{\"args\":[[\"2015\"],{\"frame\":{\"duration\":0,\"redraw\":true},\"mode\":\"immediate\",\"fromcurrent\":true,\"transition\":{\"duration\":0,\"easing\":\"linear\"}}],\"label\":\"2015\",\"method\":\"animate\"}],\"x\":0.1,\"xanchor\":\"left\",\"y\":0,\"yanchor\":\"top\"}],\"title\":{\"text\":\"Cement Production Value (Million USD)\"}},                        {\"responsive\": true}                    ).then(function(){\n",
       "                            Plotly.addFrames('c776a48f-a581-49eb-a37b-01ab1e23cdd9', [{\"data\":[{\"coloraxis\":\"coloraxis\",\"geo\":\"geo\",\"hovertemplate\":\"<b>%{hovertext}</b><br><br>Year=2007<br>Code=%{location}<br>Production Value=%{z}<extra></extra>\",\"hovertext\":[\"IRL\",\"USA\",\"BRA\",\"CHN\",\"DEU\",\"RUS\",\"AUS\",\"VNM\",\"JPN\",\"IRN\"],\"locations\":[\"IRL\",\"USA\",\"BRA\",\"CHN\",\"DEU\",\"RUS\",\"AUS\",\"VNM\",\"JPN\",\"IRN\"],\"name\":\"\",\"z\":[146.7,10153.0,3802.0,54201.0,2644.0,6146.0,2333.0,4297.0,138.6,1588.0],\"type\":\"choropleth\"}],\"name\":\"2007\"},{\"data\":[{\"coloraxis\":\"coloraxis\",\"geo\":\"geo\",\"hovertemplate\":\"<b>%{hovertext}</b><br><br>Year=2008<br>Code=%{location}<br>Production Value=%{z}<extra></extra>\",\"hovertext\":[\"IRL\",\"USA\",\"BRA\",\"CHN\",\"DEU\",\"RUS\",\"AUS\",\"VNM\",\"JPN\",\"IRN\"],\"locations\":[\"IRL\",\"USA\",\"BRA\",\"CHN\",\"DEU\",\"RUS\",\"AUS\",\"VNM\",\"JPN\",\"IRN\"],\"name\":\"\",\"z\":[160.2,8915.0,5478.0,66718.0,2665.0,7563.0,3041.0,4209.0,170.0,2233.0],\"type\":\"choropleth\"}],\"name\":\"2008\"},{\"data\":[{\"coloraxis\":\"coloraxis\",\"geo\":\"geo\",\"hovertemplate\":\"<b>%{hovertext}</b><br><br>Year=2009<br>Code=%{location}<br>Production Value=%{z}<extra></extra>\",\"hovertext\":[\"IRL\",\"USA\",\"BRA\",\"CHN\",\"DEU\",\"RUS\",\"AUS\",\"VNM\",\"JPN\",\"IRN\"],\"locations\":[\"IRL\",\"USA\",\"BRA\",\"CHN\",\"DEU\",\"RUS\",\"AUS\",\"VNM\",\"JPN\",\"IRN\"],\"name\":\"\",\"z\":[175.1,5568.0,5086.0,82445.0,2687.0,3832.0,2836.0,4596.0,190.9,2559.0],\"type\":\"choropleth\"}],\"name\":\"2009\"},{\"data\":[{\"coloraxis\":\"coloraxis\",\"geo\":\"geo\",\"hovertemplate\":\"<b>%{hovertext}</b><br><br>Year=2010<br>Code=%{location}<br>Production Value=%{z}<extra></extra>\",\"hovertext\":[\"IRL\",\"USA\",\"BRA\",\"CHN\",\"DEU\",\"RUS\",\"AUS\",\"VNM\",\"JPN\",\"IRN\"],\"locations\":[\"IRL\",\"USA\",\"BRA\",\"CHN\",\"DEU\",\"RUS\",\"AUS\",\"VNM\",\"JPN\",\"IRN\"],\"name\":\"\",\"z\":[191.3,5064.0,6714.0,94894.0,2483.0,4142.0,2940.0,4987.0,203.8,2885.0],\"type\":\"choropleth\"}],\"name\":\"2010\"},{\"data\":[{\"coloraxis\":\"coloraxis\",\"geo\":\"geo\",\"hovertemplate\":\"<b>%{hovertext}</b><br><br>Year=2011<br>Code=%{location}<br>Production Value=%{z}<extra></extra>\",\"hovertext\":[\"IRL\",\"USA\",\"BRA\",\"CHN\",\"DEU\",\"RUS\",\"AUS\",\"VNM\",\"JPN\",\"IRN\"],\"locations\":[\"IRL\",\"USA\",\"BRA\",\"CHN\",\"DEU\",\"RUS\",\"AUS\",\"VNM\",\"JPN\",\"IRN\"],\"name\":\"\",\"z\":[209.0,5278.0,8250.0,126356.0,2975.0,5279.0,3423.0,4967.0,276.3,3394.0],\"type\":\"choropleth\"}],\"name\":\"2011\"},{\"data\":[{\"coloraxis\":\"coloraxis\",\"geo\":\"geo\",\"hovertemplate\":\"<b>%{hovertext}</b><br><br>Year=2012<br>Code=%{location}<br>Production Value=%{z}<extra></extra>\",\"hovertext\":[\"IRL\",\"USA\",\"BRA\",\"CHN\",\"DEU\",\"RUS\",\"AUS\",\"VNM\",\"JPN\",\"IRN\"],\"locations\":[\"IRL\",\"USA\",\"BRA\",\"CHN\",\"DEU\",\"RUS\",\"AUS\",\"VNM\",\"JPN\",\"IRN\"],\"name\":\"\",\"z\":[228.4,5661.0,7631.0,134256.0,2660.0,6434.0,2879.0,3603.0,280.4,3903.0],\"type\":\"choropleth\"}],\"name\":\"2012\"},{\"data\":[{\"coloraxis\":\"coloraxis\",\"geo\":\"geo\",\"hovertemplate\":\"<b>%{hovertext}</b><br><br>Year=2013<br>Code=%{location}<br>Production Value=%{z}<extra></extra>\",\"hovertext\":[\"IRL\",\"USA\",\"BRA\",\"CHN\",\"DEU\",\"RUS\",\"AUS\",\"VNM\",\"JPN\",\"IRN\"],\"locations\":[\"IRL\",\"USA\",\"BRA\",\"CHN\",\"DEU\",\"RUS\",\"AUS\",\"VNM\",\"JPN\",\"IRN\"],\"name\":\"\",\"z\":[234.9,6506.0,7690.0,140297.0,2709.0,6999.0,2631.0,4505.0,243.5,4489.0],\"type\":\"choropleth\"}],\"name\":\"2013\"},{\"data\":[{\"coloraxis\":\"coloraxis\",\"geo\":\"geo\",\"hovertemplate\":\"<b>%{hovertext}</b><br><br>Year=2014<br>Code=%{location}<br>Production Value=%{z}<extra></extra>\",\"hovertext\":[\"IRL\",\"USA\",\"BRA\",\"CHN\",\"DEU\",\"RUS\",\"AUS\",\"VNM\",\"JPN\",\"IRN\"],\"locations\":[\"IRL\",\"USA\",\"BRA\",\"CHN\",\"DEU\",\"RUS\",\"AUS\",\"VNM\",\"JPN\",\"IRN\"],\"name\":\"\",\"z\":[237.6,6956.0,7801.0,148660.0,2820.0,5748.0,4047.0,4658.0,244.4,5162.0],\"type\":\"choropleth\"}],\"name\":\"2014\"},{\"data\":[{\"coloraxis\":\"coloraxis\",\"geo\":\"geo\",\"hovertemplate\":\"<b>%{hovertext}</b><br><br>Year=2015<br>Code=%{location}<br>Production Value=%{z}<extra></extra>\",\"hovertext\":[\"IRL\",\"USA\",\"BRA\",\"CHN\",\"DEU\",\"RUS\",\"AUS\",\"VNM\",\"JPN\",\"IRN\"],\"locations\":[\"IRL\",\"USA\",\"BRA\",\"CHN\",\"DEU\",\"RUS\",\"AUS\",\"VNM\",\"JPN\",\"IRN\"],\"name\":\"\",\"z\":[323.7,7800.0,4927.0,136866.0,2322.0,3286.0,2530.0,5269.0,233.5,5936.0],\"type\":\"choropleth\"}],\"name\":\"2015\"}]);\n",
       "                        }).then(function(){\n",
       "                            \n",
       "var gd = document.getElementById('c776a48f-a581-49eb-a37b-01ab1e23cdd9');\n",
       "var x = new MutationObserver(function (mutations, observer) {{\n",
       "        var display = window.getComputedStyle(gd).display;\n",
       "        if (!display || display === 'none') {{\n",
       "            console.log([gd, 'removed!']);\n",
       "            Plotly.purge(gd);\n",
       "            observer.disconnect();\n",
       "        }}\n",
       "}});\n",
       "\n",
       "// Listen for the removal of the full notebook cells\n",
       "var notebookContainer = gd.closest('#notebook-container');\n",
       "if (notebookContainer) {{\n",
       "    x.observe(notebookContainer, {childList: true});\n",
       "}}\n",
       "\n",
       "// Listen for the clearing of the current output cell\n",
       "var outputEl = gd.closest('.output');\n",
       "if (outputEl) {{\n",
       "    x.observe(outputEl, {childList: true});\n",
       "}}\n",
       "\n",
       "                        })                };                });            </script>        </div>"
      ]
     },
     "metadata": {},
     "output_type": "display_data"
    }
   ],
   "source": [
    "# Interactive map graph: Cement Production Value (Million USD)\n",
    "\n",
    "fig = px.choropleth(cement_merge, locations=\"Code\",\n",
    "                    color=\"Production Value\", \n",
    "                    hover_name=\"Code\", \n",
    "                    # column to add to hover information\n",
    "                    animation_frame=\"Year\", \n",
    "                    # column on which to animate\n",
    "                    color_continuous_scale=[[0, 'rgb(240,240,240)'],\n",
    "                      [0.10, 'rgb(252, 244, 83)'],\n",
    "                      [0.2, 'rgb(255, 145, 36)'],\n",
    "                      [0.50, 'rgb(255, 85, 28)'],\n",
    "                      [1, 'rgb(227,26,28,0.5)']])\n",
    "                    \n",
    "fig.update_layout(\n",
    "    # add a title text for the plot\n",
    "    title_text = 'Cement Production Value (Million USD)',\n",
    "    # set projection style for the plot\n",
    "    geo = dict(projection={'type':'natural earth'}) \n",
    "    # by default, projection type is set to 'equirectangular'\n",
    ")\n",
    "fig.show()\n"
   ]
  },
  {
   "cell_type": "code",
   "execution_count": 144,
   "id": "9d1be729",
   "metadata": {},
   "outputs": [
    {
     "data": {
      "application/vnd.plotly.v1+json": {
       "config": {
        "plotlyServerURL": "https://plot.ly"
       },
       "data": [
        {
         "geo": "geo",
         "hovertemplate": "<b>%{hovertext}</b><br><br>Year=2007<br>Per Capita Consumption=%{marker.size}<br>Code=%{location}<extra></extra>",
         "hovertext": [
          "IRL",
          "USA",
          "BRA",
          "CHN",
          "DEU",
          "RUS",
          "AUS",
          "VNM",
          "JPN",
          "IRN"
         ],
         "legendgroup": "",
         "locations": [
          "IRL",
          "USA",
          "BRA",
          "CHN",
          "DEU",
          "RUS",
          "AUS",
          "VNM",
          "JPN",
          "IRN"
         ],
         "marker": {
          "color": "#636efa",
          "size": [
           810.1,
           391,
           238.7,
           985,
           338.9,
           421.6,
           452.8,
           431.7,
           458.5,
           569
          ],
          "sizemode": "area",
          "sizeref": 1.09125,
          "symbol": "circle"
         },
         "mode": "markers",
         "name": "",
         "showlegend": false,
         "type": "scattergeo"
        }
       ],
       "frames": [
        {
         "data": [
          {
           "geo": "geo",
           "hovertemplate": "<b>%{hovertext}</b><br><br>Year=2007<br>Per Capita Consumption=%{marker.size}<br>Code=%{location}<extra></extra>",
           "hovertext": [
            "IRL",
            "USA",
            "BRA",
            "CHN",
            "DEU",
            "RUS",
            "AUS",
            "VNM",
            "JPN",
            "IRN"
           ],
           "legendgroup": "",
           "locations": [
            "IRL",
            "USA",
            "BRA",
            "CHN",
            "DEU",
            "RUS",
            "AUS",
            "VNM",
            "JPN",
            "IRN"
           ],
           "marker": {
            "color": "#636efa",
            "size": [
             810.1,
             391,
             238.7,
             985,
             338.9,
             421.6,
             452.8,
             431.7,
             458.5,
             569
            ],
            "sizemode": "area",
            "sizeref": 1.09125,
            "symbol": "circle"
           },
           "mode": "markers",
           "name": "",
           "showlegend": false,
           "type": "scattergeo"
          }
         ],
         "name": "2007"
        },
        {
         "data": [
          {
           "geo": "geo",
           "hovertemplate": "<b>%{hovertext}</b><br><br>Year=2008<br>Per Capita Consumption=%{marker.size}<br>Code=%{location}<extra></extra>",
           "hovertext": [
            "IRL",
            "USA",
            "BRA",
            "CHN",
            "DEU",
            "RUS",
            "AUS",
            "VNM",
            "JPN",
            "IRN"
           ],
           "legendgroup": "",
           "locations": [
            "IRL",
            "USA",
            "BRA",
            "CHN",
            "DEU",
            "RUS",
            "AUS",
            "VNM",
            "JPN",
            "IRN"
           ],
           "marker": {
            "color": "#636efa",
            "size": [
             777.2,
             321.5,
             267.7,
             1009,
             338.4,
             411.8,
             472.6,
             461.7,
             447,
             608.9
            ],
            "sizemode": "area",
            "sizeref": 1.09125,
            "symbol": "circle"
           },
           "mode": "markers",
           "name": "",
           "showlegend": false,
           "type": "scattergeo"
          }
         ],
         "name": "2008"
        },
        {
         "data": [
          {
           "geo": "geo",
           "hovertemplate": "<b>%{hovertext}</b><br><br>Year=2009<br>Per Capita Consumption=%{marker.size}<br>Code=%{location}<extra></extra>",
           "hovertext": [
            "IRL",
            "USA",
            "BRA",
            "CHN",
            "DEU",
            "RUS",
            "AUS",
            "VNM",
            "JPN",
            "IRN"
           ],
           "legendgroup": "",
           "locations": [
            "IRL",
            "USA",
            "BRA",
            "CHN",
            "DEU",
            "RUS",
            "AUS",
            "VNM",
            "JPN",
            "IRN"
           ],
           "marker": {
            "color": "#636efa",
            "size": [
             382.6,
             229.4,
             267.3,
             1183,
             307.8,
             307.8,
             442.3,
             547.4,
             385.2,
             670
            ],
            "sizemode": "area",
            "sizeref": 1.09125,
            "symbol": "circle"
           },
           "mode": "markers",
           "name": "",
           "showlegend": false,
           "type": "scattergeo"
          }
         ],
         "name": "2009"
        },
        {
         "data": [
          {
           "geo": "geo",
           "hovertemplate": "<b>%{hovertext}</b><br><br>Year=2010<br>Per Capita Consumption=%{marker.size}<br>Code=%{location}<extra></extra>",
           "hovertext": [
            "IRL",
            "USA",
            "BRA",
            "CHN",
            "DEU",
            "RUS",
            "AUS",
            "VNM",
            "JPN",
            "IRN"
           ],
           "legendgroup": "",
           "locations": [
            "IRL",
            "USA",
            "BRA",
            "CHN",
            "DEU",
            "RUS",
            "AUS",
            "VNM",
            "JPN",
            "IRN"
           ],
           "marker": {
            "color": "#636efa",
            "size": [
             368.2,
             233.1,
             304.6,
             1346,
             306,
             355.3,
             425.6,
             628.4,
             363.7,
             653.2
            ],
            "sizemode": "area",
            "sizeref": 1.09125,
            "symbol": "circle"
           },
           "mode": "markers",
           "name": "",
           "showlegend": false,
           "type": "scattergeo"
          }
         ],
         "name": "2010"
        },
        {
         "data": [
          {
           "geo": "geo",
           "hovertemplate": "<b>%{hovertext}</b><br><br>Year=2011<br>Per Capita Consumption=%{marker.size}<br>Code=%{location}<extra></extra>",
           "hovertext": [
            "IRL",
            "USA",
            "BRA",
            "CHN",
            "DEU",
            "RUS",
            "AUS",
            "VNM",
            "JPN",
            "IRN"
           ],
           "legendgroup": "",
           "locations": [
            "IRL",
            "USA",
            "BRA",
            "CHN",
            "DEU",
            "RUS",
            "AUS",
            "VNM",
            "JPN",
            "IRN"
           ],
           "marker": {
            "color": "#636efa",
            "size": [
             270.8,
             234.5,
             327.9,
             1495,
             330.7,
             406,
             405.1,
             647.5,
             366.5,
             861.6
            ],
            "sizemode": "area",
            "sizeref": 1.09125,
            "symbol": "circle"
           },
           "mode": "markers",
           "name": "",
           "showlegend": false,
           "type": "scattergeo"
          }
         ],
         "name": "2011"
        },
        {
         "data": [
          {
           "geo": "geo",
           "hovertemplate": "<b>%{hovertext}</b><br><br>Year=2012<br>Per Capita Consumption=%{marker.size}<br>Code=%{location}<extra></extra>",
           "hovertext": [
            "IRL",
            "USA",
            "BRA",
            "CHN",
            "DEU",
            "RUS",
            "AUS",
            "VNM",
            "JPN",
            "IRN"
           ],
           "legendgroup": "",
           "locations": [
            "IRL",
            "USA",
            "BRA",
            "CHN",
            "DEU",
            "RUS",
            "AUS",
            "VNM",
            "JPN",
            "IRN"
           ],
           "marker": {
            "color": "#636efa",
            "size": [
             10.4,
             252.8,
             350.4,
             1566,
             335.1,
             449.5,
             399.1,
             610.1,
             390.7,
             902.8
            ],
            "sizemode": "area",
            "sizeref": 1.09125,
            "symbol": "circle"
           },
           "mode": "markers",
           "name": "",
           "showlegend": false,
           "type": "scattergeo"
          }
         ],
         "name": "2012"
        },
        {
         "data": [
          {
           "geo": "geo",
           "hovertemplate": "<b>%{hovertext}</b><br><br>Year=2013<br>Per Capita Consumption=%{marker.size}<br>Code=%{location}<extra></extra>",
           "hovertext": [
            "IRL",
            "USA",
            "BRA",
            "CHN",
            "DEU",
            "RUS",
            "AUS",
            "VNM",
            "JPN",
            "IRN"
           ],
           "legendgroup": "",
           "locations": [
            "IRL",
            "USA",
            "BRA",
            "CHN",
            "DEU",
            "RUS",
            "AUS",
            "VNM",
            "JPN",
            "IRN"
           ],
           "marker": {
            "color": "#636efa",
            "size": [
             182.8,
             260,
             350.7,
             1698,
             327.4,
             481.4,
             380.6,
             591.4,
             417.5,
             862.3
            ],
            "sizemode": "area",
            "sizeref": 1.09125,
            "symbol": "circle"
           },
           "mode": "markers",
           "name": "",
           "showlegend": false,
           "type": "scattergeo"
          }
         ],
         "name": "2013"
        },
        {
         "data": [
          {
           "geo": "geo",
           "hovertemplate": "<b>%{hovertext}</b><br><br>Year=2014<br>Per Capita Consumption=%{marker.size}<br>Code=%{location}<extra></extra>",
           "hovertext": [
            "IRL",
            "USA",
            "BRA",
            "CHN",
            "DEU",
            "RUS",
            "AUS",
            "VNM",
            "JPN",
            "IRN"
           ],
           "legendgroup": "",
           "locations": [
            "IRL",
            "USA",
            "BRA",
            "CHN",
            "DEU",
            "RUS",
            "AUS",
            "VNM",
            "JPN",
            "IRN"
           ],
           "marker": {
            "color": "#636efa",
            "size": [
             124,
             271.8,
             352.7,
             1746,
             339.6,
             499.2,
             399.4,
             617.9,
             415.8,
             800.3
            ],
            "sizemode": "area",
            "sizeref": 1.09125,
            "symbol": "circle"
           },
           "mode": "markers",
           "name": "",
           "showlegend": false,
           "type": "scattergeo"
          }
         ],
         "name": "2014"
        },
        {
         "data": [
          {
           "geo": "geo",
           "hovertemplate": "<b>%{hovertext}</b><br><br>Year=2015<br>Per Capita Consumption=%{marker.size}<br>Code=%{location}<extra></extra>",
           "hovertext": [
            "IRL",
            "USA",
            "BRA",
            "CHN",
            "DEU",
            "RUS",
            "AUS",
            "VNM",
            "JPN",
            "IRN"
           ],
           "legendgroup": "",
           "locations": [
            "IRL",
            "USA",
            "BRA",
            "CHN",
            "DEU",
            "RUS",
            "AUS",
            "VNM",
            "JPN",
            "IRN"
           ],
           "marker": {
            "color": "#636efa",
            "size": [
             141.9,
             318.7,
             318.7,
             1645,
             320.7,
             439.7,
             394.7,
             689.5,
             386.3,
             626.9
            ],
            "sizemode": "area",
            "sizeref": 1.09125,
            "symbol": "circle"
           },
           "mode": "markers",
           "name": "",
           "showlegend": false,
           "type": "scattergeo"
          }
         ],
         "name": "2015"
        }
       ],
       "layout": {
        "geo": {
         "center": {},
         "domain": {
          "x": [
           0,
           1
          ],
          "y": [
           0,
           1
          ]
         },
         "projection": {
          "type": "natural earth"
         }
        },
        "legend": {
         "itemsizing": "constant",
         "tracegroupgap": 0
        },
        "margin": {
         "t": 60
        },
        "sliders": [
         {
          "active": 0,
          "currentvalue": {
           "prefix": "Year="
          },
          "len": 0.9,
          "pad": {
           "b": 10,
           "t": 60
          },
          "steps": [
           {
            "args": [
             [
              "2007"
             ],
             {
              "frame": {
               "duration": 0,
               "redraw": true
              },
              "fromcurrent": true,
              "mode": "immediate",
              "transition": {
               "duration": 0,
               "easing": "linear"
              }
             }
            ],
            "label": "2007",
            "method": "animate"
           },
           {
            "args": [
             [
              "2008"
             ],
             {
              "frame": {
               "duration": 0,
               "redraw": true
              },
              "fromcurrent": true,
              "mode": "immediate",
              "transition": {
               "duration": 0,
               "easing": "linear"
              }
             }
            ],
            "label": "2008",
            "method": "animate"
           },
           {
            "args": [
             [
              "2009"
             ],
             {
              "frame": {
               "duration": 0,
               "redraw": true
              },
              "fromcurrent": true,
              "mode": "immediate",
              "transition": {
               "duration": 0,
               "easing": "linear"
              }
             }
            ],
            "label": "2009",
            "method": "animate"
           },
           {
            "args": [
             [
              "2010"
             ],
             {
              "frame": {
               "duration": 0,
               "redraw": true
              },
              "fromcurrent": true,
              "mode": "immediate",
              "transition": {
               "duration": 0,
               "easing": "linear"
              }
             }
            ],
            "label": "2010",
            "method": "animate"
           },
           {
            "args": [
             [
              "2011"
             ],
             {
              "frame": {
               "duration": 0,
               "redraw": true
              },
              "fromcurrent": true,
              "mode": "immediate",
              "transition": {
               "duration": 0,
               "easing": "linear"
              }
             }
            ],
            "label": "2011",
            "method": "animate"
           },
           {
            "args": [
             [
              "2012"
             ],
             {
              "frame": {
               "duration": 0,
               "redraw": true
              },
              "fromcurrent": true,
              "mode": "immediate",
              "transition": {
               "duration": 0,
               "easing": "linear"
              }
             }
            ],
            "label": "2012",
            "method": "animate"
           },
           {
            "args": [
             [
              "2013"
             ],
             {
              "frame": {
               "duration": 0,
               "redraw": true
              },
              "fromcurrent": true,
              "mode": "immediate",
              "transition": {
               "duration": 0,
               "easing": "linear"
              }
             }
            ],
            "label": "2013",
            "method": "animate"
           },
           {
            "args": [
             [
              "2014"
             ],
             {
              "frame": {
               "duration": 0,
               "redraw": true
              },
              "fromcurrent": true,
              "mode": "immediate",
              "transition": {
               "duration": 0,
               "easing": "linear"
              }
             }
            ],
            "label": "2014",
            "method": "animate"
           },
           {
            "args": [
             [
              "2015"
             ],
             {
              "frame": {
               "duration": 0,
               "redraw": true
              },
              "fromcurrent": true,
              "mode": "immediate",
              "transition": {
               "duration": 0,
               "easing": "linear"
              }
             }
            ],
            "label": "2015",
            "method": "animate"
           }
          ],
          "x": 0.1,
          "xanchor": "left",
          "y": 0,
          "yanchor": "top"
         }
        ],
        "template": {
         "data": {
          "bar": [
           {
            "error_x": {
             "color": "#2a3f5f"
            },
            "error_y": {
             "color": "#2a3f5f"
            },
            "marker": {
             "line": {
              "color": "#E5ECF6",
              "width": 0.5
             },
             "pattern": {
              "fillmode": "overlay",
              "size": 10,
              "solidity": 0.2
             }
            },
            "type": "bar"
           }
          ],
          "barpolar": [
           {
            "marker": {
             "line": {
              "color": "#E5ECF6",
              "width": 0.5
             },
             "pattern": {
              "fillmode": "overlay",
              "size": 10,
              "solidity": 0.2
             }
            },
            "type": "barpolar"
           }
          ],
          "carpet": [
           {
            "aaxis": {
             "endlinecolor": "#2a3f5f",
             "gridcolor": "white",
             "linecolor": "white",
             "minorgridcolor": "white",
             "startlinecolor": "#2a3f5f"
            },
            "baxis": {
             "endlinecolor": "#2a3f5f",
             "gridcolor": "white",
             "linecolor": "white",
             "minorgridcolor": "white",
             "startlinecolor": "#2a3f5f"
            },
            "type": "carpet"
           }
          ],
          "choropleth": [
           {
            "colorbar": {
             "outlinewidth": 0,
             "ticks": ""
            },
            "type": "choropleth"
           }
          ],
          "contour": [
           {
            "colorbar": {
             "outlinewidth": 0,
             "ticks": ""
            },
            "colorscale": [
             [
              0,
              "#0d0887"
             ],
             [
              0.1111111111111111,
              "#46039f"
             ],
             [
              0.2222222222222222,
              "#7201a8"
             ],
             [
              0.3333333333333333,
              "#9c179e"
             ],
             [
              0.4444444444444444,
              "#bd3786"
             ],
             [
              0.5555555555555556,
              "#d8576b"
             ],
             [
              0.6666666666666666,
              "#ed7953"
             ],
             [
              0.7777777777777778,
              "#fb9f3a"
             ],
             [
              0.8888888888888888,
              "#fdca26"
             ],
             [
              1,
              "#f0f921"
             ]
            ],
            "type": "contour"
           }
          ],
          "contourcarpet": [
           {
            "colorbar": {
             "outlinewidth": 0,
             "ticks": ""
            },
            "type": "contourcarpet"
           }
          ],
          "heatmap": [
           {
            "colorbar": {
             "outlinewidth": 0,
             "ticks": ""
            },
            "colorscale": [
             [
              0,
              "#0d0887"
             ],
             [
              0.1111111111111111,
              "#46039f"
             ],
             [
              0.2222222222222222,
              "#7201a8"
             ],
             [
              0.3333333333333333,
              "#9c179e"
             ],
             [
              0.4444444444444444,
              "#bd3786"
             ],
             [
              0.5555555555555556,
              "#d8576b"
             ],
             [
              0.6666666666666666,
              "#ed7953"
             ],
             [
              0.7777777777777778,
              "#fb9f3a"
             ],
             [
              0.8888888888888888,
              "#fdca26"
             ],
             [
              1,
              "#f0f921"
             ]
            ],
            "type": "heatmap"
           }
          ],
          "heatmapgl": [
           {
            "colorbar": {
             "outlinewidth": 0,
             "ticks": ""
            },
            "colorscale": [
             [
              0,
              "#0d0887"
             ],
             [
              0.1111111111111111,
              "#46039f"
             ],
             [
              0.2222222222222222,
              "#7201a8"
             ],
             [
              0.3333333333333333,
              "#9c179e"
             ],
             [
              0.4444444444444444,
              "#bd3786"
             ],
             [
              0.5555555555555556,
              "#d8576b"
             ],
             [
              0.6666666666666666,
              "#ed7953"
             ],
             [
              0.7777777777777778,
              "#fb9f3a"
             ],
             [
              0.8888888888888888,
              "#fdca26"
             ],
             [
              1,
              "#f0f921"
             ]
            ],
            "type": "heatmapgl"
           }
          ],
          "histogram": [
           {
            "marker": {
             "pattern": {
              "fillmode": "overlay",
              "size": 10,
              "solidity": 0.2
             }
            },
            "type": "histogram"
           }
          ],
          "histogram2d": [
           {
            "colorbar": {
             "outlinewidth": 0,
             "ticks": ""
            },
            "colorscale": [
             [
              0,
              "#0d0887"
             ],
             [
              0.1111111111111111,
              "#46039f"
             ],
             [
              0.2222222222222222,
              "#7201a8"
             ],
             [
              0.3333333333333333,
              "#9c179e"
             ],
             [
              0.4444444444444444,
              "#bd3786"
             ],
             [
              0.5555555555555556,
              "#d8576b"
             ],
             [
              0.6666666666666666,
              "#ed7953"
             ],
             [
              0.7777777777777778,
              "#fb9f3a"
             ],
             [
              0.8888888888888888,
              "#fdca26"
             ],
             [
              1,
              "#f0f921"
             ]
            ],
            "type": "histogram2d"
           }
          ],
          "histogram2dcontour": [
           {
            "colorbar": {
             "outlinewidth": 0,
             "ticks": ""
            },
            "colorscale": [
             [
              0,
              "#0d0887"
             ],
             [
              0.1111111111111111,
              "#46039f"
             ],
             [
              0.2222222222222222,
              "#7201a8"
             ],
             [
              0.3333333333333333,
              "#9c179e"
             ],
             [
              0.4444444444444444,
              "#bd3786"
             ],
             [
              0.5555555555555556,
              "#d8576b"
             ],
             [
              0.6666666666666666,
              "#ed7953"
             ],
             [
              0.7777777777777778,
              "#fb9f3a"
             ],
             [
              0.8888888888888888,
              "#fdca26"
             ],
             [
              1,
              "#f0f921"
             ]
            ],
            "type": "histogram2dcontour"
           }
          ],
          "mesh3d": [
           {
            "colorbar": {
             "outlinewidth": 0,
             "ticks": ""
            },
            "type": "mesh3d"
           }
          ],
          "parcoords": [
           {
            "line": {
             "colorbar": {
              "outlinewidth": 0,
              "ticks": ""
             }
            },
            "type": "parcoords"
           }
          ],
          "pie": [
           {
            "automargin": true,
            "type": "pie"
           }
          ],
          "scatter": [
           {
            "fillpattern": {
             "fillmode": "overlay",
             "size": 10,
             "solidity": 0.2
            },
            "type": "scatter"
           }
          ],
          "scatter3d": [
           {
            "line": {
             "colorbar": {
              "outlinewidth": 0,
              "ticks": ""
             }
            },
            "marker": {
             "colorbar": {
              "outlinewidth": 0,
              "ticks": ""
             }
            },
            "type": "scatter3d"
           }
          ],
          "scattercarpet": [
           {
            "marker": {
             "colorbar": {
              "outlinewidth": 0,
              "ticks": ""
             }
            },
            "type": "scattercarpet"
           }
          ],
          "scattergeo": [
           {
            "marker": {
             "colorbar": {
              "outlinewidth": 0,
              "ticks": ""
             }
            },
            "type": "scattergeo"
           }
          ],
          "scattergl": [
           {
            "marker": {
             "colorbar": {
              "outlinewidth": 0,
              "ticks": ""
             }
            },
            "type": "scattergl"
           }
          ],
          "scattermapbox": [
           {
            "marker": {
             "colorbar": {
              "outlinewidth": 0,
              "ticks": ""
             }
            },
            "type": "scattermapbox"
           }
          ],
          "scatterpolar": [
           {
            "marker": {
             "colorbar": {
              "outlinewidth": 0,
              "ticks": ""
             }
            },
            "type": "scatterpolar"
           }
          ],
          "scatterpolargl": [
           {
            "marker": {
             "colorbar": {
              "outlinewidth": 0,
              "ticks": ""
             }
            },
            "type": "scatterpolargl"
           }
          ],
          "scatterternary": [
           {
            "marker": {
             "colorbar": {
              "outlinewidth": 0,
              "ticks": ""
             }
            },
            "type": "scatterternary"
           }
          ],
          "surface": [
           {
            "colorbar": {
             "outlinewidth": 0,
             "ticks": ""
            },
            "colorscale": [
             [
              0,
              "#0d0887"
             ],
             [
              0.1111111111111111,
              "#46039f"
             ],
             [
              0.2222222222222222,
              "#7201a8"
             ],
             [
              0.3333333333333333,
              "#9c179e"
             ],
             [
              0.4444444444444444,
              "#bd3786"
             ],
             [
              0.5555555555555556,
              "#d8576b"
             ],
             [
              0.6666666666666666,
              "#ed7953"
             ],
             [
              0.7777777777777778,
              "#fb9f3a"
             ],
             [
              0.8888888888888888,
              "#fdca26"
             ],
             [
              1,
              "#f0f921"
             ]
            ],
            "type": "surface"
           }
          ],
          "table": [
           {
            "cells": {
             "fill": {
              "color": "#EBF0F8"
             },
             "line": {
              "color": "white"
             }
            },
            "header": {
             "fill": {
              "color": "#C8D4E3"
             },
             "line": {
              "color": "white"
             }
            },
            "type": "table"
           }
          ]
         },
         "layout": {
          "annotationdefaults": {
           "arrowcolor": "#2a3f5f",
           "arrowhead": 0,
           "arrowwidth": 1
          },
          "autotypenumbers": "strict",
          "coloraxis": {
           "colorbar": {
            "outlinewidth": 0,
            "ticks": ""
           }
          },
          "colorscale": {
           "diverging": [
            [
             0,
             "#8e0152"
            ],
            [
             0.1,
             "#c51b7d"
            ],
            [
             0.2,
             "#de77ae"
            ],
            [
             0.3,
             "#f1b6da"
            ],
            [
             0.4,
             "#fde0ef"
            ],
            [
             0.5,
             "#f7f7f7"
            ],
            [
             0.6,
             "#e6f5d0"
            ],
            [
             0.7,
             "#b8e186"
            ],
            [
             0.8,
             "#7fbc41"
            ],
            [
             0.9,
             "#4d9221"
            ],
            [
             1,
             "#276419"
            ]
           ],
           "sequential": [
            [
             0,
             "#0d0887"
            ],
            [
             0.1111111111111111,
             "#46039f"
            ],
            [
             0.2222222222222222,
             "#7201a8"
            ],
            [
             0.3333333333333333,
             "#9c179e"
            ],
            [
             0.4444444444444444,
             "#bd3786"
            ],
            [
             0.5555555555555556,
             "#d8576b"
            ],
            [
             0.6666666666666666,
             "#ed7953"
            ],
            [
             0.7777777777777778,
             "#fb9f3a"
            ],
            [
             0.8888888888888888,
             "#fdca26"
            ],
            [
             1,
             "#f0f921"
            ]
           ],
           "sequentialminus": [
            [
             0,
             "#0d0887"
            ],
            [
             0.1111111111111111,
             "#46039f"
            ],
            [
             0.2222222222222222,
             "#7201a8"
            ],
            [
             0.3333333333333333,
             "#9c179e"
            ],
            [
             0.4444444444444444,
             "#bd3786"
            ],
            [
             0.5555555555555556,
             "#d8576b"
            ],
            [
             0.6666666666666666,
             "#ed7953"
            ],
            [
             0.7777777777777778,
             "#fb9f3a"
            ],
            [
             0.8888888888888888,
             "#fdca26"
            ],
            [
             1,
             "#f0f921"
            ]
           ]
          },
          "colorway": [
           "#636efa",
           "#EF553B",
           "#00cc96",
           "#ab63fa",
           "#FFA15A",
           "#19d3f3",
           "#FF6692",
           "#B6E880",
           "#FF97FF",
           "#FECB52"
          ],
          "font": {
           "color": "#2a3f5f"
          },
          "geo": {
           "bgcolor": "white",
           "lakecolor": "white",
           "landcolor": "#E5ECF6",
           "showlakes": true,
           "showland": true,
           "subunitcolor": "white"
          },
          "hoverlabel": {
           "align": "left"
          },
          "hovermode": "closest",
          "mapbox": {
           "style": "light"
          },
          "paper_bgcolor": "white",
          "plot_bgcolor": "#E5ECF6",
          "polar": {
           "angularaxis": {
            "gridcolor": "white",
            "linecolor": "white",
            "ticks": ""
           },
           "bgcolor": "#E5ECF6",
           "radialaxis": {
            "gridcolor": "white",
            "linecolor": "white",
            "ticks": ""
           }
          },
          "scene": {
           "xaxis": {
            "backgroundcolor": "#E5ECF6",
            "gridcolor": "white",
            "gridwidth": 2,
            "linecolor": "white",
            "showbackground": true,
            "ticks": "",
            "zerolinecolor": "white"
           },
           "yaxis": {
            "backgroundcolor": "#E5ECF6",
            "gridcolor": "white",
            "gridwidth": 2,
            "linecolor": "white",
            "showbackground": true,
            "ticks": "",
            "zerolinecolor": "white"
           },
           "zaxis": {
            "backgroundcolor": "#E5ECF6",
            "gridcolor": "white",
            "gridwidth": 2,
            "linecolor": "white",
            "showbackground": true,
            "ticks": "",
            "zerolinecolor": "white"
           }
          },
          "shapedefaults": {
           "line": {
            "color": "#2a3f5f"
           }
          },
          "ternary": {
           "aaxis": {
            "gridcolor": "white",
            "linecolor": "white",
            "ticks": ""
           },
           "baxis": {
            "gridcolor": "white",
            "linecolor": "white",
            "ticks": ""
           },
           "bgcolor": "#E5ECF6",
           "caxis": {
            "gridcolor": "white",
            "linecolor": "white",
            "ticks": ""
           }
          },
          "title": {
           "x": 0.05
          },
          "xaxis": {
           "automargin": true,
           "gridcolor": "white",
           "linecolor": "white",
           "ticks": "",
           "title": {
            "standoff": 15
           },
           "zerolinecolor": "white",
           "zerolinewidth": 2
          },
          "yaxis": {
           "automargin": true,
           "gridcolor": "white",
           "linecolor": "white",
           "ticks": "",
           "title": {
            "standoff": 15
           },
           "zerolinecolor": "white",
           "zerolinewidth": 2
          }
         }
        },
        "title": {
         "text": "Cement Per Capita Consumption (kg/person)"
        },
        "updatemenus": [
         {
          "buttons": [
           {
            "args": [
             null,
             {
              "frame": {
               "duration": 500,
               "redraw": true
              },
              "fromcurrent": true,
              "mode": "immediate",
              "transition": {
               "duration": 500,
               "easing": "linear"
              }
             }
            ],
            "label": "&#9654;",
            "method": "animate"
           },
           {
            "args": [
             [
              null
             ],
             {
              "frame": {
               "duration": 0,
               "redraw": true
              },
              "fromcurrent": true,
              "mode": "immediate",
              "transition": {
               "duration": 0,
               "easing": "linear"
              }
             }
            ],
            "label": "&#9724;",
            "method": "animate"
           }
          ],
          "direction": "left",
          "pad": {
           "r": 10,
           "t": 70
          },
          "showactive": false,
          "type": "buttons",
          "x": 0.1,
          "xanchor": "right",
          "y": 0,
          "yanchor": "top"
         }
        ]
       }
      },
      "text/html": [
       "<div>                            <div id=\"89b67da9-20fe-4d72-95be-d124196f4af4\" class=\"plotly-graph-div\" style=\"height:525px; width:100%;\"></div>            <script type=\"text/javascript\">                require([\"plotly\"], function(Plotly) {                    window.PLOTLYENV=window.PLOTLYENV || {};                                    if (document.getElementById(\"89b67da9-20fe-4d72-95be-d124196f4af4\")) {                    Plotly.newPlot(                        \"89b67da9-20fe-4d72-95be-d124196f4af4\",                        [{\"geo\":\"geo\",\"hovertemplate\":\"<b>%{hovertext}</b><br><br>Year=2007<br>Per Capita Consumption=%{marker.size}<br>Code=%{location}<extra></extra>\",\"hovertext\":[\"IRL\",\"USA\",\"BRA\",\"CHN\",\"DEU\",\"RUS\",\"AUS\",\"VNM\",\"JPN\",\"IRN\"],\"legendgroup\":\"\",\"locations\":[\"IRL\",\"USA\",\"BRA\",\"CHN\",\"DEU\",\"RUS\",\"AUS\",\"VNM\",\"JPN\",\"IRN\"],\"marker\":{\"color\":\"#636efa\",\"size\":[810.1,391.0,238.7,985.0,338.9,421.6,452.8,431.7,458.5,569.0],\"sizemode\":\"area\",\"sizeref\":1.09125,\"symbol\":\"circle\"},\"mode\":\"markers\",\"name\":\"\",\"showlegend\":false,\"type\":\"scattergeo\"}],                        {\"template\":{\"data\":{\"histogram2dcontour\":[{\"type\":\"histogram2dcontour\",\"colorbar\":{\"outlinewidth\":0,\"ticks\":\"\"},\"colorscale\":[[0.0,\"#0d0887\"],[0.1111111111111111,\"#46039f\"],[0.2222222222222222,\"#7201a8\"],[0.3333333333333333,\"#9c179e\"],[0.4444444444444444,\"#bd3786\"],[0.5555555555555556,\"#d8576b\"],[0.6666666666666666,\"#ed7953\"],[0.7777777777777778,\"#fb9f3a\"],[0.8888888888888888,\"#fdca26\"],[1.0,\"#f0f921\"]]}],\"choropleth\":[{\"type\":\"choropleth\",\"colorbar\":{\"outlinewidth\":0,\"ticks\":\"\"}}],\"histogram2d\":[{\"type\":\"histogram2d\",\"colorbar\":{\"outlinewidth\":0,\"ticks\":\"\"},\"colorscale\":[[0.0,\"#0d0887\"],[0.1111111111111111,\"#46039f\"],[0.2222222222222222,\"#7201a8\"],[0.3333333333333333,\"#9c179e\"],[0.4444444444444444,\"#bd3786\"],[0.5555555555555556,\"#d8576b\"],[0.6666666666666666,\"#ed7953\"],[0.7777777777777778,\"#fb9f3a\"],[0.8888888888888888,\"#fdca26\"],[1.0,\"#f0f921\"]]}],\"heatmap\":[{\"type\":\"heatmap\",\"colorbar\":{\"outlinewidth\":0,\"ticks\":\"\"},\"colorscale\":[[0.0,\"#0d0887\"],[0.1111111111111111,\"#46039f\"],[0.2222222222222222,\"#7201a8\"],[0.3333333333333333,\"#9c179e\"],[0.4444444444444444,\"#bd3786\"],[0.5555555555555556,\"#d8576b\"],[0.6666666666666666,\"#ed7953\"],[0.7777777777777778,\"#fb9f3a\"],[0.8888888888888888,\"#fdca26\"],[1.0,\"#f0f921\"]]}],\"heatmapgl\":[{\"type\":\"heatmapgl\",\"colorbar\":{\"outlinewidth\":0,\"ticks\":\"\"},\"colorscale\":[[0.0,\"#0d0887\"],[0.1111111111111111,\"#46039f\"],[0.2222222222222222,\"#7201a8\"],[0.3333333333333333,\"#9c179e\"],[0.4444444444444444,\"#bd3786\"],[0.5555555555555556,\"#d8576b\"],[0.6666666666666666,\"#ed7953\"],[0.7777777777777778,\"#fb9f3a\"],[0.8888888888888888,\"#fdca26\"],[1.0,\"#f0f921\"]]}],\"contourcarpet\":[{\"type\":\"contourcarpet\",\"colorbar\":{\"outlinewidth\":0,\"ticks\":\"\"}}],\"contour\":[{\"type\":\"contour\",\"colorbar\":{\"outlinewidth\":0,\"ticks\":\"\"},\"colorscale\":[[0.0,\"#0d0887\"],[0.1111111111111111,\"#46039f\"],[0.2222222222222222,\"#7201a8\"],[0.3333333333333333,\"#9c179e\"],[0.4444444444444444,\"#bd3786\"],[0.5555555555555556,\"#d8576b\"],[0.6666666666666666,\"#ed7953\"],[0.7777777777777778,\"#fb9f3a\"],[0.8888888888888888,\"#fdca26\"],[1.0,\"#f0f921\"]]}],\"surface\":[{\"type\":\"surface\",\"colorbar\":{\"outlinewidth\":0,\"ticks\":\"\"},\"colorscale\":[[0.0,\"#0d0887\"],[0.1111111111111111,\"#46039f\"],[0.2222222222222222,\"#7201a8\"],[0.3333333333333333,\"#9c179e\"],[0.4444444444444444,\"#bd3786\"],[0.5555555555555556,\"#d8576b\"],[0.6666666666666666,\"#ed7953\"],[0.7777777777777778,\"#fb9f3a\"],[0.8888888888888888,\"#fdca26\"],[1.0,\"#f0f921\"]]}],\"mesh3d\":[{\"type\":\"mesh3d\",\"colorbar\":{\"outlinewidth\":0,\"ticks\":\"\"}}],\"scatter\":[{\"fillpattern\":{\"fillmode\":\"overlay\",\"size\":10,\"solidity\":0.2},\"type\":\"scatter\"}],\"parcoords\":[{\"type\":\"parcoords\",\"line\":{\"colorbar\":{\"outlinewidth\":0,\"ticks\":\"\"}}}],\"scatterpolargl\":[{\"type\":\"scatterpolargl\",\"marker\":{\"colorbar\":{\"outlinewidth\":0,\"ticks\":\"\"}}}],\"bar\":[{\"error_x\":{\"color\":\"#2a3f5f\"},\"error_y\":{\"color\":\"#2a3f5f\"},\"marker\":{\"line\":{\"color\":\"#E5ECF6\",\"width\":0.5},\"pattern\":{\"fillmode\":\"overlay\",\"size\":10,\"solidity\":0.2}},\"type\":\"bar\"}],\"scattergeo\":[{\"type\":\"scattergeo\",\"marker\":{\"colorbar\":{\"outlinewidth\":0,\"ticks\":\"\"}}}],\"scatterpolar\":[{\"type\":\"scatterpolar\",\"marker\":{\"colorbar\":{\"outlinewidth\":0,\"ticks\":\"\"}}}],\"histogram\":[{\"marker\":{\"pattern\":{\"fillmode\":\"overlay\",\"size\":10,\"solidity\":0.2}},\"type\":\"histogram\"}],\"scattergl\":[{\"type\":\"scattergl\",\"marker\":{\"colorbar\":{\"outlinewidth\":0,\"ticks\":\"\"}}}],\"scatter3d\":[{\"type\":\"scatter3d\",\"line\":{\"colorbar\":{\"outlinewidth\":0,\"ticks\":\"\"}},\"marker\":{\"colorbar\":{\"outlinewidth\":0,\"ticks\":\"\"}}}],\"scattermapbox\":[{\"type\":\"scattermapbox\",\"marker\":{\"colorbar\":{\"outlinewidth\":0,\"ticks\":\"\"}}}],\"scatterternary\":[{\"type\":\"scatterternary\",\"marker\":{\"colorbar\":{\"outlinewidth\":0,\"ticks\":\"\"}}}],\"scattercarpet\":[{\"type\":\"scattercarpet\",\"marker\":{\"colorbar\":{\"outlinewidth\":0,\"ticks\":\"\"}}}],\"carpet\":[{\"aaxis\":{\"endlinecolor\":\"#2a3f5f\",\"gridcolor\":\"white\",\"linecolor\":\"white\",\"minorgridcolor\":\"white\",\"startlinecolor\":\"#2a3f5f\"},\"baxis\":{\"endlinecolor\":\"#2a3f5f\",\"gridcolor\":\"white\",\"linecolor\":\"white\",\"minorgridcolor\":\"white\",\"startlinecolor\":\"#2a3f5f\"},\"type\":\"carpet\"}],\"table\":[{\"cells\":{\"fill\":{\"color\":\"#EBF0F8\"},\"line\":{\"color\":\"white\"}},\"header\":{\"fill\":{\"color\":\"#C8D4E3\"},\"line\":{\"color\":\"white\"}},\"type\":\"table\"}],\"barpolar\":[{\"marker\":{\"line\":{\"color\":\"#E5ECF6\",\"width\":0.5},\"pattern\":{\"fillmode\":\"overlay\",\"size\":10,\"solidity\":0.2}},\"type\":\"barpolar\"}],\"pie\":[{\"automargin\":true,\"type\":\"pie\"}]},\"layout\":{\"autotypenumbers\":\"strict\",\"colorway\":[\"#636efa\",\"#EF553B\",\"#00cc96\",\"#ab63fa\",\"#FFA15A\",\"#19d3f3\",\"#FF6692\",\"#B6E880\",\"#FF97FF\",\"#FECB52\"],\"font\":{\"color\":\"#2a3f5f\"},\"hovermode\":\"closest\",\"hoverlabel\":{\"align\":\"left\"},\"paper_bgcolor\":\"white\",\"plot_bgcolor\":\"#E5ECF6\",\"polar\":{\"bgcolor\":\"#E5ECF6\",\"angularaxis\":{\"gridcolor\":\"white\",\"linecolor\":\"white\",\"ticks\":\"\"},\"radialaxis\":{\"gridcolor\":\"white\",\"linecolor\":\"white\",\"ticks\":\"\"}},\"ternary\":{\"bgcolor\":\"#E5ECF6\",\"aaxis\":{\"gridcolor\":\"white\",\"linecolor\":\"white\",\"ticks\":\"\"},\"baxis\":{\"gridcolor\":\"white\",\"linecolor\":\"white\",\"ticks\":\"\"},\"caxis\":{\"gridcolor\":\"white\",\"linecolor\":\"white\",\"ticks\":\"\"}},\"coloraxis\":{\"colorbar\":{\"outlinewidth\":0,\"ticks\":\"\"}},\"colorscale\":{\"sequential\":[[0.0,\"#0d0887\"],[0.1111111111111111,\"#46039f\"],[0.2222222222222222,\"#7201a8\"],[0.3333333333333333,\"#9c179e\"],[0.4444444444444444,\"#bd3786\"],[0.5555555555555556,\"#d8576b\"],[0.6666666666666666,\"#ed7953\"],[0.7777777777777778,\"#fb9f3a\"],[0.8888888888888888,\"#fdca26\"],[1.0,\"#f0f921\"]],\"sequentialminus\":[[0.0,\"#0d0887\"],[0.1111111111111111,\"#46039f\"],[0.2222222222222222,\"#7201a8\"],[0.3333333333333333,\"#9c179e\"],[0.4444444444444444,\"#bd3786\"],[0.5555555555555556,\"#d8576b\"],[0.6666666666666666,\"#ed7953\"],[0.7777777777777778,\"#fb9f3a\"],[0.8888888888888888,\"#fdca26\"],[1.0,\"#f0f921\"]],\"diverging\":[[0,\"#8e0152\"],[0.1,\"#c51b7d\"],[0.2,\"#de77ae\"],[0.3,\"#f1b6da\"],[0.4,\"#fde0ef\"],[0.5,\"#f7f7f7\"],[0.6,\"#e6f5d0\"],[0.7,\"#b8e186\"],[0.8,\"#7fbc41\"],[0.9,\"#4d9221\"],[1,\"#276419\"]]},\"xaxis\":{\"gridcolor\":\"white\",\"linecolor\":\"white\",\"ticks\":\"\",\"title\":{\"standoff\":15},\"zerolinecolor\":\"white\",\"automargin\":true,\"zerolinewidth\":2},\"yaxis\":{\"gridcolor\":\"white\",\"linecolor\":\"white\",\"ticks\":\"\",\"title\":{\"standoff\":15},\"zerolinecolor\":\"white\",\"automargin\":true,\"zerolinewidth\":2},\"scene\":{\"xaxis\":{\"backgroundcolor\":\"#E5ECF6\",\"gridcolor\":\"white\",\"linecolor\":\"white\",\"showbackground\":true,\"ticks\":\"\",\"zerolinecolor\":\"white\",\"gridwidth\":2},\"yaxis\":{\"backgroundcolor\":\"#E5ECF6\",\"gridcolor\":\"white\",\"linecolor\":\"white\",\"showbackground\":true,\"ticks\":\"\",\"zerolinecolor\":\"white\",\"gridwidth\":2},\"zaxis\":{\"backgroundcolor\":\"#E5ECF6\",\"gridcolor\":\"white\",\"linecolor\":\"white\",\"showbackground\":true,\"ticks\":\"\",\"zerolinecolor\":\"white\",\"gridwidth\":2}},\"shapedefaults\":{\"line\":{\"color\":\"#2a3f5f\"}},\"annotationdefaults\":{\"arrowcolor\":\"#2a3f5f\",\"arrowhead\":0,\"arrowwidth\":1},\"geo\":{\"bgcolor\":\"white\",\"landcolor\":\"#E5ECF6\",\"subunitcolor\":\"white\",\"showland\":true,\"showlakes\":true,\"lakecolor\":\"white\"},\"title\":{\"x\":0.05},\"mapbox\":{\"style\":\"light\"}}},\"geo\":{\"domain\":{\"x\":[0.0,1.0],\"y\":[0.0,1.0]},\"center\":{},\"projection\":{\"type\":\"natural earth\"}},\"legend\":{\"tracegroupgap\":0,\"itemsizing\":\"constant\"},\"margin\":{\"t\":60},\"updatemenus\":[{\"buttons\":[{\"args\":[null,{\"frame\":{\"duration\":500,\"redraw\":true},\"mode\":\"immediate\",\"fromcurrent\":true,\"transition\":{\"duration\":500,\"easing\":\"linear\"}}],\"label\":\"&#9654;\",\"method\":\"animate\"},{\"args\":[[null],{\"frame\":{\"duration\":0,\"redraw\":true},\"mode\":\"immediate\",\"fromcurrent\":true,\"transition\":{\"duration\":0,\"easing\":\"linear\"}}],\"label\":\"&#9724;\",\"method\":\"animate\"}],\"direction\":\"left\",\"pad\":{\"r\":10,\"t\":70},\"showactive\":false,\"type\":\"buttons\",\"x\":0.1,\"xanchor\":\"right\",\"y\":0,\"yanchor\":\"top\"}],\"sliders\":[{\"active\":0,\"currentvalue\":{\"prefix\":\"Year=\"},\"len\":0.9,\"pad\":{\"b\":10,\"t\":60},\"steps\":[{\"args\":[[\"2007\"],{\"frame\":{\"duration\":0,\"redraw\":true},\"mode\":\"immediate\",\"fromcurrent\":true,\"transition\":{\"duration\":0,\"easing\":\"linear\"}}],\"label\":\"2007\",\"method\":\"animate\"},{\"args\":[[\"2008\"],{\"frame\":{\"duration\":0,\"redraw\":true},\"mode\":\"immediate\",\"fromcurrent\":true,\"transition\":{\"duration\":0,\"easing\":\"linear\"}}],\"label\":\"2008\",\"method\":\"animate\"},{\"args\":[[\"2009\"],{\"frame\":{\"duration\":0,\"redraw\":true},\"mode\":\"immediate\",\"fromcurrent\":true,\"transition\":{\"duration\":0,\"easing\":\"linear\"}}],\"label\":\"2009\",\"method\":\"animate\"},{\"args\":[[\"2010\"],{\"frame\":{\"duration\":0,\"redraw\":true},\"mode\":\"immediate\",\"fromcurrent\":true,\"transition\":{\"duration\":0,\"easing\":\"linear\"}}],\"label\":\"2010\",\"method\":\"animate\"},{\"args\":[[\"2011\"],{\"frame\":{\"duration\":0,\"redraw\":true},\"mode\":\"immediate\",\"fromcurrent\":true,\"transition\":{\"duration\":0,\"easing\":\"linear\"}}],\"label\":\"2011\",\"method\":\"animate\"},{\"args\":[[\"2012\"],{\"frame\":{\"duration\":0,\"redraw\":true},\"mode\":\"immediate\",\"fromcurrent\":true,\"transition\":{\"duration\":0,\"easing\":\"linear\"}}],\"label\":\"2012\",\"method\":\"animate\"},{\"args\":[[\"2013\"],{\"frame\":{\"duration\":0,\"redraw\":true},\"mode\":\"immediate\",\"fromcurrent\":true,\"transition\":{\"duration\":0,\"easing\":\"linear\"}}],\"label\":\"2013\",\"method\":\"animate\"},{\"args\":[[\"2014\"],{\"frame\":{\"duration\":0,\"redraw\":true},\"mode\":\"immediate\",\"fromcurrent\":true,\"transition\":{\"duration\":0,\"easing\":\"linear\"}}],\"label\":\"2014\",\"method\":\"animate\"},{\"args\":[[\"2015\"],{\"frame\":{\"duration\":0,\"redraw\":true},\"mode\":\"immediate\",\"fromcurrent\":true,\"transition\":{\"duration\":0,\"easing\":\"linear\"}}],\"label\":\"2015\",\"method\":\"animate\"}],\"x\":0.1,\"xanchor\":\"left\",\"y\":0,\"yanchor\":\"top\"}],\"title\":{\"text\":\"Cement Per Capita Consumption (kg/person)\"}},                        {\"responsive\": true}                    ).then(function(){\n",
       "                            Plotly.addFrames('89b67da9-20fe-4d72-95be-d124196f4af4', [{\"data\":[{\"geo\":\"geo\",\"hovertemplate\":\"<b>%{hovertext}</b><br><br>Year=2007<br>Per Capita Consumption=%{marker.size}<br>Code=%{location}<extra></extra>\",\"hovertext\":[\"IRL\",\"USA\",\"BRA\",\"CHN\",\"DEU\",\"RUS\",\"AUS\",\"VNM\",\"JPN\",\"IRN\"],\"legendgroup\":\"\",\"locations\":[\"IRL\",\"USA\",\"BRA\",\"CHN\",\"DEU\",\"RUS\",\"AUS\",\"VNM\",\"JPN\",\"IRN\"],\"marker\":{\"color\":\"#636efa\",\"size\":[810.1,391.0,238.7,985.0,338.9,421.6,452.8,431.7,458.5,569.0],\"sizemode\":\"area\",\"sizeref\":1.09125,\"symbol\":\"circle\"},\"mode\":\"markers\",\"name\":\"\",\"showlegend\":false,\"type\":\"scattergeo\"}],\"name\":\"2007\"},{\"data\":[{\"geo\":\"geo\",\"hovertemplate\":\"<b>%{hovertext}</b><br><br>Year=2008<br>Per Capita Consumption=%{marker.size}<br>Code=%{location}<extra></extra>\",\"hovertext\":[\"IRL\",\"USA\",\"BRA\",\"CHN\",\"DEU\",\"RUS\",\"AUS\",\"VNM\",\"JPN\",\"IRN\"],\"legendgroup\":\"\",\"locations\":[\"IRL\",\"USA\",\"BRA\",\"CHN\",\"DEU\",\"RUS\",\"AUS\",\"VNM\",\"JPN\",\"IRN\"],\"marker\":{\"color\":\"#636efa\",\"size\":[777.2,321.5,267.7,1009.0,338.4,411.8,472.6,461.7,447.0,608.9],\"sizemode\":\"area\",\"sizeref\":1.09125,\"symbol\":\"circle\"},\"mode\":\"markers\",\"name\":\"\",\"showlegend\":false,\"type\":\"scattergeo\"}],\"name\":\"2008\"},{\"data\":[{\"geo\":\"geo\",\"hovertemplate\":\"<b>%{hovertext}</b><br><br>Year=2009<br>Per Capita Consumption=%{marker.size}<br>Code=%{location}<extra></extra>\",\"hovertext\":[\"IRL\",\"USA\",\"BRA\",\"CHN\",\"DEU\",\"RUS\",\"AUS\",\"VNM\",\"JPN\",\"IRN\"],\"legendgroup\":\"\",\"locations\":[\"IRL\",\"USA\",\"BRA\",\"CHN\",\"DEU\",\"RUS\",\"AUS\",\"VNM\",\"JPN\",\"IRN\"],\"marker\":{\"color\":\"#636efa\",\"size\":[382.6,229.4,267.3,1183.0,307.8,307.8,442.3,547.4,385.2,670.0],\"sizemode\":\"area\",\"sizeref\":1.09125,\"symbol\":\"circle\"},\"mode\":\"markers\",\"name\":\"\",\"showlegend\":false,\"type\":\"scattergeo\"}],\"name\":\"2009\"},{\"data\":[{\"geo\":\"geo\",\"hovertemplate\":\"<b>%{hovertext}</b><br><br>Year=2010<br>Per Capita Consumption=%{marker.size}<br>Code=%{location}<extra></extra>\",\"hovertext\":[\"IRL\",\"USA\",\"BRA\",\"CHN\",\"DEU\",\"RUS\",\"AUS\",\"VNM\",\"JPN\",\"IRN\"],\"legendgroup\":\"\",\"locations\":[\"IRL\",\"USA\",\"BRA\",\"CHN\",\"DEU\",\"RUS\",\"AUS\",\"VNM\",\"JPN\",\"IRN\"],\"marker\":{\"color\":\"#636efa\",\"size\":[368.2,233.1,304.6,1346.0,306.0,355.3,425.6,628.4,363.7,653.2],\"sizemode\":\"area\",\"sizeref\":1.09125,\"symbol\":\"circle\"},\"mode\":\"markers\",\"name\":\"\",\"showlegend\":false,\"type\":\"scattergeo\"}],\"name\":\"2010\"},{\"data\":[{\"geo\":\"geo\",\"hovertemplate\":\"<b>%{hovertext}</b><br><br>Year=2011<br>Per Capita Consumption=%{marker.size}<br>Code=%{location}<extra></extra>\",\"hovertext\":[\"IRL\",\"USA\",\"BRA\",\"CHN\",\"DEU\",\"RUS\",\"AUS\",\"VNM\",\"JPN\",\"IRN\"],\"legendgroup\":\"\",\"locations\":[\"IRL\",\"USA\",\"BRA\",\"CHN\",\"DEU\",\"RUS\",\"AUS\",\"VNM\",\"JPN\",\"IRN\"],\"marker\":{\"color\":\"#636efa\",\"size\":[270.8,234.5,327.9,1495.0,330.7,406.0,405.1,647.5,366.5,861.6],\"sizemode\":\"area\",\"sizeref\":1.09125,\"symbol\":\"circle\"},\"mode\":\"markers\",\"name\":\"\",\"showlegend\":false,\"type\":\"scattergeo\"}],\"name\":\"2011\"},{\"data\":[{\"geo\":\"geo\",\"hovertemplate\":\"<b>%{hovertext}</b><br><br>Year=2012<br>Per Capita Consumption=%{marker.size}<br>Code=%{location}<extra></extra>\",\"hovertext\":[\"IRL\",\"USA\",\"BRA\",\"CHN\",\"DEU\",\"RUS\",\"AUS\",\"VNM\",\"JPN\",\"IRN\"],\"legendgroup\":\"\",\"locations\":[\"IRL\",\"USA\",\"BRA\",\"CHN\",\"DEU\",\"RUS\",\"AUS\",\"VNM\",\"JPN\",\"IRN\"],\"marker\":{\"color\":\"#636efa\",\"size\":[10.4,252.8,350.4,1566.0,335.1,449.5,399.1,610.1,390.7,902.8],\"sizemode\":\"area\",\"sizeref\":1.09125,\"symbol\":\"circle\"},\"mode\":\"markers\",\"name\":\"\",\"showlegend\":false,\"type\":\"scattergeo\"}],\"name\":\"2012\"},{\"data\":[{\"geo\":\"geo\",\"hovertemplate\":\"<b>%{hovertext}</b><br><br>Year=2013<br>Per Capita Consumption=%{marker.size}<br>Code=%{location}<extra></extra>\",\"hovertext\":[\"IRL\",\"USA\",\"BRA\",\"CHN\",\"DEU\",\"RUS\",\"AUS\",\"VNM\",\"JPN\",\"IRN\"],\"legendgroup\":\"\",\"locations\":[\"IRL\",\"USA\",\"BRA\",\"CHN\",\"DEU\",\"RUS\",\"AUS\",\"VNM\",\"JPN\",\"IRN\"],\"marker\":{\"color\":\"#636efa\",\"size\":[182.8,260.0,350.7,1698.0,327.4,481.4,380.6,591.4,417.5,862.3],\"sizemode\":\"area\",\"sizeref\":1.09125,\"symbol\":\"circle\"},\"mode\":\"markers\",\"name\":\"\",\"showlegend\":false,\"type\":\"scattergeo\"}],\"name\":\"2013\"},{\"data\":[{\"geo\":\"geo\",\"hovertemplate\":\"<b>%{hovertext}</b><br><br>Year=2014<br>Per Capita Consumption=%{marker.size}<br>Code=%{location}<extra></extra>\",\"hovertext\":[\"IRL\",\"USA\",\"BRA\",\"CHN\",\"DEU\",\"RUS\",\"AUS\",\"VNM\",\"JPN\",\"IRN\"],\"legendgroup\":\"\",\"locations\":[\"IRL\",\"USA\",\"BRA\",\"CHN\",\"DEU\",\"RUS\",\"AUS\",\"VNM\",\"JPN\",\"IRN\"],\"marker\":{\"color\":\"#636efa\",\"size\":[124.0,271.8,352.7,1746.0,339.6,499.2,399.4,617.9,415.8,800.3],\"sizemode\":\"area\",\"sizeref\":1.09125,\"symbol\":\"circle\"},\"mode\":\"markers\",\"name\":\"\",\"showlegend\":false,\"type\":\"scattergeo\"}],\"name\":\"2014\"},{\"data\":[{\"geo\":\"geo\",\"hovertemplate\":\"<b>%{hovertext}</b><br><br>Year=2015<br>Per Capita Consumption=%{marker.size}<br>Code=%{location}<extra></extra>\",\"hovertext\":[\"IRL\",\"USA\",\"BRA\",\"CHN\",\"DEU\",\"RUS\",\"AUS\",\"VNM\",\"JPN\",\"IRN\"],\"legendgroup\":\"\",\"locations\":[\"IRL\",\"USA\",\"BRA\",\"CHN\",\"DEU\",\"RUS\",\"AUS\",\"VNM\",\"JPN\",\"IRN\"],\"marker\":{\"color\":\"#636efa\",\"size\":[141.9,318.7,318.7,1645.0,320.7,439.7,394.7,689.5,386.3,626.9],\"sizemode\":\"area\",\"sizeref\":1.09125,\"symbol\":\"circle\"},\"mode\":\"markers\",\"name\":\"\",\"showlegend\":false,\"type\":\"scattergeo\"}],\"name\":\"2015\"}]);\n",
       "                        }).then(function(){\n",
       "                            \n",
       "var gd = document.getElementById('89b67da9-20fe-4d72-95be-d124196f4af4');\n",
       "var x = new MutationObserver(function (mutations, observer) {{\n",
       "        var display = window.getComputedStyle(gd).display;\n",
       "        if (!display || display === 'none') {{\n",
       "            console.log([gd, 'removed!']);\n",
       "            Plotly.purge(gd);\n",
       "            observer.disconnect();\n",
       "        }}\n",
       "}});\n",
       "\n",
       "// Listen for the removal of the full notebook cells\n",
       "var notebookContainer = gd.closest('#notebook-container');\n",
       "if (notebookContainer) {{\n",
       "    x.observe(notebookContainer, {childList: true});\n",
       "}}\n",
       "\n",
       "// Listen for the clearing of the current output cell\n",
       "var outputEl = gd.closest('.output');\n",
       "if (outputEl) {{\n",
       "    x.observe(outputEl, {childList: true});\n",
       "}}\n",
       "\n",
       "                        })                };                });            </script>        </div>"
      ]
     },
     "metadata": {},
     "output_type": "display_data"
    }
   ],
   "source": [
    "# Interactive scatterplot map graph: Cement Per Capita Consumption (kg/person)\n",
    "\n",
    "fig = px.scatter_geo(cement_merge, \n",
    "                    locations=\"Code\", \n",
    "                     # name of column which contains state codes\n",
    "                    size=\"Per Capita Consumption\", \n",
    "                     # name of column which contains aggregate value to visualize\n",
    "                    hover_name=\"Code\",\n",
    "                    size_max=40,\n",
    "                    animation_frame=\"Year\",)\n",
    "                    \n",
    "fig.update_layout(\n",
    "    # add a title text for the plot\n",
    "    title_text = 'Cement Per Capita Consumption (kg/person)',\n",
    "    # limit plot scope to USA\n",
    "    geo = dict(projection={'type':'natural earth'})\n",
    ")\n",
    "fig.show()\n"
   ]
  },
  {
   "cell_type": "code",
   "execution_count": 145,
   "id": "cace28c1",
   "metadata": {},
   "outputs": [
    {
     "data": {
      "application/vnd.plotly.v1+json": {
       "config": {
        "plotlyServerURL": "https://plot.ly"
       },
       "data": [
        {
         "geo": "geo",
         "hovertemplate": "<b>%{hovertext}</b><br><br>Year=2007<br>Import Price=%{marker.size}<br>Code=%{location}<extra></extra>",
         "hovertext": [
          "IRL",
          "USA",
          "BRA",
          "CHN",
          "DEU",
          "RUS",
          "AUS",
          "VNM",
          "JPN",
          "IRN"
         ],
         "legendgroup": "",
         "locations": [
          "IRL",
          "USA",
          "BRA",
          "CHN",
          "DEU",
          "RUS",
          "AUS",
          "VNM",
          "JPN",
          "IRN"
         ],
         "marker": {
          "color": "#636efa",
          "size": [
           95.7,
           77.9,
           72.5,
           42.1,
           140.6,
           100,
           124.7,
           115.2,
           53.6,
           81.5
          ],
          "sizemode": "area",
          "sizeref": 0.48362499999999997,
          "symbol": "circle"
         },
         "mode": "markers",
         "name": "",
         "showlegend": false,
         "type": "scattergeo"
        }
       ],
       "frames": [
        {
         "data": [
          {
           "geo": "geo",
           "hovertemplate": "<b>%{hovertext}</b><br><br>Year=2007<br>Import Price=%{marker.size}<br>Code=%{location}<extra></extra>",
           "hovertext": [
            "IRL",
            "USA",
            "BRA",
            "CHN",
            "DEU",
            "RUS",
            "AUS",
            "VNM",
            "JPN",
            "IRN"
           ],
           "legendgroup": "",
           "locations": [
            "IRL",
            "USA",
            "BRA",
            "CHN",
            "DEU",
            "RUS",
            "AUS",
            "VNM",
            "JPN",
            "IRN"
           ],
           "marker": {
            "color": "#636efa",
            "size": [
             95.7,
             77.9,
             72.5,
             42.1,
             140.6,
             100,
             124.7,
             115.2,
             53.6,
             81.5
            ],
            "sizemode": "area",
            "sizeref": 0.48362499999999997,
            "symbol": "circle"
           },
           "mode": "markers",
           "name": "",
           "showlegend": false,
           "type": "scattergeo"
          }
         ],
         "name": "2007"
        },
        {
         "data": [
          {
           "geo": "geo",
           "hovertemplate": "<b>%{hovertext}</b><br><br>Year=2008<br>Import Price=%{marker.size}<br>Code=%{location}<extra></extra>",
           "hovertext": [
            "IRL",
            "USA",
            "BRA",
            "CHN",
            "DEU",
            "RUS",
            "AUS",
            "VNM",
            "JPN",
            "IRN"
           ],
           "legendgroup": "",
           "locations": [
            "IRL",
            "USA",
            "BRA",
            "CHN",
            "DEU",
            "RUS",
            "AUS",
            "VNM",
            "JPN",
            "IRN"
           ],
           "marker": {
            "color": "#636efa",
            "size": [
             88.9,
             87.1,
             93.3,
             47.9,
             162.8,
             101.2,
             109.6,
             105.8,
             65.8,
             97.6
            ],
            "sizemode": "area",
            "sizeref": 0.48362499999999997,
            "symbol": "circle"
           },
           "mode": "markers",
           "name": "",
           "showlegend": false,
           "type": "scattergeo"
          }
         ],
         "name": "2008"
        },
        {
         "data": [
          {
           "geo": "geo",
           "hovertemplate": "<b>%{hovertext}</b><br><br>Year=2009<br>Import Price=%{marker.size}<br>Code=%{location}<extra></extra>",
           "hovertext": [
            "IRL",
            "USA",
            "BRA",
            "CHN",
            "DEU",
            "RUS",
            "AUS",
            "VNM",
            "JPN",
            "IRN"
           ],
           "legendgroup": "",
           "locations": [
            "IRL",
            "USA",
            "BRA",
            "CHN",
            "DEU",
            "RUS",
            "AUS",
            "VNM",
            "JPN",
            "IRN"
           ],
           "marker": {
            "color": "#636efa",
            "size": [
             112.6,
             88.6,
             99.3,
             47.5,
             155.7,
             78.9,
             107.1,
             126.6,
             75.2,
             225.8
            ],
            "sizemode": "area",
            "sizeref": 0.48362499999999997,
            "symbol": "circle"
           },
           "mode": "markers",
           "name": "",
           "showlegend": false,
           "type": "scattergeo"
          }
         ],
         "name": "2009"
        },
        {
         "data": [
          {
           "geo": "geo",
           "hovertemplate": "<b>%{hovertext}</b><br><br>Year=2010<br>Import Price=%{marker.size}<br>Code=%{location}<extra></extra>",
           "hovertext": [
            "IRL",
            "USA",
            "BRA",
            "CHN",
            "DEU",
            "RUS",
            "AUS",
            "VNM",
            "JPN",
            "IRN"
           ],
           "legendgroup": "",
           "locations": [
            "IRL",
            "USA",
            "BRA",
            "CHN",
            "DEU",
            "RUS",
            "AUS",
            "VNM",
            "JPN",
            "IRN"
           ],
           "marker": {
            "color": "#636efa",
            "size": [
             99.9,
             87.3,
             92.3,
             47.2,
             158.8,
             77.8,
             116.7,
             124.3,
             89.8,
             343
            ],
            "sizemode": "area",
            "sizeref": 0.48362499999999997,
            "symbol": "circle"
           },
           "mode": "markers",
           "name": "",
           "showlegend": false,
           "type": "scattergeo"
          }
         ],
         "name": "2010"
        },
        {
         "data": [
          {
           "geo": "geo",
           "hovertemplate": "<b>%{hovertext}</b><br><br>Year=2011<br>Import Price=%{marker.size}<br>Code=%{location}<extra></extra>",
           "hovertext": [
            "IRL",
            "USA",
            "BRA",
            "CHN",
            "DEU",
            "RUS",
            "AUS",
            "VNM",
            "JPN",
            "IRN"
           ],
           "legendgroup": "",
           "locations": [
            "IRL",
            "USA",
            "BRA",
            "CHN",
            "DEU",
            "RUS",
            "AUS",
            "VNM",
            "JPN",
            "IRN"
           ],
           "marker": {
            "color": "#636efa",
            "size": [
             104.6,
             87.4,
             90.6,
             52.9,
             164.9,
             88.6,
             85.9,
             135.1,
             96.1,
             773.8
            ],
            "sizemode": "area",
            "sizeref": 0.48362499999999997,
            "symbol": "circle"
           },
           "mode": "markers",
           "name": "",
           "showlegend": false,
           "type": "scattergeo"
          }
         ],
         "name": "2011"
        },
        {
         "data": [
          {
           "geo": "geo",
           "hovertemplate": "<b>%{hovertext}</b><br><br>Year=2012<br>Import Price=%{marker.size}<br>Code=%{location}<extra></extra>",
           "hovertext": [
            "IRL",
            "USA",
            "BRA",
            "CHN",
            "DEU",
            "RUS",
            "AUS",
            "VNM",
            "JPN",
            "IRN"
           ],
           "legendgroup": "",
           "locations": [
            "IRL",
            "USA",
            "BRA",
            "CHN",
            "DEU",
            "RUS",
            "AUS",
            "VNM",
            "JPN",
            "IRN"
           ],
           "marker": {
            "color": "#636efa",
            "size": [
             118.5,
             88.1,
             93.4,
             57.9,
             141.8,
             82.3,
             81.4,
             107.9,
             93.4,
             189.3
            ],
            "sizemode": "area",
            "sizeref": 0.48362499999999997,
            "symbol": "circle"
           },
           "mode": "markers",
           "name": "",
           "showlegend": false,
           "type": "scattergeo"
          }
         ],
         "name": "2012"
        },
        {
         "data": [
          {
           "geo": "geo",
           "hovertemplate": "<b>%{hovertext}</b><br><br>Year=2013<br>Import Price=%{marker.size}<br>Code=%{location}<extra></extra>",
           "hovertext": [
            "IRL",
            "USA",
            "BRA",
            "CHN",
            "DEU",
            "RUS",
            "AUS",
            "VNM",
            "JPN",
            "IRN"
           ],
           "legendgroup": "",
           "locations": [
            "IRL",
            "USA",
            "BRA",
            "CHN",
            "DEU",
            "RUS",
            "AUS",
            "VNM",
            "JPN",
            "IRN"
           ],
           "marker": {
            "color": "#636efa",
            "size": [
             107.8,
             87.8,
             89.8,
             65.3,
             151.4,
             80.1,
             95,
             125.9,
             83,
             330.6
            ],
            "sizemode": "area",
            "sizeref": 0.48362499999999997,
            "symbol": "circle"
           },
           "mode": "markers",
           "name": "",
           "showlegend": false,
           "type": "scattergeo"
          }
         ],
         "name": "2013"
        },
        {
         "data": [
          {
           "geo": "geo",
           "hovertemplate": "<b>%{hovertext}</b><br><br>Year=2014<br>Import Price=%{marker.size}<br>Code=%{location}<extra></extra>",
           "hovertext": [
            "IRL",
            "USA",
            "BRA",
            "CHN",
            "DEU",
            "RUS",
            "AUS",
            "VNM",
            "JPN",
            "IRN"
           ],
           "legendgroup": "",
           "locations": [
            "IRL",
            "USA",
            "BRA",
            "CHN",
            "DEU",
            "RUS",
            "AUS",
            "VNM",
            "JPN",
            "IRN"
           ],
           "marker": {
            "color": "#636efa",
            "size": [
             88.9,
             109.3,
             93.4,
             89.8,
             157.6,
             75.1,
             106.3,
             188.5,
             92.2,
             225.8
            ],
            "sizemode": "area",
            "sizeref": 0.48362499999999997,
            "symbol": "circle"
           },
           "mode": "markers",
           "name": "",
           "showlegend": false,
           "type": "scattergeo"
          }
         ],
         "name": "2014"
        },
        {
         "data": [
          {
           "geo": "geo",
           "hovertemplate": "<b>%{hovertext}</b><br><br>Year=2015<br>Import Price=%{marker.size}<br>Code=%{location}<extra></extra>",
           "hovertext": [
            "IRL",
            "USA",
            "BRA",
            "CHN",
            "DEU",
            "RUS",
            "AUS",
            "VNM",
            "JPN",
            "IRN"
           ],
           "legendgroup": "",
           "locations": [
            "IRL",
            "USA",
            "BRA",
            "CHN",
            "DEU",
            "RUS",
            "AUS",
            "VNM",
            "JPN",
            "IRN"
           ],
           "marker": {
            "color": "#636efa",
            "size": [
             78.1,
             86.7,
             94.8,
             162.3,
             135.4,
             58.7,
             104.2,
             141.9,
             101.1,
             275.3
            ],
            "sizemode": "area",
            "sizeref": 0.48362499999999997,
            "symbol": "circle"
           },
           "mode": "markers",
           "name": "",
           "showlegend": false,
           "type": "scattergeo"
          }
         ],
         "name": "2015"
        }
       ],
       "layout": {
        "geo": {
         "center": {},
         "domain": {
          "x": [
           0,
           1
          ],
          "y": [
           0,
           1
          ]
         },
         "projection": {
          "type": "natural earth"
         }
        },
        "legend": {
         "itemsizing": "constant",
         "tracegroupgap": 0
        },
        "margin": {
         "t": 60
        },
        "sliders": [
         {
          "active": 0,
          "currentvalue": {
           "prefix": "Year="
          },
          "len": 0.9,
          "pad": {
           "b": 10,
           "t": 60
          },
          "steps": [
           {
            "args": [
             [
              "2007"
             ],
             {
              "frame": {
               "duration": 0,
               "redraw": true
              },
              "fromcurrent": true,
              "mode": "immediate",
              "transition": {
               "duration": 0,
               "easing": "linear"
              }
             }
            ],
            "label": "2007",
            "method": "animate"
           },
           {
            "args": [
             [
              "2008"
             ],
             {
              "frame": {
               "duration": 0,
               "redraw": true
              },
              "fromcurrent": true,
              "mode": "immediate",
              "transition": {
               "duration": 0,
               "easing": "linear"
              }
             }
            ],
            "label": "2008",
            "method": "animate"
           },
           {
            "args": [
             [
              "2009"
             ],
             {
              "frame": {
               "duration": 0,
               "redraw": true
              },
              "fromcurrent": true,
              "mode": "immediate",
              "transition": {
               "duration": 0,
               "easing": "linear"
              }
             }
            ],
            "label": "2009",
            "method": "animate"
           },
           {
            "args": [
             [
              "2010"
             ],
             {
              "frame": {
               "duration": 0,
               "redraw": true
              },
              "fromcurrent": true,
              "mode": "immediate",
              "transition": {
               "duration": 0,
               "easing": "linear"
              }
             }
            ],
            "label": "2010",
            "method": "animate"
           },
           {
            "args": [
             [
              "2011"
             ],
             {
              "frame": {
               "duration": 0,
               "redraw": true
              },
              "fromcurrent": true,
              "mode": "immediate",
              "transition": {
               "duration": 0,
               "easing": "linear"
              }
             }
            ],
            "label": "2011",
            "method": "animate"
           },
           {
            "args": [
             [
              "2012"
             ],
             {
              "frame": {
               "duration": 0,
               "redraw": true
              },
              "fromcurrent": true,
              "mode": "immediate",
              "transition": {
               "duration": 0,
               "easing": "linear"
              }
             }
            ],
            "label": "2012",
            "method": "animate"
           },
           {
            "args": [
             [
              "2013"
             ],
             {
              "frame": {
               "duration": 0,
               "redraw": true
              },
              "fromcurrent": true,
              "mode": "immediate",
              "transition": {
               "duration": 0,
               "easing": "linear"
              }
             }
            ],
            "label": "2013",
            "method": "animate"
           },
           {
            "args": [
             [
              "2014"
             ],
             {
              "frame": {
               "duration": 0,
               "redraw": true
              },
              "fromcurrent": true,
              "mode": "immediate",
              "transition": {
               "duration": 0,
               "easing": "linear"
              }
             }
            ],
            "label": "2014",
            "method": "animate"
           },
           {
            "args": [
             [
              "2015"
             ],
             {
              "frame": {
               "duration": 0,
               "redraw": true
              },
              "fromcurrent": true,
              "mode": "immediate",
              "transition": {
               "duration": 0,
               "easing": "linear"
              }
             }
            ],
            "label": "2015",
            "method": "animate"
           }
          ],
          "x": 0.1,
          "xanchor": "left",
          "y": 0,
          "yanchor": "top"
         }
        ],
        "template": {
         "data": {
          "bar": [
           {
            "error_x": {
             "color": "#2a3f5f"
            },
            "error_y": {
             "color": "#2a3f5f"
            },
            "marker": {
             "line": {
              "color": "#E5ECF6",
              "width": 0.5
             },
             "pattern": {
              "fillmode": "overlay",
              "size": 10,
              "solidity": 0.2
             }
            },
            "type": "bar"
           }
          ],
          "barpolar": [
           {
            "marker": {
             "line": {
              "color": "#E5ECF6",
              "width": 0.5
             },
             "pattern": {
              "fillmode": "overlay",
              "size": 10,
              "solidity": 0.2
             }
            },
            "type": "barpolar"
           }
          ],
          "carpet": [
           {
            "aaxis": {
             "endlinecolor": "#2a3f5f",
             "gridcolor": "white",
             "linecolor": "white",
             "minorgridcolor": "white",
             "startlinecolor": "#2a3f5f"
            },
            "baxis": {
             "endlinecolor": "#2a3f5f",
             "gridcolor": "white",
             "linecolor": "white",
             "minorgridcolor": "white",
             "startlinecolor": "#2a3f5f"
            },
            "type": "carpet"
           }
          ],
          "choropleth": [
           {
            "colorbar": {
             "outlinewidth": 0,
             "ticks": ""
            },
            "type": "choropleth"
           }
          ],
          "contour": [
           {
            "colorbar": {
             "outlinewidth": 0,
             "ticks": ""
            },
            "colorscale": [
             [
              0,
              "#0d0887"
             ],
             [
              0.1111111111111111,
              "#46039f"
             ],
             [
              0.2222222222222222,
              "#7201a8"
             ],
             [
              0.3333333333333333,
              "#9c179e"
             ],
             [
              0.4444444444444444,
              "#bd3786"
             ],
             [
              0.5555555555555556,
              "#d8576b"
             ],
             [
              0.6666666666666666,
              "#ed7953"
             ],
             [
              0.7777777777777778,
              "#fb9f3a"
             ],
             [
              0.8888888888888888,
              "#fdca26"
             ],
             [
              1,
              "#f0f921"
             ]
            ],
            "type": "contour"
           }
          ],
          "contourcarpet": [
           {
            "colorbar": {
             "outlinewidth": 0,
             "ticks": ""
            },
            "type": "contourcarpet"
           }
          ],
          "heatmap": [
           {
            "colorbar": {
             "outlinewidth": 0,
             "ticks": ""
            },
            "colorscale": [
             [
              0,
              "#0d0887"
             ],
             [
              0.1111111111111111,
              "#46039f"
             ],
             [
              0.2222222222222222,
              "#7201a8"
             ],
             [
              0.3333333333333333,
              "#9c179e"
             ],
             [
              0.4444444444444444,
              "#bd3786"
             ],
             [
              0.5555555555555556,
              "#d8576b"
             ],
             [
              0.6666666666666666,
              "#ed7953"
             ],
             [
              0.7777777777777778,
              "#fb9f3a"
             ],
             [
              0.8888888888888888,
              "#fdca26"
             ],
             [
              1,
              "#f0f921"
             ]
            ],
            "type": "heatmap"
           }
          ],
          "heatmapgl": [
           {
            "colorbar": {
             "outlinewidth": 0,
             "ticks": ""
            },
            "colorscale": [
             [
              0,
              "#0d0887"
             ],
             [
              0.1111111111111111,
              "#46039f"
             ],
             [
              0.2222222222222222,
              "#7201a8"
             ],
             [
              0.3333333333333333,
              "#9c179e"
             ],
             [
              0.4444444444444444,
              "#bd3786"
             ],
             [
              0.5555555555555556,
              "#d8576b"
             ],
             [
              0.6666666666666666,
              "#ed7953"
             ],
             [
              0.7777777777777778,
              "#fb9f3a"
             ],
             [
              0.8888888888888888,
              "#fdca26"
             ],
             [
              1,
              "#f0f921"
             ]
            ],
            "type": "heatmapgl"
           }
          ],
          "histogram": [
           {
            "marker": {
             "pattern": {
              "fillmode": "overlay",
              "size": 10,
              "solidity": 0.2
             }
            },
            "type": "histogram"
           }
          ],
          "histogram2d": [
           {
            "colorbar": {
             "outlinewidth": 0,
             "ticks": ""
            },
            "colorscale": [
             [
              0,
              "#0d0887"
             ],
             [
              0.1111111111111111,
              "#46039f"
             ],
             [
              0.2222222222222222,
              "#7201a8"
             ],
             [
              0.3333333333333333,
              "#9c179e"
             ],
             [
              0.4444444444444444,
              "#bd3786"
             ],
             [
              0.5555555555555556,
              "#d8576b"
             ],
             [
              0.6666666666666666,
              "#ed7953"
             ],
             [
              0.7777777777777778,
              "#fb9f3a"
             ],
             [
              0.8888888888888888,
              "#fdca26"
             ],
             [
              1,
              "#f0f921"
             ]
            ],
            "type": "histogram2d"
           }
          ],
          "histogram2dcontour": [
           {
            "colorbar": {
             "outlinewidth": 0,
             "ticks": ""
            },
            "colorscale": [
             [
              0,
              "#0d0887"
             ],
             [
              0.1111111111111111,
              "#46039f"
             ],
             [
              0.2222222222222222,
              "#7201a8"
             ],
             [
              0.3333333333333333,
              "#9c179e"
             ],
             [
              0.4444444444444444,
              "#bd3786"
             ],
             [
              0.5555555555555556,
              "#d8576b"
             ],
             [
              0.6666666666666666,
              "#ed7953"
             ],
             [
              0.7777777777777778,
              "#fb9f3a"
             ],
             [
              0.8888888888888888,
              "#fdca26"
             ],
             [
              1,
              "#f0f921"
             ]
            ],
            "type": "histogram2dcontour"
           }
          ],
          "mesh3d": [
           {
            "colorbar": {
             "outlinewidth": 0,
             "ticks": ""
            },
            "type": "mesh3d"
           }
          ],
          "parcoords": [
           {
            "line": {
             "colorbar": {
              "outlinewidth": 0,
              "ticks": ""
             }
            },
            "type": "parcoords"
           }
          ],
          "pie": [
           {
            "automargin": true,
            "type": "pie"
           }
          ],
          "scatter": [
           {
            "fillpattern": {
             "fillmode": "overlay",
             "size": 10,
             "solidity": 0.2
            },
            "type": "scatter"
           }
          ],
          "scatter3d": [
           {
            "line": {
             "colorbar": {
              "outlinewidth": 0,
              "ticks": ""
             }
            },
            "marker": {
             "colorbar": {
              "outlinewidth": 0,
              "ticks": ""
             }
            },
            "type": "scatter3d"
           }
          ],
          "scattercarpet": [
           {
            "marker": {
             "colorbar": {
              "outlinewidth": 0,
              "ticks": ""
             }
            },
            "type": "scattercarpet"
           }
          ],
          "scattergeo": [
           {
            "marker": {
             "colorbar": {
              "outlinewidth": 0,
              "ticks": ""
             }
            },
            "type": "scattergeo"
           }
          ],
          "scattergl": [
           {
            "marker": {
             "colorbar": {
              "outlinewidth": 0,
              "ticks": ""
             }
            },
            "type": "scattergl"
           }
          ],
          "scattermapbox": [
           {
            "marker": {
             "colorbar": {
              "outlinewidth": 0,
              "ticks": ""
             }
            },
            "type": "scattermapbox"
           }
          ],
          "scatterpolar": [
           {
            "marker": {
             "colorbar": {
              "outlinewidth": 0,
              "ticks": ""
             }
            },
            "type": "scatterpolar"
           }
          ],
          "scatterpolargl": [
           {
            "marker": {
             "colorbar": {
              "outlinewidth": 0,
              "ticks": ""
             }
            },
            "type": "scatterpolargl"
           }
          ],
          "scatterternary": [
           {
            "marker": {
             "colorbar": {
              "outlinewidth": 0,
              "ticks": ""
             }
            },
            "type": "scatterternary"
           }
          ],
          "surface": [
           {
            "colorbar": {
             "outlinewidth": 0,
             "ticks": ""
            },
            "colorscale": [
             [
              0,
              "#0d0887"
             ],
             [
              0.1111111111111111,
              "#46039f"
             ],
             [
              0.2222222222222222,
              "#7201a8"
             ],
             [
              0.3333333333333333,
              "#9c179e"
             ],
             [
              0.4444444444444444,
              "#bd3786"
             ],
             [
              0.5555555555555556,
              "#d8576b"
             ],
             [
              0.6666666666666666,
              "#ed7953"
             ],
             [
              0.7777777777777778,
              "#fb9f3a"
             ],
             [
              0.8888888888888888,
              "#fdca26"
             ],
             [
              1,
              "#f0f921"
             ]
            ],
            "type": "surface"
           }
          ],
          "table": [
           {
            "cells": {
             "fill": {
              "color": "#EBF0F8"
             },
             "line": {
              "color": "white"
             }
            },
            "header": {
             "fill": {
              "color": "#C8D4E3"
             },
             "line": {
              "color": "white"
             }
            },
            "type": "table"
           }
          ]
         },
         "layout": {
          "annotationdefaults": {
           "arrowcolor": "#2a3f5f",
           "arrowhead": 0,
           "arrowwidth": 1
          },
          "autotypenumbers": "strict",
          "coloraxis": {
           "colorbar": {
            "outlinewidth": 0,
            "ticks": ""
           }
          },
          "colorscale": {
           "diverging": [
            [
             0,
             "#8e0152"
            ],
            [
             0.1,
             "#c51b7d"
            ],
            [
             0.2,
             "#de77ae"
            ],
            [
             0.3,
             "#f1b6da"
            ],
            [
             0.4,
             "#fde0ef"
            ],
            [
             0.5,
             "#f7f7f7"
            ],
            [
             0.6,
             "#e6f5d0"
            ],
            [
             0.7,
             "#b8e186"
            ],
            [
             0.8,
             "#7fbc41"
            ],
            [
             0.9,
             "#4d9221"
            ],
            [
             1,
             "#276419"
            ]
           ],
           "sequential": [
            [
             0,
             "#0d0887"
            ],
            [
             0.1111111111111111,
             "#46039f"
            ],
            [
             0.2222222222222222,
             "#7201a8"
            ],
            [
             0.3333333333333333,
             "#9c179e"
            ],
            [
             0.4444444444444444,
             "#bd3786"
            ],
            [
             0.5555555555555556,
             "#d8576b"
            ],
            [
             0.6666666666666666,
             "#ed7953"
            ],
            [
             0.7777777777777778,
             "#fb9f3a"
            ],
            [
             0.8888888888888888,
             "#fdca26"
            ],
            [
             1,
             "#f0f921"
            ]
           ],
           "sequentialminus": [
            [
             0,
             "#0d0887"
            ],
            [
             0.1111111111111111,
             "#46039f"
            ],
            [
             0.2222222222222222,
             "#7201a8"
            ],
            [
             0.3333333333333333,
             "#9c179e"
            ],
            [
             0.4444444444444444,
             "#bd3786"
            ],
            [
             0.5555555555555556,
             "#d8576b"
            ],
            [
             0.6666666666666666,
             "#ed7953"
            ],
            [
             0.7777777777777778,
             "#fb9f3a"
            ],
            [
             0.8888888888888888,
             "#fdca26"
            ],
            [
             1,
             "#f0f921"
            ]
           ]
          },
          "colorway": [
           "#636efa",
           "#EF553B",
           "#00cc96",
           "#ab63fa",
           "#FFA15A",
           "#19d3f3",
           "#FF6692",
           "#B6E880",
           "#FF97FF",
           "#FECB52"
          ],
          "font": {
           "color": "#2a3f5f"
          },
          "geo": {
           "bgcolor": "white",
           "lakecolor": "white",
           "landcolor": "#E5ECF6",
           "showlakes": true,
           "showland": true,
           "subunitcolor": "white"
          },
          "hoverlabel": {
           "align": "left"
          },
          "hovermode": "closest",
          "mapbox": {
           "style": "light"
          },
          "paper_bgcolor": "white",
          "plot_bgcolor": "#E5ECF6",
          "polar": {
           "angularaxis": {
            "gridcolor": "white",
            "linecolor": "white",
            "ticks": ""
           },
           "bgcolor": "#E5ECF6",
           "radialaxis": {
            "gridcolor": "white",
            "linecolor": "white",
            "ticks": ""
           }
          },
          "scene": {
           "xaxis": {
            "backgroundcolor": "#E5ECF6",
            "gridcolor": "white",
            "gridwidth": 2,
            "linecolor": "white",
            "showbackground": true,
            "ticks": "",
            "zerolinecolor": "white"
           },
           "yaxis": {
            "backgroundcolor": "#E5ECF6",
            "gridcolor": "white",
            "gridwidth": 2,
            "linecolor": "white",
            "showbackground": true,
            "ticks": "",
            "zerolinecolor": "white"
           },
           "zaxis": {
            "backgroundcolor": "#E5ECF6",
            "gridcolor": "white",
            "gridwidth": 2,
            "linecolor": "white",
            "showbackground": true,
            "ticks": "",
            "zerolinecolor": "white"
           }
          },
          "shapedefaults": {
           "line": {
            "color": "#2a3f5f"
           }
          },
          "ternary": {
           "aaxis": {
            "gridcolor": "white",
            "linecolor": "white",
            "ticks": ""
           },
           "baxis": {
            "gridcolor": "white",
            "linecolor": "white",
            "ticks": ""
           },
           "bgcolor": "#E5ECF6",
           "caxis": {
            "gridcolor": "white",
            "linecolor": "white",
            "ticks": ""
           }
          },
          "title": {
           "x": 0.05
          },
          "xaxis": {
           "automargin": true,
           "gridcolor": "white",
           "linecolor": "white",
           "ticks": "",
           "title": {
            "standoff": 15
           },
           "zerolinecolor": "white",
           "zerolinewidth": 2
          },
          "yaxis": {
           "automargin": true,
           "gridcolor": "white",
           "linecolor": "white",
           "ticks": "",
           "title": {
            "standoff": 15
           },
           "zerolinecolor": "white",
           "zerolinewidth": 2
          }
         }
        },
        "title": {
         "text": "Cement Import Price (USD per ton)"
        },
        "updatemenus": [
         {
          "buttons": [
           {
            "args": [
             null,
             {
              "frame": {
               "duration": 500,
               "redraw": true
              },
              "fromcurrent": true,
              "mode": "immediate",
              "transition": {
               "duration": 500,
               "easing": "linear"
              }
             }
            ],
            "label": "&#9654;",
            "method": "animate"
           },
           {
            "args": [
             [
              null
             ],
             {
              "frame": {
               "duration": 0,
               "redraw": true
              },
              "fromcurrent": true,
              "mode": "immediate",
              "transition": {
               "duration": 0,
               "easing": "linear"
              }
             }
            ],
            "label": "&#9724;",
            "method": "animate"
           }
          ],
          "direction": "left",
          "pad": {
           "r": 10,
           "t": 70
          },
          "showactive": false,
          "type": "buttons",
          "x": 0.1,
          "xanchor": "right",
          "y": 0,
          "yanchor": "top"
         }
        ]
       }
      },
      "text/html": [
       "<div>                            <div id=\"c94a1fd6-5983-413e-9219-04bd402cd217\" class=\"plotly-graph-div\" style=\"height:525px; width:100%;\"></div>            <script type=\"text/javascript\">                require([\"plotly\"], function(Plotly) {                    window.PLOTLYENV=window.PLOTLYENV || {};                                    if (document.getElementById(\"c94a1fd6-5983-413e-9219-04bd402cd217\")) {                    Plotly.newPlot(                        \"c94a1fd6-5983-413e-9219-04bd402cd217\",                        [{\"geo\":\"geo\",\"hovertemplate\":\"<b>%{hovertext}</b><br><br>Year=2007<br>Import Price=%{marker.size}<br>Code=%{location}<extra></extra>\",\"hovertext\":[\"IRL\",\"USA\",\"BRA\",\"CHN\",\"DEU\",\"RUS\",\"AUS\",\"VNM\",\"JPN\",\"IRN\"],\"legendgroup\":\"\",\"locations\":[\"IRL\",\"USA\",\"BRA\",\"CHN\",\"DEU\",\"RUS\",\"AUS\",\"VNM\",\"JPN\",\"IRN\"],\"marker\":{\"color\":\"#636efa\",\"size\":[95.7,77.9,72.5,42.1,140.6,100.0,124.7,115.2,53.6,81.5],\"sizemode\":\"area\",\"sizeref\":0.48362499999999997,\"symbol\":\"circle\"},\"mode\":\"markers\",\"name\":\"\",\"showlegend\":false,\"type\":\"scattergeo\"}],                        {\"template\":{\"data\":{\"histogram2dcontour\":[{\"type\":\"histogram2dcontour\",\"colorbar\":{\"outlinewidth\":0,\"ticks\":\"\"},\"colorscale\":[[0.0,\"#0d0887\"],[0.1111111111111111,\"#46039f\"],[0.2222222222222222,\"#7201a8\"],[0.3333333333333333,\"#9c179e\"],[0.4444444444444444,\"#bd3786\"],[0.5555555555555556,\"#d8576b\"],[0.6666666666666666,\"#ed7953\"],[0.7777777777777778,\"#fb9f3a\"],[0.8888888888888888,\"#fdca26\"],[1.0,\"#f0f921\"]]}],\"choropleth\":[{\"type\":\"choropleth\",\"colorbar\":{\"outlinewidth\":0,\"ticks\":\"\"}}],\"histogram2d\":[{\"type\":\"histogram2d\",\"colorbar\":{\"outlinewidth\":0,\"ticks\":\"\"},\"colorscale\":[[0.0,\"#0d0887\"],[0.1111111111111111,\"#46039f\"],[0.2222222222222222,\"#7201a8\"],[0.3333333333333333,\"#9c179e\"],[0.4444444444444444,\"#bd3786\"],[0.5555555555555556,\"#d8576b\"],[0.6666666666666666,\"#ed7953\"],[0.7777777777777778,\"#fb9f3a\"],[0.8888888888888888,\"#fdca26\"],[1.0,\"#f0f921\"]]}],\"heatmap\":[{\"type\":\"heatmap\",\"colorbar\":{\"outlinewidth\":0,\"ticks\":\"\"},\"colorscale\":[[0.0,\"#0d0887\"],[0.1111111111111111,\"#46039f\"],[0.2222222222222222,\"#7201a8\"],[0.3333333333333333,\"#9c179e\"],[0.4444444444444444,\"#bd3786\"],[0.5555555555555556,\"#d8576b\"],[0.6666666666666666,\"#ed7953\"],[0.7777777777777778,\"#fb9f3a\"],[0.8888888888888888,\"#fdca26\"],[1.0,\"#f0f921\"]]}],\"heatmapgl\":[{\"type\":\"heatmapgl\",\"colorbar\":{\"outlinewidth\":0,\"ticks\":\"\"},\"colorscale\":[[0.0,\"#0d0887\"],[0.1111111111111111,\"#46039f\"],[0.2222222222222222,\"#7201a8\"],[0.3333333333333333,\"#9c179e\"],[0.4444444444444444,\"#bd3786\"],[0.5555555555555556,\"#d8576b\"],[0.6666666666666666,\"#ed7953\"],[0.7777777777777778,\"#fb9f3a\"],[0.8888888888888888,\"#fdca26\"],[1.0,\"#f0f921\"]]}],\"contourcarpet\":[{\"type\":\"contourcarpet\",\"colorbar\":{\"outlinewidth\":0,\"ticks\":\"\"}}],\"contour\":[{\"type\":\"contour\",\"colorbar\":{\"outlinewidth\":0,\"ticks\":\"\"},\"colorscale\":[[0.0,\"#0d0887\"],[0.1111111111111111,\"#46039f\"],[0.2222222222222222,\"#7201a8\"],[0.3333333333333333,\"#9c179e\"],[0.4444444444444444,\"#bd3786\"],[0.5555555555555556,\"#d8576b\"],[0.6666666666666666,\"#ed7953\"],[0.7777777777777778,\"#fb9f3a\"],[0.8888888888888888,\"#fdca26\"],[1.0,\"#f0f921\"]]}],\"surface\":[{\"type\":\"surface\",\"colorbar\":{\"outlinewidth\":0,\"ticks\":\"\"},\"colorscale\":[[0.0,\"#0d0887\"],[0.1111111111111111,\"#46039f\"],[0.2222222222222222,\"#7201a8\"],[0.3333333333333333,\"#9c179e\"],[0.4444444444444444,\"#bd3786\"],[0.5555555555555556,\"#d8576b\"],[0.6666666666666666,\"#ed7953\"],[0.7777777777777778,\"#fb9f3a\"],[0.8888888888888888,\"#fdca26\"],[1.0,\"#f0f921\"]]}],\"mesh3d\":[{\"type\":\"mesh3d\",\"colorbar\":{\"outlinewidth\":0,\"ticks\":\"\"}}],\"scatter\":[{\"fillpattern\":{\"fillmode\":\"overlay\",\"size\":10,\"solidity\":0.2},\"type\":\"scatter\"}],\"parcoords\":[{\"type\":\"parcoords\",\"line\":{\"colorbar\":{\"outlinewidth\":0,\"ticks\":\"\"}}}],\"scatterpolargl\":[{\"type\":\"scatterpolargl\",\"marker\":{\"colorbar\":{\"outlinewidth\":0,\"ticks\":\"\"}}}],\"bar\":[{\"error_x\":{\"color\":\"#2a3f5f\"},\"error_y\":{\"color\":\"#2a3f5f\"},\"marker\":{\"line\":{\"color\":\"#E5ECF6\",\"width\":0.5},\"pattern\":{\"fillmode\":\"overlay\",\"size\":10,\"solidity\":0.2}},\"type\":\"bar\"}],\"scattergeo\":[{\"type\":\"scattergeo\",\"marker\":{\"colorbar\":{\"outlinewidth\":0,\"ticks\":\"\"}}}],\"scatterpolar\":[{\"type\":\"scatterpolar\",\"marker\":{\"colorbar\":{\"outlinewidth\":0,\"ticks\":\"\"}}}],\"histogram\":[{\"marker\":{\"pattern\":{\"fillmode\":\"overlay\",\"size\":10,\"solidity\":0.2}},\"type\":\"histogram\"}],\"scattergl\":[{\"type\":\"scattergl\",\"marker\":{\"colorbar\":{\"outlinewidth\":0,\"ticks\":\"\"}}}],\"scatter3d\":[{\"type\":\"scatter3d\",\"line\":{\"colorbar\":{\"outlinewidth\":0,\"ticks\":\"\"}},\"marker\":{\"colorbar\":{\"outlinewidth\":0,\"ticks\":\"\"}}}],\"scattermapbox\":[{\"type\":\"scattermapbox\",\"marker\":{\"colorbar\":{\"outlinewidth\":0,\"ticks\":\"\"}}}],\"scatterternary\":[{\"type\":\"scatterternary\",\"marker\":{\"colorbar\":{\"outlinewidth\":0,\"ticks\":\"\"}}}],\"scattercarpet\":[{\"type\":\"scattercarpet\",\"marker\":{\"colorbar\":{\"outlinewidth\":0,\"ticks\":\"\"}}}],\"carpet\":[{\"aaxis\":{\"endlinecolor\":\"#2a3f5f\",\"gridcolor\":\"white\",\"linecolor\":\"white\",\"minorgridcolor\":\"white\",\"startlinecolor\":\"#2a3f5f\"},\"baxis\":{\"endlinecolor\":\"#2a3f5f\",\"gridcolor\":\"white\",\"linecolor\":\"white\",\"minorgridcolor\":\"white\",\"startlinecolor\":\"#2a3f5f\"},\"type\":\"carpet\"}],\"table\":[{\"cells\":{\"fill\":{\"color\":\"#EBF0F8\"},\"line\":{\"color\":\"white\"}},\"header\":{\"fill\":{\"color\":\"#C8D4E3\"},\"line\":{\"color\":\"white\"}},\"type\":\"table\"}],\"barpolar\":[{\"marker\":{\"line\":{\"color\":\"#E5ECF6\",\"width\":0.5},\"pattern\":{\"fillmode\":\"overlay\",\"size\":10,\"solidity\":0.2}},\"type\":\"barpolar\"}],\"pie\":[{\"automargin\":true,\"type\":\"pie\"}]},\"layout\":{\"autotypenumbers\":\"strict\",\"colorway\":[\"#636efa\",\"#EF553B\",\"#00cc96\",\"#ab63fa\",\"#FFA15A\",\"#19d3f3\",\"#FF6692\",\"#B6E880\",\"#FF97FF\",\"#FECB52\"],\"font\":{\"color\":\"#2a3f5f\"},\"hovermode\":\"closest\",\"hoverlabel\":{\"align\":\"left\"},\"paper_bgcolor\":\"white\",\"plot_bgcolor\":\"#E5ECF6\",\"polar\":{\"bgcolor\":\"#E5ECF6\",\"angularaxis\":{\"gridcolor\":\"white\",\"linecolor\":\"white\",\"ticks\":\"\"},\"radialaxis\":{\"gridcolor\":\"white\",\"linecolor\":\"white\",\"ticks\":\"\"}},\"ternary\":{\"bgcolor\":\"#E5ECF6\",\"aaxis\":{\"gridcolor\":\"white\",\"linecolor\":\"white\",\"ticks\":\"\"},\"baxis\":{\"gridcolor\":\"white\",\"linecolor\":\"white\",\"ticks\":\"\"},\"caxis\":{\"gridcolor\":\"white\",\"linecolor\":\"white\",\"ticks\":\"\"}},\"coloraxis\":{\"colorbar\":{\"outlinewidth\":0,\"ticks\":\"\"}},\"colorscale\":{\"sequential\":[[0.0,\"#0d0887\"],[0.1111111111111111,\"#46039f\"],[0.2222222222222222,\"#7201a8\"],[0.3333333333333333,\"#9c179e\"],[0.4444444444444444,\"#bd3786\"],[0.5555555555555556,\"#d8576b\"],[0.6666666666666666,\"#ed7953\"],[0.7777777777777778,\"#fb9f3a\"],[0.8888888888888888,\"#fdca26\"],[1.0,\"#f0f921\"]],\"sequentialminus\":[[0.0,\"#0d0887\"],[0.1111111111111111,\"#46039f\"],[0.2222222222222222,\"#7201a8\"],[0.3333333333333333,\"#9c179e\"],[0.4444444444444444,\"#bd3786\"],[0.5555555555555556,\"#d8576b\"],[0.6666666666666666,\"#ed7953\"],[0.7777777777777778,\"#fb9f3a\"],[0.8888888888888888,\"#fdca26\"],[1.0,\"#f0f921\"]],\"diverging\":[[0,\"#8e0152\"],[0.1,\"#c51b7d\"],[0.2,\"#de77ae\"],[0.3,\"#f1b6da\"],[0.4,\"#fde0ef\"],[0.5,\"#f7f7f7\"],[0.6,\"#e6f5d0\"],[0.7,\"#b8e186\"],[0.8,\"#7fbc41\"],[0.9,\"#4d9221\"],[1,\"#276419\"]]},\"xaxis\":{\"gridcolor\":\"white\",\"linecolor\":\"white\",\"ticks\":\"\",\"title\":{\"standoff\":15},\"zerolinecolor\":\"white\",\"automargin\":true,\"zerolinewidth\":2},\"yaxis\":{\"gridcolor\":\"white\",\"linecolor\":\"white\",\"ticks\":\"\",\"title\":{\"standoff\":15},\"zerolinecolor\":\"white\",\"automargin\":true,\"zerolinewidth\":2},\"scene\":{\"xaxis\":{\"backgroundcolor\":\"#E5ECF6\",\"gridcolor\":\"white\",\"linecolor\":\"white\",\"showbackground\":true,\"ticks\":\"\",\"zerolinecolor\":\"white\",\"gridwidth\":2},\"yaxis\":{\"backgroundcolor\":\"#E5ECF6\",\"gridcolor\":\"white\",\"linecolor\":\"white\",\"showbackground\":true,\"ticks\":\"\",\"zerolinecolor\":\"white\",\"gridwidth\":2},\"zaxis\":{\"backgroundcolor\":\"#E5ECF6\",\"gridcolor\":\"white\",\"linecolor\":\"white\",\"showbackground\":true,\"ticks\":\"\",\"zerolinecolor\":\"white\",\"gridwidth\":2}},\"shapedefaults\":{\"line\":{\"color\":\"#2a3f5f\"}},\"annotationdefaults\":{\"arrowcolor\":\"#2a3f5f\",\"arrowhead\":0,\"arrowwidth\":1},\"geo\":{\"bgcolor\":\"white\",\"landcolor\":\"#E5ECF6\",\"subunitcolor\":\"white\",\"showland\":true,\"showlakes\":true,\"lakecolor\":\"white\"},\"title\":{\"x\":0.05},\"mapbox\":{\"style\":\"light\"}}},\"geo\":{\"domain\":{\"x\":[0.0,1.0],\"y\":[0.0,1.0]},\"center\":{},\"projection\":{\"type\":\"natural earth\"}},\"legend\":{\"tracegroupgap\":0,\"itemsizing\":\"constant\"},\"margin\":{\"t\":60},\"updatemenus\":[{\"buttons\":[{\"args\":[null,{\"frame\":{\"duration\":500,\"redraw\":true},\"mode\":\"immediate\",\"fromcurrent\":true,\"transition\":{\"duration\":500,\"easing\":\"linear\"}}],\"label\":\"&#9654;\",\"method\":\"animate\"},{\"args\":[[null],{\"frame\":{\"duration\":0,\"redraw\":true},\"mode\":\"immediate\",\"fromcurrent\":true,\"transition\":{\"duration\":0,\"easing\":\"linear\"}}],\"label\":\"&#9724;\",\"method\":\"animate\"}],\"direction\":\"left\",\"pad\":{\"r\":10,\"t\":70},\"showactive\":false,\"type\":\"buttons\",\"x\":0.1,\"xanchor\":\"right\",\"y\":0,\"yanchor\":\"top\"}],\"sliders\":[{\"active\":0,\"currentvalue\":{\"prefix\":\"Year=\"},\"len\":0.9,\"pad\":{\"b\":10,\"t\":60},\"steps\":[{\"args\":[[\"2007\"],{\"frame\":{\"duration\":0,\"redraw\":true},\"mode\":\"immediate\",\"fromcurrent\":true,\"transition\":{\"duration\":0,\"easing\":\"linear\"}}],\"label\":\"2007\",\"method\":\"animate\"},{\"args\":[[\"2008\"],{\"frame\":{\"duration\":0,\"redraw\":true},\"mode\":\"immediate\",\"fromcurrent\":true,\"transition\":{\"duration\":0,\"easing\":\"linear\"}}],\"label\":\"2008\",\"method\":\"animate\"},{\"args\":[[\"2009\"],{\"frame\":{\"duration\":0,\"redraw\":true},\"mode\":\"immediate\",\"fromcurrent\":true,\"transition\":{\"duration\":0,\"easing\":\"linear\"}}],\"label\":\"2009\",\"method\":\"animate\"},{\"args\":[[\"2010\"],{\"frame\":{\"duration\":0,\"redraw\":true},\"mode\":\"immediate\",\"fromcurrent\":true,\"transition\":{\"duration\":0,\"easing\":\"linear\"}}],\"label\":\"2010\",\"method\":\"animate\"},{\"args\":[[\"2011\"],{\"frame\":{\"duration\":0,\"redraw\":true},\"mode\":\"immediate\",\"fromcurrent\":true,\"transition\":{\"duration\":0,\"easing\":\"linear\"}}],\"label\":\"2011\",\"method\":\"animate\"},{\"args\":[[\"2012\"],{\"frame\":{\"duration\":0,\"redraw\":true},\"mode\":\"immediate\",\"fromcurrent\":true,\"transition\":{\"duration\":0,\"easing\":\"linear\"}}],\"label\":\"2012\",\"method\":\"animate\"},{\"args\":[[\"2013\"],{\"frame\":{\"duration\":0,\"redraw\":true},\"mode\":\"immediate\",\"fromcurrent\":true,\"transition\":{\"duration\":0,\"easing\":\"linear\"}}],\"label\":\"2013\",\"method\":\"animate\"},{\"args\":[[\"2014\"],{\"frame\":{\"duration\":0,\"redraw\":true},\"mode\":\"immediate\",\"fromcurrent\":true,\"transition\":{\"duration\":0,\"easing\":\"linear\"}}],\"label\":\"2014\",\"method\":\"animate\"},{\"args\":[[\"2015\"],{\"frame\":{\"duration\":0,\"redraw\":true},\"mode\":\"immediate\",\"fromcurrent\":true,\"transition\":{\"duration\":0,\"easing\":\"linear\"}}],\"label\":\"2015\",\"method\":\"animate\"}],\"x\":0.1,\"xanchor\":\"left\",\"y\":0,\"yanchor\":\"top\"}],\"title\":{\"text\":\"Cement Import Price (USD per ton)\"}},                        {\"responsive\": true}                    ).then(function(){\n",
       "                            Plotly.addFrames('c94a1fd6-5983-413e-9219-04bd402cd217', [{\"data\":[{\"geo\":\"geo\",\"hovertemplate\":\"<b>%{hovertext}</b><br><br>Year=2007<br>Import Price=%{marker.size}<br>Code=%{location}<extra></extra>\",\"hovertext\":[\"IRL\",\"USA\",\"BRA\",\"CHN\",\"DEU\",\"RUS\",\"AUS\",\"VNM\",\"JPN\",\"IRN\"],\"legendgroup\":\"\",\"locations\":[\"IRL\",\"USA\",\"BRA\",\"CHN\",\"DEU\",\"RUS\",\"AUS\",\"VNM\",\"JPN\",\"IRN\"],\"marker\":{\"color\":\"#636efa\",\"size\":[95.7,77.9,72.5,42.1,140.6,100.0,124.7,115.2,53.6,81.5],\"sizemode\":\"area\",\"sizeref\":0.48362499999999997,\"symbol\":\"circle\"},\"mode\":\"markers\",\"name\":\"\",\"showlegend\":false,\"type\":\"scattergeo\"}],\"name\":\"2007\"},{\"data\":[{\"geo\":\"geo\",\"hovertemplate\":\"<b>%{hovertext}</b><br><br>Year=2008<br>Import Price=%{marker.size}<br>Code=%{location}<extra></extra>\",\"hovertext\":[\"IRL\",\"USA\",\"BRA\",\"CHN\",\"DEU\",\"RUS\",\"AUS\",\"VNM\",\"JPN\",\"IRN\"],\"legendgroup\":\"\",\"locations\":[\"IRL\",\"USA\",\"BRA\",\"CHN\",\"DEU\",\"RUS\",\"AUS\",\"VNM\",\"JPN\",\"IRN\"],\"marker\":{\"color\":\"#636efa\",\"size\":[88.9,87.1,93.3,47.9,162.8,101.2,109.6,105.8,65.8,97.6],\"sizemode\":\"area\",\"sizeref\":0.48362499999999997,\"symbol\":\"circle\"},\"mode\":\"markers\",\"name\":\"\",\"showlegend\":false,\"type\":\"scattergeo\"}],\"name\":\"2008\"},{\"data\":[{\"geo\":\"geo\",\"hovertemplate\":\"<b>%{hovertext}</b><br><br>Year=2009<br>Import Price=%{marker.size}<br>Code=%{location}<extra></extra>\",\"hovertext\":[\"IRL\",\"USA\",\"BRA\",\"CHN\",\"DEU\",\"RUS\",\"AUS\",\"VNM\",\"JPN\",\"IRN\"],\"legendgroup\":\"\",\"locations\":[\"IRL\",\"USA\",\"BRA\",\"CHN\",\"DEU\",\"RUS\",\"AUS\",\"VNM\",\"JPN\",\"IRN\"],\"marker\":{\"color\":\"#636efa\",\"size\":[112.6,88.6,99.3,47.5,155.7,78.9,107.1,126.6,75.2,225.8],\"sizemode\":\"area\",\"sizeref\":0.48362499999999997,\"symbol\":\"circle\"},\"mode\":\"markers\",\"name\":\"\",\"showlegend\":false,\"type\":\"scattergeo\"}],\"name\":\"2009\"},{\"data\":[{\"geo\":\"geo\",\"hovertemplate\":\"<b>%{hovertext}</b><br><br>Year=2010<br>Import Price=%{marker.size}<br>Code=%{location}<extra></extra>\",\"hovertext\":[\"IRL\",\"USA\",\"BRA\",\"CHN\",\"DEU\",\"RUS\",\"AUS\",\"VNM\",\"JPN\",\"IRN\"],\"legendgroup\":\"\",\"locations\":[\"IRL\",\"USA\",\"BRA\",\"CHN\",\"DEU\",\"RUS\",\"AUS\",\"VNM\",\"JPN\",\"IRN\"],\"marker\":{\"color\":\"#636efa\",\"size\":[99.9,87.3,92.3,47.2,158.8,77.8,116.7,124.3,89.8,343.0],\"sizemode\":\"area\",\"sizeref\":0.48362499999999997,\"symbol\":\"circle\"},\"mode\":\"markers\",\"name\":\"\",\"showlegend\":false,\"type\":\"scattergeo\"}],\"name\":\"2010\"},{\"data\":[{\"geo\":\"geo\",\"hovertemplate\":\"<b>%{hovertext}</b><br><br>Year=2011<br>Import Price=%{marker.size}<br>Code=%{location}<extra></extra>\",\"hovertext\":[\"IRL\",\"USA\",\"BRA\",\"CHN\",\"DEU\",\"RUS\",\"AUS\",\"VNM\",\"JPN\",\"IRN\"],\"legendgroup\":\"\",\"locations\":[\"IRL\",\"USA\",\"BRA\",\"CHN\",\"DEU\",\"RUS\",\"AUS\",\"VNM\",\"JPN\",\"IRN\"],\"marker\":{\"color\":\"#636efa\",\"size\":[104.6,87.4,90.6,52.9,164.9,88.6,85.9,135.1,96.1,773.8],\"sizemode\":\"area\",\"sizeref\":0.48362499999999997,\"symbol\":\"circle\"},\"mode\":\"markers\",\"name\":\"\",\"showlegend\":false,\"type\":\"scattergeo\"}],\"name\":\"2011\"},{\"data\":[{\"geo\":\"geo\",\"hovertemplate\":\"<b>%{hovertext}</b><br><br>Year=2012<br>Import Price=%{marker.size}<br>Code=%{location}<extra></extra>\",\"hovertext\":[\"IRL\",\"USA\",\"BRA\",\"CHN\",\"DEU\",\"RUS\",\"AUS\",\"VNM\",\"JPN\",\"IRN\"],\"legendgroup\":\"\",\"locations\":[\"IRL\",\"USA\",\"BRA\",\"CHN\",\"DEU\",\"RUS\",\"AUS\",\"VNM\",\"JPN\",\"IRN\"],\"marker\":{\"color\":\"#636efa\",\"size\":[118.5,88.1,93.4,57.9,141.8,82.3,81.4,107.9,93.4,189.3],\"sizemode\":\"area\",\"sizeref\":0.48362499999999997,\"symbol\":\"circle\"},\"mode\":\"markers\",\"name\":\"\",\"showlegend\":false,\"type\":\"scattergeo\"}],\"name\":\"2012\"},{\"data\":[{\"geo\":\"geo\",\"hovertemplate\":\"<b>%{hovertext}</b><br><br>Year=2013<br>Import Price=%{marker.size}<br>Code=%{location}<extra></extra>\",\"hovertext\":[\"IRL\",\"USA\",\"BRA\",\"CHN\",\"DEU\",\"RUS\",\"AUS\",\"VNM\",\"JPN\",\"IRN\"],\"legendgroup\":\"\",\"locations\":[\"IRL\",\"USA\",\"BRA\",\"CHN\",\"DEU\",\"RUS\",\"AUS\",\"VNM\",\"JPN\",\"IRN\"],\"marker\":{\"color\":\"#636efa\",\"size\":[107.8,87.8,89.8,65.3,151.4,80.1,95.0,125.9,83.0,330.6],\"sizemode\":\"area\",\"sizeref\":0.48362499999999997,\"symbol\":\"circle\"},\"mode\":\"markers\",\"name\":\"\",\"showlegend\":false,\"type\":\"scattergeo\"}],\"name\":\"2013\"},{\"data\":[{\"geo\":\"geo\",\"hovertemplate\":\"<b>%{hovertext}</b><br><br>Year=2014<br>Import Price=%{marker.size}<br>Code=%{location}<extra></extra>\",\"hovertext\":[\"IRL\",\"USA\",\"BRA\",\"CHN\",\"DEU\",\"RUS\",\"AUS\",\"VNM\",\"JPN\",\"IRN\"],\"legendgroup\":\"\",\"locations\":[\"IRL\",\"USA\",\"BRA\",\"CHN\",\"DEU\",\"RUS\",\"AUS\",\"VNM\",\"JPN\",\"IRN\"],\"marker\":{\"color\":\"#636efa\",\"size\":[88.9,109.3,93.4,89.8,157.6,75.1,106.3,188.5,92.2,225.8],\"sizemode\":\"area\",\"sizeref\":0.48362499999999997,\"symbol\":\"circle\"},\"mode\":\"markers\",\"name\":\"\",\"showlegend\":false,\"type\":\"scattergeo\"}],\"name\":\"2014\"},{\"data\":[{\"geo\":\"geo\",\"hovertemplate\":\"<b>%{hovertext}</b><br><br>Year=2015<br>Import Price=%{marker.size}<br>Code=%{location}<extra></extra>\",\"hovertext\":[\"IRL\",\"USA\",\"BRA\",\"CHN\",\"DEU\",\"RUS\",\"AUS\",\"VNM\",\"JPN\",\"IRN\"],\"legendgroup\":\"\",\"locations\":[\"IRL\",\"USA\",\"BRA\",\"CHN\",\"DEU\",\"RUS\",\"AUS\",\"VNM\",\"JPN\",\"IRN\"],\"marker\":{\"color\":\"#636efa\",\"size\":[78.1,86.7,94.8,162.3,135.4,58.7,104.2,141.9,101.1,275.3],\"sizemode\":\"area\",\"sizeref\":0.48362499999999997,\"symbol\":\"circle\"},\"mode\":\"markers\",\"name\":\"\",\"showlegend\":false,\"type\":\"scattergeo\"}],\"name\":\"2015\"}]);\n",
       "                        }).then(function(){\n",
       "                            \n",
       "var gd = document.getElementById('c94a1fd6-5983-413e-9219-04bd402cd217');\n",
       "var x = new MutationObserver(function (mutations, observer) {{\n",
       "        var display = window.getComputedStyle(gd).display;\n",
       "        if (!display || display === 'none') {{\n",
       "            console.log([gd, 'removed!']);\n",
       "            Plotly.purge(gd);\n",
       "            observer.disconnect();\n",
       "        }}\n",
       "}});\n",
       "\n",
       "// Listen for the removal of the full notebook cells\n",
       "var notebookContainer = gd.closest('#notebook-container');\n",
       "if (notebookContainer) {{\n",
       "    x.observe(notebookContainer, {childList: true});\n",
       "}}\n",
       "\n",
       "// Listen for the clearing of the current output cell\n",
       "var outputEl = gd.closest('.output');\n",
       "if (outputEl) {{\n",
       "    x.observe(outputEl, {childList: true});\n",
       "}}\n",
       "\n",
       "                        })                };                });            </script>        </div>"
      ]
     },
     "metadata": {},
     "output_type": "display_data"
    }
   ],
   "source": [
    "# Interactive scatterplot map graph: Cement Import Price (USD per ton)\n",
    "\n",
    "fig = px.scatter_geo(cement_merge, \n",
    "                    locations=\"Code\", \n",
    "                     # name of column which contains state codes\n",
    "                    size=\"Import Price\", \n",
    "                     # name of column which contains aggregate value to visualize\n",
    "                    hover_name=\"Code\",\n",
    "                    size_max=40,\n",
    "                    animation_frame=\"Year\",)\n",
    "                    \n",
    "fig.update_layout(\n",
    "    # add a title text for the plot\n",
    "    title_text = 'Cement Import Price (USD per ton)',\n",
    "    # limit plot scope to USA\n",
    "    geo = dict(projection={'type':'natural earth'})\n",
    ")\n",
    "fig.show()\n"
   ]
  },
  {
   "cell_type": "code",
   "execution_count": 146,
   "id": "a944426e",
   "metadata": {},
   "outputs": [
    {
     "data": {
      "application/vnd.plotly.v1+json": {
       "config": {
        "plotlyServerURL": "https://plot.ly"
       },
       "data": [
        {
         "geo": "geo",
         "hovertemplate": "<b>%{hovertext}</b><br><br>Year=2007<br>Export Price=%{marker.size}<br>Code=%{location}<extra></extra>",
         "hovertext": [
          "IRL",
          "USA",
          "BRA",
          "CHN",
          "DEU",
          "RUS",
          "AUS",
          "VNM",
          "JPN",
          "IRN"
         ],
         "legendgroup": "",
         "locations": [
          "IRL",
          "USA",
          "BRA",
          "CHN",
          "DEU",
          "RUS",
          "AUS",
          "VNM",
          "JPN",
          "IRN"
         ],
         "marker": {
          "color": "#636efa",
          "size": [
           93.9,
           126,
           50,
           39.8,
           86.2,
           102.5,
           253.6,
           115.8,
           29.4,
           91.9
          ],
          "sizemode": "area",
          "sizeref": 0.281,
          "symbol": "circle"
         },
         "mode": "markers",
         "name": "",
         "showlegend": false,
         "type": "scattergeo"
        }
       ],
       "frames": [
        {
         "data": [
          {
           "geo": "geo",
           "hovertemplate": "<b>%{hovertext}</b><br><br>Year=2007<br>Export Price=%{marker.size}<br>Code=%{location}<extra></extra>",
           "hovertext": [
            "IRL",
            "USA",
            "BRA",
            "CHN",
            "DEU",
            "RUS",
            "AUS",
            "VNM",
            "JPN",
            "IRN"
           ],
           "legendgroup": "",
           "locations": [
            "IRL",
            "USA",
            "BRA",
            "CHN",
            "DEU",
            "RUS",
            "AUS",
            "VNM",
            "JPN",
            "IRN"
           ],
           "marker": {
            "color": "#636efa",
            "size": [
             93.9,
             126,
             50,
             39.8,
             86.2,
             102.5,
             253.6,
             115.8,
             29.4,
             91.9
            ],
            "sizemode": "area",
            "sizeref": 0.281,
            "symbol": "circle"
           },
           "mode": "markers",
           "name": "",
           "showlegend": false,
           "type": "scattergeo"
          }
         ],
         "name": "2007"
        },
        {
         "data": [
          {
           "geo": "geo",
           "hovertemplate": "<b>%{hovertext}</b><br><br>Year=2008<br>Export Price=%{marker.size}<br>Code=%{location}<extra></extra>",
           "hovertext": [
            "IRL",
            "USA",
            "BRA",
            "CHN",
            "DEU",
            "RUS",
            "AUS",
            "VNM",
            "JPN",
            "IRN"
           ],
           "legendgroup": "",
           "locations": [
            "IRL",
            "USA",
            "BRA",
            "CHN",
            "DEU",
            "RUS",
            "AUS",
            "VNM",
            "JPN",
            "IRN"
           ],
           "marker": {
            "color": "#636efa",
            "size": [
             97.7,
             121.2,
             65.2,
             47.7,
             104.3,
             141.2,
             323.5,
             105.2,
             32.6,
             97.2
            ],
            "sizemode": "area",
            "sizeref": 0.281,
            "symbol": "circle"
           },
           "mode": "markers",
           "name": "",
           "showlegend": false,
           "type": "scattergeo"
          }
         ],
         "name": "2008"
        },
        {
         "data": [
          {
           "geo": "geo",
           "hovertemplate": "<b>%{hovertext}</b><br><br>Year=2009<br>Export Price=%{marker.size}<br>Code=%{location}<extra></extra>",
           "hovertext": [
            "IRL",
            "USA",
            "BRA",
            "CHN",
            "DEU",
            "RUS",
            "AUS",
            "VNM",
            "JPN",
            "IRN"
           ],
           "legendgroup": "",
           "locations": [
            "IRL",
            "USA",
            "BRA",
            "CHN",
            "DEU",
            "RUS",
            "AUS",
            "VNM",
            "JPN",
            "IRN"
           ],
           "marker": {
            "color": "#636efa",
            "size": [
             96.5,
             119.9,
             102.9,
             50.1,
             98.3,
             86.6,
             308.3,
             95.9,
             35.4,
             76.4
            ],
            "sizemode": "area",
            "sizeref": 0.281,
            "symbol": "circle"
           },
           "mode": "markers",
           "name": "",
           "showlegend": false,
           "type": "scattergeo"
          }
         ],
         "name": "2009"
        },
        {
         "data": [
          {
           "geo": "geo",
           "hovertemplate": "<b>%{hovertext}</b><br><br>Year=2010<br>Export Price=%{marker.size}<br>Code=%{location}<extra></extra>",
           "hovertext": [
            "IRL",
            "USA",
            "BRA",
            "CHN",
            "DEU",
            "RUS",
            "AUS",
            "VNM",
            "JPN",
            "IRN"
           ],
           "legendgroup": "",
           "locations": [
            "IRL",
            "USA",
            "BRA",
            "CHN",
            "DEU",
            "RUS",
            "AUS",
            "VNM",
            "JPN",
            "IRN"
           ],
           "marker": {
            "color": "#636efa",
            "size": [
             101.2,
             135.8,
             112,
             50.5,
             92.2,
             82.2,
             326.6,
             89.4,
             32.6,
             76.5
            ],
            "sizemode": "area",
            "sizeref": 0.281,
            "symbol": "circle"
           },
           "mode": "markers",
           "name": "",
           "showlegend": false,
           "type": "scattergeo"
          }
         ],
         "name": "2010"
        },
        {
         "data": [
          {
           "geo": "geo",
           "hovertemplate": "<b>%{hovertext}</b><br><br>Year=2011<br>Export Price=%{marker.size}<br>Code=%{location}<extra></extra>",
           "hovertext": [
            "IRL",
            "USA",
            "BRA",
            "CHN",
            "DEU",
            "RUS",
            "AUS",
            "VNM",
            "JPN",
            "IRN"
           ],
           "legendgroup": "",
           "locations": [
            "IRL",
            "USA",
            "BRA",
            "CHN",
            "DEU",
            "RUS",
            "AUS",
            "VNM",
            "JPN",
            "IRN"
           ],
           "marker": {
            "color": "#636efa",
            "size": [
             99.5,
             128.3,
             118.9,
             60.2,
             99.6,
             94,
             398,
             85.2,
             33.7,
             62.5
            ],
            "sizemode": "area",
            "sizeref": 0.281,
            "symbol": "circle"
           },
           "mode": "markers",
           "name": "",
           "showlegend": false,
           "type": "scattergeo"
          }
         ],
         "name": "2011"
        },
        {
         "data": [
          {
           "geo": "geo",
           "hovertemplate": "<b>%{hovertext}</b><br><br>Year=2012<br>Export Price=%{marker.size}<br>Code=%{location}<extra></extra>",
           "hovertext": [
            "IRL",
            "USA",
            "BRA",
            "CHN",
            "DEU",
            "RUS",
            "AUS",
            "VNM",
            "JPN",
            "IRN"
           ],
           "legendgroup": "",
           "locations": [
            "IRL",
            "USA",
            "BRA",
            "CHN",
            "DEU",
            "RUS",
            "AUS",
            "VNM",
            "JPN",
            "IRN"
           ],
           "marker": {
            "color": "#636efa",
            "size": [
             89.6,
             130,
             131.2,
             60.7,
             94.1,
             104.3,
             338.8,
             63.9,
             37.5,
             62.5
            ],
            "sizemode": "area",
            "sizeref": 0.281,
            "symbol": "circle"
           },
           "mode": "markers",
           "name": "",
           "showlegend": false,
           "type": "scattergeo"
          }
         ],
         "name": "2012"
        },
        {
         "data": [
          {
           "geo": "geo",
           "hovertemplate": "<b>%{hovertext}</b><br><br>Year=2013<br>Export Price=%{marker.size}<br>Code=%{location}<extra></extra>",
           "hovertext": [
            "IRL",
            "USA",
            "BRA",
            "CHN",
            "DEU",
            "RUS",
            "AUS",
            "VNM",
            "JPN",
            "IRN"
           ],
           "legendgroup": "",
           "locations": [
            "IRL",
            "USA",
            "BRA",
            "CHN",
            "DEU",
            "RUS",
            "AUS",
            "VNM",
            "JPN",
            "IRN"
           ],
           "marker": {
            "color": "#636efa",
            "size": [
             89.5,
             135.4,
             129.3,
             58.2,
             97.3,
             105.2,
             313.3,
             78.3,
             39,
             59.6
            ],
            "sizemode": "area",
            "sizeref": 0.281,
            "symbol": "circle"
           },
           "mode": "markers",
           "name": "",
           "showlegend": false,
           "type": "scattergeo"
          }
         ],
         "name": "2013"
        },
        {
         "data": [
          {
           "geo": "geo",
           "hovertemplate": "<b>%{hovertext}</b><br><br>Year=2014<br>Export Price=%{marker.size}<br>Code=%{location}<extra></extra>",
           "hovertext": [
            "IRL",
            "USA",
            "BRA",
            "CHN",
            "DEU",
            "RUS",
            "AUS",
            "VNM",
            "JPN",
            "IRN"
           ],
           "legendgroup": "",
           "locations": [
            "IRL",
            "USA",
            "BRA",
            "CHN",
            "DEU",
            "RUS",
            "AUS",
            "VNM",
            "JPN",
            "IRN"
           ],
           "marker": {
            "color": "#636efa",
            "size": [
             97,
             92.8,
             126.5,
             59.7,
             97.1,
             83.1,
             449.6,
             76.4,
             41,
             74.5
            ],
            "sizemode": "area",
            "sizeref": 0.281,
            "symbol": "circle"
           },
           "mode": "markers",
           "name": "",
           "showlegend": false,
           "type": "scattergeo"
          }
         ],
         "name": "2014"
        },
        {
         "data": [
          {
           "geo": "geo",
           "hovertemplate": "<b>%{hovertext}</b><br><br>Year=2015<br>Export Price=%{marker.size}<br>Code=%{location}<extra></extra>",
           "hovertext": [
            "IRL",
            "USA",
            "BRA",
            "CHN",
            "DEU",
            "RUS",
            "AUS",
            "VNM",
            "JPN",
            "IRN"
           ],
           "legendgroup": "",
           "locations": [
            "IRL",
            "USA",
            "BRA",
            "CHN",
            "DEU",
            "RUS",
            "AUS",
            "VNM",
            "JPN",
            "IRN"
           ],
           "marker": {
            "color": "#636efa",
            "size": [
             75.6,
             152.9,
             87.8,
             58,
             79.5,
             52.9,
             278,
             78.1,
             40.8,
             59.7
            ],
            "sizemode": "area",
            "sizeref": 0.281,
            "symbol": "circle"
           },
           "mode": "markers",
           "name": "",
           "showlegend": false,
           "type": "scattergeo"
          }
         ],
         "name": "2015"
        }
       ],
       "layout": {
        "geo": {
         "center": {},
         "domain": {
          "x": [
           0,
           1
          ],
          "y": [
           0,
           1
          ]
         },
         "projection": {
          "type": "natural earth"
         }
        },
        "legend": {
         "itemsizing": "constant",
         "tracegroupgap": 0
        },
        "margin": {
         "t": 60
        },
        "sliders": [
         {
          "active": 0,
          "currentvalue": {
           "prefix": "Year="
          },
          "len": 0.9,
          "pad": {
           "b": 10,
           "t": 60
          },
          "steps": [
           {
            "args": [
             [
              "2007"
             ],
             {
              "frame": {
               "duration": 0,
               "redraw": true
              },
              "fromcurrent": true,
              "mode": "immediate",
              "transition": {
               "duration": 0,
               "easing": "linear"
              }
             }
            ],
            "label": "2007",
            "method": "animate"
           },
           {
            "args": [
             [
              "2008"
             ],
             {
              "frame": {
               "duration": 0,
               "redraw": true
              },
              "fromcurrent": true,
              "mode": "immediate",
              "transition": {
               "duration": 0,
               "easing": "linear"
              }
             }
            ],
            "label": "2008",
            "method": "animate"
           },
           {
            "args": [
             [
              "2009"
             ],
             {
              "frame": {
               "duration": 0,
               "redraw": true
              },
              "fromcurrent": true,
              "mode": "immediate",
              "transition": {
               "duration": 0,
               "easing": "linear"
              }
             }
            ],
            "label": "2009",
            "method": "animate"
           },
           {
            "args": [
             [
              "2010"
             ],
             {
              "frame": {
               "duration": 0,
               "redraw": true
              },
              "fromcurrent": true,
              "mode": "immediate",
              "transition": {
               "duration": 0,
               "easing": "linear"
              }
             }
            ],
            "label": "2010",
            "method": "animate"
           },
           {
            "args": [
             [
              "2011"
             ],
             {
              "frame": {
               "duration": 0,
               "redraw": true
              },
              "fromcurrent": true,
              "mode": "immediate",
              "transition": {
               "duration": 0,
               "easing": "linear"
              }
             }
            ],
            "label": "2011",
            "method": "animate"
           },
           {
            "args": [
             [
              "2012"
             ],
             {
              "frame": {
               "duration": 0,
               "redraw": true
              },
              "fromcurrent": true,
              "mode": "immediate",
              "transition": {
               "duration": 0,
               "easing": "linear"
              }
             }
            ],
            "label": "2012",
            "method": "animate"
           },
           {
            "args": [
             [
              "2013"
             ],
             {
              "frame": {
               "duration": 0,
               "redraw": true
              },
              "fromcurrent": true,
              "mode": "immediate",
              "transition": {
               "duration": 0,
               "easing": "linear"
              }
             }
            ],
            "label": "2013",
            "method": "animate"
           },
           {
            "args": [
             [
              "2014"
             ],
             {
              "frame": {
               "duration": 0,
               "redraw": true
              },
              "fromcurrent": true,
              "mode": "immediate",
              "transition": {
               "duration": 0,
               "easing": "linear"
              }
             }
            ],
            "label": "2014",
            "method": "animate"
           },
           {
            "args": [
             [
              "2015"
             ],
             {
              "frame": {
               "duration": 0,
               "redraw": true
              },
              "fromcurrent": true,
              "mode": "immediate",
              "transition": {
               "duration": 0,
               "easing": "linear"
              }
             }
            ],
            "label": "2015",
            "method": "animate"
           }
          ],
          "x": 0.1,
          "xanchor": "left",
          "y": 0,
          "yanchor": "top"
         }
        ],
        "template": {
         "data": {
          "bar": [
           {
            "error_x": {
             "color": "#2a3f5f"
            },
            "error_y": {
             "color": "#2a3f5f"
            },
            "marker": {
             "line": {
              "color": "#E5ECF6",
              "width": 0.5
             },
             "pattern": {
              "fillmode": "overlay",
              "size": 10,
              "solidity": 0.2
             }
            },
            "type": "bar"
           }
          ],
          "barpolar": [
           {
            "marker": {
             "line": {
              "color": "#E5ECF6",
              "width": 0.5
             },
             "pattern": {
              "fillmode": "overlay",
              "size": 10,
              "solidity": 0.2
             }
            },
            "type": "barpolar"
           }
          ],
          "carpet": [
           {
            "aaxis": {
             "endlinecolor": "#2a3f5f",
             "gridcolor": "white",
             "linecolor": "white",
             "minorgridcolor": "white",
             "startlinecolor": "#2a3f5f"
            },
            "baxis": {
             "endlinecolor": "#2a3f5f",
             "gridcolor": "white",
             "linecolor": "white",
             "minorgridcolor": "white",
             "startlinecolor": "#2a3f5f"
            },
            "type": "carpet"
           }
          ],
          "choropleth": [
           {
            "colorbar": {
             "outlinewidth": 0,
             "ticks": ""
            },
            "type": "choropleth"
           }
          ],
          "contour": [
           {
            "colorbar": {
             "outlinewidth": 0,
             "ticks": ""
            },
            "colorscale": [
             [
              0,
              "#0d0887"
             ],
             [
              0.1111111111111111,
              "#46039f"
             ],
             [
              0.2222222222222222,
              "#7201a8"
             ],
             [
              0.3333333333333333,
              "#9c179e"
             ],
             [
              0.4444444444444444,
              "#bd3786"
             ],
             [
              0.5555555555555556,
              "#d8576b"
             ],
             [
              0.6666666666666666,
              "#ed7953"
             ],
             [
              0.7777777777777778,
              "#fb9f3a"
             ],
             [
              0.8888888888888888,
              "#fdca26"
             ],
             [
              1,
              "#f0f921"
             ]
            ],
            "type": "contour"
           }
          ],
          "contourcarpet": [
           {
            "colorbar": {
             "outlinewidth": 0,
             "ticks": ""
            },
            "type": "contourcarpet"
           }
          ],
          "heatmap": [
           {
            "colorbar": {
             "outlinewidth": 0,
             "ticks": ""
            },
            "colorscale": [
             [
              0,
              "#0d0887"
             ],
             [
              0.1111111111111111,
              "#46039f"
             ],
             [
              0.2222222222222222,
              "#7201a8"
             ],
             [
              0.3333333333333333,
              "#9c179e"
             ],
             [
              0.4444444444444444,
              "#bd3786"
             ],
             [
              0.5555555555555556,
              "#d8576b"
             ],
             [
              0.6666666666666666,
              "#ed7953"
             ],
             [
              0.7777777777777778,
              "#fb9f3a"
             ],
             [
              0.8888888888888888,
              "#fdca26"
             ],
             [
              1,
              "#f0f921"
             ]
            ],
            "type": "heatmap"
           }
          ],
          "heatmapgl": [
           {
            "colorbar": {
             "outlinewidth": 0,
             "ticks": ""
            },
            "colorscale": [
             [
              0,
              "#0d0887"
             ],
             [
              0.1111111111111111,
              "#46039f"
             ],
             [
              0.2222222222222222,
              "#7201a8"
             ],
             [
              0.3333333333333333,
              "#9c179e"
             ],
             [
              0.4444444444444444,
              "#bd3786"
             ],
             [
              0.5555555555555556,
              "#d8576b"
             ],
             [
              0.6666666666666666,
              "#ed7953"
             ],
             [
              0.7777777777777778,
              "#fb9f3a"
             ],
             [
              0.8888888888888888,
              "#fdca26"
             ],
             [
              1,
              "#f0f921"
             ]
            ],
            "type": "heatmapgl"
           }
          ],
          "histogram": [
           {
            "marker": {
             "pattern": {
              "fillmode": "overlay",
              "size": 10,
              "solidity": 0.2
             }
            },
            "type": "histogram"
           }
          ],
          "histogram2d": [
           {
            "colorbar": {
             "outlinewidth": 0,
             "ticks": ""
            },
            "colorscale": [
             [
              0,
              "#0d0887"
             ],
             [
              0.1111111111111111,
              "#46039f"
             ],
             [
              0.2222222222222222,
              "#7201a8"
             ],
             [
              0.3333333333333333,
              "#9c179e"
             ],
             [
              0.4444444444444444,
              "#bd3786"
             ],
             [
              0.5555555555555556,
              "#d8576b"
             ],
             [
              0.6666666666666666,
              "#ed7953"
             ],
             [
              0.7777777777777778,
              "#fb9f3a"
             ],
             [
              0.8888888888888888,
              "#fdca26"
             ],
             [
              1,
              "#f0f921"
             ]
            ],
            "type": "histogram2d"
           }
          ],
          "histogram2dcontour": [
           {
            "colorbar": {
             "outlinewidth": 0,
             "ticks": ""
            },
            "colorscale": [
             [
              0,
              "#0d0887"
             ],
             [
              0.1111111111111111,
              "#46039f"
             ],
             [
              0.2222222222222222,
              "#7201a8"
             ],
             [
              0.3333333333333333,
              "#9c179e"
             ],
             [
              0.4444444444444444,
              "#bd3786"
             ],
             [
              0.5555555555555556,
              "#d8576b"
             ],
             [
              0.6666666666666666,
              "#ed7953"
             ],
             [
              0.7777777777777778,
              "#fb9f3a"
             ],
             [
              0.8888888888888888,
              "#fdca26"
             ],
             [
              1,
              "#f0f921"
             ]
            ],
            "type": "histogram2dcontour"
           }
          ],
          "mesh3d": [
           {
            "colorbar": {
             "outlinewidth": 0,
             "ticks": ""
            },
            "type": "mesh3d"
           }
          ],
          "parcoords": [
           {
            "line": {
             "colorbar": {
              "outlinewidth": 0,
              "ticks": ""
             }
            },
            "type": "parcoords"
           }
          ],
          "pie": [
           {
            "automargin": true,
            "type": "pie"
           }
          ],
          "scatter": [
           {
            "fillpattern": {
             "fillmode": "overlay",
             "size": 10,
             "solidity": 0.2
            },
            "type": "scatter"
           }
          ],
          "scatter3d": [
           {
            "line": {
             "colorbar": {
              "outlinewidth": 0,
              "ticks": ""
             }
            },
            "marker": {
             "colorbar": {
              "outlinewidth": 0,
              "ticks": ""
             }
            },
            "type": "scatter3d"
           }
          ],
          "scattercarpet": [
           {
            "marker": {
             "colorbar": {
              "outlinewidth": 0,
              "ticks": ""
             }
            },
            "type": "scattercarpet"
           }
          ],
          "scattergeo": [
           {
            "marker": {
             "colorbar": {
              "outlinewidth": 0,
              "ticks": ""
             }
            },
            "type": "scattergeo"
           }
          ],
          "scattergl": [
           {
            "marker": {
             "colorbar": {
              "outlinewidth": 0,
              "ticks": ""
             }
            },
            "type": "scattergl"
           }
          ],
          "scattermapbox": [
           {
            "marker": {
             "colorbar": {
              "outlinewidth": 0,
              "ticks": ""
             }
            },
            "type": "scattermapbox"
           }
          ],
          "scatterpolar": [
           {
            "marker": {
             "colorbar": {
              "outlinewidth": 0,
              "ticks": ""
             }
            },
            "type": "scatterpolar"
           }
          ],
          "scatterpolargl": [
           {
            "marker": {
             "colorbar": {
              "outlinewidth": 0,
              "ticks": ""
             }
            },
            "type": "scatterpolargl"
           }
          ],
          "scatterternary": [
           {
            "marker": {
             "colorbar": {
              "outlinewidth": 0,
              "ticks": ""
             }
            },
            "type": "scatterternary"
           }
          ],
          "surface": [
           {
            "colorbar": {
             "outlinewidth": 0,
             "ticks": ""
            },
            "colorscale": [
             [
              0,
              "#0d0887"
             ],
             [
              0.1111111111111111,
              "#46039f"
             ],
             [
              0.2222222222222222,
              "#7201a8"
             ],
             [
              0.3333333333333333,
              "#9c179e"
             ],
             [
              0.4444444444444444,
              "#bd3786"
             ],
             [
              0.5555555555555556,
              "#d8576b"
             ],
             [
              0.6666666666666666,
              "#ed7953"
             ],
             [
              0.7777777777777778,
              "#fb9f3a"
             ],
             [
              0.8888888888888888,
              "#fdca26"
             ],
             [
              1,
              "#f0f921"
             ]
            ],
            "type": "surface"
           }
          ],
          "table": [
           {
            "cells": {
             "fill": {
              "color": "#EBF0F8"
             },
             "line": {
              "color": "white"
             }
            },
            "header": {
             "fill": {
              "color": "#C8D4E3"
             },
             "line": {
              "color": "white"
             }
            },
            "type": "table"
           }
          ]
         },
         "layout": {
          "annotationdefaults": {
           "arrowcolor": "#2a3f5f",
           "arrowhead": 0,
           "arrowwidth": 1
          },
          "autotypenumbers": "strict",
          "coloraxis": {
           "colorbar": {
            "outlinewidth": 0,
            "ticks": ""
           }
          },
          "colorscale": {
           "diverging": [
            [
             0,
             "#8e0152"
            ],
            [
             0.1,
             "#c51b7d"
            ],
            [
             0.2,
             "#de77ae"
            ],
            [
             0.3,
             "#f1b6da"
            ],
            [
             0.4,
             "#fde0ef"
            ],
            [
             0.5,
             "#f7f7f7"
            ],
            [
             0.6,
             "#e6f5d0"
            ],
            [
             0.7,
             "#b8e186"
            ],
            [
             0.8,
             "#7fbc41"
            ],
            [
             0.9,
             "#4d9221"
            ],
            [
             1,
             "#276419"
            ]
           ],
           "sequential": [
            [
             0,
             "#0d0887"
            ],
            [
             0.1111111111111111,
             "#46039f"
            ],
            [
             0.2222222222222222,
             "#7201a8"
            ],
            [
             0.3333333333333333,
             "#9c179e"
            ],
            [
             0.4444444444444444,
             "#bd3786"
            ],
            [
             0.5555555555555556,
             "#d8576b"
            ],
            [
             0.6666666666666666,
             "#ed7953"
            ],
            [
             0.7777777777777778,
             "#fb9f3a"
            ],
            [
             0.8888888888888888,
             "#fdca26"
            ],
            [
             1,
             "#f0f921"
            ]
           ],
           "sequentialminus": [
            [
             0,
             "#0d0887"
            ],
            [
             0.1111111111111111,
             "#46039f"
            ],
            [
             0.2222222222222222,
             "#7201a8"
            ],
            [
             0.3333333333333333,
             "#9c179e"
            ],
            [
             0.4444444444444444,
             "#bd3786"
            ],
            [
             0.5555555555555556,
             "#d8576b"
            ],
            [
             0.6666666666666666,
             "#ed7953"
            ],
            [
             0.7777777777777778,
             "#fb9f3a"
            ],
            [
             0.8888888888888888,
             "#fdca26"
            ],
            [
             1,
             "#f0f921"
            ]
           ]
          },
          "colorway": [
           "#636efa",
           "#EF553B",
           "#00cc96",
           "#ab63fa",
           "#FFA15A",
           "#19d3f3",
           "#FF6692",
           "#B6E880",
           "#FF97FF",
           "#FECB52"
          ],
          "font": {
           "color": "#2a3f5f"
          },
          "geo": {
           "bgcolor": "white",
           "lakecolor": "white",
           "landcolor": "#E5ECF6",
           "showlakes": true,
           "showland": true,
           "subunitcolor": "white"
          },
          "hoverlabel": {
           "align": "left"
          },
          "hovermode": "closest",
          "mapbox": {
           "style": "light"
          },
          "paper_bgcolor": "white",
          "plot_bgcolor": "#E5ECF6",
          "polar": {
           "angularaxis": {
            "gridcolor": "white",
            "linecolor": "white",
            "ticks": ""
           },
           "bgcolor": "#E5ECF6",
           "radialaxis": {
            "gridcolor": "white",
            "linecolor": "white",
            "ticks": ""
           }
          },
          "scene": {
           "xaxis": {
            "backgroundcolor": "#E5ECF6",
            "gridcolor": "white",
            "gridwidth": 2,
            "linecolor": "white",
            "showbackground": true,
            "ticks": "",
            "zerolinecolor": "white"
           },
           "yaxis": {
            "backgroundcolor": "#E5ECF6",
            "gridcolor": "white",
            "gridwidth": 2,
            "linecolor": "white",
            "showbackground": true,
            "ticks": "",
            "zerolinecolor": "white"
           },
           "zaxis": {
            "backgroundcolor": "#E5ECF6",
            "gridcolor": "white",
            "gridwidth": 2,
            "linecolor": "white",
            "showbackground": true,
            "ticks": "",
            "zerolinecolor": "white"
           }
          },
          "shapedefaults": {
           "line": {
            "color": "#2a3f5f"
           }
          },
          "ternary": {
           "aaxis": {
            "gridcolor": "white",
            "linecolor": "white",
            "ticks": ""
           },
           "baxis": {
            "gridcolor": "white",
            "linecolor": "white",
            "ticks": ""
           },
           "bgcolor": "#E5ECF6",
           "caxis": {
            "gridcolor": "white",
            "linecolor": "white",
            "ticks": ""
           }
          },
          "title": {
           "x": 0.05
          },
          "xaxis": {
           "automargin": true,
           "gridcolor": "white",
           "linecolor": "white",
           "ticks": "",
           "title": {
            "standoff": 15
           },
           "zerolinecolor": "white",
           "zerolinewidth": 2
          },
          "yaxis": {
           "automargin": true,
           "gridcolor": "white",
           "linecolor": "white",
           "ticks": "",
           "title": {
            "standoff": 15
           },
           "zerolinecolor": "white",
           "zerolinewidth": 2
          }
         }
        },
        "title": {
         "text": "Cement Export Price (USD per ton)"
        },
        "updatemenus": [
         {
          "buttons": [
           {
            "args": [
             null,
             {
              "frame": {
               "duration": 500,
               "redraw": true
              },
              "fromcurrent": true,
              "mode": "immediate",
              "transition": {
               "duration": 500,
               "easing": "linear"
              }
             }
            ],
            "label": "&#9654;",
            "method": "animate"
           },
           {
            "args": [
             [
              null
             ],
             {
              "frame": {
               "duration": 0,
               "redraw": true
              },
              "fromcurrent": true,
              "mode": "immediate",
              "transition": {
               "duration": 0,
               "easing": "linear"
              }
             }
            ],
            "label": "&#9724;",
            "method": "animate"
           }
          ],
          "direction": "left",
          "pad": {
           "r": 10,
           "t": 70
          },
          "showactive": false,
          "type": "buttons",
          "x": 0.1,
          "xanchor": "right",
          "y": 0,
          "yanchor": "top"
         }
        ]
       }
      },
      "text/html": [
       "<div>                            <div id=\"1ab5876e-331d-47a5-b774-ddeb522aabd4\" class=\"plotly-graph-div\" style=\"height:525px; width:100%;\"></div>            <script type=\"text/javascript\">                require([\"plotly\"], function(Plotly) {                    window.PLOTLYENV=window.PLOTLYENV || {};                                    if (document.getElementById(\"1ab5876e-331d-47a5-b774-ddeb522aabd4\")) {                    Plotly.newPlot(                        \"1ab5876e-331d-47a5-b774-ddeb522aabd4\",                        [{\"geo\":\"geo\",\"hovertemplate\":\"<b>%{hovertext}</b><br><br>Year=2007<br>Export Price=%{marker.size}<br>Code=%{location}<extra></extra>\",\"hovertext\":[\"IRL\",\"USA\",\"BRA\",\"CHN\",\"DEU\",\"RUS\",\"AUS\",\"VNM\",\"JPN\",\"IRN\"],\"legendgroup\":\"\",\"locations\":[\"IRL\",\"USA\",\"BRA\",\"CHN\",\"DEU\",\"RUS\",\"AUS\",\"VNM\",\"JPN\",\"IRN\"],\"marker\":{\"color\":\"#636efa\",\"size\":[93.9,126.0,50.0,39.8,86.2,102.5,253.6,115.8,29.4,91.9],\"sizemode\":\"area\",\"sizeref\":0.281,\"symbol\":\"circle\"},\"mode\":\"markers\",\"name\":\"\",\"showlegend\":false,\"type\":\"scattergeo\"}],                        {\"template\":{\"data\":{\"histogram2dcontour\":[{\"type\":\"histogram2dcontour\",\"colorbar\":{\"outlinewidth\":0,\"ticks\":\"\"},\"colorscale\":[[0.0,\"#0d0887\"],[0.1111111111111111,\"#46039f\"],[0.2222222222222222,\"#7201a8\"],[0.3333333333333333,\"#9c179e\"],[0.4444444444444444,\"#bd3786\"],[0.5555555555555556,\"#d8576b\"],[0.6666666666666666,\"#ed7953\"],[0.7777777777777778,\"#fb9f3a\"],[0.8888888888888888,\"#fdca26\"],[1.0,\"#f0f921\"]]}],\"choropleth\":[{\"type\":\"choropleth\",\"colorbar\":{\"outlinewidth\":0,\"ticks\":\"\"}}],\"histogram2d\":[{\"type\":\"histogram2d\",\"colorbar\":{\"outlinewidth\":0,\"ticks\":\"\"},\"colorscale\":[[0.0,\"#0d0887\"],[0.1111111111111111,\"#46039f\"],[0.2222222222222222,\"#7201a8\"],[0.3333333333333333,\"#9c179e\"],[0.4444444444444444,\"#bd3786\"],[0.5555555555555556,\"#d8576b\"],[0.6666666666666666,\"#ed7953\"],[0.7777777777777778,\"#fb9f3a\"],[0.8888888888888888,\"#fdca26\"],[1.0,\"#f0f921\"]]}],\"heatmap\":[{\"type\":\"heatmap\",\"colorbar\":{\"outlinewidth\":0,\"ticks\":\"\"},\"colorscale\":[[0.0,\"#0d0887\"],[0.1111111111111111,\"#46039f\"],[0.2222222222222222,\"#7201a8\"],[0.3333333333333333,\"#9c179e\"],[0.4444444444444444,\"#bd3786\"],[0.5555555555555556,\"#d8576b\"],[0.6666666666666666,\"#ed7953\"],[0.7777777777777778,\"#fb9f3a\"],[0.8888888888888888,\"#fdca26\"],[1.0,\"#f0f921\"]]}],\"heatmapgl\":[{\"type\":\"heatmapgl\",\"colorbar\":{\"outlinewidth\":0,\"ticks\":\"\"},\"colorscale\":[[0.0,\"#0d0887\"],[0.1111111111111111,\"#46039f\"],[0.2222222222222222,\"#7201a8\"],[0.3333333333333333,\"#9c179e\"],[0.4444444444444444,\"#bd3786\"],[0.5555555555555556,\"#d8576b\"],[0.6666666666666666,\"#ed7953\"],[0.7777777777777778,\"#fb9f3a\"],[0.8888888888888888,\"#fdca26\"],[1.0,\"#f0f921\"]]}],\"contourcarpet\":[{\"type\":\"contourcarpet\",\"colorbar\":{\"outlinewidth\":0,\"ticks\":\"\"}}],\"contour\":[{\"type\":\"contour\",\"colorbar\":{\"outlinewidth\":0,\"ticks\":\"\"},\"colorscale\":[[0.0,\"#0d0887\"],[0.1111111111111111,\"#46039f\"],[0.2222222222222222,\"#7201a8\"],[0.3333333333333333,\"#9c179e\"],[0.4444444444444444,\"#bd3786\"],[0.5555555555555556,\"#d8576b\"],[0.6666666666666666,\"#ed7953\"],[0.7777777777777778,\"#fb9f3a\"],[0.8888888888888888,\"#fdca26\"],[1.0,\"#f0f921\"]]}],\"surface\":[{\"type\":\"surface\",\"colorbar\":{\"outlinewidth\":0,\"ticks\":\"\"},\"colorscale\":[[0.0,\"#0d0887\"],[0.1111111111111111,\"#46039f\"],[0.2222222222222222,\"#7201a8\"],[0.3333333333333333,\"#9c179e\"],[0.4444444444444444,\"#bd3786\"],[0.5555555555555556,\"#d8576b\"],[0.6666666666666666,\"#ed7953\"],[0.7777777777777778,\"#fb9f3a\"],[0.8888888888888888,\"#fdca26\"],[1.0,\"#f0f921\"]]}],\"mesh3d\":[{\"type\":\"mesh3d\",\"colorbar\":{\"outlinewidth\":0,\"ticks\":\"\"}}],\"scatter\":[{\"fillpattern\":{\"fillmode\":\"overlay\",\"size\":10,\"solidity\":0.2},\"type\":\"scatter\"}],\"parcoords\":[{\"type\":\"parcoords\",\"line\":{\"colorbar\":{\"outlinewidth\":0,\"ticks\":\"\"}}}],\"scatterpolargl\":[{\"type\":\"scatterpolargl\",\"marker\":{\"colorbar\":{\"outlinewidth\":0,\"ticks\":\"\"}}}],\"bar\":[{\"error_x\":{\"color\":\"#2a3f5f\"},\"error_y\":{\"color\":\"#2a3f5f\"},\"marker\":{\"line\":{\"color\":\"#E5ECF6\",\"width\":0.5},\"pattern\":{\"fillmode\":\"overlay\",\"size\":10,\"solidity\":0.2}},\"type\":\"bar\"}],\"scattergeo\":[{\"type\":\"scattergeo\",\"marker\":{\"colorbar\":{\"outlinewidth\":0,\"ticks\":\"\"}}}],\"scatterpolar\":[{\"type\":\"scatterpolar\",\"marker\":{\"colorbar\":{\"outlinewidth\":0,\"ticks\":\"\"}}}],\"histogram\":[{\"marker\":{\"pattern\":{\"fillmode\":\"overlay\",\"size\":10,\"solidity\":0.2}},\"type\":\"histogram\"}],\"scattergl\":[{\"type\":\"scattergl\",\"marker\":{\"colorbar\":{\"outlinewidth\":0,\"ticks\":\"\"}}}],\"scatter3d\":[{\"type\":\"scatter3d\",\"line\":{\"colorbar\":{\"outlinewidth\":0,\"ticks\":\"\"}},\"marker\":{\"colorbar\":{\"outlinewidth\":0,\"ticks\":\"\"}}}],\"scattermapbox\":[{\"type\":\"scattermapbox\",\"marker\":{\"colorbar\":{\"outlinewidth\":0,\"ticks\":\"\"}}}],\"scatterternary\":[{\"type\":\"scatterternary\",\"marker\":{\"colorbar\":{\"outlinewidth\":0,\"ticks\":\"\"}}}],\"scattercarpet\":[{\"type\":\"scattercarpet\",\"marker\":{\"colorbar\":{\"outlinewidth\":0,\"ticks\":\"\"}}}],\"carpet\":[{\"aaxis\":{\"endlinecolor\":\"#2a3f5f\",\"gridcolor\":\"white\",\"linecolor\":\"white\",\"minorgridcolor\":\"white\",\"startlinecolor\":\"#2a3f5f\"},\"baxis\":{\"endlinecolor\":\"#2a3f5f\",\"gridcolor\":\"white\",\"linecolor\":\"white\",\"minorgridcolor\":\"white\",\"startlinecolor\":\"#2a3f5f\"},\"type\":\"carpet\"}],\"table\":[{\"cells\":{\"fill\":{\"color\":\"#EBF0F8\"},\"line\":{\"color\":\"white\"}},\"header\":{\"fill\":{\"color\":\"#C8D4E3\"},\"line\":{\"color\":\"white\"}},\"type\":\"table\"}],\"barpolar\":[{\"marker\":{\"line\":{\"color\":\"#E5ECF6\",\"width\":0.5},\"pattern\":{\"fillmode\":\"overlay\",\"size\":10,\"solidity\":0.2}},\"type\":\"barpolar\"}],\"pie\":[{\"automargin\":true,\"type\":\"pie\"}]},\"layout\":{\"autotypenumbers\":\"strict\",\"colorway\":[\"#636efa\",\"#EF553B\",\"#00cc96\",\"#ab63fa\",\"#FFA15A\",\"#19d3f3\",\"#FF6692\",\"#B6E880\",\"#FF97FF\",\"#FECB52\"],\"font\":{\"color\":\"#2a3f5f\"},\"hovermode\":\"closest\",\"hoverlabel\":{\"align\":\"left\"},\"paper_bgcolor\":\"white\",\"plot_bgcolor\":\"#E5ECF6\",\"polar\":{\"bgcolor\":\"#E5ECF6\",\"angularaxis\":{\"gridcolor\":\"white\",\"linecolor\":\"white\",\"ticks\":\"\"},\"radialaxis\":{\"gridcolor\":\"white\",\"linecolor\":\"white\",\"ticks\":\"\"}},\"ternary\":{\"bgcolor\":\"#E5ECF6\",\"aaxis\":{\"gridcolor\":\"white\",\"linecolor\":\"white\",\"ticks\":\"\"},\"baxis\":{\"gridcolor\":\"white\",\"linecolor\":\"white\",\"ticks\":\"\"},\"caxis\":{\"gridcolor\":\"white\",\"linecolor\":\"white\",\"ticks\":\"\"}},\"coloraxis\":{\"colorbar\":{\"outlinewidth\":0,\"ticks\":\"\"}},\"colorscale\":{\"sequential\":[[0.0,\"#0d0887\"],[0.1111111111111111,\"#46039f\"],[0.2222222222222222,\"#7201a8\"],[0.3333333333333333,\"#9c179e\"],[0.4444444444444444,\"#bd3786\"],[0.5555555555555556,\"#d8576b\"],[0.6666666666666666,\"#ed7953\"],[0.7777777777777778,\"#fb9f3a\"],[0.8888888888888888,\"#fdca26\"],[1.0,\"#f0f921\"]],\"sequentialminus\":[[0.0,\"#0d0887\"],[0.1111111111111111,\"#46039f\"],[0.2222222222222222,\"#7201a8\"],[0.3333333333333333,\"#9c179e\"],[0.4444444444444444,\"#bd3786\"],[0.5555555555555556,\"#d8576b\"],[0.6666666666666666,\"#ed7953\"],[0.7777777777777778,\"#fb9f3a\"],[0.8888888888888888,\"#fdca26\"],[1.0,\"#f0f921\"]],\"diverging\":[[0,\"#8e0152\"],[0.1,\"#c51b7d\"],[0.2,\"#de77ae\"],[0.3,\"#f1b6da\"],[0.4,\"#fde0ef\"],[0.5,\"#f7f7f7\"],[0.6,\"#e6f5d0\"],[0.7,\"#b8e186\"],[0.8,\"#7fbc41\"],[0.9,\"#4d9221\"],[1,\"#276419\"]]},\"xaxis\":{\"gridcolor\":\"white\",\"linecolor\":\"white\",\"ticks\":\"\",\"title\":{\"standoff\":15},\"zerolinecolor\":\"white\",\"automargin\":true,\"zerolinewidth\":2},\"yaxis\":{\"gridcolor\":\"white\",\"linecolor\":\"white\",\"ticks\":\"\",\"title\":{\"standoff\":15},\"zerolinecolor\":\"white\",\"automargin\":true,\"zerolinewidth\":2},\"scene\":{\"xaxis\":{\"backgroundcolor\":\"#E5ECF6\",\"gridcolor\":\"white\",\"linecolor\":\"white\",\"showbackground\":true,\"ticks\":\"\",\"zerolinecolor\":\"white\",\"gridwidth\":2},\"yaxis\":{\"backgroundcolor\":\"#E5ECF6\",\"gridcolor\":\"white\",\"linecolor\":\"white\",\"showbackground\":true,\"ticks\":\"\",\"zerolinecolor\":\"white\",\"gridwidth\":2},\"zaxis\":{\"backgroundcolor\":\"#E5ECF6\",\"gridcolor\":\"white\",\"linecolor\":\"white\",\"showbackground\":true,\"ticks\":\"\",\"zerolinecolor\":\"white\",\"gridwidth\":2}},\"shapedefaults\":{\"line\":{\"color\":\"#2a3f5f\"}},\"annotationdefaults\":{\"arrowcolor\":\"#2a3f5f\",\"arrowhead\":0,\"arrowwidth\":1},\"geo\":{\"bgcolor\":\"white\",\"landcolor\":\"#E5ECF6\",\"subunitcolor\":\"white\",\"showland\":true,\"showlakes\":true,\"lakecolor\":\"white\"},\"title\":{\"x\":0.05},\"mapbox\":{\"style\":\"light\"}}},\"geo\":{\"domain\":{\"x\":[0.0,1.0],\"y\":[0.0,1.0]},\"center\":{},\"projection\":{\"type\":\"natural earth\"}},\"legend\":{\"tracegroupgap\":0,\"itemsizing\":\"constant\"},\"margin\":{\"t\":60},\"updatemenus\":[{\"buttons\":[{\"args\":[null,{\"frame\":{\"duration\":500,\"redraw\":true},\"mode\":\"immediate\",\"fromcurrent\":true,\"transition\":{\"duration\":500,\"easing\":\"linear\"}}],\"label\":\"&#9654;\",\"method\":\"animate\"},{\"args\":[[null],{\"frame\":{\"duration\":0,\"redraw\":true},\"mode\":\"immediate\",\"fromcurrent\":true,\"transition\":{\"duration\":0,\"easing\":\"linear\"}}],\"label\":\"&#9724;\",\"method\":\"animate\"}],\"direction\":\"left\",\"pad\":{\"r\":10,\"t\":70},\"showactive\":false,\"type\":\"buttons\",\"x\":0.1,\"xanchor\":\"right\",\"y\":0,\"yanchor\":\"top\"}],\"sliders\":[{\"active\":0,\"currentvalue\":{\"prefix\":\"Year=\"},\"len\":0.9,\"pad\":{\"b\":10,\"t\":60},\"steps\":[{\"args\":[[\"2007\"],{\"frame\":{\"duration\":0,\"redraw\":true},\"mode\":\"immediate\",\"fromcurrent\":true,\"transition\":{\"duration\":0,\"easing\":\"linear\"}}],\"label\":\"2007\",\"method\":\"animate\"},{\"args\":[[\"2008\"],{\"frame\":{\"duration\":0,\"redraw\":true},\"mode\":\"immediate\",\"fromcurrent\":true,\"transition\":{\"duration\":0,\"easing\":\"linear\"}}],\"label\":\"2008\",\"method\":\"animate\"},{\"args\":[[\"2009\"],{\"frame\":{\"duration\":0,\"redraw\":true},\"mode\":\"immediate\",\"fromcurrent\":true,\"transition\":{\"duration\":0,\"easing\":\"linear\"}}],\"label\":\"2009\",\"method\":\"animate\"},{\"args\":[[\"2010\"],{\"frame\":{\"duration\":0,\"redraw\":true},\"mode\":\"immediate\",\"fromcurrent\":true,\"transition\":{\"duration\":0,\"easing\":\"linear\"}}],\"label\":\"2010\",\"method\":\"animate\"},{\"args\":[[\"2011\"],{\"frame\":{\"duration\":0,\"redraw\":true},\"mode\":\"immediate\",\"fromcurrent\":true,\"transition\":{\"duration\":0,\"easing\":\"linear\"}}],\"label\":\"2011\",\"method\":\"animate\"},{\"args\":[[\"2012\"],{\"frame\":{\"duration\":0,\"redraw\":true},\"mode\":\"immediate\",\"fromcurrent\":true,\"transition\":{\"duration\":0,\"easing\":\"linear\"}}],\"label\":\"2012\",\"method\":\"animate\"},{\"args\":[[\"2013\"],{\"frame\":{\"duration\":0,\"redraw\":true},\"mode\":\"immediate\",\"fromcurrent\":true,\"transition\":{\"duration\":0,\"easing\":\"linear\"}}],\"label\":\"2013\",\"method\":\"animate\"},{\"args\":[[\"2014\"],{\"frame\":{\"duration\":0,\"redraw\":true},\"mode\":\"immediate\",\"fromcurrent\":true,\"transition\":{\"duration\":0,\"easing\":\"linear\"}}],\"label\":\"2014\",\"method\":\"animate\"},{\"args\":[[\"2015\"],{\"frame\":{\"duration\":0,\"redraw\":true},\"mode\":\"immediate\",\"fromcurrent\":true,\"transition\":{\"duration\":0,\"easing\":\"linear\"}}],\"label\":\"2015\",\"method\":\"animate\"}],\"x\":0.1,\"xanchor\":\"left\",\"y\":0,\"yanchor\":\"top\"}],\"title\":{\"text\":\"Cement Export Price (USD per ton)\"}},                        {\"responsive\": true}                    ).then(function(){\n",
       "                            Plotly.addFrames('1ab5876e-331d-47a5-b774-ddeb522aabd4', [{\"data\":[{\"geo\":\"geo\",\"hovertemplate\":\"<b>%{hovertext}</b><br><br>Year=2007<br>Export Price=%{marker.size}<br>Code=%{location}<extra></extra>\",\"hovertext\":[\"IRL\",\"USA\",\"BRA\",\"CHN\",\"DEU\",\"RUS\",\"AUS\",\"VNM\",\"JPN\",\"IRN\"],\"legendgroup\":\"\",\"locations\":[\"IRL\",\"USA\",\"BRA\",\"CHN\",\"DEU\",\"RUS\",\"AUS\",\"VNM\",\"JPN\",\"IRN\"],\"marker\":{\"color\":\"#636efa\",\"size\":[93.9,126.0,50.0,39.8,86.2,102.5,253.6,115.8,29.4,91.9],\"sizemode\":\"area\",\"sizeref\":0.281,\"symbol\":\"circle\"},\"mode\":\"markers\",\"name\":\"\",\"showlegend\":false,\"type\":\"scattergeo\"}],\"name\":\"2007\"},{\"data\":[{\"geo\":\"geo\",\"hovertemplate\":\"<b>%{hovertext}</b><br><br>Year=2008<br>Export Price=%{marker.size}<br>Code=%{location}<extra></extra>\",\"hovertext\":[\"IRL\",\"USA\",\"BRA\",\"CHN\",\"DEU\",\"RUS\",\"AUS\",\"VNM\",\"JPN\",\"IRN\"],\"legendgroup\":\"\",\"locations\":[\"IRL\",\"USA\",\"BRA\",\"CHN\",\"DEU\",\"RUS\",\"AUS\",\"VNM\",\"JPN\",\"IRN\"],\"marker\":{\"color\":\"#636efa\",\"size\":[97.7,121.2,65.2,47.7,104.3,141.2,323.5,105.2,32.6,97.2],\"sizemode\":\"area\",\"sizeref\":0.281,\"symbol\":\"circle\"},\"mode\":\"markers\",\"name\":\"\",\"showlegend\":false,\"type\":\"scattergeo\"}],\"name\":\"2008\"},{\"data\":[{\"geo\":\"geo\",\"hovertemplate\":\"<b>%{hovertext}</b><br><br>Year=2009<br>Export Price=%{marker.size}<br>Code=%{location}<extra></extra>\",\"hovertext\":[\"IRL\",\"USA\",\"BRA\",\"CHN\",\"DEU\",\"RUS\",\"AUS\",\"VNM\",\"JPN\",\"IRN\"],\"legendgroup\":\"\",\"locations\":[\"IRL\",\"USA\",\"BRA\",\"CHN\",\"DEU\",\"RUS\",\"AUS\",\"VNM\",\"JPN\",\"IRN\"],\"marker\":{\"color\":\"#636efa\",\"size\":[96.5,119.9,102.9,50.1,98.3,86.6,308.3,95.9,35.4,76.4],\"sizemode\":\"area\",\"sizeref\":0.281,\"symbol\":\"circle\"},\"mode\":\"markers\",\"name\":\"\",\"showlegend\":false,\"type\":\"scattergeo\"}],\"name\":\"2009\"},{\"data\":[{\"geo\":\"geo\",\"hovertemplate\":\"<b>%{hovertext}</b><br><br>Year=2010<br>Export Price=%{marker.size}<br>Code=%{location}<extra></extra>\",\"hovertext\":[\"IRL\",\"USA\",\"BRA\",\"CHN\",\"DEU\",\"RUS\",\"AUS\",\"VNM\",\"JPN\",\"IRN\"],\"legendgroup\":\"\",\"locations\":[\"IRL\",\"USA\",\"BRA\",\"CHN\",\"DEU\",\"RUS\",\"AUS\",\"VNM\",\"JPN\",\"IRN\"],\"marker\":{\"color\":\"#636efa\",\"size\":[101.2,135.8,112.0,50.5,92.2,82.2,326.6,89.4,32.6,76.5],\"sizemode\":\"area\",\"sizeref\":0.281,\"symbol\":\"circle\"},\"mode\":\"markers\",\"name\":\"\",\"showlegend\":false,\"type\":\"scattergeo\"}],\"name\":\"2010\"},{\"data\":[{\"geo\":\"geo\",\"hovertemplate\":\"<b>%{hovertext}</b><br><br>Year=2011<br>Export Price=%{marker.size}<br>Code=%{location}<extra></extra>\",\"hovertext\":[\"IRL\",\"USA\",\"BRA\",\"CHN\",\"DEU\",\"RUS\",\"AUS\",\"VNM\",\"JPN\",\"IRN\"],\"legendgroup\":\"\",\"locations\":[\"IRL\",\"USA\",\"BRA\",\"CHN\",\"DEU\",\"RUS\",\"AUS\",\"VNM\",\"JPN\",\"IRN\"],\"marker\":{\"color\":\"#636efa\",\"size\":[99.5,128.3,118.9,60.2,99.6,94.0,398.0,85.2,33.7,62.5],\"sizemode\":\"area\",\"sizeref\":0.281,\"symbol\":\"circle\"},\"mode\":\"markers\",\"name\":\"\",\"showlegend\":false,\"type\":\"scattergeo\"}],\"name\":\"2011\"},{\"data\":[{\"geo\":\"geo\",\"hovertemplate\":\"<b>%{hovertext}</b><br><br>Year=2012<br>Export Price=%{marker.size}<br>Code=%{location}<extra></extra>\",\"hovertext\":[\"IRL\",\"USA\",\"BRA\",\"CHN\",\"DEU\",\"RUS\",\"AUS\",\"VNM\",\"JPN\",\"IRN\"],\"legendgroup\":\"\",\"locations\":[\"IRL\",\"USA\",\"BRA\",\"CHN\",\"DEU\",\"RUS\",\"AUS\",\"VNM\",\"JPN\",\"IRN\"],\"marker\":{\"color\":\"#636efa\",\"size\":[89.6,130.0,131.2,60.7,94.1,104.3,338.8,63.9,37.5,62.5],\"sizemode\":\"area\",\"sizeref\":0.281,\"symbol\":\"circle\"},\"mode\":\"markers\",\"name\":\"\",\"showlegend\":false,\"type\":\"scattergeo\"}],\"name\":\"2012\"},{\"data\":[{\"geo\":\"geo\",\"hovertemplate\":\"<b>%{hovertext}</b><br><br>Year=2013<br>Export Price=%{marker.size}<br>Code=%{location}<extra></extra>\",\"hovertext\":[\"IRL\",\"USA\",\"BRA\",\"CHN\",\"DEU\",\"RUS\",\"AUS\",\"VNM\",\"JPN\",\"IRN\"],\"legendgroup\":\"\",\"locations\":[\"IRL\",\"USA\",\"BRA\",\"CHN\",\"DEU\",\"RUS\",\"AUS\",\"VNM\",\"JPN\",\"IRN\"],\"marker\":{\"color\":\"#636efa\",\"size\":[89.5,135.4,129.3,58.2,97.3,105.2,313.3,78.3,39.0,59.6],\"sizemode\":\"area\",\"sizeref\":0.281,\"symbol\":\"circle\"},\"mode\":\"markers\",\"name\":\"\",\"showlegend\":false,\"type\":\"scattergeo\"}],\"name\":\"2013\"},{\"data\":[{\"geo\":\"geo\",\"hovertemplate\":\"<b>%{hovertext}</b><br><br>Year=2014<br>Export Price=%{marker.size}<br>Code=%{location}<extra></extra>\",\"hovertext\":[\"IRL\",\"USA\",\"BRA\",\"CHN\",\"DEU\",\"RUS\",\"AUS\",\"VNM\",\"JPN\",\"IRN\"],\"legendgroup\":\"\",\"locations\":[\"IRL\",\"USA\",\"BRA\",\"CHN\",\"DEU\",\"RUS\",\"AUS\",\"VNM\",\"JPN\",\"IRN\"],\"marker\":{\"color\":\"#636efa\",\"size\":[97.0,92.8,126.5,59.7,97.1,83.1,449.6,76.4,41.0,74.5],\"sizemode\":\"area\",\"sizeref\":0.281,\"symbol\":\"circle\"},\"mode\":\"markers\",\"name\":\"\",\"showlegend\":false,\"type\":\"scattergeo\"}],\"name\":\"2014\"},{\"data\":[{\"geo\":\"geo\",\"hovertemplate\":\"<b>%{hovertext}</b><br><br>Year=2015<br>Export Price=%{marker.size}<br>Code=%{location}<extra></extra>\",\"hovertext\":[\"IRL\",\"USA\",\"BRA\",\"CHN\",\"DEU\",\"RUS\",\"AUS\",\"VNM\",\"JPN\",\"IRN\"],\"legendgroup\":\"\",\"locations\":[\"IRL\",\"USA\",\"BRA\",\"CHN\",\"DEU\",\"RUS\",\"AUS\",\"VNM\",\"JPN\",\"IRN\"],\"marker\":{\"color\":\"#636efa\",\"size\":[75.6,152.9,87.8,58.0,79.5,52.9,278.0,78.1,40.8,59.7],\"sizemode\":\"area\",\"sizeref\":0.281,\"symbol\":\"circle\"},\"mode\":\"markers\",\"name\":\"\",\"showlegend\":false,\"type\":\"scattergeo\"}],\"name\":\"2015\"}]);\n",
       "                        }).then(function(){\n",
       "                            \n",
       "var gd = document.getElementById('1ab5876e-331d-47a5-b774-ddeb522aabd4');\n",
       "var x = new MutationObserver(function (mutations, observer) {{\n",
       "        var display = window.getComputedStyle(gd).display;\n",
       "        if (!display || display === 'none') {{\n",
       "            console.log([gd, 'removed!']);\n",
       "            Plotly.purge(gd);\n",
       "            observer.disconnect();\n",
       "        }}\n",
       "}});\n",
       "\n",
       "// Listen for the removal of the full notebook cells\n",
       "var notebookContainer = gd.closest('#notebook-container');\n",
       "if (notebookContainer) {{\n",
       "    x.observe(notebookContainer, {childList: true});\n",
       "}}\n",
       "\n",
       "// Listen for the clearing of the current output cell\n",
       "var outputEl = gd.closest('.output');\n",
       "if (outputEl) {{\n",
       "    x.observe(outputEl, {childList: true});\n",
       "}}\n",
       "\n",
       "                        })                };                });            </script>        </div>"
      ]
     },
     "metadata": {},
     "output_type": "display_data"
    }
   ],
   "source": [
    "# Interactive scatterplot map graph: Cement Export Price (USD per ton)\n",
    "\n",
    "fig = px.scatter_geo(cement_merge, \n",
    "                    locations=\"Code\", \n",
    "                     # name of column which contains state codes\n",
    "                    size=\"Export Price\", \n",
    "                     # name of column which contains aggregate value to visualize\n",
    "                    hover_name=\"Code\",\n",
    "                    size_max=40,\n",
    "                    animation_frame=\"Year\",)\n",
    "                    \n",
    "fig.update_layout(\n",
    "    # add a title text for the plot\n",
    "    title_text = 'Cement Export Price (USD per ton)',\n",
    "    # limit plot scope to USA\n",
    "    geo = dict(projection={'type':'natural earth'})\n",
    ")\n",
    "fig.show()"
   ]
  },
  {
   "cell_type": "code",
   "execution_count": 147,
   "id": "ac672e47",
   "metadata": {},
   "outputs": [
    {
     "data": {
      "image/png": "[encoded data removed]",
      "text/plain": [
       "<Figure size 2000x400 with 1 Axes>"
      ]
     },
     "metadata": {},
     "output_type": "display_data"
    }
   ],
   "source": [
    "# Plot Cement Import Price from 2007 to 2015\n",
    "# Create figure and set of subplots\n",
    "fig, ax = plt.subplots()\n",
    "\n",
    "ax.plot(cement_merge[cement_merge[\"Code\"]==\"IRL\"][\"Year\"], cement_merge[cement_merge[\"Code\"]==\"IRL\"][\"Import Price\"], label=\"Ireland\")\n",
    "ax.plot(cement_merge[cement_merge[\"Code\"]==\"USA\"][\"Year\"], cement_merge[cement_merge[\"Code\"]==\"USA\"][\"Import Price\"], label=\"United States\")\n",
    "ax.plot(cement_merge[cement_merge[\"Code\"]==\"BRA\"][\"Year\"], cement_merge[cement_merge[\"Code\"]==\"BRA\"][\"Import Price\"], label=\"Brazil\")\n",
    "ax.plot(cement_merge[cement_merge[\"Code\"]==\"CHN\"][\"Year\"], cement_merge[cement_merge[\"Code\"]==\"CHN\"][\"Import Price\"], label=\"China\")\n",
    "ax.plot(cement_merge[cement_merge[\"Code\"]==\"DEU\"][\"Year\"], cement_merge[cement_merge[\"Code\"]==\"DEU\"][\"Import Price\"], label=\"Germany\")\n",
    "ax.plot(cement_merge[cement_merge[\"Code\"]==\"RUS\"][\"Year\"], cement_merge[cement_merge[\"Code\"]==\"RUS\"][\"Import Price\"], label=\"Russia\")\n",
    "ax.plot(cement_merge[cement_merge[\"Code\"]==\"AUS\"][\"Year\"], cement_merge[cement_merge[\"Code\"]==\"AUS\"][\"Import Price\"], label=\"Australia\")\n",
    "ax.plot(cement_merge[cement_merge[\"Code\"]==\"VNM\"][\"Year\"], cement_merge[cement_merge[\"Code\"]==\"VNM\"][\"Import Price\"], label=\"Vietnam\")\n",
    "ax.plot(cement_merge[cement_merge[\"Code\"]==\"JPN\"][\"Year\"], cement_merge[cement_merge[\"Code\"]==\"JPN\"][\"Import Price\"], label=\"Japan\")\n",
    "ax.plot(cement_merge[cement_merge[\"Code\"]==\"IRN\"][\"Year\"], cement_merge[cement_merge[\"Code\"]==\"IRN\"][\"Import Price\"], label=\"Iran\")\n",
    "\n",
    "\n",
    "# Config graphic\n",
    "plt.rc(\"figure\", autolayout=True, figsize=(20, 4))\n",
    "plt.title(\"Cement Import Price from 2007 to 2015\")\n",
    "plt.xlabel(\"Year\")\n",
    "plt.ylabel(\"USD per ton\")\n",
    "plt.xticks(rotation=45)\n",
    "ax.legend(loc='center left', bbox_to_anchor=(1, 0.5))\n",
    "\n",
    "# Display graphic\n",
    "plt.show()"
   ]
  },
  {
   "cell_type": "code",
   "execution_count": 148,
   "id": "f0baa287",
   "metadata": {},
   "outputs": [
    {
     "data": {
      "image/png": "[encoded data removed]",
      "text/plain": [
       "<Figure size 2000x400 with 1 Axes>"
      ]
     },
     "metadata": {},
     "output_type": "display_data"
    }
   ],
   "source": [
    "# Plot Cement Export Price (USD per ton) from 2007 to 2015\n",
    "# Create figure and set of subplots\n",
    "fig, ax = plt.subplots()\n",
    "\n",
    "ax.plot(cement_merge[cement_merge[\"Code\"]==\"IRL\"][\"Year\"], cement_merge[cement_merge[\"Code\"]==\"IRL\"][\"Export Price\"], label=\"Ireland\")\n",
    "ax.plot(cement_merge[cement_merge[\"Code\"]==\"USA\"][\"Year\"], cement_merge[cement_merge[\"Code\"]==\"USA\"][\"Export Price\"], label=\"United States\")\n",
    "ax.plot(cement_merge[cement_merge[\"Code\"]==\"BRA\"][\"Year\"], cement_merge[cement_merge[\"Code\"]==\"BRA\"][\"Export Price\"], label=\"Brazil\")\n",
    "ax.plot(cement_merge[cement_merge[\"Code\"]==\"CHN\"][\"Year\"], cement_merge[cement_merge[\"Code\"]==\"CHN\"][\"Export Price\"], label=\"China\")\n",
    "ax.plot(cement_merge[cement_merge[\"Code\"]==\"DEU\"][\"Year\"], cement_merge[cement_merge[\"Code\"]==\"DEU\"][\"Export Price\"], label=\"Germany\")\n",
    "ax.plot(cement_merge[cement_merge[\"Code\"]==\"RUS\"][\"Year\"], cement_merge[cement_merge[\"Code\"]==\"RUS\"][\"Export Price\"], label=\"Russia\")\n",
    "ax.plot(cement_merge[cement_merge[\"Code\"]==\"AUS\"][\"Year\"], cement_merge[cement_merge[\"Code\"]==\"AUS\"][\"Export Price\"], label=\"Australia\")\n",
    "ax.plot(cement_merge[cement_merge[\"Code\"]==\"VNM\"][\"Year\"], cement_merge[cement_merge[\"Code\"]==\"VNM\"][\"Export Price\"], label=\"Vietnam\")\n",
    "ax.plot(cement_merge[cement_merge[\"Code\"]==\"JPN\"][\"Year\"], cement_merge[cement_merge[\"Code\"]==\"JPN\"][\"Export Price\"], label=\"Japan\")\n",
    "ax.plot(cement_merge[cement_merge[\"Code\"]==\"IRN\"][\"Year\"], cement_merge[cement_merge[\"Code\"]==\"IRN\"][\"Export Price\"], label=\"Iran\")\n",
    "\n",
    "\n",
    "# Config graphic\n",
    "plt.rc(\"figure\", autolayout=True, figsize=(20, 4))\n",
    "plt.title(\"Cement Export Price from 2007 to 2015\")\n",
    "plt.xlabel(\"Year\")\n",
    "plt.ylabel(\"USD per ton\")\n",
    "plt.xticks(rotation=45)\n",
    "ax.legend(loc='center left', bbox_to_anchor=(1, 0.5))\n",
    "\n",
    "# Display graphic\n",
    "plt.show()"
   ]
  },
  {
   "cell_type": "markdown",
   "id": "e42f9a66",
   "metadata": {},
   "source": [
    "## Statistical Analysis"
   ]
  },
  {
   "cell_type": "code",
   "execution_count": 149,
   "id": "c1331e0b",
   "metadata": {},
   "outputs": [
    {
     "data": {
      "text/html": [
       "<div>\n",
       "<style scoped>\n",
       "    .dataframe tbody tr th:only-of-type {\n",
       "        vertical-align: middle;\n",
       "    }\n",
       "\n",
       "    .dataframe tbody tr th {\n",
       "        vertical-align: top;\n",
       "    }\n",
       "\n",
       "    .dataframe thead th {\n",
       "        text-align: right;\n",
       "    }\n",
       "</style>\n",
       "<table border=\"1\" class=\"dataframe\">\n",
       "  <thead>\n",
       "    <tr style=\"text-align: right;\">\n",
       "      <th>FACTOR</th>\n",
       "      <th>Year</th>\n",
       "      <th>Consumption Volume</th>\n",
       "      <th>Consumption Value</th>\n",
       "      <th>Production Volume</th>\n",
       "      <th>Production Value</th>\n",
       "      <th>Import Volume</th>\n",
       "      <th>Import Value</th>\n",
       "      <th>Export Volume</th>\n",
       "      <th>Export Value</th>\n",
       "      <th>Import Price</th>\n",
       "      <th>Export Price</th>\n",
       "      <th>Per Capita Consumption</th>\n",
       "    </tr>\n",
       "  </thead>\n",
       "  <tbody>\n",
       "    <tr>\n",
       "      <th>count</th>\n",
       "      <td>9.000000</td>\n",
       "      <td>9.000000</td>\n",
       "      <td>9.000000</td>\n",
       "      <td>9.000000</td>\n",
       "      <td>9.000000</td>\n",
       "      <td>9.000000</td>\n",
       "      <td>9.000000</td>\n",
       "      <td>9.000000</td>\n",
       "      <td>9.000000</td>\n",
       "      <td>9.000000</td>\n",
       "      <td>9.000000</td>\n",
       "      <td>9.000000</td>\n",
       "    </tr>\n",
       "    <tr>\n",
       "      <th>mean</th>\n",
       "      <td>2011.000000</td>\n",
       "      <td>1546.588889</td>\n",
       "      <td>138.933333</td>\n",
       "      <td>2544.888889</td>\n",
       "      <td>211.877778</td>\n",
       "      <td>249.600000</td>\n",
       "      <td>23.988889</td>\n",
       "      <td>1247.844444</td>\n",
       "      <td>114.811111</td>\n",
       "      <td>99.444444</td>\n",
       "      <td>93.388889</td>\n",
       "      <td>340.888889</td>\n",
       "    </tr>\n",
       "    <tr>\n",
       "      <th>std</th>\n",
       "      <td>2.738613</td>\n",
       "      <td>1245.610124</td>\n",
       "      <td>86.375865</td>\n",
       "      <td>906.482687</td>\n",
       "      <td>53.235227</td>\n",
       "      <td>263.742957</td>\n",
       "      <td>23.934726</td>\n",
       "      <td>302.733658</td>\n",
       "      <td>18.922833</td>\n",
       "      <td>12.868383</td>\n",
       "      <td>7.793017</td>\n",
       "      <td>282.572333</td>\n",
       "    </tr>\n",
       "    <tr>\n",
       "      <th>min</th>\n",
       "      <td>2007.000000</td>\n",
       "      <td>48.400000</td>\n",
       "      <td>7.700000</td>\n",
       "      <td>1198.000000</td>\n",
       "      <td>146.700000</td>\n",
       "      <td>89.800000</td>\n",
       "      <td>7.000000</td>\n",
       "      <td>944.600000</td>\n",
       "      <td>94.000000</td>\n",
       "      <td>78.100000</td>\n",
       "      <td>75.600000</td>\n",
       "      <td>10.400000</td>\n",
       "    </tr>\n",
       "    <tr>\n",
       "      <th>25%</th>\n",
       "      <td>2009.000000</td>\n",
       "      <td>667.000000</td>\n",
       "      <td>83.400000</td>\n",
       "      <td>2000.000000</td>\n",
       "      <td>175.100000</td>\n",
       "      <td>92.300000</td>\n",
       "      <td>10.000000</td>\n",
       "      <td>1056.000000</td>\n",
       "      <td>104.700000</td>\n",
       "      <td>88.900000</td>\n",
       "      <td>89.600000</td>\n",
       "      <td>141.900000</td>\n",
       "    </tr>\n",
       "    <tr>\n",
       "      <th>50%</th>\n",
       "      <td>2011.000000</td>\n",
       "      <td>1263.000000</td>\n",
       "      <td>137.100000</td>\n",
       "      <td>2500.000000</td>\n",
       "      <td>209.000000</td>\n",
       "      <td>106.700000</td>\n",
       "      <td>10.900000</td>\n",
       "      <td>1146.000000</td>\n",
       "      <td>110.600000</td>\n",
       "      <td>99.900000</td>\n",
       "      <td>96.500000</td>\n",
       "      <td>270.800000</td>\n",
       "    </tr>\n",
       "    <tr>\n",
       "      <th>75%</th>\n",
       "      <td>2013.000000</td>\n",
       "      <td>1748.000000</td>\n",
       "      <td>160.800000</td>\n",
       "      <td>2600.000000</td>\n",
       "      <td>234.900000</td>\n",
       "      <td>204.100000</td>\n",
       "      <td>23.000000</td>\n",
       "      <td>1240.000000</td>\n",
       "      <td>112.000000</td>\n",
       "      <td>107.800000</td>\n",
       "      <td>97.700000</td>\n",
       "      <td>382.600000</td>\n",
       "    </tr>\n",
       "    <tr>\n",
       "      <th>max</th>\n",
       "      <td>2015.000000</td>\n",
       "      <td>3563.000000</td>\n",
       "      <td>267.400000</td>\n",
       "      <td>4003.000000</td>\n",
       "      <td>323.700000</td>\n",
       "      <td>735.400000</td>\n",
       "      <td>65.500000</td>\n",
       "      <td>1923.000000</td>\n",
       "      <td>148.000000</td>\n",
       "      <td>118.500000</td>\n",
       "      <td>101.200000</td>\n",
       "      <td>810.100000</td>\n",
       "    </tr>\n",
       "  </tbody>\n",
       "</table>\n",
       "</div>"
      ],
      "text/plain": [
       "FACTOR         Year  Consumption Volume  Consumption Value  Production Volume  \\\n",
       "count      9.000000            9.000000           9.000000           9.000000   \n",
       "mean    2011.000000         1546.588889         138.933333        2544.888889   \n",
       "std        2.738613         1245.610124          86.375865         906.482687   \n",
       "min     2007.000000           48.400000           7.700000        1198.000000   \n",
       "25%     2009.000000          667.000000          83.400000        2000.000000   \n",
       "50%     2011.000000         1263.000000         137.100000        2500.000000   \n",
       "75%     2013.000000         1748.000000         160.800000        2600.000000   \n",
       "max     2015.000000         3563.000000         267.400000        4003.000000   \n",
       "\n",
       "FACTOR  Production Value  Import Volume  Import Value  Export Volume  \\\n",
       "count           9.000000       9.000000      9.000000       9.000000   \n",
       "mean          211.877778     249.600000     23.988889    1247.844444   \n",
       "std            53.235227     263.742957     23.934726     302.733658   \n",
       "min           146.700000      89.800000      7.000000     944.600000   \n",
       "25%           175.100000      92.300000     10.000000    1056.000000   \n",
       "50%           209.000000     106.700000     10.900000    1146.000000   \n",
       "75%           234.900000     204.100000     23.000000    1240.000000   \n",
       "max           323.700000     735.400000     65.500000    1923.000000   \n",
       "\n",
       "FACTOR  Export Value  Import Price  Export Price  Per Capita Consumption  \n",
       "count       9.000000      9.000000      9.000000                9.000000  \n",
       "mean      114.811111     99.444444     93.388889              340.888889  \n",
       "std        18.922833     12.868383      7.793017              282.572333  \n",
       "min        94.000000     78.100000     75.600000               10.400000  \n",
       "25%       104.700000     88.900000     89.600000              141.900000  \n",
       "50%       110.600000     99.900000     96.500000              270.800000  \n",
       "75%       112.000000    107.800000     97.700000              382.600000  \n",
       "max       148.000000    118.500000    101.200000              810.100000  "
      ]
     },
     "execution_count": 149,
     "metadata": {},
     "output_type": "execute_result"
    }
   ],
   "source": [
    "ireland_cement.describe()"
   ]
  },
  {
   "cell_type": "code",
   "execution_count": 151,
   "id": "157ee316",
   "metadata": {},
   "outputs": [
    {
     "data": {
      "text/html": [
       "<div>\n",
       "<style scoped>\n",
       "    .dataframe tbody tr th:only-of-type {\n",
       "        vertical-align: middle;\n",
       "    }\n",
       "\n",
       "    .dataframe tbody tr th {\n",
       "        vertical-align: top;\n",
       "    }\n",
       "\n",
       "    .dataframe thead th {\n",
       "        text-align: right;\n",
       "    }\n",
       "</style>\n",
       "<table border=\"1\" class=\"dataframe\">\n",
       "  <thead>\n",
       "    <tr style=\"text-align: right;\">\n",
       "      <th>FACTOR</th>\n",
       "      <th>Year</th>\n",
       "      <th>Consumption Volume</th>\n",
       "      <th>Consumption Value</th>\n",
       "      <th>Production Volume</th>\n",
       "      <th>Production Value</th>\n",
       "      <th>Import Volume</th>\n",
       "      <th>Import Value</th>\n",
       "      <th>Export Volume</th>\n",
       "      <th>Export Value</th>\n",
       "      <th>Import Price</th>\n",
       "      <th>Export Price</th>\n",
       "      <th>Per Capita Consumption</th>\n",
       "    </tr>\n",
       "  </thead>\n",
       "  <tbody>\n",
       "    <tr>\n",
       "      <th>count</th>\n",
       "      <td>9.000000</td>\n",
       "      <td>9.000000</td>\n",
       "      <td>9.000000</td>\n",
       "      <td>9.000000</td>\n",
       "      <td>9.000000</td>\n",
       "      <td>9.000000</td>\n",
       "      <td>9.000000</td>\n",
       "      <td>9.000000</td>\n",
       "      <td>9.000000</td>\n",
       "      <td>9.000000</td>\n",
       "      <td>9.000000</td>\n",
       "      <td>9.000000</td>\n",
       "    </tr>\n",
       "    <tr>\n",
       "      <th>mean</th>\n",
       "      <td>2011.000000</td>\n",
       "      <td>86637.444444</td>\n",
       "      <td>7527.000000</td>\n",
       "      <td>79311.000000</td>\n",
       "      <td>6877.888889</td>\n",
       "      <td>8916.555556</td>\n",
       "      <td>771.344444</td>\n",
       "      <td>1589.977778</td>\n",
       "      <td>198.122222</td>\n",
       "      <td>88.911111</td>\n",
       "      <td>126.922222</td>\n",
       "      <td>279.200000</td>\n",
       "    </tr>\n",
       "    <tr>\n",
       "      <th>std</th>\n",
       "      <td>2.738613</td>\n",
       "      <td>16044.408349</td>\n",
       "      <td>2203.130103</td>\n",
       "      <td>11604.855008</td>\n",
       "      <td>1764.841738</td>\n",
       "      <td>5177.386578</td>\n",
       "      <td>380.648437</td>\n",
       "      <td>607.854443</td>\n",
       "      <td>62.462644</td>\n",
       "      <td>8.306540</td>\n",
       "      <td>16.140537</td>\n",
       "      <td>54.282225</td>\n",
       "    </tr>\n",
       "    <tr>\n",
       "      <th>min</th>\n",
       "      <td>2007.000000</td>\n",
       "      <td>70200.000000</td>\n",
       "      <td>5503.000000</td>\n",
       "      <td>64843.000000</td>\n",
       "      <td>5064.000000</td>\n",
       "      <td>5937.000000</td>\n",
       "      <td>519.000000</td>\n",
       "      <td>969.600000</td>\n",
       "      <td>117.500000</td>\n",
       "      <td>77.900000</td>\n",
       "      <td>92.800000</td>\n",
       "      <td>229.400000</td>\n",
       "    </tr>\n",
       "    <tr>\n",
       "      <th>25%</th>\n",
       "      <td>2009.000000</td>\n",
       "      <td>72929.000000</td>\n",
       "      <td>6020.000000</td>\n",
       "      <td>68639.000000</td>\n",
       "      <td>5568.000000</td>\n",
       "      <td>6141.000000</td>\n",
       "      <td>552.700000</td>\n",
       "      <td>1042.000000</td>\n",
       "      <td>131.400000</td>\n",
       "      <td>87.100000</td>\n",
       "      <td>121.200000</td>\n",
       "      <td>234.500000</td>\n",
       "    </tr>\n",
       "    <tr>\n",
       "      <th>50%</th>\n",
       "      <td>2011.000000</td>\n",
       "      <td>82025.000000</td>\n",
       "      <td>6901.000000</td>\n",
       "      <td>77415.000000</td>\n",
       "      <td>6506.000000</td>\n",
       "      <td>6338.000000</td>\n",
       "      <td>571.900000</td>\n",
       "      <td>1571.000000</td>\n",
       "      <td>211.300000</td>\n",
       "      <td>87.400000</td>\n",
       "      <td>128.300000</td>\n",
       "      <td>260.000000</td>\n",
       "    </tr>\n",
       "    <tr>\n",
       "      <th>75%</th>\n",
       "      <td>2013.000000</td>\n",
       "      <td>97539.000000</td>\n",
       "      <td>8547.000000</td>\n",
       "      <td>87610.000000</td>\n",
       "      <td>7800.000000</td>\n",
       "      <td>10337.000000</td>\n",
       "      <td>896.100000</td>\n",
       "      <td>1904.000000</td>\n",
       "      <td>257.700000</td>\n",
       "      <td>88.100000</td>\n",
       "      <td>135.400000</td>\n",
       "      <td>318.700000</td>\n",
       "    </tr>\n",
       "    <tr>\n",
       "      <th>max</th>\n",
       "      <td>2015.000000</td>\n",
       "      <td>117546.000000</td>\n",
       "      <td>12055.000000</td>\n",
       "      <td>96850.000000</td>\n",
       "      <td>10153.000000</td>\n",
       "      <td>21739.000000</td>\n",
       "      <td>1693.000000</td>\n",
       "      <td>2847.000000</td>\n",
       "      <td>264.200000</td>\n",
       "      <td>109.300000</td>\n",
       "      <td>152.900000</td>\n",
       "      <td>391.000000</td>\n",
       "    </tr>\n",
       "  </tbody>\n",
       "</table>\n",
       "</div>"
      ],
      "text/plain": [
       "FACTOR         Year  Consumption Volume  Consumption Value  Production Volume  \\\n",
       "count      9.000000            9.000000           9.000000           9.000000   \n",
       "mean    2011.000000        86637.444444        7527.000000       79311.000000   \n",
       "std        2.738613        16044.408349        2203.130103       11604.855008   \n",
       "min     2007.000000        70200.000000        5503.000000       64843.000000   \n",
       "25%     2009.000000        72929.000000        6020.000000       68639.000000   \n",
       "50%     2011.000000        82025.000000        6901.000000       77415.000000   \n",
       "75%     2013.000000        97539.000000        8547.000000       87610.000000   \n",
       "max     2015.000000       117546.000000       12055.000000       96850.000000   \n",
       "\n",
       "FACTOR  Production Value  Import Volume  Import Value  Export Volume  \\\n",
       "count           9.000000       9.000000      9.000000       9.000000   \n",
       "mean         6877.888889    8916.555556    771.344444    1589.977778   \n",
       "std          1764.841738    5177.386578    380.648437     607.854443   \n",
       "min          5064.000000    5937.000000    519.000000     969.600000   \n",
       "25%          5568.000000    6141.000000    552.700000    1042.000000   \n",
       "50%          6506.000000    6338.000000    571.900000    1571.000000   \n",
       "75%          7800.000000   10337.000000    896.100000    1904.000000   \n",
       "max         10153.000000   21739.000000   1693.000000    2847.000000   \n",
       "\n",
       "FACTOR  Export Value  Import Price  Export Price  Per Capita Consumption  \n",
       "count       9.000000      9.000000      9.000000                9.000000  \n",
       "mean      198.122222     88.911111    126.922222              279.200000  \n",
       "std        62.462644      8.306540     16.140537               54.282225  \n",
       "min       117.500000     77.900000     92.800000              229.400000  \n",
       "25%       131.400000     87.100000    121.200000              234.500000  \n",
       "50%       211.300000     87.400000    128.300000              260.000000  \n",
       "75%       257.700000     88.100000    135.400000              318.700000  \n",
       "max       264.200000    109.300000    152.900000              391.000000  "
      ]
     },
     "execution_count": 151,
     "metadata": {},
     "output_type": "execute_result"
    }
   ],
   "source": [
    "usa_cement.describe()"
   ]
  },
  {
   "cell_type": "code",
   "execution_count": 152,
   "id": "13800447",
   "metadata": {},
   "outputs": [
    {
     "data": {
      "text/html": [
       "<div>\n",
       "<style scoped>\n",
       "    .dataframe tbody tr th:only-of-type {\n",
       "        vertical-align: middle;\n",
       "    }\n",
       "\n",
       "    .dataframe tbody tr th {\n",
       "        vertical-align: top;\n",
       "    }\n",
       "\n",
       "    .dataframe thead th {\n",
       "        text-align: right;\n",
       "    }\n",
       "</style>\n",
       "<table border=\"1\" class=\"dataframe\">\n",
       "  <thead>\n",
       "    <tr style=\"text-align: right;\">\n",
       "      <th>FACTOR</th>\n",
       "      <th>Year</th>\n",
       "      <th>Consumption Volume</th>\n",
       "      <th>Consumption Value</th>\n",
       "      <th>Production Volume</th>\n",
       "      <th>Production Value</th>\n",
       "      <th>Import Volume</th>\n",
       "      <th>Import Value</th>\n",
       "      <th>Export Volume</th>\n",
       "      <th>Export Value</th>\n",
       "      <th>Import Price</th>\n",
       "      <th>Export Price</th>\n",
       "      <th>Per Capita Consumption</th>\n",
       "    </tr>\n",
       "  </thead>\n",
       "  <tbody>\n",
       "    <tr>\n",
       "      <th>count</th>\n",
       "      <td>9.000000</td>\n",
       "      <td>9.000000</td>\n",
       "      <td>9.000000</td>\n",
       "      <td>9.000000</td>\n",
       "      <td>9.000000</td>\n",
       "      <td>9.000000</td>\n",
       "      <td>9.000000</td>\n",
       "      <td>9.000000</td>\n",
       "      <td>9.000000</td>\n",
       "      <td>9.000000</td>\n",
       "      <td>9.000000</td>\n",
       "      <td>9.000000</td>\n",
       "    </tr>\n",
       "    <tr>\n",
       "      <th>mean</th>\n",
       "      <td>2011.000000</td>\n",
       "      <td>61484.111111</td>\n",
       "      <td>6386.333333</td>\n",
       "      <td>61035.000000</td>\n",
       "      <td>6375.444444</td>\n",
       "      <td>698.388889</td>\n",
       "      <td>64.066667</td>\n",
       "      <td>249.122222</td>\n",
       "      <td>15.966667</td>\n",
       "      <td>91.044444</td>\n",
       "      <td>102.644444</td>\n",
       "      <td>308.744444</td>\n",
       "    </tr>\n",
       "    <tr>\n",
       "      <th>std</th>\n",
       "      <td>2.738613</td>\n",
       "      <td>9677.057177</td>\n",
       "      <td>1429.219892</td>\n",
       "      <td>9098.922409</td>\n",
       "      <td>1587.212345</td>\n",
       "      <td>327.972222</td>\n",
       "      <td>30.373755</td>\n",
       "      <td>416.752942</td>\n",
       "      <td>20.745602</td>\n",
       "      <td>7.463764</td>\n",
       "      <td>29.241969</td>\n",
       "      <td>42.159344</td>\n",
       "    </tr>\n",
       "    <tr>\n",
       "      <th>min</th>\n",
       "      <td>2007.000000</td>\n",
       "      <td>45592.000000</td>\n",
       "      <td>3981.000000</td>\n",
       "      <td>46551.000000</td>\n",
       "      <td>3802.000000</td>\n",
       "      <td>286.600000</td>\n",
       "      <td>20.800000</td>\n",
       "      <td>32.700000</td>\n",
       "      <td>4.200000</td>\n",
       "      <td>72.500000</td>\n",
       "      <td>50.000000</td>\n",
       "      <td>238.700000</td>\n",
       "    </tr>\n",
       "    <tr>\n",
       "      <th>25%</th>\n",
       "      <td>2009.000000</td>\n",
       "      <td>52095.000000</td>\n",
       "      <td>5397.000000</td>\n",
       "      <td>51970.000000</td>\n",
       "      <td>5086.000000</td>\n",
       "      <td>397.000000</td>\n",
       "      <td>39.400000</td>\n",
       "      <td>40.500000</td>\n",
       "      <td>4.500000</td>\n",
       "      <td>90.600000</td>\n",
       "      <td>87.800000</td>\n",
       "      <td>267.700000</td>\n",
       "    </tr>\n",
       "    <tr>\n",
       "      <th>50%</th>\n",
       "      <td>2011.000000</td>\n",
       "      <td>65145.000000</td>\n",
       "      <td>6616.000000</td>\n",
       "      <td>64093.000000</td>\n",
       "      <td>6714.000000</td>\n",
       "      <td>823.900000</td>\n",
       "      <td>77.000000</td>\n",
       "      <td>45.400000</td>\n",
       "      <td>5.400000</td>\n",
       "      <td>93.300000</td>\n",
       "      <td>112.000000</td>\n",
       "      <td>318.700000</td>\n",
       "    </tr>\n",
       "    <tr>\n",
       "      <th>75%</th>\n",
       "      <td>2013.000000</td>\n",
       "      <td>70275.000000</td>\n",
       "      <td>7647.000000</td>\n",
       "      <td>69323.000000</td>\n",
       "      <td>7690.000000</td>\n",
       "      <td>985.600000</td>\n",
       "      <td>92.100000</td>\n",
       "      <td>147.900000</td>\n",
       "      <td>13.000000</td>\n",
       "      <td>93.400000</td>\n",
       "      <td>126.500000</td>\n",
       "      <td>350.400000</td>\n",
       "    </tr>\n",
       "    <tr>\n",
       "      <th>max</th>\n",
       "      <td>2015.000000</td>\n",
       "      <td>72034.000000</td>\n",
       "      <td>7906.000000</td>\n",
       "      <td>71254.000000</td>\n",
       "      <td>8250.000000</td>\n",
       "      <td>1098.000000</td>\n",
       "      <td>99.500000</td>\n",
       "      <td>1246.000000</td>\n",
       "      <td>62.300000</td>\n",
       "      <td>99.300000</td>\n",
       "      <td>131.200000</td>\n",
       "      <td>352.700000</td>\n",
       "    </tr>\n",
       "  </tbody>\n",
       "</table>\n",
       "</div>"
      ],
      "text/plain": [
       "FACTOR         Year  Consumption Volume  Consumption Value  Production Volume  \\\n",
       "count      9.000000            9.000000           9.000000           9.000000   \n",
       "mean    2011.000000        61484.111111        6386.333333       61035.000000   \n",
       "std        2.738613         9677.057177        1429.219892        9098.922409   \n",
       "min     2007.000000        45592.000000        3981.000000       46551.000000   \n",
       "25%     2009.000000        52095.000000        5397.000000       51970.000000   \n",
       "50%     2011.000000        65145.000000        6616.000000       64093.000000   \n",
       "75%     2013.000000        70275.000000        7647.000000       69323.000000   \n",
       "max     2015.000000        72034.000000        7906.000000       71254.000000   \n",
       "\n",
       "FACTOR  Production Value  Import Volume  Import Value  Export Volume  \\\n",
       "count           9.000000       9.000000      9.000000       9.000000   \n",
       "mean         6375.444444     698.388889     64.066667     249.122222   \n",
       "std          1587.212345     327.972222     30.373755     416.752942   \n",
       "min          3802.000000     286.600000     20.800000      32.700000   \n",
       "25%          5086.000000     397.000000     39.400000      40.500000   \n",
       "50%          6714.000000     823.900000     77.000000      45.400000   \n",
       "75%          7690.000000     985.600000     92.100000     147.900000   \n",
       "max          8250.000000    1098.000000     99.500000    1246.000000   \n",
       "\n",
       "FACTOR  Export Value  Import Price  Export Price  Per Capita Consumption  \n",
       "count       9.000000      9.000000      9.000000                9.000000  \n",
       "mean       15.966667     91.044444    102.644444              308.744444  \n",
       "std        20.745602      7.463764     29.241969               42.159344  \n",
       "min         4.200000     72.500000     50.000000              238.700000  \n",
       "25%         4.500000     90.600000     87.800000              267.700000  \n",
       "50%         5.400000     93.300000    112.000000              318.700000  \n",
       "75%        13.000000     93.400000    126.500000              350.400000  \n",
       "max        62.300000     99.300000    131.200000              352.700000  "
      ]
     },
     "execution_count": 152,
     "metadata": {},
     "output_type": "execute_result"
    }
   ],
   "source": [
    "brazil_cement.describe()"
   ]
  },
  {
   "cell_type": "code",
   "execution_count": 153,
   "id": "26020cc7",
   "metadata": {},
   "outputs": [
    {
     "data": {
      "text/html": [
       "<div>\n",
       "<style scoped>\n",
       "    .dataframe tbody tr th:only-of-type {\n",
       "        vertical-align: middle;\n",
       "    }\n",
       "\n",
       "    .dataframe tbody tr th {\n",
       "        vertical-align: top;\n",
       "    }\n",
       "\n",
       "    .dataframe thead th {\n",
       "        text-align: right;\n",
       "    }\n",
       "</style>\n",
       "<table border=\"1\" class=\"dataframe\">\n",
       "  <thead>\n",
       "    <tr style=\"text-align: right;\">\n",
       "      <th>FACTOR</th>\n",
       "      <th>Year</th>\n",
       "      <th>Consumption Volume</th>\n",
       "      <th>Consumption Value</th>\n",
       "      <th>Production Volume</th>\n",
       "      <th>Production Value</th>\n",
       "      <th>Import Volume</th>\n",
       "      <th>Import Value</th>\n",
       "      <th>Export Volume</th>\n",
       "      <th>Export Value</th>\n",
       "      <th>Import Price</th>\n",
       "      <th>Export Price</th>\n",
       "      <th>Per Capita Consumption</th>\n",
       "    </tr>\n",
       "  </thead>\n",
       "  <tbody>\n",
       "    <tr>\n",
       "      <th>count</th>\n",
       "      <td>9.000000</td>\n",
       "      <td>9.000000e+00</td>\n",
       "      <td>9.000000</td>\n",
       "      <td>9.000000e+00</td>\n",
       "      <td>9.000000</td>\n",
       "      <td>9.000000</td>\n",
       "      <td>9.000000</td>\n",
       "      <td>9.000000</td>\n",
       "      <td>9.000000</td>\n",
       "      <td>9.000000</td>\n",
       "      <td>9.000000</td>\n",
       "      <td>9.000000</td>\n",
       "    </tr>\n",
       "    <tr>\n",
       "      <th>mean</th>\n",
       "      <td>2011.000000</td>\n",
       "      <td>1.973995e+06</td>\n",
       "      <td>110051.222222</td>\n",
       "      <td>1.984019e+06</td>\n",
       "      <td>109410.333333</td>\n",
       "      <td>542.433333</td>\n",
       "      <td>29.977778</td>\n",
       "      <td>10566.333333</td>\n",
       "      <td>558.411111</td>\n",
       "      <td>68.100000</td>\n",
       "      <td>53.877778</td>\n",
       "      <td>1408.111111</td>\n",
       "    </tr>\n",
       "    <tr>\n",
       "      <th>std</th>\n",
       "      <td>2.738613</td>\n",
       "      <td>4.343614e+05</td>\n",
       "      <td>32978.175127</td>\n",
       "      <td>4.331149e+05</td>\n",
       "      <td>35286.962646</td>\n",
       "      <td>254.244184</td>\n",
       "      <td>9.396512</td>\n",
       "      <td>2248.421502</td>\n",
       "      <td>69.681928</td>\n",
       "      <td>38.132434</td>\n",
       "      <td>7.229415</td>\n",
       "      <td>291.471458</td>\n",
       "    </tr>\n",
       "    <tr>\n",
       "      <th>min</th>\n",
       "      <td>2007.000000</td>\n",
       "      <td>1.346507e+06</td>\n",
       "      <td>58994.000000</td>\n",
       "      <td>1.361170e+06</td>\n",
       "      <td>54201.000000</td>\n",
       "      <td>103.600000</td>\n",
       "      <td>16.800000</td>\n",
       "      <td>8487.000000</td>\n",
       "      <td>425.600000</td>\n",
       "      <td>42.100000</td>\n",
       "      <td>39.800000</td>\n",
       "      <td>985.000000</td>\n",
       "    </tr>\n",
       "    <tr>\n",
       "      <th>25%</th>\n",
       "      <td>2009.000000</td>\n",
       "      <td>1.636216e+06</td>\n",
       "      <td>84842.000000</td>\n",
       "      <td>1.644000e+06</td>\n",
       "      <td>82445.000000</td>\n",
       "      <td>411.200000</td>\n",
       "      <td>22.400000</td>\n",
       "      <td>9202.000000</td>\n",
       "      <td>529.600000</td>\n",
       "      <td>47.500000</td>\n",
       "      <td>50.100000</td>\n",
       "      <td>1183.000000</td>\n",
       "    </tr>\n",
       "    <tr>\n",
       "      <th>50%</th>\n",
       "      <td>2011.000000</td>\n",
       "      <td>2.091058e+06</td>\n",
       "      <td>124781.000000</td>\n",
       "      <td>2.099000e+06</td>\n",
       "      <td>126356.000000</td>\n",
       "      <td>565.300000</td>\n",
       "      <td>27.100000</td>\n",
       "      <td>9827.000000</td>\n",
       "      <td>561.300000</td>\n",
       "      <td>52.900000</td>\n",
       "      <td>58.000000</td>\n",
       "      <td>1495.000000</td>\n",
       "    </tr>\n",
       "    <tr>\n",
       "      <th>75%</th>\n",
       "      <td>2013.000000</td>\n",
       "      <td>2.349902e+06</td>\n",
       "      <td>136241.000000</td>\n",
       "      <td>2.359000e+06</td>\n",
       "      <td>136866.000000</td>\n",
       "      <td>702.700000</td>\n",
       "      <td>37.700000</td>\n",
       "      <td>10942.000000</td>\n",
       "      <td>606.900000</td>\n",
       "      <td>65.300000</td>\n",
       "      <td>59.700000</td>\n",
       "      <td>1645.000000</td>\n",
       "    </tr>\n",
       "    <tr>\n",
       "      <th>max</th>\n",
       "      <td>2015.000000</td>\n",
       "      <td>2.482064e+06</td>\n",
       "      <td>147064.000000</td>\n",
       "      <td>2.492000e+06</td>\n",
       "      <td>148660.000000</td>\n",
       "      <td>855.600000</td>\n",
       "      <td>45.300000</td>\n",
       "      <td>15195.000000</td>\n",
       "      <td>636.700000</td>\n",
       "      <td>162.300000</td>\n",
       "      <td>60.700000</td>\n",
       "      <td>1746.000000</td>\n",
       "    </tr>\n",
       "  </tbody>\n",
       "</table>\n",
       "</div>"
      ],
      "text/plain": [
       "FACTOR         Year  Consumption Volume  Consumption Value  Production Volume  \\\n",
       "count      9.000000        9.000000e+00           9.000000       9.000000e+00   \n",
       "mean    2011.000000        1.973995e+06      110051.222222       1.984019e+06   \n",
       "std        2.738613        4.343614e+05       32978.175127       4.331149e+05   \n",
       "min     2007.000000        1.346507e+06       58994.000000       1.361170e+06   \n",
       "25%     2009.000000        1.636216e+06       84842.000000       1.644000e+06   \n",
       "50%     2011.000000        2.091058e+06      124781.000000       2.099000e+06   \n",
       "75%     2013.000000        2.349902e+06      136241.000000       2.359000e+06   \n",
       "max     2015.000000        2.482064e+06      147064.000000       2.492000e+06   \n",
       "\n",
       "FACTOR  Production Value  Import Volume  Import Value  Export Volume  \\\n",
       "count           9.000000       9.000000      9.000000       9.000000   \n",
       "mean       109410.333333     542.433333     29.977778   10566.333333   \n",
       "std         35286.962646     254.244184      9.396512    2248.421502   \n",
       "min         54201.000000     103.600000     16.800000    8487.000000   \n",
       "25%         82445.000000     411.200000     22.400000    9202.000000   \n",
       "50%        126356.000000     565.300000     27.100000    9827.000000   \n",
       "75%        136866.000000     702.700000     37.700000   10942.000000   \n",
       "max        148660.000000     855.600000     45.300000   15195.000000   \n",
       "\n",
       "FACTOR  Export Value  Import Price  Export Price  Per Capita Consumption  \n",
       "count       9.000000      9.000000      9.000000                9.000000  \n",
       "mean      558.411111     68.100000     53.877778             1408.111111  \n",
       "std        69.681928     38.132434      7.229415              291.471458  \n",
       "min       425.600000     42.100000     39.800000              985.000000  \n",
       "25%       529.600000     47.500000     50.100000             1183.000000  \n",
       "50%       561.300000     52.900000     58.000000             1495.000000  \n",
       "75%       606.900000     65.300000     59.700000             1645.000000  \n",
       "max       636.700000    162.300000     60.700000             1746.000000  "
      ]
     },
     "execution_count": 153,
     "metadata": {},
     "output_type": "execute_result"
    }
   ],
   "source": [
    "china_cement.describe()"
   ]
  },
  {
   "cell_type": "code",
   "execution_count": 154,
   "id": "dc4564ae",
   "metadata": {},
   "outputs": [
    {
     "data": {
      "text/html": [
       "<div>\n",
       "<style scoped>\n",
       "    .dataframe tbody tr th:only-of-type {\n",
       "        vertical-align: middle;\n",
       "    }\n",
       "\n",
       "    .dataframe tbody tr th {\n",
       "        vertical-align: top;\n",
       "    }\n",
       "\n",
       "    .dataframe thead th {\n",
       "        text-align: right;\n",
       "    }\n",
       "</style>\n",
       "<table border=\"1\" class=\"dataframe\">\n",
       "  <thead>\n",
       "    <tr style=\"text-align: right;\">\n",
       "      <th>FACTOR</th>\n",
       "      <th>Year</th>\n",
       "      <th>Consumption Volume</th>\n",
       "      <th>Consumption Value</th>\n",
       "      <th>Production Volume</th>\n",
       "      <th>Production Value</th>\n",
       "      <th>Import Volume</th>\n",
       "      <th>Import Value</th>\n",
       "      <th>Export Volume</th>\n",
       "      <th>Export Value</th>\n",
       "      <th>Import Price</th>\n",
       "      <th>Export Price</th>\n",
       "      <th>Per Capita Consumption</th>\n",
       "    </tr>\n",
       "  </thead>\n",
       "  <tbody>\n",
       "    <tr>\n",
       "      <th>count</th>\n",
       "      <td>9.000000</td>\n",
       "      <td>9.000000</td>\n",
       "      <td>9.000000</td>\n",
       "      <td>9.000000</td>\n",
       "      <td>9.000000</td>\n",
       "      <td>9.000000</td>\n",
       "      <td>9.000000</td>\n",
       "      <td>9.000000</td>\n",
       "      <td>9.000000</td>\n",
       "      <td>9.000000</td>\n",
       "      <td>9.000000</td>\n",
       "      <td>9.000000</td>\n",
       "    </tr>\n",
       "    <tr>\n",
       "      <th>mean</th>\n",
       "      <td>2011.000000</td>\n",
       "      <td>26568.111111</td>\n",
       "      <td>2219.666667</td>\n",
       "      <td>31897.333333</td>\n",
       "      <td>2662.777778</td>\n",
       "      <td>1183.333333</td>\n",
       "      <td>179.422222</td>\n",
       "      <td>6513.000000</td>\n",
       "      <td>614.866667</td>\n",
       "      <td>152.111111</td>\n",
       "      <td>94.288889</td>\n",
       "      <td>327.177778</td>\n",
       "    </tr>\n",
       "    <tr>\n",
       "      <th>std</th>\n",
       "      <td>2.738613</td>\n",
       "      <td>1092.306441</td>\n",
       "      <td>144.774825</td>\n",
       "      <td>1282.968628</td>\n",
       "      <td>184.979578</td>\n",
       "      <td>129.574303</td>\n",
       "      <td>17.406448</td>\n",
       "      <td>502.419645</td>\n",
       "      <td>77.422494</td>\n",
       "      <td>10.512783</td>\n",
       "      <td>7.500241</td>\n",
       "      <td>13.032822</td>\n",
       "    </tr>\n",
       "    <tr>\n",
       "      <th>min</th>\n",
       "      <td>2007.000000</td>\n",
       "      <td>24756.000000</td>\n",
       "      <td>1980.000000</td>\n",
       "      <td>29894.000000</td>\n",
       "      <td>2322.000000</td>\n",
       "      <td>1025.000000</td>\n",
       "      <td>159.600000</td>\n",
       "      <td>5747.000000</td>\n",
       "      <td>498.000000</td>\n",
       "      <td>135.400000</td>\n",
       "      <td>79.500000</td>\n",
       "      <td>306.000000</td>\n",
       "    </tr>\n",
       "    <tr>\n",
       "      <th>25%</th>\n",
       "      <td>2009.000000</td>\n",
       "      <td>26207.000000</td>\n",
       "      <td>2188.000000</td>\n",
       "      <td>31160.000000</td>\n",
       "      <td>2644.000000</td>\n",
       "      <td>1064.000000</td>\n",
       "      <td>166.200000</td>\n",
       "      <td>6184.000000</td>\n",
       "      <td>570.000000</td>\n",
       "      <td>141.800000</td>\n",
       "      <td>92.200000</td>\n",
       "      <td>320.700000</td>\n",
       "    </tr>\n",
       "    <tr>\n",
       "      <th>50%</th>\n",
       "      <td>2011.000000</td>\n",
       "      <td>26766.000000</td>\n",
       "      <td>2198.000000</td>\n",
       "      <td>32099.000000</td>\n",
       "      <td>2665.000000</td>\n",
       "      <td>1144.000000</td>\n",
       "      <td>177.200000</td>\n",
       "      <td>6541.000000</td>\n",
       "      <td>599.700000</td>\n",
       "      <td>155.700000</td>\n",
       "      <td>97.100000</td>\n",
       "      <td>330.700000</td>\n",
       "    </tr>\n",
       "    <tr>\n",
       "      <th>75%</th>\n",
       "      <td>2013.000000</td>\n",
       "      <td>27452.000000</td>\n",
       "      <td>2295.000000</td>\n",
       "      <td>32779.000000</td>\n",
       "      <td>2709.000000</td>\n",
       "      <td>1308.000000</td>\n",
       "      <td>184.300000</td>\n",
       "      <td>6961.000000</td>\n",
       "      <td>643.700000</td>\n",
       "      <td>158.800000</td>\n",
       "      <td>98.300000</td>\n",
       "      <td>338.400000</td>\n",
       "    </tr>\n",
       "    <tr>\n",
       "      <th>max</th>\n",
       "      <td>2015.000000</td>\n",
       "      <td>27677.000000</td>\n",
       "      <td>2420.000000</td>\n",
       "      <td>33581.000000</td>\n",
       "      <td>2975.000000</td>\n",
       "      <td>1344.000000</td>\n",
       "      <td>208.800000</td>\n",
       "      <td>7193.000000</td>\n",
       "      <td>750.100000</td>\n",
       "      <td>164.900000</td>\n",
       "      <td>104.300000</td>\n",
       "      <td>339.600000</td>\n",
       "    </tr>\n",
       "  </tbody>\n",
       "</table>\n",
       "</div>"
      ],
      "text/plain": [
       "FACTOR         Year  Consumption Volume  Consumption Value  Production Volume  \\\n",
       "count      9.000000            9.000000           9.000000           9.000000   \n",
       "mean    2011.000000        26568.111111        2219.666667       31897.333333   \n",
       "std        2.738613         1092.306441         144.774825        1282.968628   \n",
       "min     2007.000000        24756.000000        1980.000000       29894.000000   \n",
       "25%     2009.000000        26207.000000        2188.000000       31160.000000   \n",
       "50%     2011.000000        26766.000000        2198.000000       32099.000000   \n",
       "75%     2013.000000        27452.000000        2295.000000       32779.000000   \n",
       "max     2015.000000        27677.000000        2420.000000       33581.000000   \n",
       "\n",
       "FACTOR  Production Value  Import Volume  Import Value  Export Volume  \\\n",
       "count           9.000000       9.000000      9.000000       9.000000   \n",
       "mean         2662.777778    1183.333333    179.422222    6513.000000   \n",
       "std           184.979578     129.574303     17.406448     502.419645   \n",
       "min          2322.000000    1025.000000    159.600000    5747.000000   \n",
       "25%          2644.000000    1064.000000    166.200000    6184.000000   \n",
       "50%          2665.000000    1144.000000    177.200000    6541.000000   \n",
       "75%          2709.000000    1308.000000    184.300000    6961.000000   \n",
       "max          2975.000000    1344.000000    208.800000    7193.000000   \n",
       "\n",
       "FACTOR  Export Value  Import Price  Export Price  Per Capita Consumption  \n",
       "count       9.000000      9.000000      9.000000                9.000000  \n",
       "mean      614.866667    152.111111     94.288889              327.177778  \n",
       "std        77.422494     10.512783      7.500241               13.032822  \n",
       "min       498.000000    135.400000     79.500000              306.000000  \n",
       "25%       570.000000    141.800000     92.200000              320.700000  \n",
       "50%       599.700000    155.700000     97.100000              330.700000  \n",
       "75%       643.700000    158.800000     98.300000              338.400000  \n",
       "max       750.100000    164.900000    104.300000              339.600000  "
      ]
     },
     "execution_count": 154,
     "metadata": {},
     "output_type": "execute_result"
    }
   ],
   "source": [
    "germany_cement.describe()"
   ]
  },
  {
   "cell_type": "code",
   "execution_count": 155,
   "id": "a03ea1b4",
   "metadata": {},
   "outputs": [
    {
     "data": {
      "text/html": [
       "<div>\n",
       "<style scoped>\n",
       "    .dataframe tbody tr th:only-of-type {\n",
       "        vertical-align: middle;\n",
       "    }\n",
       "\n",
       "    .dataframe tbody tr th {\n",
       "        vertical-align: top;\n",
       "    }\n",
       "\n",
       "    .dataframe thead th {\n",
       "        text-align: right;\n",
       "    }\n",
       "</style>\n",
       "<table border=\"1\" class=\"dataframe\">\n",
       "  <thead>\n",
       "    <tr style=\"text-align: right;\">\n",
       "      <th>FACTOR</th>\n",
       "      <th>Year</th>\n",
       "      <th>Consumption Volume</th>\n",
       "      <th>Consumption Value</th>\n",
       "      <th>Production Volume</th>\n",
       "      <th>Production Value</th>\n",
       "      <th>Import Volume</th>\n",
       "      <th>Import Value</th>\n",
       "      <th>Export Volume</th>\n",
       "      <th>Export Value</th>\n",
       "      <th>Import Price</th>\n",
       "      <th>Export Price</th>\n",
       "      <th>Per Capita Consumption</th>\n",
       "    </tr>\n",
       "  </thead>\n",
       "  <tbody>\n",
       "    <tr>\n",
       "      <th>count</th>\n",
       "      <td>9.000000</td>\n",
       "      <td>9.000000</td>\n",
       "      <td>9.000000</td>\n",
       "      <td>9.000000</td>\n",
       "      <td>9.000000</td>\n",
       "      <td>9.000000</td>\n",
       "      <td>9.000000</td>\n",
       "      <td>9.000000</td>\n",
       "      <td>9.000000</td>\n",
       "      <td>9.000000</td>\n",
       "      <td>9.000000</td>\n",
       "      <td>9.000000</td>\n",
       "    </tr>\n",
       "    <tr>\n",
       "      <th>mean</th>\n",
       "      <td>2011.000000</td>\n",
       "      <td>60108.000000</td>\n",
       "      <td>5371.333333</td>\n",
       "      <td>58197.777778</td>\n",
       "      <td>5492.111111</td>\n",
       "      <td>3175.111111</td>\n",
       "      <td>266.066667</td>\n",
       "      <td>1264.788889</td>\n",
       "      <td>114.711111</td>\n",
       "      <td>82.522222</td>\n",
       "      <td>94.666667</td>\n",
       "      <td>419.144444</td>\n",
       "    </tr>\n",
       "    <tr>\n",
       "      <th>std</th>\n",
       "      <td>2.738613</td>\n",
       "      <td>8624.178207</td>\n",
       "      <td>1209.553947</td>\n",
       "      <td>7911.736705</td>\n",
       "      <td>1476.084808</td>\n",
       "      <td>1643.083796</td>\n",
       "      <td>159.460042</td>\n",
       "      <td>583.017929</td>\n",
       "      <td>53.837869</td>\n",
       "      <td>13.015354</td>\n",
       "      <td>23.795063</td>\n",
       "      <td>59.513740</td>\n",
       "    </tr>\n",
       "    <tr>\n",
       "      <th>min</th>\n",
       "      <td>2007.000000</td>\n",
       "      <td>44046.000000</td>\n",
       "      <td>3703.000000</td>\n",
       "      <td>44266.000000</td>\n",
       "      <td>3286.000000</td>\n",
       "      <td>1124.000000</td>\n",
       "      <td>88.600000</td>\n",
       "      <td>386.900000</td>\n",
       "      <td>36.400000</td>\n",
       "      <td>58.700000</td>\n",
       "      <td>52.900000</td>\n",
       "      <td>307.800000</td>\n",
       "    </tr>\n",
       "    <tr>\n",
       "      <th>25%</th>\n",
       "      <td>2009.000000</td>\n",
       "      <td>58164.000000</td>\n",
       "      <td>4133.000000</td>\n",
       "      <td>53548.000000</td>\n",
       "      <td>4142.000000</td>\n",
       "      <td>2066.000000</td>\n",
       "      <td>169.200000</td>\n",
       "      <td>700.200000</td>\n",
       "      <td>68.100000</td>\n",
       "      <td>77.800000</td>\n",
       "      <td>83.100000</td>\n",
       "      <td>406.000000</td>\n",
       "    </tr>\n",
       "    <tr>\n",
       "      <th>50%</th>\n",
       "      <td>2011.000000</td>\n",
       "      <td>60349.000000</td>\n",
       "      <td>5694.000000</td>\n",
       "      <td>59939.000000</td>\n",
       "      <td>5748.000000</td>\n",
       "      <td>2883.000000</td>\n",
       "      <td>212.500000</td>\n",
       "      <td>1464.000000</td>\n",
       "      <td>116.300000</td>\n",
       "      <td>80.100000</td>\n",
       "      <td>94.000000</td>\n",
       "      <td>421.600000</td>\n",
       "    </tr>\n",
       "    <tr>\n",
       "      <th>75%</th>\n",
       "      <td>2013.000000</td>\n",
       "      <td>64461.000000</td>\n",
       "      <td>6155.000000</td>\n",
       "      <td>62103.000000</td>\n",
       "      <td>6434.000000</td>\n",
       "      <td>4338.000000</td>\n",
       "      <td>347.300000</td>\n",
       "      <td>1723.000000</td>\n",
       "      <td>155.300000</td>\n",
       "      <td>88.600000</td>\n",
       "      <td>104.300000</td>\n",
       "      <td>449.500000</td>\n",
       "    </tr>\n",
       "    <tr>\n",
       "      <th>max</th>\n",
       "      <td>2015.000000</td>\n",
       "      <td>71772.000000</td>\n",
       "      <td>7027.000000</td>\n",
       "      <td>69139.000000</td>\n",
       "      <td>7563.000000</td>\n",
       "      <td>5862.000000</td>\n",
       "      <td>593.100000</td>\n",
       "      <td>1868.000000</td>\n",
       "      <td>185.000000</td>\n",
       "      <td>101.200000</td>\n",
       "      <td>141.200000</td>\n",
       "      <td>499.200000</td>\n",
       "    </tr>\n",
       "  </tbody>\n",
       "</table>\n",
       "</div>"
      ],
      "text/plain": [
       "FACTOR         Year  Consumption Volume  Consumption Value  Production Volume  \\\n",
       "count      9.000000            9.000000           9.000000           9.000000   \n",
       "mean    2011.000000        60108.000000        5371.333333       58197.777778   \n",
       "std        2.738613         8624.178207        1209.553947        7911.736705   \n",
       "min     2007.000000        44046.000000        3703.000000       44266.000000   \n",
       "25%     2009.000000        58164.000000        4133.000000       53548.000000   \n",
       "50%     2011.000000        60349.000000        5694.000000       59939.000000   \n",
       "75%     2013.000000        64461.000000        6155.000000       62103.000000   \n",
       "max     2015.000000        71772.000000        7027.000000       69139.000000   \n",
       "\n",
       "FACTOR  Production Value  Import Volume  Import Value  Export Volume  \\\n",
       "count           9.000000       9.000000      9.000000       9.000000   \n",
       "mean         5492.111111    3175.111111    266.066667    1264.788889   \n",
       "std          1476.084808    1643.083796    159.460042     583.017929   \n",
       "min          3286.000000    1124.000000     88.600000     386.900000   \n",
       "25%          4142.000000    2066.000000    169.200000     700.200000   \n",
       "50%          5748.000000    2883.000000    212.500000    1464.000000   \n",
       "75%          6434.000000    4338.000000    347.300000    1723.000000   \n",
       "max          7563.000000    5862.000000    593.100000    1868.000000   \n",
       "\n",
       "FACTOR  Export Value  Import Price  Export Price  Per Capita Consumption  \n",
       "count       9.000000      9.000000      9.000000                9.000000  \n",
       "mean      114.711111     82.522222     94.666667              419.144444  \n",
       "std        53.837869     13.015354     23.795063               59.513740  \n",
       "min        36.400000     58.700000     52.900000              307.800000  \n",
       "25%        68.100000     77.800000     83.100000              406.000000  \n",
       "50%       116.300000     80.100000     94.000000              421.600000  \n",
       "75%       155.300000     88.600000    104.300000              449.500000  \n",
       "max       185.000000    101.200000    141.200000              499.200000  "
      ]
     },
     "execution_count": 155,
     "metadata": {},
     "output_type": "execute_result"
    }
   ],
   "source": [
    "russia_cement.describe()"
   ]
  },
  {
   "cell_type": "code",
   "execution_count": 156,
   "id": "f47407fe",
   "metadata": {},
   "outputs": [
    {
     "data": {
      "text/html": [
       "<div>\n",
       "<style scoped>\n",
       "    .dataframe tbody tr th:only-of-type {\n",
       "        vertical-align: middle;\n",
       "    }\n",
       "\n",
       "    .dataframe tbody tr th {\n",
       "        vertical-align: top;\n",
       "    }\n",
       "\n",
       "    .dataframe thead th {\n",
       "        text-align: right;\n",
       "    }\n",
       "</style>\n",
       "<table border=\"1\" class=\"dataframe\">\n",
       "  <thead>\n",
       "    <tr style=\"text-align: right;\">\n",
       "      <th>FACTOR</th>\n",
       "      <th>Year</th>\n",
       "      <th>Consumption Volume</th>\n",
       "      <th>Consumption Value</th>\n",
       "      <th>Production Volume</th>\n",
       "      <th>Production Value</th>\n",
       "      <th>Import Volume</th>\n",
       "      <th>Import Value</th>\n",
       "      <th>Export Volume</th>\n",
       "      <th>Export Value</th>\n",
       "      <th>Import Price</th>\n",
       "      <th>Export Price</th>\n",
       "      <th>Per Capita Consumption</th>\n",
       "    </tr>\n",
       "  </thead>\n",
       "  <tbody>\n",
       "    <tr>\n",
       "      <th>count</th>\n",
       "      <td>9.000000</td>\n",
       "      <td>9.000000</td>\n",
       "      <td>9.000000</td>\n",
       "      <td>9.000000</td>\n",
       "      <td>9.000000</td>\n",
       "      <td>9.000000</td>\n",
       "      <td>9.000000</td>\n",
       "      <td>9.000000</td>\n",
       "      <td>9.000000</td>\n",
       "      <td>9.000000</td>\n",
       "      <td>9.000000</td>\n",
       "      <td>9.000000</td>\n",
       "    </tr>\n",
       "    <tr>\n",
       "      <th>mean</th>\n",
       "      <td>2011.000000</td>\n",
       "      <td>9377.444444</td>\n",
       "      <td>3003.000000</td>\n",
       "      <td>8933.333333</td>\n",
       "      <td>2962.222222</td>\n",
       "      <td>461.766667</td>\n",
       "      <td>46.966667</td>\n",
       "      <td>24.922222</td>\n",
       "      <td>5.866667</td>\n",
       "      <td>103.433333</td>\n",
       "      <td>332.188889</td>\n",
       "      <td>419.133333</td>\n",
       "    </tr>\n",
       "    <tr>\n",
       "      <th>std</th>\n",
       "      <td>2.738613</td>\n",
       "      <td>360.470218</td>\n",
       "      <td>324.767224</td>\n",
       "      <td>350.000000</td>\n",
       "      <td>513.695138</td>\n",
       "      <td>137.113393</td>\n",
       "      <td>13.031980</td>\n",
       "      <td>18.182669</td>\n",
       "      <td>2.464752</td>\n",
       "      <td>13.930901</td>\n",
       "      <td>59.484272</td>\n",
       "      <td>30.903317</td>\n",
       "    </tr>\n",
       "    <tr>\n",
       "      <th>min</th>\n",
       "      <td>2007.000000</td>\n",
       "      <td>8810.000000</td>\n",
       "      <td>2604.000000</td>\n",
       "      <td>8400.000000</td>\n",
       "      <td>2333.000000</td>\n",
       "      <td>303.100000</td>\n",
       "      <td>31.600000</td>\n",
       "      <td>8.500000</td>\n",
       "      <td>2.400000</td>\n",
       "      <td>81.400000</td>\n",
       "      <td>253.600000</td>\n",
       "      <td>380.600000</td>\n",
       "    </tr>\n",
       "    <tr>\n",
       "      <th>25%</th>\n",
       "      <td>2009.000000</td>\n",
       "      <td>9109.000000</td>\n",
       "      <td>2726.000000</td>\n",
       "      <td>8600.000000</td>\n",
       "      <td>2631.000000</td>\n",
       "      <td>383.200000</td>\n",
       "      <td>40.300000</td>\n",
       "      <td>16.600000</td>\n",
       "      <td>4.300000</td>\n",
       "      <td>95.000000</td>\n",
       "      <td>308.300000</td>\n",
       "      <td>399.100000</td>\n",
       "    </tr>\n",
       "    <tr>\n",
       "      <th>50%</th>\n",
       "      <td>2011.000000</td>\n",
       "      <td>9395.000000</td>\n",
       "      <td>2954.000000</td>\n",
       "      <td>9000.000000</td>\n",
       "      <td>2879.000000</td>\n",
       "      <td>431.500000</td>\n",
       "      <td>45.600000</td>\n",
       "      <td>20.600000</td>\n",
       "      <td>5.600000</td>\n",
       "      <td>106.300000</td>\n",
       "      <td>323.500000</td>\n",
       "      <td>405.100000</td>\n",
       "    </tr>\n",
       "    <tr>\n",
       "      <th>75%</th>\n",
       "      <td>2013.000000</td>\n",
       "      <td>9485.000000</td>\n",
       "      <td>3181.000000</td>\n",
       "      <td>9200.000000</td>\n",
       "      <td>3041.000000</td>\n",
       "      <td>530.500000</td>\n",
       "      <td>51.200000</td>\n",
       "      <td>24.600000</td>\n",
       "      <td>7.000000</td>\n",
       "      <td>109.600000</td>\n",
       "      <td>338.800000</td>\n",
       "      <td>442.300000</td>\n",
       "    </tr>\n",
       "    <tr>\n",
       "      <th>max</th>\n",
       "      <td>2015.000000</td>\n",
       "      <td>10086.000000</td>\n",
       "      <td>3648.000000</td>\n",
       "      <td>9400.000000</td>\n",
       "      <td>4047.000000</td>\n",
       "      <td>705.800000</td>\n",
       "      <td>77.300000</td>\n",
       "      <td>71.000000</td>\n",
       "      <td>9.800000</td>\n",
       "      <td>124.700000</td>\n",
       "      <td>449.600000</td>\n",
       "      <td>472.600000</td>\n",
       "    </tr>\n",
       "  </tbody>\n",
       "</table>\n",
       "</div>"
      ],
      "text/plain": [
       "FACTOR         Year  Consumption Volume  Consumption Value  Production Volume  \\\n",
       "count      9.000000            9.000000           9.000000           9.000000   \n",
       "mean    2011.000000         9377.444444        3003.000000        8933.333333   \n",
       "std        2.738613          360.470218         324.767224         350.000000   \n",
       "min     2007.000000         8810.000000        2604.000000        8400.000000   \n",
       "25%     2009.000000         9109.000000        2726.000000        8600.000000   \n",
       "50%     2011.000000         9395.000000        2954.000000        9000.000000   \n",
       "75%     2013.000000         9485.000000        3181.000000        9200.000000   \n",
       "max     2015.000000        10086.000000        3648.000000        9400.000000   \n",
       "\n",
       "FACTOR  Production Value  Import Volume  Import Value  Export Volume  \\\n",
       "count           9.000000       9.000000      9.000000       9.000000   \n",
       "mean         2962.222222     461.766667     46.966667      24.922222   \n",
       "std           513.695138     137.113393     13.031980      18.182669   \n",
       "min          2333.000000     303.100000     31.600000       8.500000   \n",
       "25%          2631.000000     383.200000     40.300000      16.600000   \n",
       "50%          2879.000000     431.500000     45.600000      20.600000   \n",
       "75%          3041.000000     530.500000     51.200000      24.600000   \n",
       "max          4047.000000     705.800000     77.300000      71.000000   \n",
       "\n",
       "FACTOR  Export Value  Import Price  Export Price  Per Capita Consumption  \n",
       "count       9.000000      9.000000      9.000000                9.000000  \n",
       "mean        5.866667    103.433333    332.188889              419.133333  \n",
       "std         2.464752     13.930901     59.484272               30.903317  \n",
       "min         2.400000     81.400000    253.600000              380.600000  \n",
       "25%         4.300000     95.000000    308.300000              399.100000  \n",
       "50%         5.600000    106.300000    323.500000              405.100000  \n",
       "75%         7.000000    109.600000    338.800000              442.300000  \n",
       "max         9.800000    124.700000    449.600000              472.600000  "
      ]
     },
     "execution_count": 156,
     "metadata": {},
     "output_type": "execute_result"
    }
   ],
   "source": [
    "australia_cement.describe()"
   ]
  },
  {
   "cell_type": "code",
   "execution_count": 158,
   "id": "20fa2cba",
   "metadata": {},
   "outputs": [
    {
     "data": {
      "text/html": [
       "<div>\n",
       "<style scoped>\n",
       "    .dataframe tbody tr th:only-of-type {\n",
       "        vertical-align: middle;\n",
       "    }\n",
       "\n",
       "    .dataframe tbody tr th {\n",
       "        vertical-align: top;\n",
       "    }\n",
       "\n",
       "    .dataframe thead th {\n",
       "        text-align: right;\n",
       "    }\n",
       "</style>\n",
       "<table border=\"1\" class=\"dataframe\">\n",
       "  <thead>\n",
       "    <tr style=\"text-align: right;\">\n",
       "      <th>FACTOR</th>\n",
       "      <th>Year</th>\n",
       "      <th>Consumption Volume</th>\n",
       "      <th>Consumption Value</th>\n",
       "      <th>Production Volume</th>\n",
       "      <th>Production Value</th>\n",
       "      <th>Import Volume</th>\n",
       "      <th>Import Value</th>\n",
       "      <th>Export Volume</th>\n",
       "      <th>Export Value</th>\n",
       "      <th>Import Price</th>\n",
       "      <th>Export Price</th>\n",
       "      <th>Per Capita Consumption</th>\n",
       "    </tr>\n",
       "  </thead>\n",
       "  <tbody>\n",
       "    <tr>\n",
       "      <th>count</th>\n",
       "      <td>9.000000</td>\n",
       "      <td>9.000000</td>\n",
       "      <td>9.000000</td>\n",
       "      <td>9.000000</td>\n",
       "      <td>9.000000</td>\n",
       "      <td>9.000000</td>\n",
       "      <td>9.000000</td>\n",
       "      <td>9.000000</td>\n",
       "      <td>9.000000</td>\n",
       "      <td>9.000000</td>\n",
       "      <td>9.000000</td>\n",
       "      <td>9.000000</td>\n",
       "    </tr>\n",
       "    <tr>\n",
       "      <th>mean</th>\n",
       "      <td>2011.000000</td>\n",
       "      <td>52172.555556</td>\n",
       "      <td>4352.333333</td>\n",
       "      <td>53484.555556</td>\n",
       "      <td>4565.666667</td>\n",
       "      <td>69.211111</td>\n",
       "      <td>8.644444</td>\n",
       "      <td>1381.333333</td>\n",
       "      <td>106.877778</td>\n",
       "      <td>130.133333</td>\n",
       "      <td>87.577778</td>\n",
       "      <td>580.622222</td>\n",
       "    </tr>\n",
       "    <tr>\n",
       "      <th>std</th>\n",
       "      <td>2.738613</td>\n",
       "      <td>8863.098627</td>\n",
       "      <td>452.635339</td>\n",
       "      <td>9902.814614</td>\n",
       "      <td>496.552364</td>\n",
       "      <td>34.798256</td>\n",
       "      <td>3.870759</td>\n",
       "      <td>1572.262425</td>\n",
       "      <td>120.747151</td>\n",
       "      <td>24.858751</td>\n",
       "      <td>15.995138</td>\n",
       "      <td>85.446252</td>\n",
       "    </tr>\n",
       "    <tr>\n",
       "      <th>min</th>\n",
       "      <td>2007.000000</td>\n",
       "      <td>37076.000000</td>\n",
       "      <td>3663.000000</td>\n",
       "      <td>37102.000000</td>\n",
       "      <td>3603.000000</td>\n",
       "      <td>31.400000</td>\n",
       "      <td>4.000000</td>\n",
       "      <td>89.400000</td>\n",
       "      <td>9.000000</td>\n",
       "      <td>105.800000</td>\n",
       "      <td>63.900000</td>\n",
       "      <td>431.700000</td>\n",
       "    </tr>\n",
       "    <tr>\n",
       "      <th>25%</th>\n",
       "      <td>2009.000000</td>\n",
       "      <td>47930.000000</td>\n",
       "      <td>3976.000000</td>\n",
       "      <td>47900.000000</td>\n",
       "      <td>4297.000000</td>\n",
       "      <td>36.500000</td>\n",
       "      <td>5.600000</td>\n",
       "      <td>94.000000</td>\n",
       "      <td>10.400000</td>\n",
       "      <td>115.200000</td>\n",
       "      <td>78.100000</td>\n",
       "      <td>547.400000</td>\n",
       "    </tr>\n",
       "    <tr>\n",
       "      <th>50%</th>\n",
       "      <td>2011.000000</td>\n",
       "      <td>55187.000000</td>\n",
       "      <td>4356.000000</td>\n",
       "      <td>56353.000000</td>\n",
       "      <td>4596.000000</td>\n",
       "      <td>63.500000</td>\n",
       "      <td>7.300000</td>\n",
       "      <td>430.400000</td>\n",
       "      <td>36.700000</td>\n",
       "      <td>125.900000</td>\n",
       "      <td>85.200000</td>\n",
       "      <td>610.100000</td>\n",
       "    </tr>\n",
       "    <tr>\n",
       "      <th>75%</th>\n",
       "      <td>2013.000000</td>\n",
       "      <td>57183.000000</td>\n",
       "      <td>4804.000000</td>\n",
       "      <td>58271.000000</td>\n",
       "      <td>4967.000000</td>\n",
       "      <td>92.600000</td>\n",
       "      <td>11.500000</td>\n",
       "      <td>2942.000000</td>\n",
       "      <td>229.900000</td>\n",
       "      <td>135.100000</td>\n",
       "      <td>95.900000</td>\n",
       "      <td>628.400000</td>\n",
       "    </tr>\n",
       "    <tr>\n",
       "      <th>max</th>\n",
       "      <td>2015.000000</td>\n",
       "      <td>64521.000000</td>\n",
       "      <td>5004.000000</td>\n",
       "      <td>67427.000000</td>\n",
       "      <td>5269.000000</td>\n",
       "      <td>123.500000</td>\n",
       "      <td>15.600000</td>\n",
       "      <td>3834.000000</td>\n",
       "      <td>292.800000</td>\n",
       "      <td>188.500000</td>\n",
       "      <td>115.800000</td>\n",
       "      <td>689.500000</td>\n",
       "    </tr>\n",
       "  </tbody>\n",
       "</table>\n",
       "</div>"
      ],
      "text/plain": [
       "FACTOR         Year  Consumption Volume  Consumption Value  Production Volume  \\\n",
       "count      9.000000            9.000000           9.000000           9.000000   \n",
       "mean    2011.000000        52172.555556        4352.333333       53484.555556   \n",
       "std        2.738613         8863.098627         452.635339        9902.814614   \n",
       "min     2007.000000        37076.000000        3663.000000       37102.000000   \n",
       "25%     2009.000000        47930.000000        3976.000000       47900.000000   \n",
       "50%     2011.000000        55187.000000        4356.000000       56353.000000   \n",
       "75%     2013.000000        57183.000000        4804.000000       58271.000000   \n",
       "max     2015.000000        64521.000000        5004.000000       67427.000000   \n",
       "\n",
       "FACTOR  Production Value  Import Volume  Import Value  Export Volume  \\\n",
       "count           9.000000       9.000000      9.000000       9.000000   \n",
       "mean         4565.666667      69.211111      8.644444    1381.333333   \n",
       "std           496.552364      34.798256      3.870759    1572.262425   \n",
       "min          3603.000000      31.400000      4.000000      89.400000   \n",
       "25%          4297.000000      36.500000      5.600000      94.000000   \n",
       "50%          4596.000000      63.500000      7.300000     430.400000   \n",
       "75%          4967.000000      92.600000     11.500000    2942.000000   \n",
       "max          5269.000000     123.500000     15.600000    3834.000000   \n",
       "\n",
       "FACTOR  Export Value  Import Price  Export Price  Per Capita Consumption  \n",
       "count       9.000000      9.000000      9.000000                9.000000  \n",
       "mean      106.877778    130.133333     87.577778              580.622222  \n",
       "std       120.747151     24.858751     15.995138               85.446252  \n",
       "min         9.000000    105.800000     63.900000              431.700000  \n",
       "25%        10.400000    115.200000     78.100000              547.400000  \n",
       "50%        36.700000    125.900000     85.200000              610.100000  \n",
       "75%       229.900000    135.100000     95.900000              628.400000  \n",
       "max       292.800000    188.500000    115.800000              689.500000  "
      ]
     },
     "execution_count": 158,
     "metadata": {},
     "output_type": "execute_result"
    }
   ],
   "source": [
    "vietnam_cement.describe()"
   ]
  },
  {
   "cell_type": "code",
   "execution_count": 160,
   "id": "e2803f4d",
   "metadata": {},
   "outputs": [
    {
     "data": {
      "text/html": [
       "<div>\n",
       "<style scoped>\n",
       "    .dataframe tbody tr th:only-of-type {\n",
       "        vertical-align: middle;\n",
       "    }\n",
       "\n",
       "    .dataframe tbody tr th {\n",
       "        vertical-align: top;\n",
       "    }\n",
       "\n",
       "    .dataframe thead th {\n",
       "        text-align: right;\n",
       "    }\n",
       "</style>\n",
       "<table border=\"1\" class=\"dataframe\">\n",
       "  <thead>\n",
       "    <tr style=\"text-align: right;\">\n",
       "      <th>FACTOR</th>\n",
       "      <th>Year</th>\n",
       "      <th>Consumption Volume</th>\n",
       "      <th>Consumption Value</th>\n",
       "      <th>Production Volume</th>\n",
       "      <th>Production Value</th>\n",
       "      <th>Import Volume</th>\n",
       "      <th>Import Value</th>\n",
       "      <th>Export Volume</th>\n",
       "      <th>Export Value</th>\n",
       "      <th>Import Price</th>\n",
       "      <th>Export Price</th>\n",
       "      <th>Per Capita Consumption</th>\n",
       "    </tr>\n",
       "  </thead>\n",
       "  <tbody>\n",
       "    <tr>\n",
       "      <th>count</th>\n",
       "      <td>9.000000</td>\n",
       "      <td>9.000000</td>\n",
       "      <td>9.000000</td>\n",
       "      <td>9.000000</td>\n",
       "      <td>9.000000</td>\n",
       "      <td>9.000000</td>\n",
       "      <td>9.000000</td>\n",
       "      <td>9.000000</td>\n",
       "      <td>9.000000</td>\n",
       "      <td>9.000000</td>\n",
       "      <td>9.000000</td>\n",
       "      <td>9.000000</td>\n",
       "    </tr>\n",
       "    <tr>\n",
       "      <th>mean</th>\n",
       "      <td>2011.000000</td>\n",
       "      <td>51803.555556</td>\n",
       "      <td>209.511111</td>\n",
       "      <td>56619.000000</td>\n",
       "      <td>220.155556</td>\n",
       "      <td>772.444444</td>\n",
       "      <td>61.766667</td>\n",
       "      <td>5587.888889</td>\n",
       "      <td>199.322222</td>\n",
       "      <td>83.355556</td>\n",
       "      <td>35.777778</td>\n",
       "      <td>403.466667</td>\n",
       "    </tr>\n",
       "    <tr>\n",
       "      <th>std</th>\n",
       "      <td>2.738613</td>\n",
       "      <td>4315.529895</td>\n",
       "      <td>31.533294</td>\n",
       "      <td>4421.625041</td>\n",
       "      <td>47.935767</td>\n",
       "      <td>216.884889</td>\n",
       "      <td>10.965856</td>\n",
       "      <td>457.626060</td>\n",
       "      <td>22.946229</td>\n",
       "      <td>15.645136</td>\n",
       "      <td>4.049314</td>\n",
       "      <td>33.563634</td>\n",
       "    </tr>\n",
       "    <tr>\n",
       "      <th>min</th>\n",
       "      <td>2007.000000</td>\n",
       "      <td>46756.000000</td>\n",
       "      <td>160.500000</td>\n",
       "      <td>51291.000000</td>\n",
       "      <td>138.600000</td>\n",
       "      <td>393.700000</td>\n",
       "      <td>39.800000</td>\n",
       "      <td>4924.000000</td>\n",
       "      <td>165.700000</td>\n",
       "      <td>53.600000</td>\n",
       "      <td>29.400000</td>\n",
       "      <td>363.700000</td>\n",
       "    </tr>\n",
       "    <tr>\n",
       "      <th>25%</th>\n",
       "      <td>2009.000000</td>\n",
       "      <td>49441.000000</td>\n",
       "      <td>184.900000</td>\n",
       "      <td>54737.000000</td>\n",
       "      <td>190.900000</td>\n",
       "      <td>628.900000</td>\n",
       "      <td>56.500000</td>\n",
       "      <td>5238.000000</td>\n",
       "      <td>175.800000</td>\n",
       "      <td>75.200000</td>\n",
       "      <td>32.600000</td>\n",
       "      <td>385.200000</td>\n",
       "    </tr>\n",
       "    <tr>\n",
       "      <th>50%</th>\n",
       "      <td>2011.000000</td>\n",
       "      <td>50175.000000</td>\n",
       "      <td>214.100000</td>\n",
       "      <td>54827.000000</td>\n",
       "      <td>233.500000</td>\n",
       "      <td>827.200000</td>\n",
       "      <td>61.800000</td>\n",
       "      <td>5409.000000</td>\n",
       "      <td>203.700000</td>\n",
       "      <td>89.800000</td>\n",
       "      <td>35.400000</td>\n",
       "      <td>390.700000</td>\n",
       "    </tr>\n",
       "    <tr>\n",
       "      <th>75%</th>\n",
       "      <td>2013.000000</td>\n",
       "      <td>53572.000000</td>\n",
       "      <td>229.600000</td>\n",
       "      <td>57962.000000</td>\n",
       "      <td>244.400000</td>\n",
       "      <td>846.400000</td>\n",
       "      <td>68.800000</td>\n",
       "      <td>5940.000000</td>\n",
       "      <td>214.800000</td>\n",
       "      <td>93.400000</td>\n",
       "      <td>39.000000</td>\n",
       "      <td>417.500000</td>\n",
       "    </tr>\n",
       "    <tr>\n",
       "      <th>max</th>\n",
       "      <td>2015.000000</td>\n",
       "      <td>58919.000000</td>\n",
       "      <td>250.700000</td>\n",
       "      <td>63705.000000</td>\n",
       "      <td>280.400000</td>\n",
       "      <td>1154.000000</td>\n",
       "      <td>79.100000</td>\n",
       "      <td>6285.000000</td>\n",
       "      <td>235.800000</td>\n",
       "      <td>101.100000</td>\n",
       "      <td>41.000000</td>\n",
       "      <td>458.500000</td>\n",
       "    </tr>\n",
       "  </tbody>\n",
       "</table>\n",
       "</div>"
      ],
      "text/plain": [
       "FACTOR         Year  Consumption Volume  Consumption Value  Production Volume  \\\n",
       "count      9.000000            9.000000           9.000000           9.000000   \n",
       "mean    2011.000000        51803.555556         209.511111       56619.000000   \n",
       "std        2.738613         4315.529895          31.533294        4421.625041   \n",
       "min     2007.000000        46756.000000         160.500000       51291.000000   \n",
       "25%     2009.000000        49441.000000         184.900000       54737.000000   \n",
       "50%     2011.000000        50175.000000         214.100000       54827.000000   \n",
       "75%     2013.000000        53572.000000         229.600000       57962.000000   \n",
       "max     2015.000000        58919.000000         250.700000       63705.000000   \n",
       "\n",
       "FACTOR  Production Value  Import Volume  Import Value  Export Volume  \\\n",
       "count           9.000000       9.000000      9.000000       9.000000   \n",
       "mean          220.155556     772.444444     61.766667    5587.888889   \n",
       "std            47.935767     216.884889     10.965856     457.626060   \n",
       "min           138.600000     393.700000     39.800000    4924.000000   \n",
       "25%           190.900000     628.900000     56.500000    5238.000000   \n",
       "50%           233.500000     827.200000     61.800000    5409.000000   \n",
       "75%           244.400000     846.400000     68.800000    5940.000000   \n",
       "max           280.400000    1154.000000     79.100000    6285.000000   \n",
       "\n",
       "FACTOR  Export Value  Import Price  Export Price  Per Capita Consumption  \n",
       "count       9.000000      9.000000      9.000000                9.000000  \n",
       "mean      199.322222     83.355556     35.777778              403.466667  \n",
       "std        22.946229     15.645136      4.049314               33.563634  \n",
       "min       165.700000     53.600000     29.400000              363.700000  \n",
       "25%       175.800000     75.200000     32.600000              385.200000  \n",
       "50%       203.700000     89.800000     35.400000              390.700000  \n",
       "75%       214.800000     93.400000     39.000000              417.500000  \n",
       "max       235.800000    101.100000     41.000000              458.500000  "
      ]
     },
     "execution_count": 160,
     "metadata": {},
     "output_type": "execute_result"
    }
   ],
   "source": [
    "japan_cement.describe()"
   ]
  },
  {
   "cell_type": "code",
   "execution_count": 161,
   "id": "59ff419a",
   "metadata": {},
   "outputs": [
    {
     "data": {
      "text/html": [
       "<div>\n",
       "<style scoped>\n",
       "    .dataframe tbody tr th:only-of-type {\n",
       "        vertical-align: middle;\n",
       "    }\n",
       "\n",
       "    .dataframe tbody tr th {\n",
       "        vertical-align: top;\n",
       "    }\n",
       "\n",
       "    .dataframe thead th {\n",
       "        text-align: right;\n",
       "    }\n",
       "</style>\n",
       "<table border=\"1\" class=\"dataframe\">\n",
       "  <thead>\n",
       "    <tr style=\"text-align: right;\">\n",
       "      <th>FACTOR</th>\n",
       "      <th>Year</th>\n",
       "      <th>Consumption Volume</th>\n",
       "      <th>Consumption Value</th>\n",
       "      <th>Production Volume</th>\n",
       "      <th>Production Value</th>\n",
       "      <th>Import Volume</th>\n",
       "      <th>Import Value</th>\n",
       "      <th>Export Volume</th>\n",
       "      <th>Export Value</th>\n",
       "      <th>Import Price</th>\n",
       "      <th>Export Price</th>\n",
       "      <th>Per Capita Consumption</th>\n",
       "    </tr>\n",
       "  </thead>\n",
       "  <tbody>\n",
       "    <tr>\n",
       "      <th>count</th>\n",
       "      <td>9.000000</td>\n",
       "      <td>9.000000</td>\n",
       "      <td>9.000000</td>\n",
       "      <td>9.000000</td>\n",
       "      <td>9.000000</td>\n",
       "      <td>9.000000</td>\n",
       "      <td>9.000000</td>\n",
       "      <td>9.000000</td>\n",
       "      <td>9.000000</td>\n",
       "      <td>9.000000</td>\n",
       "      <td>9.000000</td>\n",
       "      <td>9.000000</td>\n",
       "    </tr>\n",
       "    <tr>\n",
       "      <th>mean</th>\n",
       "      <td>2011.000000</td>\n",
       "      <td>55195.555556</td>\n",
       "      <td>3953.555556</td>\n",
       "      <td>57294.444444</td>\n",
       "      <td>3572.111111</td>\n",
       "      <td>31.055556</td>\n",
       "      <td>6.622222</td>\n",
       "      <td>2129.900000</td>\n",
       "      <td>138.655556</td>\n",
       "      <td>282.522222</td>\n",
       "      <td>73.422222</td>\n",
       "      <td>728.333333</td>\n",
       "    </tr>\n",
       "    <tr>\n",
       "      <th>std</th>\n",
       "      <td>2.738613</td>\n",
       "      <td>10631.753326</td>\n",
       "      <td>1135.857728</td>\n",
       "      <td>11191.973811</td>\n",
       "      <td>1428.550178</td>\n",
       "      <td>19.494109</td>\n",
       "      <td>3.838873</td>\n",
       "      <td>2796.589776</td>\n",
       "      <td>170.719800</td>\n",
       "      <td>205.276160</td>\n",
       "      <td>13.893594</td>\n",
       "      <td>127.628778</td>\n",
       "    </tr>\n",
       "    <tr>\n",
       "      <th>min</th>\n",
       "      <td>2007.000000</td>\n",
       "      <td>40989.000000</td>\n",
       "      <td>2185.000000</td>\n",
       "      <td>41000.000000</td>\n",
       "      <td>1588.000000</td>\n",
       "      <td>7.800000</td>\n",
       "      <td>2.000000</td>\n",
       "      <td>75.300000</td>\n",
       "      <td>6.900000</td>\n",
       "      <td>81.500000</td>\n",
       "      <td>59.600000</td>\n",
       "      <td>569.000000</td>\n",
       "    </tr>\n",
       "    <tr>\n",
       "      <th>25%</th>\n",
       "      <td>2009.000000</td>\n",
       "      <td>48709.000000</td>\n",
       "      <td>3124.000000</td>\n",
       "      <td>50000.000000</td>\n",
       "      <td>2559.000000</td>\n",
       "      <td>9.000000</td>\n",
       "      <td>3.700000</td>\n",
       "      <td>640.500000</td>\n",
       "      <td>49.000000</td>\n",
       "      <td>189.300000</td>\n",
       "      <td>62.500000</td>\n",
       "      <td>626.900000</td>\n",
       "    </tr>\n",
       "    <tr>\n",
       "      <th>50%</th>\n",
       "      <td>2011.000000</td>\n",
       "      <td>49749.000000</td>\n",
       "      <td>4129.000000</td>\n",
       "      <td>58600.000000</td>\n",
       "      <td>3394.000000</td>\n",
       "      <td>31.700000</td>\n",
       "      <td>6.000000</td>\n",
       "      <td>1258.000000</td>\n",
       "      <td>78.700000</td>\n",
       "      <td>225.800000</td>\n",
       "      <td>74.500000</td>\n",
       "      <td>670.000000</td>\n",
       "    </tr>\n",
       "    <tr>\n",
       "      <th>75%</th>\n",
       "      <td>2013.000000</td>\n",
       "      <td>65043.000000</td>\n",
       "      <td>4984.000000</td>\n",
       "      <td>66700.000000</td>\n",
       "      <td>4489.000000</td>\n",
       "      <td>41.100000</td>\n",
       "      <td>8.600000</td>\n",
       "      <td>1968.000000</td>\n",
       "      <td>117.200000</td>\n",
       "      <td>330.600000</td>\n",
       "      <td>76.500000</td>\n",
       "      <td>861.600000</td>\n",
       "    </tr>\n",
       "    <tr>\n",
       "      <th>max</th>\n",
       "      <td>2015.000000</td>\n",
       "      <td>69023.000000</td>\n",
       "      <td>5290.000000</td>\n",
       "      <td>70250.000000</td>\n",
       "      <td>5936.000000</td>\n",
       "      <td>64.200000</td>\n",
       "      <td>13.600000</td>\n",
       "      <td>8883.000000</td>\n",
       "      <td>530.600000</td>\n",
       "      <td>773.800000</td>\n",
       "      <td>97.200000</td>\n",
       "      <td>902.800000</td>\n",
       "    </tr>\n",
       "  </tbody>\n",
       "</table>\n",
       "</div>"
      ],
      "text/plain": [
       "FACTOR         Year  Consumption Volume  Consumption Value  Production Volume  \\\n",
       "count      9.000000            9.000000           9.000000           9.000000   \n",
       "mean    2011.000000        55195.555556        3953.555556       57294.444444   \n",
       "std        2.738613        10631.753326        1135.857728       11191.973811   \n",
       "min     2007.000000        40989.000000        2185.000000       41000.000000   \n",
       "25%     2009.000000        48709.000000        3124.000000       50000.000000   \n",
       "50%     2011.000000        49749.000000        4129.000000       58600.000000   \n",
       "75%     2013.000000        65043.000000        4984.000000       66700.000000   \n",
       "max     2015.000000        69023.000000        5290.000000       70250.000000   \n",
       "\n",
       "FACTOR  Production Value  Import Volume  Import Value  Export Volume  \\\n",
       "count           9.000000       9.000000      9.000000       9.000000   \n",
       "mean         3572.111111      31.055556      6.622222    2129.900000   \n",
       "std          1428.550178      19.494109      3.838873    2796.589776   \n",
       "min          1588.000000       7.800000      2.000000      75.300000   \n",
       "25%          2559.000000       9.000000      3.700000     640.500000   \n",
       "50%          3394.000000      31.700000      6.000000    1258.000000   \n",
       "75%          4489.000000      41.100000      8.600000    1968.000000   \n",
       "max          5936.000000      64.200000     13.600000    8883.000000   \n",
       "\n",
       "FACTOR  Export Value  Import Price  Export Price  Per Capita Consumption  \n",
       "count       9.000000      9.000000      9.000000                9.000000  \n",
       "mean      138.655556    282.522222     73.422222              728.333333  \n",
       "std       170.719800    205.276160     13.893594              127.628778  \n",
       "min         6.900000     81.500000     59.600000              569.000000  \n",
       "25%        49.000000    189.300000     62.500000              626.900000  \n",
       "50%        78.700000    225.800000     74.500000              670.000000  \n",
       "75%       117.200000    330.600000     76.500000              861.600000  \n",
       "max       530.600000    773.800000     97.200000              902.800000  "
      ]
     },
     "execution_count": 161,
     "metadata": {},
     "output_type": "execute_result"
    }
   ],
   "source": [
    "iran_cement.describe()"
   ]
  },
  {
   "cell_type": "code",
   "execution_count": null,
   "id": "03c6d973",
   "metadata": {},
   "outputs": [],
   "source": []
  },
  {
   "cell_type": "markdown",
   "id": "366a36a0",
   "metadata": {},
   "source": [
    "Steps to perform hypothesis tests:\n",
    "- State the null ($H_0$) and alternative ($H_A$) hypotheses.\n",
    "- Select an appropriate test (and corresponding Python function) to perform.\n",
    "- Run the code.\n",
    "- Make a decision/conclusion, based on the p-value.\n",
    "- Summarise the results."
   ]
  },
  {
   "cell_type": "markdown",
   "id": "1ac9044c",
   "metadata": {},
   "source": [
    "### ANOVA (Analysis of Variance)"
   ]
  },
  {
   "cell_type": "code",
   "execution_count": 162,
   "id": "ec1bb138",
   "metadata": {},
   "outputs": [],
   "source": [
    "import scipy.stats as stats"
   ]
  },
  {
   "cell_type": "code",
   "execution_count": 173,
   "id": "f82491b6",
   "metadata": {
    "scrolled": false
   },
   "outputs": [
    {
     "data": {
      "text/plain": [
       "F_onewayResult(statistic=52.36524795597824, pvalue=7.25805477761559e-30)"
      ]
     },
     "execution_count": 173,
     "metadata": {},
     "output_type": "execute_result"
    }
   ],
   "source": [
    "stats.f_oneway(ireland_cement['Per Capita Consumption'], \n",
    "               usa_cement['Per Capita Consumption'],\n",
    "               brazil_cement['Per Capita Consumption'],\n",
    "               china_cement['Per Capita Consumption'],\n",
    "               germany_cement['Per Capita Consumption'],\n",
    "               russia_cement['Per Capita Consumption'],\n",
    "               australia_cement['Per Capita Consumption'],\n",
    "               vietnam_cement['Per Capita Consumption'],\n",
    "               japan_cement['Per Capita Consumption'],\n",
    "               iran_cement['Per Capita Consumption'])"
   ]
  },
  {
   "cell_type": "markdown",
   "id": "8d7cf198",
   "metadata": {},
   "source": [
    "p-value is between 0 and 0.05, which means we reject ($H_0$). Tukey-Kramer analysis will be performed to see which of the means differ from each other."
   ]
  },
  {
   "cell_type": "markdown",
   "id": "edc4f891",
   "metadata": {},
   "source": [
    "### Tukey-Kramer Analysis"
   ]
  },
  {
   "cell_type": "code",
   "execution_count": 172,
   "id": "c86869fd",
   "metadata": {},
   "outputs": [
    {
     "name": "stdout",
     "output_type": "stream",
     "text": [
      "    Multiple Comparison of Means - Tukey HSD, FWER=0.05    \n",
      "===========================================================\n",
      "group1 group2  meandiff  p-adj    lower      upper   reject\n",
      "-----------------------------------------------------------\n",
      "   AUS    BRA  -110.3889 0.8137   -326.773  105.9952  False\n",
      "   AUS    CHN   988.9778    0.0   772.5937 1205.3619   True\n",
      "   AUS    DEU   -91.9556 0.9289  -308.3396  124.4285  False\n",
      "   AUS    IRL   -78.2444 0.9738  -294.6285  138.1396  False\n",
      "   AUS    IRN      309.2 0.0005    92.8159  525.5841   True\n",
      "   AUS    JPN   -15.6667    1.0  -232.0508  200.7174  False\n",
      "   AUS    RUS     0.0111    1.0   -216.373  216.3952  False\n",
      "   AUS    USA  -139.9333 0.5298  -356.3174   76.4508  False\n",
      "   AUS    VNM   161.4889 0.3233   -54.8952   377.873  False\n",
      "   BRA    CHN  1099.3667    0.0   882.9826 1315.7508   True\n",
      "   BRA    DEU    18.4333    1.0  -197.9508  234.8174  False\n",
      "   BRA    IRL    32.1444    1.0  -184.2396  248.5285  False\n",
      "   BRA    IRN   419.5889    0.0   203.2048   635.973   True\n",
      "   BRA    JPN    94.7222 0.9158  -121.6619  311.1063  False\n",
      "   BRA    RUS      110.4 0.8136  -105.9841  326.7841  False\n",
      "   BRA    USA   -29.5444    1.0  -245.9285  186.8396  False\n",
      "   BRA    VNM   271.8778 0.0038    55.4937  488.2619   True\n",
      "   CHN    DEU -1080.9333    0.0 -1297.3174 -864.5492   True\n",
      "   CHN    IRL -1067.2222    0.0 -1283.6063 -850.8381   True\n",
      "   CHN    IRN  -679.7778    0.0  -896.1619 -463.3937   True\n",
      "   CHN    JPN -1004.6444    0.0 -1221.0285 -788.2604   True\n",
      "   CHN    RUS  -988.9667    0.0 -1205.3508 -772.5826   True\n",
      "   CHN    USA -1128.9111    0.0 -1345.2952  -912.527   True\n",
      "   CHN    VNM  -827.4889    0.0  -1043.873 -611.1048   True\n",
      "   DEU    IRL    13.7111    1.0   -202.673  230.0952  False\n",
      "   DEU    IRN   401.1556    0.0   184.7715  617.5396   True\n",
      "   DEU    JPN    76.2889 0.9779  -140.0952   292.673  False\n",
      "   DEU    RUS    91.9667 0.9289  -124.4174  308.3508  False\n",
      "   DEU    USA   -47.9778 0.9993  -264.3619  168.4063  False\n",
      "   DEU    VNM   253.4444 0.0096    37.0604  469.8285   True\n",
      "   IRL    IRN   387.4444    0.0   171.0604  603.8285   True\n",
      "   IRL    JPN    62.5778 0.9945  -153.8063  278.9619  False\n",
      "   IRL    RUS    78.2556 0.9738  -138.1285  294.6396  False\n",
      "   IRL    USA   -61.6889 0.9951   -278.073  154.6952  False\n",
      "   IRL    VNM   239.7333 0.0182    23.3492  456.1174   True\n",
      "   IRN    JPN  -324.8667 0.0002  -541.2508 -108.4826   True\n",
      "   IRN    RUS  -309.1889 0.0005   -525.573  -92.8048   True\n",
      "   IRN    USA  -449.1333    0.0  -665.5174 -232.7492   True\n",
      "   IRN    VNM  -147.7111  0.451  -364.0952    68.673  False\n",
      "   JPN    RUS    15.6778    1.0  -200.7063  232.0619  False\n",
      "   JPN    USA  -124.2667 0.6893  -340.6508   92.1174  False\n",
      "   JPN    VNM   177.1556 0.2062   -39.2285  393.5396  False\n",
      "   RUS    USA  -139.9444 0.5297  -356.3285   76.4396  False\n",
      "   RUS    VNM   161.4778 0.3234   -54.9063  377.8619  False\n",
      "   USA    VNM   301.4222 0.0008    85.0381  517.8063   True\n",
      "-----------------------------------------------------------\n"
     ]
    }
   ],
   "source": [
    "from scipy.stats import f_oneway\n",
    "from statsmodels.stats.multicomp import pairwise_tukeyhsd\n",
    "\n",
    "# perform Tukey's test\n",
    "tukey = pairwise_tukeyhsd(endog=cement_merge['Per Capita Consumption'],\n",
    "                          groups=cement_merge['Code'],\n",
    "                          alpha=0.05)\n",
    "\n",
    "#display results\n",
    "print(tukey)"
   ]
  },
  {
   "cell_type": "code",
   "execution_count": null,
   "id": "9a32485b",
   "metadata": {},
   "outputs": [],
   "source": []
  },
  {
   "cell_type": "code",
   "execution_count": null,
   "id": "fa5851a3",
   "metadata": {},
   "outputs": [],
   "source": []
  },
  {
   "cell_type": "code",
   "execution_count": null,
   "id": "7f9affa4",
   "metadata": {},
   "outputs": [],
   "source": []
  },
  {
   "cell_type": "markdown",
   "id": "d7c6e79e",
   "metadata": {},
   "source": [
    "## Machine Learning "
   ]
  },
  {
   "cell_type": "code",
   "execution_count": null,
   "id": "b2fc05c0",
   "metadata": {},
   "outputs": [],
   "source": []
  },
  {
   "cell_type": "code",
   "execution_count": null,
   "id": "8d5dce18",
   "metadata": {},
   "outputs": [],
   "source": []
  },
  {
   "cell_type": "code",
   "execution_count": null,
   "id": "62fa65d7",
   "metadata": {},
   "outputs": [],
   "source": []
  },
  {
   "cell_type": "code",
   "execution_count": null,
   "id": "39005d10",
   "metadata": {},
   "outputs": [],
   "source": []
  },
  {
   "cell_type": "code",
   "execution_count": null,
   "id": "08397d42",
   "metadata": {},
   "outputs": [],
   "source": []
  }
 ],
 "metadata": {
  "kernelspec": {
   "display_name": "Python 3 (ipykernel)",
   "language": "python",
   "name": "python3"
  },
  "language_info": {
   "codemirror_mode": {
    "name": "ipython",
    "version": 3
   },
   "file_extension": ".py",
   "mimetype": "text/x-python",
   "name": "python",
   "nbconvert_exporter": "python",
   "pygments_lexer": "ipython3",
   "version": "3.9.13"
  }
 },
 "nbformat": 4,
 "nbformat_minor": 5
}
