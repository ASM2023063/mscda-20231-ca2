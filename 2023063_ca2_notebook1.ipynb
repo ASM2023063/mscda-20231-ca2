{
 "cells": [
  {
   "cell_type": "markdown",
   "id": "050e33fb",
   "metadata": {},
   "source": [
    "#  Construction in Ireland: Cement Data "
   ]
  },
  {
   "cell_type": "markdown",
   "id": "19244a41",
   "metadata": {},
   "source": [
    "CA2 (26/05/2023) - MSc in Data Analytics \n",
    "<b>Student ID: 2023063"
   ]
  },
  {
   "cell_type": "markdown",
   "id": "1ce2a395",
   "metadata": {},
   "source": [
    "## Introduction \n",
    "write briefing\n",
    "\n",
    "- Cement data source: https://app.indexbox.io/table/252321h1/372/\n",
    "- Reddit data source: https://www.reddit.com/r/ireland/comments/xq6miu/10_added_to_concrete_in_the_midst_of_this_crisis/"
   ]
  },
  {
   "cell_type": "code",
   "execution_count": 409,
   "id": "401817ce",
   "metadata": {
    "scrolled": true
   },
   "outputs": [
    {
     "data": {
      "text/plain": [
       "'\\nHTML(\\'\\'\\'<script>\\ncode_show=true; \\nfunction code_toggle() {\\n if (code_show){\\n $(\\'div.input\\').hide();\\n } else {\\n $(\\'div.input\\').show();\\n }\\n code_show = !code_show\\n} \\n$( document ).ready(code_toggle);\\n</script>\\n<form action=\"javascript:code_toggle()\"><input type=\"submit\" value=\"Click here to toggle on/off the raw code.\"></form>\\'\\'\\')\\n'"
      ]
     },
     "execution_count": 409,
     "metadata": {},
     "output_type": "execute_result"
    }
   ],
   "source": [
    "# Hide/Unhide code\n",
    "\n",
    "from IPython.display import HTML\n",
    "\"\"\"\n",
    "HTML('''<script>\n",
    "code_show=true; \n",
    "function code_toggle() {\n",
    " if (code_show){\n",
    " $('div.input').hide();\n",
    " } else {\n",
    " $('div.input').show();\n",
    " }\n",
    " code_show = !code_show\n",
    "} \n",
    "$( document ).ready(code_toggle);\n",
    "</script>\n",
    "<form action=\"javascript:code_toggle()\"><input type=\"submit\" value=\"Click here to toggle on/off the raw code.\"></form>''')\n",
    "\"\"\""
   ]
  },
  {
   "cell_type": "markdown",
   "id": "74d2b301",
   "metadata": {},
   "source": [
    "## Data Preparation and Visualisation"
   ]
  },
  {
   "cell_type": "code",
   "execution_count": 410,
   "id": "216fb3d5",
   "metadata": {},
   "outputs": [],
   "source": [
    "# Import libraries\n",
    "\n",
    "import pandas as pd\n",
    "import seaborn as sns\n",
    "import numpy as np\n",
    "import matplotlib.pyplot as plt\n",
    "import plotly.express as px\n",
    "import plotly.graph_objects as go\n",
    "import scipy.stats as stats\n",
    "\n",
    "import warnings\n",
    "warnings.filterwarnings('ignore') # To suppress the warnings\n",
    "%matplotlib inline "
   ]
  },
  {
   "cell_type": "markdown",
   "id": "5fcae6f0",
   "metadata": {},
   "source": [
    "<b>Cement data .tail()"
   ]
  },
  {
   "cell_type": "code",
   "execution_count": 411,
   "id": "daaa112f",
   "metadata": {},
   "outputs": [],
   "source": [
    "# Read cement data (csv)\n",
    "cement_data = pd.read_csv(\"cementdata.csv\")"
   ]
  },
  {
   "cell_type": "code",
   "execution_count": 412,
   "id": "20b0a75b",
   "metadata": {
    "scrolled": false
   },
   "outputs": [
    {
     "data": {
      "text/html": [
       "<div>\n",
       "<style scoped>\n",
       "    .dataframe tbody tr th:only-of-type {\n",
       "        vertical-align: middle;\n",
       "    }\n",
       "\n",
       "    .dataframe tbody tr th {\n",
       "        vertical-align: top;\n",
       "    }\n",
       "\n",
       "    .dataframe thead th {\n",
       "        text-align: right;\n",
       "    }\n",
       "</style>\n",
       "<table border=\"1\" class=\"dataframe\">\n",
       "  <thead>\n",
       "    <tr style=\"text-align: right;\">\n",
       "      <th></th>\n",
       "      <th>FACTOR</th>\n",
       "      <th>UNITS</th>\n",
       "      <th>2007</th>\n",
       "      <th>2008</th>\n",
       "      <th>2009</th>\n",
       "      <th>2010</th>\n",
       "      <th>2011</th>\n",
       "      <th>2012</th>\n",
       "      <th>2013</th>\n",
       "      <th>2014</th>\n",
       "      <th>2015</th>\n",
       "      <th>Country</th>\n",
       "      <th>Product</th>\n",
       "    </tr>\n",
       "  </thead>\n",
       "  <tbody>\n",
       "    <tr>\n",
       "      <th>0</th>\n",
       "      <td>Consumption Volume</td>\n",
       "      <td>Thousand tons</td>\n",
       "      <td>3563.00</td>\n",
       "      <td>3489.00</td>\n",
       "      <td>1748.00</td>\n",
       "      <td>1704.00</td>\n",
       "      <td>1263.00</td>\n",
       "      <td>48.40</td>\n",
       "      <td>856.00</td>\n",
       "      <td>580.90</td>\n",
       "      <td>667.00</td>\n",
       "      <td>Ireland</td>\n",
       "      <td>Cement</td>\n",
       "    </tr>\n",
       "    <tr>\n",
       "      <th>1</th>\n",
       "      <td>Consumption Value</td>\n",
       "      <td>Million USD</td>\n",
       "      <td>264.30</td>\n",
       "      <td>267.40</td>\n",
       "      <td>159.10</td>\n",
       "      <td>160.80</td>\n",
       "      <td>137.10</td>\n",
       "      <td>7.70</td>\n",
       "      <td>101.40</td>\n",
       "      <td>69.20</td>\n",
       "      <td>83.40</td>\n",
       "      <td>Ireland</td>\n",
       "      <td>Cement</td>\n",
       "    </tr>\n",
       "    <tr>\n",
       "      <th>2</th>\n",
       "      <td>Production Volume</td>\n",
       "      <td>Thousand tons</td>\n",
       "      <td>4003.00</td>\n",
       "      <td>3900.00</td>\n",
       "      <td>2600.00</td>\n",
       "      <td>2600.00</td>\n",
       "      <td>2103.00</td>\n",
       "      <td>1198.00</td>\n",
       "      <td>2000.00</td>\n",
       "      <td>2000.00</td>\n",
       "      <td>2500.00</td>\n",
       "      <td>Ireland</td>\n",
       "      <td>Cement</td>\n",
       "    </tr>\n",
       "    <tr>\n",
       "      <th>3</th>\n",
       "      <td>Production Value</td>\n",
       "      <td>Million USD</td>\n",
       "      <td>146.70</td>\n",
       "      <td>160.20</td>\n",
       "      <td>175.10</td>\n",
       "      <td>191.30</td>\n",
       "      <td>209.00</td>\n",
       "      <td>228.40</td>\n",
       "      <td>234.90</td>\n",
       "      <td>237.60</td>\n",
       "      <td>323.70</td>\n",
       "      <td>Ireland</td>\n",
       "      <td>Cement</td>\n",
       "    </tr>\n",
       "    <tr>\n",
       "      <th>4</th>\n",
       "      <td>Import Volume</td>\n",
       "      <td>Thousand tons</td>\n",
       "      <td>684.40</td>\n",
       "      <td>735.40</td>\n",
       "      <td>204.10</td>\n",
       "      <td>138.70</td>\n",
       "      <td>104.30</td>\n",
       "      <td>90.70</td>\n",
       "      <td>92.30</td>\n",
       "      <td>106.70</td>\n",
       "      <td>89.80</td>\n",
       "      <td>Ireland</td>\n",
       "      <td>Cement</td>\n",
       "    </tr>\n",
       "  </tbody>\n",
       "</table>\n",
       "</div>"
      ],
      "text/plain": [
       "               FACTOR          UNITS     2007     2008     2009     2010  \\\n",
       "0  Consumption Volume  Thousand tons  3563.00  3489.00  1748.00  1704.00   \n",
       "1   Consumption Value    Million USD   264.30   267.40   159.10   160.80   \n",
       "2   Production Volume  Thousand tons  4003.00  3900.00  2600.00  2600.00   \n",
       "3    Production Value    Million USD   146.70   160.20   175.10   191.30   \n",
       "4       Import Volume  Thousand tons   684.40   735.40   204.10   138.70   \n",
       "\n",
       "      2011     2012     2013     2014     2015  Country Product  \n",
       "0  1263.00    48.40   856.00   580.90   667.00  Ireland  Cement  \n",
       "1   137.10     7.70   101.40    69.20    83.40  Ireland  Cement  \n",
       "2  2103.00  1198.00  2000.00  2000.00  2500.00  Ireland  Cement  \n",
       "3   209.00   228.40   234.90   237.60   323.70  Ireland  Cement  \n",
       "4   104.30    90.70    92.30   106.70    89.80  Ireland  Cement  "
      ]
     },
     "execution_count": 412,
     "metadata": {},
     "output_type": "execute_result"
    }
   ],
   "source": [
    "cement_data.head()"
   ]
  },
  {
   "cell_type": "markdown",
   "id": "f5c4a133",
   "metadata": {},
   "source": [
    "<b>Cement data .tail()"
   ]
  },
  {
   "cell_type": "code",
   "execution_count": 413,
   "id": "5ed1c964",
   "metadata": {},
   "outputs": [
    {
     "data": {
      "text/html": [
       "<div>\n",
       "<style scoped>\n",
       "    .dataframe tbody tr th:only-of-type {\n",
       "        vertical-align: middle;\n",
       "    }\n",
       "\n",
       "    .dataframe tbody tr th {\n",
       "        vertical-align: top;\n",
       "    }\n",
       "\n",
       "    .dataframe thead th {\n",
       "        text-align: right;\n",
       "    }\n",
       "</style>\n",
       "<table border=\"1\" class=\"dataframe\">\n",
       "  <thead>\n",
       "    <tr style=\"text-align: right;\">\n",
       "      <th></th>\n",
       "      <th>FACTOR</th>\n",
       "      <th>UNITS</th>\n",
       "      <th>2007</th>\n",
       "      <th>2008</th>\n",
       "      <th>2009</th>\n",
       "      <th>2010</th>\n",
       "      <th>2011</th>\n",
       "      <th>2012</th>\n",
       "      <th>2013</th>\n",
       "      <th>2014</th>\n",
       "      <th>2015</th>\n",
       "      <th>Country</th>\n",
       "      <th>Product</th>\n",
       "    </tr>\n",
       "  </thead>\n",
       "  <tbody>\n",
       "    <tr>\n",
       "      <th>125</th>\n",
       "      <td>Import Price</td>\n",
       "      <td>USD per Ton</td>\n",
       "      <td>81.5</td>\n",
       "      <td>97.6</td>\n",
       "      <td>225.8</td>\n",
       "      <td>343</td>\n",
       "      <td>773.8</td>\n",
       "      <td>189.3</td>\n",
       "      <td>330.6</td>\n",
       "      <td>225.8</td>\n",
       "      <td>275.3</td>\n",
       "      <td>Iran</td>\n",
       "      <td>Cement</td>\n",
       "    </tr>\n",
       "    <tr>\n",
       "      <th>126</th>\n",
       "      <td>Export Price</td>\n",
       "      <td>USD per Ton</td>\n",
       "      <td>91.9</td>\n",
       "      <td>97.2</td>\n",
       "      <td>76.4</td>\n",
       "      <td>76.5</td>\n",
       "      <td>62.5</td>\n",
       "      <td>62.5</td>\n",
       "      <td>59.6</td>\n",
       "      <td>74.5</td>\n",
       "      <td>59.7</td>\n",
       "      <td>Iran</td>\n",
       "      <td>Cement</td>\n",
       "    </tr>\n",
       "    <tr>\n",
       "      <th>127</th>\n",
       "      <td>Per Capita Consumption</td>\n",
       "      <td>Kg per Person</td>\n",
       "      <td>569</td>\n",
       "      <td>608.9</td>\n",
       "      <td>670</td>\n",
       "      <td>653.2</td>\n",
       "      <td>861.6</td>\n",
       "      <td>902.8</td>\n",
       "      <td>862.3</td>\n",
       "      <td>800.3</td>\n",
       "      <td>626.9</td>\n",
       "      <td>Iran</td>\n",
       "      <td>Cement</td>\n",
       "    </tr>\n",
       "    <tr>\n",
       "      <th>128</th>\n",
       "      <td>Net Export Volume</td>\n",
       "      <td>Thousand tons</td>\n",
       "      <td>11.1</td>\n",
       "      <td>43.8</td>\n",
       "      <td>631.5</td>\n",
       "      <td>1291</td>\n",
       "      <td>956.9</td>\n",
       "      <td>1227</td>\n",
       "      <td>1927</td>\n",
       "      <td>3951</td>\n",
       "      <td>8851</td>\n",
       "      <td>Iran</td>\n",
       "      <td>Cement</td>\n",
       "    </tr>\n",
       "    <tr>\n",
       "      <th>129</th>\n",
       "      <td>Net Export Value</td>\n",
       "      <td>Million USD</td>\n",
       "      <td>1.7</td>\n",
       "      <td>4.2</td>\n",
       "      <td>46.9</td>\n",
       "      <td>96.7</td>\n",
       "      <td>53.4</td>\n",
       "      <td>72.7</td>\n",
       "      <td>103.7</td>\n",
       "      <td>286.9</td>\n",
       "      <td>522</td>\n",
       "      <td>Iran</td>\n",
       "      <td>Cement</td>\n",
       "    </tr>\n",
       "  </tbody>\n",
       "</table>\n",
       "</div>"
      ],
      "text/plain": [
       "                     FACTOR          UNITS  2007   2008   2009   2010   2011  \\\n",
       "125            Import Price    USD per Ton  81.5   97.6  225.8    343  773.8   \n",
       "126            Export Price    USD per Ton  91.9   97.2   76.4   76.5   62.5   \n",
       "127  Per Capita Consumption  Kg per Person   569  608.9    670  653.2  861.6   \n",
       "128       Net Export Volume  Thousand tons  11.1   43.8  631.5   1291  956.9   \n",
       "129        Net Export Value    Million USD   1.7    4.2   46.9   96.7   53.4   \n",
       "\n",
       "      2012   2013   2014   2015 Country Product  \n",
       "125  189.3  330.6  225.8  275.3    Iran  Cement  \n",
       "126   62.5   59.6   74.5   59.7    Iran  Cement  \n",
       "127  902.8  862.3  800.3  626.9    Iran  Cement  \n",
       "128   1227   1927   3951   8851    Iran  Cement  \n",
       "129   72.7  103.7  286.9    522    Iran  Cement  "
      ]
     },
     "execution_count": 413,
     "metadata": {},
     "output_type": "execute_result"
    }
   ],
   "source": [
    "cement_data.tail()"
   ]
  },
  {
   "cell_type": "markdown",
   "id": "9d533e16",
   "metadata": {},
   "source": [
    "<b>Number of countries "
   ]
  },
  {
   "cell_type": "code",
   "execution_count": 414,
   "id": "328d16ad",
   "metadata": {
    "scrolled": true
   },
   "outputs": [
    {
     "data": {
      "text/plain": [
       "10"
      ]
     },
     "execution_count": 414,
     "metadata": {},
     "output_type": "execute_result"
    }
   ],
   "source": [
    "cement_data[\"Country\"].nunique()"
   ]
  },
  {
   "cell_type": "markdown",
   "id": "b4431889",
   "metadata": {},
   "source": [
    "<b>Country names"
   ]
  },
  {
   "cell_type": "code",
   "execution_count": 415,
   "id": "69f6e685",
   "metadata": {
    "scrolled": true
   },
   "outputs": [
    {
     "data": {
      "text/plain": [
       "array(['Ireland', 'USA', 'Brazil', 'China', 'Germany', 'Russia',\n",
       "       'Australia', 'Vietnam', 'Japan', 'Iran'], dtype=object)"
      ]
     },
     "execution_count": 415,
     "metadata": {},
     "output_type": "execute_result"
    }
   ],
   "source": [
    "cement_data[\"Country\"].unique()"
   ]
  },
  {
   "cell_type": "markdown",
   "id": "f0375316",
   "metadata": {},
   "source": [
    "<b>Number of variables"
   ]
  },
  {
   "cell_type": "code",
   "execution_count": 416,
   "id": "07beb394",
   "metadata": {},
   "outputs": [
    {
     "data": {
      "text/plain": [
       "13"
      ]
     },
     "execution_count": 416,
     "metadata": {},
     "output_type": "execute_result"
    }
   ],
   "source": [
    "cement_data[\"FACTOR\"].nunique()"
   ]
  },
  {
   "cell_type": "markdown",
   "id": "a491dc44",
   "metadata": {},
   "source": [
    "<b>Units"
   ]
  },
  {
   "cell_type": "code",
   "execution_count": 417,
   "id": "59f46f46",
   "metadata": {},
   "outputs": [
    {
     "data": {
      "text/html": [
       "<div>\n",
       "<style scoped>\n",
       "    .dataframe tbody tr th:only-of-type {\n",
       "        vertical-align: middle;\n",
       "    }\n",
       "\n",
       "    .dataframe tbody tr th {\n",
       "        vertical-align: top;\n",
       "    }\n",
       "\n",
       "    .dataframe thead th {\n",
       "        text-align: right;\n",
       "    }\n",
       "</style>\n",
       "<table border=\"1\" class=\"dataframe\">\n",
       "  <thead>\n",
       "    <tr style=\"text-align: right;\">\n",
       "      <th></th>\n",
       "      <th>FACTOR</th>\n",
       "      <th>UNITS</th>\n",
       "    </tr>\n",
       "  </thead>\n",
       "  <tbody>\n",
       "    <tr>\n",
       "      <th>0</th>\n",
       "      <td>Consumption Volume</td>\n",
       "      <td>Thousand tons</td>\n",
       "    </tr>\n",
       "    <tr>\n",
       "      <th>1</th>\n",
       "      <td>Consumption Value</td>\n",
       "      <td>Million USD</td>\n",
       "    </tr>\n",
       "    <tr>\n",
       "      <th>2</th>\n",
       "      <td>Production Volume</td>\n",
       "      <td>Thousand tons</td>\n",
       "    </tr>\n",
       "    <tr>\n",
       "      <th>3</th>\n",
       "      <td>Production Value</td>\n",
       "      <td>Million USD</td>\n",
       "    </tr>\n",
       "    <tr>\n",
       "      <th>4</th>\n",
       "      <td>Import Volume</td>\n",
       "      <td>Thousand tons</td>\n",
       "    </tr>\n",
       "    <tr>\n",
       "      <th>5</th>\n",
       "      <td>Import Value</td>\n",
       "      <td>Million USD</td>\n",
       "    </tr>\n",
       "    <tr>\n",
       "      <th>6</th>\n",
       "      <td>Export Volume</td>\n",
       "      <td>Thousand tons</td>\n",
       "    </tr>\n",
       "    <tr>\n",
       "      <th>7</th>\n",
       "      <td>Export Value</td>\n",
       "      <td>Million USD</td>\n",
       "    </tr>\n",
       "    <tr>\n",
       "      <th>8</th>\n",
       "      <td>Import Price</td>\n",
       "      <td>USD per Ton</td>\n",
       "    </tr>\n",
       "    <tr>\n",
       "      <th>9</th>\n",
       "      <td>Export Price</td>\n",
       "      <td>USD per Ton</td>\n",
       "    </tr>\n",
       "    <tr>\n",
       "      <th>10</th>\n",
       "      <td>Per Capita Consumption</td>\n",
       "      <td>Kg per Person</td>\n",
       "    </tr>\n",
       "    <tr>\n",
       "      <th>11</th>\n",
       "      <td>Net Export Volume</td>\n",
       "      <td>Thousand tons</td>\n",
       "    </tr>\n",
       "    <tr>\n",
       "      <th>12</th>\n",
       "      <td>Net Export Value</td>\n",
       "      <td>Million USD</td>\n",
       "    </tr>\n",
       "  </tbody>\n",
       "</table>\n",
       "</div>"
      ],
      "text/plain": [
       "                    FACTOR          UNITS\n",
       "0       Consumption Volume  Thousand tons\n",
       "1        Consumption Value    Million USD\n",
       "2        Production Volume  Thousand tons\n",
       "3         Production Value    Million USD\n",
       "4            Import Volume  Thousand tons\n",
       "5             Import Value    Million USD\n",
       "6            Export Volume  Thousand tons\n",
       "7             Export Value    Million USD\n",
       "8             Import Price    USD per Ton\n",
       "9             Export Price    USD per Ton\n",
       "10  Per Capita Consumption  Kg per Person\n",
       "11       Net Export Volume  Thousand tons\n",
       "12        Net Export Value    Million USD"
      ]
     },
     "execution_count": 417,
     "metadata": {},
     "output_type": "execute_result"
    }
   ],
   "source": [
    "cement_data.iloc[:13,:2]"
   ]
  },
  {
   "cell_type": "code",
   "execution_count": 418,
   "id": "0f690854",
   "metadata": {},
   "outputs": [],
   "source": [
    "# Define function to split data by country\n",
    "\n",
    "def cement_df(country, new_df, original_df):\n",
    "    new_df = original_df[original_df[\"Country\"]==country]\n",
    "    new_df = new_df.drop({\"Country\",\"Product\",\"UNITS\"}, axis='columns')\n",
    "    new_df = new_df.transpose()\n",
    "    new_df.columns = new_df.iloc[0]\n",
    "    new_df.drop(index=new_df.index[0], axis=0, inplace=True)\n",
    "    new_df.reset_index(inplace=True)\n",
    "    new_df.rename(columns= {\"index\":\"Year\"},inplace=True)\n",
    "    return new_df"
   ]
  },
  {
   "cell_type": "markdown",
   "id": "bbd0214b",
   "metadata": {},
   "source": [
    "<b>Reorganised Cement Data"
   ]
  },
  {
   "cell_type": "code",
   "execution_count": 419,
   "id": "b762123c",
   "metadata": {
    "scrolled": true
   },
   "outputs": [
    {
     "data": {
      "text/html": [
       "<div>\n",
       "<style scoped>\n",
       "    .dataframe tbody tr th:only-of-type {\n",
       "        vertical-align: middle;\n",
       "    }\n",
       "\n",
       "    .dataframe tbody tr th {\n",
       "        vertical-align: top;\n",
       "    }\n",
       "\n",
       "    .dataframe thead th {\n",
       "        text-align: right;\n",
       "    }\n",
       "</style>\n",
       "<table border=\"1\" class=\"dataframe\">\n",
       "  <thead>\n",
       "    <tr style=\"text-align: right;\">\n",
       "      <th>FACTOR</th>\n",
       "      <th>Year</th>\n",
       "      <th>Consumption Volume</th>\n",
       "      <th>Consumption Value</th>\n",
       "      <th>Production Volume</th>\n",
       "      <th>Production Value</th>\n",
       "      <th>Import Volume</th>\n",
       "      <th>Import Value</th>\n",
       "      <th>Export Volume</th>\n",
       "      <th>Export Value</th>\n",
       "      <th>Import Price</th>\n",
       "      <th>Export Price</th>\n",
       "      <th>Per Capita Consumption</th>\n",
       "      <th>Net Export Volume</th>\n",
       "      <th>Net Export Value</th>\n",
       "      <th>Code</th>\n",
       "    </tr>\n",
       "  </thead>\n",
       "  <tbody>\n",
       "    <tr>\n",
       "      <th>0</th>\n",
       "      <td>2007</td>\n",
       "      <td>3563.00</td>\n",
       "      <td>264.30</td>\n",
       "      <td>4003.00</td>\n",
       "      <td>146.70</td>\n",
       "      <td>684.40</td>\n",
       "      <td>65.50</td>\n",
       "      <td>1124.00</td>\n",
       "      <td>105.50</td>\n",
       "      <td>95.70</td>\n",
       "      <td>93.90</td>\n",
       "      <td>810.10</td>\n",
       "      <td>439.60</td>\n",
       "      <td>40.00</td>\n",
       "      <td>IRL</td>\n",
       "    </tr>\n",
       "    <tr>\n",
       "      <th>1</th>\n",
       "      <td>2008</td>\n",
       "      <td>3489.00</td>\n",
       "      <td>267.40</td>\n",
       "      <td>3900.00</td>\n",
       "      <td>160.20</td>\n",
       "      <td>735.40</td>\n",
       "      <td>65.40</td>\n",
       "      <td>1146.00</td>\n",
       "      <td>112.00</td>\n",
       "      <td>88.90</td>\n",
       "      <td>97.70</td>\n",
       "      <td>777.20</td>\n",
       "      <td>410.80</td>\n",
       "      <td>46.60</td>\n",
       "      <td>IRL</td>\n",
       "    </tr>\n",
       "    <tr>\n",
       "      <th>2</th>\n",
       "      <td>2009</td>\n",
       "      <td>1748.00</td>\n",
       "      <td>159.10</td>\n",
       "      <td>2600.00</td>\n",
       "      <td>175.10</td>\n",
       "      <td>204.10</td>\n",
       "      <td>23.00</td>\n",
       "      <td>1056.00</td>\n",
       "      <td>101.90</td>\n",
       "      <td>112.60</td>\n",
       "      <td>96.50</td>\n",
       "      <td>382.60</td>\n",
       "      <td>852.00</td>\n",
       "      <td>78.90</td>\n",
       "      <td>IRL</td>\n",
       "    </tr>\n",
       "    <tr>\n",
       "      <th>3</th>\n",
       "      <td>2010</td>\n",
       "      <td>1704.00</td>\n",
       "      <td>160.80</td>\n",
       "      <td>2600.00</td>\n",
       "      <td>191.30</td>\n",
       "      <td>138.70</td>\n",
       "      <td>13.90</td>\n",
       "      <td>1035.00</td>\n",
       "      <td>104.70</td>\n",
       "      <td>99.90</td>\n",
       "      <td>101.20</td>\n",
       "      <td>368.20</td>\n",
       "      <td>896.50</td>\n",
       "      <td>90.90</td>\n",
       "      <td>IRL</td>\n",
       "    </tr>\n",
       "    <tr>\n",
       "      <th>4</th>\n",
       "      <td>2011</td>\n",
       "      <td>1263.00</td>\n",
       "      <td>137.10</td>\n",
       "      <td>2103.00</td>\n",
       "      <td>209.00</td>\n",
       "      <td>104.30</td>\n",
       "      <td>10.90</td>\n",
       "      <td>944.60</td>\n",
       "      <td>94.00</td>\n",
       "      <td>104.60</td>\n",
       "      <td>99.50</td>\n",
       "      <td>270.80</td>\n",
       "      <td>840.30</td>\n",
       "      <td>83.10</td>\n",
       "      <td>IRL</td>\n",
       "    </tr>\n",
       "    <tr>\n",
       "      <th>5</th>\n",
       "      <td>2012</td>\n",
       "      <td>48.40</td>\n",
       "      <td>7.70</td>\n",
       "      <td>1198.00</td>\n",
       "      <td>228.40</td>\n",
       "      <td>90.70</td>\n",
       "      <td>10.70</td>\n",
       "      <td>1240.00</td>\n",
       "      <td>111.20</td>\n",
       "      <td>118.50</td>\n",
       "      <td>89.60</td>\n",
       "      <td>10.40</td>\n",
       "      <td>1150.00</td>\n",
       "      <td>100.40</td>\n",
       "      <td>IRL</td>\n",
       "    </tr>\n",
       "    <tr>\n",
       "      <th>6</th>\n",
       "      <td>2013</td>\n",
       "      <td>856.00</td>\n",
       "      <td>101.40</td>\n",
       "      <td>2000.00</td>\n",
       "      <td>234.90</td>\n",
       "      <td>92.30</td>\n",
       "      <td>10.00</td>\n",
       "      <td>1236.00</td>\n",
       "      <td>110.60</td>\n",
       "      <td>107.80</td>\n",
       "      <td>89.50</td>\n",
       "      <td>182.80</td>\n",
       "      <td>1144.00</td>\n",
       "      <td>100.60</td>\n",
       "      <td>IRL</td>\n",
       "    </tr>\n",
       "    <tr>\n",
       "      <th>7</th>\n",
       "      <td>2014</td>\n",
       "      <td>580.90</td>\n",
       "      <td>69.20</td>\n",
       "      <td>2000.00</td>\n",
       "      <td>237.60</td>\n",
       "      <td>106.70</td>\n",
       "      <td>9.50</td>\n",
       "      <td>1526.00</td>\n",
       "      <td>148.00</td>\n",
       "      <td>88.90</td>\n",
       "      <td>97.00</td>\n",
       "      <td>124.00</td>\n",
       "      <td>1419.00</td>\n",
       "      <td>138.50</td>\n",
       "      <td>IRL</td>\n",
       "    </tr>\n",
       "    <tr>\n",
       "      <th>8</th>\n",
       "      <td>2015</td>\n",
       "      <td>667.00</td>\n",
       "      <td>83.40</td>\n",
       "      <td>2500.00</td>\n",
       "      <td>323.70</td>\n",
       "      <td>89.80</td>\n",
       "      <td>7.00</td>\n",
       "      <td>1923.00</td>\n",
       "      <td>145.40</td>\n",
       "      <td>78.10</td>\n",
       "      <td>75.60</td>\n",
       "      <td>141.90</td>\n",
       "      <td>1833.00</td>\n",
       "      <td>138.40</td>\n",
       "      <td>IRL</td>\n",
       "    </tr>\n",
       "  </tbody>\n",
       "</table>\n",
       "</div>"
      ],
      "text/plain": [
       "FACTOR  Year Consumption Volume Consumption Value Production Volume  \\\n",
       "0       2007            3563.00            264.30           4003.00   \n",
       "1       2008            3489.00            267.40           3900.00   \n",
       "2       2009            1748.00            159.10           2600.00   \n",
       "3       2010            1704.00            160.80           2600.00   \n",
       "4       2011            1263.00            137.10           2103.00   \n",
       "5       2012              48.40              7.70           1198.00   \n",
       "6       2013             856.00            101.40           2000.00   \n",
       "7       2014             580.90             69.20           2000.00   \n",
       "8       2015             667.00             83.40           2500.00   \n",
       "\n",
       "FACTOR Production Value Import Volume Import Value Export Volume Export Value  \\\n",
       "0                146.70        684.40        65.50       1124.00       105.50   \n",
       "1                160.20        735.40        65.40       1146.00       112.00   \n",
       "2                175.10        204.10        23.00       1056.00       101.90   \n",
       "3                191.30        138.70        13.90       1035.00       104.70   \n",
       "4                209.00        104.30        10.90        944.60        94.00   \n",
       "5                228.40         90.70        10.70       1240.00       111.20   \n",
       "6                234.90         92.30        10.00       1236.00       110.60   \n",
       "7                237.60        106.70         9.50       1526.00       148.00   \n",
       "8                323.70         89.80         7.00       1923.00       145.40   \n",
       "\n",
       "FACTOR Import Price Export Price Per Capita Consumption Net Export Volume  \\\n",
       "0             95.70        93.90                 810.10            439.60   \n",
       "1             88.90        97.70                 777.20            410.80   \n",
       "2            112.60        96.50                 382.60            852.00   \n",
       "3             99.90       101.20                 368.20            896.50   \n",
       "4            104.60        99.50                 270.80            840.30   \n",
       "5            118.50        89.60                  10.40           1150.00   \n",
       "6            107.80        89.50                 182.80           1144.00   \n",
       "7             88.90        97.00                 124.00           1419.00   \n",
       "8             78.10        75.60                 141.90           1833.00   \n",
       "\n",
       "FACTOR Net Export Value Code  \n",
       "0                 40.00  IRL  \n",
       "1                 46.60  IRL  \n",
       "2                 78.90  IRL  \n",
       "3                 90.90  IRL  \n",
       "4                 83.10  IRL  \n",
       "5                100.40  IRL  \n",
       "6                100.60  IRL  \n",
       "7                138.50  IRL  \n",
       "8                138.40  IRL  "
      ]
     },
     "execution_count": 419,
     "metadata": {},
     "output_type": "execute_result"
    }
   ],
   "source": [
    "# Ireland cement data\n",
    "ireland_cement = cement_df(country=\"Ireland\", new_df=\"ireland_cement\", original_df=cement_data)\n",
    "ireland_cement[\"Code\"] = \"IRL\"\n",
    "ireland_cement"
   ]
  },
  {
   "cell_type": "code",
   "execution_count": 420,
   "id": "a4d8da70",
   "metadata": {},
   "outputs": [],
   "source": [
    "# United States cement data\n",
    "\n",
    "usa_cement = cement_df(country=\"USA\", new_df=\"usa_cement\", original_df=cement_data)\n",
    "usa_cement[\"Code\"] = \"USA\"\n",
    "#usa_cement"
   ]
  },
  {
   "cell_type": "code",
   "execution_count": 421,
   "id": "21f46d68",
   "metadata": {},
   "outputs": [],
   "source": [
    "# Brazil cement data\n",
    "\n",
    "brazil_cement = cement_df(country=\"Brazil\", new_df=\"brazil_cement\", original_df=cement_data)\n",
    "brazil_cement[\"Code\"] = \"BRA\"\n",
    "#brazil_cement"
   ]
  },
  {
   "cell_type": "code",
   "execution_count": 422,
   "id": "9372158a",
   "metadata": {},
   "outputs": [],
   "source": [
    "# China cement data\n",
    "\n",
    "china_cement = cement_df(country=\"China\", new_df=\"china_cement\", original_df=cement_data)\n",
    "china_cement[\"Code\"] = \"CHN\"\n",
    "#china_cement"
   ]
  },
  {
   "cell_type": "code",
   "execution_count": 423,
   "id": "30844892",
   "metadata": {},
   "outputs": [],
   "source": [
    "# Germany cement data\n",
    "\n",
    "germany_cement = cement_df(country=\"Germany\", new_df=\"germany_cement\", original_df=cement_data)\n",
    "germany_cement[\"Code\"] = \"DEU\"\n",
    "#germany_cement"
   ]
  },
  {
   "cell_type": "code",
   "execution_count": 424,
   "id": "f8b1db28",
   "metadata": {},
   "outputs": [],
   "source": [
    "# Russia cement data\n",
    "\n",
    "russia_cement = cement_df(country=\"Russia\", new_df=\"russia_cement\", original_df=cement_data)\n",
    "russia_cement[\"Code\"] = \"RUS\"\n",
    "#russia_cement"
   ]
  },
  {
   "cell_type": "code",
   "execution_count": 425,
   "id": "20213a91",
   "metadata": {},
   "outputs": [],
   "source": [
    "# Australia cement data\n",
    "\n",
    "australia_cement = cement_df(country=\"Australia\", new_df=\"australia_cement\", original_df=cement_data)\n",
    "australia_cement[\"Code\"] = \"AUS\"\n",
    "#australia_cement"
   ]
  },
  {
   "cell_type": "code",
   "execution_count": 426,
   "id": "79b09d4c",
   "metadata": {},
   "outputs": [],
   "source": [
    "# Vietnam cement data\n",
    "\n",
    "vietnam_cement = cement_df(country=\"Vietnam\", new_df=\"vietnam_cement\", original_df=cement_data)\n",
    "vietnam_cement[\"Code\"] = \"VNM\"\n",
    "#vietnam_cement"
   ]
  },
  {
   "cell_type": "code",
   "execution_count": 427,
   "id": "60b19258",
   "metadata": {},
   "outputs": [],
   "source": [
    "# Japan cement data\n",
    "\n",
    "japan_cement = cement_df(country=\"Japan\", new_df=\"japan_cement\", original_df=cement_data)\n",
    "japan_cement[\"Code\"] = \"JPN\"\n",
    "#japan_cement"
   ]
  },
  {
   "cell_type": "code",
   "execution_count": 428,
   "id": "cf0d0f12",
   "metadata": {},
   "outputs": [],
   "source": [
    "# Iran cement data\n",
    "\n",
    "iran_cement = cement_df(country=\"Iran\", new_df=\"iran_cement\", original_df=cement_data)\n",
    "iran_cement[\"Code\"] = \"IRN\"\n",
    "#iran_cement"
   ]
  },
  {
   "cell_type": "markdown",
   "id": "a73bb475",
   "metadata": {},
   "source": [
    "<b> Check Data type"
   ]
  },
  {
   "cell_type": "code",
   "execution_count": 429,
   "id": "a3acba77",
   "metadata": {
    "scrolled": true
   },
   "outputs": [
    {
     "name": "stdout",
     "output_type": "stream",
     "text": [
      "<class 'pandas.core.frame.DataFrame'>\n",
      "RangeIndex: 9 entries, 0 to 8\n",
      "Data columns (total 15 columns):\n",
      " #   Column                  Non-Null Count  Dtype \n",
      "---  ------                  --------------  ----- \n",
      " 0   Year                    9 non-null      object\n",
      " 1   Consumption Volume      9 non-null      object\n",
      " 2   Consumption Value       9 non-null      object\n",
      " 3   Production Volume       9 non-null      object\n",
      " 4   Production Value        9 non-null      object\n",
      " 5   Import Volume           9 non-null      object\n",
      " 6   Import Value            9 non-null      object\n",
      " 7   Export Volume           9 non-null      object\n",
      " 8   Export Value            9 non-null      object\n",
      " 9   Import Price            9 non-null      object\n",
      " 10  Export Price            9 non-null      object\n",
      " 11  Per Capita Consumption  9 non-null      object\n",
      " 12  Net Export Volume       9 non-null      object\n",
      " 13  Net Export Value        9 non-null      object\n",
      " 14  Code                    9 non-null      object\n",
      "dtypes: object(15)\n",
      "memory usage: 1.2+ KB\n"
     ]
    }
   ],
   "source": [
    "# Check data type\n",
    "ireland_cement.info()"
   ]
  },
  {
   "cell_type": "code",
   "execution_count": 430,
   "id": "6509c53f",
   "metadata": {},
   "outputs": [],
   "source": [
    "# Dtype is object.\n",
    "# Create a function to convert object to number\n",
    "def convert_2num(df):\n",
    "    df[\"Year\"] = pd.to_numeric(df[\"Year\"])\n",
    "    df[\"Consumption Volume\"] = pd.to_numeric(df[\"Consumption Volume\"])\n",
    "    df[\"Consumption Value\"] = pd.to_numeric(df[\"Consumption Value\"])\n",
    "    df[\"Production Volume\"] = pd.to_numeric(df[\"Production Volume\"])\n",
    "    df[\"Production Value\"] = pd.to_numeric(df[\"Production Value\"])\n",
    "    df[\"Import Volume\"] = pd.to_numeric(df[\"Import Volume\"])\n",
    "    df[\"Import Value\"] = pd.to_numeric(df[\"Import Value\"])\n",
    "    df[\"Export Volume\"] = pd.to_numeric(df[\"Export Volume\"])\n",
    "    df[\"Export Value\"] = pd.to_numeric(df[\"Export Value\"])\n",
    "    df[\"Import Price\"] = pd.to_numeric(df[\"Import Price\"])\n",
    "    df[\"Export Price\"] = pd.to_numeric(df[\"Export Price\"])\n",
    "    df[\"Per Capita Consumption\"] = pd.to_numeric(df[\"Per Capita Consumption\"])\n",
    "\n",
    "# Use the function to all countries \n",
    "convert_2num(ireland_cement)\n",
    "convert_2num(usa_cement)\n",
    "convert_2num(brazil_cement)\n",
    "convert_2num(china_cement)\n",
    "convert_2num(germany_cement)\n",
    "convert_2num(russia_cement)\n",
    "convert_2num(australia_cement)\n",
    "convert_2num(vietnam_cement)\n",
    "convert_2num(japan_cement)\n",
    "convert_2num(iran_cement)"
   ]
  },
  {
   "cell_type": "markdown",
   "id": "e84e6d77",
   "metadata": {},
   "source": [
    "<b>Using function .describe() after converting dtype to number"
   ]
  },
  {
   "cell_type": "code",
   "execution_count": 431,
   "id": "6c28a3ec",
   "metadata": {
    "scrolled": false
   },
   "outputs": [
    {
     "data": {
      "text/html": [
       "<div>\n",
       "<style scoped>\n",
       "    .dataframe tbody tr th:only-of-type {\n",
       "        vertical-align: middle;\n",
       "    }\n",
       "\n",
       "    .dataframe tbody tr th {\n",
       "        vertical-align: top;\n",
       "    }\n",
       "\n",
       "    .dataframe thead th {\n",
       "        text-align: right;\n",
       "    }\n",
       "</style>\n",
       "<table border=\"1\" class=\"dataframe\">\n",
       "  <thead>\n",
       "    <tr style=\"text-align: right;\">\n",
       "      <th>FACTOR</th>\n",
       "      <th>Year</th>\n",
       "      <th>Consumption Volume</th>\n",
       "      <th>Consumption Value</th>\n",
       "      <th>Production Volume</th>\n",
       "      <th>Production Value</th>\n",
       "      <th>Import Volume</th>\n",
       "      <th>Import Value</th>\n",
       "      <th>Export Volume</th>\n",
       "      <th>Export Value</th>\n",
       "      <th>Import Price</th>\n",
       "      <th>Export Price</th>\n",
       "      <th>Per Capita Consumption</th>\n",
       "    </tr>\n",
       "  </thead>\n",
       "  <tbody>\n",
       "    <tr>\n",
       "      <th>count</th>\n",
       "      <td>9.000000</td>\n",
       "      <td>9.000000</td>\n",
       "      <td>9.000000</td>\n",
       "      <td>9.000000</td>\n",
       "      <td>9.000000</td>\n",
       "      <td>9.000000</td>\n",
       "      <td>9.000000</td>\n",
       "      <td>9.000000</td>\n",
       "      <td>9.000000</td>\n",
       "      <td>9.000000</td>\n",
       "      <td>9.000000</td>\n",
       "      <td>9.000000</td>\n",
       "    </tr>\n",
       "    <tr>\n",
       "      <th>mean</th>\n",
       "      <td>2011.000000</td>\n",
       "      <td>1546.588889</td>\n",
       "      <td>138.933333</td>\n",
       "      <td>2544.888889</td>\n",
       "      <td>211.877778</td>\n",
       "      <td>249.600000</td>\n",
       "      <td>23.988889</td>\n",
       "      <td>1247.844444</td>\n",
       "      <td>114.811111</td>\n",
       "      <td>99.444444</td>\n",
       "      <td>93.388889</td>\n",
       "      <td>340.888889</td>\n",
       "    </tr>\n",
       "    <tr>\n",
       "      <th>std</th>\n",
       "      <td>2.738613</td>\n",
       "      <td>1245.610124</td>\n",
       "      <td>86.375865</td>\n",
       "      <td>906.482687</td>\n",
       "      <td>53.235227</td>\n",
       "      <td>263.742957</td>\n",
       "      <td>23.934726</td>\n",
       "      <td>302.733658</td>\n",
       "      <td>18.922833</td>\n",
       "      <td>12.868383</td>\n",
       "      <td>7.793017</td>\n",
       "      <td>282.572333</td>\n",
       "    </tr>\n",
       "    <tr>\n",
       "      <th>min</th>\n",
       "      <td>2007.000000</td>\n",
       "      <td>48.400000</td>\n",
       "      <td>7.700000</td>\n",
       "      <td>1198.000000</td>\n",
       "      <td>146.700000</td>\n",
       "      <td>89.800000</td>\n",
       "      <td>7.000000</td>\n",
       "      <td>944.600000</td>\n",
       "      <td>94.000000</td>\n",
       "      <td>78.100000</td>\n",
       "      <td>75.600000</td>\n",
       "      <td>10.400000</td>\n",
       "    </tr>\n",
       "    <tr>\n",
       "      <th>25%</th>\n",
       "      <td>2009.000000</td>\n",
       "      <td>667.000000</td>\n",
       "      <td>83.400000</td>\n",
       "      <td>2000.000000</td>\n",
       "      <td>175.100000</td>\n",
       "      <td>92.300000</td>\n",
       "      <td>10.000000</td>\n",
       "      <td>1056.000000</td>\n",
       "      <td>104.700000</td>\n",
       "      <td>88.900000</td>\n",
       "      <td>89.600000</td>\n",
       "      <td>141.900000</td>\n",
       "    </tr>\n",
       "    <tr>\n",
       "      <th>50%</th>\n",
       "      <td>2011.000000</td>\n",
       "      <td>1263.000000</td>\n",
       "      <td>137.100000</td>\n",
       "      <td>2500.000000</td>\n",
       "      <td>209.000000</td>\n",
       "      <td>106.700000</td>\n",
       "      <td>10.900000</td>\n",
       "      <td>1146.000000</td>\n",
       "      <td>110.600000</td>\n",
       "      <td>99.900000</td>\n",
       "      <td>96.500000</td>\n",
       "      <td>270.800000</td>\n",
       "    </tr>\n",
       "    <tr>\n",
       "      <th>75%</th>\n",
       "      <td>2013.000000</td>\n",
       "      <td>1748.000000</td>\n",
       "      <td>160.800000</td>\n",
       "      <td>2600.000000</td>\n",
       "      <td>234.900000</td>\n",
       "      <td>204.100000</td>\n",
       "      <td>23.000000</td>\n",
       "      <td>1240.000000</td>\n",
       "      <td>112.000000</td>\n",
       "      <td>107.800000</td>\n",
       "      <td>97.700000</td>\n",
       "      <td>382.600000</td>\n",
       "    </tr>\n",
       "    <tr>\n",
       "      <th>max</th>\n",
       "      <td>2015.000000</td>\n",
       "      <td>3563.000000</td>\n",
       "      <td>267.400000</td>\n",
       "      <td>4003.000000</td>\n",
       "      <td>323.700000</td>\n",
       "      <td>735.400000</td>\n",
       "      <td>65.500000</td>\n",
       "      <td>1923.000000</td>\n",
       "      <td>148.000000</td>\n",
       "      <td>118.500000</td>\n",
       "      <td>101.200000</td>\n",
       "      <td>810.100000</td>\n",
       "    </tr>\n",
       "  </tbody>\n",
       "</table>\n",
       "</div>"
      ],
      "text/plain": [
       "FACTOR         Year  Consumption Volume  Consumption Value  Production Volume  \\\n",
       "count      9.000000            9.000000           9.000000           9.000000   \n",
       "mean    2011.000000         1546.588889         138.933333        2544.888889   \n",
       "std        2.738613         1245.610124          86.375865         906.482687   \n",
       "min     2007.000000           48.400000           7.700000        1198.000000   \n",
       "25%     2009.000000          667.000000          83.400000        2000.000000   \n",
       "50%     2011.000000         1263.000000         137.100000        2500.000000   \n",
       "75%     2013.000000         1748.000000         160.800000        2600.000000   \n",
       "max     2015.000000         3563.000000         267.400000        4003.000000   \n",
       "\n",
       "FACTOR  Production Value  Import Volume  Import Value  Export Volume  \\\n",
       "count           9.000000       9.000000      9.000000       9.000000   \n",
       "mean          211.877778     249.600000     23.988889    1247.844444   \n",
       "std            53.235227     263.742957     23.934726     302.733658   \n",
       "min           146.700000      89.800000      7.000000     944.600000   \n",
       "25%           175.100000      92.300000     10.000000    1056.000000   \n",
       "50%           209.000000     106.700000     10.900000    1146.000000   \n",
       "75%           234.900000     204.100000     23.000000    1240.000000   \n",
       "max           323.700000     735.400000     65.500000    1923.000000   \n",
       "\n",
       "FACTOR  Export Value  Import Price  Export Price  Per Capita Consumption  \n",
       "count       9.000000      9.000000      9.000000                9.000000  \n",
       "mean      114.811111     99.444444     93.388889              340.888889  \n",
       "std        18.922833     12.868383      7.793017              282.572333  \n",
       "min        94.000000     78.100000     75.600000               10.400000  \n",
       "25%       104.700000     88.900000     89.600000              141.900000  \n",
       "50%       110.600000     99.900000     96.500000              270.800000  \n",
       "75%       112.000000    107.800000     97.700000              382.600000  \n",
       "max       148.000000    118.500000    101.200000              810.100000  "
      ]
     },
     "execution_count": 431,
     "metadata": {},
     "output_type": "execute_result"
    }
   ],
   "source": [
    "ireland_cement.describe()"
   ]
  },
  {
   "cell_type": "markdown",
   "id": "52618742",
   "metadata": {},
   "source": [
    "<b>New dataframe with merged and cleaned cement data (Ireland, United States, Brazil, China, Germany, Russia, Australia, Vietnam, Japan and Iran)"
   ]
  },
  {
   "cell_type": "code",
   "execution_count": 432,
   "id": "3c8ff55c",
   "metadata": {},
   "outputs": [
    {
     "data": {
      "text/html": [
       "<div>\n",
       "<style scoped>\n",
       "    .dataframe tbody tr th:only-of-type {\n",
       "        vertical-align: middle;\n",
       "    }\n",
       "\n",
       "    .dataframe tbody tr th {\n",
       "        vertical-align: top;\n",
       "    }\n",
       "\n",
       "    .dataframe thead th {\n",
       "        text-align: right;\n",
       "    }\n",
       "</style>\n",
       "<table border=\"1\" class=\"dataframe\">\n",
       "  <thead>\n",
       "    <tr style=\"text-align: right;\">\n",
       "      <th>FACTOR</th>\n",
       "      <th>Year</th>\n",
       "      <th>Consumption Volume</th>\n",
       "      <th>Consumption Value</th>\n",
       "      <th>Production Volume</th>\n",
       "      <th>Production Value</th>\n",
       "      <th>Import Volume</th>\n",
       "      <th>Import Value</th>\n",
       "      <th>Export Volume</th>\n",
       "      <th>Export Value</th>\n",
       "      <th>Import Price</th>\n",
       "      <th>Export Price</th>\n",
       "      <th>Per Capita Consumption</th>\n",
       "      <th>Net Export Volume</th>\n",
       "      <th>Net Export Value</th>\n",
       "      <th>Code</th>\n",
       "    </tr>\n",
       "  </thead>\n",
       "  <tbody>\n",
       "    <tr>\n",
       "      <th>0</th>\n",
       "      <td>2007</td>\n",
       "      <td>3563.0</td>\n",
       "      <td>264.3</td>\n",
       "      <td>4003.0</td>\n",
       "      <td>146.7</td>\n",
       "      <td>684.4</td>\n",
       "      <td>65.5</td>\n",
       "      <td>1124.0</td>\n",
       "      <td>105.5</td>\n",
       "      <td>95.7</td>\n",
       "      <td>93.9</td>\n",
       "      <td>810.1</td>\n",
       "      <td>439.60</td>\n",
       "      <td>40.00</td>\n",
       "      <td>IRL</td>\n",
       "    </tr>\n",
       "    <tr>\n",
       "      <th>1</th>\n",
       "      <td>2008</td>\n",
       "      <td>3489.0</td>\n",
       "      <td>267.4</td>\n",
       "      <td>3900.0</td>\n",
       "      <td>160.2</td>\n",
       "      <td>735.4</td>\n",
       "      <td>65.4</td>\n",
       "      <td>1146.0</td>\n",
       "      <td>112.0</td>\n",
       "      <td>88.9</td>\n",
       "      <td>97.7</td>\n",
       "      <td>777.2</td>\n",
       "      <td>410.80</td>\n",
       "      <td>46.60</td>\n",
       "      <td>IRL</td>\n",
       "    </tr>\n",
       "    <tr>\n",
       "      <th>2</th>\n",
       "      <td>2009</td>\n",
       "      <td>1748.0</td>\n",
       "      <td>159.1</td>\n",
       "      <td>2600.0</td>\n",
       "      <td>175.1</td>\n",
       "      <td>204.1</td>\n",
       "      <td>23.0</td>\n",
       "      <td>1056.0</td>\n",
       "      <td>101.9</td>\n",
       "      <td>112.6</td>\n",
       "      <td>96.5</td>\n",
       "      <td>382.6</td>\n",
       "      <td>852.00</td>\n",
       "      <td>78.90</td>\n",
       "      <td>IRL</td>\n",
       "    </tr>\n",
       "    <tr>\n",
       "      <th>3</th>\n",
       "      <td>2010</td>\n",
       "      <td>1704.0</td>\n",
       "      <td>160.8</td>\n",
       "      <td>2600.0</td>\n",
       "      <td>191.3</td>\n",
       "      <td>138.7</td>\n",
       "      <td>13.9</td>\n",
       "      <td>1035.0</td>\n",
       "      <td>104.7</td>\n",
       "      <td>99.9</td>\n",
       "      <td>101.2</td>\n",
       "      <td>368.2</td>\n",
       "      <td>896.50</td>\n",
       "      <td>90.90</td>\n",
       "      <td>IRL</td>\n",
       "    </tr>\n",
       "    <tr>\n",
       "      <th>4</th>\n",
       "      <td>2011</td>\n",
       "      <td>1263.0</td>\n",
       "      <td>137.1</td>\n",
       "      <td>2103.0</td>\n",
       "      <td>209.0</td>\n",
       "      <td>104.3</td>\n",
       "      <td>10.9</td>\n",
       "      <td>944.6</td>\n",
       "      <td>94.0</td>\n",
       "      <td>104.6</td>\n",
       "      <td>99.5</td>\n",
       "      <td>270.8</td>\n",
       "      <td>840.30</td>\n",
       "      <td>83.10</td>\n",
       "      <td>IRL</td>\n",
       "    </tr>\n",
       "    <tr>\n",
       "      <th>...</th>\n",
       "      <td>...</td>\n",
       "      <td>...</td>\n",
       "      <td>...</td>\n",
       "      <td>...</td>\n",
       "      <td>...</td>\n",
       "      <td>...</td>\n",
       "      <td>...</td>\n",
       "      <td>...</td>\n",
       "      <td>...</td>\n",
       "      <td>...</td>\n",
       "      <td>...</td>\n",
       "      <td>...</td>\n",
       "      <td>...</td>\n",
       "      <td>...</td>\n",
       "      <td>...</td>\n",
       "    </tr>\n",
       "    <tr>\n",
       "      <th>85</th>\n",
       "      <td>2011</td>\n",
       "      <td>65043.0</td>\n",
       "      <td>4129.0</td>\n",
       "      <td>66000.0</td>\n",
       "      <td>3394.0</td>\n",
       "      <td>9.0</td>\n",
       "      <td>7.0</td>\n",
       "      <td>965.9</td>\n",
       "      <td>60.4</td>\n",
       "      <td>773.8</td>\n",
       "      <td>62.5</td>\n",
       "      <td>861.6</td>\n",
       "      <td>956.9</td>\n",
       "      <td>53.4</td>\n",
       "      <td>IRN</td>\n",
       "    </tr>\n",
       "    <tr>\n",
       "      <th>86</th>\n",
       "      <td>2012</td>\n",
       "      <td>69023.0</td>\n",
       "      <td>4610.0</td>\n",
       "      <td>70250.0</td>\n",
       "      <td>3903.0</td>\n",
       "      <td>31.7</td>\n",
       "      <td>6.0</td>\n",
       "      <td>1258.0</td>\n",
       "      <td>78.7</td>\n",
       "      <td>189.3</td>\n",
       "      <td>62.5</td>\n",
       "      <td>902.8</td>\n",
       "      <td>1227</td>\n",
       "      <td>72.7</td>\n",
       "      <td>IRN</td>\n",
       "    </tr>\n",
       "    <tr>\n",
       "      <th>87</th>\n",
       "      <td>2013</td>\n",
       "      <td>66773.0</td>\n",
       "      <td>4984.0</td>\n",
       "      <td>68700.0</td>\n",
       "      <td>4489.0</td>\n",
       "      <td>41.1</td>\n",
       "      <td>13.6</td>\n",
       "      <td>1968.0</td>\n",
       "      <td>117.2</td>\n",
       "      <td>330.6</td>\n",
       "      <td>59.6</td>\n",
       "      <td>862.3</td>\n",
       "      <td>1927</td>\n",
       "      <td>103.7</td>\n",
       "      <td>IRN</td>\n",
       "    </tr>\n",
       "    <tr>\n",
       "      <th>88</th>\n",
       "      <td>2014</td>\n",
       "      <td>62749.0</td>\n",
       "      <td>5290.0</td>\n",
       "      <td>66700.0</td>\n",
       "      <td>5162.0</td>\n",
       "      <td>47.9</td>\n",
       "      <td>10.8</td>\n",
       "      <td>3999.0</td>\n",
       "      <td>297.8</td>\n",
       "      <td>225.8</td>\n",
       "      <td>74.5</td>\n",
       "      <td>800.3</td>\n",
       "      <td>3951</td>\n",
       "      <td>286.9</td>\n",
       "      <td>IRN</td>\n",
       "    </tr>\n",
       "    <tr>\n",
       "      <th>89</th>\n",
       "      <td>2015</td>\n",
       "      <td>49749.0</td>\n",
       "      <td>5148.0</td>\n",
       "      <td>58600.0</td>\n",
       "      <td>5936.0</td>\n",
       "      <td>31.2</td>\n",
       "      <td>8.6</td>\n",
       "      <td>8883.0</td>\n",
       "      <td>530.6</td>\n",
       "      <td>275.3</td>\n",
       "      <td>59.7</td>\n",
       "      <td>626.9</td>\n",
       "      <td>8851</td>\n",
       "      <td>522</td>\n",
       "      <td>IRN</td>\n",
       "    </tr>\n",
       "  </tbody>\n",
       "</table>\n",
       "<p>90 rows × 15 columns</p>\n",
       "</div>"
      ],
      "text/plain": [
       "FACTOR  Year  Consumption Volume  Consumption Value  Production Volume  \\\n",
       "0       2007              3563.0              264.3             4003.0   \n",
       "1       2008              3489.0              267.4             3900.0   \n",
       "2       2009              1748.0              159.1             2600.0   \n",
       "3       2010              1704.0              160.8             2600.0   \n",
       "4       2011              1263.0              137.1             2103.0   \n",
       "..       ...                 ...                ...                ...   \n",
       "85      2011             65043.0             4129.0            66000.0   \n",
       "86      2012             69023.0             4610.0            70250.0   \n",
       "87      2013             66773.0             4984.0            68700.0   \n",
       "88      2014             62749.0             5290.0            66700.0   \n",
       "89      2015             49749.0             5148.0            58600.0   \n",
       "\n",
       "FACTOR  Production Value  Import Volume  Import Value  Export Volume  \\\n",
       "0                  146.7          684.4          65.5         1124.0   \n",
       "1                  160.2          735.4          65.4         1146.0   \n",
       "2                  175.1          204.1          23.0         1056.0   \n",
       "3                  191.3          138.7          13.9         1035.0   \n",
       "4                  209.0          104.3          10.9          944.6   \n",
       "..                   ...            ...           ...            ...   \n",
       "85                3394.0            9.0           7.0          965.9   \n",
       "86                3903.0           31.7           6.0         1258.0   \n",
       "87                4489.0           41.1          13.6         1968.0   \n",
       "88                5162.0           47.9          10.8         3999.0   \n",
       "89                5936.0           31.2           8.6         8883.0   \n",
       "\n",
       "FACTOR  Export Value  Import Price  Export Price  Per Capita Consumption  \\\n",
       "0              105.5          95.7          93.9                   810.1   \n",
       "1              112.0          88.9          97.7                   777.2   \n",
       "2              101.9         112.6          96.5                   382.6   \n",
       "3              104.7          99.9         101.2                   368.2   \n",
       "4               94.0         104.6          99.5                   270.8   \n",
       "..               ...           ...           ...                     ...   \n",
       "85              60.4         773.8          62.5                   861.6   \n",
       "86              78.7         189.3          62.5                   902.8   \n",
       "87             117.2         330.6          59.6                   862.3   \n",
       "88             297.8         225.8          74.5                   800.3   \n",
       "89             530.6         275.3          59.7                   626.9   \n",
       "\n",
       "FACTOR Net Export Volume Net Export Value Code  \n",
       "0                 439.60            40.00  IRL  \n",
       "1                 410.80            46.60  IRL  \n",
       "2                 852.00            78.90  IRL  \n",
       "3                 896.50            90.90  IRL  \n",
       "4                 840.30            83.10  IRL  \n",
       "..                   ...              ...  ...  \n",
       "85                 956.9             53.4  IRN  \n",
       "86                  1227             72.7  IRN  \n",
       "87                  1927            103.7  IRN  \n",
       "88                  3951            286.9  IRN  \n",
       "89                  8851              522  IRN  \n",
       "\n",
       "[90 rows x 15 columns]"
      ]
     },
     "execution_count": 432,
     "metadata": {},
     "output_type": "execute_result"
    }
   ],
   "source": [
    "# Merge data\n",
    "\n",
    "cement_merge = pd.merge(ireland_cement,usa_cement, how=\"outer\")\n",
    "cement_merge = pd.merge(cement_merge,brazil_cement, how=\"outer\")\n",
    "cement_merge = pd.merge(cement_merge,china_cement, how=\"outer\")\n",
    "cement_merge = pd.merge(cement_merge,germany_cement, how=\"outer\")\n",
    "cement_merge = pd.merge(cement_merge,russia_cement, how=\"outer\")\n",
    "cement_merge = pd.merge(cement_merge,australia_cement, how=\"outer\")\n",
    "cement_merge = pd.merge(cement_merge,vietnam_cement, how=\"outer\")\n",
    "cement_merge = pd.merge(cement_merge,japan_cement, how=\"outer\")\n",
    "cement_merge = pd.merge(cement_merge,iran_cement, how=\"outer\")\n",
    "\n",
    "cement_merge"
   ]
  },
  {
   "cell_type": "markdown",
   "id": "0cf966b8",
   "metadata": {},
   "source": [
    "### Data visualisation"
   ]
  },
  {
   "cell_type": "code",
   "execution_count": 433,
   "id": "8897c77a",
   "metadata": {},
   "outputs": [
    {
     "data": {
      "image/png": "[encoded data removed]",
      "text/plain": [
       "<Figure size 750x350 with 1 Axes>"
      ]
     },
     "metadata": {},
     "output_type": "display_data"
    }
   ],
   "source": [
    "# Plot Cement Consumption Volume (Thousand tons) \n",
    "# Create figure and set of subplots\n",
    "fig, ax = plt.subplots()\n",
    "\n",
    "ax.plot(cement_merge[cement_merge[\"Code\"]==\"IRL\"][\"Year\"], cement_merge[cement_merge[\"Code\"]==\"IRL\"][\"Consumption Volume\"], label=\"Ireland\")\n",
    "ax.plot(cement_merge[cement_merge[\"Code\"]==\"USA\"][\"Year\"], cement_merge[cement_merge[\"Code\"]==\"USA\"][\"Consumption Volume\"], label=\"United States\")\n",
    "ax.plot(cement_merge[cement_merge[\"Code\"]==\"BRA\"][\"Year\"], cement_merge[cement_merge[\"Code\"]==\"BRA\"][\"Consumption Volume\"], label=\"Brazil\")\n",
    "ax.plot(cement_merge[cement_merge[\"Code\"]==\"CHN\"][\"Year\"], cement_merge[cement_merge[\"Code\"]==\"CHN\"][\"Consumption Volume\"], label=\"China\")\n",
    "ax.plot(cement_merge[cement_merge[\"Code\"]==\"DEU\"][\"Year\"], cement_merge[cement_merge[\"Code\"]==\"DEU\"][\"Consumption Volume\"], label=\"Germany\")\n",
    "ax.plot(cement_merge[cement_merge[\"Code\"]==\"RUS\"][\"Year\"], cement_merge[cement_merge[\"Code\"]==\"RUS\"][\"Consumption Volume\"], label=\"Russia\")\n",
    "ax.plot(cement_merge[cement_merge[\"Code\"]==\"AUS\"][\"Year\"], cement_merge[cement_merge[\"Code\"]==\"AUS\"][\"Consumption Volume\"], label=\"Australia\")\n",
    "ax.plot(cement_merge[cement_merge[\"Code\"]==\"VNM\"][\"Year\"], cement_merge[cement_merge[\"Code\"]==\"VNM\"][\"Consumption Volume\"], label=\"Vietnam\")\n",
    "ax.plot(cement_merge[cement_merge[\"Code\"]==\"JPN\"][\"Year\"], cement_merge[cement_merge[\"Code\"]==\"JPN\"][\"Consumption Volume\"], label=\"Japan\")\n",
    "ax.plot(cement_merge[cement_merge[\"Code\"]==\"IRN\"][\"Year\"], cement_merge[cement_merge[\"Code\"]==\"IRN\"][\"Consumption Volume\"], label=\"Iran\")\n",
    "\n",
    "\n",
    "# Config graphic\n",
    "plt.rc(\"figure\", autolayout=True, figsize=(20, 4))\n",
    "plt.title(\"Cement Consumption Volume (Thousand tons) from 2007 to 2015\")\n",
    "plt.xlabel(\"Year\")\n",
    "plt.ylabel(\"Thousand tons\")\n",
    "plt.xticks(rotation=45)\n",
    "ax.legend(loc='center left', bbox_to_anchor=(1, 0.5))\n",
    "\n",
    "# Display graphic\n",
    "plt.show()"
   ]
  },
  {
   "cell_type": "code",
   "execution_count": 434,
   "id": "36dc21e5",
   "metadata": {
    "scrolled": false
   },
   "outputs": [
    {
     "data": {
      "image/png": "[encoded data removed]",
      "text/plain": [
       "<Figure size 2000x400 with 1 Axes>"
      ]
     },
     "metadata": {},
     "output_type": "display_data"
    }
   ],
   "source": [
    "# Plot Cement Consumption Volume (Thousand tons) excluding China\n",
    "# Create figure and set of subplots\n",
    "fig, ax = plt.subplots()\n",
    "\n",
    "ax.plot(cement_merge[cement_merge[\"Code\"]==\"IRL\"][\"Year\"], cement_merge[cement_merge[\"Code\"]==\"IRL\"][\"Consumption Volume\"], label=\"Ireland\")\n",
    "ax.plot(cement_merge[cement_merge[\"Code\"]==\"USA\"][\"Year\"], cement_merge[cement_merge[\"Code\"]==\"USA\"][\"Consumption Volume\"], label=\"United States\")\n",
    "ax.plot(cement_merge[cement_merge[\"Code\"]==\"BRA\"][\"Year\"], cement_merge[cement_merge[\"Code\"]==\"BRA\"][\"Consumption Volume\"], label=\"Brazil\")\n",
    "#ax.plot(cement_merge[cement_merge[\"Code\"]==\"CHN\"][\"Year\"], cement_merge[cement_merge[\"Code\"]==\"CHN\"][\"Consumption Volume\"], label=\"China\")\n",
    "ax.plot(cement_merge[cement_merge[\"Code\"]==\"DEU\"][\"Year\"], cement_merge[cement_merge[\"Code\"]==\"DEU\"][\"Consumption Volume\"], label=\"Germany\")\n",
    "ax.plot(cement_merge[cement_merge[\"Code\"]==\"RUS\"][\"Year\"], cement_merge[cement_merge[\"Code\"]==\"RUS\"][\"Consumption Volume\"], label=\"Russia\")\n",
    "ax.plot(cement_merge[cement_merge[\"Code\"]==\"AUS\"][\"Year\"], cement_merge[cement_merge[\"Code\"]==\"AUS\"][\"Consumption Volume\"], label=\"Australia\")\n",
    "ax.plot(cement_merge[cement_merge[\"Code\"]==\"VNM\"][\"Year\"], cement_merge[cement_merge[\"Code\"]==\"VNM\"][\"Consumption Volume\"], label=\"Vietnam\")\n",
    "ax.plot(cement_merge[cement_merge[\"Code\"]==\"JPN\"][\"Year\"], cement_merge[cement_merge[\"Code\"]==\"JPN\"][\"Consumption Volume\"], label=\"Japan\")\n",
    "ax.plot(cement_merge[cement_merge[\"Code\"]==\"IRN\"][\"Year\"], cement_merge[cement_merge[\"Code\"]==\"IRN\"][\"Consumption Volume\"], label=\"Iran\")\n",
    "\n",
    "\n",
    "# Config graphic\n",
    "plt.rc(\"figure\", autolayout=True, figsize=(20, 4))\n",
    "plt.title(\"Cement Consumption Volume (Thousand tons) from 2007 to 2015\")\n",
    "plt.xlabel(\"Year\")\n",
    "plt.ylabel(\"Thousand tons\")\n",
    "plt.xticks(rotation=45)\n",
    "ax.legend(loc='center left', bbox_to_anchor=(1, 0.5))\n",
    "\n",
    "# Display graphic\n",
    "plt.show()"
   ]
  },
  {
   "cell_type": "code",
   "execution_count": 435,
   "id": "7390e0d1",
   "metadata": {
    "scrolled": false
   },
   "outputs": [
    {
     "data": {
      "application/vnd.plotly.v1+json": {
       "config": {
        "plotlyServerURL": "https://plot.ly"
       },
       "data": [
        {
         "coloraxis": "coloraxis",
         "geo": "geo",
         "hovertemplate": "<b>%{hovertext}</b><br><br>Year=2007<br>Code=%{location}<br>Production Value=%{z}<extra></extra>",
         "hovertext": [
          "IRL",
          "USA",
          "BRA",
          "CHN",
          "DEU",
          "RUS",
          "AUS",
          "VNM",
          "JPN",
          "IRN"
         ],
         "locations": [
          "IRL",
          "USA",
          "BRA",
          "CHN",
          "DEU",
          "RUS",
          "AUS",
          "VNM",
          "JPN",
          "IRN"
         ],
         "name": "",
         "type": "choropleth",
         "z": [
          146.7,
          10153,
          3802,
          54201,
          2644,
          6146,
          2333,
          4297,
          138.6,
          1588
         ]
        }
       ],
       "frames": [
        {
         "data": [
          {
           "coloraxis": "coloraxis",
           "geo": "geo",
           "hovertemplate": "<b>%{hovertext}</b><br><br>Year=2007<br>Code=%{location}<br>Production Value=%{z}<extra></extra>",
           "hovertext": [
            "IRL",
            "USA",
            "BRA",
            "CHN",
            "DEU",
            "RUS",
            "AUS",
            "VNM",
            "JPN",
            "IRN"
           ],
           "locations": [
            "IRL",
            "USA",
            "BRA",
            "CHN",
            "DEU",
            "RUS",
            "AUS",
            "VNM",
            "JPN",
            "IRN"
           ],
           "name": "",
           "type": "choropleth",
           "z": [
            146.7,
            10153,
            3802,
            54201,
            2644,
            6146,
            2333,
            4297,
            138.6,
            1588
           ]
          }
         ],
         "name": "2007"
        },
        {
         "data": [
          {
           "coloraxis": "coloraxis",
           "geo": "geo",
           "hovertemplate": "<b>%{hovertext}</b><br><br>Year=2008<br>Code=%{location}<br>Production Value=%{z}<extra></extra>",
           "hovertext": [
            "IRL",
            "USA",
            "BRA",
            "CHN",
            "DEU",
            "RUS",
            "AUS",
            "VNM",
            "JPN",
            "IRN"
           ],
           "locations": [
            "IRL",
            "USA",
            "BRA",
            "CHN",
            "DEU",
            "RUS",
            "AUS",
            "VNM",
            "JPN",
            "IRN"
           ],
           "name": "",
           "type": "choropleth",
           "z": [
            160.2,
            8915,
            5478,
            66718,
            2665,
            7563,
            3041,
            4209,
            170,
            2233
           ]
          }
         ],
         "name": "2008"
        },
        {
         "data": [
          {
           "coloraxis": "coloraxis",
           "geo": "geo",
           "hovertemplate": "<b>%{hovertext}</b><br><br>Year=2009<br>Code=%{location}<br>Production Value=%{z}<extra></extra>",
           "hovertext": [
            "IRL",
            "USA",
            "BRA",
            "CHN",
            "DEU",
            "RUS",
            "AUS",
            "VNM",
            "JPN",
            "IRN"
           ],
           "locations": [
            "IRL",
            "USA",
            "BRA",
            "CHN",
            "DEU",
            "RUS",
            "AUS",
            "VNM",
            "JPN",
            "IRN"
           ],
           "name": "",
           "type": "choropleth",
           "z": [
            175.1,
            5568,
            5086,
            82445,
            2687,
            3832,
            2836,
            4596,
            190.9,
            2559
           ]
          }
         ],
         "name": "2009"
        },
        {
         "data": [
          {
           "coloraxis": "coloraxis",
           "geo": "geo",
           "hovertemplate": "<b>%{hovertext}</b><br><br>Year=2010<br>Code=%{location}<br>Production Value=%{z}<extra></extra>",
           "hovertext": [
            "IRL",
            "USA",
            "BRA",
            "CHN",
            "DEU",
            "RUS",
            "AUS",
            "VNM",
            "JPN",
            "IRN"
           ],
           "locations": [
            "IRL",
            "USA",
            "BRA",
            "CHN",
            "DEU",
            "RUS",
            "AUS",
            "VNM",
            "JPN",
            "IRN"
           ],
           "name": "",
           "type": "choropleth",
           "z": [
            191.3,
            5064,
            6714,
            94894,
            2483,
            4142,
            2940,
            4987,
            203.8,
            2885
           ]
          }
         ],
         "name": "2010"
        },
        {
         "data": [
          {
           "coloraxis": "coloraxis",
           "geo": "geo",
           "hovertemplate": "<b>%{hovertext}</b><br><br>Year=2011<br>Code=%{location}<br>Production Value=%{z}<extra></extra>",
           "hovertext": [
            "IRL",
            "USA",
            "BRA",
            "CHN",
            "DEU",
            "RUS",
            "AUS",
            "VNM",
            "JPN",
            "IRN"
           ],
           "locations": [
            "IRL",
            "USA",
            "BRA",
            "CHN",
            "DEU",
            "RUS",
            "AUS",
            "VNM",
            "JPN",
            "IRN"
           ],
           "name": "",
           "type": "choropleth",
           "z": [
            209,
            5278,
            8250,
            126356,
            2975,
            5279,
            3423,
            4967,
            276.3,
            3394
           ]
          }
         ],
         "name": "2011"
        },
        {
         "data": [
          {
           "coloraxis": "coloraxis",
           "geo": "geo",
           "hovertemplate": "<b>%{hovertext}</b><br><br>Year=2012<br>Code=%{location}<br>Production Value=%{z}<extra></extra>",
           "hovertext": [
            "IRL",
            "USA",
            "BRA",
            "CHN",
            "DEU",
            "RUS",
            "AUS",
            "VNM",
            "JPN",
            "IRN"
           ],
           "locations": [
            "IRL",
            "USA",
            "BRA",
            "CHN",
            "DEU",
            "RUS",
            "AUS",
            "VNM",
            "JPN",
            "IRN"
           ],
           "name": "",
           "type": "choropleth",
           "z": [
            228.4,
            5661,
            7631,
            134256,
            2660,
            6434,
            2879,
            3603,
            280.4,
            3903
           ]
          }
         ],
         "name": "2012"
        },
        {
         "data": [
          {
           "coloraxis": "coloraxis",
           "geo": "geo",
           "hovertemplate": "<b>%{hovertext}</b><br><br>Year=2013<br>Code=%{location}<br>Production Value=%{z}<extra></extra>",
           "hovertext": [
            "IRL",
            "USA",
            "BRA",
            "CHN",
            "DEU",
            "RUS",
            "AUS",
            "VNM",
            "JPN",
            "IRN"
           ],
           "locations": [
            "IRL",
            "USA",
            "BRA",
            "CHN",
            "DEU",
            "RUS",
            "AUS",
            "VNM",
            "JPN",
            "IRN"
           ],
           "name": "",
           "type": "choropleth",
           "z": [
            234.9,
            6506,
            7690,
            140297,
            2709,
            6999,
            2631,
            4505,
            243.5,
            4489
           ]
          }
         ],
         "name": "2013"
        },
        {
         "data": [
          {
           "coloraxis": "coloraxis",
           "geo": "geo",
           "hovertemplate": "<b>%{hovertext}</b><br><br>Year=2014<br>Code=%{location}<br>Production Value=%{z}<extra></extra>",
           "hovertext": [
            "IRL",
            "USA",
            "BRA",
            "CHN",
            "DEU",
            "RUS",
            "AUS",
            "VNM",
            "JPN",
            "IRN"
           ],
           "locations": [
            "IRL",
            "USA",
            "BRA",
            "CHN",
            "DEU",
            "RUS",
            "AUS",
            "VNM",
            "JPN",
            "IRN"
           ],
           "name": "",
           "type": "choropleth",
           "z": [
            237.6,
            6956,
            7801,
            148660,
            2820,
            5748,
            4047,
            4658,
            244.4,
            5162
           ]
          }
         ],
         "name": "2014"
        },
        {
         "data": [
          {
           "coloraxis": "coloraxis",
           "geo": "geo",
           "hovertemplate": "<b>%{hovertext}</b><br><br>Year=2015<br>Code=%{location}<br>Production Value=%{z}<extra></extra>",
           "hovertext": [
            "IRL",
            "USA",
            "BRA",
            "CHN",
            "DEU",
            "RUS",
            "AUS",
            "VNM",
            "JPN",
            "IRN"
           ],
           "locations": [
            "IRL",
            "USA",
            "BRA",
            "CHN",
            "DEU",
            "RUS",
            "AUS",
            "VNM",
            "JPN",
            "IRN"
           ],
           "name": "",
           "type": "choropleth",
           "z": [
            323.7,
            7800,
            4927,
            136866,
            2322,
            3286,
            2530,
            5269,
            233.5,
            5936
           ]
          }
         ],
         "name": "2015"
        }
       ],
       "layout": {
        "coloraxis": {
         "colorbar": {
          "title": {
           "text": "Production Value"
          }
         },
         "colorscale": [
          [
           0,
           "rgb(240,240,240)"
          ],
          [
           0.1,
           "rgb(252, 244, 83)"
          ],
          [
           0.2,
           "rgb(255, 145, 36)"
          ],
          [
           0.5,
           "rgb(255, 85, 28)"
          ],
          [
           1,
           "rgb(227,26,28,0.5)"
          ]
         ]
        },
        "geo": {
         "center": {},
         "domain": {
          "x": [
           0,
           1
          ],
          "y": [
           0,
           1
          ]
         },
         "projection": {
          "type": "natural earth"
         }
        },
        "legend": {
         "tracegroupgap": 0
        },
        "margin": {
         "t": 60
        },
        "sliders": [
         {
          "active": 0,
          "currentvalue": {
           "prefix": "Year="
          },
          "len": 0.9,
          "pad": {
           "b": 10,
           "t": 60
          },
          "steps": [
           {
            "args": [
             [
              "2007"
             ],
             {
              "frame": {
               "duration": 0,
               "redraw": true
              },
              "fromcurrent": true,
              "mode": "immediate",
              "transition": {
               "duration": 0,
               "easing": "linear"
              }
             }
            ],
            "label": "2007",
            "method": "animate"
           },
           {
            "args": [
             [
              "2008"
             ],
             {
              "frame": {
               "duration": 0,
               "redraw": true
              },
              "fromcurrent": true,
              "mode": "immediate",
              "transition": {
               "duration": 0,
               "easing": "linear"
              }
             }
            ],
            "label": "2008",
            "method": "animate"
           },
           {
            "args": [
             [
              "2009"
             ],
             {
              "frame": {
               "duration": 0,
               "redraw": true
              },
              "fromcurrent": true,
              "mode": "immediate",
              "transition": {
               "duration": 0,
               "easing": "linear"
              }
             }
            ],
            "label": "2009",
            "method": "animate"
           },
           {
            "args": [
             [
              "2010"
             ],
             {
              "frame": {
               "duration": 0,
               "redraw": true
              },
              "fromcurrent": true,
              "mode": "immediate",
              "transition": {
               "duration": 0,
               "easing": "linear"
              }
             }
            ],
            "label": "2010",
            "method": "animate"
           },
           {
            "args": [
             [
              "2011"
             ],
             {
              "frame": {
               "duration": 0,
               "redraw": true
              },
              "fromcurrent": true,
              "mode": "immediate",
              "transition": {
               "duration": 0,
               "easing": "linear"
              }
             }
            ],
            "label": "2011",
            "method": "animate"
           },
           {
            "args": [
             [
              "2012"
             ],
             {
              "frame": {
               "duration": 0,
               "redraw": true
              },
              "fromcurrent": true,
              "mode": "immediate",
              "transition": {
               "duration": 0,
               "easing": "linear"
              }
             }
            ],
            "label": "2012",
            "method": "animate"
           },
           {
            "args": [
             [
              "2013"
             ],
             {
              "frame": {
               "duration": 0,
               "redraw": true
              },
              "fromcurrent": true,
              "mode": "immediate",
              "transition": {
               "duration": 0,
               "easing": "linear"
              }
             }
            ],
            "label": "2013",
            "method": "animate"
           },
           {
            "args": [
             [
              "2014"
             ],
             {
              "frame": {
               "duration": 0,
               "redraw": true
              },
              "fromcurrent": true,
              "mode": "immediate",
              "transition": {
               "duration": 0,
               "easing": "linear"
              }
             }
            ],
            "label": "2014",
            "method": "animate"
           },
           {
            "args": [
             [
              "2015"
             ],
             {
              "frame": {
               "duration": 0,
               "redraw": true
              },
              "fromcurrent": true,
              "mode": "immediate",
              "transition": {
               "duration": 0,
               "easing": "linear"
              }
             }
            ],
            "label": "2015",
            "method": "animate"
           }
          ],
          "x": 0.1,
          "xanchor": "left",
          "y": 0,
          "yanchor": "top"
         }
        ],
        "template": {
         "data": {
          "bar": [
           {
            "error_x": {
             "color": "#2a3f5f"
            },
            "error_y": {
             "color": "#2a3f5f"
            },
            "marker": {
             "line": {
              "color": "#E5ECF6",
              "width": 0.5
             },
             "pattern": {
              "fillmode": "overlay",
              "size": 10,
              "solidity": 0.2
             }
            },
            "type": "bar"
           }
          ],
          "barpolar": [
           {
            "marker": {
             "line": {
              "color": "#E5ECF6",
              "width": 0.5
             },
             "pattern": {
              "fillmode": "overlay",
              "size": 10,
              "solidity": 0.2
             }
            },
            "type": "barpolar"
           }
          ],
          "carpet": [
           {
            "aaxis": {
             "endlinecolor": "#2a3f5f",
             "gridcolor": "white",
             "linecolor": "white",
             "minorgridcolor": "white",
             "startlinecolor": "#2a3f5f"
            },
            "baxis": {
             "endlinecolor": "#2a3f5f",
             "gridcolor": "white",
             "linecolor": "white",
             "minorgridcolor": "white",
             "startlinecolor": "#2a3f5f"
            },
            "type": "carpet"
           }
          ],
          "choropleth": [
           {
            "colorbar": {
             "outlinewidth": 0,
             "ticks": ""
            },
            "type": "choropleth"
           }
          ],
          "contour": [
           {
            "colorbar": {
             "outlinewidth": 0,
             "ticks": ""
            },
            "colorscale": [
             [
              0,
              "#0d0887"
             ],
             [
              0.1111111111111111,
              "#46039f"
             ],
             [
              0.2222222222222222,
              "#7201a8"
             ],
             [
              0.3333333333333333,
              "#9c179e"
             ],
             [
              0.4444444444444444,
              "#bd3786"
             ],
             [
              0.5555555555555556,
              "#d8576b"
             ],
             [
              0.6666666666666666,
              "#ed7953"
             ],
             [
              0.7777777777777778,
              "#fb9f3a"
             ],
             [
              0.8888888888888888,
              "#fdca26"
             ],
             [
              1,
              "#f0f921"
             ]
            ],
            "type": "contour"
           }
          ],
          "contourcarpet": [
           {
            "colorbar": {
             "outlinewidth": 0,
             "ticks": ""
            },
            "type": "contourcarpet"
           }
          ],
          "heatmap": [
           {
            "colorbar": {
             "outlinewidth": 0,
             "ticks": ""
            },
            "colorscale": [
             [
              0,
              "#0d0887"
             ],
             [
              0.1111111111111111,
              "#46039f"
             ],
             [
              0.2222222222222222,
              "#7201a8"
             ],
             [
              0.3333333333333333,
              "#9c179e"
             ],
             [
              0.4444444444444444,
              "#bd3786"
             ],
             [
              0.5555555555555556,
              "#d8576b"
             ],
             [
              0.6666666666666666,
              "#ed7953"
             ],
             [
              0.7777777777777778,
              "#fb9f3a"
             ],
             [
              0.8888888888888888,
              "#fdca26"
             ],
             [
              1,
              "#f0f921"
             ]
            ],
            "type": "heatmap"
           }
          ],
          "heatmapgl": [
           {
            "colorbar": {
             "outlinewidth": 0,
             "ticks": ""
            },
            "colorscale": [
             [
              0,
              "#0d0887"
             ],
             [
              0.1111111111111111,
              "#46039f"
             ],
             [
              0.2222222222222222,
              "#7201a8"
             ],
             [
              0.3333333333333333,
              "#9c179e"
             ],
             [
              0.4444444444444444,
              "#bd3786"
             ],
             [
              0.5555555555555556,
              "#d8576b"
             ],
             [
              0.6666666666666666,
              "#ed7953"
             ],
             [
              0.7777777777777778,
              "#fb9f3a"
             ],
             [
              0.8888888888888888,
              "#fdca26"
             ],
             [
              1,
              "#f0f921"
             ]
            ],
            "type": "heatmapgl"
           }
          ],
          "histogram": [
           {
            "marker": {
             "pattern": {
              "fillmode": "overlay",
              "size": 10,
              "solidity": 0.2
             }
            },
            "type": "histogram"
           }
          ],
          "histogram2d": [
           {
            "colorbar": {
             "outlinewidth": 0,
             "ticks": ""
            },
            "colorscale": [
             [
              0,
              "#0d0887"
             ],
             [
              0.1111111111111111,
              "#46039f"
             ],
             [
              0.2222222222222222,
              "#7201a8"
             ],
             [
              0.3333333333333333,
              "#9c179e"
             ],
             [
              0.4444444444444444,
              "#bd3786"
             ],
             [
              0.5555555555555556,
              "#d8576b"
             ],
             [
              0.6666666666666666,
              "#ed7953"
             ],
             [
              0.7777777777777778,
              "#fb9f3a"
             ],
             [
              0.8888888888888888,
              "#fdca26"
             ],
             [
              1,
              "#f0f921"
             ]
            ],
            "type": "histogram2d"
           }
          ],
          "histogram2dcontour": [
           {
            "colorbar": {
             "outlinewidth": 0,
             "ticks": ""
            },
            "colorscale": [
             [
              0,
              "#0d0887"
             ],
             [
              0.1111111111111111,
              "#46039f"
             ],
             [
              0.2222222222222222,
              "#7201a8"
             ],
             [
              0.3333333333333333,
              "#9c179e"
             ],
             [
              0.4444444444444444,
              "#bd3786"
             ],
             [
              0.5555555555555556,
              "#d8576b"
             ],
             [
              0.6666666666666666,
              "#ed7953"
             ],
             [
              0.7777777777777778,
              "#fb9f3a"
             ],
             [
              0.8888888888888888,
              "#fdca26"
             ],
             [
              1,
              "#f0f921"
             ]
            ],
            "type": "histogram2dcontour"
           }
          ],
          "mesh3d": [
           {
            "colorbar": {
             "outlinewidth": 0,
             "ticks": ""
            },
            "type": "mesh3d"
           }
          ],
          "parcoords": [
           {
            "line": {
             "colorbar": {
              "outlinewidth": 0,
              "ticks": ""
             }
            },
            "type": "parcoords"
           }
          ],
          "pie": [
           {
            "automargin": true,
            "type": "pie"
           }
          ],
          "scatter": [
           {
            "fillpattern": {
             "fillmode": "overlay",
             "size": 10,
             "solidity": 0.2
            },
            "type": "scatter"
           }
          ],
          "scatter3d": [
           {
            "line": {
             "colorbar": {
              "outlinewidth": 0,
              "ticks": ""
             }
            },
            "marker": {
             "colorbar": {
              "outlinewidth": 0,
              "ticks": ""
             }
            },
            "type": "scatter3d"
           }
          ],
          "scattercarpet": [
           {
            "marker": {
             "colorbar": {
              "outlinewidth": 0,
              "ticks": ""
             }
            },
            "type": "scattercarpet"
           }
          ],
          "scattergeo": [
           {
            "marker": {
             "colorbar": {
              "outlinewidth": 0,
              "ticks": ""
             }
            },
            "type": "scattergeo"
           }
          ],
          "scattergl": [
           {
            "marker": {
             "colorbar": {
              "outlinewidth": 0,
              "ticks": ""
             }
            },
            "type": "scattergl"
           }
          ],
          "scattermapbox": [
           {
            "marker": {
             "colorbar": {
              "outlinewidth": 0,
              "ticks": ""
             }
            },
            "type": "scattermapbox"
           }
          ],
          "scatterpolar": [
           {
            "marker": {
             "colorbar": {
              "outlinewidth": 0,
              "ticks": ""
             }
            },
            "type": "scatterpolar"
           }
          ],
          "scatterpolargl": [
           {
            "marker": {
             "colorbar": {
              "outlinewidth": 0,
              "ticks": ""
             }
            },
            "type": "scatterpolargl"
           }
          ],
          "scatterternary": [
           {
            "marker": {
             "colorbar": {
              "outlinewidth": 0,
              "ticks": ""
             }
            },
            "type": "scatterternary"
           }
          ],
          "surface": [
           {
            "colorbar": {
             "outlinewidth": 0,
             "ticks": ""
            },
            "colorscale": [
             [
              0,
              "#0d0887"
             ],
             [
              0.1111111111111111,
              "#46039f"
             ],
             [
              0.2222222222222222,
              "#7201a8"
             ],
             [
              0.3333333333333333,
              "#9c179e"
             ],
             [
              0.4444444444444444,
              "#bd3786"
             ],
             [
              0.5555555555555556,
              "#d8576b"
             ],
             [
              0.6666666666666666,
              "#ed7953"
             ],
             [
              0.7777777777777778,
              "#fb9f3a"
             ],
             [
              0.8888888888888888,
              "#fdca26"
             ],
             [
              1,
              "#f0f921"
             ]
            ],
            "type": "surface"
           }
          ],
          "table": [
           {
            "cells": {
             "fill": {
              "color": "#EBF0F8"
             },
             "line": {
              "color": "white"
             }
            },
            "header": {
             "fill": {
              "color": "#C8D4E3"
             },
             "line": {
              "color": "white"
             }
            },
            "type": "table"
           }
          ]
         },
         "layout": {
          "annotationdefaults": {
           "arrowcolor": "#2a3f5f",
           "arrowhead": 0,
           "arrowwidth": 1
          },
          "autotypenumbers": "strict",
          "coloraxis": {
           "colorbar": {
            "outlinewidth": 0,
            "ticks": ""
           }
          },
          "colorscale": {
           "diverging": [
            [
             0,
             "#8e0152"
            ],
            [
             0.1,
             "#c51b7d"
            ],
            [
             0.2,
             "#de77ae"
            ],
            [
             0.3,
             "#f1b6da"
            ],
            [
             0.4,
             "#fde0ef"
            ],
            [
             0.5,
             "#f7f7f7"
            ],
            [
             0.6,
             "#e6f5d0"
            ],
            [
             0.7,
             "#b8e186"
            ],
            [
             0.8,
             "#7fbc41"
            ],
            [
             0.9,
             "#4d9221"
            ],
            [
             1,
             "#276419"
            ]
           ],
           "sequential": [
            [
             0,
             "#0d0887"
            ],
            [
             0.1111111111111111,
             "#46039f"
            ],
            [
             0.2222222222222222,
             "#7201a8"
            ],
            [
             0.3333333333333333,
             "#9c179e"
            ],
            [
             0.4444444444444444,
             "#bd3786"
            ],
            [
             0.5555555555555556,
             "#d8576b"
            ],
            [
             0.6666666666666666,
             "#ed7953"
            ],
            [
             0.7777777777777778,
             "#fb9f3a"
            ],
            [
             0.8888888888888888,
             "#fdca26"
            ],
            [
             1,
             "#f0f921"
            ]
           ],
           "sequentialminus": [
            [
             0,
             "#0d0887"
            ],
            [
             0.1111111111111111,
             "#46039f"
            ],
            [
             0.2222222222222222,
             "#7201a8"
            ],
            [
             0.3333333333333333,
             "#9c179e"
            ],
            [
             0.4444444444444444,
             "#bd3786"
            ],
            [
             0.5555555555555556,
             "#d8576b"
            ],
            [
             0.6666666666666666,
             "#ed7953"
            ],
            [
             0.7777777777777778,
             "#fb9f3a"
            ],
            [
             0.8888888888888888,
             "#fdca26"
            ],
            [
             1,
             "#f0f921"
            ]
           ]
          },
          "colorway": [
           "#636efa",
           "#EF553B",
           "#00cc96",
           "#ab63fa",
           "#FFA15A",
           "#19d3f3",
           "#FF6692",
           "#B6E880",
           "#FF97FF",
           "#FECB52"
          ],
          "font": {
           "color": "#2a3f5f"
          },
          "geo": {
           "bgcolor": "white",
           "lakecolor": "white",
           "landcolor": "#E5ECF6",
           "showlakes": true,
           "showland": true,
           "subunitcolor": "white"
          },
          "hoverlabel": {
           "align": "left"
          },
          "hovermode": "closest",
          "mapbox": {
           "style": "light"
          },
          "paper_bgcolor": "white",
          "plot_bgcolor": "#E5ECF6",
          "polar": {
           "angularaxis": {
            "gridcolor": "white",
            "linecolor": "white",
            "ticks": ""
           },
           "bgcolor": "#E5ECF6",
           "radialaxis": {
            "gridcolor": "white",
            "linecolor": "white",
            "ticks": ""
           }
          },
          "scene": {
           "xaxis": {
            "backgroundcolor": "#E5ECF6",
            "gridcolor": "white",
            "gridwidth": 2,
            "linecolor": "white",
            "showbackground": true,
            "ticks": "",
            "zerolinecolor": "white"
           },
           "yaxis": {
            "backgroundcolor": "#E5ECF6",
            "gridcolor": "white",
            "gridwidth": 2,
            "linecolor": "white",
            "showbackground": true,
            "ticks": "",
            "zerolinecolor": "white"
           },
           "zaxis": {
            "backgroundcolor": "#E5ECF6",
            "gridcolor": "white",
            "gridwidth": 2,
            "linecolor": "white",
            "showbackground": true,
            "ticks": "",
            "zerolinecolor": "white"
           }
          },
          "shapedefaults": {
           "line": {
            "color": "#2a3f5f"
           }
          },
          "ternary": {
           "aaxis": {
            "gridcolor": "white",
            "linecolor": "white",
            "ticks": ""
           },
           "baxis": {
            "gridcolor": "white",
            "linecolor": "white",
            "ticks": ""
           },
           "bgcolor": "#E5ECF6",
           "caxis": {
            "gridcolor": "white",
            "linecolor": "white",
            "ticks": ""
           }
          },
          "title": {
           "x": 0.05
          },
          "xaxis": {
           "automargin": true,
           "gridcolor": "white",
           "linecolor": "white",
           "ticks": "",
           "title": {
            "standoff": 15
           },
           "zerolinecolor": "white",
           "zerolinewidth": 2
          },
          "yaxis": {
           "automargin": true,
           "gridcolor": "white",
           "linecolor": "white",
           "ticks": "",
           "title": {
            "standoff": 15
           },
           "zerolinecolor": "white",
           "zerolinewidth": 2
          }
         }
        },
        "title": {
         "text": "Cement Production Value (Million USD)"
        },
        "updatemenus": [
         {
          "buttons": [
           {
            "args": [
             null,
             {
              "frame": {
               "duration": 500,
               "redraw": true
              },
              "fromcurrent": true,
              "mode": "immediate",
              "transition": {
               "duration": 500,
               "easing": "linear"
              }
             }
            ],
            "label": "&#9654;",
            "method": "animate"
           },
           {
            "args": [
             [
              null
             ],
             {
              "frame": {
               "duration": 0,
               "redraw": true
              },
              "fromcurrent": true,
              "mode": "immediate",
              "transition": {
               "duration": 0,
               "easing": "linear"
              }
             }
            ],
            "label": "&#9724;",
            "method": "animate"
           }
          ],
          "direction": "left",
          "pad": {
           "r": 10,
           "t": 70
          },
          "showactive": false,
          "type": "buttons",
          "x": 0.1,
          "xanchor": "right",
          "y": 0,
          "yanchor": "top"
         }
        ]
       }
      },
      "text/html": [
       "<div>                            <div id=\"036ffa1a-2561-4945-8f92-6dd54670dac7\" class=\"plotly-graph-div\" style=\"height:525px; width:100%;\"></div>            <script type=\"text/javascript\">                require([\"plotly\"], function(Plotly) {                    window.PLOTLYENV=window.PLOTLYENV || {};                                    if (document.getElementById(\"036ffa1a-2561-4945-8f92-6dd54670dac7\")) {                    Plotly.newPlot(                        \"036ffa1a-2561-4945-8f92-6dd54670dac7\",                        [{\"coloraxis\":\"coloraxis\",\"geo\":\"geo\",\"hovertemplate\":\"<b>%{hovertext}</b><br><br>Year=2007<br>Code=%{location}<br>Production Value=%{z}<extra></extra>\",\"hovertext\":[\"IRL\",\"USA\",\"BRA\",\"CHN\",\"DEU\",\"RUS\",\"AUS\",\"VNM\",\"JPN\",\"IRN\"],\"locations\":[\"IRL\",\"USA\",\"BRA\",\"CHN\",\"DEU\",\"RUS\",\"AUS\",\"VNM\",\"JPN\",\"IRN\"],\"name\":\"\",\"z\":[146.7,10153.0,3802.0,54201.0,2644.0,6146.0,2333.0,4297.0,138.6,1588.0],\"type\":\"choropleth\"}],                        {\"template\":{\"data\":{\"histogram2dcontour\":[{\"type\":\"histogram2dcontour\",\"colorbar\":{\"outlinewidth\":0,\"ticks\":\"\"},\"colorscale\":[[0.0,\"#0d0887\"],[0.1111111111111111,\"#46039f\"],[0.2222222222222222,\"#7201a8\"],[0.3333333333333333,\"#9c179e\"],[0.4444444444444444,\"#bd3786\"],[0.5555555555555556,\"#d8576b\"],[0.6666666666666666,\"#ed7953\"],[0.7777777777777778,\"#fb9f3a\"],[0.8888888888888888,\"#fdca26\"],[1.0,\"#f0f921\"]]}],\"choropleth\":[{\"type\":\"choropleth\",\"colorbar\":{\"outlinewidth\":0,\"ticks\":\"\"}}],\"histogram2d\":[{\"type\":\"histogram2d\",\"colorbar\":{\"outlinewidth\":0,\"ticks\":\"\"},\"colorscale\":[[0.0,\"#0d0887\"],[0.1111111111111111,\"#46039f\"],[0.2222222222222222,\"#7201a8\"],[0.3333333333333333,\"#9c179e\"],[0.4444444444444444,\"#bd3786\"],[0.5555555555555556,\"#d8576b\"],[0.6666666666666666,\"#ed7953\"],[0.7777777777777778,\"#fb9f3a\"],[0.8888888888888888,\"#fdca26\"],[1.0,\"#f0f921\"]]}],\"heatmap\":[{\"type\":\"heatmap\",\"colorbar\":{\"outlinewidth\":0,\"ticks\":\"\"},\"colorscale\":[[0.0,\"#0d0887\"],[0.1111111111111111,\"#46039f\"],[0.2222222222222222,\"#7201a8\"],[0.3333333333333333,\"#9c179e\"],[0.4444444444444444,\"#bd3786\"],[0.5555555555555556,\"#d8576b\"],[0.6666666666666666,\"#ed7953\"],[0.7777777777777778,\"#fb9f3a\"],[0.8888888888888888,\"#fdca26\"],[1.0,\"#f0f921\"]]}],\"heatmapgl\":[{\"type\":\"heatmapgl\",\"colorbar\":{\"outlinewidth\":0,\"ticks\":\"\"},\"colorscale\":[[0.0,\"#0d0887\"],[0.1111111111111111,\"#46039f\"],[0.2222222222222222,\"#7201a8\"],[0.3333333333333333,\"#9c179e\"],[0.4444444444444444,\"#bd3786\"],[0.5555555555555556,\"#d8576b\"],[0.6666666666666666,\"#ed7953\"],[0.7777777777777778,\"#fb9f3a\"],[0.8888888888888888,\"#fdca26\"],[1.0,\"#f0f921\"]]}],\"contourcarpet\":[{\"type\":\"contourcarpet\",\"colorbar\":{\"outlinewidth\":0,\"ticks\":\"\"}}],\"contour\":[{\"type\":\"contour\",\"colorbar\":{\"outlinewidth\":0,\"ticks\":\"\"},\"colorscale\":[[0.0,\"#0d0887\"],[0.1111111111111111,\"#46039f\"],[0.2222222222222222,\"#7201a8\"],[0.3333333333333333,\"#9c179e\"],[0.4444444444444444,\"#bd3786\"],[0.5555555555555556,\"#d8576b\"],[0.6666666666666666,\"#ed7953\"],[0.7777777777777778,\"#fb9f3a\"],[0.8888888888888888,\"#fdca26\"],[1.0,\"#f0f921\"]]}],\"surface\":[{\"type\":\"surface\",\"colorbar\":{\"outlinewidth\":0,\"ticks\":\"\"},\"colorscale\":[[0.0,\"#0d0887\"],[0.1111111111111111,\"#46039f\"],[0.2222222222222222,\"#7201a8\"],[0.3333333333333333,\"#9c179e\"],[0.4444444444444444,\"#bd3786\"],[0.5555555555555556,\"#d8576b\"],[0.6666666666666666,\"#ed7953\"],[0.7777777777777778,\"#fb9f3a\"],[0.8888888888888888,\"#fdca26\"],[1.0,\"#f0f921\"]]}],\"mesh3d\":[{\"type\":\"mesh3d\",\"colorbar\":{\"outlinewidth\":0,\"ticks\":\"\"}}],\"scatter\":[{\"fillpattern\":{\"fillmode\":\"overlay\",\"size\":10,\"solidity\":0.2},\"type\":\"scatter\"}],\"parcoords\":[{\"type\":\"parcoords\",\"line\":{\"colorbar\":{\"outlinewidth\":0,\"ticks\":\"\"}}}],\"scatterpolargl\":[{\"type\":\"scatterpolargl\",\"marker\":{\"colorbar\":{\"outlinewidth\":0,\"ticks\":\"\"}}}],\"bar\":[{\"error_x\":{\"color\":\"#2a3f5f\"},\"error_y\":{\"color\":\"#2a3f5f\"},\"marker\":{\"line\":{\"color\":\"#E5ECF6\",\"width\":0.5},\"pattern\":{\"fillmode\":\"overlay\",\"size\":10,\"solidity\":0.2}},\"type\":\"bar\"}],\"scattergeo\":[{\"type\":\"scattergeo\",\"marker\":{\"colorbar\":{\"outlinewidth\":0,\"ticks\":\"\"}}}],\"scatterpolar\":[{\"type\":\"scatterpolar\",\"marker\":{\"colorbar\":{\"outlinewidth\":0,\"ticks\":\"\"}}}],\"histogram\":[{\"marker\":{\"pattern\":{\"fillmode\":\"overlay\",\"size\":10,\"solidity\":0.2}},\"type\":\"histogram\"}],\"scattergl\":[{\"type\":\"scattergl\",\"marker\":{\"colorbar\":{\"outlinewidth\":0,\"ticks\":\"\"}}}],\"scatter3d\":[{\"type\":\"scatter3d\",\"line\":{\"colorbar\":{\"outlinewidth\":0,\"ticks\":\"\"}},\"marker\":{\"colorbar\":{\"outlinewidth\":0,\"ticks\":\"\"}}}],\"scattermapbox\":[{\"type\":\"scattermapbox\",\"marker\":{\"colorbar\":{\"outlinewidth\":0,\"ticks\":\"\"}}}],\"scatterternary\":[{\"type\":\"scatterternary\",\"marker\":{\"colorbar\":{\"outlinewidth\":0,\"ticks\":\"\"}}}],\"scattercarpet\":[{\"type\":\"scattercarpet\",\"marker\":{\"colorbar\":{\"outlinewidth\":0,\"ticks\":\"\"}}}],\"carpet\":[{\"aaxis\":{\"endlinecolor\":\"#2a3f5f\",\"gridcolor\":\"white\",\"linecolor\":\"white\",\"minorgridcolor\":\"white\",\"startlinecolor\":\"#2a3f5f\"},\"baxis\":{\"endlinecolor\":\"#2a3f5f\",\"gridcolor\":\"white\",\"linecolor\":\"white\",\"minorgridcolor\":\"white\",\"startlinecolor\":\"#2a3f5f\"},\"type\":\"carpet\"}],\"table\":[{\"cells\":{\"fill\":{\"color\":\"#EBF0F8\"},\"line\":{\"color\":\"white\"}},\"header\":{\"fill\":{\"color\":\"#C8D4E3\"},\"line\":{\"color\":\"white\"}},\"type\":\"table\"}],\"barpolar\":[{\"marker\":{\"line\":{\"color\":\"#E5ECF6\",\"width\":0.5},\"pattern\":{\"fillmode\":\"overlay\",\"size\":10,\"solidity\":0.2}},\"type\":\"barpolar\"}],\"pie\":[{\"automargin\":true,\"type\":\"pie\"}]},\"layout\":{\"autotypenumbers\":\"strict\",\"colorway\":[\"#636efa\",\"#EF553B\",\"#00cc96\",\"#ab63fa\",\"#FFA15A\",\"#19d3f3\",\"#FF6692\",\"#B6E880\",\"#FF97FF\",\"#FECB52\"],\"font\":{\"color\":\"#2a3f5f\"},\"hovermode\":\"closest\",\"hoverlabel\":{\"align\":\"left\"},\"paper_bgcolor\":\"white\",\"plot_bgcolor\":\"#E5ECF6\",\"polar\":{\"bgcolor\":\"#E5ECF6\",\"angularaxis\":{\"gridcolor\":\"white\",\"linecolor\":\"white\",\"ticks\":\"\"},\"radialaxis\":{\"gridcolor\":\"white\",\"linecolor\":\"white\",\"ticks\":\"\"}},\"ternary\":{\"bgcolor\":\"#E5ECF6\",\"aaxis\":{\"gridcolor\":\"white\",\"linecolor\":\"white\",\"ticks\":\"\"},\"baxis\":{\"gridcolor\":\"white\",\"linecolor\":\"white\",\"ticks\":\"\"},\"caxis\":{\"gridcolor\":\"white\",\"linecolor\":\"white\",\"ticks\":\"\"}},\"coloraxis\":{\"colorbar\":{\"outlinewidth\":0,\"ticks\":\"\"}},\"colorscale\":{\"sequential\":[[0.0,\"#0d0887\"],[0.1111111111111111,\"#46039f\"],[0.2222222222222222,\"#7201a8\"],[0.3333333333333333,\"#9c179e\"],[0.4444444444444444,\"#bd3786\"],[0.5555555555555556,\"#d8576b\"],[0.6666666666666666,\"#ed7953\"],[0.7777777777777778,\"#fb9f3a\"],[0.8888888888888888,\"#fdca26\"],[1.0,\"#f0f921\"]],\"sequentialminus\":[[0.0,\"#0d0887\"],[0.1111111111111111,\"#46039f\"],[0.2222222222222222,\"#7201a8\"],[0.3333333333333333,\"#9c179e\"],[0.4444444444444444,\"#bd3786\"],[0.5555555555555556,\"#d8576b\"],[0.6666666666666666,\"#ed7953\"],[0.7777777777777778,\"#fb9f3a\"],[0.8888888888888888,\"#fdca26\"],[1.0,\"#f0f921\"]],\"diverging\":[[0,\"#8e0152\"],[0.1,\"#c51b7d\"],[0.2,\"#de77ae\"],[0.3,\"#f1b6da\"],[0.4,\"#fde0ef\"],[0.5,\"#f7f7f7\"],[0.6,\"#e6f5d0\"],[0.7,\"#b8e186\"],[0.8,\"#7fbc41\"],[0.9,\"#4d9221\"],[1,\"#276419\"]]},\"xaxis\":{\"gridcolor\":\"white\",\"linecolor\":\"white\",\"ticks\":\"\",\"title\":{\"standoff\":15},\"zerolinecolor\":\"white\",\"automargin\":true,\"zerolinewidth\":2},\"yaxis\":{\"gridcolor\":\"white\",\"linecolor\":\"white\",\"ticks\":\"\",\"title\":{\"standoff\":15},\"zerolinecolor\":\"white\",\"automargin\":true,\"zerolinewidth\":2},\"scene\":{\"xaxis\":{\"backgroundcolor\":\"#E5ECF6\",\"gridcolor\":\"white\",\"linecolor\":\"white\",\"showbackground\":true,\"ticks\":\"\",\"zerolinecolor\":\"white\",\"gridwidth\":2},\"yaxis\":{\"backgroundcolor\":\"#E5ECF6\",\"gridcolor\":\"white\",\"linecolor\":\"white\",\"showbackground\":true,\"ticks\":\"\",\"zerolinecolor\":\"white\",\"gridwidth\":2},\"zaxis\":{\"backgroundcolor\":\"#E5ECF6\",\"gridcolor\":\"white\",\"linecolor\":\"white\",\"showbackground\":true,\"ticks\":\"\",\"zerolinecolor\":\"white\",\"gridwidth\":2}},\"shapedefaults\":{\"line\":{\"color\":\"#2a3f5f\"}},\"annotationdefaults\":{\"arrowcolor\":\"#2a3f5f\",\"arrowhead\":0,\"arrowwidth\":1},\"geo\":{\"bgcolor\":\"white\",\"landcolor\":\"#E5ECF6\",\"subunitcolor\":\"white\",\"showland\":true,\"showlakes\":true,\"lakecolor\":\"white\"},\"title\":{\"x\":0.05},\"mapbox\":{\"style\":\"light\"}}},\"geo\":{\"domain\":{\"x\":[0.0,1.0],\"y\":[0.0,1.0]},\"center\":{},\"projection\":{\"type\":\"natural earth\"}},\"coloraxis\":{\"colorbar\":{\"title\":{\"text\":\"Production Value\"}},\"colorscale\":[[0,\"rgb(240,240,240)\"],[0.1,\"rgb(252, 244, 83)\"],[0.2,\"rgb(255, 145, 36)\"],[0.5,\"rgb(255, 85, 28)\"],[1,\"rgb(227,26,28,0.5)\"]]},\"legend\":{\"tracegroupgap\":0},\"margin\":{\"t\":60},\"updatemenus\":[{\"buttons\":[{\"args\":[null,{\"frame\":{\"duration\":500,\"redraw\":true},\"mode\":\"immediate\",\"fromcurrent\":true,\"transition\":{\"duration\":500,\"easing\":\"linear\"}}],\"label\":\"&#9654;\",\"method\":\"animate\"},{\"args\":[[null],{\"frame\":{\"duration\":0,\"redraw\":true},\"mode\":\"immediate\",\"fromcurrent\":true,\"transition\":{\"duration\":0,\"easing\":\"linear\"}}],\"label\":\"&#9724;\",\"method\":\"animate\"}],\"direction\":\"left\",\"pad\":{\"r\":10,\"t\":70},\"showactive\":false,\"type\":\"buttons\",\"x\":0.1,\"xanchor\":\"right\",\"y\":0,\"yanchor\":\"top\"}],\"sliders\":[{\"active\":0,\"currentvalue\":{\"prefix\":\"Year=\"},\"len\":0.9,\"pad\":{\"b\":10,\"t\":60},\"steps\":[{\"args\":[[\"2007\"],{\"frame\":{\"duration\":0,\"redraw\":true},\"mode\":\"immediate\",\"fromcurrent\":true,\"transition\":{\"duration\":0,\"easing\":\"linear\"}}],\"label\":\"2007\",\"method\":\"animate\"},{\"args\":[[\"2008\"],{\"frame\":{\"duration\":0,\"redraw\":true},\"mode\":\"immediate\",\"fromcurrent\":true,\"transition\":{\"duration\":0,\"easing\":\"linear\"}}],\"label\":\"2008\",\"method\":\"animate\"},{\"args\":[[\"2009\"],{\"frame\":{\"duration\":0,\"redraw\":true},\"mode\":\"immediate\",\"fromcurrent\":true,\"transition\":{\"duration\":0,\"easing\":\"linear\"}}],\"label\":\"2009\",\"method\":\"animate\"},{\"args\":[[\"2010\"],{\"frame\":{\"duration\":0,\"redraw\":true},\"mode\":\"immediate\",\"fromcurrent\":true,\"transition\":{\"duration\":0,\"easing\":\"linear\"}}],\"label\":\"2010\",\"method\":\"animate\"},{\"args\":[[\"2011\"],{\"frame\":{\"duration\":0,\"redraw\":true},\"mode\":\"immediate\",\"fromcurrent\":true,\"transition\":{\"duration\":0,\"easing\":\"linear\"}}],\"label\":\"2011\",\"method\":\"animate\"},{\"args\":[[\"2012\"],{\"frame\":{\"duration\":0,\"redraw\":true},\"mode\":\"immediate\",\"fromcurrent\":true,\"transition\":{\"duration\":0,\"easing\":\"linear\"}}],\"label\":\"2012\",\"method\":\"animate\"},{\"args\":[[\"2013\"],{\"frame\":{\"duration\":0,\"redraw\":true},\"mode\":\"immediate\",\"fromcurrent\":true,\"transition\":{\"duration\":0,\"easing\":\"linear\"}}],\"label\":\"2013\",\"method\":\"animate\"},{\"args\":[[\"2014\"],{\"frame\":{\"duration\":0,\"redraw\":true},\"mode\":\"immediate\",\"fromcurrent\":true,\"transition\":{\"duration\":0,\"easing\":\"linear\"}}],\"label\":\"2014\",\"method\":\"animate\"},{\"args\":[[\"2015\"],{\"frame\":{\"duration\":0,\"redraw\":true},\"mode\":\"immediate\",\"fromcurrent\":true,\"transition\":{\"duration\":0,\"easing\":\"linear\"}}],\"label\":\"2015\",\"method\":\"animate\"}],\"x\":0.1,\"xanchor\":\"left\",\"y\":0,\"yanchor\":\"top\"}],\"title\":{\"text\":\"Cement Production Value (Million USD)\"}},                        {\"responsive\": true}                    ).then(function(){\n",
       "                            Plotly.addFrames('036ffa1a-2561-4945-8f92-6dd54670dac7', [{\"data\":[{\"coloraxis\":\"coloraxis\",\"geo\":\"geo\",\"hovertemplate\":\"<b>%{hovertext}</b><br><br>Year=2007<br>Code=%{location}<br>Production Value=%{z}<extra></extra>\",\"hovertext\":[\"IRL\",\"USA\",\"BRA\",\"CHN\",\"DEU\",\"RUS\",\"AUS\",\"VNM\",\"JPN\",\"IRN\"],\"locations\":[\"IRL\",\"USA\",\"BRA\",\"CHN\",\"DEU\",\"RUS\",\"AUS\",\"VNM\",\"JPN\",\"IRN\"],\"name\":\"\",\"z\":[146.7,10153.0,3802.0,54201.0,2644.0,6146.0,2333.0,4297.0,138.6,1588.0],\"type\":\"choropleth\"}],\"name\":\"2007\"},{\"data\":[{\"coloraxis\":\"coloraxis\",\"geo\":\"geo\",\"hovertemplate\":\"<b>%{hovertext}</b><br><br>Year=2008<br>Code=%{location}<br>Production Value=%{z}<extra></extra>\",\"hovertext\":[\"IRL\",\"USA\",\"BRA\",\"CHN\",\"DEU\",\"RUS\",\"AUS\",\"VNM\",\"JPN\",\"IRN\"],\"locations\":[\"IRL\",\"USA\",\"BRA\",\"CHN\",\"DEU\",\"RUS\",\"AUS\",\"VNM\",\"JPN\",\"IRN\"],\"name\":\"\",\"z\":[160.2,8915.0,5478.0,66718.0,2665.0,7563.0,3041.0,4209.0,170.0,2233.0],\"type\":\"choropleth\"}],\"name\":\"2008\"},{\"data\":[{\"coloraxis\":\"coloraxis\",\"geo\":\"geo\",\"hovertemplate\":\"<b>%{hovertext}</b><br><br>Year=2009<br>Code=%{location}<br>Production Value=%{z}<extra></extra>\",\"hovertext\":[\"IRL\",\"USA\",\"BRA\",\"CHN\",\"DEU\",\"RUS\",\"AUS\",\"VNM\",\"JPN\",\"IRN\"],\"locations\":[\"IRL\",\"USA\",\"BRA\",\"CHN\",\"DEU\",\"RUS\",\"AUS\",\"VNM\",\"JPN\",\"IRN\"],\"name\":\"\",\"z\":[175.1,5568.0,5086.0,82445.0,2687.0,3832.0,2836.0,4596.0,190.9,2559.0],\"type\":\"choropleth\"}],\"name\":\"2009\"},{\"data\":[{\"coloraxis\":\"coloraxis\",\"geo\":\"geo\",\"hovertemplate\":\"<b>%{hovertext}</b><br><br>Year=2010<br>Code=%{location}<br>Production Value=%{z}<extra></extra>\",\"hovertext\":[\"IRL\",\"USA\",\"BRA\",\"CHN\",\"DEU\",\"RUS\",\"AUS\",\"VNM\",\"JPN\",\"IRN\"],\"locations\":[\"IRL\",\"USA\",\"BRA\",\"CHN\",\"DEU\",\"RUS\",\"AUS\",\"VNM\",\"JPN\",\"IRN\"],\"name\":\"\",\"z\":[191.3,5064.0,6714.0,94894.0,2483.0,4142.0,2940.0,4987.0,203.8,2885.0],\"type\":\"choropleth\"}],\"name\":\"2010\"},{\"data\":[{\"coloraxis\":\"coloraxis\",\"geo\":\"geo\",\"hovertemplate\":\"<b>%{hovertext}</b><br><br>Year=2011<br>Code=%{location}<br>Production Value=%{z}<extra></extra>\",\"hovertext\":[\"IRL\",\"USA\",\"BRA\",\"CHN\",\"DEU\",\"RUS\",\"AUS\",\"VNM\",\"JPN\",\"IRN\"],\"locations\":[\"IRL\",\"USA\",\"BRA\",\"CHN\",\"DEU\",\"RUS\",\"AUS\",\"VNM\",\"JPN\",\"IRN\"],\"name\":\"\",\"z\":[209.0,5278.0,8250.0,126356.0,2975.0,5279.0,3423.0,4967.0,276.3,3394.0],\"type\":\"choropleth\"}],\"name\":\"2011\"},{\"data\":[{\"coloraxis\":\"coloraxis\",\"geo\":\"geo\",\"hovertemplate\":\"<b>%{hovertext}</b><br><br>Year=2012<br>Code=%{location}<br>Production Value=%{z}<extra></extra>\",\"hovertext\":[\"IRL\",\"USA\",\"BRA\",\"CHN\",\"DEU\",\"RUS\",\"AUS\",\"VNM\",\"JPN\",\"IRN\"],\"locations\":[\"IRL\",\"USA\",\"BRA\",\"CHN\",\"DEU\",\"RUS\",\"AUS\",\"VNM\",\"JPN\",\"IRN\"],\"name\":\"\",\"z\":[228.4,5661.0,7631.0,134256.0,2660.0,6434.0,2879.0,3603.0,280.4,3903.0],\"type\":\"choropleth\"}],\"name\":\"2012\"},{\"data\":[{\"coloraxis\":\"coloraxis\",\"geo\":\"geo\",\"hovertemplate\":\"<b>%{hovertext}</b><br><br>Year=2013<br>Code=%{location}<br>Production Value=%{z}<extra></extra>\",\"hovertext\":[\"IRL\",\"USA\",\"BRA\",\"CHN\",\"DEU\",\"RUS\",\"AUS\",\"VNM\",\"JPN\",\"IRN\"],\"locations\":[\"IRL\",\"USA\",\"BRA\",\"CHN\",\"DEU\",\"RUS\",\"AUS\",\"VNM\",\"JPN\",\"IRN\"],\"name\":\"\",\"z\":[234.9,6506.0,7690.0,140297.0,2709.0,6999.0,2631.0,4505.0,243.5,4489.0],\"type\":\"choropleth\"}],\"name\":\"2013\"},{\"data\":[{\"coloraxis\":\"coloraxis\",\"geo\":\"geo\",\"hovertemplate\":\"<b>%{hovertext}</b><br><br>Year=2014<br>Code=%{location}<br>Production Value=%{z}<extra></extra>\",\"hovertext\":[\"IRL\",\"USA\",\"BRA\",\"CHN\",\"DEU\",\"RUS\",\"AUS\",\"VNM\",\"JPN\",\"IRN\"],\"locations\":[\"IRL\",\"USA\",\"BRA\",\"CHN\",\"DEU\",\"RUS\",\"AUS\",\"VNM\",\"JPN\",\"IRN\"],\"name\":\"\",\"z\":[237.6,6956.0,7801.0,148660.0,2820.0,5748.0,4047.0,4658.0,244.4,5162.0],\"type\":\"choropleth\"}],\"name\":\"2014\"},{\"data\":[{\"coloraxis\":\"coloraxis\",\"geo\":\"geo\",\"hovertemplate\":\"<b>%{hovertext}</b><br><br>Year=2015<br>Code=%{location}<br>Production Value=%{z}<extra></extra>\",\"hovertext\":[\"IRL\",\"USA\",\"BRA\",\"CHN\",\"DEU\",\"RUS\",\"AUS\",\"VNM\",\"JPN\",\"IRN\"],\"locations\":[\"IRL\",\"USA\",\"BRA\",\"CHN\",\"DEU\",\"RUS\",\"AUS\",\"VNM\",\"JPN\",\"IRN\"],\"name\":\"\",\"z\":[323.7,7800.0,4927.0,136866.0,2322.0,3286.0,2530.0,5269.0,233.5,5936.0],\"type\":\"choropleth\"}],\"name\":\"2015\"}]);\n",
       "                        }).then(function(){\n",
       "                            \n",
       "var gd = document.getElementById('036ffa1a-2561-4945-8f92-6dd54670dac7');\n",
       "var x = new MutationObserver(function (mutations, observer) {{\n",
       "        var display = window.getComputedStyle(gd).display;\n",
       "        if (!display || display === 'none') {{\n",
       "            console.log([gd, 'removed!']);\n",
       "            Plotly.purge(gd);\n",
       "            observer.disconnect();\n",
       "        }}\n",
       "}});\n",
       "\n",
       "// Listen for the removal of the full notebook cells\n",
       "var notebookContainer = gd.closest('#notebook-container');\n",
       "if (notebookContainer) {{\n",
       "    x.observe(notebookContainer, {childList: true});\n",
       "}}\n",
       "\n",
       "// Listen for the clearing of the current output cell\n",
       "var outputEl = gd.closest('.output');\n",
       "if (outputEl) {{\n",
       "    x.observe(outputEl, {childList: true});\n",
       "}}\n",
       "\n",
       "                        })                };                });            </script>        </div>"
      ]
     },
     "metadata": {},
     "output_type": "display_data"
    }
   ],
   "source": [
    "# Interactive map graph: Cement Production Value (Million USD)\n",
    "\n",
    "fig = px.choropleth(cement_merge, locations=\"Code\",\n",
    "                    color=\"Production Value\", \n",
    "                    hover_name=\"Code\", \n",
    "                    # column to add to hover information\n",
    "                    animation_frame=\"Year\", \n",
    "                    # column on which to animate\n",
    "                    color_continuous_scale=[[0, 'rgb(240,240,240)'],\n",
    "                      [0.10, 'rgb(252, 244, 83)'],\n",
    "                      [0.2, 'rgb(255, 145, 36)'],\n",
    "                      [0.50, 'rgb(255, 85, 28)'],\n",
    "                      [1, 'rgb(227,26,28,0.5)']])\n",
    "                    \n",
    "fig.update_layout(\n",
    "    # add a title text for the plot\n",
    "    title_text = 'Cement Production Value (Million USD)',\n",
    "    # set projection style for the plot\n",
    "    geo = dict(projection={'type':'natural earth'}) \n",
    "    # by default, projection type is set to 'equirectangular'\n",
    ")\n",
    "fig.show()\n"
   ]
  },
  {
   "cell_type": "code",
   "execution_count": 436,
   "id": "9d1be729",
   "metadata": {},
   "outputs": [
    {
     "data": {
      "application/vnd.plotly.v1+json": {
       "config": {
        "plotlyServerURL": "https://plot.ly"
       },
       "data": [
        {
         "geo": "geo",
         "hovertemplate": "<b>%{hovertext}</b><br><br>Year=2007<br>Per Capita Consumption=%{marker.size}<br>Code=%{location}<extra></extra>",
         "hovertext": [
          "IRL",
          "USA",
          "BRA",
          "CHN",
          "DEU",
          "RUS",
          "AUS",
          "VNM",
          "JPN",
          "IRN"
         ],
         "legendgroup": "",
         "locations": [
          "IRL",
          "USA",
          "BRA",
          "CHN",
          "DEU",
          "RUS",
          "AUS",
          "VNM",
          "JPN",
          "IRN"
         ],
         "marker": {
          "color": "#636efa",
          "size": [
           810.1,
           391,
           238.7,
           985,
           338.9,
           421.6,
           452.8,
           431.7,
           458.5,
           569
          ],
          "sizemode": "area",
          "sizeref": 1.09125,
          "symbol": "circle"
         },
         "mode": "markers",
         "name": "",
         "showlegend": false,
         "type": "scattergeo"
        }
       ],
       "frames": [
        {
         "data": [
          {
           "geo": "geo",
           "hovertemplate": "<b>%{hovertext}</b><br><br>Year=2007<br>Per Capita Consumption=%{marker.size}<br>Code=%{location}<extra></extra>",
           "hovertext": [
            "IRL",
            "USA",
            "BRA",
            "CHN",
            "DEU",
            "RUS",
            "AUS",
            "VNM",
            "JPN",
            "IRN"
           ],
           "legendgroup": "",
           "locations": [
            "IRL",
            "USA",
            "BRA",
            "CHN",
            "DEU",
            "RUS",
            "AUS",
            "VNM",
            "JPN",
            "IRN"
           ],
           "marker": {
            "color": "#636efa",
            "size": [
             810.1,
             391,
             238.7,
             985,
             338.9,
             421.6,
             452.8,
             431.7,
             458.5,
             569
            ],
            "sizemode": "area",
            "sizeref": 1.09125,
            "symbol": "circle"
           },
           "mode": "markers",
           "name": "",
           "showlegend": false,
           "type": "scattergeo"
          }
         ],
         "name": "2007"
        },
        {
         "data": [
          {
           "geo": "geo",
           "hovertemplate": "<b>%{hovertext}</b><br><br>Year=2008<br>Per Capita Consumption=%{marker.size}<br>Code=%{location}<extra></extra>",
           "hovertext": [
            "IRL",
            "USA",
            "BRA",
            "CHN",
            "DEU",
            "RUS",
            "AUS",
            "VNM",
            "JPN",
            "IRN"
           ],
           "legendgroup": "",
           "locations": [
            "IRL",
            "USA",
            "BRA",
            "CHN",
            "DEU",
            "RUS",
            "AUS",
            "VNM",
            "JPN",
            "IRN"
           ],
           "marker": {
            "color": "#636efa",
            "size": [
             777.2,
             321.5,
             267.7,
             1009,
             338.4,
             411.8,
             472.6,
             461.7,
             447,
             608.9
            ],
            "sizemode": "area",
            "sizeref": 1.09125,
            "symbol": "circle"
           },
           "mode": "markers",
           "name": "",
           "showlegend": false,
           "type": "scattergeo"
          }
         ],
         "name": "2008"
        },
        {
         "data": [
          {
           "geo": "geo",
           "hovertemplate": "<b>%{hovertext}</b><br><br>Year=2009<br>Per Capita Consumption=%{marker.size}<br>Code=%{location}<extra></extra>",
           "hovertext": [
            "IRL",
            "USA",
            "BRA",
            "CHN",
            "DEU",
            "RUS",
            "AUS",
            "VNM",
            "JPN",
            "IRN"
           ],
           "legendgroup": "",
           "locations": [
            "IRL",
            "USA",
            "BRA",
            "CHN",
            "DEU",
            "RUS",
            "AUS",
            "VNM",
            "JPN",
            "IRN"
           ],
           "marker": {
            "color": "#636efa",
            "size": [
             382.6,
             229.4,
             267.3,
             1183,
             307.8,
             307.8,
             442.3,
             547.4,
             385.2,
             670
            ],
            "sizemode": "area",
            "sizeref": 1.09125,
            "symbol": "circle"
           },
           "mode": "markers",
           "name": "",
           "showlegend": false,
           "type": "scattergeo"
          }
         ],
         "name": "2009"
        },
        {
         "data": [
          {
           "geo": "geo",
           "hovertemplate": "<b>%{hovertext}</b><br><br>Year=2010<br>Per Capita Consumption=%{marker.size}<br>Code=%{location}<extra></extra>",
           "hovertext": [
            "IRL",
            "USA",
            "BRA",
            "CHN",
            "DEU",
            "RUS",
            "AUS",
            "VNM",
            "JPN",
            "IRN"
           ],
           "legendgroup": "",
           "locations": [
            "IRL",
            "USA",
            "BRA",
            "CHN",
            "DEU",
            "RUS",
            "AUS",
            "VNM",
            "JPN",
            "IRN"
           ],
           "marker": {
            "color": "#636efa",
            "size": [
             368.2,
             233.1,
             304.6,
             1346,
             306,
             355.3,
             425.6,
             628.4,
             363.7,
             653.2
            ],
            "sizemode": "area",
            "sizeref": 1.09125,
            "symbol": "circle"
           },
           "mode": "markers",
           "name": "",
           "showlegend": false,
           "type": "scattergeo"
          }
         ],
         "name": "2010"
        },
        {
         "data": [
          {
           "geo": "geo",
           "hovertemplate": "<b>%{hovertext}</b><br><br>Year=2011<br>Per Capita Consumption=%{marker.size}<br>Code=%{location}<extra></extra>",
           "hovertext": [
            "IRL",
            "USA",
            "BRA",
            "CHN",
            "DEU",
            "RUS",
            "AUS",
            "VNM",
            "JPN",
            "IRN"
           ],
           "legendgroup": "",
           "locations": [
            "IRL",
            "USA",
            "BRA",
            "CHN",
            "DEU",
            "RUS",
            "AUS",
            "VNM",
            "JPN",
            "IRN"
           ],
           "marker": {
            "color": "#636efa",
            "size": [
             270.8,
             234.5,
             327.9,
             1495,
             330.7,
             406,
             405.1,
             647.5,
             366.5,
             861.6
            ],
            "sizemode": "area",
            "sizeref": 1.09125,
            "symbol": "circle"
           },
           "mode": "markers",
           "name": "",
           "showlegend": false,
           "type": "scattergeo"
          }
         ],
         "name": "2011"
        },
        {
         "data": [
          {
           "geo": "geo",
           "hovertemplate": "<b>%{hovertext}</b><br><br>Year=2012<br>Per Capita Consumption=%{marker.size}<br>Code=%{location}<extra></extra>",
           "hovertext": [
            "IRL",
            "USA",
            "BRA",
            "CHN",
            "DEU",
            "RUS",
            "AUS",
            "VNM",
            "JPN",
            "IRN"
           ],
           "legendgroup": "",
           "locations": [
            "IRL",
            "USA",
            "BRA",
            "CHN",
            "DEU",
            "RUS",
            "AUS",
            "VNM",
            "JPN",
            "IRN"
           ],
           "marker": {
            "color": "#636efa",
            "size": [
             10.4,
             252.8,
             350.4,
             1566,
             335.1,
             449.5,
             399.1,
             610.1,
             390.7,
             902.8
            ],
            "sizemode": "area",
            "sizeref": 1.09125,
            "symbol": "circle"
           },
           "mode": "markers",
           "name": "",
           "showlegend": false,
           "type": "scattergeo"
          }
         ],
         "name": "2012"
        },
        {
         "data": [
          {
           "geo": "geo",
           "hovertemplate": "<b>%{hovertext}</b><br><br>Year=2013<br>Per Capita Consumption=%{marker.size}<br>Code=%{location}<extra></extra>",
           "hovertext": [
            "IRL",
            "USA",
            "BRA",
            "CHN",
            "DEU",
            "RUS",
            "AUS",
            "VNM",
            "JPN",
            "IRN"
           ],
           "legendgroup": "",
           "locations": [
            "IRL",
            "USA",
            "BRA",
            "CHN",
            "DEU",
            "RUS",
            "AUS",
            "VNM",
            "JPN",
            "IRN"
           ],
           "marker": {
            "color": "#636efa",
            "size": [
             182.8,
             260,
             350.7,
             1698,
             327.4,
             481.4,
             380.6,
             591.4,
             417.5,
             862.3
            ],
            "sizemode": "area",
            "sizeref": 1.09125,
            "symbol": "circle"
           },
           "mode": "markers",
           "name": "",
           "showlegend": false,
           "type": "scattergeo"
          }
         ],
         "name": "2013"
        },
        {
         "data": [
          {
           "geo": "geo",
           "hovertemplate": "<b>%{hovertext}</b><br><br>Year=2014<br>Per Capita Consumption=%{marker.size}<br>Code=%{location}<extra></extra>",
           "hovertext": [
            "IRL",
            "USA",
            "BRA",
            "CHN",
            "DEU",
            "RUS",
            "AUS",
            "VNM",
            "JPN",
            "IRN"
           ],
           "legendgroup": "",
           "locations": [
            "IRL",
            "USA",
            "BRA",
            "CHN",
            "DEU",
            "RUS",
            "AUS",
            "VNM",
            "JPN",
            "IRN"
           ],
           "marker": {
            "color": "#636efa",
            "size": [
             124,
             271.8,
             352.7,
             1746,
             339.6,
             499.2,
             399.4,
             617.9,
             415.8,
             800.3
            ],
            "sizemode": "area",
            "sizeref": 1.09125,
            "symbol": "circle"
           },
           "mode": "markers",
           "name": "",
           "showlegend": false,
           "type": "scattergeo"
          }
         ],
         "name": "2014"
        },
        {
         "data": [
          {
           "geo": "geo",
           "hovertemplate": "<b>%{hovertext}</b><br><br>Year=2015<br>Per Capita Consumption=%{marker.size}<br>Code=%{location}<extra></extra>",
           "hovertext": [
            "IRL",
            "USA",
            "BRA",
            "CHN",
            "DEU",
            "RUS",
            "AUS",
            "VNM",
            "JPN",
            "IRN"
           ],
           "legendgroup": "",
           "locations": [
            "IRL",
            "USA",
            "BRA",
            "CHN",
            "DEU",
            "RUS",
            "AUS",
            "VNM",
            "JPN",
            "IRN"
           ],
           "marker": {
            "color": "#636efa",
            "size": [
             141.9,
             318.7,
             318.7,
             1645,
             320.7,
             439.7,
             394.7,
             689.5,
             386.3,
             626.9
            ],
            "sizemode": "area",
            "sizeref": 1.09125,
            "symbol": "circle"
           },
           "mode": "markers",
           "name": "",
           "showlegend": false,
           "type": "scattergeo"
          }
         ],
         "name": "2015"
        }
       ],
       "layout": {
        "geo": {
         "center": {},
         "domain": {
          "x": [
           0,
           1
          ],
          "y": [
           0,
           1
          ]
         },
         "projection": {
          "type": "natural earth"
         }
        },
        "legend": {
         "itemsizing": "constant",
         "tracegroupgap": 0
        },
        "margin": {
         "t": 60
        },
        "sliders": [
         {
          "active": 0,
          "currentvalue": {
           "prefix": "Year="
          },
          "len": 0.9,
          "pad": {
           "b": 10,
           "t": 60
          },
          "steps": [
           {
            "args": [
             [
              "2007"
             ],
             {
              "frame": {
               "duration": 0,
               "redraw": true
              },
              "fromcurrent": true,
              "mode": "immediate",
              "transition": {
               "duration": 0,
               "easing": "linear"
              }
             }
            ],
            "label": "2007",
            "method": "animate"
           },
           {
            "args": [
             [
              "2008"
             ],
             {
              "frame": {
               "duration": 0,
               "redraw": true
              },
              "fromcurrent": true,
              "mode": "immediate",
              "transition": {
               "duration": 0,
               "easing": "linear"
              }
             }
            ],
            "label": "2008",
            "method": "animate"
           },
           {
            "args": [
             [
              "2009"
             ],
             {
              "frame": {
               "duration": 0,
               "redraw": true
              },
              "fromcurrent": true,
              "mode": "immediate",
              "transition": {
               "duration": 0,
               "easing": "linear"
              }
             }
            ],
            "label": "2009",
            "method": "animate"
           },
           {
            "args": [
             [
              "2010"
             ],
             {
              "frame": {
               "duration": 0,
               "redraw": true
              },
              "fromcurrent": true,
              "mode": "immediate",
              "transition": {
               "duration": 0,
               "easing": "linear"
              }
             }
            ],
            "label": "2010",
            "method": "animate"
           },
           {
            "args": [
             [
              "2011"
             ],
             {
              "frame": {
               "duration": 0,
               "redraw": true
              },
              "fromcurrent": true,
              "mode": "immediate",
              "transition": {
               "duration": 0,
               "easing": "linear"
              }
             }
            ],
            "label": "2011",
            "method": "animate"
           },
           {
            "args": [
             [
              "2012"
             ],
             {
              "frame": {
               "duration": 0,
               "redraw": true
              },
              "fromcurrent": true,
              "mode": "immediate",
              "transition": {
               "duration": 0,
               "easing": "linear"
              }
             }
            ],
            "label": "2012",
            "method": "animate"
           },
           {
            "args": [
             [
              "2013"
             ],
             {
              "frame": {
               "duration": 0,
               "redraw": true
              },
              "fromcurrent": true,
              "mode": "immediate",
              "transition": {
               "duration": 0,
               "easing": "linear"
              }
             }
            ],
            "label": "2013",
            "method": "animate"
           },
           {
            "args": [
             [
              "2014"
             ],
             {
              "frame": {
               "duration": 0,
               "redraw": true
              },
              "fromcurrent": true,
              "mode": "immediate",
              "transition": {
               "duration": 0,
               "easing": "linear"
              }
             }
            ],
            "label": "2014",
            "method": "animate"
           },
           {
            "args": [
             [
              "2015"
             ],
             {
              "frame": {
               "duration": 0,
               "redraw": true
              },
              "fromcurrent": true,
              "mode": "immediate",
              "transition": {
               "duration": 0,
               "easing": "linear"
              }
             }
            ],
            "label": "2015",
            "method": "animate"
           }
          ],
          "x": 0.1,
          "xanchor": "left",
          "y": 0,
          "yanchor": "top"
         }
        ],
        "template": {
         "data": {
          "bar": [
           {
            "error_x": {
             "color": "#2a3f5f"
            },
            "error_y": {
             "color": "#2a3f5f"
            },
            "marker": {
             "line": {
              "color": "#E5ECF6",
              "width": 0.5
             },
             "pattern": {
              "fillmode": "overlay",
              "size": 10,
              "solidity": 0.2
             }
            },
            "type": "bar"
           }
          ],
          "barpolar": [
           {
            "marker": {
             "line": {
              "color": "#E5ECF6",
              "width": 0.5
             },
             "pattern": {
              "fillmode": "overlay",
              "size": 10,
              "solidity": 0.2
             }
            },
            "type": "barpolar"
           }
          ],
          "carpet": [
           {
            "aaxis": {
             "endlinecolor": "#2a3f5f",
             "gridcolor": "white",
             "linecolor": "white",
             "minorgridcolor": "white",
             "startlinecolor": "#2a3f5f"
            },
            "baxis": {
             "endlinecolor": "#2a3f5f",
             "gridcolor": "white",
             "linecolor": "white",
             "minorgridcolor": "white",
             "startlinecolor": "#2a3f5f"
            },
            "type": "carpet"
           }
          ],
          "choropleth": [
           {
            "colorbar": {
             "outlinewidth": 0,
             "ticks": ""
            },
            "type": "choropleth"
           }
          ],
          "contour": [
           {
            "colorbar": {
             "outlinewidth": 0,
             "ticks": ""
            },
            "colorscale": [
             [
              0,
              "#0d0887"
             ],
             [
              0.1111111111111111,
              "#46039f"
             ],
             [
              0.2222222222222222,
              "#7201a8"
             ],
             [
              0.3333333333333333,
              "#9c179e"
             ],
             [
              0.4444444444444444,
              "#bd3786"
             ],
             [
              0.5555555555555556,
              "#d8576b"
             ],
             [
              0.6666666666666666,
              "#ed7953"
             ],
             [
              0.7777777777777778,
              "#fb9f3a"
             ],
             [
              0.8888888888888888,
              "#fdca26"
             ],
             [
              1,
              "#f0f921"
             ]
            ],
            "type": "contour"
           }
          ],
          "contourcarpet": [
           {
            "colorbar": {
             "outlinewidth": 0,
             "ticks": ""
            },
            "type": "contourcarpet"
           }
          ],
          "heatmap": [
           {
            "colorbar": {
             "outlinewidth": 0,
             "ticks": ""
            },
            "colorscale": [
             [
              0,
              "#0d0887"
             ],
             [
              0.1111111111111111,
              "#46039f"
             ],
             [
              0.2222222222222222,
              "#7201a8"
             ],
             [
              0.3333333333333333,
              "#9c179e"
             ],
             [
              0.4444444444444444,
              "#bd3786"
             ],
             [
              0.5555555555555556,
              "#d8576b"
             ],
             [
              0.6666666666666666,
              "#ed7953"
             ],
             [
              0.7777777777777778,
              "#fb9f3a"
             ],
             [
              0.8888888888888888,
              "#fdca26"
             ],
             [
              1,
              "#f0f921"
             ]
            ],
            "type": "heatmap"
           }
          ],
          "heatmapgl": [
           {
            "colorbar": {
             "outlinewidth": 0,
             "ticks": ""
            },
            "colorscale": [
             [
              0,
              "#0d0887"
             ],
             [
              0.1111111111111111,
              "#46039f"
             ],
             [
              0.2222222222222222,
              "#7201a8"
             ],
             [
              0.3333333333333333,
              "#9c179e"
             ],
             [
              0.4444444444444444,
              "#bd3786"
             ],
             [
              0.5555555555555556,
              "#d8576b"
             ],
             [
              0.6666666666666666,
              "#ed7953"
             ],
             [
              0.7777777777777778,
              "#fb9f3a"
             ],
             [
              0.8888888888888888,
              "#fdca26"
             ],
             [
              1,
              "#f0f921"
             ]
            ],
            "type": "heatmapgl"
           }
          ],
          "histogram": [
           {
            "marker": {
             "pattern": {
              "fillmode": "overlay",
              "size": 10,
              "solidity": 0.2
             }
            },
            "type": "histogram"
           }
          ],
          "histogram2d": [
           {
            "colorbar": {
             "outlinewidth": 0,
             "ticks": ""
            },
            "colorscale": [
             [
              0,
              "#0d0887"
             ],
             [
              0.1111111111111111,
              "#46039f"
             ],
             [
              0.2222222222222222,
              "#7201a8"
             ],
             [
              0.3333333333333333,
              "#9c179e"
             ],
             [
              0.4444444444444444,
              "#bd3786"
             ],
             [
              0.5555555555555556,
              "#d8576b"
             ],
             [
              0.6666666666666666,
              "#ed7953"
             ],
             [
              0.7777777777777778,
              "#fb9f3a"
             ],
             [
              0.8888888888888888,
              "#fdca26"
             ],
             [
              1,
              "#f0f921"
             ]
            ],
            "type": "histogram2d"
           }
          ],
          "histogram2dcontour": [
           {
            "colorbar": {
             "outlinewidth": 0,
             "ticks": ""
            },
            "colorscale": [
             [
              0,
              "#0d0887"
             ],
             [
              0.1111111111111111,
              "#46039f"
             ],
             [
              0.2222222222222222,
              "#7201a8"
             ],
             [
              0.3333333333333333,
              "#9c179e"
             ],
             [
              0.4444444444444444,
              "#bd3786"
             ],
             [
              0.5555555555555556,
              "#d8576b"
             ],
             [
              0.6666666666666666,
              "#ed7953"
             ],
             [
              0.7777777777777778,
              "#fb9f3a"
             ],
             [
              0.8888888888888888,
              "#fdca26"
             ],
             [
              1,
              "#f0f921"
             ]
            ],
            "type": "histogram2dcontour"
           }
          ],
          "mesh3d": [
           {
            "colorbar": {
             "outlinewidth": 0,
             "ticks": ""
            },
            "type": "mesh3d"
           }
          ],
          "parcoords": [
           {
            "line": {
             "colorbar": {
              "outlinewidth": 0,
              "ticks": ""
             }
            },
            "type": "parcoords"
           }
          ],
          "pie": [
           {
            "automargin": true,
            "type": "pie"
           }
          ],
          "scatter": [
           {
            "fillpattern": {
             "fillmode": "overlay",
             "size": 10,
             "solidity": 0.2
            },
            "type": "scatter"
           }
          ],
          "scatter3d": [
           {
            "line": {
             "colorbar": {
              "outlinewidth": 0,
              "ticks": ""
             }
            },
            "marker": {
             "colorbar": {
              "outlinewidth": 0,
              "ticks": ""
             }
            },
            "type": "scatter3d"
           }
          ],
          "scattercarpet": [
           {
            "marker": {
             "colorbar": {
              "outlinewidth": 0,
              "ticks": ""
             }
            },
            "type": "scattercarpet"
           }
          ],
          "scattergeo": [
           {
            "marker": {
             "colorbar": {
              "outlinewidth": 0,
              "ticks": ""
             }
            },
            "type": "scattergeo"
           }
          ],
          "scattergl": [
           {
            "marker": {
             "colorbar": {
              "outlinewidth": 0,
              "ticks": ""
             }
            },
            "type": "scattergl"
           }
          ],
          "scattermapbox": [
           {
            "marker": {
             "colorbar": {
              "outlinewidth": 0,
              "ticks": ""
             }
            },
            "type": "scattermapbox"
           }
          ],
          "scatterpolar": [
           {
            "marker": {
             "colorbar": {
              "outlinewidth": 0,
              "ticks": ""
             }
            },
            "type": "scatterpolar"
           }
          ],
          "scatterpolargl": [
           {
            "marker": {
             "colorbar": {
              "outlinewidth": 0,
              "ticks": ""
             }
            },
            "type": "scatterpolargl"
           }
          ],
          "scatterternary": [
           {
            "marker": {
             "colorbar": {
              "outlinewidth": 0,
              "ticks": ""
             }
            },
            "type": "scatterternary"
           }
          ],
          "surface": [
           {
            "colorbar": {
             "outlinewidth": 0,
             "ticks": ""
            },
            "colorscale": [
             [
              0,
              "#0d0887"
             ],
             [
              0.1111111111111111,
              "#46039f"
             ],
             [
              0.2222222222222222,
              "#7201a8"
             ],
             [
              0.3333333333333333,
              "#9c179e"
             ],
             [
              0.4444444444444444,
              "#bd3786"
             ],
             [
              0.5555555555555556,
              "#d8576b"
             ],
             [
              0.6666666666666666,
              "#ed7953"
             ],
             [
              0.7777777777777778,
              "#fb9f3a"
             ],
             [
              0.8888888888888888,
              "#fdca26"
             ],
             [
              1,
              "#f0f921"
             ]
            ],
            "type": "surface"
           }
          ],
          "table": [
           {
            "cells": {
             "fill": {
              "color": "#EBF0F8"
             },
             "line": {
              "color": "white"
             }
            },
            "header": {
             "fill": {
              "color": "#C8D4E3"
             },
             "line": {
              "color": "white"
             }
            },
            "type": "table"
           }
          ]
         },
         "layout": {
          "annotationdefaults": {
           "arrowcolor": "#2a3f5f",
           "arrowhead": 0,
           "arrowwidth": 1
          },
          "autotypenumbers": "strict",
          "coloraxis": {
           "colorbar": {
            "outlinewidth": 0,
            "ticks": ""
           }
          },
          "colorscale": {
           "diverging": [
            [
             0,
             "#8e0152"
            ],
            [
             0.1,
             "#c51b7d"
            ],
            [
             0.2,
             "#de77ae"
            ],
            [
             0.3,
             "#f1b6da"
            ],
            [
             0.4,
             "#fde0ef"
            ],
            [
             0.5,
             "#f7f7f7"
            ],
            [
             0.6,
             "#e6f5d0"
            ],
            [
             0.7,
             "#b8e186"
            ],
            [
             0.8,
             "#7fbc41"
            ],
            [
             0.9,
             "#4d9221"
            ],
            [
             1,
             "#276419"
            ]
           ],
           "sequential": [
            [
             0,
             "#0d0887"
            ],
            [
             0.1111111111111111,
             "#46039f"
            ],
            [
             0.2222222222222222,
             "#7201a8"
            ],
            [
             0.3333333333333333,
             "#9c179e"
            ],
            [
             0.4444444444444444,
             "#bd3786"
            ],
            [
             0.5555555555555556,
             "#d8576b"
            ],
            [
             0.6666666666666666,
             "#ed7953"
            ],
            [
             0.7777777777777778,
             "#fb9f3a"
            ],
            [
             0.8888888888888888,
             "#fdca26"
            ],
            [
             1,
             "#f0f921"
            ]
           ],
           "sequentialminus": [
            [
             0,
             "#0d0887"
            ],
            [
             0.1111111111111111,
             "#46039f"
            ],
            [
             0.2222222222222222,
             "#7201a8"
            ],
            [
             0.3333333333333333,
             "#9c179e"
            ],
            [
             0.4444444444444444,
             "#bd3786"
            ],
            [
             0.5555555555555556,
             "#d8576b"
            ],
            [
             0.6666666666666666,
             "#ed7953"
            ],
            [
             0.7777777777777778,
             "#fb9f3a"
            ],
            [
             0.8888888888888888,
             "#fdca26"
            ],
            [
             1,
             "#f0f921"
            ]
           ]
          },
          "colorway": [
           "#636efa",
           "#EF553B",
           "#00cc96",
           "#ab63fa",
           "#FFA15A",
           "#19d3f3",
           "#FF6692",
           "#B6E880",
           "#FF97FF",
           "#FECB52"
          ],
          "font": {
           "color": "#2a3f5f"
          },
          "geo": {
           "bgcolor": "white",
           "lakecolor": "white",
           "landcolor": "#E5ECF6",
           "showlakes": true,
           "showland": true,
           "subunitcolor": "white"
          },
          "hoverlabel": {
           "align": "left"
          },
          "hovermode": "closest",
          "mapbox": {
           "style": "light"
          },
          "paper_bgcolor": "white",
          "plot_bgcolor": "#E5ECF6",
          "polar": {
           "angularaxis": {
            "gridcolor": "white",
            "linecolor": "white",
            "ticks": ""
           },
           "bgcolor": "#E5ECF6",
           "radialaxis": {
            "gridcolor": "white",
            "linecolor": "white",
            "ticks": ""
           }
          },
          "scene": {
           "xaxis": {
            "backgroundcolor": "#E5ECF6",
            "gridcolor": "white",
            "gridwidth": 2,
            "linecolor": "white",
            "showbackground": true,
            "ticks": "",
            "zerolinecolor": "white"
           },
           "yaxis": {
            "backgroundcolor": "#E5ECF6",
            "gridcolor": "white",
            "gridwidth": 2,
            "linecolor": "white",
            "showbackground": true,
            "ticks": "",
            "zerolinecolor": "white"
           },
           "zaxis": {
            "backgroundcolor": "#E5ECF6",
            "gridcolor": "white",
            "gridwidth": 2,
            "linecolor": "white",
            "showbackground": true,
            "ticks": "",
            "zerolinecolor": "white"
           }
          },
          "shapedefaults": {
           "line": {
            "color": "#2a3f5f"
           }
          },
          "ternary": {
           "aaxis": {
            "gridcolor": "white",
            "linecolor": "white",
            "ticks": ""
           },
           "baxis": {
            "gridcolor": "white",
            "linecolor": "white",
            "ticks": ""
           },
           "bgcolor": "#E5ECF6",
           "caxis": {
            "gridcolor": "white",
            "linecolor": "white",
            "ticks": ""
           }
          },
          "title": {
           "x": 0.05
          },
          "xaxis": {
           "automargin": true,
           "gridcolor": "white",
           "linecolor": "white",
           "ticks": "",
           "title": {
            "standoff": 15
           },
           "zerolinecolor": "white",
           "zerolinewidth": 2
          },
          "yaxis": {
           "automargin": true,
           "gridcolor": "white",
           "linecolor": "white",
           "ticks": "",
           "title": {
            "standoff": 15
           },
           "zerolinecolor": "white",
           "zerolinewidth": 2
          }
         }
        },
        "title": {
         "text": "Cement Per Capita Consumption (kg/person)"
        },
        "updatemenus": [
         {
          "buttons": [
           {
            "args": [
             null,
             {
              "frame": {
               "duration": 500,
               "redraw": true
              },
              "fromcurrent": true,
              "mode": "immediate",
              "transition": {
               "duration": 500,
               "easing": "linear"
              }
             }
            ],
            "label": "&#9654;",
            "method": "animate"
           },
           {
            "args": [
             [
              null
             ],
             {
              "frame": {
               "duration": 0,
               "redraw": true
              },
              "fromcurrent": true,
              "mode": "immediate",
              "transition": {
               "duration": 0,
               "easing": "linear"
              }
             }
            ],
            "label": "&#9724;",
            "method": "animate"
           }
          ],
          "direction": "left",
          "pad": {
           "r": 10,
           "t": 70
          },
          "showactive": false,
          "type": "buttons",
          "x": 0.1,
          "xanchor": "right",
          "y": 0,
          "yanchor": "top"
         }
        ]
       }
      },
      "text/html": [
       "<div>                            <div id=\"77925450-55cb-4e5d-b794-96b252aa051a\" class=\"plotly-graph-div\" style=\"height:525px; width:100%;\"></div>            <script type=\"text/javascript\">                require([\"plotly\"], function(Plotly) {                    window.PLOTLYENV=window.PLOTLYENV || {};                                    if (document.getElementById(\"77925450-55cb-4e5d-b794-96b252aa051a\")) {                    Plotly.newPlot(                        \"77925450-55cb-4e5d-b794-96b252aa051a\",                        [{\"geo\":\"geo\",\"hovertemplate\":\"<b>%{hovertext}</b><br><br>Year=2007<br>Per Capita Consumption=%{marker.size}<br>Code=%{location}<extra></extra>\",\"hovertext\":[\"IRL\",\"USA\",\"BRA\",\"CHN\",\"DEU\",\"RUS\",\"AUS\",\"VNM\",\"JPN\",\"IRN\"],\"legendgroup\":\"\",\"locations\":[\"IRL\",\"USA\",\"BRA\",\"CHN\",\"DEU\",\"RUS\",\"AUS\",\"VNM\",\"JPN\",\"IRN\"],\"marker\":{\"color\":\"#636efa\",\"size\":[810.1,391.0,238.7,985.0,338.9,421.6,452.8,431.7,458.5,569.0],\"sizemode\":\"area\",\"sizeref\":1.09125,\"symbol\":\"circle\"},\"mode\":\"markers\",\"name\":\"\",\"showlegend\":false,\"type\":\"scattergeo\"}],                        {\"template\":{\"data\":{\"histogram2dcontour\":[{\"type\":\"histogram2dcontour\",\"colorbar\":{\"outlinewidth\":0,\"ticks\":\"\"},\"colorscale\":[[0.0,\"#0d0887\"],[0.1111111111111111,\"#46039f\"],[0.2222222222222222,\"#7201a8\"],[0.3333333333333333,\"#9c179e\"],[0.4444444444444444,\"#bd3786\"],[0.5555555555555556,\"#d8576b\"],[0.6666666666666666,\"#ed7953\"],[0.7777777777777778,\"#fb9f3a\"],[0.8888888888888888,\"#fdca26\"],[1.0,\"#f0f921\"]]}],\"choropleth\":[{\"type\":\"choropleth\",\"colorbar\":{\"outlinewidth\":0,\"ticks\":\"\"}}],\"histogram2d\":[{\"type\":\"histogram2d\",\"colorbar\":{\"outlinewidth\":0,\"ticks\":\"\"},\"colorscale\":[[0.0,\"#0d0887\"],[0.1111111111111111,\"#46039f\"],[0.2222222222222222,\"#7201a8\"],[0.3333333333333333,\"#9c179e\"],[0.4444444444444444,\"#bd3786\"],[0.5555555555555556,\"#d8576b\"],[0.6666666666666666,\"#ed7953\"],[0.7777777777777778,\"#fb9f3a\"],[0.8888888888888888,\"#fdca26\"],[1.0,\"#f0f921\"]]}],\"heatmap\":[{\"type\":\"heatmap\",\"colorbar\":{\"outlinewidth\":0,\"ticks\":\"\"},\"colorscale\":[[0.0,\"#0d0887\"],[0.1111111111111111,\"#46039f\"],[0.2222222222222222,\"#7201a8\"],[0.3333333333333333,\"#9c179e\"],[0.4444444444444444,\"#bd3786\"],[0.5555555555555556,\"#d8576b\"],[0.6666666666666666,\"#ed7953\"],[0.7777777777777778,\"#fb9f3a\"],[0.8888888888888888,\"#fdca26\"],[1.0,\"#f0f921\"]]}],\"heatmapgl\":[{\"type\":\"heatmapgl\",\"colorbar\":{\"outlinewidth\":0,\"ticks\":\"\"},\"colorscale\":[[0.0,\"#0d0887\"],[0.1111111111111111,\"#46039f\"],[0.2222222222222222,\"#7201a8\"],[0.3333333333333333,\"#9c179e\"],[0.4444444444444444,\"#bd3786\"],[0.5555555555555556,\"#d8576b\"],[0.6666666666666666,\"#ed7953\"],[0.7777777777777778,\"#fb9f3a\"],[0.8888888888888888,\"#fdca26\"],[1.0,\"#f0f921\"]]}],\"contourcarpet\":[{\"type\":\"contourcarpet\",\"colorbar\":{\"outlinewidth\":0,\"ticks\":\"\"}}],\"contour\":[{\"type\":\"contour\",\"colorbar\":{\"outlinewidth\":0,\"ticks\":\"\"},\"colorscale\":[[0.0,\"#0d0887\"],[0.1111111111111111,\"#46039f\"],[0.2222222222222222,\"#7201a8\"],[0.3333333333333333,\"#9c179e\"],[0.4444444444444444,\"#bd3786\"],[0.5555555555555556,\"#d8576b\"],[0.6666666666666666,\"#ed7953\"],[0.7777777777777778,\"#fb9f3a\"],[0.8888888888888888,\"#fdca26\"],[1.0,\"#f0f921\"]]}],\"surface\":[{\"type\":\"surface\",\"colorbar\":{\"outlinewidth\":0,\"ticks\":\"\"},\"colorscale\":[[0.0,\"#0d0887\"],[0.1111111111111111,\"#46039f\"],[0.2222222222222222,\"#7201a8\"],[0.3333333333333333,\"#9c179e\"],[0.4444444444444444,\"#bd3786\"],[0.5555555555555556,\"#d8576b\"],[0.6666666666666666,\"#ed7953\"],[0.7777777777777778,\"#fb9f3a\"],[0.8888888888888888,\"#fdca26\"],[1.0,\"#f0f921\"]]}],\"mesh3d\":[{\"type\":\"mesh3d\",\"colorbar\":{\"outlinewidth\":0,\"ticks\":\"\"}}],\"scatter\":[{\"fillpattern\":{\"fillmode\":\"overlay\",\"size\":10,\"solidity\":0.2},\"type\":\"scatter\"}],\"parcoords\":[{\"type\":\"parcoords\",\"line\":{\"colorbar\":{\"outlinewidth\":0,\"ticks\":\"\"}}}],\"scatterpolargl\":[{\"type\":\"scatterpolargl\",\"marker\":{\"colorbar\":{\"outlinewidth\":0,\"ticks\":\"\"}}}],\"bar\":[{\"error_x\":{\"color\":\"#2a3f5f\"},\"error_y\":{\"color\":\"#2a3f5f\"},\"marker\":{\"line\":{\"color\":\"#E5ECF6\",\"width\":0.5},\"pattern\":{\"fillmode\":\"overlay\",\"size\":10,\"solidity\":0.2}},\"type\":\"bar\"}],\"scattergeo\":[{\"type\":\"scattergeo\",\"marker\":{\"colorbar\":{\"outlinewidth\":0,\"ticks\":\"\"}}}],\"scatterpolar\":[{\"type\":\"scatterpolar\",\"marker\":{\"colorbar\":{\"outlinewidth\":0,\"ticks\":\"\"}}}],\"histogram\":[{\"marker\":{\"pattern\":{\"fillmode\":\"overlay\",\"size\":10,\"solidity\":0.2}},\"type\":\"histogram\"}],\"scattergl\":[{\"type\":\"scattergl\",\"marker\":{\"colorbar\":{\"outlinewidth\":0,\"ticks\":\"\"}}}],\"scatter3d\":[{\"type\":\"scatter3d\",\"line\":{\"colorbar\":{\"outlinewidth\":0,\"ticks\":\"\"}},\"marker\":{\"colorbar\":{\"outlinewidth\":0,\"ticks\":\"\"}}}],\"scattermapbox\":[{\"type\":\"scattermapbox\",\"marker\":{\"colorbar\":{\"outlinewidth\":0,\"ticks\":\"\"}}}],\"scatterternary\":[{\"type\":\"scatterternary\",\"marker\":{\"colorbar\":{\"outlinewidth\":0,\"ticks\":\"\"}}}],\"scattercarpet\":[{\"type\":\"scattercarpet\",\"marker\":{\"colorbar\":{\"outlinewidth\":0,\"ticks\":\"\"}}}],\"carpet\":[{\"aaxis\":{\"endlinecolor\":\"#2a3f5f\",\"gridcolor\":\"white\",\"linecolor\":\"white\",\"minorgridcolor\":\"white\",\"startlinecolor\":\"#2a3f5f\"},\"baxis\":{\"endlinecolor\":\"#2a3f5f\",\"gridcolor\":\"white\",\"linecolor\":\"white\",\"minorgridcolor\":\"white\",\"startlinecolor\":\"#2a3f5f\"},\"type\":\"carpet\"}],\"table\":[{\"cells\":{\"fill\":{\"color\":\"#EBF0F8\"},\"line\":{\"color\":\"white\"}},\"header\":{\"fill\":{\"color\":\"#C8D4E3\"},\"line\":{\"color\":\"white\"}},\"type\":\"table\"}],\"barpolar\":[{\"marker\":{\"line\":{\"color\":\"#E5ECF6\",\"width\":0.5},\"pattern\":{\"fillmode\":\"overlay\",\"size\":10,\"solidity\":0.2}},\"type\":\"barpolar\"}],\"pie\":[{\"automargin\":true,\"type\":\"pie\"}]},\"layout\":{\"autotypenumbers\":\"strict\",\"colorway\":[\"#636efa\",\"#EF553B\",\"#00cc96\",\"#ab63fa\",\"#FFA15A\",\"#19d3f3\",\"#FF6692\",\"#B6E880\",\"#FF97FF\",\"#FECB52\"],\"font\":{\"color\":\"#2a3f5f\"},\"hovermode\":\"closest\",\"hoverlabel\":{\"align\":\"left\"},\"paper_bgcolor\":\"white\",\"plot_bgcolor\":\"#E5ECF6\",\"polar\":{\"bgcolor\":\"#E5ECF6\",\"angularaxis\":{\"gridcolor\":\"white\",\"linecolor\":\"white\",\"ticks\":\"\"},\"radialaxis\":{\"gridcolor\":\"white\",\"linecolor\":\"white\",\"ticks\":\"\"}},\"ternary\":{\"bgcolor\":\"#E5ECF6\",\"aaxis\":{\"gridcolor\":\"white\",\"linecolor\":\"white\",\"ticks\":\"\"},\"baxis\":{\"gridcolor\":\"white\",\"linecolor\":\"white\",\"ticks\":\"\"},\"caxis\":{\"gridcolor\":\"white\",\"linecolor\":\"white\",\"ticks\":\"\"}},\"coloraxis\":{\"colorbar\":{\"outlinewidth\":0,\"ticks\":\"\"}},\"colorscale\":{\"sequential\":[[0.0,\"#0d0887\"],[0.1111111111111111,\"#46039f\"],[0.2222222222222222,\"#7201a8\"],[0.3333333333333333,\"#9c179e\"],[0.4444444444444444,\"#bd3786\"],[0.5555555555555556,\"#d8576b\"],[0.6666666666666666,\"#ed7953\"],[0.7777777777777778,\"#fb9f3a\"],[0.8888888888888888,\"#fdca26\"],[1.0,\"#f0f921\"]],\"sequentialminus\":[[0.0,\"#0d0887\"],[0.1111111111111111,\"#46039f\"],[0.2222222222222222,\"#7201a8\"],[0.3333333333333333,\"#9c179e\"],[0.4444444444444444,\"#bd3786\"],[0.5555555555555556,\"#d8576b\"],[0.6666666666666666,\"#ed7953\"],[0.7777777777777778,\"#fb9f3a\"],[0.8888888888888888,\"#fdca26\"],[1.0,\"#f0f921\"]],\"diverging\":[[0,\"#8e0152\"],[0.1,\"#c51b7d\"],[0.2,\"#de77ae\"],[0.3,\"#f1b6da\"],[0.4,\"#fde0ef\"],[0.5,\"#f7f7f7\"],[0.6,\"#e6f5d0\"],[0.7,\"#b8e186\"],[0.8,\"#7fbc41\"],[0.9,\"#4d9221\"],[1,\"#276419\"]]},\"xaxis\":{\"gridcolor\":\"white\",\"linecolor\":\"white\",\"ticks\":\"\",\"title\":{\"standoff\":15},\"zerolinecolor\":\"white\",\"automargin\":true,\"zerolinewidth\":2},\"yaxis\":{\"gridcolor\":\"white\",\"linecolor\":\"white\",\"ticks\":\"\",\"title\":{\"standoff\":15},\"zerolinecolor\":\"white\",\"automargin\":true,\"zerolinewidth\":2},\"scene\":{\"xaxis\":{\"backgroundcolor\":\"#E5ECF6\",\"gridcolor\":\"white\",\"linecolor\":\"white\",\"showbackground\":true,\"ticks\":\"\",\"zerolinecolor\":\"white\",\"gridwidth\":2},\"yaxis\":{\"backgroundcolor\":\"#E5ECF6\",\"gridcolor\":\"white\",\"linecolor\":\"white\",\"showbackground\":true,\"ticks\":\"\",\"zerolinecolor\":\"white\",\"gridwidth\":2},\"zaxis\":{\"backgroundcolor\":\"#E5ECF6\",\"gridcolor\":\"white\",\"linecolor\":\"white\",\"showbackground\":true,\"ticks\":\"\",\"zerolinecolor\":\"white\",\"gridwidth\":2}},\"shapedefaults\":{\"line\":{\"color\":\"#2a3f5f\"}},\"annotationdefaults\":{\"arrowcolor\":\"#2a3f5f\",\"arrowhead\":0,\"arrowwidth\":1},\"geo\":{\"bgcolor\":\"white\",\"landcolor\":\"#E5ECF6\",\"subunitcolor\":\"white\",\"showland\":true,\"showlakes\":true,\"lakecolor\":\"white\"},\"title\":{\"x\":0.05},\"mapbox\":{\"style\":\"light\"}}},\"geo\":{\"domain\":{\"x\":[0.0,1.0],\"y\":[0.0,1.0]},\"center\":{},\"projection\":{\"type\":\"natural earth\"}},\"legend\":{\"tracegroupgap\":0,\"itemsizing\":\"constant\"},\"margin\":{\"t\":60},\"updatemenus\":[{\"buttons\":[{\"args\":[null,{\"frame\":{\"duration\":500,\"redraw\":true},\"mode\":\"immediate\",\"fromcurrent\":true,\"transition\":{\"duration\":500,\"easing\":\"linear\"}}],\"label\":\"&#9654;\",\"method\":\"animate\"},{\"args\":[[null],{\"frame\":{\"duration\":0,\"redraw\":true},\"mode\":\"immediate\",\"fromcurrent\":true,\"transition\":{\"duration\":0,\"easing\":\"linear\"}}],\"label\":\"&#9724;\",\"method\":\"animate\"}],\"direction\":\"left\",\"pad\":{\"r\":10,\"t\":70},\"showactive\":false,\"type\":\"buttons\",\"x\":0.1,\"xanchor\":\"right\",\"y\":0,\"yanchor\":\"top\"}],\"sliders\":[{\"active\":0,\"currentvalue\":{\"prefix\":\"Year=\"},\"len\":0.9,\"pad\":{\"b\":10,\"t\":60},\"steps\":[{\"args\":[[\"2007\"],{\"frame\":{\"duration\":0,\"redraw\":true},\"mode\":\"immediate\",\"fromcurrent\":true,\"transition\":{\"duration\":0,\"easing\":\"linear\"}}],\"label\":\"2007\",\"method\":\"animate\"},{\"args\":[[\"2008\"],{\"frame\":{\"duration\":0,\"redraw\":true},\"mode\":\"immediate\",\"fromcurrent\":true,\"transition\":{\"duration\":0,\"easing\":\"linear\"}}],\"label\":\"2008\",\"method\":\"animate\"},{\"args\":[[\"2009\"],{\"frame\":{\"duration\":0,\"redraw\":true},\"mode\":\"immediate\",\"fromcurrent\":true,\"transition\":{\"duration\":0,\"easing\":\"linear\"}}],\"label\":\"2009\",\"method\":\"animate\"},{\"args\":[[\"2010\"],{\"frame\":{\"duration\":0,\"redraw\":true},\"mode\":\"immediate\",\"fromcurrent\":true,\"transition\":{\"duration\":0,\"easing\":\"linear\"}}],\"label\":\"2010\",\"method\":\"animate\"},{\"args\":[[\"2011\"],{\"frame\":{\"duration\":0,\"redraw\":true},\"mode\":\"immediate\",\"fromcurrent\":true,\"transition\":{\"duration\":0,\"easing\":\"linear\"}}],\"label\":\"2011\",\"method\":\"animate\"},{\"args\":[[\"2012\"],{\"frame\":{\"duration\":0,\"redraw\":true},\"mode\":\"immediate\",\"fromcurrent\":true,\"transition\":{\"duration\":0,\"easing\":\"linear\"}}],\"label\":\"2012\",\"method\":\"animate\"},{\"args\":[[\"2013\"],{\"frame\":{\"duration\":0,\"redraw\":true},\"mode\":\"immediate\",\"fromcurrent\":true,\"transition\":{\"duration\":0,\"easing\":\"linear\"}}],\"label\":\"2013\",\"method\":\"animate\"},{\"args\":[[\"2014\"],{\"frame\":{\"duration\":0,\"redraw\":true},\"mode\":\"immediate\",\"fromcurrent\":true,\"transition\":{\"duration\":0,\"easing\":\"linear\"}}],\"label\":\"2014\",\"method\":\"animate\"},{\"args\":[[\"2015\"],{\"frame\":{\"duration\":0,\"redraw\":true},\"mode\":\"immediate\",\"fromcurrent\":true,\"transition\":{\"duration\":0,\"easing\":\"linear\"}}],\"label\":\"2015\",\"method\":\"animate\"}],\"x\":0.1,\"xanchor\":\"left\",\"y\":0,\"yanchor\":\"top\"}],\"title\":{\"text\":\"Cement Per Capita Consumption (kg/person)\"}},                        {\"responsive\": true}                    ).then(function(){\n",
       "                            Plotly.addFrames('77925450-55cb-4e5d-b794-96b252aa051a', [{\"data\":[{\"geo\":\"geo\",\"hovertemplate\":\"<b>%{hovertext}</b><br><br>Year=2007<br>Per Capita Consumption=%{marker.size}<br>Code=%{location}<extra></extra>\",\"hovertext\":[\"IRL\",\"USA\",\"BRA\",\"CHN\",\"DEU\",\"RUS\",\"AUS\",\"VNM\",\"JPN\",\"IRN\"],\"legendgroup\":\"\",\"locations\":[\"IRL\",\"USA\",\"BRA\",\"CHN\",\"DEU\",\"RUS\",\"AUS\",\"VNM\",\"JPN\",\"IRN\"],\"marker\":{\"color\":\"#636efa\",\"size\":[810.1,391.0,238.7,985.0,338.9,421.6,452.8,431.7,458.5,569.0],\"sizemode\":\"area\",\"sizeref\":1.09125,\"symbol\":\"circle\"},\"mode\":\"markers\",\"name\":\"\",\"showlegend\":false,\"type\":\"scattergeo\"}],\"name\":\"2007\"},{\"data\":[{\"geo\":\"geo\",\"hovertemplate\":\"<b>%{hovertext}</b><br><br>Year=2008<br>Per Capita Consumption=%{marker.size}<br>Code=%{location}<extra></extra>\",\"hovertext\":[\"IRL\",\"USA\",\"BRA\",\"CHN\",\"DEU\",\"RUS\",\"AUS\",\"VNM\",\"JPN\",\"IRN\"],\"legendgroup\":\"\",\"locations\":[\"IRL\",\"USA\",\"BRA\",\"CHN\",\"DEU\",\"RUS\",\"AUS\",\"VNM\",\"JPN\",\"IRN\"],\"marker\":{\"color\":\"#636efa\",\"size\":[777.2,321.5,267.7,1009.0,338.4,411.8,472.6,461.7,447.0,608.9],\"sizemode\":\"area\",\"sizeref\":1.09125,\"symbol\":\"circle\"},\"mode\":\"markers\",\"name\":\"\",\"showlegend\":false,\"type\":\"scattergeo\"}],\"name\":\"2008\"},{\"data\":[{\"geo\":\"geo\",\"hovertemplate\":\"<b>%{hovertext}</b><br><br>Year=2009<br>Per Capita Consumption=%{marker.size}<br>Code=%{location}<extra></extra>\",\"hovertext\":[\"IRL\",\"USA\",\"BRA\",\"CHN\",\"DEU\",\"RUS\",\"AUS\",\"VNM\",\"JPN\",\"IRN\"],\"legendgroup\":\"\",\"locations\":[\"IRL\",\"USA\",\"BRA\",\"CHN\",\"DEU\",\"RUS\",\"AUS\",\"VNM\",\"JPN\",\"IRN\"],\"marker\":{\"color\":\"#636efa\",\"size\":[382.6,229.4,267.3,1183.0,307.8,307.8,442.3,547.4,385.2,670.0],\"sizemode\":\"area\",\"sizeref\":1.09125,\"symbol\":\"circle\"},\"mode\":\"markers\",\"name\":\"\",\"showlegend\":false,\"type\":\"scattergeo\"}],\"name\":\"2009\"},{\"data\":[{\"geo\":\"geo\",\"hovertemplate\":\"<b>%{hovertext}</b><br><br>Year=2010<br>Per Capita Consumption=%{marker.size}<br>Code=%{location}<extra></extra>\",\"hovertext\":[\"IRL\",\"USA\",\"BRA\",\"CHN\",\"DEU\",\"RUS\",\"AUS\",\"VNM\",\"JPN\",\"IRN\"],\"legendgroup\":\"\",\"locations\":[\"IRL\",\"USA\",\"BRA\",\"CHN\",\"DEU\",\"RUS\",\"AUS\",\"VNM\",\"JPN\",\"IRN\"],\"marker\":{\"color\":\"#636efa\",\"size\":[368.2,233.1,304.6,1346.0,306.0,355.3,425.6,628.4,363.7,653.2],\"sizemode\":\"area\",\"sizeref\":1.09125,\"symbol\":\"circle\"},\"mode\":\"markers\",\"name\":\"\",\"showlegend\":false,\"type\":\"scattergeo\"}],\"name\":\"2010\"},{\"data\":[{\"geo\":\"geo\",\"hovertemplate\":\"<b>%{hovertext}</b><br><br>Year=2011<br>Per Capita Consumption=%{marker.size}<br>Code=%{location}<extra></extra>\",\"hovertext\":[\"IRL\",\"USA\",\"BRA\",\"CHN\",\"DEU\",\"RUS\",\"AUS\",\"VNM\",\"JPN\",\"IRN\"],\"legendgroup\":\"\",\"locations\":[\"IRL\",\"USA\",\"BRA\",\"CHN\",\"DEU\",\"RUS\",\"AUS\",\"VNM\",\"JPN\",\"IRN\"],\"marker\":{\"color\":\"#636efa\",\"size\":[270.8,234.5,327.9,1495.0,330.7,406.0,405.1,647.5,366.5,861.6],\"sizemode\":\"area\",\"sizeref\":1.09125,\"symbol\":\"circle\"},\"mode\":\"markers\",\"name\":\"\",\"showlegend\":false,\"type\":\"scattergeo\"}],\"name\":\"2011\"},{\"data\":[{\"geo\":\"geo\",\"hovertemplate\":\"<b>%{hovertext}</b><br><br>Year=2012<br>Per Capita Consumption=%{marker.size}<br>Code=%{location}<extra></extra>\",\"hovertext\":[\"IRL\",\"USA\",\"BRA\",\"CHN\",\"DEU\",\"RUS\",\"AUS\",\"VNM\",\"JPN\",\"IRN\"],\"legendgroup\":\"\",\"locations\":[\"IRL\",\"USA\",\"BRA\",\"CHN\",\"DEU\",\"RUS\",\"AUS\",\"VNM\",\"JPN\",\"IRN\"],\"marker\":{\"color\":\"#636efa\",\"size\":[10.4,252.8,350.4,1566.0,335.1,449.5,399.1,610.1,390.7,902.8],\"sizemode\":\"area\",\"sizeref\":1.09125,\"symbol\":\"circle\"},\"mode\":\"markers\",\"name\":\"\",\"showlegend\":false,\"type\":\"scattergeo\"}],\"name\":\"2012\"},{\"data\":[{\"geo\":\"geo\",\"hovertemplate\":\"<b>%{hovertext}</b><br><br>Year=2013<br>Per Capita Consumption=%{marker.size}<br>Code=%{location}<extra></extra>\",\"hovertext\":[\"IRL\",\"USA\",\"BRA\",\"CHN\",\"DEU\",\"RUS\",\"AUS\",\"VNM\",\"JPN\",\"IRN\"],\"legendgroup\":\"\",\"locations\":[\"IRL\",\"USA\",\"BRA\",\"CHN\",\"DEU\",\"RUS\",\"AUS\",\"VNM\",\"JPN\",\"IRN\"],\"marker\":{\"color\":\"#636efa\",\"size\":[182.8,260.0,350.7,1698.0,327.4,481.4,380.6,591.4,417.5,862.3],\"sizemode\":\"area\",\"sizeref\":1.09125,\"symbol\":\"circle\"},\"mode\":\"markers\",\"name\":\"\",\"showlegend\":false,\"type\":\"scattergeo\"}],\"name\":\"2013\"},{\"data\":[{\"geo\":\"geo\",\"hovertemplate\":\"<b>%{hovertext}</b><br><br>Year=2014<br>Per Capita Consumption=%{marker.size}<br>Code=%{location}<extra></extra>\",\"hovertext\":[\"IRL\",\"USA\",\"BRA\",\"CHN\",\"DEU\",\"RUS\",\"AUS\",\"VNM\",\"JPN\",\"IRN\"],\"legendgroup\":\"\",\"locations\":[\"IRL\",\"USA\",\"BRA\",\"CHN\",\"DEU\",\"RUS\",\"AUS\",\"VNM\",\"JPN\",\"IRN\"],\"marker\":{\"color\":\"#636efa\",\"size\":[124.0,271.8,352.7,1746.0,339.6,499.2,399.4,617.9,415.8,800.3],\"sizemode\":\"area\",\"sizeref\":1.09125,\"symbol\":\"circle\"},\"mode\":\"markers\",\"name\":\"\",\"showlegend\":false,\"type\":\"scattergeo\"}],\"name\":\"2014\"},{\"data\":[{\"geo\":\"geo\",\"hovertemplate\":\"<b>%{hovertext}</b><br><br>Year=2015<br>Per Capita Consumption=%{marker.size}<br>Code=%{location}<extra></extra>\",\"hovertext\":[\"IRL\",\"USA\",\"BRA\",\"CHN\",\"DEU\",\"RUS\",\"AUS\",\"VNM\",\"JPN\",\"IRN\"],\"legendgroup\":\"\",\"locations\":[\"IRL\",\"USA\",\"BRA\",\"CHN\",\"DEU\",\"RUS\",\"AUS\",\"VNM\",\"JPN\",\"IRN\"],\"marker\":{\"color\":\"#636efa\",\"size\":[141.9,318.7,318.7,1645.0,320.7,439.7,394.7,689.5,386.3,626.9],\"sizemode\":\"area\",\"sizeref\":1.09125,\"symbol\":\"circle\"},\"mode\":\"markers\",\"name\":\"\",\"showlegend\":false,\"type\":\"scattergeo\"}],\"name\":\"2015\"}]);\n",
       "                        }).then(function(){\n",
       "                            \n",
       "var gd = document.getElementById('77925450-55cb-4e5d-b794-96b252aa051a');\n",
       "var x = new MutationObserver(function (mutations, observer) {{\n",
       "        var display = window.getComputedStyle(gd).display;\n",
       "        if (!display || display === 'none') {{\n",
       "            console.log([gd, 'removed!']);\n",
       "            Plotly.purge(gd);\n",
       "            observer.disconnect();\n",
       "        }}\n",
       "}});\n",
       "\n",
       "// Listen for the removal of the full notebook cells\n",
       "var notebookContainer = gd.closest('#notebook-container');\n",
       "if (notebookContainer) {{\n",
       "    x.observe(notebookContainer, {childList: true});\n",
       "}}\n",
       "\n",
       "// Listen for the clearing of the current output cell\n",
       "var outputEl = gd.closest('.output');\n",
       "if (outputEl) {{\n",
       "    x.observe(outputEl, {childList: true});\n",
       "}}\n",
       "\n",
       "                        })                };                });            </script>        </div>"
      ]
     },
     "metadata": {},
     "output_type": "display_data"
    }
   ],
   "source": [
    "# Interactive scatterplot map graph: Cement Per Capita Consumption (kg/person)\n",
    "\n",
    "fig = px.scatter_geo(cement_merge, \n",
    "                    locations=\"Code\", \n",
    "                     # name of column which contains state codes\n",
    "                    size=\"Per Capita Consumption\", \n",
    "                     # name of column which contains aggregate value to visualize\n",
    "                    hover_name=\"Code\",\n",
    "                    size_max=40,\n",
    "                    animation_frame=\"Year\",)\n",
    "                    \n",
    "fig.update_layout(\n",
    "    # add a title text for the plot\n",
    "    title_text = 'Cement Per Capita Consumption (kg/person)',\n",
    "    # limit plot scope to USA\n",
    "    geo = dict(projection={'type':'natural earth'})\n",
    ")\n",
    "fig.show()\n"
   ]
  },
  {
   "cell_type": "code",
   "execution_count": 437,
   "id": "cace28c1",
   "metadata": {},
   "outputs": [
    {
     "data": {
      "application/vnd.plotly.v1+json": {
       "config": {
        "plotlyServerURL": "https://plot.ly"
       },
       "data": [
        {
         "geo": "geo",
         "hovertemplate": "<b>%{hovertext}</b><br><br>Year=2007<br>Import Price=%{marker.size}<br>Code=%{location}<extra></extra>",
         "hovertext": [
          "IRL",
          "USA",
          "BRA",
          "CHN",
          "DEU",
          "RUS",
          "AUS",
          "VNM",
          "JPN",
          "IRN"
         ],
         "legendgroup": "",
         "locations": [
          "IRL",
          "USA",
          "BRA",
          "CHN",
          "DEU",
          "RUS",
          "AUS",
          "VNM",
          "JPN",
          "IRN"
         ],
         "marker": {
          "color": "#636efa",
          "size": [
           95.7,
           77.9,
           72.5,
           42.1,
           140.6,
           100,
           124.7,
           115.2,
           53.6,
           81.5
          ],
          "sizemode": "area",
          "sizeref": 0.48362499999999997,
          "symbol": "circle"
         },
         "mode": "markers",
         "name": "",
         "showlegend": false,
         "type": "scattergeo"
        }
       ],
       "frames": [
        {
         "data": [
          {
           "geo": "geo",
           "hovertemplate": "<b>%{hovertext}</b><br><br>Year=2007<br>Import Price=%{marker.size}<br>Code=%{location}<extra></extra>",
           "hovertext": [
            "IRL",
            "USA",
            "BRA",
            "CHN",
            "DEU",
            "RUS",
            "AUS",
            "VNM",
            "JPN",
            "IRN"
           ],
           "legendgroup": "",
           "locations": [
            "IRL",
            "USA",
            "BRA",
            "CHN",
            "DEU",
            "RUS",
            "AUS",
            "VNM",
            "JPN",
            "IRN"
           ],
           "marker": {
            "color": "#636efa",
            "size": [
             95.7,
             77.9,
             72.5,
             42.1,
             140.6,
             100,
             124.7,
             115.2,
             53.6,
             81.5
            ],
            "sizemode": "area",
            "sizeref": 0.48362499999999997,
            "symbol": "circle"
           },
           "mode": "markers",
           "name": "",
           "showlegend": false,
           "type": "scattergeo"
          }
         ],
         "name": "2007"
        },
        {
         "data": [
          {
           "geo": "geo",
           "hovertemplate": "<b>%{hovertext}</b><br><br>Year=2008<br>Import Price=%{marker.size}<br>Code=%{location}<extra></extra>",
           "hovertext": [
            "IRL",
            "USA",
            "BRA",
            "CHN",
            "DEU",
            "RUS",
            "AUS",
            "VNM",
            "JPN",
            "IRN"
           ],
           "legendgroup": "",
           "locations": [
            "IRL",
            "USA",
            "BRA",
            "CHN",
            "DEU",
            "RUS",
            "AUS",
            "VNM",
            "JPN",
            "IRN"
           ],
           "marker": {
            "color": "#636efa",
            "size": [
             88.9,
             87.1,
             93.3,
             47.9,
             162.8,
             101.2,
             109.6,
             105.8,
             65.8,
             97.6
            ],
            "sizemode": "area",
            "sizeref": 0.48362499999999997,
            "symbol": "circle"
           },
           "mode": "markers",
           "name": "",
           "showlegend": false,
           "type": "scattergeo"
          }
         ],
         "name": "2008"
        },
        {
         "data": [
          {
           "geo": "geo",
           "hovertemplate": "<b>%{hovertext}</b><br><br>Year=2009<br>Import Price=%{marker.size}<br>Code=%{location}<extra></extra>",
           "hovertext": [
            "IRL",
            "USA",
            "BRA",
            "CHN",
            "DEU",
            "RUS",
            "AUS",
            "VNM",
            "JPN",
            "IRN"
           ],
           "legendgroup": "",
           "locations": [
            "IRL",
            "USA",
            "BRA",
            "CHN",
            "DEU",
            "RUS",
            "AUS",
            "VNM",
            "JPN",
            "IRN"
           ],
           "marker": {
            "color": "#636efa",
            "size": [
             112.6,
             88.6,
             99.3,
             47.5,
             155.7,
             78.9,
             107.1,
             126.6,
             75.2,
             225.8
            ],
            "sizemode": "area",
            "sizeref": 0.48362499999999997,
            "symbol": "circle"
           },
           "mode": "markers",
           "name": "",
           "showlegend": false,
           "type": "scattergeo"
          }
         ],
         "name": "2009"
        },
        {
         "data": [
          {
           "geo": "geo",
           "hovertemplate": "<b>%{hovertext}</b><br><br>Year=2010<br>Import Price=%{marker.size}<br>Code=%{location}<extra></extra>",
           "hovertext": [
            "IRL",
            "USA",
            "BRA",
            "CHN",
            "DEU",
            "RUS",
            "AUS",
            "VNM",
            "JPN",
            "IRN"
           ],
           "legendgroup": "",
           "locations": [
            "IRL",
            "USA",
            "BRA",
            "CHN",
            "DEU",
            "RUS",
            "AUS",
            "VNM",
            "JPN",
            "IRN"
           ],
           "marker": {
            "color": "#636efa",
            "size": [
             99.9,
             87.3,
             92.3,
             47.2,
             158.8,
             77.8,
             116.7,
             124.3,
             89.8,
             343
            ],
            "sizemode": "area",
            "sizeref": 0.48362499999999997,
            "symbol": "circle"
           },
           "mode": "markers",
           "name": "",
           "showlegend": false,
           "type": "scattergeo"
          }
         ],
         "name": "2010"
        },
        {
         "data": [
          {
           "geo": "geo",
           "hovertemplate": "<b>%{hovertext}</b><br><br>Year=2011<br>Import Price=%{marker.size}<br>Code=%{location}<extra></extra>",
           "hovertext": [
            "IRL",
            "USA",
            "BRA",
            "CHN",
            "DEU",
            "RUS",
            "AUS",
            "VNM",
            "JPN",
            "IRN"
           ],
           "legendgroup": "",
           "locations": [
            "IRL",
            "USA",
            "BRA",
            "CHN",
            "DEU",
            "RUS",
            "AUS",
            "VNM",
            "JPN",
            "IRN"
           ],
           "marker": {
            "color": "#636efa",
            "size": [
             104.6,
             87.4,
             90.6,
             52.9,
             164.9,
             88.6,
             85.9,
             135.1,
             96.1,
             773.8
            ],
            "sizemode": "area",
            "sizeref": 0.48362499999999997,
            "symbol": "circle"
           },
           "mode": "markers",
           "name": "",
           "showlegend": false,
           "type": "scattergeo"
          }
         ],
         "name": "2011"
        },
        {
         "data": [
          {
           "geo": "geo",
           "hovertemplate": "<b>%{hovertext}</b><br><br>Year=2012<br>Import Price=%{marker.size}<br>Code=%{location}<extra></extra>",
           "hovertext": [
            "IRL",
            "USA",
            "BRA",
            "CHN",
            "DEU",
            "RUS",
            "AUS",
            "VNM",
            "JPN",
            "IRN"
           ],
           "legendgroup": "",
           "locations": [
            "IRL",
            "USA",
            "BRA",
            "CHN",
            "DEU",
            "RUS",
            "AUS",
            "VNM",
            "JPN",
            "IRN"
           ],
           "marker": {
            "color": "#636efa",
            "size": [
             118.5,
             88.1,
             93.4,
             57.9,
             141.8,
             82.3,
             81.4,
             107.9,
             93.4,
             189.3
            ],
            "sizemode": "area",
            "sizeref": 0.48362499999999997,
            "symbol": "circle"
           },
           "mode": "markers",
           "name": "",
           "showlegend": false,
           "type": "scattergeo"
          }
         ],
         "name": "2012"
        },
        {
         "data": [
          {
           "geo": "geo",
           "hovertemplate": "<b>%{hovertext}</b><br><br>Year=2013<br>Import Price=%{marker.size}<br>Code=%{location}<extra></extra>",
           "hovertext": [
            "IRL",
            "USA",
            "BRA",
            "CHN",
            "DEU",
            "RUS",
            "AUS",
            "VNM",
            "JPN",
            "IRN"
           ],
           "legendgroup": "",
           "locations": [
            "IRL",
            "USA",
            "BRA",
            "CHN",
            "DEU",
            "RUS",
            "AUS",
            "VNM",
            "JPN",
            "IRN"
           ],
           "marker": {
            "color": "#636efa",
            "size": [
             107.8,
             87.8,
             89.8,
             65.3,
             151.4,
             80.1,
             95,
             125.9,
             83,
             330.6
            ],
            "sizemode": "area",
            "sizeref": 0.48362499999999997,
            "symbol": "circle"
           },
           "mode": "markers",
           "name": "",
           "showlegend": false,
           "type": "scattergeo"
          }
         ],
         "name": "2013"
        },
        {
         "data": [
          {
           "geo": "geo",
           "hovertemplate": "<b>%{hovertext}</b><br><br>Year=2014<br>Import Price=%{marker.size}<br>Code=%{location}<extra></extra>",
           "hovertext": [
            "IRL",
            "USA",
            "BRA",
            "CHN",
            "DEU",
            "RUS",
            "AUS",
            "VNM",
            "JPN",
            "IRN"
           ],
           "legendgroup": "",
           "locations": [
            "IRL",
            "USA",
            "BRA",
            "CHN",
            "DEU",
            "RUS",
            "AUS",
            "VNM",
            "JPN",
            "IRN"
           ],
           "marker": {
            "color": "#636efa",
            "size": [
             88.9,
             109.3,
             93.4,
             89.8,
             157.6,
             75.1,
             106.3,
             188.5,
             92.2,
             225.8
            ],
            "sizemode": "area",
            "sizeref": 0.48362499999999997,
            "symbol": "circle"
           },
           "mode": "markers",
           "name": "",
           "showlegend": false,
           "type": "scattergeo"
          }
         ],
         "name": "2014"
        },
        {
         "data": [
          {
           "geo": "geo",
           "hovertemplate": "<b>%{hovertext}</b><br><br>Year=2015<br>Import Price=%{marker.size}<br>Code=%{location}<extra></extra>",
           "hovertext": [
            "IRL",
            "USA",
            "BRA",
            "CHN",
            "DEU",
            "RUS",
            "AUS",
            "VNM",
            "JPN",
            "IRN"
           ],
           "legendgroup": "",
           "locations": [
            "IRL",
            "USA",
            "BRA",
            "CHN",
            "DEU",
            "RUS",
            "AUS",
            "VNM",
            "JPN",
            "IRN"
           ],
           "marker": {
            "color": "#636efa",
            "size": [
             78.1,
             86.7,
             94.8,
             162.3,
             135.4,
             58.7,
             104.2,
             141.9,
             101.1,
             275.3
            ],
            "sizemode": "area",
            "sizeref": 0.48362499999999997,
            "symbol": "circle"
           },
           "mode": "markers",
           "name": "",
           "showlegend": false,
           "type": "scattergeo"
          }
         ],
         "name": "2015"
        }
       ],
       "layout": {
        "geo": {
         "center": {},
         "domain": {
          "x": [
           0,
           1
          ],
          "y": [
           0,
           1
          ]
         },
         "projection": {
          "type": "natural earth"
         }
        },
        "legend": {
         "itemsizing": "constant",
         "tracegroupgap": 0
        },
        "margin": {
         "t": 60
        },
        "sliders": [
         {
          "active": 0,
          "currentvalue": {
           "prefix": "Year="
          },
          "len": 0.9,
          "pad": {
           "b": 10,
           "t": 60
          },
          "steps": [
           {
            "args": [
             [
              "2007"
             ],
             {
              "frame": {
               "duration": 0,
               "redraw": true
              },
              "fromcurrent": true,
              "mode": "immediate",
              "transition": {
               "duration": 0,
               "easing": "linear"
              }
             }
            ],
            "label": "2007",
            "method": "animate"
           },
           {
            "args": [
             [
              "2008"
             ],
             {
              "frame": {
               "duration": 0,
               "redraw": true
              },
              "fromcurrent": true,
              "mode": "immediate",
              "transition": {
               "duration": 0,
               "easing": "linear"
              }
             }
            ],
            "label": "2008",
            "method": "animate"
           },
           {
            "args": [
             [
              "2009"
             ],
             {
              "frame": {
               "duration": 0,
               "redraw": true
              },
              "fromcurrent": true,
              "mode": "immediate",
              "transition": {
               "duration": 0,
               "easing": "linear"
              }
             }
            ],
            "label": "2009",
            "method": "animate"
           },
           {
            "args": [
             [
              "2010"
             ],
             {
              "frame": {
               "duration": 0,
               "redraw": true
              },
              "fromcurrent": true,
              "mode": "immediate",
              "transition": {
               "duration": 0,
               "easing": "linear"
              }
             }
            ],
            "label": "2010",
            "method": "animate"
           },
           {
            "args": [
             [
              "2011"
             ],
             {
              "frame": {
               "duration": 0,
               "redraw": true
              },
              "fromcurrent": true,
              "mode": "immediate",
              "transition": {
               "duration": 0,
               "easing": "linear"
              }
             }
            ],
            "label": "2011",
            "method": "animate"
           },
           {
            "args": [
             [
              "2012"
             ],
             {
              "frame": {
               "duration": 0,
               "redraw": true
              },
              "fromcurrent": true,
              "mode": "immediate",
              "transition": {
               "duration": 0,
               "easing": "linear"
              }
             }
            ],
            "label": "2012",
            "method": "animate"
           },
           {
            "args": [
             [
              "2013"
             ],
             {
              "frame": {
               "duration": 0,
               "redraw": true
              },
              "fromcurrent": true,
              "mode": "immediate",
              "transition": {
               "duration": 0,
               "easing": "linear"
              }
             }
            ],
            "label": "2013",
            "method": "animate"
           },
           {
            "args": [
             [
              "2014"
             ],
             {
              "frame": {
               "duration": 0,
               "redraw": true
              },
              "fromcurrent": true,
              "mode": "immediate",
              "transition": {
               "duration": 0,
               "easing": "linear"
              }
             }
            ],
            "label": "2014",
            "method": "animate"
           },
           {
            "args": [
             [
              "2015"
             ],
             {
              "frame": {
               "duration": 0,
               "redraw": true
              },
              "fromcurrent": true,
              "mode": "immediate",
              "transition": {
               "duration": 0,
               "easing": "linear"
              }
             }
            ],
            "label": "2015",
            "method": "animate"
           }
          ],
          "x": 0.1,
          "xanchor": "left",
          "y": 0,
          "yanchor": "top"
         }
        ],
        "template": {
         "data": {
          "bar": [
           {
            "error_x": {
             "color": "#2a3f5f"
            },
            "error_y": {
             "color": "#2a3f5f"
            },
            "marker": {
             "line": {
              "color": "#E5ECF6",
              "width": 0.5
             },
             "pattern": {
              "fillmode": "overlay",
              "size": 10,
              "solidity": 0.2
             }
            },
            "type": "bar"
           }
          ],
          "barpolar": [
           {
            "marker": {
             "line": {
              "color": "#E5ECF6",
              "width": 0.5
             },
             "pattern": {
              "fillmode": "overlay",
              "size": 10,
              "solidity": 0.2
             }
            },
            "type": "barpolar"
           }
          ],
          "carpet": [
           {
            "aaxis": {
             "endlinecolor": "#2a3f5f",
             "gridcolor": "white",
             "linecolor": "white",
             "minorgridcolor": "white",
             "startlinecolor": "#2a3f5f"
            },
            "baxis": {
             "endlinecolor": "#2a3f5f",
             "gridcolor": "white",
             "linecolor": "white",
             "minorgridcolor": "white",
             "startlinecolor": "#2a3f5f"
            },
            "type": "carpet"
           }
          ],
          "choropleth": [
           {
            "colorbar": {
             "outlinewidth": 0,
             "ticks": ""
            },
            "type": "choropleth"
           }
          ],
          "contour": [
           {
            "colorbar": {
             "outlinewidth": 0,
             "ticks": ""
            },
            "colorscale": [
             [
              0,
              "#0d0887"
             ],
             [
              0.1111111111111111,
              "#46039f"
             ],
             [
              0.2222222222222222,
              "#7201a8"
             ],
             [
              0.3333333333333333,
              "#9c179e"
             ],
             [
              0.4444444444444444,
              "#bd3786"
             ],
             [
              0.5555555555555556,
              "#d8576b"
             ],
             [
              0.6666666666666666,
              "#ed7953"
             ],
             [
              0.7777777777777778,
              "#fb9f3a"
             ],
             [
              0.8888888888888888,
              "#fdca26"
             ],
             [
              1,
              "#f0f921"
             ]
            ],
            "type": "contour"
           }
          ],
          "contourcarpet": [
           {
            "colorbar": {
             "outlinewidth": 0,
             "ticks": ""
            },
            "type": "contourcarpet"
           }
          ],
          "heatmap": [
           {
            "colorbar": {
             "outlinewidth": 0,
             "ticks": ""
            },
            "colorscale": [
             [
              0,
              "#0d0887"
             ],
             [
              0.1111111111111111,
              "#46039f"
             ],
             [
              0.2222222222222222,
              "#7201a8"
             ],
             [
              0.3333333333333333,
              "#9c179e"
             ],
             [
              0.4444444444444444,
              "#bd3786"
             ],
             [
              0.5555555555555556,
              "#d8576b"
             ],
             [
              0.6666666666666666,
              "#ed7953"
             ],
             [
              0.7777777777777778,
              "#fb9f3a"
             ],
             [
              0.8888888888888888,
              "#fdca26"
             ],
             [
              1,
              "#f0f921"
             ]
            ],
            "type": "heatmap"
           }
          ],
          "heatmapgl": [
           {
            "colorbar": {
             "outlinewidth": 0,
             "ticks": ""
            },
            "colorscale": [
             [
              0,
              "#0d0887"
             ],
             [
              0.1111111111111111,
              "#46039f"
             ],
             [
              0.2222222222222222,
              "#7201a8"
             ],
             [
              0.3333333333333333,
              "#9c179e"
             ],
             [
              0.4444444444444444,
              "#bd3786"
             ],
             [
              0.5555555555555556,
              "#d8576b"
             ],
             [
              0.6666666666666666,
              "#ed7953"
             ],
             [
              0.7777777777777778,
              "#fb9f3a"
             ],
             [
              0.8888888888888888,
              "#fdca26"
             ],
             [
              1,
              "#f0f921"
             ]
            ],
            "type": "heatmapgl"
           }
          ],
          "histogram": [
           {
            "marker": {
             "pattern": {
              "fillmode": "overlay",
              "size": 10,
              "solidity": 0.2
             }
            },
            "type": "histogram"
           }
          ],
          "histogram2d": [
           {
            "colorbar": {
             "outlinewidth": 0,
             "ticks": ""
            },
            "colorscale": [
             [
              0,
              "#0d0887"
             ],
             [
              0.1111111111111111,
              "#46039f"
             ],
             [
              0.2222222222222222,
              "#7201a8"
             ],
             [
              0.3333333333333333,
              "#9c179e"
             ],
             [
              0.4444444444444444,
              "#bd3786"
             ],
             [
              0.5555555555555556,
              "#d8576b"
             ],
             [
              0.6666666666666666,
              "#ed7953"
             ],
             [
              0.7777777777777778,
              "#fb9f3a"
             ],
             [
              0.8888888888888888,
              "#fdca26"
             ],
             [
              1,
              "#f0f921"
             ]
            ],
            "type": "histogram2d"
           }
          ],
          "histogram2dcontour": [
           {
            "colorbar": {
             "outlinewidth": 0,
             "ticks": ""
            },
            "colorscale": [
             [
              0,
              "#0d0887"
             ],
             [
              0.1111111111111111,
              "#46039f"
             ],
             [
              0.2222222222222222,
              "#7201a8"
             ],
             [
              0.3333333333333333,
              "#9c179e"
             ],
             [
              0.4444444444444444,
              "#bd3786"
             ],
             [
              0.5555555555555556,
              "#d8576b"
             ],
             [
              0.6666666666666666,
              "#ed7953"
             ],
             [
              0.7777777777777778,
              "#fb9f3a"
             ],
             [
              0.8888888888888888,
              "#fdca26"
             ],
             [
              1,
              "#f0f921"
             ]
            ],
            "type": "histogram2dcontour"
           }
          ],
          "mesh3d": [
           {
            "colorbar": {
             "outlinewidth": 0,
             "ticks": ""
            },
            "type": "mesh3d"
           }
          ],
          "parcoords": [
           {
            "line": {
             "colorbar": {
              "outlinewidth": 0,
              "ticks": ""
             }
            },
            "type": "parcoords"
           }
          ],
          "pie": [
           {
            "automargin": true,
            "type": "pie"
           }
          ],
          "scatter": [
           {
            "fillpattern": {
             "fillmode": "overlay",
             "size": 10,
             "solidity": 0.2
            },
            "type": "scatter"
           }
          ],
          "scatter3d": [
           {
            "line": {
             "colorbar": {
              "outlinewidth": 0,
              "ticks": ""
             }
            },
            "marker": {
             "colorbar": {
              "outlinewidth": 0,
              "ticks": ""
             }
            },
            "type": "scatter3d"
           }
          ],
          "scattercarpet": [
           {
            "marker": {
             "colorbar": {
              "outlinewidth": 0,
              "ticks": ""
             }
            },
            "type": "scattercarpet"
           }
          ],
          "scattergeo": [
           {
            "marker": {
             "colorbar": {
              "outlinewidth": 0,
              "ticks": ""
             }
            },
            "type": "scattergeo"
           }
          ],
          "scattergl": [
           {
            "marker": {
             "colorbar": {
              "outlinewidth": 0,
              "ticks": ""
             }
            },
            "type": "scattergl"
           }
          ],
          "scattermapbox": [
           {
            "marker": {
             "colorbar": {
              "outlinewidth": 0,
              "ticks": ""
             }
            },
            "type": "scattermapbox"
           }
          ],
          "scatterpolar": [
           {
            "marker": {
             "colorbar": {
              "outlinewidth": 0,
              "ticks": ""
             }
            },
            "type": "scatterpolar"
           }
          ],
          "scatterpolargl": [
           {
            "marker": {
             "colorbar": {
              "outlinewidth": 0,
              "ticks": ""
             }
            },
            "type": "scatterpolargl"
           }
          ],
          "scatterternary": [
           {
            "marker": {
             "colorbar": {
              "outlinewidth": 0,
              "ticks": ""
             }
            },
            "type": "scatterternary"
           }
          ],
          "surface": [
           {
            "colorbar": {
             "outlinewidth": 0,
             "ticks": ""
            },
            "colorscale": [
             [
              0,
              "#0d0887"
             ],
             [
              0.1111111111111111,
              "#46039f"
             ],
             [
              0.2222222222222222,
              "#7201a8"
             ],
             [
              0.3333333333333333,
              "#9c179e"
             ],
             [
              0.4444444444444444,
              "#bd3786"
             ],
             [
              0.5555555555555556,
              "#d8576b"
             ],
             [
              0.6666666666666666,
              "#ed7953"
             ],
             [
              0.7777777777777778,
              "#fb9f3a"
             ],
             [
              0.8888888888888888,
              "#fdca26"
             ],
             [
              1,
              "#f0f921"
             ]
            ],
            "type": "surface"
           }
          ],
          "table": [
           {
            "cells": {
             "fill": {
              "color": "#EBF0F8"
             },
             "line": {
              "color": "white"
             }
            },
            "header": {
             "fill": {
              "color": "#C8D4E3"
             },
             "line": {
              "color": "white"
             }
            },
            "type": "table"
           }
          ]
         },
         "layout": {
          "annotationdefaults": {
           "arrowcolor": "#2a3f5f",
           "arrowhead": 0,
           "arrowwidth": 1
          },
          "autotypenumbers": "strict",
          "coloraxis": {
           "colorbar": {
            "outlinewidth": 0,
            "ticks": ""
           }
          },
          "colorscale": {
           "diverging": [
            [
             0,
             "#8e0152"
            ],
            [
             0.1,
             "#c51b7d"
            ],
            [
             0.2,
             "#de77ae"
            ],
            [
             0.3,
             "#f1b6da"
            ],
            [
             0.4,
             "#fde0ef"
            ],
            [
             0.5,
             "#f7f7f7"
            ],
            [
             0.6,
             "#e6f5d0"
            ],
            [
             0.7,
             "#b8e186"
            ],
            [
             0.8,
             "#7fbc41"
            ],
            [
             0.9,
             "#4d9221"
            ],
            [
             1,
             "#276419"
            ]
           ],
           "sequential": [
            [
             0,
             "#0d0887"
            ],
            [
             0.1111111111111111,
             "#46039f"
            ],
            [
             0.2222222222222222,
             "#7201a8"
            ],
            [
             0.3333333333333333,
             "#9c179e"
            ],
            [
             0.4444444444444444,
             "#bd3786"
            ],
            [
             0.5555555555555556,
             "#d8576b"
            ],
            [
             0.6666666666666666,
             "#ed7953"
            ],
            [
             0.7777777777777778,
             "#fb9f3a"
            ],
            [
             0.8888888888888888,
             "#fdca26"
            ],
            [
             1,
             "#f0f921"
            ]
           ],
           "sequentialminus": [
            [
             0,
             "#0d0887"
            ],
            [
             0.1111111111111111,
             "#46039f"
            ],
            [
             0.2222222222222222,
             "#7201a8"
            ],
            [
             0.3333333333333333,
             "#9c179e"
            ],
            [
             0.4444444444444444,
             "#bd3786"
            ],
            [
             0.5555555555555556,
             "#d8576b"
            ],
            [
             0.6666666666666666,
             "#ed7953"
            ],
            [
             0.7777777777777778,
             "#fb9f3a"
            ],
            [
             0.8888888888888888,
             "#fdca26"
            ],
            [
             1,
             "#f0f921"
            ]
           ]
          },
          "colorway": [
           "#636efa",
           "#EF553B",
           "#00cc96",
           "#ab63fa",
           "#FFA15A",
           "#19d3f3",
           "#FF6692",
           "#B6E880",
           "#FF97FF",
           "#FECB52"
          ],
          "font": {
           "color": "#2a3f5f"
          },
          "geo": {
           "bgcolor": "white",
           "lakecolor": "white",
           "landcolor": "#E5ECF6",
           "showlakes": true,
           "showland": true,
           "subunitcolor": "white"
          },
          "hoverlabel": {
           "align": "left"
          },
          "hovermode": "closest",
          "mapbox": {
           "style": "light"
          },
          "paper_bgcolor": "white",
          "plot_bgcolor": "#E5ECF6",
          "polar": {
           "angularaxis": {
            "gridcolor": "white",
            "linecolor": "white",
            "ticks": ""
           },
           "bgcolor": "#E5ECF6",
           "radialaxis": {
            "gridcolor": "white",
            "linecolor": "white",
            "ticks": ""
           }
          },
          "scene": {
           "xaxis": {
            "backgroundcolor": "#E5ECF6",
            "gridcolor": "white",
            "gridwidth": 2,
            "linecolor": "white",
            "showbackground": true,
            "ticks": "",
            "zerolinecolor": "white"
           },
           "yaxis": {
            "backgroundcolor": "#E5ECF6",
            "gridcolor": "white",
            "gridwidth": 2,
            "linecolor": "white",
            "showbackground": true,
            "ticks": "",
            "zerolinecolor": "white"
           },
           "zaxis": {
            "backgroundcolor": "#E5ECF6",
            "gridcolor": "white",
            "gridwidth": 2,
            "linecolor": "white",
            "showbackground": true,
            "ticks": "",
            "zerolinecolor": "white"
           }
          },
          "shapedefaults": {
           "line": {
            "color": "#2a3f5f"
           }
          },
          "ternary": {
           "aaxis": {
            "gridcolor": "white",
            "linecolor": "white",
            "ticks": ""
           },
           "baxis": {
            "gridcolor": "white",
            "linecolor": "white",
            "ticks": ""
           },
           "bgcolor": "#E5ECF6",
           "caxis": {
            "gridcolor": "white",
            "linecolor": "white",
            "ticks": ""
           }
          },
          "title": {
           "x": 0.05
          },
          "xaxis": {
           "automargin": true,
           "gridcolor": "white",
           "linecolor": "white",
           "ticks": "",
           "title": {
            "standoff": 15
           },
           "zerolinecolor": "white",
           "zerolinewidth": 2
          },
          "yaxis": {
           "automargin": true,
           "gridcolor": "white",
           "linecolor": "white",
           "ticks": "",
           "title": {
            "standoff": 15
           },
           "zerolinecolor": "white",
           "zerolinewidth": 2
          }
         }
        },
        "title": {
         "text": "Cement Import Price (USD per ton)"
        },
        "updatemenus": [
         {
          "buttons": [
           {
            "args": [
             null,
             {
              "frame": {
               "duration": 500,
               "redraw": true
              },
              "fromcurrent": true,
              "mode": "immediate",
              "transition": {
               "duration": 500,
               "easing": "linear"
              }
             }
            ],
            "label": "&#9654;",
            "method": "animate"
           },
           {
            "args": [
             [
              null
             ],
             {
              "frame": {
               "duration": 0,
               "redraw": true
              },
              "fromcurrent": true,
              "mode": "immediate",
              "transition": {
               "duration": 0,
               "easing": "linear"
              }
             }
            ],
            "label": "&#9724;",
            "method": "animate"
           }
          ],
          "direction": "left",
          "pad": {
           "r": 10,
           "t": 70
          },
          "showactive": false,
          "type": "buttons",
          "x": 0.1,
          "xanchor": "right",
          "y": 0,
          "yanchor": "top"
         }
        ]
       }
      },
      "text/html": [
       "<div>                            <div id=\"e1955c48-2f4d-45fe-a5c9-4e27d024bb0b\" class=\"plotly-graph-div\" style=\"height:525px; width:100%;\"></div>            <script type=\"text/javascript\">                require([\"plotly\"], function(Plotly) {                    window.PLOTLYENV=window.PLOTLYENV || {};                                    if (document.getElementById(\"e1955c48-2f4d-45fe-a5c9-4e27d024bb0b\")) {                    Plotly.newPlot(                        \"e1955c48-2f4d-45fe-a5c9-4e27d024bb0b\",                        [{\"geo\":\"geo\",\"hovertemplate\":\"<b>%{hovertext}</b><br><br>Year=2007<br>Import Price=%{marker.size}<br>Code=%{location}<extra></extra>\",\"hovertext\":[\"IRL\",\"USA\",\"BRA\",\"CHN\",\"DEU\",\"RUS\",\"AUS\",\"VNM\",\"JPN\",\"IRN\"],\"legendgroup\":\"\",\"locations\":[\"IRL\",\"USA\",\"BRA\",\"CHN\",\"DEU\",\"RUS\",\"AUS\",\"VNM\",\"JPN\",\"IRN\"],\"marker\":{\"color\":\"#636efa\",\"size\":[95.7,77.9,72.5,42.1,140.6,100.0,124.7,115.2,53.6,81.5],\"sizemode\":\"area\",\"sizeref\":0.48362499999999997,\"symbol\":\"circle\"},\"mode\":\"markers\",\"name\":\"\",\"showlegend\":false,\"type\":\"scattergeo\"}],                        {\"template\":{\"data\":{\"histogram2dcontour\":[{\"type\":\"histogram2dcontour\",\"colorbar\":{\"outlinewidth\":0,\"ticks\":\"\"},\"colorscale\":[[0.0,\"#0d0887\"],[0.1111111111111111,\"#46039f\"],[0.2222222222222222,\"#7201a8\"],[0.3333333333333333,\"#9c179e\"],[0.4444444444444444,\"#bd3786\"],[0.5555555555555556,\"#d8576b\"],[0.6666666666666666,\"#ed7953\"],[0.7777777777777778,\"#fb9f3a\"],[0.8888888888888888,\"#fdca26\"],[1.0,\"#f0f921\"]]}],\"choropleth\":[{\"type\":\"choropleth\",\"colorbar\":{\"outlinewidth\":0,\"ticks\":\"\"}}],\"histogram2d\":[{\"type\":\"histogram2d\",\"colorbar\":{\"outlinewidth\":0,\"ticks\":\"\"},\"colorscale\":[[0.0,\"#0d0887\"],[0.1111111111111111,\"#46039f\"],[0.2222222222222222,\"#7201a8\"],[0.3333333333333333,\"#9c179e\"],[0.4444444444444444,\"#bd3786\"],[0.5555555555555556,\"#d8576b\"],[0.6666666666666666,\"#ed7953\"],[0.7777777777777778,\"#fb9f3a\"],[0.8888888888888888,\"#fdca26\"],[1.0,\"#f0f921\"]]}],\"heatmap\":[{\"type\":\"heatmap\",\"colorbar\":{\"outlinewidth\":0,\"ticks\":\"\"},\"colorscale\":[[0.0,\"#0d0887\"],[0.1111111111111111,\"#46039f\"],[0.2222222222222222,\"#7201a8\"],[0.3333333333333333,\"#9c179e\"],[0.4444444444444444,\"#bd3786\"],[0.5555555555555556,\"#d8576b\"],[0.6666666666666666,\"#ed7953\"],[0.7777777777777778,\"#fb9f3a\"],[0.8888888888888888,\"#fdca26\"],[1.0,\"#f0f921\"]]}],\"heatmapgl\":[{\"type\":\"heatmapgl\",\"colorbar\":{\"outlinewidth\":0,\"ticks\":\"\"},\"colorscale\":[[0.0,\"#0d0887\"],[0.1111111111111111,\"#46039f\"],[0.2222222222222222,\"#7201a8\"],[0.3333333333333333,\"#9c179e\"],[0.4444444444444444,\"#bd3786\"],[0.5555555555555556,\"#d8576b\"],[0.6666666666666666,\"#ed7953\"],[0.7777777777777778,\"#fb9f3a\"],[0.8888888888888888,\"#fdca26\"],[1.0,\"#f0f921\"]]}],\"contourcarpet\":[{\"type\":\"contourcarpet\",\"colorbar\":{\"outlinewidth\":0,\"ticks\":\"\"}}],\"contour\":[{\"type\":\"contour\",\"colorbar\":{\"outlinewidth\":0,\"ticks\":\"\"},\"colorscale\":[[0.0,\"#0d0887\"],[0.1111111111111111,\"#46039f\"],[0.2222222222222222,\"#7201a8\"],[0.3333333333333333,\"#9c179e\"],[0.4444444444444444,\"#bd3786\"],[0.5555555555555556,\"#d8576b\"],[0.6666666666666666,\"#ed7953\"],[0.7777777777777778,\"#fb9f3a\"],[0.8888888888888888,\"#fdca26\"],[1.0,\"#f0f921\"]]}],\"surface\":[{\"type\":\"surface\",\"colorbar\":{\"outlinewidth\":0,\"ticks\":\"\"},\"colorscale\":[[0.0,\"#0d0887\"],[0.1111111111111111,\"#46039f\"],[0.2222222222222222,\"#7201a8\"],[0.3333333333333333,\"#9c179e\"],[0.4444444444444444,\"#bd3786\"],[0.5555555555555556,\"#d8576b\"],[0.6666666666666666,\"#ed7953\"],[0.7777777777777778,\"#fb9f3a\"],[0.8888888888888888,\"#fdca26\"],[1.0,\"#f0f921\"]]}],\"mesh3d\":[{\"type\":\"mesh3d\",\"colorbar\":{\"outlinewidth\":0,\"ticks\":\"\"}}],\"scatter\":[{\"fillpattern\":{\"fillmode\":\"overlay\",\"size\":10,\"solidity\":0.2},\"type\":\"scatter\"}],\"parcoords\":[{\"type\":\"parcoords\",\"line\":{\"colorbar\":{\"outlinewidth\":0,\"ticks\":\"\"}}}],\"scatterpolargl\":[{\"type\":\"scatterpolargl\",\"marker\":{\"colorbar\":{\"outlinewidth\":0,\"ticks\":\"\"}}}],\"bar\":[{\"error_x\":{\"color\":\"#2a3f5f\"},\"error_y\":{\"color\":\"#2a3f5f\"},\"marker\":{\"line\":{\"color\":\"#E5ECF6\",\"width\":0.5},\"pattern\":{\"fillmode\":\"overlay\",\"size\":10,\"solidity\":0.2}},\"type\":\"bar\"}],\"scattergeo\":[{\"type\":\"scattergeo\",\"marker\":{\"colorbar\":{\"outlinewidth\":0,\"ticks\":\"\"}}}],\"scatterpolar\":[{\"type\":\"scatterpolar\",\"marker\":{\"colorbar\":{\"outlinewidth\":0,\"ticks\":\"\"}}}],\"histogram\":[{\"marker\":{\"pattern\":{\"fillmode\":\"overlay\",\"size\":10,\"solidity\":0.2}},\"type\":\"histogram\"}],\"scattergl\":[{\"type\":\"scattergl\",\"marker\":{\"colorbar\":{\"outlinewidth\":0,\"ticks\":\"\"}}}],\"scatter3d\":[{\"type\":\"scatter3d\",\"line\":{\"colorbar\":{\"outlinewidth\":0,\"ticks\":\"\"}},\"marker\":{\"colorbar\":{\"outlinewidth\":0,\"ticks\":\"\"}}}],\"scattermapbox\":[{\"type\":\"scattermapbox\",\"marker\":{\"colorbar\":{\"outlinewidth\":0,\"ticks\":\"\"}}}],\"scatterternary\":[{\"type\":\"scatterternary\",\"marker\":{\"colorbar\":{\"outlinewidth\":0,\"ticks\":\"\"}}}],\"scattercarpet\":[{\"type\":\"scattercarpet\",\"marker\":{\"colorbar\":{\"outlinewidth\":0,\"ticks\":\"\"}}}],\"carpet\":[{\"aaxis\":{\"endlinecolor\":\"#2a3f5f\",\"gridcolor\":\"white\",\"linecolor\":\"white\",\"minorgridcolor\":\"white\",\"startlinecolor\":\"#2a3f5f\"},\"baxis\":{\"endlinecolor\":\"#2a3f5f\",\"gridcolor\":\"white\",\"linecolor\":\"white\",\"minorgridcolor\":\"white\",\"startlinecolor\":\"#2a3f5f\"},\"type\":\"carpet\"}],\"table\":[{\"cells\":{\"fill\":{\"color\":\"#EBF0F8\"},\"line\":{\"color\":\"white\"}},\"header\":{\"fill\":{\"color\":\"#C8D4E3\"},\"line\":{\"color\":\"white\"}},\"type\":\"table\"}],\"barpolar\":[{\"marker\":{\"line\":{\"color\":\"#E5ECF6\",\"width\":0.5},\"pattern\":{\"fillmode\":\"overlay\",\"size\":10,\"solidity\":0.2}},\"type\":\"barpolar\"}],\"pie\":[{\"automargin\":true,\"type\":\"pie\"}]},\"layout\":{\"autotypenumbers\":\"strict\",\"colorway\":[\"#636efa\",\"#EF553B\",\"#00cc96\",\"#ab63fa\",\"#FFA15A\",\"#19d3f3\",\"#FF6692\",\"#B6E880\",\"#FF97FF\",\"#FECB52\"],\"font\":{\"color\":\"#2a3f5f\"},\"hovermode\":\"closest\",\"hoverlabel\":{\"align\":\"left\"},\"paper_bgcolor\":\"white\",\"plot_bgcolor\":\"#E5ECF6\",\"polar\":{\"bgcolor\":\"#E5ECF6\",\"angularaxis\":{\"gridcolor\":\"white\",\"linecolor\":\"white\",\"ticks\":\"\"},\"radialaxis\":{\"gridcolor\":\"white\",\"linecolor\":\"white\",\"ticks\":\"\"}},\"ternary\":{\"bgcolor\":\"#E5ECF6\",\"aaxis\":{\"gridcolor\":\"white\",\"linecolor\":\"white\",\"ticks\":\"\"},\"baxis\":{\"gridcolor\":\"white\",\"linecolor\":\"white\",\"ticks\":\"\"},\"caxis\":{\"gridcolor\":\"white\",\"linecolor\":\"white\",\"ticks\":\"\"}},\"coloraxis\":{\"colorbar\":{\"outlinewidth\":0,\"ticks\":\"\"}},\"colorscale\":{\"sequential\":[[0.0,\"#0d0887\"],[0.1111111111111111,\"#46039f\"],[0.2222222222222222,\"#7201a8\"],[0.3333333333333333,\"#9c179e\"],[0.4444444444444444,\"#bd3786\"],[0.5555555555555556,\"#d8576b\"],[0.6666666666666666,\"#ed7953\"],[0.7777777777777778,\"#fb9f3a\"],[0.8888888888888888,\"#fdca26\"],[1.0,\"#f0f921\"]],\"sequentialminus\":[[0.0,\"#0d0887\"],[0.1111111111111111,\"#46039f\"],[0.2222222222222222,\"#7201a8\"],[0.3333333333333333,\"#9c179e\"],[0.4444444444444444,\"#bd3786\"],[0.5555555555555556,\"#d8576b\"],[0.6666666666666666,\"#ed7953\"],[0.7777777777777778,\"#fb9f3a\"],[0.8888888888888888,\"#fdca26\"],[1.0,\"#f0f921\"]],\"diverging\":[[0,\"#8e0152\"],[0.1,\"#c51b7d\"],[0.2,\"#de77ae\"],[0.3,\"#f1b6da\"],[0.4,\"#fde0ef\"],[0.5,\"#f7f7f7\"],[0.6,\"#e6f5d0\"],[0.7,\"#b8e186\"],[0.8,\"#7fbc41\"],[0.9,\"#4d9221\"],[1,\"#276419\"]]},\"xaxis\":{\"gridcolor\":\"white\",\"linecolor\":\"white\",\"ticks\":\"\",\"title\":{\"standoff\":15},\"zerolinecolor\":\"white\",\"automargin\":true,\"zerolinewidth\":2},\"yaxis\":{\"gridcolor\":\"white\",\"linecolor\":\"white\",\"ticks\":\"\",\"title\":{\"standoff\":15},\"zerolinecolor\":\"white\",\"automargin\":true,\"zerolinewidth\":2},\"scene\":{\"xaxis\":{\"backgroundcolor\":\"#E5ECF6\",\"gridcolor\":\"white\",\"linecolor\":\"white\",\"showbackground\":true,\"ticks\":\"\",\"zerolinecolor\":\"white\",\"gridwidth\":2},\"yaxis\":{\"backgroundcolor\":\"#E5ECF6\",\"gridcolor\":\"white\",\"linecolor\":\"white\",\"showbackground\":true,\"ticks\":\"\",\"zerolinecolor\":\"white\",\"gridwidth\":2},\"zaxis\":{\"backgroundcolor\":\"#E5ECF6\",\"gridcolor\":\"white\",\"linecolor\":\"white\",\"showbackground\":true,\"ticks\":\"\",\"zerolinecolor\":\"white\",\"gridwidth\":2}},\"shapedefaults\":{\"line\":{\"color\":\"#2a3f5f\"}},\"annotationdefaults\":{\"arrowcolor\":\"#2a3f5f\",\"arrowhead\":0,\"arrowwidth\":1},\"geo\":{\"bgcolor\":\"white\",\"landcolor\":\"#E5ECF6\",\"subunitcolor\":\"white\",\"showland\":true,\"showlakes\":true,\"lakecolor\":\"white\"},\"title\":{\"x\":0.05},\"mapbox\":{\"style\":\"light\"}}},\"geo\":{\"domain\":{\"x\":[0.0,1.0],\"y\":[0.0,1.0]},\"center\":{},\"projection\":{\"type\":\"natural earth\"}},\"legend\":{\"tracegroupgap\":0,\"itemsizing\":\"constant\"},\"margin\":{\"t\":60},\"updatemenus\":[{\"buttons\":[{\"args\":[null,{\"frame\":{\"duration\":500,\"redraw\":true},\"mode\":\"immediate\",\"fromcurrent\":true,\"transition\":{\"duration\":500,\"easing\":\"linear\"}}],\"label\":\"&#9654;\",\"method\":\"animate\"},{\"args\":[[null],{\"frame\":{\"duration\":0,\"redraw\":true},\"mode\":\"immediate\",\"fromcurrent\":true,\"transition\":{\"duration\":0,\"easing\":\"linear\"}}],\"label\":\"&#9724;\",\"method\":\"animate\"}],\"direction\":\"left\",\"pad\":{\"r\":10,\"t\":70},\"showactive\":false,\"type\":\"buttons\",\"x\":0.1,\"xanchor\":\"right\",\"y\":0,\"yanchor\":\"top\"}],\"sliders\":[{\"active\":0,\"currentvalue\":{\"prefix\":\"Year=\"},\"len\":0.9,\"pad\":{\"b\":10,\"t\":60},\"steps\":[{\"args\":[[\"2007\"],{\"frame\":{\"duration\":0,\"redraw\":true},\"mode\":\"immediate\",\"fromcurrent\":true,\"transition\":{\"duration\":0,\"easing\":\"linear\"}}],\"label\":\"2007\",\"method\":\"animate\"},{\"args\":[[\"2008\"],{\"frame\":{\"duration\":0,\"redraw\":true},\"mode\":\"immediate\",\"fromcurrent\":true,\"transition\":{\"duration\":0,\"easing\":\"linear\"}}],\"label\":\"2008\",\"method\":\"animate\"},{\"args\":[[\"2009\"],{\"frame\":{\"duration\":0,\"redraw\":true},\"mode\":\"immediate\",\"fromcurrent\":true,\"transition\":{\"duration\":0,\"easing\":\"linear\"}}],\"label\":\"2009\",\"method\":\"animate\"},{\"args\":[[\"2010\"],{\"frame\":{\"duration\":0,\"redraw\":true},\"mode\":\"immediate\",\"fromcurrent\":true,\"transition\":{\"duration\":0,\"easing\":\"linear\"}}],\"label\":\"2010\",\"method\":\"animate\"},{\"args\":[[\"2011\"],{\"frame\":{\"duration\":0,\"redraw\":true},\"mode\":\"immediate\",\"fromcurrent\":true,\"transition\":{\"duration\":0,\"easing\":\"linear\"}}],\"label\":\"2011\",\"method\":\"animate\"},{\"args\":[[\"2012\"],{\"frame\":{\"duration\":0,\"redraw\":true},\"mode\":\"immediate\",\"fromcurrent\":true,\"transition\":{\"duration\":0,\"easing\":\"linear\"}}],\"label\":\"2012\",\"method\":\"animate\"},{\"args\":[[\"2013\"],{\"frame\":{\"duration\":0,\"redraw\":true},\"mode\":\"immediate\",\"fromcurrent\":true,\"transition\":{\"duration\":0,\"easing\":\"linear\"}}],\"label\":\"2013\",\"method\":\"animate\"},{\"args\":[[\"2014\"],{\"frame\":{\"duration\":0,\"redraw\":true},\"mode\":\"immediate\",\"fromcurrent\":true,\"transition\":{\"duration\":0,\"easing\":\"linear\"}}],\"label\":\"2014\",\"method\":\"animate\"},{\"args\":[[\"2015\"],{\"frame\":{\"duration\":0,\"redraw\":true},\"mode\":\"immediate\",\"fromcurrent\":true,\"transition\":{\"duration\":0,\"easing\":\"linear\"}}],\"label\":\"2015\",\"method\":\"animate\"}],\"x\":0.1,\"xanchor\":\"left\",\"y\":0,\"yanchor\":\"top\"}],\"title\":{\"text\":\"Cement Import Price (USD per ton)\"}},                        {\"responsive\": true}                    ).then(function(){\n",
       "                            Plotly.addFrames('e1955c48-2f4d-45fe-a5c9-4e27d024bb0b', [{\"data\":[{\"geo\":\"geo\",\"hovertemplate\":\"<b>%{hovertext}</b><br><br>Year=2007<br>Import Price=%{marker.size}<br>Code=%{location}<extra></extra>\",\"hovertext\":[\"IRL\",\"USA\",\"BRA\",\"CHN\",\"DEU\",\"RUS\",\"AUS\",\"VNM\",\"JPN\",\"IRN\"],\"legendgroup\":\"\",\"locations\":[\"IRL\",\"USA\",\"BRA\",\"CHN\",\"DEU\",\"RUS\",\"AUS\",\"VNM\",\"JPN\",\"IRN\"],\"marker\":{\"color\":\"#636efa\",\"size\":[95.7,77.9,72.5,42.1,140.6,100.0,124.7,115.2,53.6,81.5],\"sizemode\":\"area\",\"sizeref\":0.48362499999999997,\"symbol\":\"circle\"},\"mode\":\"markers\",\"name\":\"\",\"showlegend\":false,\"type\":\"scattergeo\"}],\"name\":\"2007\"},{\"data\":[{\"geo\":\"geo\",\"hovertemplate\":\"<b>%{hovertext}</b><br><br>Year=2008<br>Import Price=%{marker.size}<br>Code=%{location}<extra></extra>\",\"hovertext\":[\"IRL\",\"USA\",\"BRA\",\"CHN\",\"DEU\",\"RUS\",\"AUS\",\"VNM\",\"JPN\",\"IRN\"],\"legendgroup\":\"\",\"locations\":[\"IRL\",\"USA\",\"BRA\",\"CHN\",\"DEU\",\"RUS\",\"AUS\",\"VNM\",\"JPN\",\"IRN\"],\"marker\":{\"color\":\"#636efa\",\"size\":[88.9,87.1,93.3,47.9,162.8,101.2,109.6,105.8,65.8,97.6],\"sizemode\":\"area\",\"sizeref\":0.48362499999999997,\"symbol\":\"circle\"},\"mode\":\"markers\",\"name\":\"\",\"showlegend\":false,\"type\":\"scattergeo\"}],\"name\":\"2008\"},{\"data\":[{\"geo\":\"geo\",\"hovertemplate\":\"<b>%{hovertext}</b><br><br>Year=2009<br>Import Price=%{marker.size}<br>Code=%{location}<extra></extra>\",\"hovertext\":[\"IRL\",\"USA\",\"BRA\",\"CHN\",\"DEU\",\"RUS\",\"AUS\",\"VNM\",\"JPN\",\"IRN\"],\"legendgroup\":\"\",\"locations\":[\"IRL\",\"USA\",\"BRA\",\"CHN\",\"DEU\",\"RUS\",\"AUS\",\"VNM\",\"JPN\",\"IRN\"],\"marker\":{\"color\":\"#636efa\",\"size\":[112.6,88.6,99.3,47.5,155.7,78.9,107.1,126.6,75.2,225.8],\"sizemode\":\"area\",\"sizeref\":0.48362499999999997,\"symbol\":\"circle\"},\"mode\":\"markers\",\"name\":\"\",\"showlegend\":false,\"type\":\"scattergeo\"}],\"name\":\"2009\"},{\"data\":[{\"geo\":\"geo\",\"hovertemplate\":\"<b>%{hovertext}</b><br><br>Year=2010<br>Import Price=%{marker.size}<br>Code=%{location}<extra></extra>\",\"hovertext\":[\"IRL\",\"USA\",\"BRA\",\"CHN\",\"DEU\",\"RUS\",\"AUS\",\"VNM\",\"JPN\",\"IRN\"],\"legendgroup\":\"\",\"locations\":[\"IRL\",\"USA\",\"BRA\",\"CHN\",\"DEU\",\"RUS\",\"AUS\",\"VNM\",\"JPN\",\"IRN\"],\"marker\":{\"color\":\"#636efa\",\"size\":[99.9,87.3,92.3,47.2,158.8,77.8,116.7,124.3,89.8,343.0],\"sizemode\":\"area\",\"sizeref\":0.48362499999999997,\"symbol\":\"circle\"},\"mode\":\"markers\",\"name\":\"\",\"showlegend\":false,\"type\":\"scattergeo\"}],\"name\":\"2010\"},{\"data\":[{\"geo\":\"geo\",\"hovertemplate\":\"<b>%{hovertext}</b><br><br>Year=2011<br>Import Price=%{marker.size}<br>Code=%{location}<extra></extra>\",\"hovertext\":[\"IRL\",\"USA\",\"BRA\",\"CHN\",\"DEU\",\"RUS\",\"AUS\",\"VNM\",\"JPN\",\"IRN\"],\"legendgroup\":\"\",\"locations\":[\"IRL\",\"USA\",\"BRA\",\"CHN\",\"DEU\",\"RUS\",\"AUS\",\"VNM\",\"JPN\",\"IRN\"],\"marker\":{\"color\":\"#636efa\",\"size\":[104.6,87.4,90.6,52.9,164.9,88.6,85.9,135.1,96.1,773.8],\"sizemode\":\"area\",\"sizeref\":0.48362499999999997,\"symbol\":\"circle\"},\"mode\":\"markers\",\"name\":\"\",\"showlegend\":false,\"type\":\"scattergeo\"}],\"name\":\"2011\"},{\"data\":[{\"geo\":\"geo\",\"hovertemplate\":\"<b>%{hovertext}</b><br><br>Year=2012<br>Import Price=%{marker.size}<br>Code=%{location}<extra></extra>\",\"hovertext\":[\"IRL\",\"USA\",\"BRA\",\"CHN\",\"DEU\",\"RUS\",\"AUS\",\"VNM\",\"JPN\",\"IRN\"],\"legendgroup\":\"\",\"locations\":[\"IRL\",\"USA\",\"BRA\",\"CHN\",\"DEU\",\"RUS\",\"AUS\",\"VNM\",\"JPN\",\"IRN\"],\"marker\":{\"color\":\"#636efa\",\"size\":[118.5,88.1,93.4,57.9,141.8,82.3,81.4,107.9,93.4,189.3],\"sizemode\":\"area\",\"sizeref\":0.48362499999999997,\"symbol\":\"circle\"},\"mode\":\"markers\",\"name\":\"\",\"showlegend\":false,\"type\":\"scattergeo\"}],\"name\":\"2012\"},{\"data\":[{\"geo\":\"geo\",\"hovertemplate\":\"<b>%{hovertext}</b><br><br>Year=2013<br>Import Price=%{marker.size}<br>Code=%{location}<extra></extra>\",\"hovertext\":[\"IRL\",\"USA\",\"BRA\",\"CHN\",\"DEU\",\"RUS\",\"AUS\",\"VNM\",\"JPN\",\"IRN\"],\"legendgroup\":\"\",\"locations\":[\"IRL\",\"USA\",\"BRA\",\"CHN\",\"DEU\",\"RUS\",\"AUS\",\"VNM\",\"JPN\",\"IRN\"],\"marker\":{\"color\":\"#636efa\",\"size\":[107.8,87.8,89.8,65.3,151.4,80.1,95.0,125.9,83.0,330.6],\"sizemode\":\"area\",\"sizeref\":0.48362499999999997,\"symbol\":\"circle\"},\"mode\":\"markers\",\"name\":\"\",\"showlegend\":false,\"type\":\"scattergeo\"}],\"name\":\"2013\"},{\"data\":[{\"geo\":\"geo\",\"hovertemplate\":\"<b>%{hovertext}</b><br><br>Year=2014<br>Import Price=%{marker.size}<br>Code=%{location}<extra></extra>\",\"hovertext\":[\"IRL\",\"USA\",\"BRA\",\"CHN\",\"DEU\",\"RUS\",\"AUS\",\"VNM\",\"JPN\",\"IRN\"],\"legendgroup\":\"\",\"locations\":[\"IRL\",\"USA\",\"BRA\",\"CHN\",\"DEU\",\"RUS\",\"AUS\",\"VNM\",\"JPN\",\"IRN\"],\"marker\":{\"color\":\"#636efa\",\"size\":[88.9,109.3,93.4,89.8,157.6,75.1,106.3,188.5,92.2,225.8],\"sizemode\":\"area\",\"sizeref\":0.48362499999999997,\"symbol\":\"circle\"},\"mode\":\"markers\",\"name\":\"\",\"showlegend\":false,\"type\":\"scattergeo\"}],\"name\":\"2014\"},{\"data\":[{\"geo\":\"geo\",\"hovertemplate\":\"<b>%{hovertext}</b><br><br>Year=2015<br>Import Price=%{marker.size}<br>Code=%{location}<extra></extra>\",\"hovertext\":[\"IRL\",\"USA\",\"BRA\",\"CHN\",\"DEU\",\"RUS\",\"AUS\",\"VNM\",\"JPN\",\"IRN\"],\"legendgroup\":\"\",\"locations\":[\"IRL\",\"USA\",\"BRA\",\"CHN\",\"DEU\",\"RUS\",\"AUS\",\"VNM\",\"JPN\",\"IRN\"],\"marker\":{\"color\":\"#636efa\",\"size\":[78.1,86.7,94.8,162.3,135.4,58.7,104.2,141.9,101.1,275.3],\"sizemode\":\"area\",\"sizeref\":0.48362499999999997,\"symbol\":\"circle\"},\"mode\":\"markers\",\"name\":\"\",\"showlegend\":false,\"type\":\"scattergeo\"}],\"name\":\"2015\"}]);\n",
       "                        }).then(function(){\n",
       "                            \n",
       "var gd = document.getElementById('e1955c48-2f4d-45fe-a5c9-4e27d024bb0b');\n",
       "var x = new MutationObserver(function (mutations, observer) {{\n",
       "        var display = window.getComputedStyle(gd).display;\n",
       "        if (!display || display === 'none') {{\n",
       "            console.log([gd, 'removed!']);\n",
       "            Plotly.purge(gd);\n",
       "            observer.disconnect();\n",
       "        }}\n",
       "}});\n",
       "\n",
       "// Listen for the removal of the full notebook cells\n",
       "var notebookContainer = gd.closest('#notebook-container');\n",
       "if (notebookContainer) {{\n",
       "    x.observe(notebookContainer, {childList: true});\n",
       "}}\n",
       "\n",
       "// Listen for the clearing of the current output cell\n",
       "var outputEl = gd.closest('.output');\n",
       "if (outputEl) {{\n",
       "    x.observe(outputEl, {childList: true});\n",
       "}}\n",
       "\n",
       "                        })                };                });            </script>        </div>"
      ]
     },
     "metadata": {},
     "output_type": "display_data"
    }
   ],
   "source": [
    "# Interactive scatterplot map graph: Cement Import Price (USD per ton)\n",
    "\n",
    "fig = px.scatter_geo(cement_merge, \n",
    "                    locations=\"Code\", \n",
    "                     # name of column which contains state codes\n",
    "                    size=\"Import Price\", \n",
    "                     # name of column which contains aggregate value to visualize\n",
    "                    hover_name=\"Code\",\n",
    "                    size_max=40,\n",
    "                    animation_frame=\"Year\",)\n",
    "                    \n",
    "fig.update_layout(\n",
    "    # add a title text for the plot\n",
    "    title_text = 'Cement Import Price (USD per ton)',\n",
    "    # limit plot scope to USA\n",
    "    geo = dict(projection={'type':'natural earth'})\n",
    ")\n",
    "fig.show()\n"
   ]
  },
  {
   "cell_type": "code",
   "execution_count": 438,
   "id": "ac672e47",
   "metadata": {
    "scrolled": true
   },
   "outputs": [
    {
     "data": {
      "image/png": "[encoded data removed]",
      "text/plain": [
       "<Figure size 2000x400 with 1 Axes>"
      ]
     },
     "metadata": {},
     "output_type": "display_data"
    }
   ],
   "source": [
    "# Plot Cement Import Price from 2007 to 2015\n",
    "# Create figure and set of subplots\n",
    "fig, ax = plt.subplots()\n",
    "\n",
    "ax.plot(cement_merge[cement_merge[\"Code\"]==\"IRL\"][\"Year\"], cement_merge[cement_merge[\"Code\"]==\"IRL\"][\"Import Price\"], label=\"Ireland\")\n",
    "ax.plot(cement_merge[cement_merge[\"Code\"]==\"USA\"][\"Year\"], cement_merge[cement_merge[\"Code\"]==\"USA\"][\"Import Price\"], label=\"United States\")\n",
    "ax.plot(cement_merge[cement_merge[\"Code\"]==\"BRA\"][\"Year\"], cement_merge[cement_merge[\"Code\"]==\"BRA\"][\"Import Price\"], label=\"Brazil\")\n",
    "ax.plot(cement_merge[cement_merge[\"Code\"]==\"CHN\"][\"Year\"], cement_merge[cement_merge[\"Code\"]==\"CHN\"][\"Import Price\"], label=\"China\")\n",
    "ax.plot(cement_merge[cement_merge[\"Code\"]==\"DEU\"][\"Year\"], cement_merge[cement_merge[\"Code\"]==\"DEU\"][\"Import Price\"], label=\"Germany\")\n",
    "ax.plot(cement_merge[cement_merge[\"Code\"]==\"RUS\"][\"Year\"], cement_merge[cement_merge[\"Code\"]==\"RUS\"][\"Import Price\"], label=\"Russia\")\n",
    "ax.plot(cement_merge[cement_merge[\"Code\"]==\"AUS\"][\"Year\"], cement_merge[cement_merge[\"Code\"]==\"AUS\"][\"Import Price\"], label=\"Australia\")\n",
    "ax.plot(cement_merge[cement_merge[\"Code\"]==\"VNM\"][\"Year\"], cement_merge[cement_merge[\"Code\"]==\"VNM\"][\"Import Price\"], label=\"Vietnam\")\n",
    "ax.plot(cement_merge[cement_merge[\"Code\"]==\"JPN\"][\"Year\"], cement_merge[cement_merge[\"Code\"]==\"JPN\"][\"Import Price\"], label=\"Japan\")\n",
    "ax.plot(cement_merge[cement_merge[\"Code\"]==\"IRN\"][\"Year\"], cement_merge[cement_merge[\"Code\"]==\"IRN\"][\"Import Price\"], label=\"Iran\")\n",
    "\n",
    "\n",
    "# Config graphic\n",
    "plt.rc(\"figure\", autolayout=True, figsize=(20, 4))\n",
    "plt.title(\"Cement Import Price from 2007 to 2015\")\n",
    "plt.xlabel(\"Year\")\n",
    "plt.ylabel(\"USD per ton\")\n",
    "plt.xticks(rotation=45)\n",
    "ax.legend(loc='center left', bbox_to_anchor=(1, 0.5))\n",
    "\n",
    "# Display graphic\n",
    "plt.show()"
   ]
  },
  {
   "cell_type": "code",
   "execution_count": 439,
   "id": "a944426e",
   "metadata": {},
   "outputs": [
    {
     "data": {
      "application/vnd.plotly.v1+json": {
       "config": {
        "plotlyServerURL": "https://plot.ly"
       },
       "data": [
        {
         "geo": "geo",
         "hovertemplate": "<b>%{hovertext}</b><br><br>Year=2007<br>Export Price=%{marker.size}<br>Code=%{location}<extra></extra>",
         "hovertext": [
          "IRL",
          "USA",
          "BRA",
          "CHN",
          "DEU",
          "RUS",
          "AUS",
          "VNM",
          "JPN",
          "IRN"
         ],
         "legendgroup": "",
         "locations": [
          "IRL",
          "USA",
          "BRA",
          "CHN",
          "DEU",
          "RUS",
          "AUS",
          "VNM",
          "JPN",
          "IRN"
         ],
         "marker": {
          "color": "#636efa",
          "size": [
           93.9,
           126,
           50,
           39.8,
           86.2,
           102.5,
           253.6,
           115.8,
           29.4,
           91.9
          ],
          "sizemode": "area",
          "sizeref": 0.281,
          "symbol": "circle"
         },
         "mode": "markers",
         "name": "",
         "showlegend": false,
         "type": "scattergeo"
        }
       ],
       "frames": [
        {
         "data": [
          {
           "geo": "geo",
           "hovertemplate": "<b>%{hovertext}</b><br><br>Year=2007<br>Export Price=%{marker.size}<br>Code=%{location}<extra></extra>",
           "hovertext": [
            "IRL",
            "USA",
            "BRA",
            "CHN",
            "DEU",
            "RUS",
            "AUS",
            "VNM",
            "JPN",
            "IRN"
           ],
           "legendgroup": "",
           "locations": [
            "IRL",
            "USA",
            "BRA",
            "CHN",
            "DEU",
            "RUS",
            "AUS",
            "VNM",
            "JPN",
            "IRN"
           ],
           "marker": {
            "color": "#636efa",
            "size": [
             93.9,
             126,
             50,
             39.8,
             86.2,
             102.5,
             253.6,
             115.8,
             29.4,
             91.9
            ],
            "sizemode": "area",
            "sizeref": 0.281,
            "symbol": "circle"
           },
           "mode": "markers",
           "name": "",
           "showlegend": false,
           "type": "scattergeo"
          }
         ],
         "name": "2007"
        },
        {
         "data": [
          {
           "geo": "geo",
           "hovertemplate": "<b>%{hovertext}</b><br><br>Year=2008<br>Export Price=%{marker.size}<br>Code=%{location}<extra></extra>",
           "hovertext": [
            "IRL",
            "USA",
            "BRA",
            "CHN",
            "DEU",
            "RUS",
            "AUS",
            "VNM",
            "JPN",
            "IRN"
           ],
           "legendgroup": "",
           "locations": [
            "IRL",
            "USA",
            "BRA",
            "CHN",
            "DEU",
            "RUS",
            "AUS",
            "VNM",
            "JPN",
            "IRN"
           ],
           "marker": {
            "color": "#636efa",
            "size": [
             97.7,
             121.2,
             65.2,
             47.7,
             104.3,
             141.2,
             323.5,
             105.2,
             32.6,
             97.2
            ],
            "sizemode": "area",
            "sizeref": 0.281,
            "symbol": "circle"
           },
           "mode": "markers",
           "name": "",
           "showlegend": false,
           "type": "scattergeo"
          }
         ],
         "name": "2008"
        },
        {
         "data": [
          {
           "geo": "geo",
           "hovertemplate": "<b>%{hovertext}</b><br><br>Year=2009<br>Export Price=%{marker.size}<br>Code=%{location}<extra></extra>",
           "hovertext": [
            "IRL",
            "USA",
            "BRA",
            "CHN",
            "DEU",
            "RUS",
            "AUS",
            "VNM",
            "JPN",
            "IRN"
           ],
           "legendgroup": "",
           "locations": [
            "IRL",
            "USA",
            "BRA",
            "CHN",
            "DEU",
            "RUS",
            "AUS",
            "VNM",
            "JPN",
            "IRN"
           ],
           "marker": {
            "color": "#636efa",
            "size": [
             96.5,
             119.9,
             102.9,
             50.1,
             98.3,
             86.6,
             308.3,
             95.9,
             35.4,
             76.4
            ],
            "sizemode": "area",
            "sizeref": 0.281,
            "symbol": "circle"
           },
           "mode": "markers",
           "name": "",
           "showlegend": false,
           "type": "scattergeo"
          }
         ],
         "name": "2009"
        },
        {
         "data": [
          {
           "geo": "geo",
           "hovertemplate": "<b>%{hovertext}</b><br><br>Year=2010<br>Export Price=%{marker.size}<br>Code=%{location}<extra></extra>",
           "hovertext": [
            "IRL",
            "USA",
            "BRA",
            "CHN",
            "DEU",
            "RUS",
            "AUS",
            "VNM",
            "JPN",
            "IRN"
           ],
           "legendgroup": "",
           "locations": [
            "IRL",
            "USA",
            "BRA",
            "CHN",
            "DEU",
            "RUS",
            "AUS",
            "VNM",
            "JPN",
            "IRN"
           ],
           "marker": {
            "color": "#636efa",
            "size": [
             101.2,
             135.8,
             112,
             50.5,
             92.2,
             82.2,
             326.6,
             89.4,
             32.6,
             76.5
            ],
            "sizemode": "area",
            "sizeref": 0.281,
            "symbol": "circle"
           },
           "mode": "markers",
           "name": "",
           "showlegend": false,
           "type": "scattergeo"
          }
         ],
         "name": "2010"
        },
        {
         "data": [
          {
           "geo": "geo",
           "hovertemplate": "<b>%{hovertext}</b><br><br>Year=2011<br>Export Price=%{marker.size}<br>Code=%{location}<extra></extra>",
           "hovertext": [
            "IRL",
            "USA",
            "BRA",
            "CHN",
            "DEU",
            "RUS",
            "AUS",
            "VNM",
            "JPN",
            "IRN"
           ],
           "legendgroup": "",
           "locations": [
            "IRL",
            "USA",
            "BRA",
            "CHN",
            "DEU",
            "RUS",
            "AUS",
            "VNM",
            "JPN",
            "IRN"
           ],
           "marker": {
            "color": "#636efa",
            "size": [
             99.5,
             128.3,
             118.9,
             60.2,
             99.6,
             94,
             398,
             85.2,
             33.7,
             62.5
            ],
            "sizemode": "area",
            "sizeref": 0.281,
            "symbol": "circle"
           },
           "mode": "markers",
           "name": "",
           "showlegend": false,
           "type": "scattergeo"
          }
         ],
         "name": "2011"
        },
        {
         "data": [
          {
           "geo": "geo",
           "hovertemplate": "<b>%{hovertext}</b><br><br>Year=2012<br>Export Price=%{marker.size}<br>Code=%{location}<extra></extra>",
           "hovertext": [
            "IRL",
            "USA",
            "BRA",
            "CHN",
            "DEU",
            "RUS",
            "AUS",
            "VNM",
            "JPN",
            "IRN"
           ],
           "legendgroup": "",
           "locations": [
            "IRL",
            "USA",
            "BRA",
            "CHN",
            "DEU",
            "RUS",
            "AUS",
            "VNM",
            "JPN",
            "IRN"
           ],
           "marker": {
            "color": "#636efa",
            "size": [
             89.6,
             130,
             131.2,
             60.7,
             94.1,
             104.3,
             338.8,
             63.9,
             37.5,
             62.5
            ],
            "sizemode": "area",
            "sizeref": 0.281,
            "symbol": "circle"
           },
           "mode": "markers",
           "name": "",
           "showlegend": false,
           "type": "scattergeo"
          }
         ],
         "name": "2012"
        },
        {
         "data": [
          {
           "geo": "geo",
           "hovertemplate": "<b>%{hovertext}</b><br><br>Year=2013<br>Export Price=%{marker.size}<br>Code=%{location}<extra></extra>",
           "hovertext": [
            "IRL",
            "USA",
            "BRA",
            "CHN",
            "DEU",
            "RUS",
            "AUS",
            "VNM",
            "JPN",
            "IRN"
           ],
           "legendgroup": "",
           "locations": [
            "IRL",
            "USA",
            "BRA",
            "CHN",
            "DEU",
            "RUS",
            "AUS",
            "VNM",
            "JPN",
            "IRN"
           ],
           "marker": {
            "color": "#636efa",
            "size": [
             89.5,
             135.4,
             129.3,
             58.2,
             97.3,
             105.2,
             313.3,
             78.3,
             39,
             59.6
            ],
            "sizemode": "area",
            "sizeref": 0.281,
            "symbol": "circle"
           },
           "mode": "markers",
           "name": "",
           "showlegend": false,
           "type": "scattergeo"
          }
         ],
         "name": "2013"
        },
        {
         "data": [
          {
           "geo": "geo",
           "hovertemplate": "<b>%{hovertext}</b><br><br>Year=2014<br>Export Price=%{marker.size}<br>Code=%{location}<extra></extra>",
           "hovertext": [
            "IRL",
            "USA",
            "BRA",
            "CHN",
            "DEU",
            "RUS",
            "AUS",
            "VNM",
            "JPN",
            "IRN"
           ],
           "legendgroup": "",
           "locations": [
            "IRL",
            "USA",
            "BRA",
            "CHN",
            "DEU",
            "RUS",
            "AUS",
            "VNM",
            "JPN",
            "IRN"
           ],
           "marker": {
            "color": "#636efa",
            "size": [
             97,
             92.8,
             126.5,
             59.7,
             97.1,
             83.1,
             449.6,
             76.4,
             41,
             74.5
            ],
            "sizemode": "area",
            "sizeref": 0.281,
            "symbol": "circle"
           },
           "mode": "markers",
           "name": "",
           "showlegend": false,
           "type": "scattergeo"
          }
         ],
         "name": "2014"
        },
        {
         "data": [
          {
           "geo": "geo",
           "hovertemplate": "<b>%{hovertext}</b><br><br>Year=2015<br>Export Price=%{marker.size}<br>Code=%{location}<extra></extra>",
           "hovertext": [
            "IRL",
            "USA",
            "BRA",
            "CHN",
            "DEU",
            "RUS",
            "AUS",
            "VNM",
            "JPN",
            "IRN"
           ],
           "legendgroup": "",
           "locations": [
            "IRL",
            "USA",
            "BRA",
            "CHN",
            "DEU",
            "RUS",
            "AUS",
            "VNM",
            "JPN",
            "IRN"
           ],
           "marker": {
            "color": "#636efa",
            "size": [
             75.6,
             152.9,
             87.8,
             58,
             79.5,
             52.9,
             278,
             78.1,
             40.8,
             59.7
            ],
            "sizemode": "area",
            "sizeref": 0.281,
            "symbol": "circle"
           },
           "mode": "markers",
           "name": "",
           "showlegend": false,
           "type": "scattergeo"
          }
         ],
         "name": "2015"
        }
       ],
       "layout": {
        "geo": {
         "center": {},
         "domain": {
          "x": [
           0,
           1
          ],
          "y": [
           0,
           1
          ]
         },
         "projection": {
          "type": "natural earth"
         }
        },
        "legend": {
         "itemsizing": "constant",
         "tracegroupgap": 0
        },
        "margin": {
         "t": 60
        },
        "sliders": [
         {
          "active": 0,
          "currentvalue": {
           "prefix": "Year="
          },
          "len": 0.9,
          "pad": {
           "b": 10,
           "t": 60
          },
          "steps": [
           {
            "args": [
             [
              "2007"
             ],
             {
              "frame": {
               "duration": 0,
               "redraw": true
              },
              "fromcurrent": true,
              "mode": "immediate",
              "transition": {
               "duration": 0,
               "easing": "linear"
              }
             }
            ],
            "label": "2007",
            "method": "animate"
           },
           {
            "args": [
             [
              "2008"
             ],
             {
              "frame": {
               "duration": 0,
               "redraw": true
              },
              "fromcurrent": true,
              "mode": "immediate",
              "transition": {
               "duration": 0,
               "easing": "linear"
              }
             }
            ],
            "label": "2008",
            "method": "animate"
           },
           {
            "args": [
             [
              "2009"
             ],
             {
              "frame": {
               "duration": 0,
               "redraw": true
              },
              "fromcurrent": true,
              "mode": "immediate",
              "transition": {
               "duration": 0,
               "easing": "linear"
              }
             }
            ],
            "label": "2009",
            "method": "animate"
           },
           {
            "args": [
             [
              "2010"
             ],
             {
              "frame": {
               "duration": 0,
               "redraw": true
              },
              "fromcurrent": true,
              "mode": "immediate",
              "transition": {
               "duration": 0,
               "easing": "linear"
              }
             }
            ],
            "label": "2010",
            "method": "animate"
           },
           {
            "args": [
             [
              "2011"
             ],
             {
              "frame": {
               "duration": 0,
               "redraw": true
              },
              "fromcurrent": true,
              "mode": "immediate",
              "transition": {
               "duration": 0,
               "easing": "linear"
              }
             }
            ],
            "label": "2011",
            "method": "animate"
           },
           {
            "args": [
             [
              "2012"
             ],
             {
              "frame": {
               "duration": 0,
               "redraw": true
              },
              "fromcurrent": true,
              "mode": "immediate",
              "transition": {
               "duration": 0,
               "easing": "linear"
              }
             }
            ],
            "label": "2012",
            "method": "animate"
           },
           {
            "args": [
             [
              "2013"
             ],
             {
              "frame": {
               "duration": 0,
               "redraw": true
              },
              "fromcurrent": true,
              "mode": "immediate",
              "transition": {
               "duration": 0,
               "easing": "linear"
              }
             }
            ],
            "label": "2013",
            "method": "animate"
           },
           {
            "args": [
             [
              "2014"
             ],
             {
              "frame": {
               "duration": 0,
               "redraw": true
              },
              "fromcurrent": true,
              "mode": "immediate",
              "transition": {
               "duration": 0,
               "easing": "linear"
              }
             }
            ],
            "label": "2014",
            "method": "animate"
           },
           {
            "args": [
             [
              "2015"
             ],
             {
              "frame": {
               "duration": 0,
               "redraw": true
              },
              "fromcurrent": true,
              "mode": "immediate",
              "transition": {
               "duration": 0,
               "easing": "linear"
              }
             }
            ],
            "label": "2015",
            "method": "animate"
           }
          ],
          "x": 0.1,
          "xanchor": "left",
          "y": 0,
          "yanchor": "top"
         }
        ],
        "template": {
         "data": {
          "bar": [
           {
            "error_x": {
             "color": "#2a3f5f"
            },
            "error_y": {
             "color": "#2a3f5f"
            },
            "marker": {
             "line": {
              "color": "#E5ECF6",
              "width": 0.5
             },
             "pattern": {
              "fillmode": "overlay",
              "size": 10,
              "solidity": 0.2
             }
            },
            "type": "bar"
           }
          ],
          "barpolar": [
           {
            "marker": {
             "line": {
              "color": "#E5ECF6",
              "width": 0.5
             },
             "pattern": {
              "fillmode": "overlay",
              "size": 10,
              "solidity": 0.2
             }
            },
            "type": "barpolar"
           }
          ],
          "carpet": [
           {
            "aaxis": {
             "endlinecolor": "#2a3f5f",
             "gridcolor": "white",
             "linecolor": "white",
             "minorgridcolor": "white",
             "startlinecolor": "#2a3f5f"
            },
            "baxis": {
             "endlinecolor": "#2a3f5f",
             "gridcolor": "white",
             "linecolor": "white",
             "minorgridcolor": "white",
             "startlinecolor": "#2a3f5f"
            },
            "type": "carpet"
           }
          ],
          "choropleth": [
           {
            "colorbar": {
             "outlinewidth": 0,
             "ticks": ""
            },
            "type": "choropleth"
           }
          ],
          "contour": [
           {
            "colorbar": {
             "outlinewidth": 0,
             "ticks": ""
            },
            "colorscale": [
             [
              0,
              "#0d0887"
             ],
             [
              0.1111111111111111,
              "#46039f"
             ],
             [
              0.2222222222222222,
              "#7201a8"
             ],
             [
              0.3333333333333333,
              "#9c179e"
             ],
             [
              0.4444444444444444,
              "#bd3786"
             ],
             [
              0.5555555555555556,
              "#d8576b"
             ],
             [
              0.6666666666666666,
              "#ed7953"
             ],
             [
              0.7777777777777778,
              "#fb9f3a"
             ],
             [
              0.8888888888888888,
              "#fdca26"
             ],
             [
              1,
              "#f0f921"
             ]
            ],
            "type": "contour"
           }
          ],
          "contourcarpet": [
           {
            "colorbar": {
             "outlinewidth": 0,
             "ticks": ""
            },
            "type": "contourcarpet"
           }
          ],
          "heatmap": [
           {
            "colorbar": {
             "outlinewidth": 0,
             "ticks": ""
            },
            "colorscale": [
             [
              0,
              "#0d0887"
             ],
             [
              0.1111111111111111,
              "#46039f"
             ],
             [
              0.2222222222222222,
              "#7201a8"
             ],
             [
              0.3333333333333333,
              "#9c179e"
             ],
             [
              0.4444444444444444,
              "#bd3786"
             ],
             [
              0.5555555555555556,
              "#d8576b"
             ],
             [
              0.6666666666666666,
              "#ed7953"
             ],
             [
              0.7777777777777778,
              "#fb9f3a"
             ],
             [
              0.8888888888888888,
              "#fdca26"
             ],
             [
              1,
              "#f0f921"
             ]
            ],
            "type": "heatmap"
           }
          ],
          "heatmapgl": [
           {
            "colorbar": {
             "outlinewidth": 0,
             "ticks": ""
            },
            "colorscale": [
             [
              0,
              "#0d0887"
             ],
             [
              0.1111111111111111,
              "#46039f"
             ],
             [
              0.2222222222222222,
              "#7201a8"
             ],
             [
              0.3333333333333333,
              "#9c179e"
             ],
             [
              0.4444444444444444,
              "#bd3786"
             ],
             [
              0.5555555555555556,
              "#d8576b"
             ],
             [
              0.6666666666666666,
              "#ed7953"
             ],
             [
              0.7777777777777778,
              "#fb9f3a"
             ],
             [
              0.8888888888888888,
              "#fdca26"
             ],
             [
              1,
              "#f0f921"
             ]
            ],
            "type": "heatmapgl"
           }
          ],
          "histogram": [
           {
            "marker": {
             "pattern": {
              "fillmode": "overlay",
              "size": 10,
              "solidity": 0.2
             }
            },
            "type": "histogram"
           }
          ],
          "histogram2d": [
           {
            "colorbar": {
             "outlinewidth": 0,
             "ticks": ""
            },
            "colorscale": [
             [
              0,
              "#0d0887"
             ],
             [
              0.1111111111111111,
              "#46039f"
             ],
             [
              0.2222222222222222,
              "#7201a8"
             ],
             [
              0.3333333333333333,
              "#9c179e"
             ],
             [
              0.4444444444444444,
              "#bd3786"
             ],
             [
              0.5555555555555556,
              "#d8576b"
             ],
             [
              0.6666666666666666,
              "#ed7953"
             ],
             [
              0.7777777777777778,
              "#fb9f3a"
             ],
             [
              0.8888888888888888,
              "#fdca26"
             ],
             [
              1,
              "#f0f921"
             ]
            ],
            "type": "histogram2d"
           }
          ],
          "histogram2dcontour": [
           {
            "colorbar": {
             "outlinewidth": 0,
             "ticks": ""
            },
            "colorscale": [
             [
              0,
              "#0d0887"
             ],
             [
              0.1111111111111111,
              "#46039f"
             ],
             [
              0.2222222222222222,
              "#7201a8"
             ],
             [
              0.3333333333333333,
              "#9c179e"
             ],
             [
              0.4444444444444444,
              "#bd3786"
             ],
             [
              0.5555555555555556,
              "#d8576b"
             ],
             [
              0.6666666666666666,
              "#ed7953"
             ],
             [
              0.7777777777777778,
              "#fb9f3a"
             ],
             [
              0.8888888888888888,
              "#fdca26"
             ],
             [
              1,
              "#f0f921"
             ]
            ],
            "type": "histogram2dcontour"
           }
          ],
          "mesh3d": [
           {
            "colorbar": {
             "outlinewidth": 0,
             "ticks": ""
            },
            "type": "mesh3d"
           }
          ],
          "parcoords": [
           {
            "line": {
             "colorbar": {
              "outlinewidth": 0,
              "ticks": ""
             }
            },
            "type": "parcoords"
           }
          ],
          "pie": [
           {
            "automargin": true,
            "type": "pie"
           }
          ],
          "scatter": [
           {
            "fillpattern": {
             "fillmode": "overlay",
             "size": 10,
             "solidity": 0.2
            },
            "type": "scatter"
           }
          ],
          "scatter3d": [
           {
            "line": {
             "colorbar": {
              "outlinewidth": 0,
              "ticks": ""
             }
            },
            "marker": {
             "colorbar": {
              "outlinewidth": 0,
              "ticks": ""
             }
            },
            "type": "scatter3d"
           }
          ],
          "scattercarpet": [
           {
            "marker": {
             "colorbar": {
              "outlinewidth": 0,
              "ticks": ""
             }
            },
            "type": "scattercarpet"
           }
          ],
          "scattergeo": [
           {
            "marker": {
             "colorbar": {
              "outlinewidth": 0,
              "ticks": ""
             }
            },
            "type": "scattergeo"
           }
          ],
          "scattergl": [
           {
            "marker": {
             "colorbar": {
              "outlinewidth": 0,
              "ticks": ""
             }
            },
            "type": "scattergl"
           }
          ],
          "scattermapbox": [
           {
            "marker": {
             "colorbar": {
              "outlinewidth": 0,
              "ticks": ""
             }
            },
            "type": "scattermapbox"
           }
          ],
          "scatterpolar": [
           {
            "marker": {
             "colorbar": {
              "outlinewidth": 0,
              "ticks": ""
             }
            },
            "type": "scatterpolar"
           }
          ],
          "scatterpolargl": [
           {
            "marker": {
             "colorbar": {
              "outlinewidth": 0,
              "ticks": ""
             }
            },
            "type": "scatterpolargl"
           }
          ],
          "scatterternary": [
           {
            "marker": {
             "colorbar": {
              "outlinewidth": 0,
              "ticks": ""
             }
            },
            "type": "scatterternary"
           }
          ],
          "surface": [
           {
            "colorbar": {
             "outlinewidth": 0,
             "ticks": ""
            },
            "colorscale": [
             [
              0,
              "#0d0887"
             ],
             [
              0.1111111111111111,
              "#46039f"
             ],
             [
              0.2222222222222222,
              "#7201a8"
             ],
             [
              0.3333333333333333,
              "#9c179e"
             ],
             [
              0.4444444444444444,
              "#bd3786"
             ],
             [
              0.5555555555555556,
              "#d8576b"
             ],
             [
              0.6666666666666666,
              "#ed7953"
             ],
             [
              0.7777777777777778,
              "#fb9f3a"
             ],
             [
              0.8888888888888888,
              "#fdca26"
             ],
             [
              1,
              "#f0f921"
             ]
            ],
            "type": "surface"
           }
          ],
          "table": [
           {
            "cells": {
             "fill": {
              "color": "#EBF0F8"
             },
             "line": {
              "color": "white"
             }
            },
            "header": {
             "fill": {
              "color": "#C8D4E3"
             },
             "line": {
              "color": "white"
             }
            },
            "type": "table"
           }
          ]
         },
         "layout": {
          "annotationdefaults": {
           "arrowcolor": "#2a3f5f",
           "arrowhead": 0,
           "arrowwidth": 1
          },
          "autotypenumbers": "strict",
          "coloraxis": {
           "colorbar": {
            "outlinewidth": 0,
            "ticks": ""
           }
          },
          "colorscale": {
           "diverging": [
            [
             0,
             "#8e0152"
            ],
            [
             0.1,
             "#c51b7d"
            ],
            [
             0.2,
             "#de77ae"
            ],
            [
             0.3,
             "#f1b6da"
            ],
            [
             0.4,
             "#fde0ef"
            ],
            [
             0.5,
             "#f7f7f7"
            ],
            [
             0.6,
             "#e6f5d0"
            ],
            [
             0.7,
             "#b8e186"
            ],
            [
             0.8,
             "#7fbc41"
            ],
            [
             0.9,
             "#4d9221"
            ],
            [
             1,
             "#276419"
            ]
           ],
           "sequential": [
            [
             0,
             "#0d0887"
            ],
            [
             0.1111111111111111,
             "#46039f"
            ],
            [
             0.2222222222222222,
             "#7201a8"
            ],
            [
             0.3333333333333333,
             "#9c179e"
            ],
            [
             0.4444444444444444,
             "#bd3786"
            ],
            [
             0.5555555555555556,
             "#d8576b"
            ],
            [
             0.6666666666666666,
             "#ed7953"
            ],
            [
             0.7777777777777778,
             "#fb9f3a"
            ],
            [
             0.8888888888888888,
             "#fdca26"
            ],
            [
             1,
             "#f0f921"
            ]
           ],
           "sequentialminus": [
            [
             0,
             "#0d0887"
            ],
            [
             0.1111111111111111,
             "#46039f"
            ],
            [
             0.2222222222222222,
             "#7201a8"
            ],
            [
             0.3333333333333333,
             "#9c179e"
            ],
            [
             0.4444444444444444,
             "#bd3786"
            ],
            [
             0.5555555555555556,
             "#d8576b"
            ],
            [
             0.6666666666666666,
             "#ed7953"
            ],
            [
             0.7777777777777778,
             "#fb9f3a"
            ],
            [
             0.8888888888888888,
             "#fdca26"
            ],
            [
             1,
             "#f0f921"
            ]
           ]
          },
          "colorway": [
           "#636efa",
           "#EF553B",
           "#00cc96",
           "#ab63fa",
           "#FFA15A",
           "#19d3f3",
           "#FF6692",
           "#B6E880",
           "#FF97FF",
           "#FECB52"
          ],
          "font": {
           "color": "#2a3f5f"
          },
          "geo": {
           "bgcolor": "white",
           "lakecolor": "white",
           "landcolor": "#E5ECF6",
           "showlakes": true,
           "showland": true,
           "subunitcolor": "white"
          },
          "hoverlabel": {
           "align": "left"
          },
          "hovermode": "closest",
          "mapbox": {
           "style": "light"
          },
          "paper_bgcolor": "white",
          "plot_bgcolor": "#E5ECF6",
          "polar": {
           "angularaxis": {
            "gridcolor": "white",
            "linecolor": "white",
            "ticks": ""
           },
           "bgcolor": "#E5ECF6",
           "radialaxis": {
            "gridcolor": "white",
            "linecolor": "white",
            "ticks": ""
           }
          },
          "scene": {
           "xaxis": {
            "backgroundcolor": "#E5ECF6",
            "gridcolor": "white",
            "gridwidth": 2,
            "linecolor": "white",
            "showbackground": true,
            "ticks": "",
            "zerolinecolor": "white"
           },
           "yaxis": {
            "backgroundcolor": "#E5ECF6",
            "gridcolor": "white",
            "gridwidth": 2,
            "linecolor": "white",
            "showbackground": true,
            "ticks": "",
            "zerolinecolor": "white"
           },
           "zaxis": {
            "backgroundcolor": "#E5ECF6",
            "gridcolor": "white",
            "gridwidth": 2,
            "linecolor": "white",
            "showbackground": true,
            "ticks": "",
            "zerolinecolor": "white"
           }
          },
          "shapedefaults": {
           "line": {
            "color": "#2a3f5f"
           }
          },
          "ternary": {
           "aaxis": {
            "gridcolor": "white",
            "linecolor": "white",
            "ticks": ""
           },
           "baxis": {
            "gridcolor": "white",
            "linecolor": "white",
            "ticks": ""
           },
           "bgcolor": "#E5ECF6",
           "caxis": {
            "gridcolor": "white",
            "linecolor": "white",
            "ticks": ""
           }
          },
          "title": {
           "x": 0.05
          },
          "xaxis": {
           "automargin": true,
           "gridcolor": "white",
           "linecolor": "white",
           "ticks": "",
           "title": {
            "standoff": 15
           },
           "zerolinecolor": "white",
           "zerolinewidth": 2
          },
          "yaxis": {
           "automargin": true,
           "gridcolor": "white",
           "linecolor": "white",
           "ticks": "",
           "title": {
            "standoff": 15
           },
           "zerolinecolor": "white",
           "zerolinewidth": 2
          }
         }
        },
        "title": {
         "text": "Cement Export Price (USD per ton)"
        },
        "updatemenus": [
         {
          "buttons": [
           {
            "args": [
             null,
             {
              "frame": {
               "duration": 500,
               "redraw": true
              },
              "fromcurrent": true,
              "mode": "immediate",
              "transition": {
               "duration": 500,
               "easing": "linear"
              }
             }
            ],
            "label": "&#9654;",
            "method": "animate"
           },
           {
            "args": [
             [
              null
             ],
             {
              "frame": {
               "duration": 0,
               "redraw": true
              },
              "fromcurrent": true,
              "mode": "immediate",
              "transition": {
               "duration": 0,
               "easing": "linear"
              }
             }
            ],
            "label": "&#9724;",
            "method": "animate"
           }
          ],
          "direction": "left",
          "pad": {
           "r": 10,
           "t": 70
          },
          "showactive": false,
          "type": "buttons",
          "x": 0.1,
          "xanchor": "right",
          "y": 0,
          "yanchor": "top"
         }
        ]
       }
      },
      "text/html": [
       "<div>                            <div id=\"155fcbd7-1d0b-4b06-9662-6ed08e197e16\" class=\"plotly-graph-div\" style=\"height:525px; width:100%;\"></div>            <script type=\"text/javascript\">                require([\"plotly\"], function(Plotly) {                    window.PLOTLYENV=window.PLOTLYENV || {};                                    if (document.getElementById(\"155fcbd7-1d0b-4b06-9662-6ed08e197e16\")) {                    Plotly.newPlot(                        \"155fcbd7-1d0b-4b06-9662-6ed08e197e16\",                        [{\"geo\":\"geo\",\"hovertemplate\":\"<b>%{hovertext}</b><br><br>Year=2007<br>Export Price=%{marker.size}<br>Code=%{location}<extra></extra>\",\"hovertext\":[\"IRL\",\"USA\",\"BRA\",\"CHN\",\"DEU\",\"RUS\",\"AUS\",\"VNM\",\"JPN\",\"IRN\"],\"legendgroup\":\"\",\"locations\":[\"IRL\",\"USA\",\"BRA\",\"CHN\",\"DEU\",\"RUS\",\"AUS\",\"VNM\",\"JPN\",\"IRN\"],\"marker\":{\"color\":\"#636efa\",\"size\":[93.9,126.0,50.0,39.8,86.2,102.5,253.6,115.8,29.4,91.9],\"sizemode\":\"area\",\"sizeref\":0.281,\"symbol\":\"circle\"},\"mode\":\"markers\",\"name\":\"\",\"showlegend\":false,\"type\":\"scattergeo\"}],                        {\"template\":{\"data\":{\"histogram2dcontour\":[{\"type\":\"histogram2dcontour\",\"colorbar\":{\"outlinewidth\":0,\"ticks\":\"\"},\"colorscale\":[[0.0,\"#0d0887\"],[0.1111111111111111,\"#46039f\"],[0.2222222222222222,\"#7201a8\"],[0.3333333333333333,\"#9c179e\"],[0.4444444444444444,\"#bd3786\"],[0.5555555555555556,\"#d8576b\"],[0.6666666666666666,\"#ed7953\"],[0.7777777777777778,\"#fb9f3a\"],[0.8888888888888888,\"#fdca26\"],[1.0,\"#f0f921\"]]}],\"choropleth\":[{\"type\":\"choropleth\",\"colorbar\":{\"outlinewidth\":0,\"ticks\":\"\"}}],\"histogram2d\":[{\"type\":\"histogram2d\",\"colorbar\":{\"outlinewidth\":0,\"ticks\":\"\"},\"colorscale\":[[0.0,\"#0d0887\"],[0.1111111111111111,\"#46039f\"],[0.2222222222222222,\"#7201a8\"],[0.3333333333333333,\"#9c179e\"],[0.4444444444444444,\"#bd3786\"],[0.5555555555555556,\"#d8576b\"],[0.6666666666666666,\"#ed7953\"],[0.7777777777777778,\"#fb9f3a\"],[0.8888888888888888,\"#fdca26\"],[1.0,\"#f0f921\"]]}],\"heatmap\":[{\"type\":\"heatmap\",\"colorbar\":{\"outlinewidth\":0,\"ticks\":\"\"},\"colorscale\":[[0.0,\"#0d0887\"],[0.1111111111111111,\"#46039f\"],[0.2222222222222222,\"#7201a8\"],[0.3333333333333333,\"#9c179e\"],[0.4444444444444444,\"#bd3786\"],[0.5555555555555556,\"#d8576b\"],[0.6666666666666666,\"#ed7953\"],[0.7777777777777778,\"#fb9f3a\"],[0.8888888888888888,\"#fdca26\"],[1.0,\"#f0f921\"]]}],\"heatmapgl\":[{\"type\":\"heatmapgl\",\"colorbar\":{\"outlinewidth\":0,\"ticks\":\"\"},\"colorscale\":[[0.0,\"#0d0887\"],[0.1111111111111111,\"#46039f\"],[0.2222222222222222,\"#7201a8\"],[0.3333333333333333,\"#9c179e\"],[0.4444444444444444,\"#bd3786\"],[0.5555555555555556,\"#d8576b\"],[0.6666666666666666,\"#ed7953\"],[0.7777777777777778,\"#fb9f3a\"],[0.8888888888888888,\"#fdca26\"],[1.0,\"#f0f921\"]]}],\"contourcarpet\":[{\"type\":\"contourcarpet\",\"colorbar\":{\"outlinewidth\":0,\"ticks\":\"\"}}],\"contour\":[{\"type\":\"contour\",\"colorbar\":{\"outlinewidth\":0,\"ticks\":\"\"},\"colorscale\":[[0.0,\"#0d0887\"],[0.1111111111111111,\"#46039f\"],[0.2222222222222222,\"#7201a8\"],[0.3333333333333333,\"#9c179e\"],[0.4444444444444444,\"#bd3786\"],[0.5555555555555556,\"#d8576b\"],[0.6666666666666666,\"#ed7953\"],[0.7777777777777778,\"#fb9f3a\"],[0.8888888888888888,\"#fdca26\"],[1.0,\"#f0f921\"]]}],\"surface\":[{\"type\":\"surface\",\"colorbar\":{\"outlinewidth\":0,\"ticks\":\"\"},\"colorscale\":[[0.0,\"#0d0887\"],[0.1111111111111111,\"#46039f\"],[0.2222222222222222,\"#7201a8\"],[0.3333333333333333,\"#9c179e\"],[0.4444444444444444,\"#bd3786\"],[0.5555555555555556,\"#d8576b\"],[0.6666666666666666,\"#ed7953\"],[0.7777777777777778,\"#fb9f3a\"],[0.8888888888888888,\"#fdca26\"],[1.0,\"#f0f921\"]]}],\"mesh3d\":[{\"type\":\"mesh3d\",\"colorbar\":{\"outlinewidth\":0,\"ticks\":\"\"}}],\"scatter\":[{\"fillpattern\":{\"fillmode\":\"overlay\",\"size\":10,\"solidity\":0.2},\"type\":\"scatter\"}],\"parcoords\":[{\"type\":\"parcoords\",\"line\":{\"colorbar\":{\"outlinewidth\":0,\"ticks\":\"\"}}}],\"scatterpolargl\":[{\"type\":\"scatterpolargl\",\"marker\":{\"colorbar\":{\"outlinewidth\":0,\"ticks\":\"\"}}}],\"bar\":[{\"error_x\":{\"color\":\"#2a3f5f\"},\"error_y\":{\"color\":\"#2a3f5f\"},\"marker\":{\"line\":{\"color\":\"#E5ECF6\",\"width\":0.5},\"pattern\":{\"fillmode\":\"overlay\",\"size\":10,\"solidity\":0.2}},\"type\":\"bar\"}],\"scattergeo\":[{\"type\":\"scattergeo\",\"marker\":{\"colorbar\":{\"outlinewidth\":0,\"ticks\":\"\"}}}],\"scatterpolar\":[{\"type\":\"scatterpolar\",\"marker\":{\"colorbar\":{\"outlinewidth\":0,\"ticks\":\"\"}}}],\"histogram\":[{\"marker\":{\"pattern\":{\"fillmode\":\"overlay\",\"size\":10,\"solidity\":0.2}},\"type\":\"histogram\"}],\"scattergl\":[{\"type\":\"scattergl\",\"marker\":{\"colorbar\":{\"outlinewidth\":0,\"ticks\":\"\"}}}],\"scatter3d\":[{\"type\":\"scatter3d\",\"line\":{\"colorbar\":{\"outlinewidth\":0,\"ticks\":\"\"}},\"marker\":{\"colorbar\":{\"outlinewidth\":0,\"ticks\":\"\"}}}],\"scattermapbox\":[{\"type\":\"scattermapbox\",\"marker\":{\"colorbar\":{\"outlinewidth\":0,\"ticks\":\"\"}}}],\"scatterternary\":[{\"type\":\"scatterternary\",\"marker\":{\"colorbar\":{\"outlinewidth\":0,\"ticks\":\"\"}}}],\"scattercarpet\":[{\"type\":\"scattercarpet\",\"marker\":{\"colorbar\":{\"outlinewidth\":0,\"ticks\":\"\"}}}],\"carpet\":[{\"aaxis\":{\"endlinecolor\":\"#2a3f5f\",\"gridcolor\":\"white\",\"linecolor\":\"white\",\"minorgridcolor\":\"white\",\"startlinecolor\":\"#2a3f5f\"},\"baxis\":{\"endlinecolor\":\"#2a3f5f\",\"gridcolor\":\"white\",\"linecolor\":\"white\",\"minorgridcolor\":\"white\",\"startlinecolor\":\"#2a3f5f\"},\"type\":\"carpet\"}],\"table\":[{\"cells\":{\"fill\":{\"color\":\"#EBF0F8\"},\"line\":{\"color\":\"white\"}},\"header\":{\"fill\":{\"color\":\"#C8D4E3\"},\"line\":{\"color\":\"white\"}},\"type\":\"table\"}],\"barpolar\":[{\"marker\":{\"line\":{\"color\":\"#E5ECF6\",\"width\":0.5},\"pattern\":{\"fillmode\":\"overlay\",\"size\":10,\"solidity\":0.2}},\"type\":\"barpolar\"}],\"pie\":[{\"automargin\":true,\"type\":\"pie\"}]},\"layout\":{\"autotypenumbers\":\"strict\",\"colorway\":[\"#636efa\",\"#EF553B\",\"#00cc96\",\"#ab63fa\",\"#FFA15A\",\"#19d3f3\",\"#FF6692\",\"#B6E880\",\"#FF97FF\",\"#FECB52\"],\"font\":{\"color\":\"#2a3f5f\"},\"hovermode\":\"closest\",\"hoverlabel\":{\"align\":\"left\"},\"paper_bgcolor\":\"white\",\"plot_bgcolor\":\"#E5ECF6\",\"polar\":{\"bgcolor\":\"#E5ECF6\",\"angularaxis\":{\"gridcolor\":\"white\",\"linecolor\":\"white\",\"ticks\":\"\"},\"radialaxis\":{\"gridcolor\":\"white\",\"linecolor\":\"white\",\"ticks\":\"\"}},\"ternary\":{\"bgcolor\":\"#E5ECF6\",\"aaxis\":{\"gridcolor\":\"white\",\"linecolor\":\"white\",\"ticks\":\"\"},\"baxis\":{\"gridcolor\":\"white\",\"linecolor\":\"white\",\"ticks\":\"\"},\"caxis\":{\"gridcolor\":\"white\",\"linecolor\":\"white\",\"ticks\":\"\"}},\"coloraxis\":{\"colorbar\":{\"outlinewidth\":0,\"ticks\":\"\"}},\"colorscale\":{\"sequential\":[[0.0,\"#0d0887\"],[0.1111111111111111,\"#46039f\"],[0.2222222222222222,\"#7201a8\"],[0.3333333333333333,\"#9c179e\"],[0.4444444444444444,\"#bd3786\"],[0.5555555555555556,\"#d8576b\"],[0.6666666666666666,\"#ed7953\"],[0.7777777777777778,\"#fb9f3a\"],[0.8888888888888888,\"#fdca26\"],[1.0,\"#f0f921\"]],\"sequentialminus\":[[0.0,\"#0d0887\"],[0.1111111111111111,\"#46039f\"],[0.2222222222222222,\"#7201a8\"],[0.3333333333333333,\"#9c179e\"],[0.4444444444444444,\"#bd3786\"],[0.5555555555555556,\"#d8576b\"],[0.6666666666666666,\"#ed7953\"],[0.7777777777777778,\"#fb9f3a\"],[0.8888888888888888,\"#fdca26\"],[1.0,\"#f0f921\"]],\"diverging\":[[0,\"#8e0152\"],[0.1,\"#c51b7d\"],[0.2,\"#de77ae\"],[0.3,\"#f1b6da\"],[0.4,\"#fde0ef\"],[0.5,\"#f7f7f7\"],[0.6,\"#e6f5d0\"],[0.7,\"#b8e186\"],[0.8,\"#7fbc41\"],[0.9,\"#4d9221\"],[1,\"#276419\"]]},\"xaxis\":{\"gridcolor\":\"white\",\"linecolor\":\"white\",\"ticks\":\"\",\"title\":{\"standoff\":15},\"zerolinecolor\":\"white\",\"automargin\":true,\"zerolinewidth\":2},\"yaxis\":{\"gridcolor\":\"white\",\"linecolor\":\"white\",\"ticks\":\"\",\"title\":{\"standoff\":15},\"zerolinecolor\":\"white\",\"automargin\":true,\"zerolinewidth\":2},\"scene\":{\"xaxis\":{\"backgroundcolor\":\"#E5ECF6\",\"gridcolor\":\"white\",\"linecolor\":\"white\",\"showbackground\":true,\"ticks\":\"\",\"zerolinecolor\":\"white\",\"gridwidth\":2},\"yaxis\":{\"backgroundcolor\":\"#E5ECF6\",\"gridcolor\":\"white\",\"linecolor\":\"white\",\"showbackground\":true,\"ticks\":\"\",\"zerolinecolor\":\"white\",\"gridwidth\":2},\"zaxis\":{\"backgroundcolor\":\"#E5ECF6\",\"gridcolor\":\"white\",\"linecolor\":\"white\",\"showbackground\":true,\"ticks\":\"\",\"zerolinecolor\":\"white\",\"gridwidth\":2}},\"shapedefaults\":{\"line\":{\"color\":\"#2a3f5f\"}},\"annotationdefaults\":{\"arrowcolor\":\"#2a3f5f\",\"arrowhead\":0,\"arrowwidth\":1},\"geo\":{\"bgcolor\":\"white\",\"landcolor\":\"#E5ECF6\",\"subunitcolor\":\"white\",\"showland\":true,\"showlakes\":true,\"lakecolor\":\"white\"},\"title\":{\"x\":0.05},\"mapbox\":{\"style\":\"light\"}}},\"geo\":{\"domain\":{\"x\":[0.0,1.0],\"y\":[0.0,1.0]},\"center\":{},\"projection\":{\"type\":\"natural earth\"}},\"legend\":{\"tracegroupgap\":0,\"itemsizing\":\"constant\"},\"margin\":{\"t\":60},\"updatemenus\":[{\"buttons\":[{\"args\":[null,{\"frame\":{\"duration\":500,\"redraw\":true},\"mode\":\"immediate\",\"fromcurrent\":true,\"transition\":{\"duration\":500,\"easing\":\"linear\"}}],\"label\":\"&#9654;\",\"method\":\"animate\"},{\"args\":[[null],{\"frame\":{\"duration\":0,\"redraw\":true},\"mode\":\"immediate\",\"fromcurrent\":true,\"transition\":{\"duration\":0,\"easing\":\"linear\"}}],\"label\":\"&#9724;\",\"method\":\"animate\"}],\"direction\":\"left\",\"pad\":{\"r\":10,\"t\":70},\"showactive\":false,\"type\":\"buttons\",\"x\":0.1,\"xanchor\":\"right\",\"y\":0,\"yanchor\":\"top\"}],\"sliders\":[{\"active\":0,\"currentvalue\":{\"prefix\":\"Year=\"},\"len\":0.9,\"pad\":{\"b\":10,\"t\":60},\"steps\":[{\"args\":[[\"2007\"],{\"frame\":{\"duration\":0,\"redraw\":true},\"mode\":\"immediate\",\"fromcurrent\":true,\"transition\":{\"duration\":0,\"easing\":\"linear\"}}],\"label\":\"2007\",\"method\":\"animate\"},{\"args\":[[\"2008\"],{\"frame\":{\"duration\":0,\"redraw\":true},\"mode\":\"immediate\",\"fromcurrent\":true,\"transition\":{\"duration\":0,\"easing\":\"linear\"}}],\"label\":\"2008\",\"method\":\"animate\"},{\"args\":[[\"2009\"],{\"frame\":{\"duration\":0,\"redraw\":true},\"mode\":\"immediate\",\"fromcurrent\":true,\"transition\":{\"duration\":0,\"easing\":\"linear\"}}],\"label\":\"2009\",\"method\":\"animate\"},{\"args\":[[\"2010\"],{\"frame\":{\"duration\":0,\"redraw\":true},\"mode\":\"immediate\",\"fromcurrent\":true,\"transition\":{\"duration\":0,\"easing\":\"linear\"}}],\"label\":\"2010\",\"method\":\"animate\"},{\"args\":[[\"2011\"],{\"frame\":{\"duration\":0,\"redraw\":true},\"mode\":\"immediate\",\"fromcurrent\":true,\"transition\":{\"duration\":0,\"easing\":\"linear\"}}],\"label\":\"2011\",\"method\":\"animate\"},{\"args\":[[\"2012\"],{\"frame\":{\"duration\":0,\"redraw\":true},\"mode\":\"immediate\",\"fromcurrent\":true,\"transition\":{\"duration\":0,\"easing\":\"linear\"}}],\"label\":\"2012\",\"method\":\"animate\"},{\"args\":[[\"2013\"],{\"frame\":{\"duration\":0,\"redraw\":true},\"mode\":\"immediate\",\"fromcurrent\":true,\"transition\":{\"duration\":0,\"easing\":\"linear\"}}],\"label\":\"2013\",\"method\":\"animate\"},{\"args\":[[\"2014\"],{\"frame\":{\"duration\":0,\"redraw\":true},\"mode\":\"immediate\",\"fromcurrent\":true,\"transition\":{\"duration\":0,\"easing\":\"linear\"}}],\"label\":\"2014\",\"method\":\"animate\"},{\"args\":[[\"2015\"],{\"frame\":{\"duration\":0,\"redraw\":true},\"mode\":\"immediate\",\"fromcurrent\":true,\"transition\":{\"duration\":0,\"easing\":\"linear\"}}],\"label\":\"2015\",\"method\":\"animate\"}],\"x\":0.1,\"xanchor\":\"left\",\"y\":0,\"yanchor\":\"top\"}],\"title\":{\"text\":\"Cement Export Price (USD per ton)\"}},                        {\"responsive\": true}                    ).then(function(){\n",
       "                            Plotly.addFrames('155fcbd7-1d0b-4b06-9662-6ed08e197e16', [{\"data\":[{\"geo\":\"geo\",\"hovertemplate\":\"<b>%{hovertext}</b><br><br>Year=2007<br>Export Price=%{marker.size}<br>Code=%{location}<extra></extra>\",\"hovertext\":[\"IRL\",\"USA\",\"BRA\",\"CHN\",\"DEU\",\"RUS\",\"AUS\",\"VNM\",\"JPN\",\"IRN\"],\"legendgroup\":\"\",\"locations\":[\"IRL\",\"USA\",\"BRA\",\"CHN\",\"DEU\",\"RUS\",\"AUS\",\"VNM\",\"JPN\",\"IRN\"],\"marker\":{\"color\":\"#636efa\",\"size\":[93.9,126.0,50.0,39.8,86.2,102.5,253.6,115.8,29.4,91.9],\"sizemode\":\"area\",\"sizeref\":0.281,\"symbol\":\"circle\"},\"mode\":\"markers\",\"name\":\"\",\"showlegend\":false,\"type\":\"scattergeo\"}],\"name\":\"2007\"},{\"data\":[{\"geo\":\"geo\",\"hovertemplate\":\"<b>%{hovertext}</b><br><br>Year=2008<br>Export Price=%{marker.size}<br>Code=%{location}<extra></extra>\",\"hovertext\":[\"IRL\",\"USA\",\"BRA\",\"CHN\",\"DEU\",\"RUS\",\"AUS\",\"VNM\",\"JPN\",\"IRN\"],\"legendgroup\":\"\",\"locations\":[\"IRL\",\"USA\",\"BRA\",\"CHN\",\"DEU\",\"RUS\",\"AUS\",\"VNM\",\"JPN\",\"IRN\"],\"marker\":{\"color\":\"#636efa\",\"size\":[97.7,121.2,65.2,47.7,104.3,141.2,323.5,105.2,32.6,97.2],\"sizemode\":\"area\",\"sizeref\":0.281,\"symbol\":\"circle\"},\"mode\":\"markers\",\"name\":\"\",\"showlegend\":false,\"type\":\"scattergeo\"}],\"name\":\"2008\"},{\"data\":[{\"geo\":\"geo\",\"hovertemplate\":\"<b>%{hovertext}</b><br><br>Year=2009<br>Export Price=%{marker.size}<br>Code=%{location}<extra></extra>\",\"hovertext\":[\"IRL\",\"USA\",\"BRA\",\"CHN\",\"DEU\",\"RUS\",\"AUS\",\"VNM\",\"JPN\",\"IRN\"],\"legendgroup\":\"\",\"locations\":[\"IRL\",\"USA\",\"BRA\",\"CHN\",\"DEU\",\"RUS\",\"AUS\",\"VNM\",\"JPN\",\"IRN\"],\"marker\":{\"color\":\"#636efa\",\"size\":[96.5,119.9,102.9,50.1,98.3,86.6,308.3,95.9,35.4,76.4],\"sizemode\":\"area\",\"sizeref\":0.281,\"symbol\":\"circle\"},\"mode\":\"markers\",\"name\":\"\",\"showlegend\":false,\"type\":\"scattergeo\"}],\"name\":\"2009\"},{\"data\":[{\"geo\":\"geo\",\"hovertemplate\":\"<b>%{hovertext}</b><br><br>Year=2010<br>Export Price=%{marker.size}<br>Code=%{location}<extra></extra>\",\"hovertext\":[\"IRL\",\"USA\",\"BRA\",\"CHN\",\"DEU\",\"RUS\",\"AUS\",\"VNM\",\"JPN\",\"IRN\"],\"legendgroup\":\"\",\"locations\":[\"IRL\",\"USA\",\"BRA\",\"CHN\",\"DEU\",\"RUS\",\"AUS\",\"VNM\",\"JPN\",\"IRN\"],\"marker\":{\"color\":\"#636efa\",\"size\":[101.2,135.8,112.0,50.5,92.2,82.2,326.6,89.4,32.6,76.5],\"sizemode\":\"area\",\"sizeref\":0.281,\"symbol\":\"circle\"},\"mode\":\"markers\",\"name\":\"\",\"showlegend\":false,\"type\":\"scattergeo\"}],\"name\":\"2010\"},{\"data\":[{\"geo\":\"geo\",\"hovertemplate\":\"<b>%{hovertext}</b><br><br>Year=2011<br>Export Price=%{marker.size}<br>Code=%{location}<extra></extra>\",\"hovertext\":[\"IRL\",\"USA\",\"BRA\",\"CHN\",\"DEU\",\"RUS\",\"AUS\",\"VNM\",\"JPN\",\"IRN\"],\"legendgroup\":\"\",\"locations\":[\"IRL\",\"USA\",\"BRA\",\"CHN\",\"DEU\",\"RUS\",\"AUS\",\"VNM\",\"JPN\",\"IRN\"],\"marker\":{\"color\":\"#636efa\",\"size\":[99.5,128.3,118.9,60.2,99.6,94.0,398.0,85.2,33.7,62.5],\"sizemode\":\"area\",\"sizeref\":0.281,\"symbol\":\"circle\"},\"mode\":\"markers\",\"name\":\"\",\"showlegend\":false,\"type\":\"scattergeo\"}],\"name\":\"2011\"},{\"data\":[{\"geo\":\"geo\",\"hovertemplate\":\"<b>%{hovertext}</b><br><br>Year=2012<br>Export Price=%{marker.size}<br>Code=%{location}<extra></extra>\",\"hovertext\":[\"IRL\",\"USA\",\"BRA\",\"CHN\",\"DEU\",\"RUS\",\"AUS\",\"VNM\",\"JPN\",\"IRN\"],\"legendgroup\":\"\",\"locations\":[\"IRL\",\"USA\",\"BRA\",\"CHN\",\"DEU\",\"RUS\",\"AUS\",\"VNM\",\"JPN\",\"IRN\"],\"marker\":{\"color\":\"#636efa\",\"size\":[89.6,130.0,131.2,60.7,94.1,104.3,338.8,63.9,37.5,62.5],\"sizemode\":\"area\",\"sizeref\":0.281,\"symbol\":\"circle\"},\"mode\":\"markers\",\"name\":\"\",\"showlegend\":false,\"type\":\"scattergeo\"}],\"name\":\"2012\"},{\"data\":[{\"geo\":\"geo\",\"hovertemplate\":\"<b>%{hovertext}</b><br><br>Year=2013<br>Export Price=%{marker.size}<br>Code=%{location}<extra></extra>\",\"hovertext\":[\"IRL\",\"USA\",\"BRA\",\"CHN\",\"DEU\",\"RUS\",\"AUS\",\"VNM\",\"JPN\",\"IRN\"],\"legendgroup\":\"\",\"locations\":[\"IRL\",\"USA\",\"BRA\",\"CHN\",\"DEU\",\"RUS\",\"AUS\",\"VNM\",\"JPN\",\"IRN\"],\"marker\":{\"color\":\"#636efa\",\"size\":[89.5,135.4,129.3,58.2,97.3,105.2,313.3,78.3,39.0,59.6],\"sizemode\":\"area\",\"sizeref\":0.281,\"symbol\":\"circle\"},\"mode\":\"markers\",\"name\":\"\",\"showlegend\":false,\"type\":\"scattergeo\"}],\"name\":\"2013\"},{\"data\":[{\"geo\":\"geo\",\"hovertemplate\":\"<b>%{hovertext}</b><br><br>Year=2014<br>Export Price=%{marker.size}<br>Code=%{location}<extra></extra>\",\"hovertext\":[\"IRL\",\"USA\",\"BRA\",\"CHN\",\"DEU\",\"RUS\",\"AUS\",\"VNM\",\"JPN\",\"IRN\"],\"legendgroup\":\"\",\"locations\":[\"IRL\",\"USA\",\"BRA\",\"CHN\",\"DEU\",\"RUS\",\"AUS\",\"VNM\",\"JPN\",\"IRN\"],\"marker\":{\"color\":\"#636efa\",\"size\":[97.0,92.8,126.5,59.7,97.1,83.1,449.6,76.4,41.0,74.5],\"sizemode\":\"area\",\"sizeref\":0.281,\"symbol\":\"circle\"},\"mode\":\"markers\",\"name\":\"\",\"showlegend\":false,\"type\":\"scattergeo\"}],\"name\":\"2014\"},{\"data\":[{\"geo\":\"geo\",\"hovertemplate\":\"<b>%{hovertext}</b><br><br>Year=2015<br>Export Price=%{marker.size}<br>Code=%{location}<extra></extra>\",\"hovertext\":[\"IRL\",\"USA\",\"BRA\",\"CHN\",\"DEU\",\"RUS\",\"AUS\",\"VNM\",\"JPN\",\"IRN\"],\"legendgroup\":\"\",\"locations\":[\"IRL\",\"USA\",\"BRA\",\"CHN\",\"DEU\",\"RUS\",\"AUS\",\"VNM\",\"JPN\",\"IRN\"],\"marker\":{\"color\":\"#636efa\",\"size\":[75.6,152.9,87.8,58.0,79.5,52.9,278.0,78.1,40.8,59.7],\"sizemode\":\"area\",\"sizeref\":0.281,\"symbol\":\"circle\"},\"mode\":\"markers\",\"name\":\"\",\"showlegend\":false,\"type\":\"scattergeo\"}],\"name\":\"2015\"}]);\n",
       "                        }).then(function(){\n",
       "                            \n",
       "var gd = document.getElementById('155fcbd7-1d0b-4b06-9662-6ed08e197e16');\n",
       "var x = new MutationObserver(function (mutations, observer) {{\n",
       "        var display = window.getComputedStyle(gd).display;\n",
       "        if (!display || display === 'none') {{\n",
       "            console.log([gd, 'removed!']);\n",
       "            Plotly.purge(gd);\n",
       "            observer.disconnect();\n",
       "        }}\n",
       "}});\n",
       "\n",
       "// Listen for the removal of the full notebook cells\n",
       "var notebookContainer = gd.closest('#notebook-container');\n",
       "if (notebookContainer) {{\n",
       "    x.observe(notebookContainer, {childList: true});\n",
       "}}\n",
       "\n",
       "// Listen for the clearing of the current output cell\n",
       "var outputEl = gd.closest('.output');\n",
       "if (outputEl) {{\n",
       "    x.observe(outputEl, {childList: true});\n",
       "}}\n",
       "\n",
       "                        })                };                });            </script>        </div>"
      ]
     },
     "metadata": {},
     "output_type": "display_data"
    }
   ],
   "source": [
    "# Interactive scatterplot map graph: Cement Export Price (USD per ton)\n",
    "\n",
    "fig = px.scatter_geo(cement_merge, \n",
    "                    locations=\"Code\", \n",
    "                     # name of column which contains state codes\n",
    "                    size=\"Export Price\", \n",
    "                     # name of column which contains aggregate value to visualize\n",
    "                    hover_name=\"Code\",\n",
    "                    size_max=40,\n",
    "                    animation_frame=\"Year\",)\n",
    "                    \n",
    "fig.update_layout(\n",
    "    # add a title text for the plot\n",
    "    title_text = 'Cement Export Price (USD per ton)',\n",
    "    # limit plot scope to USA\n",
    "    geo = dict(projection={'type':'natural earth'})\n",
    ")\n",
    "fig.show()"
   ]
  },
  {
   "cell_type": "code",
   "execution_count": 440,
   "id": "f0baa287",
   "metadata": {},
   "outputs": [
    {
     "data": {
      "image/png": "[encoded data removed]",
      "text/plain": [
       "<Figure size 2000x400 with 1 Axes>"
      ]
     },
     "metadata": {},
     "output_type": "display_data"
    }
   ],
   "source": [
    "# Plot Cement Export Price (USD per ton) from 2007 to 2015\n",
    "# Create figure and set of subplots\n",
    "fig, ax = plt.subplots()\n",
    "\n",
    "ax.plot(cement_merge[cement_merge[\"Code\"]==\"IRL\"][\"Year\"], cement_merge[cement_merge[\"Code\"]==\"IRL\"][\"Export Price\"], label=\"Ireland\")\n",
    "ax.plot(cement_merge[cement_merge[\"Code\"]==\"USA\"][\"Year\"], cement_merge[cement_merge[\"Code\"]==\"USA\"][\"Export Price\"], label=\"United States\")\n",
    "ax.plot(cement_merge[cement_merge[\"Code\"]==\"BRA\"][\"Year\"], cement_merge[cement_merge[\"Code\"]==\"BRA\"][\"Export Price\"], label=\"Brazil\")\n",
    "ax.plot(cement_merge[cement_merge[\"Code\"]==\"CHN\"][\"Year\"], cement_merge[cement_merge[\"Code\"]==\"CHN\"][\"Export Price\"], label=\"China\")\n",
    "ax.plot(cement_merge[cement_merge[\"Code\"]==\"DEU\"][\"Year\"], cement_merge[cement_merge[\"Code\"]==\"DEU\"][\"Export Price\"], label=\"Germany\")\n",
    "ax.plot(cement_merge[cement_merge[\"Code\"]==\"RUS\"][\"Year\"], cement_merge[cement_merge[\"Code\"]==\"RUS\"][\"Export Price\"], label=\"Russia\")\n",
    "ax.plot(cement_merge[cement_merge[\"Code\"]==\"AUS\"][\"Year\"], cement_merge[cement_merge[\"Code\"]==\"AUS\"][\"Export Price\"], label=\"Australia\")\n",
    "ax.plot(cement_merge[cement_merge[\"Code\"]==\"VNM\"][\"Year\"], cement_merge[cement_merge[\"Code\"]==\"VNM\"][\"Export Price\"], label=\"Vietnam\")\n",
    "ax.plot(cement_merge[cement_merge[\"Code\"]==\"JPN\"][\"Year\"], cement_merge[cement_merge[\"Code\"]==\"JPN\"][\"Export Price\"], label=\"Japan\")\n",
    "ax.plot(cement_merge[cement_merge[\"Code\"]==\"IRN\"][\"Year\"], cement_merge[cement_merge[\"Code\"]==\"IRN\"][\"Export Price\"], label=\"Iran\")\n",
    "\n",
    "\n",
    "# Config graphic\n",
    "plt.rc(\"figure\", autolayout=True, figsize=(20, 4))\n",
    "plt.title(\"Cement Export Price from 2007 to 2015\")\n",
    "plt.xlabel(\"Year\")\n",
    "plt.ylabel(\"USD per ton\")\n",
    "plt.xticks(rotation=45)\n",
    "ax.legend(loc='center left', bbox_to_anchor=(1, 0.5))\n",
    "\n",
    "# Display graphic\n",
    "plt.show()"
   ]
  },
  {
   "cell_type": "markdown",
   "id": "e42f9a66",
   "metadata": {},
   "source": [
    "## Statistical Analysis"
   ]
  },
  {
   "cell_type": "code",
   "execution_count": 441,
   "id": "0b669291",
   "metadata": {},
   "outputs": [
    {
     "data": {
      "text/html": [
       "<div>\n",
       "<style scoped>\n",
       "    .dataframe tbody tr th:only-of-type {\n",
       "        vertical-align: middle;\n",
       "    }\n",
       "\n",
       "    .dataframe tbody tr th {\n",
       "        vertical-align: top;\n",
       "    }\n",
       "\n",
       "    .dataframe thead th {\n",
       "        text-align: right;\n",
       "    }\n",
       "</style>\n",
       "<table border=\"1\" class=\"dataframe\">\n",
       "  <thead>\n",
       "    <tr style=\"text-align: right;\">\n",
       "      <th>FACTOR</th>\n",
       "      <th>Year</th>\n",
       "      <th>Consumption Volume</th>\n",
       "      <th>Consumption Value</th>\n",
       "      <th>Production Volume</th>\n",
       "      <th>Production Value</th>\n",
       "      <th>Import Volume</th>\n",
       "      <th>Import Value</th>\n",
       "      <th>Export Volume</th>\n",
       "      <th>Export Value</th>\n",
       "      <th>Import Price</th>\n",
       "      <th>Export Price</th>\n",
       "      <th>Per Capita Consumption</th>\n",
       "    </tr>\n",
       "  </thead>\n",
       "  <tbody>\n",
       "    <tr>\n",
       "      <th>count</th>\n",
       "      <td>9.000000</td>\n",
       "      <td>9.000000</td>\n",
       "      <td>9.000000</td>\n",
       "      <td>9.000000</td>\n",
       "      <td>9.000000</td>\n",
       "      <td>9.000000</td>\n",
       "      <td>9.000000</td>\n",
       "      <td>9.000000</td>\n",
       "      <td>9.000000</td>\n",
       "      <td>9.000000</td>\n",
       "      <td>9.000000</td>\n",
       "      <td>9.000000</td>\n",
       "    </tr>\n",
       "    <tr>\n",
       "      <th>mean</th>\n",
       "      <td>2011.000000</td>\n",
       "      <td>1546.588889</td>\n",
       "      <td>138.933333</td>\n",
       "      <td>2544.888889</td>\n",
       "      <td>211.877778</td>\n",
       "      <td>249.600000</td>\n",
       "      <td>23.988889</td>\n",
       "      <td>1247.844444</td>\n",
       "      <td>114.811111</td>\n",
       "      <td>99.444444</td>\n",
       "      <td>93.388889</td>\n",
       "      <td>340.888889</td>\n",
       "    </tr>\n",
       "    <tr>\n",
       "      <th>std</th>\n",
       "      <td>2.738613</td>\n",
       "      <td>1245.610124</td>\n",
       "      <td>86.375865</td>\n",
       "      <td>906.482687</td>\n",
       "      <td>53.235227</td>\n",
       "      <td>263.742957</td>\n",
       "      <td>23.934726</td>\n",
       "      <td>302.733658</td>\n",
       "      <td>18.922833</td>\n",
       "      <td>12.868383</td>\n",
       "      <td>7.793017</td>\n",
       "      <td>282.572333</td>\n",
       "    </tr>\n",
       "    <tr>\n",
       "      <th>min</th>\n",
       "      <td>2007.000000</td>\n",
       "      <td>48.400000</td>\n",
       "      <td>7.700000</td>\n",
       "      <td>1198.000000</td>\n",
       "      <td>146.700000</td>\n",
       "      <td>89.800000</td>\n",
       "      <td>7.000000</td>\n",
       "      <td>944.600000</td>\n",
       "      <td>94.000000</td>\n",
       "      <td>78.100000</td>\n",
       "      <td>75.600000</td>\n",
       "      <td>10.400000</td>\n",
       "    </tr>\n",
       "    <tr>\n",
       "      <th>25%</th>\n",
       "      <td>2009.000000</td>\n",
       "      <td>667.000000</td>\n",
       "      <td>83.400000</td>\n",
       "      <td>2000.000000</td>\n",
       "      <td>175.100000</td>\n",
       "      <td>92.300000</td>\n",
       "      <td>10.000000</td>\n",
       "      <td>1056.000000</td>\n",
       "      <td>104.700000</td>\n",
       "      <td>88.900000</td>\n",
       "      <td>89.600000</td>\n",
       "      <td>141.900000</td>\n",
       "    </tr>\n",
       "    <tr>\n",
       "      <th>50%</th>\n",
       "      <td>2011.000000</td>\n",
       "      <td>1263.000000</td>\n",
       "      <td>137.100000</td>\n",
       "      <td>2500.000000</td>\n",
       "      <td>209.000000</td>\n",
       "      <td>106.700000</td>\n",
       "      <td>10.900000</td>\n",
       "      <td>1146.000000</td>\n",
       "      <td>110.600000</td>\n",
       "      <td>99.900000</td>\n",
       "      <td>96.500000</td>\n",
       "      <td>270.800000</td>\n",
       "    </tr>\n",
       "    <tr>\n",
       "      <th>75%</th>\n",
       "      <td>2013.000000</td>\n",
       "      <td>1748.000000</td>\n",
       "      <td>160.800000</td>\n",
       "      <td>2600.000000</td>\n",
       "      <td>234.900000</td>\n",
       "      <td>204.100000</td>\n",
       "      <td>23.000000</td>\n",
       "      <td>1240.000000</td>\n",
       "      <td>112.000000</td>\n",
       "      <td>107.800000</td>\n",
       "      <td>97.700000</td>\n",
       "      <td>382.600000</td>\n",
       "    </tr>\n",
       "    <tr>\n",
       "      <th>max</th>\n",
       "      <td>2015.000000</td>\n",
       "      <td>3563.000000</td>\n",
       "      <td>267.400000</td>\n",
       "      <td>4003.000000</td>\n",
       "      <td>323.700000</td>\n",
       "      <td>735.400000</td>\n",
       "      <td>65.500000</td>\n",
       "      <td>1923.000000</td>\n",
       "      <td>148.000000</td>\n",
       "      <td>118.500000</td>\n",
       "      <td>101.200000</td>\n",
       "      <td>810.100000</td>\n",
       "    </tr>\n",
       "  </tbody>\n",
       "</table>\n",
       "</div>"
      ],
      "text/plain": [
       "FACTOR         Year  Consumption Volume  Consumption Value  Production Volume  \\\n",
       "count      9.000000            9.000000           9.000000           9.000000   \n",
       "mean    2011.000000         1546.588889         138.933333        2544.888889   \n",
       "std        2.738613         1245.610124          86.375865         906.482687   \n",
       "min     2007.000000           48.400000           7.700000        1198.000000   \n",
       "25%     2009.000000          667.000000          83.400000        2000.000000   \n",
       "50%     2011.000000         1263.000000         137.100000        2500.000000   \n",
       "75%     2013.000000         1748.000000         160.800000        2600.000000   \n",
       "max     2015.000000         3563.000000         267.400000        4003.000000   \n",
       "\n",
       "FACTOR  Production Value  Import Volume  Import Value  Export Volume  \\\n",
       "count           9.000000       9.000000      9.000000       9.000000   \n",
       "mean          211.877778     249.600000     23.988889    1247.844444   \n",
       "std            53.235227     263.742957     23.934726     302.733658   \n",
       "min           146.700000      89.800000      7.000000     944.600000   \n",
       "25%           175.100000      92.300000     10.000000    1056.000000   \n",
       "50%           209.000000     106.700000     10.900000    1146.000000   \n",
       "75%           234.900000     204.100000     23.000000    1240.000000   \n",
       "max           323.700000     735.400000     65.500000    1923.000000   \n",
       "\n",
       "FACTOR  Export Value  Import Price  Export Price  Per Capita Consumption  \n",
       "count       9.000000      9.000000      9.000000                9.000000  \n",
       "mean      114.811111     99.444444     93.388889              340.888889  \n",
       "std        18.922833     12.868383      7.793017              282.572333  \n",
       "min        94.000000     78.100000     75.600000               10.400000  \n",
       "25%       104.700000     88.900000     89.600000              141.900000  \n",
       "50%       110.600000     99.900000     96.500000              270.800000  \n",
       "75%       112.000000    107.800000     97.700000              382.600000  \n",
       "max       148.000000    118.500000    101.200000              810.100000  "
      ]
     },
     "execution_count": 441,
     "metadata": {},
     "output_type": "execute_result"
    }
   ],
   "source": [
    "ireland_cement.describe()"
   ]
  },
  {
   "cell_type": "markdown",
   "id": "2290676a",
   "metadata": {},
   "source": [
    "### Testing Hypothesis\n",
    "\n",
    "Steps to perform hypothesis tests:\n",
    "- State the null ($H_0$) and alternative ($H_A$) hypotheses.\n",
    "- Select an appropriate test (and corresponding Python function) to perform.\n",
    "- Run the code.\n",
    "- Make a decision/conclusion, based on the p-value.\n",
    "- Summarise the results."
   ]
  },
  {
   "cell_type": "markdown",
   "id": "47be8c99",
   "metadata": {},
   "source": [
    "### ANOVA (Analysis of Variance) Per Capita Consumption by Country\n",
    "It is the generalisation of the two-sample t-test. It allows to test the mean of three or more groups.\n",
    "- Cement Per Capita Consumption test between Ireland, United States, Brazil, China, Germany, Russia, Australia, Vietnam, Japan and Iran."
   ]
  },
  {
   "cell_type": "code",
   "execution_count": 442,
   "id": "7038f3e5",
   "metadata": {},
   "outputs": [
    {
     "data": {
      "text/plain": [
       "F_onewayResult(statistic=52.36524795597824, pvalue=7.25805477761559e-30)"
      ]
     },
     "execution_count": 442,
     "metadata": {},
     "output_type": "execute_result"
    }
   ],
   "source": [
    "# Perform oneway ANOVA test \n",
    "stats.f_oneway(\n",
    " *(cement_merge.loc[cement_merge['Code']==country, 'Per Capita Consumption'] \n",
    " for country in cement_merge['Code'].unique())\n",
    " )"
   ]
  },
  {
   "cell_type": "markdown",
   "id": "26ca075a",
   "metadata": {},
   "source": [
    "p-value is a very small value (close to zero), which means reject ($H_0$). Tukey-Kramer analysis will be performed to see which of the means differ from each other."
   ]
  },
  {
   "cell_type": "markdown",
   "id": "397bf3c8",
   "metadata": {},
   "source": [
    "### Tukey-Kramer Analysis\n",
    "- Cement Per Capita Consumption test between Ireland, United States, Brazil, China, Germany, Russia, Australia, Vietnam, Japan and Iran."
   ]
  },
  {
   "cell_type": "code",
   "execution_count": 443,
   "id": "d623a535",
   "metadata": {
    "scrolled": false
   },
   "outputs": [
    {
     "name": "stdout",
     "output_type": "stream",
     "text": [
      "    Multiple Comparison of Means - Tukey HSD, FWER=0.05    \n",
      "===========================================================\n",
      "group1 group2  meandiff  p-adj    lower      upper   reject\n",
      "-----------------------------------------------------------\n",
      "   AUS    BRA  -110.3889 0.8137   -326.773  105.9952  False\n",
      "   AUS    CHN   988.9778    0.0   772.5937 1205.3619   True\n",
      "   AUS    DEU   -91.9556 0.9289  -308.3396  124.4285  False\n",
      "   AUS    IRL   -78.2444 0.9738  -294.6285  138.1396  False\n",
      "   AUS    IRN      309.2 0.0005    92.8159  525.5841   True\n",
      "   AUS    JPN   -15.6667    1.0  -232.0508  200.7174  False\n",
      "   AUS    RUS     0.0111    1.0   -216.373  216.3952  False\n",
      "   AUS    USA  -139.9333 0.5298  -356.3174   76.4508  False\n",
      "   AUS    VNM   161.4889 0.3233   -54.8952   377.873  False\n",
      "   BRA    CHN  1099.3667    0.0   882.9826 1315.7508   True\n",
      "   BRA    DEU    18.4333    1.0  -197.9508  234.8174  False\n",
      "   BRA    IRL    32.1444    1.0  -184.2396  248.5285  False\n",
      "   BRA    IRN   419.5889    0.0   203.2048   635.973   True\n",
      "   BRA    JPN    94.7222 0.9158  -121.6619  311.1063  False\n",
      "   BRA    RUS      110.4 0.8136  -105.9841  326.7841  False\n",
      "   BRA    USA   -29.5444    1.0  -245.9285  186.8396  False\n",
      "   BRA    VNM   271.8778 0.0038    55.4937  488.2619   True\n",
      "   CHN    DEU -1080.9333    0.0 -1297.3174 -864.5492   True\n",
      "   CHN    IRL -1067.2222    0.0 -1283.6063 -850.8381   True\n",
      "   CHN    IRN  -679.7778    0.0  -896.1619 -463.3937   True\n",
      "   CHN    JPN -1004.6444    0.0 -1221.0285 -788.2604   True\n",
      "   CHN    RUS  -988.9667    0.0 -1205.3508 -772.5826   True\n",
      "   CHN    USA -1128.9111    0.0 -1345.2952  -912.527   True\n",
      "   CHN    VNM  -827.4889    0.0  -1043.873 -611.1048   True\n",
      "   DEU    IRL    13.7111    1.0   -202.673  230.0952  False\n",
      "   DEU    IRN   401.1556    0.0   184.7715  617.5396   True\n",
      "   DEU    JPN    76.2889 0.9779  -140.0952   292.673  False\n",
      "   DEU    RUS    91.9667 0.9289  -124.4174  308.3508  False\n",
      "   DEU    USA   -47.9778 0.9993  -264.3619  168.4063  False\n",
      "   DEU    VNM   253.4444 0.0096    37.0604  469.8285   True\n",
      "   IRL    IRN   387.4444    0.0   171.0604  603.8285   True\n",
      "   IRL    JPN    62.5778 0.9945  -153.8063  278.9619  False\n",
      "   IRL    RUS    78.2556 0.9738  -138.1285  294.6396  False\n",
      "   IRL    USA   -61.6889 0.9951   -278.073  154.6952  False\n",
      "   IRL    VNM   239.7333 0.0182    23.3492  456.1174   True\n",
      "   IRN    JPN  -324.8667 0.0002  -541.2508 -108.4826   True\n",
      "   IRN    RUS  -309.1889 0.0005   -525.573  -92.8048   True\n",
      "   IRN    USA  -449.1333    0.0  -665.5174 -232.7492   True\n",
      "   IRN    VNM  -147.7111  0.451  -364.0952    68.673  False\n",
      "   JPN    RUS    15.6778    1.0  -200.7063  232.0619  False\n",
      "   JPN    USA  -124.2667 0.6893  -340.6508   92.1174  False\n",
      "   JPN    VNM   177.1556 0.2062   -39.2285  393.5396  False\n",
      "   RUS    USA  -139.9444 0.5297  -356.3285   76.4396  False\n",
      "   RUS    VNM   161.4778 0.3234   -54.9063  377.8619  False\n",
      "   USA    VNM   301.4222 0.0008    85.0381  517.8063   True\n",
      "-----------------------------------------------------------\n"
     ]
    }
   ],
   "source": [
    "from statsmodels.stats.multicomp import pairwise_tukeyhsd\n",
    "\n",
    "# Perform Tukey's test\n",
    "tukey = pairwise_tukeyhsd(endog=cement_merge['Per Capita Consumption'],\n",
    "                          groups=cement_merge['Code'],\n",
    "                          alpha=0.05) # default alpha\n",
    "\n",
    "# Display results\n",
    "print(tukey)"
   ]
  },
  {
   "cell_type": "markdown",
   "id": "f73265fd",
   "metadata": {},
   "source": [
    "meandiff represents the mean difference between group1 and group2. \n",
    "\n",
    "For instance, IRL-JPN meandiff = 62.5778 means that the Per Capita Consumption mean in Japan is bigger than Per Capita Consumption in Ireland. The confidence interval is wide and it includes zero, because is goes from a negative value (lower) to a positive value (upper). <b>There is no enough evidence that there is difference between IRL and JPN in termn of Per Capital Consumption</b> (reject=False).\n",
    "\n",
    "However, it is different to analyse China and Ireland (CHN-IRL), the confidence interval does not include zero, therefore it means <b>there is difference between IRL and CHN in terms of Per Capita Consumption, so it is possible to reject $H_0$</b> (reject=True)."
   ]
  },
  {
   "cell_type": "markdown",
   "id": "7e1334da",
   "metadata": {},
   "source": [
    "### Two-sample t-tests:\n",
    "\n",
    "Tests a hypothesis about the means and check if there is enough evidence to include this.\n",
    "- Cement Per Capita Consumption between Ireland and Germany."
   ]
  },
  {
   "cell_type": "code",
   "execution_count": 444,
   "id": "ef476007",
   "metadata": {},
   "outputs": [
    {
     "data": {
      "text/plain": [
       "Ttest_indResult(statistic=0.14541286530945666, pvalue=0.8862010280297429)"
      ]
     },
     "execution_count": 444,
     "metadata": {},
     "output_type": "execute_result"
    }
   ],
   "source": [
    "# Subsets - Comparing Per Capita Consumption between Ireland and Germany\n",
    "# percapitacon_irl\n",
    "# percapitacon_deu\n",
    "\n",
    "# Perform the two-sample t-test with equal variances:\n",
    "stats.ttest_ind(a=percapitacon_irl['Per Capita Consumption'], b=percapitacon_deu['Per Capita Consumption'])"
   ]
  },
  {
   "cell_type": "markdown",
   "id": "b12f897c",
   "metadata": {},
   "source": [
    "Two-sample t-test tests a hypothesis about the means. pvalue greater than 0.05 means it is possible to reject $H_0$, the means are different."
   ]
  },
  {
   "cell_type": "markdown",
   "id": "37e0955d",
   "metadata": {},
   "source": [
    "### Non-parametric tests: \n",
    "Non-parametric tests are tests which don't involve assumptions about the distributions of X (and Y)."
   ]
  },
  {
   "cell_type": "markdown",
   "id": "32b7f07b",
   "metadata": {},
   "source": [
    "### The Mann Whitney U test:\n",
    "\n",
    "Non-parametric test equivalent to two-sample t-test. \n",
    "- Cement Per Capita Consumption between Ireland and Germany."
   ]
  },
  {
   "cell_type": "code",
   "execution_count": 445,
   "id": "dcba1e8c",
   "metadata": {},
   "outputs": [
    {
     "data": {
      "text/plain": [
       "MannwhitneyuResult(statistic=36.0, pvalue=0.7304401480872068)"
      ]
     },
     "execution_count": 445,
     "metadata": {},
     "output_type": "execute_result"
    }
   ],
   "source": [
    "stats.mannwhitneyu(x=percapitacon_irl['Per Capita Consumption'], y=percapitacon_deu['Per Capita Consumption'], method=\"exact\")"
   ]
  },
  {
   "cell_type": "markdown",
   "id": "2f2ab568",
   "metadata": {},
   "source": [
    "The Mann Whitney U test tests a hypothesis about the medians. pvalue score is greater than 0.05, therefore it is possible to reject $H_0$, the medians are different."
   ]
  },
  {
   "cell_type": "markdown",
   "id": "059ce0c7",
   "metadata": {},
   "source": [
    "### Two-sample KS test:\n",
    "To test if two samples come from the same distribution.\n",
    "- Cement Per Capita Consumption between Ireland and Iran."
   ]
  },
  {
   "cell_type": "code",
   "execution_count": 446,
   "id": "4f191eed",
   "metadata": {},
   "outputs": [
    {
     "data": {
      "text/plain": [
       "KstestResult(statistic=0.7777777777777778, pvalue=0.006293706293706292)"
      ]
     },
     "execution_count": 446,
     "metadata": {},
     "output_type": "execute_result"
    }
   ],
   "source": [
    "stats.ks_2samp(percapitacon_irl[\"Per Capita Consumption\"], percapitacon_irn[\"Per Capita Consumption\"])"
   ]
  },
  {
   "cell_type": "markdown",
   "id": "156f2f50",
   "metadata": {},
   "source": [
    "It is possible to conclude that the two samples of per capita consumption do not come from the same population/distribution. There is sufficient evidence to reject  $H_0$  (at all of the usual values for $\\alpha$)."
   ]
  },
  {
   "cell_type": "code",
   "execution_count": 447,
   "id": "d79f3015",
   "metadata": {
    "scrolled": false
   },
   "outputs": [
    {
     "data": {
      "image/png": "[encoded data removed]",
      "text/plain": [
       "<Figure size 1800x1200 with 2 Axes>"
      ]
     },
     "metadata": {},
     "output_type": "display_data"
    }
   ],
   "source": [
    "# Per Capita Consumption boxplot\n",
    "# Get per capita consumption data by country \n",
    "percapitacon = cement_merge.iloc[:,11:15]\n",
    "percapitacon = percapitacon.drop({\"Net Export Volume\",\"Net Export Value\"},axis='columns')\n",
    "percapitacon_irl = percapitacon[(percapitacon['Code'] == 'IRL')]\n",
    "percapitacon_usa = percapitacon[(percapitacon['Code'] == 'USA')]\n",
    "percapitacon_bra = percapitacon[(percapitacon['Code'] == 'BRA')]\n",
    "percapitacon_chn = percapitacon[(percapitacon['Code'] == 'CHN')]\n",
    "percapitacon_deu = percapitacon[(percapitacon['Code'] == 'DEU')]\n",
    "percapitacon_rus = percapitacon[(percapitacon['Code'] == 'RUS')]\n",
    "percapitacon_aus = percapitacon[(percapitacon['Code'] == 'AUS')]\n",
    "percapitacon_vnm = percapitacon[(percapitacon['Code'] == 'VNM')]\n",
    "percapitacon_jpn = percapitacon[(percapitacon['Code'] == 'JPN')]\n",
    "percapitacon_irn = percapitacon[(percapitacon['Code'] == 'IRN')]\n",
    "\n",
    "plotdata = [percapitacon_irl['Per Capita Consumption'], \n",
    "             percapitacon_usa['Per Capita Consumption'], \n",
    "             percapitacon_bra['Per Capita Consumption'], \n",
    "             percapitacon_chn['Per Capita Consumption'], \n",
    "             percapitacon_deu['Per Capita Consumption'],\n",
    "             percapitacon_rus['Per Capita Consumption'],\n",
    "             percapitacon_aus['Per Capita Consumption'],\n",
    "             percapitacon_vnm['Per Capita Consumption'],\n",
    "             percapitacon_jpn['Per Capita Consumption'],\n",
    "             percapitacon_irn['Per Capita Consumption']]\n",
    "\n",
    "# Multiple boxplot visualisation\n",
    "fig = plt.figure(figsize = [18,12])\n",
    "plt.boxplot(plotdata)\n",
    "ax = fig.add_subplot(111)\n",
    "bp = ax.boxplot(plotdata, showmeans=True) \n",
    "\n",
    "plt.xticks((1,2,3,4,5,6,7,8,9,10), ['\\nIreland', '\\nUSA', '\\nBrazil','\\nChina', '\\nGermany', '\\nRussia', \n",
    "                                    '\\nAustralia', '\\nVietnam','\\nJapan','\\nIran'])\n",
    "\n",
    "plt.title(\"Cement Per Capita Consumption\\n\", fontdict={'fontsize': 20, 'fontweight' : 20, 'color' : 'Black'})\n",
    "plt.xlabel(\"Country\", fontdict={'fontsize': 15, 'fontweight' : 20, 'color' : 'Brown'})\n",
    "plt.ylabel(\"Per Capita Consumption (kg/person)\", fontdict={'fontsize': 15, 'fontweight' : 20, 'color' : 'Brown'})\n",
    "\n",
    "plt.show()"
   ]
  },
  {
   "cell_type": "code",
   "execution_count": 448,
   "id": "2fd3e9c9",
   "metadata": {
    "scrolled": false
   },
   "outputs": [
    {
     "name": "stdout",
     "output_type": "stream",
     "text": [
      "FACTOR                   Year  Consumption Volume  Consumption Value  \\\n",
      "FACTOR                                                                 \n",
      "Year                    1.000              -0.870             -0.838   \n",
      "Consumption Volume     -0.870               1.000              0.986   \n",
      "Consumption Value      -0.838               0.986              1.000   \n",
      "Production Volume      -0.721               0.961              0.954   \n",
      "Production Value        0.940              -0.764             -0.735   \n",
      "Import Volume          -0.785               0.936              0.875   \n",
      "Import Value           -0.822               0.942              0.879   \n",
      "Export Volume           0.739              -0.423             -0.440   \n",
      "Export Value            0.703              -0.388             -0.409   \n",
      "Import Price           -0.218              -0.251             -0.276   \n",
      "Export Price           -0.591               0.387              0.412   \n",
      "Per Capita Consumption -0.871               1.000              0.983   \n",
      "\n",
      "FACTOR                  Production Volume  Production Value  Import Volume  \\\n",
      "FACTOR                                                                       \n",
      "Year                               -0.721             0.940         -0.785   \n",
      "Consumption Volume                  0.961            -0.764          0.936   \n",
      "Consumption Value                   0.954            -0.735          0.875   \n",
      "Production Volume                   1.000            -0.572          0.906   \n",
      "Production Value                   -0.572             1.000         -0.684   \n",
      "Import Volume                       0.906            -0.684          1.000   \n",
      "Import Value                        0.899            -0.724          0.997   \n",
      "Export Volume                      -0.169             0.837         -0.268   \n",
      "Export Value                       -0.159             0.696         -0.227   \n",
      "Import Price                       -0.480            -0.341         -0.279   \n",
      "Export Price                        0.187            -0.783          0.241   \n",
      "Per Capita Consumption              0.961            -0.764          0.942   \n",
      "\n",
      "FACTOR                  Import Value  Export Volume  Export Value  \\\n",
      "FACTOR                                                              \n",
      "Year                          -0.822          0.739         0.703   \n",
      "Consumption Volume             0.942         -0.423        -0.388   \n",
      "Consumption Value              0.879         -0.440        -0.409   \n",
      "Production Volume              0.899         -0.169        -0.159   \n",
      "Production Value              -0.724          0.837         0.696   \n",
      "Import Volume                  0.997         -0.268        -0.227   \n",
      "Import Value                   1.000         -0.315        -0.279   \n",
      "Export Volume                 -0.315          1.000         0.924   \n",
      "Export Value                  -0.279          0.924         1.000   \n",
      "Import Price                  -0.216         -0.649        -0.680   \n",
      "Export Price                   0.263         -0.824        -0.557   \n",
      "Per Capita Consumption         0.948         -0.417        -0.383   \n",
      "\n",
      "FACTOR                  Import Price  Export Price  Per Capita Consumption  \n",
      "FACTOR                                                                      \n",
      "Year                          -0.218        -0.591                  -0.871  \n",
      "Consumption Volume            -0.251         0.387                   1.000  \n",
      "Consumption Value             -0.276         0.412                   0.983  \n",
      "Production Volume             -0.480         0.187                   0.961  \n",
      "Production Value              -0.341        -0.783                  -0.764  \n",
      "Import Volume                 -0.279         0.241                   0.942  \n",
      "Import Value                  -0.216         0.263                   0.948  \n",
      "Export Volume                 -0.649        -0.824                  -0.417  \n",
      "Export Value                  -0.680        -0.557                  -0.383  \n",
      "Import Price                   1.000         0.331                  -0.249  \n",
      "Export Price                   0.331         1.000                   0.378  \n",
      "Per Capita Consumption        -0.249         0.378                   1.000  \n"
     ]
    }
   ],
   "source": [
    "print(round(ireland_cement.corr(), 3))"
   ]
  },
  {
   "cell_type": "code",
   "execution_count": null,
   "id": "53ce8556",
   "metadata": {},
   "outputs": [],
   "source": []
  },
  {
   "cell_type": "markdown",
   "id": "d7c6e79e",
   "metadata": {},
   "source": [
    "## Machine Learning "
   ]
  },
  {
   "cell_type": "code",
   "execution_count": null,
   "id": "b2fc05c0",
   "metadata": {},
   "outputs": [],
   "source": []
  },
  {
   "cell_type": "code",
   "execution_count": null,
   "id": "8d5dce18",
   "metadata": {},
   "outputs": [],
   "source": []
  },
  {
   "cell_type": "code",
   "execution_count": null,
   "id": "62fa65d7",
   "metadata": {},
   "outputs": [],
   "source": []
  },
  {
   "cell_type": "code",
   "execution_count": null,
   "id": "39005d10",
   "metadata": {},
   "outputs": [],
   "source": []
  },
  {
   "cell_type": "code",
   "execution_count": null,
   "id": "08397d42",
   "metadata": {},
   "outputs": [],
   "source": []
  }
 ],
 "metadata": {
  "kernelspec": {
   "display_name": "Python 3 (ipykernel)",
   "language": "python",
   "name": "python3"
  },
  "language_info": {
   "codemirror_mode": {
    "name": "ipython",
    "version": 3
   },
   "file_extension": ".py",
   "mimetype": "text/x-python",
   "name": "python",
   "nbconvert_exporter": "python",
   "pygments_lexer": "ipython3",
   "version": "3.9.13"
  }
 },
 "nbformat": 4,
 "nbformat_minor": 5
}
