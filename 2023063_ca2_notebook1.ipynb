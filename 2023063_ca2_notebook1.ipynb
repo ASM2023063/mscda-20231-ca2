{
 "cells": [
  {
   "cell_type": "markdown",
   "id": "050e33fb",
   "metadata": {},
   "source": [
    "#  Construction in Ireland: Cement Data "
   ]
  },
  {
   "cell_type": "markdown",
   "id": "19244a41",
   "metadata": {},
   "source": [
    "CA2 (26/05/2023) - MSc in Data Analytics \n",
    "<b>Student ID: 2023063"
   ]
  },
  {
   "cell_type": "markdown",
   "id": "1ce2a395",
   "metadata": {},
   "source": [
    "### Introduction \n",
    "write briefing"
   ]
  },
  {
   "cell_type": "markdown",
   "id": "74d2b301",
   "metadata": {},
   "source": [
    "### Data Preparation and Visualisation"
   ]
  },
  {
   "cell_type": "code",
   "execution_count": 28,
   "id": "216fb3d5",
   "metadata": {},
   "outputs": [],
   "source": [
    "# Import libraries\n",
    "\n",
    "import pandas as pd\n",
    "import seaborn as sns\n",
    "import numpy as np\n",
    "import matplotlib.pyplot as plt\n",
    "import plotly.express as px\n",
    "import plotly.graph_objects as go\n",
    "\n",
    "import warnings\n",
    "warnings.filterwarnings('ignore') # To suppress the warnings\n",
    "%matplotlib inline "
   ]
  },
  {
   "cell_type": "code",
   "execution_count": 29,
   "id": "daaa112f",
   "metadata": {},
   "outputs": [],
   "source": [
    "# Read cement data (csv)\n",
    "\n",
    "cement_data = pd.read_csv(\"cementdata.csv\")"
   ]
  },
  {
   "cell_type": "code",
   "execution_count": 30,
   "id": "20b0a75b",
   "metadata": {
    "scrolled": true
   },
   "outputs": [
    {
     "data": {
      "text/html": [
       "<div>\n",
       "<style scoped>\n",
       "    .dataframe tbody tr th:only-of-type {\n",
       "        vertical-align: middle;\n",
       "    }\n",
       "\n",
       "    .dataframe tbody tr th {\n",
       "        vertical-align: top;\n",
       "    }\n",
       "\n",
       "    .dataframe thead th {\n",
       "        text-align: right;\n",
       "    }\n",
       "</style>\n",
       "<table border=\"1\" class=\"dataframe\">\n",
       "  <thead>\n",
       "    <tr style=\"text-align: right;\">\n",
       "      <th></th>\n",
       "      <th>FACTOR</th>\n",
       "      <th>UNITS</th>\n",
       "      <th>2007</th>\n",
       "      <th>2008</th>\n",
       "      <th>2009</th>\n",
       "      <th>2010</th>\n",
       "      <th>2011</th>\n",
       "      <th>2012</th>\n",
       "      <th>2013</th>\n",
       "      <th>2014</th>\n",
       "      <th>2015</th>\n",
       "      <th>Country</th>\n",
       "      <th>Product</th>\n",
       "    </tr>\n",
       "  </thead>\n",
       "  <tbody>\n",
       "    <tr>\n",
       "      <th>0</th>\n",
       "      <td>Consumption Volume</td>\n",
       "      <td>Thousand tons</td>\n",
       "      <td>3563.00</td>\n",
       "      <td>3489.00</td>\n",
       "      <td>1748.00</td>\n",
       "      <td>1704.00</td>\n",
       "      <td>1263.00</td>\n",
       "      <td>48.40</td>\n",
       "      <td>856.00</td>\n",
       "      <td>580.90</td>\n",
       "      <td>667.00</td>\n",
       "      <td>Ireland</td>\n",
       "      <td>Cement</td>\n",
       "    </tr>\n",
       "    <tr>\n",
       "      <th>1</th>\n",
       "      <td>Consumption Value</td>\n",
       "      <td>Million USD</td>\n",
       "      <td>264.30</td>\n",
       "      <td>267.40</td>\n",
       "      <td>159.10</td>\n",
       "      <td>160.80</td>\n",
       "      <td>137.10</td>\n",
       "      <td>7.70</td>\n",
       "      <td>101.40</td>\n",
       "      <td>69.20</td>\n",
       "      <td>83.40</td>\n",
       "      <td>Ireland</td>\n",
       "      <td>Cement</td>\n",
       "    </tr>\n",
       "    <tr>\n",
       "      <th>2</th>\n",
       "      <td>Production Volume</td>\n",
       "      <td>Thousand tons</td>\n",
       "      <td>4003.00</td>\n",
       "      <td>3900.00</td>\n",
       "      <td>2600.00</td>\n",
       "      <td>2600.00</td>\n",
       "      <td>2103.00</td>\n",
       "      <td>1198.00</td>\n",
       "      <td>2000.00</td>\n",
       "      <td>2000.00</td>\n",
       "      <td>2500.00</td>\n",
       "      <td>Ireland</td>\n",
       "      <td>Cement</td>\n",
       "    </tr>\n",
       "    <tr>\n",
       "      <th>3</th>\n",
       "      <td>Production Value</td>\n",
       "      <td>Million USD</td>\n",
       "      <td>146.70</td>\n",
       "      <td>160.20</td>\n",
       "      <td>175.10</td>\n",
       "      <td>191.30</td>\n",
       "      <td>209.00</td>\n",
       "      <td>228.40</td>\n",
       "      <td>234.90</td>\n",
       "      <td>237.60</td>\n",
       "      <td>323.70</td>\n",
       "      <td>Ireland</td>\n",
       "      <td>Cement</td>\n",
       "    </tr>\n",
       "    <tr>\n",
       "      <th>4</th>\n",
       "      <td>Import Volume</td>\n",
       "      <td>Thousand tons</td>\n",
       "      <td>684.40</td>\n",
       "      <td>735.40</td>\n",
       "      <td>204.10</td>\n",
       "      <td>138.70</td>\n",
       "      <td>104.30</td>\n",
       "      <td>90.70</td>\n",
       "      <td>92.30</td>\n",
       "      <td>106.70</td>\n",
       "      <td>89.80</td>\n",
       "      <td>Ireland</td>\n",
       "      <td>Cement</td>\n",
       "    </tr>\n",
       "  </tbody>\n",
       "</table>\n",
       "</div>"
      ],
      "text/plain": [
       "               FACTOR          UNITS     2007     2008     2009     2010  \\\n",
       "0  Consumption Volume  Thousand tons  3563.00  3489.00  1748.00  1704.00   \n",
       "1   Consumption Value    Million USD   264.30   267.40   159.10   160.80   \n",
       "2   Production Volume  Thousand tons  4003.00  3900.00  2600.00  2600.00   \n",
       "3    Production Value    Million USD   146.70   160.20   175.10   191.30   \n",
       "4       Import Volume  Thousand tons   684.40   735.40   204.10   138.70   \n",
       "\n",
       "      2011     2012     2013     2014     2015  Country Product  \n",
       "0  1263.00    48.40   856.00   580.90   667.00  Ireland  Cement  \n",
       "1   137.10     7.70   101.40    69.20    83.40  Ireland  Cement  \n",
       "2  2103.00  1198.00  2000.00  2000.00  2500.00  Ireland  Cement  \n",
       "3   209.00   228.40   234.90   237.60   323.70  Ireland  Cement  \n",
       "4   104.30    90.70    92.30   106.70    89.80  Ireland  Cement  "
      ]
     },
     "execution_count": 30,
     "metadata": {},
     "output_type": "execute_result"
    }
   ],
   "source": [
    "cement_data.head()"
   ]
  },
  {
   "cell_type": "code",
   "execution_count": 31,
   "id": "5ed1c964",
   "metadata": {},
   "outputs": [
    {
     "data": {
      "text/html": [
       "<div>\n",
       "<style scoped>\n",
       "    .dataframe tbody tr th:only-of-type {\n",
       "        vertical-align: middle;\n",
       "    }\n",
       "\n",
       "    .dataframe tbody tr th {\n",
       "        vertical-align: top;\n",
       "    }\n",
       "\n",
       "    .dataframe thead th {\n",
       "        text-align: right;\n",
       "    }\n",
       "</style>\n",
       "<table border=\"1\" class=\"dataframe\">\n",
       "  <thead>\n",
       "    <tr style=\"text-align: right;\">\n",
       "      <th></th>\n",
       "      <th>FACTOR</th>\n",
       "      <th>UNITS</th>\n",
       "      <th>2007</th>\n",
       "      <th>2008</th>\n",
       "      <th>2009</th>\n",
       "      <th>2010</th>\n",
       "      <th>2011</th>\n",
       "      <th>2012</th>\n",
       "      <th>2013</th>\n",
       "      <th>2014</th>\n",
       "      <th>2015</th>\n",
       "      <th>Country</th>\n",
       "      <th>Product</th>\n",
       "    </tr>\n",
       "  </thead>\n",
       "  <tbody>\n",
       "    <tr>\n",
       "      <th>125</th>\n",
       "      <td>Import Price</td>\n",
       "      <td>USD per Ton</td>\n",
       "      <td>81.5</td>\n",
       "      <td>97.6</td>\n",
       "      <td>225.8</td>\n",
       "      <td>343</td>\n",
       "      <td>773.8</td>\n",
       "      <td>189.3</td>\n",
       "      <td>330.6</td>\n",
       "      <td>225.8</td>\n",
       "      <td>275.3</td>\n",
       "      <td>Iran</td>\n",
       "      <td>Cement</td>\n",
       "    </tr>\n",
       "    <tr>\n",
       "      <th>126</th>\n",
       "      <td>Export Price</td>\n",
       "      <td>USD per Ton</td>\n",
       "      <td>91.9</td>\n",
       "      <td>97.2</td>\n",
       "      <td>76.4</td>\n",
       "      <td>76.5</td>\n",
       "      <td>62.5</td>\n",
       "      <td>62.5</td>\n",
       "      <td>59.6</td>\n",
       "      <td>74.5</td>\n",
       "      <td>59.7</td>\n",
       "      <td>Iran</td>\n",
       "      <td>Cement</td>\n",
       "    </tr>\n",
       "    <tr>\n",
       "      <th>127</th>\n",
       "      <td>Per Capita Consumption</td>\n",
       "      <td>Kg per Person</td>\n",
       "      <td>569</td>\n",
       "      <td>608.9</td>\n",
       "      <td>670</td>\n",
       "      <td>653.2</td>\n",
       "      <td>861.6</td>\n",
       "      <td>902.8</td>\n",
       "      <td>862.3</td>\n",
       "      <td>800.3</td>\n",
       "      <td>626.9</td>\n",
       "      <td>Iran</td>\n",
       "      <td>Cement</td>\n",
       "    </tr>\n",
       "    <tr>\n",
       "      <th>128</th>\n",
       "      <td>Net Export Volume</td>\n",
       "      <td>Thousand tons</td>\n",
       "      <td>11.1</td>\n",
       "      <td>43.8</td>\n",
       "      <td>631.5</td>\n",
       "      <td>1291</td>\n",
       "      <td>956.9</td>\n",
       "      <td>1227</td>\n",
       "      <td>1927</td>\n",
       "      <td>3951</td>\n",
       "      <td>8851</td>\n",
       "      <td>Iran</td>\n",
       "      <td>Cement</td>\n",
       "    </tr>\n",
       "    <tr>\n",
       "      <th>129</th>\n",
       "      <td>Net Export Value</td>\n",
       "      <td>Million USD</td>\n",
       "      <td>1.7</td>\n",
       "      <td>4.2</td>\n",
       "      <td>46.9</td>\n",
       "      <td>96.7</td>\n",
       "      <td>53.4</td>\n",
       "      <td>72.7</td>\n",
       "      <td>103.7</td>\n",
       "      <td>286.9</td>\n",
       "      <td>522</td>\n",
       "      <td>Iran</td>\n",
       "      <td>Cement</td>\n",
       "    </tr>\n",
       "  </tbody>\n",
       "</table>\n",
       "</div>"
      ],
      "text/plain": [
       "                     FACTOR          UNITS  2007   2008   2009   2010   2011  \\\n",
       "125            Import Price    USD per Ton  81.5   97.6  225.8    343  773.8   \n",
       "126            Export Price    USD per Ton  91.9   97.2   76.4   76.5   62.5   \n",
       "127  Per Capita Consumption  Kg per Person   569  608.9    670  653.2  861.6   \n",
       "128       Net Export Volume  Thousand tons  11.1   43.8  631.5   1291  956.9   \n",
       "129        Net Export Value    Million USD   1.7    4.2   46.9   96.7   53.4   \n",
       "\n",
       "      2012   2013   2014   2015 Country Product  \n",
       "125  189.3  330.6  225.8  275.3    Iran  Cement  \n",
       "126   62.5   59.6   74.5   59.7    Iran  Cement  \n",
       "127  902.8  862.3  800.3  626.9    Iran  Cement  \n",
       "128   1227   1927   3951   8851    Iran  Cement  \n",
       "129   72.7  103.7  286.9    522    Iran  Cement  "
      ]
     },
     "execution_count": 31,
     "metadata": {},
     "output_type": "execute_result"
    }
   ],
   "source": [
    "cement_data.tail()"
   ]
  },
  {
   "cell_type": "code",
   "execution_count": 32,
   "id": "328d16ad",
   "metadata": {},
   "outputs": [
    {
     "data": {
      "text/plain": [
       "10"
      ]
     },
     "execution_count": 32,
     "metadata": {},
     "output_type": "execute_result"
    }
   ],
   "source": [
    "# Number of countries\n",
    "\n",
    "cement_data[\"Country\"].nunique()"
   ]
  },
  {
   "cell_type": "code",
   "execution_count": 33,
   "id": "69f6e685",
   "metadata": {},
   "outputs": [
    {
     "data": {
      "text/plain": [
       "array(['Ireland', 'USA', 'Brazil', 'China', 'Germany', 'Russia',\n",
       "       'Australia', 'Vietnam', 'Japan', 'Iran'], dtype=object)"
      ]
     },
     "execution_count": 33,
     "metadata": {},
     "output_type": "execute_result"
    }
   ],
   "source": [
    "# Country names \n",
    "\n",
    "cement_data[\"Country\"].unique()"
   ]
  },
  {
   "cell_type": "code",
   "execution_count": 34,
   "id": "0f690854",
   "metadata": {},
   "outputs": [],
   "source": [
    "# Define function to split data by country\n",
    "\n",
    "def cement_df(country, new_df, original_df):\n",
    "    new_df = original_df[original_df[\"Country\"]==country]\n",
    "    new_df = new_df.drop({\"Country\",\"Product\",\"UNITS\"}, axis='columns')\n",
    "    new_df = new_df.transpose()\n",
    "    new_df.columns = new_df.iloc[0]\n",
    "    new_df.drop(index=new_df.index[0], axis=0, inplace=True)\n",
    "    new_df.reset_index(inplace=True)\n",
    "    new_df.rename(columns= {\"index\":\"Year\"},inplace=True)\n",
    "    return new_df"
   ]
  },
  {
   "cell_type": "code",
   "execution_count": 35,
   "id": "b762123c",
   "metadata": {
    "scrolled": false
   },
   "outputs": [
    {
     "data": {
      "text/html": [
       "<div>\n",
       "<style scoped>\n",
       "    .dataframe tbody tr th:only-of-type {\n",
       "        vertical-align: middle;\n",
       "    }\n",
       "\n",
       "    .dataframe tbody tr th {\n",
       "        vertical-align: top;\n",
       "    }\n",
       "\n",
       "    .dataframe thead th {\n",
       "        text-align: right;\n",
       "    }\n",
       "</style>\n",
       "<table border=\"1\" class=\"dataframe\">\n",
       "  <thead>\n",
       "    <tr style=\"text-align: right;\">\n",
       "      <th>FACTOR</th>\n",
       "      <th>Year</th>\n",
       "      <th>Consumption Volume</th>\n",
       "      <th>Consumption Value</th>\n",
       "      <th>Production Volume</th>\n",
       "      <th>Production Value</th>\n",
       "      <th>Import Volume</th>\n",
       "      <th>Import Value</th>\n",
       "      <th>Export Volume</th>\n",
       "      <th>Export Value</th>\n",
       "      <th>Import Price</th>\n",
       "      <th>Export Price</th>\n",
       "      <th>Per Capita Consumption</th>\n",
       "      <th>Net Export Volume</th>\n",
       "      <th>Net Export Value</th>\n",
       "      <th>Code</th>\n",
       "    </tr>\n",
       "  </thead>\n",
       "  <tbody>\n",
       "    <tr>\n",
       "      <th>0</th>\n",
       "      <td>2007</td>\n",
       "      <td>3563.00</td>\n",
       "      <td>264.30</td>\n",
       "      <td>4003.00</td>\n",
       "      <td>146.70</td>\n",
       "      <td>684.40</td>\n",
       "      <td>65.50</td>\n",
       "      <td>1124.00</td>\n",
       "      <td>105.50</td>\n",
       "      <td>95.70</td>\n",
       "      <td>93.90</td>\n",
       "      <td>810.10</td>\n",
       "      <td>439.60</td>\n",
       "      <td>40.00</td>\n",
       "      <td>IRL</td>\n",
       "    </tr>\n",
       "    <tr>\n",
       "      <th>1</th>\n",
       "      <td>2008</td>\n",
       "      <td>3489.00</td>\n",
       "      <td>267.40</td>\n",
       "      <td>3900.00</td>\n",
       "      <td>160.20</td>\n",
       "      <td>735.40</td>\n",
       "      <td>65.40</td>\n",
       "      <td>1146.00</td>\n",
       "      <td>112.00</td>\n",
       "      <td>88.90</td>\n",
       "      <td>97.70</td>\n",
       "      <td>777.20</td>\n",
       "      <td>410.80</td>\n",
       "      <td>46.60</td>\n",
       "      <td>IRL</td>\n",
       "    </tr>\n",
       "    <tr>\n",
       "      <th>2</th>\n",
       "      <td>2009</td>\n",
       "      <td>1748.00</td>\n",
       "      <td>159.10</td>\n",
       "      <td>2600.00</td>\n",
       "      <td>175.10</td>\n",
       "      <td>204.10</td>\n",
       "      <td>23.00</td>\n",
       "      <td>1056.00</td>\n",
       "      <td>101.90</td>\n",
       "      <td>112.60</td>\n",
       "      <td>96.50</td>\n",
       "      <td>382.60</td>\n",
       "      <td>852.00</td>\n",
       "      <td>78.90</td>\n",
       "      <td>IRL</td>\n",
       "    </tr>\n",
       "    <tr>\n",
       "      <th>3</th>\n",
       "      <td>2010</td>\n",
       "      <td>1704.00</td>\n",
       "      <td>160.80</td>\n",
       "      <td>2600.00</td>\n",
       "      <td>191.30</td>\n",
       "      <td>138.70</td>\n",
       "      <td>13.90</td>\n",
       "      <td>1035.00</td>\n",
       "      <td>104.70</td>\n",
       "      <td>99.90</td>\n",
       "      <td>101.20</td>\n",
       "      <td>368.20</td>\n",
       "      <td>896.50</td>\n",
       "      <td>90.90</td>\n",
       "      <td>IRL</td>\n",
       "    </tr>\n",
       "    <tr>\n",
       "      <th>4</th>\n",
       "      <td>2011</td>\n",
       "      <td>1263.00</td>\n",
       "      <td>137.10</td>\n",
       "      <td>2103.00</td>\n",
       "      <td>209.00</td>\n",
       "      <td>104.30</td>\n",
       "      <td>10.90</td>\n",
       "      <td>944.60</td>\n",
       "      <td>94.00</td>\n",
       "      <td>104.60</td>\n",
       "      <td>99.50</td>\n",
       "      <td>270.80</td>\n",
       "      <td>840.30</td>\n",
       "      <td>83.10</td>\n",
       "      <td>IRL</td>\n",
       "    </tr>\n",
       "    <tr>\n",
       "      <th>5</th>\n",
       "      <td>2012</td>\n",
       "      <td>48.40</td>\n",
       "      <td>7.70</td>\n",
       "      <td>1198.00</td>\n",
       "      <td>228.40</td>\n",
       "      <td>90.70</td>\n",
       "      <td>10.70</td>\n",
       "      <td>1240.00</td>\n",
       "      <td>111.20</td>\n",
       "      <td>118.50</td>\n",
       "      <td>89.60</td>\n",
       "      <td>10.40</td>\n",
       "      <td>1150.00</td>\n",
       "      <td>100.40</td>\n",
       "      <td>IRL</td>\n",
       "    </tr>\n",
       "    <tr>\n",
       "      <th>6</th>\n",
       "      <td>2013</td>\n",
       "      <td>856.00</td>\n",
       "      <td>101.40</td>\n",
       "      <td>2000.00</td>\n",
       "      <td>234.90</td>\n",
       "      <td>92.30</td>\n",
       "      <td>10.00</td>\n",
       "      <td>1236.00</td>\n",
       "      <td>110.60</td>\n",
       "      <td>107.80</td>\n",
       "      <td>89.50</td>\n",
       "      <td>182.80</td>\n",
       "      <td>1144.00</td>\n",
       "      <td>100.60</td>\n",
       "      <td>IRL</td>\n",
       "    </tr>\n",
       "    <tr>\n",
       "      <th>7</th>\n",
       "      <td>2014</td>\n",
       "      <td>580.90</td>\n",
       "      <td>69.20</td>\n",
       "      <td>2000.00</td>\n",
       "      <td>237.60</td>\n",
       "      <td>106.70</td>\n",
       "      <td>9.50</td>\n",
       "      <td>1526.00</td>\n",
       "      <td>148.00</td>\n",
       "      <td>88.90</td>\n",
       "      <td>97.00</td>\n",
       "      <td>124.00</td>\n",
       "      <td>1419.00</td>\n",
       "      <td>138.50</td>\n",
       "      <td>IRL</td>\n",
       "    </tr>\n",
       "    <tr>\n",
       "      <th>8</th>\n",
       "      <td>2015</td>\n",
       "      <td>667.00</td>\n",
       "      <td>83.40</td>\n",
       "      <td>2500.00</td>\n",
       "      <td>323.70</td>\n",
       "      <td>89.80</td>\n",
       "      <td>7.00</td>\n",
       "      <td>1923.00</td>\n",
       "      <td>145.40</td>\n",
       "      <td>78.10</td>\n",
       "      <td>75.60</td>\n",
       "      <td>141.90</td>\n",
       "      <td>1833.00</td>\n",
       "      <td>138.40</td>\n",
       "      <td>IRL</td>\n",
       "    </tr>\n",
       "  </tbody>\n",
       "</table>\n",
       "</div>"
      ],
      "text/plain": [
       "FACTOR  Year Consumption Volume Consumption Value Production Volume  \\\n",
       "0       2007            3563.00            264.30           4003.00   \n",
       "1       2008            3489.00            267.40           3900.00   \n",
       "2       2009            1748.00            159.10           2600.00   \n",
       "3       2010            1704.00            160.80           2600.00   \n",
       "4       2011            1263.00            137.10           2103.00   \n",
       "5       2012              48.40              7.70           1198.00   \n",
       "6       2013             856.00            101.40           2000.00   \n",
       "7       2014             580.90             69.20           2000.00   \n",
       "8       2015             667.00             83.40           2500.00   \n",
       "\n",
       "FACTOR Production Value Import Volume Import Value Export Volume Export Value  \\\n",
       "0                146.70        684.40        65.50       1124.00       105.50   \n",
       "1                160.20        735.40        65.40       1146.00       112.00   \n",
       "2                175.10        204.10        23.00       1056.00       101.90   \n",
       "3                191.30        138.70        13.90       1035.00       104.70   \n",
       "4                209.00        104.30        10.90        944.60        94.00   \n",
       "5                228.40         90.70        10.70       1240.00       111.20   \n",
       "6                234.90         92.30        10.00       1236.00       110.60   \n",
       "7                237.60        106.70         9.50       1526.00       148.00   \n",
       "8                323.70         89.80         7.00       1923.00       145.40   \n",
       "\n",
       "FACTOR Import Price Export Price Per Capita Consumption Net Export Volume  \\\n",
       "0             95.70        93.90                 810.10            439.60   \n",
       "1             88.90        97.70                 777.20            410.80   \n",
       "2            112.60        96.50                 382.60            852.00   \n",
       "3             99.90       101.20                 368.20            896.50   \n",
       "4            104.60        99.50                 270.80            840.30   \n",
       "5            118.50        89.60                  10.40           1150.00   \n",
       "6            107.80        89.50                 182.80           1144.00   \n",
       "7             88.90        97.00                 124.00           1419.00   \n",
       "8             78.10        75.60                 141.90           1833.00   \n",
       "\n",
       "FACTOR Net Export Value Code  \n",
       "0                 40.00  IRL  \n",
       "1                 46.60  IRL  \n",
       "2                 78.90  IRL  \n",
       "3                 90.90  IRL  \n",
       "4                 83.10  IRL  \n",
       "5                100.40  IRL  \n",
       "6                100.60  IRL  \n",
       "7                138.50  IRL  \n",
       "8                138.40  IRL  "
      ]
     },
     "execution_count": 35,
     "metadata": {},
     "output_type": "execute_result"
    }
   ],
   "source": [
    "# Ireland cement data\n",
    "\n",
    "ireland_cement = cement_df(country=\"Ireland\", new_df=\"ireland_cement\", original_df=cement_data)\n",
    "ireland_cement[\"Code\"] = \"IRL\"\n",
    "ireland_cement"
   ]
  },
  {
   "cell_type": "code",
   "execution_count": 36,
   "id": "a4d8da70",
   "metadata": {},
   "outputs": [
    {
     "data": {
      "text/html": [
       "<div>\n",
       "<style scoped>\n",
       "    .dataframe tbody tr th:only-of-type {\n",
       "        vertical-align: middle;\n",
       "    }\n",
       "\n",
       "    .dataframe tbody tr th {\n",
       "        vertical-align: top;\n",
       "    }\n",
       "\n",
       "    .dataframe thead th {\n",
       "        text-align: right;\n",
       "    }\n",
       "</style>\n",
       "<table border=\"1\" class=\"dataframe\">\n",
       "  <thead>\n",
       "    <tr style=\"text-align: right;\">\n",
       "      <th>FACTOR</th>\n",
       "      <th>Year</th>\n",
       "      <th>Consumption Volume</th>\n",
       "      <th>Consumption Value</th>\n",
       "      <th>Production Volume</th>\n",
       "      <th>Production Value</th>\n",
       "      <th>Import Volume</th>\n",
       "      <th>Import Value</th>\n",
       "      <th>Export Volume</th>\n",
       "      <th>Export Value</th>\n",
       "      <th>Import Price</th>\n",
       "      <th>Export Price</th>\n",
       "      <th>Per Capita Consumption</th>\n",
       "      <th>Net Export Volume</th>\n",
       "      <th>Net Export Value</th>\n",
       "      <th>Code</th>\n",
       "    </tr>\n",
       "  </thead>\n",
       "  <tbody>\n",
       "    <tr>\n",
       "      <th>0</th>\n",
       "      <td>2007</td>\n",
       "      <td>117546.00</td>\n",
       "      <td>12055.00</td>\n",
       "      <td>96850.00</td>\n",
       "      <td>10153.00</td>\n",
       "      <td>21739.00</td>\n",
       "      <td>1693.00</td>\n",
       "      <td>1042.00</td>\n",
       "      <td>131.40</td>\n",
       "      <td>77.90</td>\n",
       "      <td>126.00</td>\n",
       "      <td>391.00</td>\n",
       "      <td>-20696.30</td>\n",
       "      <td>-1561.20</td>\n",
       "      <td>USA</td>\n",
       "    </tr>\n",
       "    <tr>\n",
       "      <th>1</th>\n",
       "      <td>2008</td>\n",
       "      <td>97539.00</td>\n",
       "      <td>9737.00</td>\n",
       "      <td>87610.00</td>\n",
       "      <td>8915.00</td>\n",
       "      <td>10898.00</td>\n",
       "      <td>949.10</td>\n",
       "      <td>969.60</td>\n",
       "      <td>117.50</td>\n",
       "      <td>87.10</td>\n",
       "      <td>121.20</td>\n",
       "      <td>321.50</td>\n",
       "      <td>﻿-9928.3</td>\n",
       "      <td>﻿-831.6</td>\n",
       "      <td>USA</td>\n",
       "    </tr>\n",
       "    <tr>\n",
       "      <th>2</th>\n",
       "      <td>2009</td>\n",
       "      <td>70200.00</td>\n",
       "      <td>6020.00</td>\n",
       "      <td>64843.00</td>\n",
       "      <td>5568.00</td>\n",
       "      <td>6338.00</td>\n",
       "      <td>561.40</td>\n",
       "      <td>980.20</td>\n",
       "      <td>117.50</td>\n",
       "      <td>88.60</td>\n",
       "      <td>119.90</td>\n",
       "      <td>229.40</td>\n",
       "      <td>﻿-5357.6</td>\n",
       "      <td>﻿-443.9</td>\n",
       "      <td>USA</td>\n",
       "    </tr>\n",
       "    <tr>\n",
       "      <th>3</th>\n",
       "      <td>2010</td>\n",
       "      <td>71960.00</td>\n",
       "      <td>5503.00</td>\n",
       "      <td>67176.00</td>\n",
       "      <td>5064.00</td>\n",
       "      <td>6141.00</td>\n",
       "      <td>535.80</td>\n",
       "      <td>1357.00</td>\n",
       "      <td>184.30</td>\n",
       "      <td>87.30</td>\n",
       "      <td>135.80</td>\n",
       "      <td>233.10</td>\n",
       "      <td>﻿-4783.6</td>\n",
       "      <td>﻿-351.5</td>\n",
       "      <td>USA</td>\n",
       "    </tr>\n",
       "    <tr>\n",
       "      <th>4</th>\n",
       "      <td>2011</td>\n",
       "      <td>72929.00</td>\n",
       "      <td>5674.00</td>\n",
       "      <td>68639.00</td>\n",
       "      <td>5278.00</td>\n",
       "      <td>5937.00</td>\n",
       "      <td>519.00</td>\n",
       "      <td>1646.00</td>\n",
       "      <td>211.30</td>\n",
       "      <td>87.40</td>\n",
       "      <td>128.30</td>\n",
       "      <td>234.50</td>\n",
       "      <td>﻿-4290.3</td>\n",
       "      <td>﻿-307.8</td>\n",
       "      <td>USA</td>\n",
       "    </tr>\n",
       "    <tr>\n",
       "      <th>5</th>\n",
       "      <td>2012</td>\n",
       "      <td>79217.00</td>\n",
       "      <td>6069.00</td>\n",
       "      <td>74934.00</td>\n",
       "      <td>5661.00</td>\n",
       "      <td>6276.00</td>\n",
       "      <td>552.70</td>\n",
       "      <td>1993.00</td>\n",
       "      <td>259.10</td>\n",
       "      <td>88.10</td>\n",
       "      <td>130.00</td>\n",
       "      <td>252.80</td>\n",
       "      <td>﻿-4283</td>\n",
       "      <td>﻿-293.6</td>\n",
       "      <td>USA</td>\n",
       "    </tr>\n",
       "    <tr>\n",
       "      <th>6</th>\n",
       "      <td>2013</td>\n",
       "      <td>82025.00</td>\n",
       "      <td>6901.00</td>\n",
       "      <td>77415.00</td>\n",
       "      <td>6506.00</td>\n",
       "      <td>6514.00</td>\n",
       "      <td>571.90</td>\n",
       "      <td>1904.00</td>\n",
       "      <td>257.70</td>\n",
       "      <td>87.80</td>\n",
       "      <td>135.40</td>\n",
       "      <td>260.00</td>\n",
       "      <td>﻿-4610</td>\n",
       "      <td>﻿-314.2</td>\n",
       "      <td>USA</td>\n",
       "    </tr>\n",
       "    <tr>\n",
       "      <th>7</th>\n",
       "      <td>2014</td>\n",
       "      <td>86346.00</td>\n",
       "      <td>7237.00</td>\n",
       "      <td>83124.00</td>\n",
       "      <td>6956.00</td>\n",
       "      <td>6069.00</td>\n",
       "      <td>663.10</td>\n",
       "      <td>2847.00</td>\n",
       "      <td>264.20</td>\n",
       "      <td>109.30</td>\n",
       "      <td>92.80</td>\n",
       "      <td>271.80</td>\n",
       "      <td>﻿-3222</td>\n",
       "      <td>﻿-398.9</td>\n",
       "      <td>USA</td>\n",
       "    </tr>\n",
       "    <tr>\n",
       "      <th>8</th>\n",
       "      <td>2015</td>\n",
       "      <td>101975.00</td>\n",
       "      <td>8547.00</td>\n",
       "      <td>93208.00</td>\n",
       "      <td>7800.00</td>\n",
       "      <td>10337.00</td>\n",
       "      <td>896.10</td>\n",
       "      <td>1571.00</td>\n",
       "      <td>240.10</td>\n",
       "      <td>86.70</td>\n",
       "      <td>152.90</td>\n",
       "      <td>318.70</td>\n",
       "      <td>﻿-8766.6</td>\n",
       "      <td>﻿-656</td>\n",
       "      <td>USA</td>\n",
       "    </tr>\n",
       "  </tbody>\n",
       "</table>\n",
       "</div>"
      ],
      "text/plain": [
       "FACTOR  Year Consumption Volume Consumption Value Production Volume  \\\n",
       "0       2007          117546.00          12055.00          96850.00   \n",
       "1       2008           97539.00           9737.00          87610.00   \n",
       "2       2009           70200.00           6020.00          64843.00   \n",
       "3       2010           71960.00           5503.00          67176.00   \n",
       "4       2011           72929.00           5674.00          68639.00   \n",
       "5       2012           79217.00           6069.00          74934.00   \n",
       "6       2013           82025.00           6901.00          77415.00   \n",
       "7       2014           86346.00           7237.00          83124.00   \n",
       "8       2015          101975.00           8547.00          93208.00   \n",
       "\n",
       "FACTOR Production Value Import Volume Import Value Export Volume Export Value  \\\n",
       "0              10153.00      21739.00      1693.00       1042.00       131.40   \n",
       "1               8915.00      10898.00       949.10        969.60       117.50   \n",
       "2               5568.00       6338.00       561.40        980.20       117.50   \n",
       "3               5064.00       6141.00       535.80       1357.00       184.30   \n",
       "4               5278.00       5937.00       519.00       1646.00       211.30   \n",
       "5               5661.00       6276.00       552.70       1993.00       259.10   \n",
       "6               6506.00       6514.00       571.90       1904.00       257.70   \n",
       "7               6956.00       6069.00       663.10       2847.00       264.20   \n",
       "8               7800.00      10337.00       896.10       1571.00       240.10   \n",
       "\n",
       "FACTOR Import Price Export Price Per Capita Consumption Net Export Volume  \\\n",
       "0             77.90       126.00                 391.00         -20696.30   \n",
       "1             87.10       121.20                 321.50          ﻿-9928.3   \n",
       "2             88.60       119.90                 229.40          ﻿-5357.6   \n",
       "3             87.30       135.80                 233.10          ﻿-4783.6   \n",
       "4             87.40       128.30                 234.50          ﻿-4290.3   \n",
       "5             88.10       130.00                 252.80            ﻿-4283   \n",
       "6             87.80       135.40                 260.00            ﻿-4610   \n",
       "7            109.30        92.80                 271.80            ﻿-3222   \n",
       "8             86.70       152.90                 318.70          ﻿-8766.6   \n",
       "\n",
       "FACTOR Net Export Value Code  \n",
       "0              -1561.20  USA  \n",
       "1               ﻿-831.6  USA  \n",
       "2               ﻿-443.9  USA  \n",
       "3               ﻿-351.5  USA  \n",
       "4               ﻿-307.8  USA  \n",
       "5               ﻿-293.6  USA  \n",
       "6               ﻿-314.2  USA  \n",
       "7               ﻿-398.9  USA  \n",
       "8                 ﻿-656  USA  "
      ]
     },
     "execution_count": 36,
     "metadata": {},
     "output_type": "execute_result"
    }
   ],
   "source": [
    "# United States cement data\n",
    "\n",
    "usa_cement = cement_df(country=\"USA\", new_df=\"usa_cement\", original_df=cement_data)\n",
    "usa_cement[\"Code\"] = \"USA\"\n",
    "usa_cement"
   ]
  },
  {
   "cell_type": "code",
   "execution_count": 37,
   "id": "21f46d68",
   "metadata": {},
   "outputs": [
    {
     "data": {
      "text/html": [
       "<div>\n",
       "<style scoped>\n",
       "    .dataframe tbody tr th:only-of-type {\n",
       "        vertical-align: middle;\n",
       "    }\n",
       "\n",
       "    .dataframe tbody tr th {\n",
       "        vertical-align: top;\n",
       "    }\n",
       "\n",
       "    .dataframe thead th {\n",
       "        text-align: right;\n",
       "    }\n",
       "</style>\n",
       "<table border=\"1\" class=\"dataframe\">\n",
       "  <thead>\n",
       "    <tr style=\"text-align: right;\">\n",
       "      <th>FACTOR</th>\n",
       "      <th>Year</th>\n",
       "      <th>Consumption Volume</th>\n",
       "      <th>Consumption Value</th>\n",
       "      <th>Production Volume</th>\n",
       "      <th>Production Value</th>\n",
       "      <th>Import Volume</th>\n",
       "      <th>Import Value</th>\n",
       "      <th>Export Volume</th>\n",
       "      <th>Export Value</th>\n",
       "      <th>Import Price</th>\n",
       "      <th>Export Price</th>\n",
       "      <th>Per Capita Consumption</th>\n",
       "      <th>Net Export Volume</th>\n",
       "      <th>Net Export Value</th>\n",
       "      <th>Code</th>\n",
       "    </tr>\n",
       "  </thead>\n",
       "  <tbody>\n",
       "    <tr>\n",
       "      <th>0</th>\n",
       "      <td>2007</td>\n",
       "      <td>45592.00</td>\n",
       "      <td>3981.00</td>\n",
       "      <td>46551.00</td>\n",
       "      <td>3802.00</td>\n",
       "      <td>286.60</td>\n",
       "      <td>20.80</td>\n",
       "      <td>1246.00</td>\n",
       "      <td>62.30</td>\n",
       "      <td>72.50</td>\n",
       "      <td>50.00</td>\n",
       "      <td>238.70</td>\n",
       "      <td>959.20</td>\n",
       "      <td>41.50</td>\n",
       "      <td>BRA</td>\n",
       "    </tr>\n",
       "    <tr>\n",
       "      <th>1</th>\n",
       "      <td>2008</td>\n",
       "      <td>51654.00</td>\n",
       "      <td>5397.00</td>\n",
       "      <td>51970.00</td>\n",
       "      <td>5478.00</td>\n",
       "      <td>286.60</td>\n",
       "      <td>26.80</td>\n",
       "      <td>602.80</td>\n",
       "      <td>39.30</td>\n",
       "      <td>93.30</td>\n",
       "      <td>65.20</td>\n",
       "      <td>267.70</td>\n",
       "      <td>316.10</td>\n",
       "      <td>12.50</td>\n",
       "      <td>BRA</td>\n",
       "    </tr>\n",
       "    <tr>\n",
       "      <th>2</th>\n",
       "      <td>2009</td>\n",
       "      <td>52095.00</td>\n",
       "      <td>5174.00</td>\n",
       "      <td>51748.00</td>\n",
       "      <td>5086.00</td>\n",
       "      <td>397.00</td>\n",
       "      <td>39.40</td>\n",
       "      <td>49.60</td>\n",
       "      <td>5.10</td>\n",
       "      <td>99.30</td>\n",
       "      <td>102.90</td>\n",
       "      <td>267.30</td>\n",
       "      <td>﻿-347.4</td>\n",
       "      <td>﻿-34.3</td>\n",
       "      <td>BRA</td>\n",
       "    </tr>\n",
       "    <tr>\n",
       "      <th>3</th>\n",
       "      <td>2010</td>\n",
       "      <td>59937.00</td>\n",
       "      <td>6616.00</td>\n",
       "      <td>59118.00</td>\n",
       "      <td>6714.00</td>\n",
       "      <td>859.70</td>\n",
       "      <td>79.40</td>\n",
       "      <td>40.50</td>\n",
       "      <td>4.50</td>\n",
       "      <td>92.30</td>\n",
       "      <td>112.00</td>\n",
       "      <td>304.60</td>\n",
       "      <td>﻿-819.2</td>\n",
       "      <td>﻿-74 8</td>\n",
       "      <td>BRA</td>\n",
       "    </tr>\n",
       "    <tr>\n",
       "      <th>4</th>\n",
       "      <td>2011</td>\n",
       "      <td>65145.00</td>\n",
       "      <td>7906.00</td>\n",
       "      <td>64093.00</td>\n",
       "      <td>8250.00</td>\n",
       "      <td>1098.00</td>\n",
       "      <td>99.50</td>\n",
       "      <td>45.40</td>\n",
       "      <td>5.40</td>\n",
       "      <td>90.60</td>\n",
       "      <td>118.90</td>\n",
       "      <td>327.90</td>\n",
       "      <td>﻿-1052.3</td>\n",
       "      <td>-94.10</td>\n",
       "      <td>BRA</td>\n",
       "    </tr>\n",
       "    <tr>\n",
       "      <th>5</th>\n",
       "      <td>2012</td>\n",
       "      <td>70275.00</td>\n",
       "      <td>7580.00</td>\n",
       "      <td>69323.00</td>\n",
       "      <td>7631.00</td>\n",
       "      <td>985.60</td>\n",
       "      <td>92.10</td>\n",
       "      <td>33.50</td>\n",
       "      <td>4.40</td>\n",
       "      <td>93.40</td>\n",
       "      <td>131.20</td>\n",
       "      <td>350.40</td>\n",
       "      <td>﻿-952.1</td>\n",
       "      <td>﻿-87.7</td>\n",
       "      <td>BRA</td>\n",
       "    </tr>\n",
       "    <tr>\n",
       "      <th>6</th>\n",
       "      <td>2013</td>\n",
       "      <td>70976.00</td>\n",
       "      <td>7647.00</td>\n",
       "      <td>69975.00</td>\n",
       "      <td>7690.00</td>\n",
       "      <td>1034.00</td>\n",
       "      <td>92.90</td>\n",
       "      <td>32.70</td>\n",
       "      <td>4.20</td>\n",
       "      <td>89.80</td>\n",
       "      <td>129.30</td>\n",
       "      <td>350.70</td>\n",
       "      <td>﻿-1001.2</td>\n",
       "      <td>﻿-88.6</td>\n",
       "      <td>BRA</td>\n",
       "    </tr>\n",
       "    <tr>\n",
       "      <th>7</th>\n",
       "      <td>2014</td>\n",
       "      <td>72034.00</td>\n",
       "      <td>7739.00</td>\n",
       "      <td>71254.00</td>\n",
       "      <td>7801.00</td>\n",
       "      <td>823.90</td>\n",
       "      <td>77.00</td>\n",
       "      <td>43.70</td>\n",
       "      <td>5.50</td>\n",
       "      <td>93.40</td>\n",
       "      <td>126.50</td>\n",
       "      <td>352.70</td>\n",
       "      <td>﻿-780.2</td>\n",
       "      <td>﻿-71.4</td>\n",
       "      <td>BRA</td>\n",
       "    </tr>\n",
       "    <tr>\n",
       "      <th>8</th>\n",
       "      <td>2015</td>\n",
       "      <td>65649.00</td>\n",
       "      <td>5437.00</td>\n",
       "      <td>65283.00</td>\n",
       "      <td>4927.00</td>\n",
       "      <td>514.10</td>\n",
       "      <td>48.70</td>\n",
       "      <td>147.90</td>\n",
       "      <td>13.00</td>\n",
       "      <td>94.80</td>\n",
       "      <td>87.80</td>\n",
       "      <td>318.70</td>\n",
       "      <td>﻿-366.2</td>\n",
       "      <td>-35.70</td>\n",
       "      <td>BRA</td>\n",
       "    </tr>\n",
       "  </tbody>\n",
       "</table>\n",
       "</div>"
      ],
      "text/plain": [
       "FACTOR  Year Consumption Volume Consumption Value Production Volume  \\\n",
       "0       2007           45592.00           3981.00          46551.00   \n",
       "1       2008           51654.00           5397.00          51970.00   \n",
       "2       2009           52095.00           5174.00          51748.00   \n",
       "3       2010           59937.00           6616.00          59118.00   \n",
       "4       2011           65145.00           7906.00          64093.00   \n",
       "5       2012           70275.00           7580.00          69323.00   \n",
       "6       2013           70976.00           7647.00          69975.00   \n",
       "7       2014           72034.00           7739.00          71254.00   \n",
       "8       2015           65649.00           5437.00          65283.00   \n",
       "\n",
       "FACTOR Production Value Import Volume Import Value Export Volume Export Value  \\\n",
       "0               3802.00        286.60        20.80       1246.00        62.30   \n",
       "1               5478.00        286.60        26.80        602.80        39.30   \n",
       "2               5086.00        397.00        39.40         49.60         5.10   \n",
       "3               6714.00        859.70        79.40         40.50         4.50   \n",
       "4               8250.00       1098.00        99.50         45.40         5.40   \n",
       "5               7631.00        985.60        92.10         33.50         4.40   \n",
       "6               7690.00       1034.00        92.90         32.70         4.20   \n",
       "7               7801.00        823.90        77.00         43.70         5.50   \n",
       "8               4927.00        514.10        48.70        147.90        13.00   \n",
       "\n",
       "FACTOR Import Price Export Price Per Capita Consumption Net Export Volume  \\\n",
       "0             72.50        50.00                 238.70            959.20   \n",
       "1             93.30        65.20                 267.70            316.10   \n",
       "2             99.30       102.90                 267.30           ﻿-347.4   \n",
       "3             92.30       112.00                 304.60           ﻿-819.2   \n",
       "4             90.60       118.90                 327.90          ﻿-1052.3   \n",
       "5             93.40       131.20                 350.40           ﻿-952.1   \n",
       "6             89.80       129.30                 350.70          ﻿-1001.2   \n",
       "7             93.40       126.50                 352.70           ﻿-780.2   \n",
       "8             94.80        87.80                 318.70           ﻿-366.2   \n",
       "\n",
       "FACTOR Net Export Value Code  \n",
       "0                 41.50  BRA  \n",
       "1                 12.50  BRA  \n",
       "2                ﻿-34.3  BRA  \n",
       "3                ﻿-74 8  BRA  \n",
       "4                -94.10  BRA  \n",
       "5                ﻿-87.7  BRA  \n",
       "6                ﻿-88.6  BRA  \n",
       "7                ﻿-71.4  BRA  \n",
       "8                -35.70  BRA  "
      ]
     },
     "execution_count": 37,
     "metadata": {},
     "output_type": "execute_result"
    }
   ],
   "source": [
    "# Brazil cement data\n",
    "\n",
    "brazil_cement = cement_df(country=\"Brazil\", new_df=\"brazil_cement\", original_df=cement_data)\n",
    "brazil_cement[\"Code\"] = \"BRA\"\n",
    "brazil_cement"
   ]
  },
  {
   "cell_type": "code",
   "execution_count": 38,
   "id": "9372158a",
   "metadata": {},
   "outputs": [
    {
     "data": {
      "text/html": [
       "<div>\n",
       "<style scoped>\n",
       "    .dataframe tbody tr th:only-of-type {\n",
       "        vertical-align: middle;\n",
       "    }\n",
       "\n",
       "    .dataframe tbody tr th {\n",
       "        vertical-align: top;\n",
       "    }\n",
       "\n",
       "    .dataframe thead th {\n",
       "        text-align: right;\n",
       "    }\n",
       "</style>\n",
       "<table border=\"1\" class=\"dataframe\">\n",
       "  <thead>\n",
       "    <tr style=\"text-align: right;\">\n",
       "      <th>FACTOR</th>\n",
       "      <th>Year</th>\n",
       "      <th>Consumption Volume</th>\n",
       "      <th>Consumption Value</th>\n",
       "      <th>Production Volume</th>\n",
       "      <th>Production Value</th>\n",
       "      <th>Import Volume</th>\n",
       "      <th>Import Value</th>\n",
       "      <th>Export Volume</th>\n",
       "      <th>Export Value</th>\n",
       "      <th>Import Price</th>\n",
       "      <th>Export Price</th>\n",
       "      <th>Per Capita Consumption</th>\n",
       "      <th>Net Export Volume</th>\n",
       "      <th>Net Export Value</th>\n",
       "      <th>Code</th>\n",
       "    </tr>\n",
       "  </thead>\n",
       "  <tbody>\n",
       "    <tr>\n",
       "      <th>0</th>\n",
       "      <td>2007</td>\n",
       "      <td>1346507.00</td>\n",
       "      <td>58994.00</td>\n",
       "      <td>1361170.00</td>\n",
       "      <td>54201.00</td>\n",
       "      <td>532.40</td>\n",
       "      <td>22.40</td>\n",
       "      <td>15195.00</td>\n",
       "      <td>605.10</td>\n",
       "      <td>42.10</td>\n",
       "      <td>39.80</td>\n",
       "      <td>985.00</td>\n",
       "      <td>14663.00</td>\n",
       "      <td>582.60</td>\n",
       "      <td>CHN</td>\n",
       "    </tr>\n",
       "    <tr>\n",
       "      <th>1</th>\n",
       "      <td>2008</td>\n",
       "      <td>1387333.00</td>\n",
       "      <td>69244.00</td>\n",
       "      <td>1400000.00</td>\n",
       "      <td>66718.00</td>\n",
       "      <td>565.30</td>\n",
       "      <td>27.10</td>\n",
       "      <td>13232.00</td>\n",
       "      <td>630.60</td>\n",
       "      <td>47.90</td>\n",
       "      <td>47.70</td>\n",
       "      <td>1009.00</td>\n",
       "      <td>12667.00</td>\n",
       "      <td>603.50</td>\n",
       "      <td>CHN</td>\n",
       "    </tr>\n",
       "    <tr>\n",
       "      <th>2</th>\n",
       "      <td>2009</td>\n",
       "      <td>1636216.00</td>\n",
       "      <td>84842.00</td>\n",
       "      <td>1644000.00</td>\n",
       "      <td>82445.00</td>\n",
       "      <td>702.70</td>\n",
       "      <td>33.40</td>\n",
       "      <td>8487.00</td>\n",
       "      <td>425.60</td>\n",
       "      <td>47.50</td>\n",
       "      <td>50.10</td>\n",
       "      <td>1183.00</td>\n",
       "      <td>7784.00</td>\n",
       "      <td>392.20</td>\n",
       "      <td>CHN</td>\n",
       "    </tr>\n",
       "    <tr>\n",
       "      <th>3</th>\n",
       "      <td>2010</td>\n",
       "      <td>1870996.00</td>\n",
       "      <td>97491.00</td>\n",
       "      <td>1880000.00</td>\n",
       "      <td>94894.00</td>\n",
       "      <td>823.10</td>\n",
       "      <td>38.80</td>\n",
       "      <td>9827.00</td>\n",
       "      <td>496.00</td>\n",
       "      <td>47.20</td>\n",
       "      <td>50.50</td>\n",
       "      <td>1346.00</td>\n",
       "      <td>9004.00</td>\n",
       "      <td>457.20</td>\n",
       "      <td>CHN</td>\n",
       "    </tr>\n",
       "    <tr>\n",
       "      <th>4</th>\n",
       "      <td>2011</td>\n",
       "      <td>2091058.00</td>\n",
       "      <td>124781.00</td>\n",
       "      <td>2099000.00</td>\n",
       "      <td>126356.00</td>\n",
       "      <td>855.60</td>\n",
       "      <td>45.30</td>\n",
       "      <td>8798.00</td>\n",
       "      <td>529.60</td>\n",
       "      <td>52.90</td>\n",
       "      <td>60.20</td>\n",
       "      <td>1495.00</td>\n",
       "      <td>7943.00</td>\n",
       "      <td>484.40</td>\n",
       "      <td>CHN</td>\n",
       "    </tr>\n",
       "    <tr>\n",
       "      <th>5</th>\n",
       "      <td>2012</td>\n",
       "      <td>2201410.00</td>\n",
       "      <td>132310.00</td>\n",
       "      <td>2210000.00</td>\n",
       "      <td>134256.00</td>\n",
       "      <td>649.90</td>\n",
       "      <td>37.70</td>\n",
       "      <td>9240.00</td>\n",
       "      <td>561.30</td>\n",
       "      <td>57.90</td>\n",
       "      <td>60.70</td>\n",
       "      <td>1566.00</td>\n",
       "      <td>8590.00</td>\n",
       "      <td>523.70</td>\n",
       "      <td>CHN</td>\n",
       "    </tr>\n",
       "    <tr>\n",
       "      <th>6</th>\n",
       "      <td>2013</td>\n",
       "      <td>2400469.00</td>\n",
       "      <td>139494.00</td>\n",
       "      <td>2411000.00</td>\n",
       "      <td>140297.00</td>\n",
       "      <td>411.20</td>\n",
       "      <td>26.90</td>\n",
       "      <td>10942.00</td>\n",
       "      <td>636.70</td>\n",
       "      <td>65.30</td>\n",
       "      <td>58.20</td>\n",
       "      <td>1698.00</td>\n",
       "      <td>10531.00</td>\n",
       "      <td>609.90</td>\n",
       "      <td>CHN</td>\n",
       "    </tr>\n",
       "    <tr>\n",
       "      <th>7</th>\n",
       "      <td>2014</td>\n",
       "      <td>2482064.00</td>\n",
       "      <td>147064.00</td>\n",
       "      <td>2492000.00</td>\n",
       "      <td>148660.00</td>\n",
       "      <td>238.10</td>\n",
       "      <td>21.40</td>\n",
       "      <td>10174.00</td>\n",
       "      <td>606.90</td>\n",
       "      <td>89.80</td>\n",
       "      <td>59.70</td>\n",
       "      <td>1746.00</td>\n",
       "      <td>9936.00</td>\n",
       "      <td>585.50</td>\n",
       "      <td>CHN</td>\n",
       "    </tr>\n",
       "    <tr>\n",
       "      <th>8</th>\n",
       "      <td>2015</td>\n",
       "      <td>2349902.00</td>\n",
       "      <td>136241.00</td>\n",
       "      <td>2359000.00</td>\n",
       "      <td>136866.00</td>\n",
       "      <td>103.60</td>\n",
       "      <td>16.80</td>\n",
       "      <td>9202.00</td>\n",
       "      <td>533.90</td>\n",
       "      <td>162.30</td>\n",
       "      <td>58.00</td>\n",
       "      <td>1645.00</td>\n",
       "      <td>9098.00</td>\n",
       "      <td>517.10</td>\n",
       "      <td>CHN</td>\n",
       "    </tr>\n",
       "  </tbody>\n",
       "</table>\n",
       "</div>"
      ],
      "text/plain": [
       "FACTOR  Year Consumption Volume Consumption Value Production Volume  \\\n",
       "0       2007         1346507.00          58994.00        1361170.00   \n",
       "1       2008         1387333.00          69244.00        1400000.00   \n",
       "2       2009         1636216.00          84842.00        1644000.00   \n",
       "3       2010         1870996.00          97491.00        1880000.00   \n",
       "4       2011         2091058.00         124781.00        2099000.00   \n",
       "5       2012         2201410.00         132310.00        2210000.00   \n",
       "6       2013         2400469.00         139494.00        2411000.00   \n",
       "7       2014         2482064.00         147064.00        2492000.00   \n",
       "8       2015         2349902.00         136241.00        2359000.00   \n",
       "\n",
       "FACTOR Production Value Import Volume Import Value Export Volume Export Value  \\\n",
       "0              54201.00        532.40        22.40      15195.00       605.10   \n",
       "1              66718.00        565.30        27.10      13232.00       630.60   \n",
       "2              82445.00        702.70        33.40       8487.00       425.60   \n",
       "3              94894.00        823.10        38.80       9827.00       496.00   \n",
       "4             126356.00        855.60        45.30       8798.00       529.60   \n",
       "5             134256.00        649.90        37.70       9240.00       561.30   \n",
       "6             140297.00        411.20        26.90      10942.00       636.70   \n",
       "7             148660.00        238.10        21.40      10174.00       606.90   \n",
       "8             136866.00        103.60        16.80       9202.00       533.90   \n",
       "\n",
       "FACTOR Import Price Export Price Per Capita Consumption Net Export Volume  \\\n",
       "0             42.10        39.80                 985.00          14663.00   \n",
       "1             47.90        47.70                1009.00          12667.00   \n",
       "2             47.50        50.10                1183.00           7784.00   \n",
       "3             47.20        50.50                1346.00           9004.00   \n",
       "4             52.90        60.20                1495.00           7943.00   \n",
       "5             57.90        60.70                1566.00           8590.00   \n",
       "6             65.30        58.20                1698.00          10531.00   \n",
       "7             89.80        59.70                1746.00           9936.00   \n",
       "8            162.30        58.00                1645.00           9098.00   \n",
       "\n",
       "FACTOR Net Export Value Code  \n",
       "0                582.60  CHN  \n",
       "1                603.50  CHN  \n",
       "2                392.20  CHN  \n",
       "3                457.20  CHN  \n",
       "4                484.40  CHN  \n",
       "5                523.70  CHN  \n",
       "6                609.90  CHN  \n",
       "7                585.50  CHN  \n",
       "8                517.10  CHN  "
      ]
     },
     "execution_count": 38,
     "metadata": {},
     "output_type": "execute_result"
    }
   ],
   "source": [
    "# China cement data\n",
    "\n",
    "china_cement = cement_df(country=\"China\", new_df=\"china_cement\", original_df=cement_data)\n",
    "china_cement[\"Code\"] = \"CHN\"\n",
    "china_cement"
   ]
  },
  {
   "cell_type": "code",
   "execution_count": 39,
   "id": "30844892",
   "metadata": {},
   "outputs": [
    {
     "data": {
      "text/html": [
       "<div>\n",
       "<style scoped>\n",
       "    .dataframe tbody tr th:only-of-type {\n",
       "        vertical-align: middle;\n",
       "    }\n",
       "\n",
       "    .dataframe tbody tr th {\n",
       "        vertical-align: top;\n",
       "    }\n",
       "\n",
       "    .dataframe thead th {\n",
       "        text-align: right;\n",
       "    }\n",
       "</style>\n",
       "<table border=\"1\" class=\"dataframe\">\n",
       "  <thead>\n",
       "    <tr style=\"text-align: right;\">\n",
       "      <th>FACTOR</th>\n",
       "      <th>Year</th>\n",
       "      <th>Consumption Volume</th>\n",
       "      <th>Consumption Value</th>\n",
       "      <th>Production Volume</th>\n",
       "      <th>Production Value</th>\n",
       "      <th>Import Volume</th>\n",
       "      <th>Import Value</th>\n",
       "      <th>Export Volume</th>\n",
       "      <th>Export Value</th>\n",
       "      <th>Import Price</th>\n",
       "      <th>Export Price</th>\n",
       "      <th>Per Capita Consumption</th>\n",
       "      <th>Net Export Volume</th>\n",
       "      <th>Net Export Value</th>\n",
       "      <th>Code</th>\n",
       "    </tr>\n",
       "  </thead>\n",
       "  <tbody>\n",
       "    <tr>\n",
       "      <th>0</th>\n",
       "      <td>2007</td>\n",
       "      <td>27566.00</td>\n",
       "      <td>2198.00</td>\n",
       "      <td>33382.00</td>\n",
       "      <td>2644.00</td>\n",
       "      <td>1144.00</td>\n",
       "      <td>160.90</td>\n",
       "      <td>6961.00</td>\n",
       "      <td>599.70</td>\n",
       "      <td>140.60</td>\n",
       "      <td>86.20</td>\n",
       "      <td>338.90</td>\n",
       "      <td>5816.00</td>\n",
       "      <td>438.80</td>\n",
       "      <td>DEU</td>\n",
       "    </tr>\n",
       "    <tr>\n",
       "      <th>1</th>\n",
       "      <td>2008</td>\n",
       "      <td>27452.00</td>\n",
       "      <td>2193.00</td>\n",
       "      <td>33581.00</td>\n",
       "      <td>2665.00</td>\n",
       "      <td>1064.00</td>\n",
       "      <td>173.20</td>\n",
       "      <td>7193.00</td>\n",
       "      <td>750.10</td>\n",
       "      <td>162.80</td>\n",
       "      <td>104.30</td>\n",
       "      <td>338.40</td>\n",
       "      <td>6129.00</td>\n",
       "      <td>576.90</td>\n",
       "      <td>DEU</td>\n",
       "    </tr>\n",
       "    <tr>\n",
       "      <th>2</th>\n",
       "      <td>2009</td>\n",
       "      <td>24918.00</td>\n",
       "      <td>2188.00</td>\n",
       "      <td>30441.00</td>\n",
       "      <td>2687.00</td>\n",
       "      <td>1025.00</td>\n",
       "      <td>159.60</td>\n",
       "      <td>6548.00</td>\n",
       "      <td>643.70</td>\n",
       "      <td>155.70</td>\n",
       "      <td>98.30</td>\n",
       "      <td>307.80</td>\n",
       "      <td>5523.00</td>\n",
       "      <td>484.00</td>\n",
       "      <td>DEU</td>\n",
       "    </tr>\n",
       "    <tr>\n",
       "      <th>3</th>\n",
       "      <td>2010</td>\n",
       "      <td>24756.00</td>\n",
       "      <td>2059.00</td>\n",
       "      <td>29894.00</td>\n",
       "      <td>2483.00</td>\n",
       "      <td>1046.00</td>\n",
       "      <td>166.20</td>\n",
       "      <td>6184.00</td>\n",
       "      <td>570.00</td>\n",
       "      <td>158.80</td>\n",
       "      <td>92.20</td>\n",
       "      <td>306.00</td>\n",
       "      <td>5138.00</td>\n",
       "      <td>403.80</td>\n",
       "      <td>DEU</td>\n",
       "    </tr>\n",
       "    <tr>\n",
       "      <th>4</th>\n",
       "      <td>2011</td>\n",
       "      <td>26766.00</td>\n",
       "      <td>2410.00</td>\n",
       "      <td>32779.00</td>\n",
       "      <td>2975.00</td>\n",
       "      <td>1117.00</td>\n",
       "      <td>184.30</td>\n",
       "      <td>7131.00</td>\n",
       "      <td>709.90</td>\n",
       "      <td>164.90</td>\n",
       "      <td>99.60</td>\n",
       "      <td>330.70</td>\n",
       "      <td>6014.00</td>\n",
       "      <td>525.60</td>\n",
       "      <td>DEU</td>\n",
       "    </tr>\n",
       "    <tr>\n",
       "      <th>5</th>\n",
       "      <td>2012</td>\n",
       "      <td>27169.00</td>\n",
       "      <td>2234.00</td>\n",
       "      <td>32432.00</td>\n",
       "      <td>2660.00</td>\n",
       "      <td>1277.00</td>\n",
       "      <td>181.10</td>\n",
       "      <td>6541.00</td>\n",
       "      <td>615.50</td>\n",
       "      <td>141.80</td>\n",
       "      <td>94.10</td>\n",
       "      <td>335.10</td>\n",
       "      <td>5263.00</td>\n",
       "      <td>434.30</td>\n",
       "      <td>DEU</td>\n",
       "    </tr>\n",
       "    <tr>\n",
       "      <th>6</th>\n",
       "      <td>2013</td>\n",
       "      <td>26602.00</td>\n",
       "      <td>2295.00</td>\n",
       "      <td>31308.00</td>\n",
       "      <td>2709.00</td>\n",
       "      <td>1344.00</td>\n",
       "      <td>203.50</td>\n",
       "      <td>6050.00</td>\n",
       "      <td>588.80</td>\n",
       "      <td>151.40</td>\n",
       "      <td>97.30</td>\n",
       "      <td>327.40</td>\n",
       "      <td>4706.00</td>\n",
       "      <td>385.30</td>\n",
       "      <td>DEU</td>\n",
       "    </tr>\n",
       "    <tr>\n",
       "      <th>7</th>\n",
       "      <td>2014</td>\n",
       "      <td>27677.00</td>\n",
       "      <td>2420.00</td>\n",
       "      <td>32099.00</td>\n",
       "      <td>2820.00</td>\n",
       "      <td>1325.00</td>\n",
       "      <td>208.80</td>\n",
       "      <td>5747.00</td>\n",
       "      <td>558.10</td>\n",
       "      <td>157.60</td>\n",
       "      <td>97.10</td>\n",
       "      <td>339.60</td>\n",
       "      <td>4422.00</td>\n",
       "      <td>349.30</td>\n",
       "      <td>DEU</td>\n",
       "    </tr>\n",
       "    <tr>\n",
       "      <th>8</th>\n",
       "      <td>2015</td>\n",
       "      <td>26207.00</td>\n",
       "      <td>1980.00</td>\n",
       "      <td>31160.00</td>\n",
       "      <td>2322.00</td>\n",
       "      <td>1308.00</td>\n",
       "      <td>177.20</td>\n",
       "      <td>6262.00</td>\n",
       "      <td>498.00</td>\n",
       "      <td>135.40</td>\n",
       "      <td>79.50</td>\n",
       "      <td>320.70</td>\n",
       "      <td>4953.00</td>\n",
       "      <td>320.80</td>\n",
       "      <td>DEU</td>\n",
       "    </tr>\n",
       "  </tbody>\n",
       "</table>\n",
       "</div>"
      ],
      "text/plain": [
       "FACTOR  Year Consumption Volume Consumption Value Production Volume  \\\n",
       "0       2007           27566.00           2198.00          33382.00   \n",
       "1       2008           27452.00           2193.00          33581.00   \n",
       "2       2009           24918.00           2188.00          30441.00   \n",
       "3       2010           24756.00           2059.00          29894.00   \n",
       "4       2011           26766.00           2410.00          32779.00   \n",
       "5       2012           27169.00           2234.00          32432.00   \n",
       "6       2013           26602.00           2295.00          31308.00   \n",
       "7       2014           27677.00           2420.00          32099.00   \n",
       "8       2015           26207.00           1980.00          31160.00   \n",
       "\n",
       "FACTOR Production Value Import Volume Import Value Export Volume Export Value  \\\n",
       "0               2644.00       1144.00       160.90       6961.00       599.70   \n",
       "1               2665.00       1064.00       173.20       7193.00       750.10   \n",
       "2               2687.00       1025.00       159.60       6548.00       643.70   \n",
       "3               2483.00       1046.00       166.20       6184.00       570.00   \n",
       "4               2975.00       1117.00       184.30       7131.00       709.90   \n",
       "5               2660.00       1277.00       181.10       6541.00       615.50   \n",
       "6               2709.00       1344.00       203.50       6050.00       588.80   \n",
       "7               2820.00       1325.00       208.80       5747.00       558.10   \n",
       "8               2322.00       1308.00       177.20       6262.00       498.00   \n",
       "\n",
       "FACTOR Import Price Export Price Per Capita Consumption Net Export Volume  \\\n",
       "0            140.60        86.20                 338.90           5816.00   \n",
       "1            162.80       104.30                 338.40           6129.00   \n",
       "2            155.70        98.30                 307.80           5523.00   \n",
       "3            158.80        92.20                 306.00           5138.00   \n",
       "4            164.90        99.60                 330.70           6014.00   \n",
       "5            141.80        94.10                 335.10           5263.00   \n",
       "6            151.40        97.30                 327.40           4706.00   \n",
       "7            157.60        97.10                 339.60           4422.00   \n",
       "8            135.40        79.50                 320.70           4953.00   \n",
       "\n",
       "FACTOR Net Export Value Code  \n",
       "0                438.80  DEU  \n",
       "1                576.90  DEU  \n",
       "2                484.00  DEU  \n",
       "3                403.80  DEU  \n",
       "4                525.60  DEU  \n",
       "5                434.30  DEU  \n",
       "6                385.30  DEU  \n",
       "7                349.30  DEU  \n",
       "8                320.80  DEU  "
      ]
     },
     "execution_count": 39,
     "metadata": {},
     "output_type": "execute_result"
    }
   ],
   "source": [
    "# Germany cement data\n",
    "\n",
    "germany_cement = cement_df(country=\"Germany\", new_df=\"germany_cement\", original_df=cement_data)\n",
    "germany_cement[\"Code\"] = \"DEU\"\n",
    "germany_cement"
   ]
  },
  {
   "cell_type": "code",
   "execution_count": 40,
   "id": "f8b1db28",
   "metadata": {},
   "outputs": [
    {
     "data": {
      "text/html": [
       "<div>\n",
       "<style scoped>\n",
       "    .dataframe tbody tr th:only-of-type {\n",
       "        vertical-align: middle;\n",
       "    }\n",
       "\n",
       "    .dataframe tbody tr th {\n",
       "        vertical-align: top;\n",
       "    }\n",
       "\n",
       "    .dataframe thead th {\n",
       "        text-align: right;\n",
       "    }\n",
       "</style>\n",
       "<table border=\"1\" class=\"dataframe\">\n",
       "  <thead>\n",
       "    <tr style=\"text-align: right;\">\n",
       "      <th>FACTOR</th>\n",
       "      <th>Year</th>\n",
       "      <th>Consumption Volume</th>\n",
       "      <th>Consumption Value</th>\n",
       "      <th>Production Volume</th>\n",
       "      <th>Production Value</th>\n",
       "      <th>Import Volume</th>\n",
       "      <th>Import Value</th>\n",
       "      <th>Export Volume</th>\n",
       "      <th>Export Value</th>\n",
       "      <th>Import Price</th>\n",
       "      <th>Export Price</th>\n",
       "      <th>Per Capita Consumption</th>\n",
       "      <th>Net Export Volume</th>\n",
       "      <th>Net Export Value</th>\n",
       "      <th>Code</th>\n",
       "    </tr>\n",
       "  </thead>\n",
       "  <tbody>\n",
       "    <tr>\n",
       "      <th>0</th>\n",
       "      <td>2007</td>\n",
       "      <td>60349.00</td>\n",
       "      <td>5694.00</td>\n",
       "      <td>59939.00</td>\n",
       "      <td>6146.00</td>\n",
       "      <td>2066.00</td>\n",
       "      <td>206.60</td>\n",
       "      <td>1656.00</td>\n",
       "      <td>169.80</td>\n",
       "      <td>100.00</td>\n",
       "      <td>102.50</td>\n",
       "      <td>421.60</td>\n",
       "      <td>﻿-409.6</td>\n",
       "      <td>﻿-36.8</td>\n",
       "      <td>RUS</td>\n",
       "    </tr>\n",
       "    <tr>\n",
       "      <th>1</th>\n",
       "      <td>2008</td>\n",
       "      <td>58928.00</td>\n",
       "      <td>7027.00</td>\n",
       "      <td>53548.00</td>\n",
       "      <td>7563.00</td>\n",
       "      <td>5862.00</td>\n",
       "      <td>593.10</td>\n",
       "      <td>482.00</td>\n",
       "      <td>68.10</td>\n",
       "      <td>101.20</td>\n",
       "      <td>141.20</td>\n",
       "      <td>411.80</td>\n",
       "      <td>﻿-5380</td>\n",
       "      <td>﻿-525</td>\n",
       "      <td>RUS</td>\n",
       "    </tr>\n",
       "    <tr>\n",
       "      <th>2</th>\n",
       "      <td>2009</td>\n",
       "      <td>44046.00</td>\n",
       "      <td>3703.00</td>\n",
       "      <td>44266.00</td>\n",
       "      <td>3832.00</td>\n",
       "      <td>1124.00</td>\n",
       "      <td>88.60</td>\n",
       "      <td>1344.00</td>\n",
       "      <td>116.30</td>\n",
       "      <td>78.90</td>\n",
       "      <td>86.60</td>\n",
       "      <td>307.80</td>\n",
       "      <td>220.00</td>\n",
       "      <td>27.70</td>\n",
       "      <td>RUS</td>\n",
       "    </tr>\n",
       "    <tr>\n",
       "      <th>3</th>\n",
       "      <td>2010</td>\n",
       "      <td>50862.00</td>\n",
       "      <td>4133.00</td>\n",
       "      <td>50392.00</td>\n",
       "      <td>4142.00</td>\n",
       "      <td>1170.00</td>\n",
       "      <td>91.00</td>\n",
       "      <td>700.20</td>\n",
       "      <td>57.60</td>\n",
       "      <td>77.80</td>\n",
       "      <td>82.20</td>\n",
       "      <td>355.30</td>\n",
       "      <td>﻿-469.4</td>\n",
       "      <td>﻿-33.4</td>\n",
       "      <td>RUS</td>\n",
       "    </tr>\n",
       "    <tr>\n",
       "      <th>4</th>\n",
       "      <td>2011</td>\n",
       "      <td>58164.00</td>\n",
       "      <td>5168.00</td>\n",
       "      <td>56153.00</td>\n",
       "      <td>5279.00</td>\n",
       "      <td>2398.00</td>\n",
       "      <td>212.50</td>\n",
       "      <td>386.90</td>\n",
       "      <td>36.40</td>\n",
       "      <td>88.60</td>\n",
       "      <td>94.00</td>\n",
       "      <td>406.00</td>\n",
       "      <td>-2011.50</td>\n",
       "      <td>-176.10</td>\n",
       "      <td>RUS</td>\n",
       "    </tr>\n",
       "    <tr>\n",
       "      <th>5</th>\n",
       "      <td>2012</td>\n",
       "      <td>64461.00</td>\n",
       "      <td>6155.00</td>\n",
       "      <td>61691.00</td>\n",
       "      <td>6434.00</td>\n",
       "      <td>4234.00</td>\n",
       "      <td>348.40</td>\n",
       "      <td>1464.00</td>\n",
       "      <td>152.70</td>\n",
       "      <td>82.30</td>\n",
       "      <td>104.30</td>\n",
       "      <td>449.50</td>\n",
       "      <td>-2770.20</td>\n",
       "      <td>-195.70</td>\n",
       "      <td>RUS</td>\n",
       "    </tr>\n",
       "    <tr>\n",
       "      <th>6</th>\n",
       "      <td>2013</td>\n",
       "      <td>69128.00</td>\n",
       "      <td>6639.00</td>\n",
       "      <td>66549.00</td>\n",
       "      <td>6999.00</td>\n",
       "      <td>4338.00</td>\n",
       "      <td>347.30</td>\n",
       "      <td>1759.00</td>\n",
       "      <td>185.00</td>\n",
       "      <td>80.10</td>\n",
       "      <td>105.20</td>\n",
       "      <td>481.40</td>\n",
       "      <td>-2578.80</td>\n",
       "      <td>-162.30</td>\n",
       "      <td>RUS</td>\n",
       "    </tr>\n",
       "    <tr>\n",
       "      <th>7</th>\n",
       "      <td>2014</td>\n",
       "      <td>71772.00</td>\n",
       "      <td>5875.00</td>\n",
       "      <td>69139.00</td>\n",
       "      <td>5748.00</td>\n",
       "      <td>4501.00</td>\n",
       "      <td>337.90</td>\n",
       "      <td>1868.00</td>\n",
       "      <td>155.30</td>\n",
       "      <td>75.10</td>\n",
       "      <td>83.10</td>\n",
       "      <td>499.20</td>\n",
       "      <td>-2633.00</td>\n",
       "      <td>-182.60</td>\n",
       "      <td>RUS</td>\n",
       "    </tr>\n",
       "    <tr>\n",
       "      <th>8</th>\n",
       "      <td>2015</td>\n",
       "      <td>63262.00</td>\n",
       "      <td>3948.00</td>\n",
       "      <td>62103.00</td>\n",
       "      <td>3286.00</td>\n",
       "      <td>2883.00</td>\n",
       "      <td>169.20</td>\n",
       "      <td>1723.00</td>\n",
       "      <td>91.20</td>\n",
       "      <td>58.70</td>\n",
       "      <td>52.90</td>\n",
       "      <td>439.70</td>\n",
       "      <td>-1159.70</td>\n",
       "      <td>-78.00</td>\n",
       "      <td>RUS</td>\n",
       "    </tr>\n",
       "  </tbody>\n",
       "</table>\n",
       "</div>"
      ],
      "text/plain": [
       "FACTOR  Year Consumption Volume Consumption Value Production Volume  \\\n",
       "0       2007           60349.00           5694.00          59939.00   \n",
       "1       2008           58928.00           7027.00          53548.00   \n",
       "2       2009           44046.00           3703.00          44266.00   \n",
       "3       2010           50862.00           4133.00          50392.00   \n",
       "4       2011           58164.00           5168.00          56153.00   \n",
       "5       2012           64461.00           6155.00          61691.00   \n",
       "6       2013           69128.00           6639.00          66549.00   \n",
       "7       2014           71772.00           5875.00          69139.00   \n",
       "8       2015           63262.00           3948.00          62103.00   \n",
       "\n",
       "FACTOR Production Value Import Volume Import Value Export Volume Export Value  \\\n",
       "0               6146.00       2066.00       206.60       1656.00       169.80   \n",
       "1               7563.00       5862.00       593.10        482.00        68.10   \n",
       "2               3832.00       1124.00        88.60       1344.00       116.30   \n",
       "3               4142.00       1170.00        91.00        700.20        57.60   \n",
       "4               5279.00       2398.00       212.50        386.90        36.40   \n",
       "5               6434.00       4234.00       348.40       1464.00       152.70   \n",
       "6               6999.00       4338.00       347.30       1759.00       185.00   \n",
       "7               5748.00       4501.00       337.90       1868.00       155.30   \n",
       "8               3286.00       2883.00       169.20       1723.00        91.20   \n",
       "\n",
       "FACTOR Import Price Export Price Per Capita Consumption Net Export Volume  \\\n",
       "0            100.00       102.50                 421.60           ﻿-409.6   \n",
       "1            101.20       141.20                 411.80            ﻿-5380   \n",
       "2             78.90        86.60                 307.80            220.00   \n",
       "3             77.80        82.20                 355.30           ﻿-469.4   \n",
       "4             88.60        94.00                 406.00          -2011.50   \n",
       "5             82.30       104.30                 449.50          -2770.20   \n",
       "6             80.10       105.20                 481.40          -2578.80   \n",
       "7             75.10        83.10                 499.20          -2633.00   \n",
       "8             58.70        52.90                 439.70          -1159.70   \n",
       "\n",
       "FACTOR Net Export Value Code  \n",
       "0                ﻿-36.8  RUS  \n",
       "1                 ﻿-525  RUS  \n",
       "2                 27.70  RUS  \n",
       "3                ﻿-33.4  RUS  \n",
       "4               -176.10  RUS  \n",
       "5               -195.70  RUS  \n",
       "6               -162.30  RUS  \n",
       "7               -182.60  RUS  \n",
       "8                -78.00  RUS  "
      ]
     },
     "execution_count": 40,
     "metadata": {},
     "output_type": "execute_result"
    }
   ],
   "source": [
    "# Russia cement data\n",
    "\n",
    "russia_cement = cement_df(country=\"Russia\", new_df=\"russia_cement\", original_df=cement_data)\n",
    "russia_cement[\"Code\"] = \"RUS\"\n",
    "russia_cement"
   ]
  },
  {
   "cell_type": "code",
   "execution_count": 41,
   "id": "20213a91",
   "metadata": {},
   "outputs": [
    {
     "data": {
      "text/html": [
       "<div>\n",
       "<style scoped>\n",
       "    .dataframe tbody tr th:only-of-type {\n",
       "        vertical-align: middle;\n",
       "    }\n",
       "\n",
       "    .dataframe tbody tr th {\n",
       "        vertical-align: top;\n",
       "    }\n",
       "\n",
       "    .dataframe thead th {\n",
       "        text-align: right;\n",
       "    }\n",
       "</style>\n",
       "<table border=\"1\" class=\"dataframe\">\n",
       "  <thead>\n",
       "    <tr style=\"text-align: right;\">\n",
       "      <th>FACTOR</th>\n",
       "      <th>Year</th>\n",
       "      <th>Consumption Volume</th>\n",
       "      <th>Consumption Value</th>\n",
       "      <th>Production Volume</th>\n",
       "      <th>Production Value</th>\n",
       "      <th>Import Volume</th>\n",
       "      <th>Import Value</th>\n",
       "      <th>Export Volume</th>\n",
       "      <th>Export Value</th>\n",
       "      <th>Import Price</th>\n",
       "      <th>Export Price</th>\n",
       "      <th>Per Capita Consumption</th>\n",
       "      <th>Net Export Volume</th>\n",
       "      <th>Net Export Value</th>\n",
       "      <th>Code</th>\n",
       "    </tr>\n",
       "  </thead>\n",
       "  <tbody>\n",
       "    <tr>\n",
       "      <th>0</th>\n",
       "      <td>2007</td>\n",
       "      <td>9485.00</td>\n",
       "      <td>2604.00</td>\n",
       "      <td>9200.00</td>\n",
       "      <td>2333.00</td>\n",
       "      <td>306.60</td>\n",
       "      <td>38.20</td>\n",
       "      <td>21.90</td>\n",
       "      <td>5.60</td>\n",
       "      <td>124.70</td>\n",
       "      <td>253.60</td>\n",
       "      <td>452.80</td>\n",
       "      <td>-284.70</td>\n",
       "      <td>-32.70</td>\n",
       "      <td>AUS</td>\n",
       "    </tr>\n",
       "    <tr>\n",
       "      <th>1</th>\n",
       "      <td>2008</td>\n",
       "      <td>10086.00</td>\n",
       "      <td>3181.00</td>\n",
       "      <td>9400.00</td>\n",
       "      <td>3041.00</td>\n",
       "      <td>705.80</td>\n",
       "      <td>77.30</td>\n",
       "      <td>20.10</td>\n",
       "      <td>6.50</td>\n",
       "      <td>109.60</td>\n",
       "      <td>323.50</td>\n",
       "      <td>472.60</td>\n",
       "      <td>﻿-685.6</td>\n",
       "      <td>﻿-70.8</td>\n",
       "      <td>AUS</td>\n",
       "    </tr>\n",
       "    <tr>\n",
       "      <th>2</th>\n",
       "      <td>2009</td>\n",
       "      <td>9615.00</td>\n",
       "      <td>2947.00</td>\n",
       "      <td>9200.00</td>\n",
       "      <td>2836.00</td>\n",
       "      <td>431.50</td>\n",
       "      <td>46.20</td>\n",
       "      <td>16.60</td>\n",
       "      <td>5.10</td>\n",
       "      <td>107.10</td>\n",
       "      <td>308.30</td>\n",
       "      <td>442.30</td>\n",
       "      <td>﻿-414 9</td>\n",
       "      <td>﻿-41.1</td>\n",
       "      <td>AUS</td>\n",
       "    </tr>\n",
       "    <tr>\n",
       "      <th>3</th>\n",
       "      <td>2010</td>\n",
       "      <td>9415.00</td>\n",
       "      <td>2986.00</td>\n",
       "      <td>9000.00</td>\n",
       "      <td>2940.00</td>\n",
       "      <td>442.40</td>\n",
       "      <td>51.60</td>\n",
       "      <td>27.30</td>\n",
       "      <td>8.90</td>\n",
       "      <td>116.70</td>\n",
       "      <td>326.60</td>\n",
       "      <td>425.60</td>\n",
       "      <td>﻿-415</td>\n",
       "      <td>﻿-42.7</td>\n",
       "      <td>AUS</td>\n",
       "    </tr>\n",
       "    <tr>\n",
       "      <th>4</th>\n",
       "      <td>2011</td>\n",
       "      <td>9106.00</td>\n",
       "      <td>3268.00</td>\n",
       "      <td>8600.00</td>\n",
       "      <td>3423.00</td>\n",
       "      <td>530.50</td>\n",
       "      <td>45.60</td>\n",
       "      <td>24.60</td>\n",
       "      <td>9.80</td>\n",
       "      <td>85.90</td>\n",
       "      <td>398.00</td>\n",
       "      <td>405.10</td>\n",
       "      <td>﻿-505.9</td>\n",
       "      <td>﻿-35.8</td>\n",
       "      <td>AUS</td>\n",
       "    </tr>\n",
       "    <tr>\n",
       "      <th>5</th>\n",
       "      <td>2012</td>\n",
       "      <td>9109.00</td>\n",
       "      <td>2954.00</td>\n",
       "      <td>8500.00</td>\n",
       "      <td>2879.00</td>\n",
       "      <td>629.00</td>\n",
       "      <td>51.20</td>\n",
       "      <td>20.60</td>\n",
       "      <td>7.00</td>\n",
       "      <td>81.40</td>\n",
       "      <td>338.80</td>\n",
       "      <td>399.10</td>\n",
       "      <td>﻿-608.5</td>\n",
       "      <td>﻿-44.2</td>\n",
       "      <td>AUS</td>\n",
       "    </tr>\n",
       "    <tr>\n",
       "      <th>6</th>\n",
       "      <td>2013</td>\n",
       "      <td>8810.00</td>\n",
       "      <td>2726.00</td>\n",
       "      <td>8400.00</td>\n",
       "      <td>2631.00</td>\n",
       "      <td>423.80</td>\n",
       "      <td>40.30</td>\n",
       "      <td>13.70</td>\n",
       "      <td>4.30</td>\n",
       "      <td>95.00</td>\n",
       "      <td>313.30</td>\n",
       "      <td>380.60</td>\n",
       "      <td>﻿-410.1</td>\n",
       "      <td>﻿-36</td>\n",
       "      <td>AUS</td>\n",
       "    </tr>\n",
       "    <tr>\n",
       "      <th>7</th>\n",
       "      <td>2014</td>\n",
       "      <td>9376.00</td>\n",
       "      <td>3648.00</td>\n",
       "      <td>9000.00</td>\n",
       "      <td>4047.00</td>\n",
       "      <td>383.20</td>\n",
       "      <td>40.70</td>\n",
       "      <td>71.00</td>\n",
       "      <td>3.20</td>\n",
       "      <td>106.30</td>\n",
       "      <td>449.60</td>\n",
       "      <td>399.40</td>\n",
       "      <td>﻿-376.1</td>\n",
       "      <td>﻿-37.6</td>\n",
       "      <td>AUS</td>\n",
       "    </tr>\n",
       "    <tr>\n",
       "      <th>8</th>\n",
       "      <td>2015</td>\n",
       "      <td>9395.00</td>\n",
       "      <td>2713.00</td>\n",
       "      <td>9100.00</td>\n",
       "      <td>2530.00</td>\n",
       "      <td>303.10</td>\n",
       "      <td>31.60</td>\n",
       "      <td>8.50</td>\n",
       "      <td>2.40</td>\n",
       "      <td>104.20</td>\n",
       "      <td>278.00</td>\n",
       "      <td>394.70</td>\n",
       "      <td>﻿-294.6</td>\n",
       "      <td>﻿-29.2</td>\n",
       "      <td>AUS</td>\n",
       "    </tr>\n",
       "  </tbody>\n",
       "</table>\n",
       "</div>"
      ],
      "text/plain": [
       "FACTOR  Year Consumption Volume Consumption Value Production Volume  \\\n",
       "0       2007            9485.00           2604.00           9200.00   \n",
       "1       2008           10086.00           3181.00           9400.00   \n",
       "2       2009            9615.00           2947.00           9200.00   \n",
       "3       2010            9415.00           2986.00           9000.00   \n",
       "4       2011            9106.00           3268.00           8600.00   \n",
       "5       2012            9109.00           2954.00           8500.00   \n",
       "6       2013            8810.00           2726.00           8400.00   \n",
       "7       2014            9376.00           3648.00           9000.00   \n",
       "8       2015            9395.00           2713.00           9100.00   \n",
       "\n",
       "FACTOR Production Value Import Volume Import Value Export Volume Export Value  \\\n",
       "0               2333.00        306.60        38.20         21.90         5.60   \n",
       "1               3041.00        705.80        77.30         20.10         6.50   \n",
       "2               2836.00        431.50        46.20         16.60         5.10   \n",
       "3               2940.00        442.40        51.60         27.30         8.90   \n",
       "4               3423.00        530.50        45.60         24.60         9.80   \n",
       "5               2879.00        629.00        51.20         20.60         7.00   \n",
       "6               2631.00        423.80        40.30         13.70         4.30   \n",
       "7               4047.00        383.20        40.70         71.00         3.20   \n",
       "8               2530.00        303.10        31.60          8.50         2.40   \n",
       "\n",
       "FACTOR Import Price Export Price Per Capita Consumption Net Export Volume  \\\n",
       "0            124.70       253.60                 452.80           -284.70   \n",
       "1            109.60       323.50                 472.60           ﻿-685.6   \n",
       "2            107.10       308.30                 442.30           ﻿-414 9   \n",
       "3            116.70       326.60                 425.60             ﻿-415   \n",
       "4             85.90       398.00                 405.10           ﻿-505.9   \n",
       "5             81.40       338.80                 399.10           ﻿-608.5   \n",
       "6             95.00       313.30                 380.60           ﻿-410.1   \n",
       "7            106.30       449.60                 399.40           ﻿-376.1   \n",
       "8            104.20       278.00                 394.70           ﻿-294.6   \n",
       "\n",
       "FACTOR Net Export Value Code  \n",
       "0                -32.70  AUS  \n",
       "1                ﻿-70.8  AUS  \n",
       "2                ﻿-41.1  AUS  \n",
       "3                ﻿-42.7  AUS  \n",
       "4                ﻿-35.8  AUS  \n",
       "5                ﻿-44.2  AUS  \n",
       "6                  ﻿-36  AUS  \n",
       "7                ﻿-37.6  AUS  \n",
       "8                ﻿-29.2  AUS  "
      ]
     },
     "execution_count": 41,
     "metadata": {},
     "output_type": "execute_result"
    }
   ],
   "source": [
    "# Australia cement data\n",
    "\n",
    "australia_cement = cement_df(country=\"Australia\", new_df=\"australia_cement\", original_df=cement_data)\n",
    "australia_cement[\"Code\"] = \"AUS\"\n",
    "australia_cement"
   ]
  },
  {
   "cell_type": "code",
   "execution_count": 42,
   "id": "79b09d4c",
   "metadata": {},
   "outputs": [
    {
     "data": {
      "text/html": [
       "<div>\n",
       "<style scoped>\n",
       "    .dataframe tbody tr th:only-of-type {\n",
       "        vertical-align: middle;\n",
       "    }\n",
       "\n",
       "    .dataframe tbody tr th {\n",
       "        vertical-align: top;\n",
       "    }\n",
       "\n",
       "    .dataframe thead th {\n",
       "        text-align: right;\n",
       "    }\n",
       "</style>\n",
       "<table border=\"1\" class=\"dataframe\">\n",
       "  <thead>\n",
       "    <tr style=\"text-align: right;\">\n",
       "      <th>FACTOR</th>\n",
       "      <th>Year</th>\n",
       "      <th>Consumption Volume</th>\n",
       "      <th>Consumption Value</th>\n",
       "      <th>Production Volume</th>\n",
       "      <th>Production Value</th>\n",
       "      <th>Import Volume</th>\n",
       "      <th>Import Value</th>\n",
       "      <th>Export Volume</th>\n",
       "      <th>Export Value</th>\n",
       "      <th>Import Price</th>\n",
       "      <th>Export Price</th>\n",
       "      <th>Per Capita Consumption</th>\n",
       "      <th>Net Export Volume</th>\n",
       "      <th>Net Export Value</th>\n",
       "      <th>Code</th>\n",
       "    </tr>\n",
       "  </thead>\n",
       "  <tbody>\n",
       "    <tr>\n",
       "      <th>0</th>\n",
       "      <td>2007</td>\n",
       "      <td>37076.00</td>\n",
       "      <td>3976.00</td>\n",
       "      <td>37102.00</td>\n",
       "      <td>4297.00</td>\n",
       "      <td>63.50</td>\n",
       "      <td>7.30</td>\n",
       "      <td>89.40</td>\n",
       "      <td>10.40</td>\n",
       "      <td>115.20</td>\n",
       "      <td>115.80</td>\n",
       "      <td>431.70</td>\n",
       "      <td>25.90</td>\n",
       "      <td>3.00</td>\n",
       "      <td>VNM</td>\n",
       "    </tr>\n",
       "    <tr>\n",
       "      <th>1</th>\n",
       "      <td>2008</td>\n",
       "      <td>40032.00</td>\n",
       "      <td>3958.00</td>\n",
       "      <td>40009.00</td>\n",
       "      <td>4209.00</td>\n",
       "      <td>115.40</td>\n",
       "      <td>12.20</td>\n",
       "      <td>92.70</td>\n",
       "      <td>9.70</td>\n",
       "      <td>105.80</td>\n",
       "      <td>105.20</td>\n",
       "      <td>461.70</td>\n",
       "      <td>﻿-22.7</td>\n",
       "      <td>﻿-2.5</td>\n",
       "      <td>VNM</td>\n",
       "    </tr>\n",
       "    <tr>\n",
       "      <th>2</th>\n",
       "      <td>2009</td>\n",
       "      <td>47930.00</td>\n",
       "      <td>4389.00</td>\n",
       "      <td>47900.00</td>\n",
       "      <td>4596.00</td>\n",
       "      <td>123.50</td>\n",
       "      <td>15.60</td>\n",
       "      <td>94.00</td>\n",
       "      <td>9.00</td>\n",
       "      <td>126.60</td>\n",
       "      <td>95.90</td>\n",
       "      <td>547.40</td>\n",
       "      <td>﻿-29.5</td>\n",
       "      <td>﻿-6.6</td>\n",
       "      <td>VNM</td>\n",
       "    </tr>\n",
       "    <tr>\n",
       "      <th>3</th>\n",
       "      <td>2010</td>\n",
       "      <td>55599.00</td>\n",
       "      <td>4804.00</td>\n",
       "      <td>55801.00</td>\n",
       "      <td>4987.00</td>\n",
       "      <td>92.60</td>\n",
       "      <td>11.50</td>\n",
       "      <td>294.50</td>\n",
       "      <td>26.30</td>\n",
       "      <td>124.30</td>\n",
       "      <td>89.40</td>\n",
       "      <td>628.40</td>\n",
       "      <td>201.90</td>\n",
       "      <td>14.80</td>\n",
       "      <td>VNM</td>\n",
       "    </tr>\n",
       "    <tr>\n",
       "      <th>4</th>\n",
       "      <td>2011</td>\n",
       "      <td>57914.00</td>\n",
       "      <td>4816.00</td>\n",
       "      <td>58271.00</td>\n",
       "      <td>4967.00</td>\n",
       "      <td>73.60</td>\n",
       "      <td>9.90</td>\n",
       "      <td>430.40</td>\n",
       "      <td>36.70</td>\n",
       "      <td>135.10</td>\n",
       "      <td>85.20</td>\n",
       "      <td>647.50</td>\n",
       "      <td>356.80</td>\n",
       "      <td>26.70</td>\n",
       "      <td>VNM</td>\n",
       "    </tr>\n",
       "    <tr>\n",
       "      <th>5</th>\n",
       "      <td>2012</td>\n",
       "      <td>55187.00</td>\n",
       "      <td>3663.00</td>\n",
       "      <td>56353.00</td>\n",
       "      <td>3603.00</td>\n",
       "      <td>52.00</td>\n",
       "      <td>5.60</td>\n",
       "      <td>1218.00</td>\n",
       "      <td>77.90</td>\n",
       "      <td>107.90</td>\n",
       "      <td>63.90</td>\n",
       "      <td>610.10</td>\n",
       "      <td>1166.00</td>\n",
       "      <td>72.30</td>\n",
       "      <td>VNM</td>\n",
       "    </tr>\n",
       "    <tr>\n",
       "      <th>6</th>\n",
       "      <td>2013</td>\n",
       "      <td>54111.00</td>\n",
       "      <td>4205.00</td>\n",
       "      <td>57516.00</td>\n",
       "      <td>4505.00</td>\n",
       "      <td>31.40</td>\n",
       "      <td>4.00</td>\n",
       "      <td>3437.00</td>\n",
       "      <td>269.20</td>\n",
       "      <td>125.90</td>\n",
       "      <td>78.30</td>\n",
       "      <td>591.40</td>\n",
       "      <td>3405.00</td>\n",
       "      <td>265.20</td>\n",
       "      <td>VNM</td>\n",
       "    </tr>\n",
       "    <tr>\n",
       "      <th>7</th>\n",
       "      <td>2014</td>\n",
       "      <td>57183.00</td>\n",
       "      <td>4356.00</td>\n",
       "      <td>60982.00</td>\n",
       "      <td>4658.00</td>\n",
       "      <td>34.40</td>\n",
       "      <td>6.50</td>\n",
       "      <td>3834.00</td>\n",
       "      <td>292.80</td>\n",
       "      <td>188.50</td>\n",
       "      <td>76.40</td>\n",
       "      <td>617.90</td>\n",
       "      <td>3799.00</td>\n",
       "      <td>286.30</td>\n",
       "      <td>VNM</td>\n",
       "    </tr>\n",
       "    <tr>\n",
       "      <th>8</th>\n",
       "      <td>2015</td>\n",
       "      <td>64521.00</td>\n",
       "      <td>5004.00</td>\n",
       "      <td>67427.00</td>\n",
       "      <td>5269.00</td>\n",
       "      <td>36.50</td>\n",
       "      <td>5.20</td>\n",
       "      <td>2942.00</td>\n",
       "      <td>229.90</td>\n",
       "      <td>141.90</td>\n",
       "      <td>78.10</td>\n",
       "      <td>689.50</td>\n",
       "      <td>2906.00</td>\n",
       "      <td>224.70</td>\n",
       "      <td>VNM</td>\n",
       "    </tr>\n",
       "  </tbody>\n",
       "</table>\n",
       "</div>"
      ],
      "text/plain": [
       "FACTOR  Year Consumption Volume Consumption Value Production Volume  \\\n",
       "0       2007           37076.00           3976.00          37102.00   \n",
       "1       2008           40032.00           3958.00          40009.00   \n",
       "2       2009           47930.00           4389.00          47900.00   \n",
       "3       2010           55599.00           4804.00          55801.00   \n",
       "4       2011           57914.00           4816.00          58271.00   \n",
       "5       2012           55187.00           3663.00          56353.00   \n",
       "6       2013           54111.00           4205.00          57516.00   \n",
       "7       2014           57183.00           4356.00          60982.00   \n",
       "8       2015           64521.00           5004.00          67427.00   \n",
       "\n",
       "FACTOR Production Value Import Volume Import Value Export Volume Export Value  \\\n",
       "0               4297.00         63.50         7.30         89.40        10.40   \n",
       "1               4209.00        115.40        12.20         92.70         9.70   \n",
       "2               4596.00        123.50        15.60         94.00         9.00   \n",
       "3               4987.00         92.60        11.50        294.50        26.30   \n",
       "4               4967.00         73.60         9.90        430.40        36.70   \n",
       "5               3603.00         52.00         5.60       1218.00        77.90   \n",
       "6               4505.00         31.40         4.00       3437.00       269.20   \n",
       "7               4658.00         34.40         6.50       3834.00       292.80   \n",
       "8               5269.00         36.50         5.20       2942.00       229.90   \n",
       "\n",
       "FACTOR Import Price Export Price Per Capita Consumption Net Export Volume  \\\n",
       "0            115.20       115.80                 431.70             25.90   \n",
       "1            105.80       105.20                 461.70            ﻿-22.7   \n",
       "2            126.60        95.90                 547.40            ﻿-29.5   \n",
       "3            124.30        89.40                 628.40            201.90   \n",
       "4            135.10        85.20                 647.50            356.80   \n",
       "5            107.90        63.90                 610.10           1166.00   \n",
       "6            125.90        78.30                 591.40           3405.00   \n",
       "7            188.50        76.40                 617.90           3799.00   \n",
       "8            141.90        78.10                 689.50           2906.00   \n",
       "\n",
       "FACTOR Net Export Value Code  \n",
       "0                  3.00  VNM  \n",
       "1                 ﻿-2.5  VNM  \n",
       "2                 ﻿-6.6  VNM  \n",
       "3                 14.80  VNM  \n",
       "4                 26.70  VNM  \n",
       "5                 72.30  VNM  \n",
       "6                265.20  VNM  \n",
       "7                286.30  VNM  \n",
       "8                224.70  VNM  "
      ]
     },
     "execution_count": 42,
     "metadata": {},
     "output_type": "execute_result"
    }
   ],
   "source": [
    "# Vietnam cement data\n",
    "\n",
    "vietnam_cement = cement_df(country=\"Vietnam\", new_df=\"vietnam_cement\", original_df=cement_data)\n",
    "vietnam_cement[\"Code\"] = \"VNM\"\n",
    "vietnam_cement"
   ]
  },
  {
   "cell_type": "code",
   "execution_count": 43,
   "id": "60b19258",
   "metadata": {},
   "outputs": [
    {
     "data": {
      "text/html": [
       "<div>\n",
       "<style scoped>\n",
       "    .dataframe tbody tr th:only-of-type {\n",
       "        vertical-align: middle;\n",
       "    }\n",
       "\n",
       "    .dataframe tbody tr th {\n",
       "        vertical-align: top;\n",
       "    }\n",
       "\n",
       "    .dataframe thead th {\n",
       "        text-align: right;\n",
       "    }\n",
       "</style>\n",
       "<table border=\"1\" class=\"dataframe\">\n",
       "  <thead>\n",
       "    <tr style=\"text-align: right;\">\n",
       "      <th>FACTOR</th>\n",
       "      <th>Year</th>\n",
       "      <th>Consumption Volume</th>\n",
       "      <th>Consumption Value</th>\n",
       "      <th>Production Volume</th>\n",
       "      <th>Production Value</th>\n",
       "      <th>Import Volume</th>\n",
       "      <th>Import Value</th>\n",
       "      <th>Export Volume</th>\n",
       "      <th>Export Value</th>\n",
       "      <th>Import Price</th>\n",
       "      <th>Export Price</th>\n",
       "      <th>Per Capita Consumption</th>\n",
       "      <th>Net Export Volume</th>\n",
       "      <th>Net Export Value</th>\n",
       "      <th>Code</th>\n",
       "    </tr>\n",
       "  </thead>\n",
       "  <tbody>\n",
       "    <tr>\n",
       "      <th>0</th>\n",
       "      <td>2007</td>\n",
       "      <td>58919</td>\n",
       "      <td>160.5</td>\n",
       "      <td>63705</td>\n",
       "      <td>138.6</td>\n",
       "      <td>1154</td>\n",
       "      <td>61.8</td>\n",
       "      <td>5940</td>\n",
       "      <td>174.4</td>\n",
       "      <td>53.6</td>\n",
       "      <td>29.4</td>\n",
       "      <td>458.5</td>\n",
       "      <td>4786</td>\n",
       "      <td>112.6</td>\n",
       "      <td>JPN</td>\n",
       "    </tr>\n",
       "    <tr>\n",
       "      <th>1</th>\n",
       "      <td>2008</td>\n",
       "      <td>57460</td>\n",
       "      <td>180.1</td>\n",
       "      <td>62810</td>\n",
       "      <td>170</td>\n",
       "      <td>935.4</td>\n",
       "      <td>61.5</td>\n",
       "      <td>6285</td>\n",
       "      <td>204.7</td>\n",
       "      <td>65.8</td>\n",
       "      <td>32.6</td>\n",
       "      <td>447</td>\n",
       "      <td>5350</td>\n",
       "      <td>143.2</td>\n",
       "      <td>JPN</td>\n",
       "    </tr>\n",
       "    <tr>\n",
       "      <th>2</th>\n",
       "      <td>2009</td>\n",
       "      <td>49529</td>\n",
       "      <td>184.9</td>\n",
       "      <td>54800</td>\n",
       "      <td>190.9</td>\n",
       "      <td>827.2</td>\n",
       "      <td>62.2</td>\n",
       "      <td>6099</td>\n",
       "      <td>215.9</td>\n",
       "      <td>75.2</td>\n",
       "      <td>35.4</td>\n",
       "      <td>385.2</td>\n",
       "      <td>5271</td>\n",
       "      <td>153.7</td>\n",
       "      <td>JPN</td>\n",
       "    </tr>\n",
       "    <tr>\n",
       "      <th>3</th>\n",
       "      <td>2010</td>\n",
       "      <td>46756</td>\n",
       "      <td>191.6</td>\n",
       "      <td>51526</td>\n",
       "      <td>203.8</td>\n",
       "      <td>628.9</td>\n",
       "      <td>56.5</td>\n",
       "      <td>5399</td>\n",
       "      <td>175.8</td>\n",
       "      <td>89.8</td>\n",
       "      <td>32.6</td>\n",
       "      <td>363.7</td>\n",
       "      <td>4770</td>\n",
       "      <td>119.3</td>\n",
       "      <td>JPN</td>\n",
       "    </tr>\n",
       "    <tr>\n",
       "      <th>4</th>\n",
       "      <td>2011</td>\n",
       "      <td>47096</td>\n",
       "      <td>244.9</td>\n",
       "      <td>51291</td>\n",
       "      <td>276.3</td>\n",
       "      <td>729.4</td>\n",
       "      <td>70.1</td>\n",
       "      <td>4924</td>\n",
       "      <td>165.7</td>\n",
       "      <td>96.1</td>\n",
       "      <td>33.7</td>\n",
       "      <td>366.5</td>\n",
       "      <td>4195</td>\n",
       "      <td>95.6</td>\n",
       "      <td>JPN</td>\n",
       "    </tr>\n",
       "    <tr>\n",
       "      <th>5</th>\n",
       "      <td>2012</td>\n",
       "      <td>50175</td>\n",
       "      <td>250.7</td>\n",
       "      <td>54737</td>\n",
       "      <td>280.4</td>\n",
       "      <td>846.4</td>\n",
       "      <td>79.1</td>\n",
       "      <td>5409</td>\n",
       "      <td>203.1</td>\n",
       "      <td>93.4</td>\n",
       "      <td>37.5</td>\n",
       "      <td>390.7</td>\n",
       "      <td>4562</td>\n",
       "      <td>124</td>\n",
       "      <td>JPN</td>\n",
       "    </tr>\n",
       "    <tr>\n",
       "      <th>6</th>\n",
       "      <td>2013</td>\n",
       "      <td>53572</td>\n",
       "      <td>229.6</td>\n",
       "      <td>57962</td>\n",
       "      <td>243.5</td>\n",
       "      <td>828</td>\n",
       "      <td>68.8</td>\n",
       "      <td>5218</td>\n",
       "      <td>203.7</td>\n",
       "      <td>83</td>\n",
       "      <td>39</td>\n",
       "      <td>417.5</td>\n",
       "      <td>4390</td>\n",
       "      <td>134.9</td>\n",
       "      <td>JPN</td>\n",
       "    </tr>\n",
       "    <tr>\n",
       "      <th>7</th>\n",
       "      <td>2014</td>\n",
       "      <td>53284</td>\n",
       "      <td>229.2</td>\n",
       "      <td>57913</td>\n",
       "      <td>244.4</td>\n",
       "      <td>609</td>\n",
       "      <td>56.1</td>\n",
       "      <td>5238</td>\n",
       "      <td>214.8</td>\n",
       "      <td>92.2</td>\n",
       "      <td>41</td>\n",
       "      <td>415.8</td>\n",
       "      <td>4629</td>\n",
       "      <td>158.6</td>\n",
       "      <td>JPN</td>\n",
       "    </tr>\n",
       "    <tr>\n",
       "      <th>8</th>\n",
       "      <td>2015</td>\n",
       "      <td>49441</td>\n",
       "      <td>214.1</td>\n",
       "      <td>54827</td>\n",
       "      <td>233.5</td>\n",
       "      <td>393.7</td>\n",
       "      <td>39.8</td>\n",
       "      <td>5779</td>\n",
       "      <td>235.8</td>\n",
       "      <td>101.1</td>\n",
       "      <td>40.8</td>\n",
       "      <td>386.3</td>\n",
       "      <td>5386</td>\n",
       "      <td>196</td>\n",
       "      <td>JPN</td>\n",
       "    </tr>\n",
       "  </tbody>\n",
       "</table>\n",
       "</div>"
      ],
      "text/plain": [
       "FACTOR  Year Consumption Volume Consumption Value Production Volume  \\\n",
       "0       2007              58919             160.5             63705   \n",
       "1       2008              57460             180.1             62810   \n",
       "2       2009              49529             184.9             54800   \n",
       "3       2010              46756             191.6             51526   \n",
       "4       2011              47096             244.9             51291   \n",
       "5       2012              50175             250.7             54737   \n",
       "6       2013              53572             229.6             57962   \n",
       "7       2014              53284             229.2             57913   \n",
       "8       2015              49441             214.1             54827   \n",
       "\n",
       "FACTOR Production Value Import Volume Import Value Export Volume Export Value  \\\n",
       "0                 138.6          1154         61.8          5940        174.4   \n",
       "1                   170         935.4         61.5          6285        204.7   \n",
       "2                 190.9         827.2         62.2          6099        215.9   \n",
       "3                 203.8         628.9         56.5          5399        175.8   \n",
       "4                 276.3         729.4         70.1          4924        165.7   \n",
       "5                 280.4         846.4         79.1          5409        203.1   \n",
       "6                 243.5           828         68.8          5218        203.7   \n",
       "7                 244.4           609         56.1          5238        214.8   \n",
       "8                 233.5         393.7         39.8          5779        235.8   \n",
       "\n",
       "FACTOR Import Price Export Price Per Capita Consumption Net Export Volume  \\\n",
       "0              53.6         29.4                  458.5              4786   \n",
       "1              65.8         32.6                    447              5350   \n",
       "2              75.2         35.4                  385.2              5271   \n",
       "3              89.8         32.6                  363.7              4770   \n",
       "4              96.1         33.7                  366.5              4195   \n",
       "5              93.4         37.5                  390.7              4562   \n",
       "6                83           39                  417.5              4390   \n",
       "7              92.2           41                  415.8              4629   \n",
       "8             101.1         40.8                  386.3              5386   \n",
       "\n",
       "FACTOR Net Export Value Code  \n",
       "0                 112.6  JPN  \n",
       "1                 143.2  JPN  \n",
       "2                 153.7  JPN  \n",
       "3                 119.3  JPN  \n",
       "4                  95.6  JPN  \n",
       "5                   124  JPN  \n",
       "6                 134.9  JPN  \n",
       "7                 158.6  JPN  \n",
       "8                   196  JPN  "
      ]
     },
     "execution_count": 43,
     "metadata": {},
     "output_type": "execute_result"
    }
   ],
   "source": [
    "# Japan cement data\n",
    "\n",
    "japan_cement = cement_df(country=\"Japan\", new_df=\"japan_cement\", original_df=cement_data)\n",
    "japan_cement[\"Code\"] = \"JPN\"\n",
    "japan_cement"
   ]
  },
  {
   "cell_type": "code",
   "execution_count": 44,
   "id": "cf0d0f12",
   "metadata": {},
   "outputs": [
    {
     "data": {
      "text/html": [
       "<div>\n",
       "<style scoped>\n",
       "    .dataframe tbody tr th:only-of-type {\n",
       "        vertical-align: middle;\n",
       "    }\n",
       "\n",
       "    .dataframe tbody tr th {\n",
       "        vertical-align: top;\n",
       "    }\n",
       "\n",
       "    .dataframe thead th {\n",
       "        text-align: right;\n",
       "    }\n",
       "</style>\n",
       "<table border=\"1\" class=\"dataframe\">\n",
       "  <thead>\n",
       "    <tr style=\"text-align: right;\">\n",
       "      <th>FACTOR</th>\n",
       "      <th>Year</th>\n",
       "      <th>Consumption Volume</th>\n",
       "      <th>Consumption Value</th>\n",
       "      <th>Production Volume</th>\n",
       "      <th>Production Value</th>\n",
       "      <th>Import Volume</th>\n",
       "      <th>Import Value</th>\n",
       "      <th>Export Volume</th>\n",
       "      <th>Export Value</th>\n",
       "      <th>Import Price</th>\n",
       "      <th>Export Price</th>\n",
       "      <th>Per Capita Consumption</th>\n",
       "      <th>Net Export Volume</th>\n",
       "      <th>Net Export Value</th>\n",
       "      <th>Code</th>\n",
       "    </tr>\n",
       "  </thead>\n",
       "  <tbody>\n",
       "    <tr>\n",
       "      <th>0</th>\n",
       "      <td>2007</td>\n",
       "      <td>40989</td>\n",
       "      <td>2185</td>\n",
       "      <td>41000</td>\n",
       "      <td>1588</td>\n",
       "      <td>64.2</td>\n",
       "      <td>5.2</td>\n",
       "      <td>75.3</td>\n",
       "      <td>6.9</td>\n",
       "      <td>81.5</td>\n",
       "      <td>91.9</td>\n",
       "      <td>569</td>\n",
       "      <td>11.1</td>\n",
       "      <td>1.7</td>\n",
       "      <td>IRN</td>\n",
       "    </tr>\n",
       "    <tr>\n",
       "      <th>1</th>\n",
       "      <td>2008</td>\n",
       "      <td>44356</td>\n",
       "      <td>2775</td>\n",
       "      <td>44400</td>\n",
       "      <td>2233</td>\n",
       "      <td>37.6</td>\n",
       "      <td>3.7</td>\n",
       "      <td>81.4</td>\n",
       "      <td>7.9</td>\n",
       "      <td>97.6</td>\n",
       "      <td>97.2</td>\n",
       "      <td>608.9</td>\n",
       "      <td>43.8</td>\n",
       "      <td>4.2</td>\n",
       "      <td>IRN</td>\n",
       "    </tr>\n",
       "    <tr>\n",
       "      <th>2</th>\n",
       "      <td>2009</td>\n",
       "      <td>49369</td>\n",
       "      <td>3124</td>\n",
       "      <td>50000</td>\n",
       "      <td>2559</td>\n",
       "      <td>9</td>\n",
       "      <td>2</td>\n",
       "      <td>640.5</td>\n",
       "      <td>49</td>\n",
       "      <td>225.8</td>\n",
       "      <td>76.4</td>\n",
       "      <td>670</td>\n",
       "      <td>631.5</td>\n",
       "      <td>46.9</td>\n",
       "      <td>IRN</td>\n",
       "    </tr>\n",
       "    <tr>\n",
       "      <th>3</th>\n",
       "      <td>2010</td>\n",
       "      <td>48709</td>\n",
       "      <td>3337</td>\n",
       "      <td>50000</td>\n",
       "      <td>2885</td>\n",
       "      <td>7.8</td>\n",
       "      <td>2.7</td>\n",
       "      <td>1298</td>\n",
       "      <td>99.4</td>\n",
       "      <td>343</td>\n",
       "      <td>76.5</td>\n",
       "      <td>653.2</td>\n",
       "      <td>1291</td>\n",
       "      <td>96.7</td>\n",
       "      <td>IRN</td>\n",
       "    </tr>\n",
       "    <tr>\n",
       "      <th>4</th>\n",
       "      <td>2011</td>\n",
       "      <td>65043</td>\n",
       "      <td>4129</td>\n",
       "      <td>66000</td>\n",
       "      <td>3394</td>\n",
       "      <td>9</td>\n",
       "      <td>7</td>\n",
       "      <td>965.9</td>\n",
       "      <td>60.4</td>\n",
       "      <td>773.8</td>\n",
       "      <td>62.5</td>\n",
       "      <td>861.6</td>\n",
       "      <td>956.9</td>\n",
       "      <td>53.4</td>\n",
       "      <td>IRN</td>\n",
       "    </tr>\n",
       "    <tr>\n",
       "      <th>5</th>\n",
       "      <td>2012</td>\n",
       "      <td>69023</td>\n",
       "      <td>4610</td>\n",
       "      <td>70250</td>\n",
       "      <td>3903</td>\n",
       "      <td>31.7</td>\n",
       "      <td>6</td>\n",
       "      <td>1258</td>\n",
       "      <td>78.7</td>\n",
       "      <td>189.3</td>\n",
       "      <td>62.5</td>\n",
       "      <td>902.8</td>\n",
       "      <td>1227</td>\n",
       "      <td>72.7</td>\n",
       "      <td>IRN</td>\n",
       "    </tr>\n",
       "    <tr>\n",
       "      <th>6</th>\n",
       "      <td>2013</td>\n",
       "      <td>66773</td>\n",
       "      <td>4984</td>\n",
       "      <td>68700</td>\n",
       "      <td>4489</td>\n",
       "      <td>41.1</td>\n",
       "      <td>13.6</td>\n",
       "      <td>1968</td>\n",
       "      <td>117.2</td>\n",
       "      <td>330.6</td>\n",
       "      <td>59.6</td>\n",
       "      <td>862.3</td>\n",
       "      <td>1927</td>\n",
       "      <td>103.7</td>\n",
       "      <td>IRN</td>\n",
       "    </tr>\n",
       "    <tr>\n",
       "      <th>7</th>\n",
       "      <td>2014</td>\n",
       "      <td>62749</td>\n",
       "      <td>5290</td>\n",
       "      <td>66700</td>\n",
       "      <td>5162</td>\n",
       "      <td>47.9</td>\n",
       "      <td>10.8</td>\n",
       "      <td>3999</td>\n",
       "      <td>297.8</td>\n",
       "      <td>225.8</td>\n",
       "      <td>74.5</td>\n",
       "      <td>800.3</td>\n",
       "      <td>3951</td>\n",
       "      <td>286.9</td>\n",
       "      <td>IRN</td>\n",
       "    </tr>\n",
       "    <tr>\n",
       "      <th>8</th>\n",
       "      <td>2015</td>\n",
       "      <td>49749</td>\n",
       "      <td>5148</td>\n",
       "      <td>58600</td>\n",
       "      <td>5936</td>\n",
       "      <td>31.2</td>\n",
       "      <td>8.6</td>\n",
       "      <td>8883</td>\n",
       "      <td>530.6</td>\n",
       "      <td>275.3</td>\n",
       "      <td>59.7</td>\n",
       "      <td>626.9</td>\n",
       "      <td>8851</td>\n",
       "      <td>522</td>\n",
       "      <td>IRN</td>\n",
       "    </tr>\n",
       "  </tbody>\n",
       "</table>\n",
       "</div>"
      ],
      "text/plain": [
       "FACTOR  Year Consumption Volume Consumption Value Production Volume  \\\n",
       "0       2007              40989              2185             41000   \n",
       "1       2008              44356              2775             44400   \n",
       "2       2009              49369              3124             50000   \n",
       "3       2010              48709              3337             50000   \n",
       "4       2011              65043              4129             66000   \n",
       "5       2012              69023              4610             70250   \n",
       "6       2013              66773              4984             68700   \n",
       "7       2014              62749              5290             66700   \n",
       "8       2015              49749              5148             58600   \n",
       "\n",
       "FACTOR Production Value Import Volume Import Value Export Volume Export Value  \\\n",
       "0                  1588          64.2          5.2          75.3          6.9   \n",
       "1                  2233          37.6          3.7          81.4          7.9   \n",
       "2                  2559             9            2         640.5           49   \n",
       "3                  2885           7.8          2.7          1298         99.4   \n",
       "4                  3394             9            7         965.9         60.4   \n",
       "5                  3903          31.7            6          1258         78.7   \n",
       "6                  4489          41.1         13.6          1968        117.2   \n",
       "7                  5162          47.9         10.8          3999        297.8   \n",
       "8                  5936          31.2          8.6          8883        530.6   \n",
       "\n",
       "FACTOR Import Price Export Price Per Capita Consumption Net Export Volume  \\\n",
       "0              81.5         91.9                    569              11.1   \n",
       "1              97.6         97.2                  608.9              43.8   \n",
       "2             225.8         76.4                    670             631.5   \n",
       "3               343         76.5                  653.2              1291   \n",
       "4             773.8         62.5                  861.6             956.9   \n",
       "5             189.3         62.5                  902.8              1227   \n",
       "6             330.6         59.6                  862.3              1927   \n",
       "7             225.8         74.5                  800.3              3951   \n",
       "8             275.3         59.7                  626.9              8851   \n",
       "\n",
       "FACTOR Net Export Value Code  \n",
       "0                   1.7  IRN  \n",
       "1                   4.2  IRN  \n",
       "2                  46.9  IRN  \n",
       "3                  96.7  IRN  \n",
       "4                  53.4  IRN  \n",
       "5                  72.7  IRN  \n",
       "6                 103.7  IRN  \n",
       "7                 286.9  IRN  \n",
       "8                   522  IRN  "
      ]
     },
     "execution_count": 44,
     "metadata": {},
     "output_type": "execute_result"
    }
   ],
   "source": [
    "# Iran cement data\n",
    "\n",
    "iran_cement = cement_df(country=\"Iran\", new_df=\"iran_cement\", original_df=cement_data)\n",
    "iran_cement[\"Code\"] = \"IRN\"\n",
    "iran_cement"
   ]
  },
  {
   "cell_type": "markdown",
   "id": "0cf966b8",
   "metadata": {},
   "source": [
    "### Plotting charts"
   ]
  },
  {
   "cell_type": "code",
   "execution_count": 45,
   "id": "ad5a6877",
   "metadata": {
    "scrolled": true
   },
   "outputs": [
    {
     "data": {
      "text/html": [
       "<div>\n",
       "<style scoped>\n",
       "    .dataframe tbody tr th:only-of-type {\n",
       "        vertical-align: middle;\n",
       "    }\n",
       "\n",
       "    .dataframe tbody tr th {\n",
       "        vertical-align: top;\n",
       "    }\n",
       "\n",
       "    .dataframe thead th {\n",
       "        text-align: right;\n",
       "    }\n",
       "</style>\n",
       "<table border=\"1\" class=\"dataframe\">\n",
       "  <thead>\n",
       "    <tr style=\"text-align: right;\">\n",
       "      <th>FACTOR</th>\n",
       "      <th>Year</th>\n",
       "      <th>Consumption Volume</th>\n",
       "      <th>Consumption Value</th>\n",
       "      <th>Production Volume</th>\n",
       "      <th>Production Value</th>\n",
       "      <th>Import Volume</th>\n",
       "      <th>Import Value</th>\n",
       "      <th>Export Volume</th>\n",
       "      <th>Export Value</th>\n",
       "      <th>Import Price</th>\n",
       "      <th>Export Price</th>\n",
       "      <th>Per Capita Consumption</th>\n",
       "      <th>Net Export Volume</th>\n",
       "      <th>Net Export Value</th>\n",
       "      <th>Code</th>\n",
       "    </tr>\n",
       "  </thead>\n",
       "  <tbody>\n",
       "    <tr>\n",
       "      <th>0</th>\n",
       "      <td>2007</td>\n",
       "      <td>3563.00</td>\n",
       "      <td>264.30</td>\n",
       "      <td>4003.00</td>\n",
       "      <td>146.70</td>\n",
       "      <td>684.40</td>\n",
       "      <td>65.50</td>\n",
       "      <td>1124.00</td>\n",
       "      <td>105.50</td>\n",
       "      <td>95.70</td>\n",
       "      <td>93.90</td>\n",
       "      <td>810.10</td>\n",
       "      <td>439.60</td>\n",
       "      <td>40.00</td>\n",
       "      <td>IRL</td>\n",
       "    </tr>\n",
       "    <tr>\n",
       "      <th>1</th>\n",
       "      <td>2008</td>\n",
       "      <td>3489.00</td>\n",
       "      <td>267.40</td>\n",
       "      <td>3900.00</td>\n",
       "      <td>160.20</td>\n",
       "      <td>735.40</td>\n",
       "      <td>65.40</td>\n",
       "      <td>1146.00</td>\n",
       "      <td>112.00</td>\n",
       "      <td>88.90</td>\n",
       "      <td>97.70</td>\n",
       "      <td>777.20</td>\n",
       "      <td>410.80</td>\n",
       "      <td>46.60</td>\n",
       "      <td>IRL</td>\n",
       "    </tr>\n",
       "    <tr>\n",
       "      <th>2</th>\n",
       "      <td>2009</td>\n",
       "      <td>1748.00</td>\n",
       "      <td>159.10</td>\n",
       "      <td>2600.00</td>\n",
       "      <td>175.10</td>\n",
       "      <td>204.10</td>\n",
       "      <td>23.00</td>\n",
       "      <td>1056.00</td>\n",
       "      <td>101.90</td>\n",
       "      <td>112.60</td>\n",
       "      <td>96.50</td>\n",
       "      <td>382.60</td>\n",
       "      <td>852.00</td>\n",
       "      <td>78.90</td>\n",
       "      <td>IRL</td>\n",
       "    </tr>\n",
       "    <tr>\n",
       "      <th>3</th>\n",
       "      <td>2010</td>\n",
       "      <td>1704.00</td>\n",
       "      <td>160.80</td>\n",
       "      <td>2600.00</td>\n",
       "      <td>191.30</td>\n",
       "      <td>138.70</td>\n",
       "      <td>13.90</td>\n",
       "      <td>1035.00</td>\n",
       "      <td>104.70</td>\n",
       "      <td>99.90</td>\n",
       "      <td>101.20</td>\n",
       "      <td>368.20</td>\n",
       "      <td>896.50</td>\n",
       "      <td>90.90</td>\n",
       "      <td>IRL</td>\n",
       "    </tr>\n",
       "    <tr>\n",
       "      <th>4</th>\n",
       "      <td>2011</td>\n",
       "      <td>1263.00</td>\n",
       "      <td>137.10</td>\n",
       "      <td>2103.00</td>\n",
       "      <td>209.00</td>\n",
       "      <td>104.30</td>\n",
       "      <td>10.90</td>\n",
       "      <td>944.60</td>\n",
       "      <td>94.00</td>\n",
       "      <td>104.60</td>\n",
       "      <td>99.50</td>\n",
       "      <td>270.80</td>\n",
       "      <td>840.30</td>\n",
       "      <td>83.10</td>\n",
       "      <td>IRL</td>\n",
       "    </tr>\n",
       "    <tr>\n",
       "      <th>5</th>\n",
       "      <td>2012</td>\n",
       "      <td>48.40</td>\n",
       "      <td>7.70</td>\n",
       "      <td>1198.00</td>\n",
       "      <td>228.40</td>\n",
       "      <td>90.70</td>\n",
       "      <td>10.70</td>\n",
       "      <td>1240.00</td>\n",
       "      <td>111.20</td>\n",
       "      <td>118.50</td>\n",
       "      <td>89.60</td>\n",
       "      <td>10.40</td>\n",
       "      <td>1150.00</td>\n",
       "      <td>100.40</td>\n",
       "      <td>IRL</td>\n",
       "    </tr>\n",
       "    <tr>\n",
       "      <th>6</th>\n",
       "      <td>2013</td>\n",
       "      <td>856.00</td>\n",
       "      <td>101.40</td>\n",
       "      <td>2000.00</td>\n",
       "      <td>234.90</td>\n",
       "      <td>92.30</td>\n",
       "      <td>10.00</td>\n",
       "      <td>1236.00</td>\n",
       "      <td>110.60</td>\n",
       "      <td>107.80</td>\n",
       "      <td>89.50</td>\n",
       "      <td>182.80</td>\n",
       "      <td>1144.00</td>\n",
       "      <td>100.60</td>\n",
       "      <td>IRL</td>\n",
       "    </tr>\n",
       "    <tr>\n",
       "      <th>7</th>\n",
       "      <td>2014</td>\n",
       "      <td>580.90</td>\n",
       "      <td>69.20</td>\n",
       "      <td>2000.00</td>\n",
       "      <td>237.60</td>\n",
       "      <td>106.70</td>\n",
       "      <td>9.50</td>\n",
       "      <td>1526.00</td>\n",
       "      <td>148.00</td>\n",
       "      <td>88.90</td>\n",
       "      <td>97.00</td>\n",
       "      <td>124.00</td>\n",
       "      <td>1419.00</td>\n",
       "      <td>138.50</td>\n",
       "      <td>IRL</td>\n",
       "    </tr>\n",
       "    <tr>\n",
       "      <th>8</th>\n",
       "      <td>2015</td>\n",
       "      <td>667.00</td>\n",
       "      <td>83.40</td>\n",
       "      <td>2500.00</td>\n",
       "      <td>323.70</td>\n",
       "      <td>89.80</td>\n",
       "      <td>7.00</td>\n",
       "      <td>1923.00</td>\n",
       "      <td>145.40</td>\n",
       "      <td>78.10</td>\n",
       "      <td>75.60</td>\n",
       "      <td>141.90</td>\n",
       "      <td>1833.00</td>\n",
       "      <td>138.40</td>\n",
       "      <td>IRL</td>\n",
       "    </tr>\n",
       "    <tr>\n",
       "      <th>9</th>\n",
       "      <td>2007</td>\n",
       "      <td>117546.00</td>\n",
       "      <td>12055.00</td>\n",
       "      <td>96850.00</td>\n",
       "      <td>10153.00</td>\n",
       "      <td>21739.00</td>\n",
       "      <td>1693.00</td>\n",
       "      <td>1042.00</td>\n",
       "      <td>131.40</td>\n",
       "      <td>77.90</td>\n",
       "      <td>126.00</td>\n",
       "      <td>391.00</td>\n",
       "      <td>-20696.30</td>\n",
       "      <td>-1561.20</td>\n",
       "      <td>USA</td>\n",
       "    </tr>\n",
       "  </tbody>\n",
       "</table>\n",
       "</div>"
      ],
      "text/plain": [
       "FACTOR  Year Consumption Volume Consumption Value Production Volume  \\\n",
       "0       2007            3563.00            264.30           4003.00   \n",
       "1       2008            3489.00            267.40           3900.00   \n",
       "2       2009            1748.00            159.10           2600.00   \n",
       "3       2010            1704.00            160.80           2600.00   \n",
       "4       2011            1263.00            137.10           2103.00   \n",
       "5       2012              48.40              7.70           1198.00   \n",
       "6       2013             856.00            101.40           2000.00   \n",
       "7       2014             580.90             69.20           2000.00   \n",
       "8       2015             667.00             83.40           2500.00   \n",
       "9       2007          117546.00          12055.00          96850.00   \n",
       "\n",
       "FACTOR Production Value Import Volume Import Value Export Volume Export Value  \\\n",
       "0                146.70        684.40        65.50       1124.00       105.50   \n",
       "1                160.20        735.40        65.40       1146.00       112.00   \n",
       "2                175.10        204.10        23.00       1056.00       101.90   \n",
       "3                191.30        138.70        13.90       1035.00       104.70   \n",
       "4                209.00        104.30        10.90        944.60        94.00   \n",
       "5                228.40         90.70        10.70       1240.00       111.20   \n",
       "6                234.90         92.30        10.00       1236.00       110.60   \n",
       "7                237.60        106.70         9.50       1526.00       148.00   \n",
       "8                323.70         89.80         7.00       1923.00       145.40   \n",
       "9              10153.00      21739.00      1693.00       1042.00       131.40   \n",
       "\n",
       "FACTOR Import Price Export Price Per Capita Consumption Net Export Volume  \\\n",
       "0             95.70        93.90                 810.10            439.60   \n",
       "1             88.90        97.70                 777.20            410.80   \n",
       "2            112.60        96.50                 382.60            852.00   \n",
       "3             99.90       101.20                 368.20            896.50   \n",
       "4            104.60        99.50                 270.80            840.30   \n",
       "5            118.50        89.60                  10.40           1150.00   \n",
       "6            107.80        89.50                 182.80           1144.00   \n",
       "7             88.90        97.00                 124.00           1419.00   \n",
       "8             78.10        75.60                 141.90           1833.00   \n",
       "9             77.90       126.00                 391.00         -20696.30   \n",
       "\n",
       "FACTOR Net Export Value Code  \n",
       "0                 40.00  IRL  \n",
       "1                 46.60  IRL  \n",
       "2                 78.90  IRL  \n",
       "3                 90.90  IRL  \n",
       "4                 83.10  IRL  \n",
       "5                100.40  IRL  \n",
       "6                100.60  IRL  \n",
       "7                138.50  IRL  \n",
       "8                138.40  IRL  \n",
       "9              -1561.20  USA  "
      ]
     },
     "execution_count": 45,
     "metadata": {},
     "output_type": "execute_result"
    }
   ],
   "source": [
    "# Merge data\n",
    "\n",
    "cement_merge = pd.merge(ireland_cement,usa_cement, how=\"outer\")\n",
    "cement_merge = pd.merge(cement_merge,brazil_cement, how=\"outer\")\n",
    "cement_merge = pd.merge(cement_merge,china_cement, how=\"outer\")\n",
    "cement_merge = pd.merge(cement_merge,germany_cement, how=\"outer\")\n",
    "cement_merge = pd.merge(cement_merge,russia_cement, how=\"outer\")\n",
    "cement_merge = pd.merge(cement_merge,australia_cement, how=\"outer\")\n",
    "cement_merge = pd.merge(cement_merge,vietnam_cement, how=\"outer\")\n",
    "cement_merge = pd.merge(cement_merge,japan_cement, how=\"outer\")\n",
    "cement_merge = pd.merge(cement_merge,iran_cement, how=\"outer\")\n",
    "\n",
    "cement_merge.head(10)"
   ]
  },
  {
   "cell_type": "code",
   "execution_count": 83,
   "id": "6a319ed0",
   "metadata": {},
   "outputs": [],
   "source": [
    "cement_merge[\"Year\"] = pd.to_numeric(cement_merge[\"Year\"])\n",
    "cement_merge[\"Consumption Volume\"] = pd.to_numeric(cement_merge[\"Consumption Volume\"])\n",
    "cement_merge[\"Consumption Value\"] = pd.to_numeric(cement_merge[\"Consumption Value\"])\n",
    "cement_merge[\"Production Volume\"] = pd.to_numeric(cement_merge[\"Production Volume\"])\n",
    "cement_merge[\"Production Value\"] = pd.to_numeric(cement_merge[\"Production Value\"])\n",
    "cement_merge[\"Import Volume\"] = pd.to_numeric(cement_merge[\"Import Volume\"])\n",
    "cement_merge[\"Import Value\"] = pd.to_numeric(cement_merge[\"Import Value\"])\n",
    "cement_merge[\"Export Volume\"] = pd.to_numeric(cement_merge[\"Export Volume\"])\n",
    "cement_merge[\"Import Price\"] = pd.to_numeric(cement_merge[\"Import Price\"])\n",
    "cement_merge[\"Export Price\"] = pd.to_numeric(cement_merge[\"Export Price\"])\n",
    "cement_merge[\"Per Capita Consumption\"] = pd.to_numeric(cement_merge[\"Per Capita Consumption\"])"
   ]
  },
  {
   "cell_type": "code",
   "execution_count": 75,
   "id": "8897c77a",
   "metadata": {},
   "outputs": [
    {
     "data": {
      "image/png": "[encoded data removed]",
      "text/plain": [
       "<Figure size 2000x400 with 1 Axes>"
      ]
     },
     "metadata": {},
     "output_type": "display_data"
    }
   ],
   "source": [
    "# Create figure and set of subplots\n",
    "fig, ax = plt.subplots()\n",
    "\n",
    "ax.plot(cement_merge[cement_merge[\"Code\"]==\"IRL\"][\"Year\"], cement_merge[cement_merge[\"Code\"]==\"IRL\"][\"Consumption Volume\"], label=\"Ireland\")\n",
    "ax.plot(cement_merge[cement_merge[\"Code\"]==\"USA\"][\"Year\"], cement_merge[cement_merge[\"Code\"]==\"USA\"][\"Consumption Volume\"], label=\"United States\")\n",
    "ax.plot(cement_merge[cement_merge[\"Code\"]==\"BRA\"][\"Year\"], cement_merge[cement_merge[\"Code\"]==\"BRA\"][\"Consumption Volume\"], label=\"Brazil\")\n",
    "ax.plot(cement_merge[cement_merge[\"Code\"]==\"CHN\"][\"Year\"], cement_merge[cement_merge[\"Code\"]==\"CHN\"][\"Consumption Volume\"], label=\"China\")\n",
    "ax.plot(cement_merge[cement_merge[\"Code\"]==\"DEU\"][\"Year\"], cement_merge[cement_merge[\"Code\"]==\"DEU\"][\"Consumption Volume\"], label=\"Germany\")\n",
    "ax.plot(cement_merge[cement_merge[\"Code\"]==\"RUS\"][\"Year\"], cement_merge[cement_merge[\"Code\"]==\"RUS\"][\"Consumption Volume\"], label=\"Russia\")\n",
    "ax.plot(cement_merge[cement_merge[\"Code\"]==\"AUS\"][\"Year\"], cement_merge[cement_merge[\"Code\"]==\"AUS\"][\"Consumption Volume\"], label=\"Australia\")\n",
    "ax.plot(cement_merge[cement_merge[\"Code\"]==\"VNM\"][\"Year\"], cement_merge[cement_merge[\"Code\"]==\"VNM\"][\"Consumption Volume\"], label=\"Vietnam\")\n",
    "ax.plot(cement_merge[cement_merge[\"Code\"]==\"JPN\"][\"Year\"], cement_merge[cement_merge[\"Code\"]==\"JPN\"][\"Consumption Volume\"], label=\"Japan\")\n",
    "ax.plot(cement_merge[cement_merge[\"Code\"]==\"IRN\"][\"Year\"], cement_merge[cement_merge[\"Code\"]==\"IRN\"][\"Consumption Volume\"], label=\"Iran\")\n",
    "\n",
    "\n",
    "# Config graphic\n",
    "plt.rc(\"figure\", autolayout=True, figsize=(20, 4))\n",
    "plt.title(\"Cement Consumption Volume (Thousand tons) from 2007 to 2015\")\n",
    "plt.xlabel(\"Year\")\n",
    "plt.ylabel(\"Thousand tons\")\n",
    "plt.xticks(rotation=45)\n",
    "ax.legend(loc='center left', bbox_to_anchor=(1, 0.5))\n",
    "\n",
    "# Display graphic\n",
    "plt.show()"
   ]
  },
  {
   "cell_type": "code",
   "execution_count": 74,
   "id": "36dc21e5",
   "metadata": {
    "scrolled": false
   },
   "outputs": [
    {
     "data": {
      "image/png": "[encoded data removed]",
      "text/plain": [
       "<Figure size 2000x400 with 1 Axes>"
      ]
     },
     "metadata": {},
     "output_type": "display_data"
    }
   ],
   "source": [
    "# Create figure and set of subplots\n",
    "fig, ax = plt.subplots()\n",
    "\n",
    "ax.plot(cement_merge[cement_merge[\"Code\"]==\"IRL\"][\"Year\"], cement_merge[cement_merge[\"Code\"]==\"IRL\"][\"Consumption Volume\"], label=\"Ireland\")\n",
    "ax.plot(cement_merge[cement_merge[\"Code\"]==\"USA\"][\"Year\"], cement_merge[cement_merge[\"Code\"]==\"USA\"][\"Consumption Volume\"], label=\"United States\")\n",
    "ax.plot(cement_merge[cement_merge[\"Code\"]==\"BRA\"][\"Year\"], cement_merge[cement_merge[\"Code\"]==\"BRA\"][\"Consumption Volume\"], label=\"Brazil\")\n",
    "#ax.plot(cement_merge[cement_merge[\"Code\"]==\"CHN\"][\"Year\"], cement_merge[cement_merge[\"Code\"]==\"CHN\"][\"Consumption Volume\"], label=\"China\")\n",
    "ax.plot(cement_merge[cement_merge[\"Code\"]==\"DEU\"][\"Year\"], cement_merge[cement_merge[\"Code\"]==\"DEU\"][\"Consumption Volume\"], label=\"Germany\")\n",
    "ax.plot(cement_merge[cement_merge[\"Code\"]==\"RUS\"][\"Year\"], cement_merge[cement_merge[\"Code\"]==\"RUS\"][\"Consumption Volume\"], label=\"Russia\")\n",
    "ax.plot(cement_merge[cement_merge[\"Code\"]==\"AUS\"][\"Year\"], cement_merge[cement_merge[\"Code\"]==\"AUS\"][\"Consumption Volume\"], label=\"Australia\")\n",
    "ax.plot(cement_merge[cement_merge[\"Code\"]==\"VNM\"][\"Year\"], cement_merge[cement_merge[\"Code\"]==\"VNM\"][\"Consumption Volume\"], label=\"Vietnam\")\n",
    "ax.plot(cement_merge[cement_merge[\"Code\"]==\"JPN\"][\"Year\"], cement_merge[cement_merge[\"Code\"]==\"JPN\"][\"Consumption Volume\"], label=\"Japan\")\n",
    "ax.plot(cement_merge[cement_merge[\"Code\"]==\"IRN\"][\"Year\"], cement_merge[cement_merge[\"Code\"]==\"IRN\"][\"Consumption Volume\"], label=\"Iran\")\n",
    "\n",
    "\n",
    "# Config graphic\n",
    "plt.rc(\"figure\", autolayout=True, figsize=(20, 4))\n",
    "plt.title(\"Cement Consumption Volume (Thousand tons) from 2007 to 2015\")\n",
    "plt.xlabel(\"Year\")\n",
    "plt.ylabel(\"Thousand tons\")\n",
    "plt.xticks(rotation=45)\n",
    "ax.legend(loc='center left', bbox_to_anchor=(1, 0.5))\n",
    "\n",
    "# Display graphic\n",
    "plt.show()"
   ]
  },
  {
   "cell_type": "code",
   "execution_count": 48,
   "id": "ddb74912",
   "metadata": {},
   "outputs": [],
   "source": [
    "def get_column(name,column_filter,column_query,origin_df):\n",
    "    new_data = origin_df[origin_df[column_filter]==name][column_query]\n",
    "    return new_data"
   ]
  },
  {
   "cell_type": "code",
   "execution_count": 49,
   "id": "b692934d",
   "metadata": {},
   "outputs": [
    {
     "data": {
      "text/plain": [
       "0    2007\n",
       "1    2008\n",
       "2    2009\n",
       "3    2010\n",
       "4    2011\n",
       "5    2012\n",
       "6    2013\n",
       "7    2014\n",
       "8    2015\n",
       "Name: Year, dtype: int64"
      ]
     },
     "execution_count": 49,
     "metadata": {},
     "output_type": "execute_result"
    }
   ],
   "source": [
    "yearireland = get_column(\"IRL\",\"Code\",\"Year\",cement_merge)\n",
    "yearireland"
   ]
  },
  {
   "cell_type": "code",
   "execution_count": 50,
   "id": "e51df7e2",
   "metadata": {},
   "outputs": [
    {
     "data": {
      "text/plain": [
       "0    IRL\n",
       "1    IRL\n",
       "2    IRL\n",
       "3    IRL\n",
       "4    IRL\n",
       "5    IRL\n",
       "6    IRL\n",
       "7    IRL\n",
       "8    IRL\n",
       "Name: Code, dtype: object"
      ]
     },
     "execution_count": 50,
     "metadata": {},
     "output_type": "execute_result"
    }
   ],
   "source": [
    "country = get_column(\"IRL\",\"Code\",\"Code\",cement_merge)\n",
    "country"
   ]
  },
  {
   "cell_type": "code",
   "execution_count": 79,
   "id": "7390e0d1",
   "metadata": {
    "scrolled": false
   },
   "outputs": [
    {
     "data": {
      "application/vnd.plotly.v1+json": {
       "config": {
        "plotlyServerURL": "https://plot.ly"
       },
       "data": [
        {
         "coloraxis": "coloraxis",
         "geo": "geo",
         "hovertemplate": "<b>%{hovertext}</b><br><br>Year=2007<br>Code=%{location}<br>Production Value=%{z}<extra></extra>",
         "hovertext": [
          "IRL",
          "USA",
          "BRA",
          "CHN",
          "DEU",
          "RUS",
          "AUS",
          "VNM",
          "JPN",
          "IRN"
         ],
         "locations": [
          "IRL",
          "USA",
          "BRA",
          "CHN",
          "DEU",
          "RUS",
          "AUS",
          "VNM",
          "JPN",
          "IRN"
         ],
         "name": "",
         "type": "choropleth",
         "z": [
          146.7,
          10153,
          3802,
          54201,
          2644,
          6146,
          2333,
          4297,
          138.6,
          1588
         ]
        }
       ],
       "frames": [
        {
         "data": [
          {
           "coloraxis": "coloraxis",
           "geo": "geo",
           "hovertemplate": "<b>%{hovertext}</b><br><br>Year=2007<br>Code=%{location}<br>Production Value=%{z}<extra></extra>",
           "hovertext": [
            "IRL",
            "USA",
            "BRA",
            "CHN",
            "DEU",
            "RUS",
            "AUS",
            "VNM",
            "JPN",
            "IRN"
           ],
           "locations": [
            "IRL",
            "USA",
            "BRA",
            "CHN",
            "DEU",
            "RUS",
            "AUS",
            "VNM",
            "JPN",
            "IRN"
           ],
           "name": "",
           "type": "choropleth",
           "z": [
            146.7,
            10153,
            3802,
            54201,
            2644,
            6146,
            2333,
            4297,
            138.6,
            1588
           ]
          }
         ],
         "name": "2007"
        },
        {
         "data": [
          {
           "coloraxis": "coloraxis",
           "geo": "geo",
           "hovertemplate": "<b>%{hovertext}</b><br><br>Year=2008<br>Code=%{location}<br>Production Value=%{z}<extra></extra>",
           "hovertext": [
            "IRL",
            "USA",
            "BRA",
            "CHN",
            "DEU",
            "RUS",
            "AUS",
            "VNM",
            "JPN",
            "IRN"
           ],
           "locations": [
            "IRL",
            "USA",
            "BRA",
            "CHN",
            "DEU",
            "RUS",
            "AUS",
            "VNM",
            "JPN",
            "IRN"
           ],
           "name": "",
           "type": "choropleth",
           "z": [
            160.2,
            8915,
            5478,
            66718,
            2665,
            7563,
            3041,
            4209,
            170,
            2233
           ]
          }
         ],
         "name": "2008"
        },
        {
         "data": [
          {
           "coloraxis": "coloraxis",
           "geo": "geo",
           "hovertemplate": "<b>%{hovertext}</b><br><br>Year=2009<br>Code=%{location}<br>Production Value=%{z}<extra></extra>",
           "hovertext": [
            "IRL",
            "USA",
            "BRA",
            "CHN",
            "DEU",
            "RUS",
            "AUS",
            "VNM",
            "JPN",
            "IRN"
           ],
           "locations": [
            "IRL",
            "USA",
            "BRA",
            "CHN",
            "DEU",
            "RUS",
            "AUS",
            "VNM",
            "JPN",
            "IRN"
           ],
           "name": "",
           "type": "choropleth",
           "z": [
            175.1,
            5568,
            5086,
            82445,
            2687,
            3832,
            2836,
            4596,
            190.9,
            2559
           ]
          }
         ],
         "name": "2009"
        },
        {
         "data": [
          {
           "coloraxis": "coloraxis",
           "geo": "geo",
           "hovertemplate": "<b>%{hovertext}</b><br><br>Year=2010<br>Code=%{location}<br>Production Value=%{z}<extra></extra>",
           "hovertext": [
            "IRL",
            "USA",
            "BRA",
            "CHN",
            "DEU",
            "RUS",
            "AUS",
            "VNM",
            "JPN",
            "IRN"
           ],
           "locations": [
            "IRL",
            "USA",
            "BRA",
            "CHN",
            "DEU",
            "RUS",
            "AUS",
            "VNM",
            "JPN",
            "IRN"
           ],
           "name": "",
           "type": "choropleth",
           "z": [
            191.3,
            5064,
            6714,
            94894,
            2483,
            4142,
            2940,
            4987,
            203.8,
            2885
           ]
          }
         ],
         "name": "2010"
        },
        {
         "data": [
          {
           "coloraxis": "coloraxis",
           "geo": "geo",
           "hovertemplate": "<b>%{hovertext}</b><br><br>Year=2011<br>Code=%{location}<br>Production Value=%{z}<extra></extra>",
           "hovertext": [
            "IRL",
            "USA",
            "BRA",
            "CHN",
            "DEU",
            "RUS",
            "AUS",
            "VNM",
            "JPN",
            "IRN"
           ],
           "locations": [
            "IRL",
            "USA",
            "BRA",
            "CHN",
            "DEU",
            "RUS",
            "AUS",
            "VNM",
            "JPN",
            "IRN"
           ],
           "name": "",
           "type": "choropleth",
           "z": [
            209,
            5278,
            8250,
            126356,
            2975,
            5279,
            3423,
            4967,
            276.3,
            3394
           ]
          }
         ],
         "name": "2011"
        },
        {
         "data": [
          {
           "coloraxis": "coloraxis",
           "geo": "geo",
           "hovertemplate": "<b>%{hovertext}</b><br><br>Year=2012<br>Code=%{location}<br>Production Value=%{z}<extra></extra>",
           "hovertext": [
            "IRL",
            "USA",
            "BRA",
            "CHN",
            "DEU",
            "RUS",
            "AUS",
            "VNM",
            "JPN",
            "IRN"
           ],
           "locations": [
            "IRL",
            "USA",
            "BRA",
            "CHN",
            "DEU",
            "RUS",
            "AUS",
            "VNM",
            "JPN",
            "IRN"
           ],
           "name": "",
           "type": "choropleth",
           "z": [
            228.4,
            5661,
            7631,
            134256,
            2660,
            6434,
            2879,
            3603,
            280.4,
            3903
           ]
          }
         ],
         "name": "2012"
        },
        {
         "data": [
          {
           "coloraxis": "coloraxis",
           "geo": "geo",
           "hovertemplate": "<b>%{hovertext}</b><br><br>Year=2013<br>Code=%{location}<br>Production Value=%{z}<extra></extra>",
           "hovertext": [
            "IRL",
            "USA",
            "BRA",
            "CHN",
            "DEU",
            "RUS",
            "AUS",
            "VNM",
            "JPN",
            "IRN"
           ],
           "locations": [
            "IRL",
            "USA",
            "BRA",
            "CHN",
            "DEU",
            "RUS",
            "AUS",
            "VNM",
            "JPN",
            "IRN"
           ],
           "name": "",
           "type": "choropleth",
           "z": [
            234.9,
            6506,
            7690,
            140297,
            2709,
            6999,
            2631,
            4505,
            243.5,
            4489
           ]
          }
         ],
         "name": "2013"
        },
        {
         "data": [
          {
           "coloraxis": "coloraxis",
           "geo": "geo",
           "hovertemplate": "<b>%{hovertext}</b><br><br>Year=2014<br>Code=%{location}<br>Production Value=%{z}<extra></extra>",
           "hovertext": [
            "IRL",
            "USA",
            "BRA",
            "CHN",
            "DEU",
            "RUS",
            "AUS",
            "VNM",
            "JPN",
            "IRN"
           ],
           "locations": [
            "IRL",
            "USA",
            "BRA",
            "CHN",
            "DEU",
            "RUS",
            "AUS",
            "VNM",
            "JPN",
            "IRN"
           ],
           "name": "",
           "type": "choropleth",
           "z": [
            237.6,
            6956,
            7801,
            148660,
            2820,
            5748,
            4047,
            4658,
            244.4,
            5162
           ]
          }
         ],
         "name": "2014"
        },
        {
         "data": [
          {
           "coloraxis": "coloraxis",
           "geo": "geo",
           "hovertemplate": "<b>%{hovertext}</b><br><br>Year=2015<br>Code=%{location}<br>Production Value=%{z}<extra></extra>",
           "hovertext": [
            "IRL",
            "USA",
            "BRA",
            "CHN",
            "DEU",
            "RUS",
            "AUS",
            "VNM",
            "JPN",
            "IRN"
           ],
           "locations": [
            "IRL",
            "USA",
            "BRA",
            "CHN",
            "DEU",
            "RUS",
            "AUS",
            "VNM",
            "JPN",
            "IRN"
           ],
           "name": "",
           "type": "choropleth",
           "z": [
            323.7,
            7800,
            4927,
            136866,
            2322,
            3286,
            2530,
            5269,
            233.5,
            5936
           ]
          }
         ],
         "name": "2015"
        }
       ],
       "layout": {
        "coloraxis": {
         "colorbar": {
          "title": {
           "text": "Production Value"
          }
         },
         "colorscale": [
          [
           0,
           "rgb(240,240,240)"
          ],
          [
           0.1,
           "rgb(252, 244, 83)"
          ],
          [
           0.2,
           "rgb(255, 145, 36)"
          ],
          [
           0.5,
           "rgb(255, 85, 28)"
          ],
          [
           1,
           "rgb(227,26,28,0.5)"
          ]
         ]
        },
        "geo": {
         "center": {},
         "domain": {
          "x": [
           0,
           1
          ],
          "y": [
           0,
           1
          ]
         },
         "projection": {
          "type": "natural earth"
         }
        },
        "legend": {
         "tracegroupgap": 0
        },
        "margin": {
         "t": 60
        },
        "sliders": [
         {
          "active": 0,
          "currentvalue": {
           "prefix": "Year="
          },
          "len": 0.9,
          "pad": {
           "b": 10,
           "t": 60
          },
          "steps": [
           {
            "args": [
             [
              "2007"
             ],
             {
              "frame": {
               "duration": 0,
               "redraw": true
              },
              "fromcurrent": true,
              "mode": "immediate",
              "transition": {
               "duration": 0,
               "easing": "linear"
              }
             }
            ],
            "label": "2007",
            "method": "animate"
           },
           {
            "args": [
             [
              "2008"
             ],
             {
              "frame": {
               "duration": 0,
               "redraw": true
              },
              "fromcurrent": true,
              "mode": "immediate",
              "transition": {
               "duration": 0,
               "easing": "linear"
              }
             }
            ],
            "label": "2008",
            "method": "animate"
           },
           {
            "args": [
             [
              "2009"
             ],
             {
              "frame": {
               "duration": 0,
               "redraw": true
              },
              "fromcurrent": true,
              "mode": "immediate",
              "transition": {
               "duration": 0,
               "easing": "linear"
              }
             }
            ],
            "label": "2009",
            "method": "animate"
           },
           {
            "args": [
             [
              "2010"
             ],
             {
              "frame": {
               "duration": 0,
               "redraw": true
              },
              "fromcurrent": true,
              "mode": "immediate",
              "transition": {
               "duration": 0,
               "easing": "linear"
              }
             }
            ],
            "label": "2010",
            "method": "animate"
           },
           {
            "args": [
             [
              "2011"
             ],
             {
              "frame": {
               "duration": 0,
               "redraw": true
              },
              "fromcurrent": true,
              "mode": "immediate",
              "transition": {
               "duration": 0,
               "easing": "linear"
              }
             }
            ],
            "label": "2011",
            "method": "animate"
           },
           {
            "args": [
             [
              "2012"
             ],
             {
              "frame": {
               "duration": 0,
               "redraw": true
              },
              "fromcurrent": true,
              "mode": "immediate",
              "transition": {
               "duration": 0,
               "easing": "linear"
              }
             }
            ],
            "label": "2012",
            "method": "animate"
           },
           {
            "args": [
             [
              "2013"
             ],
             {
              "frame": {
               "duration": 0,
               "redraw": true
              },
              "fromcurrent": true,
              "mode": "immediate",
              "transition": {
               "duration": 0,
               "easing": "linear"
              }
             }
            ],
            "label": "2013",
            "method": "animate"
           },
           {
            "args": [
             [
              "2014"
             ],
             {
              "frame": {
               "duration": 0,
               "redraw": true
              },
              "fromcurrent": true,
              "mode": "immediate",
              "transition": {
               "duration": 0,
               "easing": "linear"
              }
             }
            ],
            "label": "2014",
            "method": "animate"
           },
           {
            "args": [
             [
              "2015"
             ],
             {
              "frame": {
               "duration": 0,
               "redraw": true
              },
              "fromcurrent": true,
              "mode": "immediate",
              "transition": {
               "duration": 0,
               "easing": "linear"
              }
             }
            ],
            "label": "2015",
            "method": "animate"
           }
          ],
          "x": 0.1,
          "xanchor": "left",
          "y": 0,
          "yanchor": "top"
         }
        ],
        "template": {
         "data": {
          "bar": [
           {
            "error_x": {
             "color": "#2a3f5f"
            },
            "error_y": {
             "color": "#2a3f5f"
            },
            "marker": {
             "line": {
              "color": "#E5ECF6",
              "width": 0.5
             },
             "pattern": {
              "fillmode": "overlay",
              "size": 10,
              "solidity": 0.2
             }
            },
            "type": "bar"
           }
          ],
          "barpolar": [
           {
            "marker": {
             "line": {
              "color": "#E5ECF6",
              "width": 0.5
             },
             "pattern": {
              "fillmode": "overlay",
              "size": 10,
              "solidity": 0.2
             }
            },
            "type": "barpolar"
           }
          ],
          "carpet": [
           {
            "aaxis": {
             "endlinecolor": "#2a3f5f",
             "gridcolor": "white",
             "linecolor": "white",
             "minorgridcolor": "white",
             "startlinecolor": "#2a3f5f"
            },
            "baxis": {
             "endlinecolor": "#2a3f5f",
             "gridcolor": "white",
             "linecolor": "white",
             "minorgridcolor": "white",
             "startlinecolor": "#2a3f5f"
            },
            "type": "carpet"
           }
          ],
          "choropleth": [
           {
            "colorbar": {
             "outlinewidth": 0,
             "ticks": ""
            },
            "type": "choropleth"
           }
          ],
          "contour": [
           {
            "colorbar": {
             "outlinewidth": 0,
             "ticks": ""
            },
            "colorscale": [
             [
              0,
              "#0d0887"
             ],
             [
              0.1111111111111111,
              "#46039f"
             ],
             [
              0.2222222222222222,
              "#7201a8"
             ],
             [
              0.3333333333333333,
              "#9c179e"
             ],
             [
              0.4444444444444444,
              "#bd3786"
             ],
             [
              0.5555555555555556,
              "#d8576b"
             ],
             [
              0.6666666666666666,
              "#ed7953"
             ],
             [
              0.7777777777777778,
              "#fb9f3a"
             ],
             [
              0.8888888888888888,
              "#fdca26"
             ],
             [
              1,
              "#f0f921"
             ]
            ],
            "type": "contour"
           }
          ],
          "contourcarpet": [
           {
            "colorbar": {
             "outlinewidth": 0,
             "ticks": ""
            },
            "type": "contourcarpet"
           }
          ],
          "heatmap": [
           {
            "colorbar": {
             "outlinewidth": 0,
             "ticks": ""
            },
            "colorscale": [
             [
              0,
              "#0d0887"
             ],
             [
              0.1111111111111111,
              "#46039f"
             ],
             [
              0.2222222222222222,
              "#7201a8"
             ],
             [
              0.3333333333333333,
              "#9c179e"
             ],
             [
              0.4444444444444444,
              "#bd3786"
             ],
             [
              0.5555555555555556,
              "#d8576b"
             ],
             [
              0.6666666666666666,
              "#ed7953"
             ],
             [
              0.7777777777777778,
              "#fb9f3a"
             ],
             [
              0.8888888888888888,
              "#fdca26"
             ],
             [
              1,
              "#f0f921"
             ]
            ],
            "type": "heatmap"
           }
          ],
          "heatmapgl": [
           {
            "colorbar": {
             "outlinewidth": 0,
             "ticks": ""
            },
            "colorscale": [
             [
              0,
              "#0d0887"
             ],
             [
              0.1111111111111111,
              "#46039f"
             ],
             [
              0.2222222222222222,
              "#7201a8"
             ],
             [
              0.3333333333333333,
              "#9c179e"
             ],
             [
              0.4444444444444444,
              "#bd3786"
             ],
             [
              0.5555555555555556,
              "#d8576b"
             ],
             [
              0.6666666666666666,
              "#ed7953"
             ],
             [
              0.7777777777777778,
              "#fb9f3a"
             ],
             [
              0.8888888888888888,
              "#fdca26"
             ],
             [
              1,
              "#f0f921"
             ]
            ],
            "type": "heatmapgl"
           }
          ],
          "histogram": [
           {
            "marker": {
             "pattern": {
              "fillmode": "overlay",
              "size": 10,
              "solidity": 0.2
             }
            },
            "type": "histogram"
           }
          ],
          "histogram2d": [
           {
            "colorbar": {
             "outlinewidth": 0,
             "ticks": ""
            },
            "colorscale": [
             [
              0,
              "#0d0887"
             ],
             [
              0.1111111111111111,
              "#46039f"
             ],
             [
              0.2222222222222222,
              "#7201a8"
             ],
             [
              0.3333333333333333,
              "#9c179e"
             ],
             [
              0.4444444444444444,
              "#bd3786"
             ],
             [
              0.5555555555555556,
              "#d8576b"
             ],
             [
              0.6666666666666666,
              "#ed7953"
             ],
             [
              0.7777777777777778,
              "#fb9f3a"
             ],
             [
              0.8888888888888888,
              "#fdca26"
             ],
             [
              1,
              "#f0f921"
             ]
            ],
            "type": "histogram2d"
           }
          ],
          "histogram2dcontour": [
           {
            "colorbar": {
             "outlinewidth": 0,
             "ticks": ""
            },
            "colorscale": [
             [
              0,
              "#0d0887"
             ],
             [
              0.1111111111111111,
              "#46039f"
             ],
             [
              0.2222222222222222,
              "#7201a8"
             ],
             [
              0.3333333333333333,
              "#9c179e"
             ],
             [
              0.4444444444444444,
              "#bd3786"
             ],
             [
              0.5555555555555556,
              "#d8576b"
             ],
             [
              0.6666666666666666,
              "#ed7953"
             ],
             [
              0.7777777777777778,
              "#fb9f3a"
             ],
             [
              0.8888888888888888,
              "#fdca26"
             ],
             [
              1,
              "#f0f921"
             ]
            ],
            "type": "histogram2dcontour"
           }
          ],
          "mesh3d": [
           {
            "colorbar": {
             "outlinewidth": 0,
             "ticks": ""
            },
            "type": "mesh3d"
           }
          ],
          "parcoords": [
           {
            "line": {
             "colorbar": {
              "outlinewidth": 0,
              "ticks": ""
             }
            },
            "type": "parcoords"
           }
          ],
          "pie": [
           {
            "automargin": true,
            "type": "pie"
           }
          ],
          "scatter": [
           {
            "fillpattern": {
             "fillmode": "overlay",
             "size": 10,
             "solidity": 0.2
            },
            "type": "scatter"
           }
          ],
          "scatter3d": [
           {
            "line": {
             "colorbar": {
              "outlinewidth": 0,
              "ticks": ""
             }
            },
            "marker": {
             "colorbar": {
              "outlinewidth": 0,
              "ticks": ""
             }
            },
            "type": "scatter3d"
           }
          ],
          "scattercarpet": [
           {
            "marker": {
             "colorbar": {
              "outlinewidth": 0,
              "ticks": ""
             }
            },
            "type": "scattercarpet"
           }
          ],
          "scattergeo": [
           {
            "marker": {
             "colorbar": {
              "outlinewidth": 0,
              "ticks": ""
             }
            },
            "type": "scattergeo"
           }
          ],
          "scattergl": [
           {
            "marker": {
             "colorbar": {
              "outlinewidth": 0,
              "ticks": ""
             }
            },
            "type": "scattergl"
           }
          ],
          "scattermapbox": [
           {
            "marker": {
             "colorbar": {
              "outlinewidth": 0,
              "ticks": ""
             }
            },
            "type": "scattermapbox"
           }
          ],
          "scatterpolar": [
           {
            "marker": {
             "colorbar": {
              "outlinewidth": 0,
              "ticks": ""
             }
            },
            "type": "scatterpolar"
           }
          ],
          "scatterpolargl": [
           {
            "marker": {
             "colorbar": {
              "outlinewidth": 0,
              "ticks": ""
             }
            },
            "type": "scatterpolargl"
           }
          ],
          "scatterternary": [
           {
            "marker": {
             "colorbar": {
              "outlinewidth": 0,
              "ticks": ""
             }
            },
            "type": "scatterternary"
           }
          ],
          "surface": [
           {
            "colorbar": {
             "outlinewidth": 0,
             "ticks": ""
            },
            "colorscale": [
             [
              0,
              "#0d0887"
             ],
             [
              0.1111111111111111,
              "#46039f"
             ],
             [
              0.2222222222222222,
              "#7201a8"
             ],
             [
              0.3333333333333333,
              "#9c179e"
             ],
             [
              0.4444444444444444,
              "#bd3786"
             ],
             [
              0.5555555555555556,
              "#d8576b"
             ],
             [
              0.6666666666666666,
              "#ed7953"
             ],
             [
              0.7777777777777778,
              "#fb9f3a"
             ],
             [
              0.8888888888888888,
              "#fdca26"
             ],
             [
              1,
              "#f0f921"
             ]
            ],
            "type": "surface"
           }
          ],
          "table": [
           {
            "cells": {
             "fill": {
              "color": "#EBF0F8"
             },
             "line": {
              "color": "white"
             }
            },
            "header": {
             "fill": {
              "color": "#C8D4E3"
             },
             "line": {
              "color": "white"
             }
            },
            "type": "table"
           }
          ]
         },
         "layout": {
          "annotationdefaults": {
           "arrowcolor": "#2a3f5f",
           "arrowhead": 0,
           "arrowwidth": 1
          },
          "autotypenumbers": "strict",
          "coloraxis": {
           "colorbar": {
            "outlinewidth": 0,
            "ticks": ""
           }
          },
          "colorscale": {
           "diverging": [
            [
             0,
             "#8e0152"
            ],
            [
             0.1,
             "#c51b7d"
            ],
            [
             0.2,
             "#de77ae"
            ],
            [
             0.3,
             "#f1b6da"
            ],
            [
             0.4,
             "#fde0ef"
            ],
            [
             0.5,
             "#f7f7f7"
            ],
            [
             0.6,
             "#e6f5d0"
            ],
            [
             0.7,
             "#b8e186"
            ],
            [
             0.8,
             "#7fbc41"
            ],
            [
             0.9,
             "#4d9221"
            ],
            [
             1,
             "#276419"
            ]
           ],
           "sequential": [
            [
             0,
             "#0d0887"
            ],
            [
             0.1111111111111111,
             "#46039f"
            ],
            [
             0.2222222222222222,
             "#7201a8"
            ],
            [
             0.3333333333333333,
             "#9c179e"
            ],
            [
             0.4444444444444444,
             "#bd3786"
            ],
            [
             0.5555555555555556,
             "#d8576b"
            ],
            [
             0.6666666666666666,
             "#ed7953"
            ],
            [
             0.7777777777777778,
             "#fb9f3a"
            ],
            [
             0.8888888888888888,
             "#fdca26"
            ],
            [
             1,
             "#f0f921"
            ]
           ],
           "sequentialminus": [
            [
             0,
             "#0d0887"
            ],
            [
             0.1111111111111111,
             "#46039f"
            ],
            [
             0.2222222222222222,
             "#7201a8"
            ],
            [
             0.3333333333333333,
             "#9c179e"
            ],
            [
             0.4444444444444444,
             "#bd3786"
            ],
            [
             0.5555555555555556,
             "#d8576b"
            ],
            [
             0.6666666666666666,
             "#ed7953"
            ],
            [
             0.7777777777777778,
             "#fb9f3a"
            ],
            [
             0.8888888888888888,
             "#fdca26"
            ],
            [
             1,
             "#f0f921"
            ]
           ]
          },
          "colorway": [
           "#636efa",
           "#EF553B",
           "#00cc96",
           "#ab63fa",
           "#FFA15A",
           "#19d3f3",
           "#FF6692",
           "#B6E880",
           "#FF97FF",
           "#FECB52"
          ],
          "font": {
           "color": "#2a3f5f"
          },
          "geo": {
           "bgcolor": "white",
           "lakecolor": "white",
           "landcolor": "#E5ECF6",
           "showlakes": true,
           "showland": true,
           "subunitcolor": "white"
          },
          "hoverlabel": {
           "align": "left"
          },
          "hovermode": "closest",
          "mapbox": {
           "style": "light"
          },
          "paper_bgcolor": "white",
          "plot_bgcolor": "#E5ECF6",
          "polar": {
           "angularaxis": {
            "gridcolor": "white",
            "linecolor": "white",
            "ticks": ""
           },
           "bgcolor": "#E5ECF6",
           "radialaxis": {
            "gridcolor": "white",
            "linecolor": "white",
            "ticks": ""
           }
          },
          "scene": {
           "xaxis": {
            "backgroundcolor": "#E5ECF6",
            "gridcolor": "white",
            "gridwidth": 2,
            "linecolor": "white",
            "showbackground": true,
            "ticks": "",
            "zerolinecolor": "white"
           },
           "yaxis": {
            "backgroundcolor": "#E5ECF6",
            "gridcolor": "white",
            "gridwidth": 2,
            "linecolor": "white",
            "showbackground": true,
            "ticks": "",
            "zerolinecolor": "white"
           },
           "zaxis": {
            "backgroundcolor": "#E5ECF6",
            "gridcolor": "white",
            "gridwidth": 2,
            "linecolor": "white",
            "showbackground": true,
            "ticks": "",
            "zerolinecolor": "white"
           }
          },
          "shapedefaults": {
           "line": {
            "color": "#2a3f5f"
           }
          },
          "ternary": {
           "aaxis": {
            "gridcolor": "white",
            "linecolor": "white",
            "ticks": ""
           },
           "baxis": {
            "gridcolor": "white",
            "linecolor": "white",
            "ticks": ""
           },
           "bgcolor": "#E5ECF6",
           "caxis": {
            "gridcolor": "white",
            "linecolor": "white",
            "ticks": ""
           }
          },
          "title": {
           "x": 0.05
          },
          "xaxis": {
           "automargin": true,
           "gridcolor": "white",
           "linecolor": "white",
           "ticks": "",
           "title": {
            "standoff": 15
           },
           "zerolinecolor": "white",
           "zerolinewidth": 2
          },
          "yaxis": {
           "automargin": true,
           "gridcolor": "white",
           "linecolor": "white",
           "ticks": "",
           "title": {
            "standoff": 15
           },
           "zerolinecolor": "white",
           "zerolinewidth": 2
          }
         }
        },
        "title": {
         "text": "Cement Production Value (Million USD)"
        },
        "updatemenus": [
         {
          "buttons": [
           {
            "args": [
             null,
             {
              "frame": {
               "duration": 500,
               "redraw": true
              },
              "fromcurrent": true,
              "mode": "immediate",
              "transition": {
               "duration": 500,
               "easing": "linear"
              }
             }
            ],
            "label": "&#9654;",
            "method": "animate"
           },
           {
            "args": [
             [
              null
             ],
             {
              "frame": {
               "duration": 0,
               "redraw": true
              },
              "fromcurrent": true,
              "mode": "immediate",
              "transition": {
               "duration": 0,
               "easing": "linear"
              }
             }
            ],
            "label": "&#9724;",
            "method": "animate"
           }
          ],
          "direction": "left",
          "pad": {
           "r": 10,
           "t": 70
          },
          "showactive": false,
          "type": "buttons",
          "x": 0.1,
          "xanchor": "right",
          "y": 0,
          "yanchor": "top"
         }
        ]
       }
      },
      "text/html": [
       "<div>                            <div id=\"7611ac8b-9a9b-4c27-bd4a-1e76f8fc66b8\" class=\"plotly-graph-div\" style=\"height:525px; width:100%;\"></div>            <script type=\"text/javascript\">                require([\"plotly\"], function(Plotly) {                    window.PLOTLYENV=window.PLOTLYENV || {};                                    if (document.getElementById(\"7611ac8b-9a9b-4c27-bd4a-1e76f8fc66b8\")) {                    Plotly.newPlot(                        \"7611ac8b-9a9b-4c27-bd4a-1e76f8fc66b8\",                        [{\"coloraxis\":\"coloraxis\",\"geo\":\"geo\",\"hovertemplate\":\"<b>%{hovertext}</b><br><br>Year=2007<br>Code=%{location}<br>Production Value=%{z}<extra></extra>\",\"hovertext\":[\"IRL\",\"USA\",\"BRA\",\"CHN\",\"DEU\",\"RUS\",\"AUS\",\"VNM\",\"JPN\",\"IRN\"],\"locations\":[\"IRL\",\"USA\",\"BRA\",\"CHN\",\"DEU\",\"RUS\",\"AUS\",\"VNM\",\"JPN\",\"IRN\"],\"name\":\"\",\"z\":[146.7,10153.0,3802.0,54201.0,2644.0,6146.0,2333.0,4297.0,138.6,1588.0],\"type\":\"choropleth\"}],                        {\"template\":{\"data\":{\"histogram2dcontour\":[{\"type\":\"histogram2dcontour\",\"colorbar\":{\"outlinewidth\":0,\"ticks\":\"\"},\"colorscale\":[[0.0,\"#0d0887\"],[0.1111111111111111,\"#46039f\"],[0.2222222222222222,\"#7201a8\"],[0.3333333333333333,\"#9c179e\"],[0.4444444444444444,\"#bd3786\"],[0.5555555555555556,\"#d8576b\"],[0.6666666666666666,\"#ed7953\"],[0.7777777777777778,\"#fb9f3a\"],[0.8888888888888888,\"#fdca26\"],[1.0,\"#f0f921\"]]}],\"choropleth\":[{\"type\":\"choropleth\",\"colorbar\":{\"outlinewidth\":0,\"ticks\":\"\"}}],\"histogram2d\":[{\"type\":\"histogram2d\",\"colorbar\":{\"outlinewidth\":0,\"ticks\":\"\"},\"colorscale\":[[0.0,\"#0d0887\"],[0.1111111111111111,\"#46039f\"],[0.2222222222222222,\"#7201a8\"],[0.3333333333333333,\"#9c179e\"],[0.4444444444444444,\"#bd3786\"],[0.5555555555555556,\"#d8576b\"],[0.6666666666666666,\"#ed7953\"],[0.7777777777777778,\"#fb9f3a\"],[0.8888888888888888,\"#fdca26\"],[1.0,\"#f0f921\"]]}],\"heatmap\":[{\"type\":\"heatmap\",\"colorbar\":{\"outlinewidth\":0,\"ticks\":\"\"},\"colorscale\":[[0.0,\"#0d0887\"],[0.1111111111111111,\"#46039f\"],[0.2222222222222222,\"#7201a8\"],[0.3333333333333333,\"#9c179e\"],[0.4444444444444444,\"#bd3786\"],[0.5555555555555556,\"#d8576b\"],[0.6666666666666666,\"#ed7953\"],[0.7777777777777778,\"#fb9f3a\"],[0.8888888888888888,\"#fdca26\"],[1.0,\"#f0f921\"]]}],\"heatmapgl\":[{\"type\":\"heatmapgl\",\"colorbar\":{\"outlinewidth\":0,\"ticks\":\"\"},\"colorscale\":[[0.0,\"#0d0887\"],[0.1111111111111111,\"#46039f\"],[0.2222222222222222,\"#7201a8\"],[0.3333333333333333,\"#9c179e\"],[0.4444444444444444,\"#bd3786\"],[0.5555555555555556,\"#d8576b\"],[0.6666666666666666,\"#ed7953\"],[0.7777777777777778,\"#fb9f3a\"],[0.8888888888888888,\"#fdca26\"],[1.0,\"#f0f921\"]]}],\"contourcarpet\":[{\"type\":\"contourcarpet\",\"colorbar\":{\"outlinewidth\":0,\"ticks\":\"\"}}],\"contour\":[{\"type\":\"contour\",\"colorbar\":{\"outlinewidth\":0,\"ticks\":\"\"},\"colorscale\":[[0.0,\"#0d0887\"],[0.1111111111111111,\"#46039f\"],[0.2222222222222222,\"#7201a8\"],[0.3333333333333333,\"#9c179e\"],[0.4444444444444444,\"#bd3786\"],[0.5555555555555556,\"#d8576b\"],[0.6666666666666666,\"#ed7953\"],[0.7777777777777778,\"#fb9f3a\"],[0.8888888888888888,\"#fdca26\"],[1.0,\"#f0f921\"]]}],\"surface\":[{\"type\":\"surface\",\"colorbar\":{\"outlinewidth\":0,\"ticks\":\"\"},\"colorscale\":[[0.0,\"#0d0887\"],[0.1111111111111111,\"#46039f\"],[0.2222222222222222,\"#7201a8\"],[0.3333333333333333,\"#9c179e\"],[0.4444444444444444,\"#bd3786\"],[0.5555555555555556,\"#d8576b\"],[0.6666666666666666,\"#ed7953\"],[0.7777777777777778,\"#fb9f3a\"],[0.8888888888888888,\"#fdca26\"],[1.0,\"#f0f921\"]]}],\"mesh3d\":[{\"type\":\"mesh3d\",\"colorbar\":{\"outlinewidth\":0,\"ticks\":\"\"}}],\"scatter\":[{\"fillpattern\":{\"fillmode\":\"overlay\",\"size\":10,\"solidity\":0.2},\"type\":\"scatter\"}],\"parcoords\":[{\"type\":\"parcoords\",\"line\":{\"colorbar\":{\"outlinewidth\":0,\"ticks\":\"\"}}}],\"scatterpolargl\":[{\"type\":\"scatterpolargl\",\"marker\":{\"colorbar\":{\"outlinewidth\":0,\"ticks\":\"\"}}}],\"bar\":[{\"error_x\":{\"color\":\"#2a3f5f\"},\"error_y\":{\"color\":\"#2a3f5f\"},\"marker\":{\"line\":{\"color\":\"#E5ECF6\",\"width\":0.5},\"pattern\":{\"fillmode\":\"overlay\",\"size\":10,\"solidity\":0.2}},\"type\":\"bar\"}],\"scattergeo\":[{\"type\":\"scattergeo\",\"marker\":{\"colorbar\":{\"outlinewidth\":0,\"ticks\":\"\"}}}],\"scatterpolar\":[{\"type\":\"scatterpolar\",\"marker\":{\"colorbar\":{\"outlinewidth\":0,\"ticks\":\"\"}}}],\"histogram\":[{\"marker\":{\"pattern\":{\"fillmode\":\"overlay\",\"size\":10,\"solidity\":0.2}},\"type\":\"histogram\"}],\"scattergl\":[{\"type\":\"scattergl\",\"marker\":{\"colorbar\":{\"outlinewidth\":0,\"ticks\":\"\"}}}],\"scatter3d\":[{\"type\":\"scatter3d\",\"line\":{\"colorbar\":{\"outlinewidth\":0,\"ticks\":\"\"}},\"marker\":{\"colorbar\":{\"outlinewidth\":0,\"ticks\":\"\"}}}],\"scattermapbox\":[{\"type\":\"scattermapbox\",\"marker\":{\"colorbar\":{\"outlinewidth\":0,\"ticks\":\"\"}}}],\"scatterternary\":[{\"type\":\"scatterternary\",\"marker\":{\"colorbar\":{\"outlinewidth\":0,\"ticks\":\"\"}}}],\"scattercarpet\":[{\"type\":\"scattercarpet\",\"marker\":{\"colorbar\":{\"outlinewidth\":0,\"ticks\":\"\"}}}],\"carpet\":[{\"aaxis\":{\"endlinecolor\":\"#2a3f5f\",\"gridcolor\":\"white\",\"linecolor\":\"white\",\"minorgridcolor\":\"white\",\"startlinecolor\":\"#2a3f5f\"},\"baxis\":{\"endlinecolor\":\"#2a3f5f\",\"gridcolor\":\"white\",\"linecolor\":\"white\",\"minorgridcolor\":\"white\",\"startlinecolor\":\"#2a3f5f\"},\"type\":\"carpet\"}],\"table\":[{\"cells\":{\"fill\":{\"color\":\"#EBF0F8\"},\"line\":{\"color\":\"white\"}},\"header\":{\"fill\":{\"color\":\"#C8D4E3\"},\"line\":{\"color\":\"white\"}},\"type\":\"table\"}],\"barpolar\":[{\"marker\":{\"line\":{\"color\":\"#E5ECF6\",\"width\":0.5},\"pattern\":{\"fillmode\":\"overlay\",\"size\":10,\"solidity\":0.2}},\"type\":\"barpolar\"}],\"pie\":[{\"automargin\":true,\"type\":\"pie\"}]},\"layout\":{\"autotypenumbers\":\"strict\",\"colorway\":[\"#636efa\",\"#EF553B\",\"#00cc96\",\"#ab63fa\",\"#FFA15A\",\"#19d3f3\",\"#FF6692\",\"#B6E880\",\"#FF97FF\",\"#FECB52\"],\"font\":{\"color\":\"#2a3f5f\"},\"hovermode\":\"closest\",\"hoverlabel\":{\"align\":\"left\"},\"paper_bgcolor\":\"white\",\"plot_bgcolor\":\"#E5ECF6\",\"polar\":{\"bgcolor\":\"#E5ECF6\",\"angularaxis\":{\"gridcolor\":\"white\",\"linecolor\":\"white\",\"ticks\":\"\"},\"radialaxis\":{\"gridcolor\":\"white\",\"linecolor\":\"white\",\"ticks\":\"\"}},\"ternary\":{\"bgcolor\":\"#E5ECF6\",\"aaxis\":{\"gridcolor\":\"white\",\"linecolor\":\"white\",\"ticks\":\"\"},\"baxis\":{\"gridcolor\":\"white\",\"linecolor\":\"white\",\"ticks\":\"\"},\"caxis\":{\"gridcolor\":\"white\",\"linecolor\":\"white\",\"ticks\":\"\"}},\"coloraxis\":{\"colorbar\":{\"outlinewidth\":0,\"ticks\":\"\"}},\"colorscale\":{\"sequential\":[[0.0,\"#0d0887\"],[0.1111111111111111,\"#46039f\"],[0.2222222222222222,\"#7201a8\"],[0.3333333333333333,\"#9c179e\"],[0.4444444444444444,\"#bd3786\"],[0.5555555555555556,\"#d8576b\"],[0.6666666666666666,\"#ed7953\"],[0.7777777777777778,\"#fb9f3a\"],[0.8888888888888888,\"#fdca26\"],[1.0,\"#f0f921\"]],\"sequentialminus\":[[0.0,\"#0d0887\"],[0.1111111111111111,\"#46039f\"],[0.2222222222222222,\"#7201a8\"],[0.3333333333333333,\"#9c179e\"],[0.4444444444444444,\"#bd3786\"],[0.5555555555555556,\"#d8576b\"],[0.6666666666666666,\"#ed7953\"],[0.7777777777777778,\"#fb9f3a\"],[0.8888888888888888,\"#fdca26\"],[1.0,\"#f0f921\"]],\"diverging\":[[0,\"#8e0152\"],[0.1,\"#c51b7d\"],[0.2,\"#de77ae\"],[0.3,\"#f1b6da\"],[0.4,\"#fde0ef\"],[0.5,\"#f7f7f7\"],[0.6,\"#e6f5d0\"],[0.7,\"#b8e186\"],[0.8,\"#7fbc41\"],[0.9,\"#4d9221\"],[1,\"#276419\"]]},\"xaxis\":{\"gridcolor\":\"white\",\"linecolor\":\"white\",\"ticks\":\"\",\"title\":{\"standoff\":15},\"zerolinecolor\":\"white\",\"automargin\":true,\"zerolinewidth\":2},\"yaxis\":{\"gridcolor\":\"white\",\"linecolor\":\"white\",\"ticks\":\"\",\"title\":{\"standoff\":15},\"zerolinecolor\":\"white\",\"automargin\":true,\"zerolinewidth\":2},\"scene\":{\"xaxis\":{\"backgroundcolor\":\"#E5ECF6\",\"gridcolor\":\"white\",\"linecolor\":\"white\",\"showbackground\":true,\"ticks\":\"\",\"zerolinecolor\":\"white\",\"gridwidth\":2},\"yaxis\":{\"backgroundcolor\":\"#E5ECF6\",\"gridcolor\":\"white\",\"linecolor\":\"white\",\"showbackground\":true,\"ticks\":\"\",\"zerolinecolor\":\"white\",\"gridwidth\":2},\"zaxis\":{\"backgroundcolor\":\"#E5ECF6\",\"gridcolor\":\"white\",\"linecolor\":\"white\",\"showbackground\":true,\"ticks\":\"\",\"zerolinecolor\":\"white\",\"gridwidth\":2}},\"shapedefaults\":{\"line\":{\"color\":\"#2a3f5f\"}},\"annotationdefaults\":{\"arrowcolor\":\"#2a3f5f\",\"arrowhead\":0,\"arrowwidth\":1},\"geo\":{\"bgcolor\":\"white\",\"landcolor\":\"#E5ECF6\",\"subunitcolor\":\"white\",\"showland\":true,\"showlakes\":true,\"lakecolor\":\"white\"},\"title\":{\"x\":0.05},\"mapbox\":{\"style\":\"light\"}}},\"geo\":{\"domain\":{\"x\":[0.0,1.0],\"y\":[0.0,1.0]},\"center\":{},\"projection\":{\"type\":\"natural earth\"}},\"coloraxis\":{\"colorbar\":{\"title\":{\"text\":\"Production Value\"}},\"colorscale\":[[0,\"rgb(240,240,240)\"],[0.1,\"rgb(252, 244, 83)\"],[0.2,\"rgb(255, 145, 36)\"],[0.5,\"rgb(255, 85, 28)\"],[1,\"rgb(227,26,28,0.5)\"]]},\"legend\":{\"tracegroupgap\":0},\"margin\":{\"t\":60},\"updatemenus\":[{\"buttons\":[{\"args\":[null,{\"frame\":{\"duration\":500,\"redraw\":true},\"mode\":\"immediate\",\"fromcurrent\":true,\"transition\":{\"duration\":500,\"easing\":\"linear\"}}],\"label\":\"&#9654;\",\"method\":\"animate\"},{\"args\":[[null],{\"frame\":{\"duration\":0,\"redraw\":true},\"mode\":\"immediate\",\"fromcurrent\":true,\"transition\":{\"duration\":0,\"easing\":\"linear\"}}],\"label\":\"&#9724;\",\"method\":\"animate\"}],\"direction\":\"left\",\"pad\":{\"r\":10,\"t\":70},\"showactive\":false,\"type\":\"buttons\",\"x\":0.1,\"xanchor\":\"right\",\"y\":0,\"yanchor\":\"top\"}],\"sliders\":[{\"active\":0,\"currentvalue\":{\"prefix\":\"Year=\"},\"len\":0.9,\"pad\":{\"b\":10,\"t\":60},\"steps\":[{\"args\":[[\"2007\"],{\"frame\":{\"duration\":0,\"redraw\":true},\"mode\":\"immediate\",\"fromcurrent\":true,\"transition\":{\"duration\":0,\"easing\":\"linear\"}}],\"label\":\"2007\",\"method\":\"animate\"},{\"args\":[[\"2008\"],{\"frame\":{\"duration\":0,\"redraw\":true},\"mode\":\"immediate\",\"fromcurrent\":true,\"transition\":{\"duration\":0,\"easing\":\"linear\"}}],\"label\":\"2008\",\"method\":\"animate\"},{\"args\":[[\"2009\"],{\"frame\":{\"duration\":0,\"redraw\":true},\"mode\":\"immediate\",\"fromcurrent\":true,\"transition\":{\"duration\":0,\"easing\":\"linear\"}}],\"label\":\"2009\",\"method\":\"animate\"},{\"args\":[[\"2010\"],{\"frame\":{\"duration\":0,\"redraw\":true},\"mode\":\"immediate\",\"fromcurrent\":true,\"transition\":{\"duration\":0,\"easing\":\"linear\"}}],\"label\":\"2010\",\"method\":\"animate\"},{\"args\":[[\"2011\"],{\"frame\":{\"duration\":0,\"redraw\":true},\"mode\":\"immediate\",\"fromcurrent\":true,\"transition\":{\"duration\":0,\"easing\":\"linear\"}}],\"label\":\"2011\",\"method\":\"animate\"},{\"args\":[[\"2012\"],{\"frame\":{\"duration\":0,\"redraw\":true},\"mode\":\"immediate\",\"fromcurrent\":true,\"transition\":{\"duration\":0,\"easing\":\"linear\"}}],\"label\":\"2012\",\"method\":\"animate\"},{\"args\":[[\"2013\"],{\"frame\":{\"duration\":0,\"redraw\":true},\"mode\":\"immediate\",\"fromcurrent\":true,\"transition\":{\"duration\":0,\"easing\":\"linear\"}}],\"label\":\"2013\",\"method\":\"animate\"},{\"args\":[[\"2014\"],{\"frame\":{\"duration\":0,\"redraw\":true},\"mode\":\"immediate\",\"fromcurrent\":true,\"transition\":{\"duration\":0,\"easing\":\"linear\"}}],\"label\":\"2014\",\"method\":\"animate\"},{\"args\":[[\"2015\"],{\"frame\":{\"duration\":0,\"redraw\":true},\"mode\":\"immediate\",\"fromcurrent\":true,\"transition\":{\"duration\":0,\"easing\":\"linear\"}}],\"label\":\"2015\",\"method\":\"animate\"}],\"x\":0.1,\"xanchor\":\"left\",\"y\":0,\"yanchor\":\"top\"}],\"title\":{\"text\":\"Cement Production Value (Million USD)\"}},                        {\"responsive\": true}                    ).then(function(){\n",
       "                            Plotly.addFrames('7611ac8b-9a9b-4c27-bd4a-1e76f8fc66b8', [{\"data\":[{\"coloraxis\":\"coloraxis\",\"geo\":\"geo\",\"hovertemplate\":\"<b>%{hovertext}</b><br><br>Year=2007<br>Code=%{location}<br>Production Value=%{z}<extra></extra>\",\"hovertext\":[\"IRL\",\"USA\",\"BRA\",\"CHN\",\"DEU\",\"RUS\",\"AUS\",\"VNM\",\"JPN\",\"IRN\"],\"locations\":[\"IRL\",\"USA\",\"BRA\",\"CHN\",\"DEU\",\"RUS\",\"AUS\",\"VNM\",\"JPN\",\"IRN\"],\"name\":\"\",\"z\":[146.7,10153.0,3802.0,54201.0,2644.0,6146.0,2333.0,4297.0,138.6,1588.0],\"type\":\"choropleth\"}],\"name\":\"2007\"},{\"data\":[{\"coloraxis\":\"coloraxis\",\"geo\":\"geo\",\"hovertemplate\":\"<b>%{hovertext}</b><br><br>Year=2008<br>Code=%{location}<br>Production Value=%{z}<extra></extra>\",\"hovertext\":[\"IRL\",\"USA\",\"BRA\",\"CHN\",\"DEU\",\"RUS\",\"AUS\",\"VNM\",\"JPN\",\"IRN\"],\"locations\":[\"IRL\",\"USA\",\"BRA\",\"CHN\",\"DEU\",\"RUS\",\"AUS\",\"VNM\",\"JPN\",\"IRN\"],\"name\":\"\",\"z\":[160.2,8915.0,5478.0,66718.0,2665.0,7563.0,3041.0,4209.0,170.0,2233.0],\"type\":\"choropleth\"}],\"name\":\"2008\"},{\"data\":[{\"coloraxis\":\"coloraxis\",\"geo\":\"geo\",\"hovertemplate\":\"<b>%{hovertext}</b><br><br>Year=2009<br>Code=%{location}<br>Production Value=%{z}<extra></extra>\",\"hovertext\":[\"IRL\",\"USA\",\"BRA\",\"CHN\",\"DEU\",\"RUS\",\"AUS\",\"VNM\",\"JPN\",\"IRN\"],\"locations\":[\"IRL\",\"USA\",\"BRA\",\"CHN\",\"DEU\",\"RUS\",\"AUS\",\"VNM\",\"JPN\",\"IRN\"],\"name\":\"\",\"z\":[175.1,5568.0,5086.0,82445.0,2687.0,3832.0,2836.0,4596.0,190.9,2559.0],\"type\":\"choropleth\"}],\"name\":\"2009\"},{\"data\":[{\"coloraxis\":\"coloraxis\",\"geo\":\"geo\",\"hovertemplate\":\"<b>%{hovertext}</b><br><br>Year=2010<br>Code=%{location}<br>Production Value=%{z}<extra></extra>\",\"hovertext\":[\"IRL\",\"USA\",\"BRA\",\"CHN\",\"DEU\",\"RUS\",\"AUS\",\"VNM\",\"JPN\",\"IRN\"],\"locations\":[\"IRL\",\"USA\",\"BRA\",\"CHN\",\"DEU\",\"RUS\",\"AUS\",\"VNM\",\"JPN\",\"IRN\"],\"name\":\"\",\"z\":[191.3,5064.0,6714.0,94894.0,2483.0,4142.0,2940.0,4987.0,203.8,2885.0],\"type\":\"choropleth\"}],\"name\":\"2010\"},{\"data\":[{\"coloraxis\":\"coloraxis\",\"geo\":\"geo\",\"hovertemplate\":\"<b>%{hovertext}</b><br><br>Year=2011<br>Code=%{location}<br>Production Value=%{z}<extra></extra>\",\"hovertext\":[\"IRL\",\"USA\",\"BRA\",\"CHN\",\"DEU\",\"RUS\",\"AUS\",\"VNM\",\"JPN\",\"IRN\"],\"locations\":[\"IRL\",\"USA\",\"BRA\",\"CHN\",\"DEU\",\"RUS\",\"AUS\",\"VNM\",\"JPN\",\"IRN\"],\"name\":\"\",\"z\":[209.0,5278.0,8250.0,126356.0,2975.0,5279.0,3423.0,4967.0,276.3,3394.0],\"type\":\"choropleth\"}],\"name\":\"2011\"},{\"data\":[{\"coloraxis\":\"coloraxis\",\"geo\":\"geo\",\"hovertemplate\":\"<b>%{hovertext}</b><br><br>Year=2012<br>Code=%{location}<br>Production Value=%{z}<extra></extra>\",\"hovertext\":[\"IRL\",\"USA\",\"BRA\",\"CHN\",\"DEU\",\"RUS\",\"AUS\",\"VNM\",\"JPN\",\"IRN\"],\"locations\":[\"IRL\",\"USA\",\"BRA\",\"CHN\",\"DEU\",\"RUS\",\"AUS\",\"VNM\",\"JPN\",\"IRN\"],\"name\":\"\",\"z\":[228.4,5661.0,7631.0,134256.0,2660.0,6434.0,2879.0,3603.0,280.4,3903.0],\"type\":\"choropleth\"}],\"name\":\"2012\"},{\"data\":[{\"coloraxis\":\"coloraxis\",\"geo\":\"geo\",\"hovertemplate\":\"<b>%{hovertext}</b><br><br>Year=2013<br>Code=%{location}<br>Production Value=%{z}<extra></extra>\",\"hovertext\":[\"IRL\",\"USA\",\"BRA\",\"CHN\",\"DEU\",\"RUS\",\"AUS\",\"VNM\",\"JPN\",\"IRN\"],\"locations\":[\"IRL\",\"USA\",\"BRA\",\"CHN\",\"DEU\",\"RUS\",\"AUS\",\"VNM\",\"JPN\",\"IRN\"],\"name\":\"\",\"z\":[234.9,6506.0,7690.0,140297.0,2709.0,6999.0,2631.0,4505.0,243.5,4489.0],\"type\":\"choropleth\"}],\"name\":\"2013\"},{\"data\":[{\"coloraxis\":\"coloraxis\",\"geo\":\"geo\",\"hovertemplate\":\"<b>%{hovertext}</b><br><br>Year=2014<br>Code=%{location}<br>Production Value=%{z}<extra></extra>\",\"hovertext\":[\"IRL\",\"USA\",\"BRA\",\"CHN\",\"DEU\",\"RUS\",\"AUS\",\"VNM\",\"JPN\",\"IRN\"],\"locations\":[\"IRL\",\"USA\",\"BRA\",\"CHN\",\"DEU\",\"RUS\",\"AUS\",\"VNM\",\"JPN\",\"IRN\"],\"name\":\"\",\"z\":[237.6,6956.0,7801.0,148660.0,2820.0,5748.0,4047.0,4658.0,244.4,5162.0],\"type\":\"choropleth\"}],\"name\":\"2014\"},{\"data\":[{\"coloraxis\":\"coloraxis\",\"geo\":\"geo\",\"hovertemplate\":\"<b>%{hovertext}</b><br><br>Year=2015<br>Code=%{location}<br>Production Value=%{z}<extra></extra>\",\"hovertext\":[\"IRL\",\"USA\",\"BRA\",\"CHN\",\"DEU\",\"RUS\",\"AUS\",\"VNM\",\"JPN\",\"IRN\"],\"locations\":[\"IRL\",\"USA\",\"BRA\",\"CHN\",\"DEU\",\"RUS\",\"AUS\",\"VNM\",\"JPN\",\"IRN\"],\"name\":\"\",\"z\":[323.7,7800.0,4927.0,136866.0,2322.0,3286.0,2530.0,5269.0,233.5,5936.0],\"type\":\"choropleth\"}],\"name\":\"2015\"}]);\n",
       "                        }).then(function(){\n",
       "                            \n",
       "var gd = document.getElementById('7611ac8b-9a9b-4c27-bd4a-1e76f8fc66b8');\n",
       "var x = new MutationObserver(function (mutations, observer) {{\n",
       "        var display = window.getComputedStyle(gd).display;\n",
       "        if (!display || display === 'none') {{\n",
       "            console.log([gd, 'removed!']);\n",
       "            Plotly.purge(gd);\n",
       "            observer.disconnect();\n",
       "        }}\n",
       "}});\n",
       "\n",
       "// Listen for the removal of the full notebook cells\n",
       "var notebookContainer = gd.closest('#notebook-container');\n",
       "if (notebookContainer) {{\n",
       "    x.observe(notebookContainer, {childList: true});\n",
       "}}\n",
       "\n",
       "// Listen for the clearing of the current output cell\n",
       "var outputEl = gd.closest('.output');\n",
       "if (outputEl) {{\n",
       "    x.observe(outputEl, {childList: true});\n",
       "}}\n",
       "\n",
       "                        })                };                });            </script>        </div>"
      ]
     },
     "metadata": {},
     "output_type": "display_data"
    }
   ],
   "source": [
    "fig = px.choropleth(cement_merge, locations=\"Code\",\n",
    "                    color=\"Production Value\", \n",
    "                    hover_name=\"Code\", \n",
    "                    # column to add to hover information\n",
    "                    animation_frame=\"Year\", \n",
    "                    # column on which to animate\n",
    "                    color_continuous_scale=[[0, 'rgb(240,240,240)'],\n",
    "                      [0.10, 'rgb(252, 244, 83)'],\n",
    "                      [0.2, 'rgb(255, 145, 36)'],\n",
    "                      [0.50, 'rgb(255, 85, 28)'],\n",
    "                      [1, 'rgb(227,26,28,0.5)']])\n",
    "                    \n",
    "fig.update_layout(\n",
    "    # add a title text for the plot\n",
    "    title_text = 'Cement Production Value (Million USD)',\n",
    "    # set projection style for the plot\n",
    "    geo = dict(projection={'type':'natural earth'}) \n",
    "    # by default, projection type is set to 'equirectangular'\n",
    ")\n",
    "fig.show()\n"
   ]
  },
  {
   "cell_type": "code",
   "execution_count": 73,
   "id": "9d1be729",
   "metadata": {},
   "outputs": [
    {
     "data": {
      "application/vnd.plotly.v1+json": {
       "config": {
        "plotlyServerURL": "https://plot.ly"
       },
       "data": [
        {
         "geo": "geo",
         "hovertemplate": "<b>%{hovertext}</b><br><br>Year=2007<br>Per Capita Consumption=%{marker.size}<br>Code=%{location}<extra></extra>",
         "hovertext": [
          "IRL",
          "USA",
          "BRA",
          "CHN",
          "DEU",
          "RUS",
          "AUS",
          "VNM",
          "JPN",
          "IRN"
         ],
         "legendgroup": "",
         "locations": [
          "IRL",
          "USA",
          "BRA",
          "CHN",
          "DEU",
          "RUS",
          "AUS",
          "VNM",
          "JPN",
          "IRN"
         ],
         "marker": {
          "color": "#636efa",
          "size": [
           810.1,
           391,
           238.7,
           985,
           338.9,
           421.6,
           452.8,
           431.7,
           458.5,
           569
          ],
          "sizemode": "area",
          "sizeref": 1.09125,
          "symbol": "circle"
         },
         "mode": "markers",
         "name": "",
         "showlegend": false,
         "type": "scattergeo"
        }
       ],
       "frames": [
        {
         "data": [
          {
           "geo": "geo",
           "hovertemplate": "<b>%{hovertext}</b><br><br>Year=2007<br>Per Capita Consumption=%{marker.size}<br>Code=%{location}<extra></extra>",
           "hovertext": [
            "IRL",
            "USA",
            "BRA",
            "CHN",
            "DEU",
            "RUS",
            "AUS",
            "VNM",
            "JPN",
            "IRN"
           ],
           "legendgroup": "",
           "locations": [
            "IRL",
            "USA",
            "BRA",
            "CHN",
            "DEU",
            "RUS",
            "AUS",
            "VNM",
            "JPN",
            "IRN"
           ],
           "marker": {
            "color": "#636efa",
            "size": [
             810.1,
             391,
             238.7,
             985,
             338.9,
             421.6,
             452.8,
             431.7,
             458.5,
             569
            ],
            "sizemode": "area",
            "sizeref": 1.09125,
            "symbol": "circle"
           },
           "mode": "markers",
           "name": "",
           "showlegend": false,
           "type": "scattergeo"
          }
         ],
         "name": "2007"
        },
        {
         "data": [
          {
           "geo": "geo",
           "hovertemplate": "<b>%{hovertext}</b><br><br>Year=2008<br>Per Capita Consumption=%{marker.size}<br>Code=%{location}<extra></extra>",
           "hovertext": [
            "IRL",
            "USA",
            "BRA",
            "CHN",
            "DEU",
            "RUS",
            "AUS",
            "VNM",
            "JPN",
            "IRN"
           ],
           "legendgroup": "",
           "locations": [
            "IRL",
            "USA",
            "BRA",
            "CHN",
            "DEU",
            "RUS",
            "AUS",
            "VNM",
            "JPN",
            "IRN"
           ],
           "marker": {
            "color": "#636efa",
            "size": [
             777.2,
             321.5,
             267.7,
             1009,
             338.4,
             411.8,
             472.6,
             461.7,
             447,
             608.9
            ],
            "sizemode": "area",
            "sizeref": 1.09125,
            "symbol": "circle"
           },
           "mode": "markers",
           "name": "",
           "showlegend": false,
           "type": "scattergeo"
          }
         ],
         "name": "2008"
        },
        {
         "data": [
          {
           "geo": "geo",
           "hovertemplate": "<b>%{hovertext}</b><br><br>Year=2009<br>Per Capita Consumption=%{marker.size}<br>Code=%{location}<extra></extra>",
           "hovertext": [
            "IRL",
            "USA",
            "BRA",
            "CHN",
            "DEU",
            "RUS",
            "AUS",
            "VNM",
            "JPN",
            "IRN"
           ],
           "legendgroup": "",
           "locations": [
            "IRL",
            "USA",
            "BRA",
            "CHN",
            "DEU",
            "RUS",
            "AUS",
            "VNM",
            "JPN",
            "IRN"
           ],
           "marker": {
            "color": "#636efa",
            "size": [
             382.6,
             229.4,
             267.3,
             1183,
             307.8,
             307.8,
             442.3,
             547.4,
             385.2,
             670
            ],
            "sizemode": "area",
            "sizeref": 1.09125,
            "symbol": "circle"
           },
           "mode": "markers",
           "name": "",
           "showlegend": false,
           "type": "scattergeo"
          }
         ],
         "name": "2009"
        },
        {
         "data": [
          {
           "geo": "geo",
           "hovertemplate": "<b>%{hovertext}</b><br><br>Year=2010<br>Per Capita Consumption=%{marker.size}<br>Code=%{location}<extra></extra>",
           "hovertext": [
            "IRL",
            "USA",
            "BRA",
            "CHN",
            "DEU",
            "RUS",
            "AUS",
            "VNM",
            "JPN",
            "IRN"
           ],
           "legendgroup": "",
           "locations": [
            "IRL",
            "USA",
            "BRA",
            "CHN",
            "DEU",
            "RUS",
            "AUS",
            "VNM",
            "JPN",
            "IRN"
           ],
           "marker": {
            "color": "#636efa",
            "size": [
             368.2,
             233.1,
             304.6,
             1346,
             306,
             355.3,
             425.6,
             628.4,
             363.7,
             653.2
            ],
            "sizemode": "area",
            "sizeref": 1.09125,
            "symbol": "circle"
           },
           "mode": "markers",
           "name": "",
           "showlegend": false,
           "type": "scattergeo"
          }
         ],
         "name": "2010"
        },
        {
         "data": [
          {
           "geo": "geo",
           "hovertemplate": "<b>%{hovertext}</b><br><br>Year=2011<br>Per Capita Consumption=%{marker.size}<br>Code=%{location}<extra></extra>",
           "hovertext": [
            "IRL",
            "USA",
            "BRA",
            "CHN",
            "DEU",
            "RUS",
            "AUS",
            "VNM",
            "JPN",
            "IRN"
           ],
           "legendgroup": "",
           "locations": [
            "IRL",
            "USA",
            "BRA",
            "CHN",
            "DEU",
            "RUS",
            "AUS",
            "VNM",
            "JPN",
            "IRN"
           ],
           "marker": {
            "color": "#636efa",
            "size": [
             270.8,
             234.5,
             327.9,
             1495,
             330.7,
             406,
             405.1,
             647.5,
             366.5,
             861.6
            ],
            "sizemode": "area",
            "sizeref": 1.09125,
            "symbol": "circle"
           },
           "mode": "markers",
           "name": "",
           "showlegend": false,
           "type": "scattergeo"
          }
         ],
         "name": "2011"
        },
        {
         "data": [
          {
           "geo": "geo",
           "hovertemplate": "<b>%{hovertext}</b><br><br>Year=2012<br>Per Capita Consumption=%{marker.size}<br>Code=%{location}<extra></extra>",
           "hovertext": [
            "IRL",
            "USA",
            "BRA",
            "CHN",
            "DEU",
            "RUS",
            "AUS",
            "VNM",
            "JPN",
            "IRN"
           ],
           "legendgroup": "",
           "locations": [
            "IRL",
            "USA",
            "BRA",
            "CHN",
            "DEU",
            "RUS",
            "AUS",
            "VNM",
            "JPN",
            "IRN"
           ],
           "marker": {
            "color": "#636efa",
            "size": [
             10.4,
             252.8,
             350.4,
             1566,
             335.1,
             449.5,
             399.1,
             610.1,
             390.7,
             902.8
            ],
            "sizemode": "area",
            "sizeref": 1.09125,
            "symbol": "circle"
           },
           "mode": "markers",
           "name": "",
           "showlegend": false,
           "type": "scattergeo"
          }
         ],
         "name": "2012"
        },
        {
         "data": [
          {
           "geo": "geo",
           "hovertemplate": "<b>%{hovertext}</b><br><br>Year=2013<br>Per Capita Consumption=%{marker.size}<br>Code=%{location}<extra></extra>",
           "hovertext": [
            "IRL",
            "USA",
            "BRA",
            "CHN",
            "DEU",
            "RUS",
            "AUS",
            "VNM",
            "JPN",
            "IRN"
           ],
           "legendgroup": "",
           "locations": [
            "IRL",
            "USA",
            "BRA",
            "CHN",
            "DEU",
            "RUS",
            "AUS",
            "VNM",
            "JPN",
            "IRN"
           ],
           "marker": {
            "color": "#636efa",
            "size": [
             182.8,
             260,
             350.7,
             1698,
             327.4,
             481.4,
             380.6,
             591.4,
             417.5,
             862.3
            ],
            "sizemode": "area",
            "sizeref": 1.09125,
            "symbol": "circle"
           },
           "mode": "markers",
           "name": "",
           "showlegend": false,
           "type": "scattergeo"
          }
         ],
         "name": "2013"
        },
        {
         "data": [
          {
           "geo": "geo",
           "hovertemplate": "<b>%{hovertext}</b><br><br>Year=2014<br>Per Capita Consumption=%{marker.size}<br>Code=%{location}<extra></extra>",
           "hovertext": [
            "IRL",
            "USA",
            "BRA",
            "CHN",
            "DEU",
            "RUS",
            "AUS",
            "VNM",
            "JPN",
            "IRN"
           ],
           "legendgroup": "",
           "locations": [
            "IRL",
            "USA",
            "BRA",
            "CHN",
            "DEU",
            "RUS",
            "AUS",
            "VNM",
            "JPN",
            "IRN"
           ],
           "marker": {
            "color": "#636efa",
            "size": [
             124,
             271.8,
             352.7,
             1746,
             339.6,
             499.2,
             399.4,
             617.9,
             415.8,
             800.3
            ],
            "sizemode": "area",
            "sizeref": 1.09125,
            "symbol": "circle"
           },
           "mode": "markers",
           "name": "",
           "showlegend": false,
           "type": "scattergeo"
          }
         ],
         "name": "2014"
        },
        {
         "data": [
          {
           "geo": "geo",
           "hovertemplate": "<b>%{hovertext}</b><br><br>Year=2015<br>Per Capita Consumption=%{marker.size}<br>Code=%{location}<extra></extra>",
           "hovertext": [
            "IRL",
            "USA",
            "BRA",
            "CHN",
            "DEU",
            "RUS",
            "AUS",
            "VNM",
            "JPN",
            "IRN"
           ],
           "legendgroup": "",
           "locations": [
            "IRL",
            "USA",
            "BRA",
            "CHN",
            "DEU",
            "RUS",
            "AUS",
            "VNM",
            "JPN",
            "IRN"
           ],
           "marker": {
            "color": "#636efa",
            "size": [
             141.9,
             318.7,
             318.7,
             1645,
             320.7,
             439.7,
             394.7,
             689.5,
             386.3,
             626.9
            ],
            "sizemode": "area",
            "sizeref": 1.09125,
            "symbol": "circle"
           },
           "mode": "markers",
           "name": "",
           "showlegend": false,
           "type": "scattergeo"
          }
         ],
         "name": "2015"
        }
       ],
       "layout": {
        "geo": {
         "center": {},
         "domain": {
          "x": [
           0,
           1
          ],
          "y": [
           0,
           1
          ]
         },
         "projection": {
          "type": "natural earth"
         }
        },
        "legend": {
         "itemsizing": "constant",
         "tracegroupgap": 0
        },
        "margin": {
         "t": 60
        },
        "sliders": [
         {
          "active": 0,
          "currentvalue": {
           "prefix": "Year="
          },
          "len": 0.9,
          "pad": {
           "b": 10,
           "t": 60
          },
          "steps": [
           {
            "args": [
             [
              "2007"
             ],
             {
              "frame": {
               "duration": 0,
               "redraw": true
              },
              "fromcurrent": true,
              "mode": "immediate",
              "transition": {
               "duration": 0,
               "easing": "linear"
              }
             }
            ],
            "label": "2007",
            "method": "animate"
           },
           {
            "args": [
             [
              "2008"
             ],
             {
              "frame": {
               "duration": 0,
               "redraw": true
              },
              "fromcurrent": true,
              "mode": "immediate",
              "transition": {
               "duration": 0,
               "easing": "linear"
              }
             }
            ],
            "label": "2008",
            "method": "animate"
           },
           {
            "args": [
             [
              "2009"
             ],
             {
              "frame": {
               "duration": 0,
               "redraw": true
              },
              "fromcurrent": true,
              "mode": "immediate",
              "transition": {
               "duration": 0,
               "easing": "linear"
              }
             }
            ],
            "label": "2009",
            "method": "animate"
           },
           {
            "args": [
             [
              "2010"
             ],
             {
              "frame": {
               "duration": 0,
               "redraw": true
              },
              "fromcurrent": true,
              "mode": "immediate",
              "transition": {
               "duration": 0,
               "easing": "linear"
              }
             }
            ],
            "label": "2010",
            "method": "animate"
           },
           {
            "args": [
             [
              "2011"
             ],
             {
              "frame": {
               "duration": 0,
               "redraw": true
              },
              "fromcurrent": true,
              "mode": "immediate",
              "transition": {
               "duration": 0,
               "easing": "linear"
              }
             }
            ],
            "label": "2011",
            "method": "animate"
           },
           {
            "args": [
             [
              "2012"
             ],
             {
              "frame": {
               "duration": 0,
               "redraw": true
              },
              "fromcurrent": true,
              "mode": "immediate",
              "transition": {
               "duration": 0,
               "easing": "linear"
              }
             }
            ],
            "label": "2012",
            "method": "animate"
           },
           {
            "args": [
             [
              "2013"
             ],
             {
              "frame": {
               "duration": 0,
               "redraw": true
              },
              "fromcurrent": true,
              "mode": "immediate",
              "transition": {
               "duration": 0,
               "easing": "linear"
              }
             }
            ],
            "label": "2013",
            "method": "animate"
           },
           {
            "args": [
             [
              "2014"
             ],
             {
              "frame": {
               "duration": 0,
               "redraw": true
              },
              "fromcurrent": true,
              "mode": "immediate",
              "transition": {
               "duration": 0,
               "easing": "linear"
              }
             }
            ],
            "label": "2014",
            "method": "animate"
           },
           {
            "args": [
             [
              "2015"
             ],
             {
              "frame": {
               "duration": 0,
               "redraw": true
              },
              "fromcurrent": true,
              "mode": "immediate",
              "transition": {
               "duration": 0,
               "easing": "linear"
              }
             }
            ],
            "label": "2015",
            "method": "animate"
           }
          ],
          "x": 0.1,
          "xanchor": "left",
          "y": 0,
          "yanchor": "top"
         }
        ],
        "template": {
         "data": {
          "bar": [
           {
            "error_x": {
             "color": "#2a3f5f"
            },
            "error_y": {
             "color": "#2a3f5f"
            },
            "marker": {
             "line": {
              "color": "#E5ECF6",
              "width": 0.5
             },
             "pattern": {
              "fillmode": "overlay",
              "size": 10,
              "solidity": 0.2
             }
            },
            "type": "bar"
           }
          ],
          "barpolar": [
           {
            "marker": {
             "line": {
              "color": "#E5ECF6",
              "width": 0.5
             },
             "pattern": {
              "fillmode": "overlay",
              "size": 10,
              "solidity": 0.2
             }
            },
            "type": "barpolar"
           }
          ],
          "carpet": [
           {
            "aaxis": {
             "endlinecolor": "#2a3f5f",
             "gridcolor": "white",
             "linecolor": "white",
             "minorgridcolor": "white",
             "startlinecolor": "#2a3f5f"
            },
            "baxis": {
             "endlinecolor": "#2a3f5f",
             "gridcolor": "white",
             "linecolor": "white",
             "minorgridcolor": "white",
             "startlinecolor": "#2a3f5f"
            },
            "type": "carpet"
           }
          ],
          "choropleth": [
           {
            "colorbar": {
             "outlinewidth": 0,
             "ticks": ""
            },
            "type": "choropleth"
           }
          ],
          "contour": [
           {
            "colorbar": {
             "outlinewidth": 0,
             "ticks": ""
            },
            "colorscale": [
             [
              0,
              "#0d0887"
             ],
             [
              0.1111111111111111,
              "#46039f"
             ],
             [
              0.2222222222222222,
              "#7201a8"
             ],
             [
              0.3333333333333333,
              "#9c179e"
             ],
             [
              0.4444444444444444,
              "#bd3786"
             ],
             [
              0.5555555555555556,
              "#d8576b"
             ],
             [
              0.6666666666666666,
              "#ed7953"
             ],
             [
              0.7777777777777778,
              "#fb9f3a"
             ],
             [
              0.8888888888888888,
              "#fdca26"
             ],
             [
              1,
              "#f0f921"
             ]
            ],
            "type": "contour"
           }
          ],
          "contourcarpet": [
           {
            "colorbar": {
             "outlinewidth": 0,
             "ticks": ""
            },
            "type": "contourcarpet"
           }
          ],
          "heatmap": [
           {
            "colorbar": {
             "outlinewidth": 0,
             "ticks": ""
            },
            "colorscale": [
             [
              0,
              "#0d0887"
             ],
             [
              0.1111111111111111,
              "#46039f"
             ],
             [
              0.2222222222222222,
              "#7201a8"
             ],
             [
              0.3333333333333333,
              "#9c179e"
             ],
             [
              0.4444444444444444,
              "#bd3786"
             ],
             [
              0.5555555555555556,
              "#d8576b"
             ],
             [
              0.6666666666666666,
              "#ed7953"
             ],
             [
              0.7777777777777778,
              "#fb9f3a"
             ],
             [
              0.8888888888888888,
              "#fdca26"
             ],
             [
              1,
              "#f0f921"
             ]
            ],
            "type": "heatmap"
           }
          ],
          "heatmapgl": [
           {
            "colorbar": {
             "outlinewidth": 0,
             "ticks": ""
            },
            "colorscale": [
             [
              0,
              "#0d0887"
             ],
             [
              0.1111111111111111,
              "#46039f"
             ],
             [
              0.2222222222222222,
              "#7201a8"
             ],
             [
              0.3333333333333333,
              "#9c179e"
             ],
             [
              0.4444444444444444,
              "#bd3786"
             ],
             [
              0.5555555555555556,
              "#d8576b"
             ],
             [
              0.6666666666666666,
              "#ed7953"
             ],
             [
              0.7777777777777778,
              "#fb9f3a"
             ],
             [
              0.8888888888888888,
              "#fdca26"
             ],
             [
              1,
              "#f0f921"
             ]
            ],
            "type": "heatmapgl"
           }
          ],
          "histogram": [
           {
            "marker": {
             "pattern": {
              "fillmode": "overlay",
              "size": 10,
              "solidity": 0.2
             }
            },
            "type": "histogram"
           }
          ],
          "histogram2d": [
           {
            "colorbar": {
             "outlinewidth": 0,
             "ticks": ""
            },
            "colorscale": [
             [
              0,
              "#0d0887"
             ],
             [
              0.1111111111111111,
              "#46039f"
             ],
             [
              0.2222222222222222,
              "#7201a8"
             ],
             [
              0.3333333333333333,
              "#9c179e"
             ],
             [
              0.4444444444444444,
              "#bd3786"
             ],
             [
              0.5555555555555556,
              "#d8576b"
             ],
             [
              0.6666666666666666,
              "#ed7953"
             ],
             [
              0.7777777777777778,
              "#fb9f3a"
             ],
             [
              0.8888888888888888,
              "#fdca26"
             ],
             [
              1,
              "#f0f921"
             ]
            ],
            "type": "histogram2d"
           }
          ],
          "histogram2dcontour": [
           {
            "colorbar": {
             "outlinewidth": 0,
             "ticks": ""
            },
            "colorscale": [
             [
              0,
              "#0d0887"
             ],
             [
              0.1111111111111111,
              "#46039f"
             ],
             [
              0.2222222222222222,
              "#7201a8"
             ],
             [
              0.3333333333333333,
              "#9c179e"
             ],
             [
              0.4444444444444444,
              "#bd3786"
             ],
             [
              0.5555555555555556,
              "#d8576b"
             ],
             [
              0.6666666666666666,
              "#ed7953"
             ],
             [
              0.7777777777777778,
              "#fb9f3a"
             ],
             [
              0.8888888888888888,
              "#fdca26"
             ],
             [
              1,
              "#f0f921"
             ]
            ],
            "type": "histogram2dcontour"
           }
          ],
          "mesh3d": [
           {
            "colorbar": {
             "outlinewidth": 0,
             "ticks": ""
            },
            "type": "mesh3d"
           }
          ],
          "parcoords": [
           {
            "line": {
             "colorbar": {
              "outlinewidth": 0,
              "ticks": ""
             }
            },
            "type": "parcoords"
           }
          ],
          "pie": [
           {
            "automargin": true,
            "type": "pie"
           }
          ],
          "scatter": [
           {
            "fillpattern": {
             "fillmode": "overlay",
             "size": 10,
             "solidity": 0.2
            },
            "type": "scatter"
           }
          ],
          "scatter3d": [
           {
            "line": {
             "colorbar": {
              "outlinewidth": 0,
              "ticks": ""
             }
            },
            "marker": {
             "colorbar": {
              "outlinewidth": 0,
              "ticks": ""
             }
            },
            "type": "scatter3d"
           }
          ],
          "scattercarpet": [
           {
            "marker": {
             "colorbar": {
              "outlinewidth": 0,
              "ticks": ""
             }
            },
            "type": "scattercarpet"
           }
          ],
          "scattergeo": [
           {
            "marker": {
             "colorbar": {
              "outlinewidth": 0,
              "ticks": ""
             }
            },
            "type": "scattergeo"
           }
          ],
          "scattergl": [
           {
            "marker": {
             "colorbar": {
              "outlinewidth": 0,
              "ticks": ""
             }
            },
            "type": "scattergl"
           }
          ],
          "scattermapbox": [
           {
            "marker": {
             "colorbar": {
              "outlinewidth": 0,
              "ticks": ""
             }
            },
            "type": "scattermapbox"
           }
          ],
          "scatterpolar": [
           {
            "marker": {
             "colorbar": {
              "outlinewidth": 0,
              "ticks": ""
             }
            },
            "type": "scatterpolar"
           }
          ],
          "scatterpolargl": [
           {
            "marker": {
             "colorbar": {
              "outlinewidth": 0,
              "ticks": ""
             }
            },
            "type": "scatterpolargl"
           }
          ],
          "scatterternary": [
           {
            "marker": {
             "colorbar": {
              "outlinewidth": 0,
              "ticks": ""
             }
            },
            "type": "scatterternary"
           }
          ],
          "surface": [
           {
            "colorbar": {
             "outlinewidth": 0,
             "ticks": ""
            },
            "colorscale": [
             [
              0,
              "#0d0887"
             ],
             [
              0.1111111111111111,
              "#46039f"
             ],
             [
              0.2222222222222222,
              "#7201a8"
             ],
             [
              0.3333333333333333,
              "#9c179e"
             ],
             [
              0.4444444444444444,
              "#bd3786"
             ],
             [
              0.5555555555555556,
              "#d8576b"
             ],
             [
              0.6666666666666666,
              "#ed7953"
             ],
             [
              0.7777777777777778,
              "#fb9f3a"
             ],
             [
              0.8888888888888888,
              "#fdca26"
             ],
             [
              1,
              "#f0f921"
             ]
            ],
            "type": "surface"
           }
          ],
          "table": [
           {
            "cells": {
             "fill": {
              "color": "#EBF0F8"
             },
             "line": {
              "color": "white"
             }
            },
            "header": {
             "fill": {
              "color": "#C8D4E3"
             },
             "line": {
              "color": "white"
             }
            },
            "type": "table"
           }
          ]
         },
         "layout": {
          "annotationdefaults": {
           "arrowcolor": "#2a3f5f",
           "arrowhead": 0,
           "arrowwidth": 1
          },
          "autotypenumbers": "strict",
          "coloraxis": {
           "colorbar": {
            "outlinewidth": 0,
            "ticks": ""
           }
          },
          "colorscale": {
           "diverging": [
            [
             0,
             "#8e0152"
            ],
            [
             0.1,
             "#c51b7d"
            ],
            [
             0.2,
             "#de77ae"
            ],
            [
             0.3,
             "#f1b6da"
            ],
            [
             0.4,
             "#fde0ef"
            ],
            [
             0.5,
             "#f7f7f7"
            ],
            [
             0.6,
             "#e6f5d0"
            ],
            [
             0.7,
             "#b8e186"
            ],
            [
             0.8,
             "#7fbc41"
            ],
            [
             0.9,
             "#4d9221"
            ],
            [
             1,
             "#276419"
            ]
           ],
           "sequential": [
            [
             0,
             "#0d0887"
            ],
            [
             0.1111111111111111,
             "#46039f"
            ],
            [
             0.2222222222222222,
             "#7201a8"
            ],
            [
             0.3333333333333333,
             "#9c179e"
            ],
            [
             0.4444444444444444,
             "#bd3786"
            ],
            [
             0.5555555555555556,
             "#d8576b"
            ],
            [
             0.6666666666666666,
             "#ed7953"
            ],
            [
             0.7777777777777778,
             "#fb9f3a"
            ],
            [
             0.8888888888888888,
             "#fdca26"
            ],
            [
             1,
             "#f0f921"
            ]
           ],
           "sequentialminus": [
            [
             0,
             "#0d0887"
            ],
            [
             0.1111111111111111,
             "#46039f"
            ],
            [
             0.2222222222222222,
             "#7201a8"
            ],
            [
             0.3333333333333333,
             "#9c179e"
            ],
            [
             0.4444444444444444,
             "#bd3786"
            ],
            [
             0.5555555555555556,
             "#d8576b"
            ],
            [
             0.6666666666666666,
             "#ed7953"
            ],
            [
             0.7777777777777778,
             "#fb9f3a"
            ],
            [
             0.8888888888888888,
             "#fdca26"
            ],
            [
             1,
             "#f0f921"
            ]
           ]
          },
          "colorway": [
           "#636efa",
           "#EF553B",
           "#00cc96",
           "#ab63fa",
           "#FFA15A",
           "#19d3f3",
           "#FF6692",
           "#B6E880",
           "#FF97FF",
           "#FECB52"
          ],
          "font": {
           "color": "#2a3f5f"
          },
          "geo": {
           "bgcolor": "white",
           "lakecolor": "white",
           "landcolor": "#E5ECF6",
           "showlakes": true,
           "showland": true,
           "subunitcolor": "white"
          },
          "hoverlabel": {
           "align": "left"
          },
          "hovermode": "closest",
          "mapbox": {
           "style": "light"
          },
          "paper_bgcolor": "white",
          "plot_bgcolor": "#E5ECF6",
          "polar": {
           "angularaxis": {
            "gridcolor": "white",
            "linecolor": "white",
            "ticks": ""
           },
           "bgcolor": "#E5ECF6",
           "radialaxis": {
            "gridcolor": "white",
            "linecolor": "white",
            "ticks": ""
           }
          },
          "scene": {
           "xaxis": {
            "backgroundcolor": "#E5ECF6",
            "gridcolor": "white",
            "gridwidth": 2,
            "linecolor": "white",
            "showbackground": true,
            "ticks": "",
            "zerolinecolor": "white"
           },
           "yaxis": {
            "backgroundcolor": "#E5ECF6",
            "gridcolor": "white",
            "gridwidth": 2,
            "linecolor": "white",
            "showbackground": true,
            "ticks": "",
            "zerolinecolor": "white"
           },
           "zaxis": {
            "backgroundcolor": "#E5ECF6",
            "gridcolor": "white",
            "gridwidth": 2,
            "linecolor": "white",
            "showbackground": true,
            "ticks": "",
            "zerolinecolor": "white"
           }
          },
          "shapedefaults": {
           "line": {
            "color": "#2a3f5f"
           }
          },
          "ternary": {
           "aaxis": {
            "gridcolor": "white",
            "linecolor": "white",
            "ticks": ""
           },
           "baxis": {
            "gridcolor": "white",
            "linecolor": "white",
            "ticks": ""
           },
           "bgcolor": "#E5ECF6",
           "caxis": {
            "gridcolor": "white",
            "linecolor": "white",
            "ticks": ""
           }
          },
          "title": {
           "x": 0.05
          },
          "xaxis": {
           "automargin": true,
           "gridcolor": "white",
           "linecolor": "white",
           "ticks": "",
           "title": {
            "standoff": 15
           },
           "zerolinecolor": "white",
           "zerolinewidth": 2
          },
          "yaxis": {
           "automargin": true,
           "gridcolor": "white",
           "linecolor": "white",
           "ticks": "",
           "title": {
            "standoff": 15
           },
           "zerolinecolor": "white",
           "zerolinewidth": 2
          }
         }
        },
        "title": {
         "text": "Cement Per Capita Consumption (kg/person)"
        },
        "updatemenus": [
         {
          "buttons": [
           {
            "args": [
             null,
             {
              "frame": {
               "duration": 500,
               "redraw": true
              },
              "fromcurrent": true,
              "mode": "immediate",
              "transition": {
               "duration": 500,
               "easing": "linear"
              }
             }
            ],
            "label": "&#9654;",
            "method": "animate"
           },
           {
            "args": [
             [
              null
             ],
             {
              "frame": {
               "duration": 0,
               "redraw": true
              },
              "fromcurrent": true,
              "mode": "immediate",
              "transition": {
               "duration": 0,
               "easing": "linear"
              }
             }
            ],
            "label": "&#9724;",
            "method": "animate"
           }
          ],
          "direction": "left",
          "pad": {
           "r": 10,
           "t": 70
          },
          "showactive": false,
          "type": "buttons",
          "x": 0.1,
          "xanchor": "right",
          "y": 0,
          "yanchor": "top"
         }
        ]
       }
      },
      "text/html": [
       "<div>                            <div id=\"6aa999cb-7701-4e5a-a03c-d963eed77304\" class=\"plotly-graph-div\" style=\"height:525px; width:100%;\"></div>            <script type=\"text/javascript\">                require([\"plotly\"], function(Plotly) {                    window.PLOTLYENV=window.PLOTLYENV || {};                                    if (document.getElementById(\"6aa999cb-7701-4e5a-a03c-d963eed77304\")) {                    Plotly.newPlot(                        \"6aa999cb-7701-4e5a-a03c-d963eed77304\",                        [{\"geo\":\"geo\",\"hovertemplate\":\"<b>%{hovertext}</b><br><br>Year=2007<br>Per Capita Consumption=%{marker.size}<br>Code=%{location}<extra></extra>\",\"hovertext\":[\"IRL\",\"USA\",\"BRA\",\"CHN\",\"DEU\",\"RUS\",\"AUS\",\"VNM\",\"JPN\",\"IRN\"],\"legendgroup\":\"\",\"locations\":[\"IRL\",\"USA\",\"BRA\",\"CHN\",\"DEU\",\"RUS\",\"AUS\",\"VNM\",\"JPN\",\"IRN\"],\"marker\":{\"color\":\"#636efa\",\"size\":[810.1,391.0,238.7,985.0,338.9,421.6,452.8,431.7,458.5,569.0],\"sizemode\":\"area\",\"sizeref\":1.09125,\"symbol\":\"circle\"},\"mode\":\"markers\",\"name\":\"\",\"showlegend\":false,\"type\":\"scattergeo\"}],                        {\"template\":{\"data\":{\"histogram2dcontour\":[{\"type\":\"histogram2dcontour\",\"colorbar\":{\"outlinewidth\":0,\"ticks\":\"\"},\"colorscale\":[[0.0,\"#0d0887\"],[0.1111111111111111,\"#46039f\"],[0.2222222222222222,\"#7201a8\"],[0.3333333333333333,\"#9c179e\"],[0.4444444444444444,\"#bd3786\"],[0.5555555555555556,\"#d8576b\"],[0.6666666666666666,\"#ed7953\"],[0.7777777777777778,\"#fb9f3a\"],[0.8888888888888888,\"#fdca26\"],[1.0,\"#f0f921\"]]}],\"choropleth\":[{\"type\":\"choropleth\",\"colorbar\":{\"outlinewidth\":0,\"ticks\":\"\"}}],\"histogram2d\":[{\"type\":\"histogram2d\",\"colorbar\":{\"outlinewidth\":0,\"ticks\":\"\"},\"colorscale\":[[0.0,\"#0d0887\"],[0.1111111111111111,\"#46039f\"],[0.2222222222222222,\"#7201a8\"],[0.3333333333333333,\"#9c179e\"],[0.4444444444444444,\"#bd3786\"],[0.5555555555555556,\"#d8576b\"],[0.6666666666666666,\"#ed7953\"],[0.7777777777777778,\"#fb9f3a\"],[0.8888888888888888,\"#fdca26\"],[1.0,\"#f0f921\"]]}],\"heatmap\":[{\"type\":\"heatmap\",\"colorbar\":{\"outlinewidth\":0,\"ticks\":\"\"},\"colorscale\":[[0.0,\"#0d0887\"],[0.1111111111111111,\"#46039f\"],[0.2222222222222222,\"#7201a8\"],[0.3333333333333333,\"#9c179e\"],[0.4444444444444444,\"#bd3786\"],[0.5555555555555556,\"#d8576b\"],[0.6666666666666666,\"#ed7953\"],[0.7777777777777778,\"#fb9f3a\"],[0.8888888888888888,\"#fdca26\"],[1.0,\"#f0f921\"]]}],\"heatmapgl\":[{\"type\":\"heatmapgl\",\"colorbar\":{\"outlinewidth\":0,\"ticks\":\"\"},\"colorscale\":[[0.0,\"#0d0887\"],[0.1111111111111111,\"#46039f\"],[0.2222222222222222,\"#7201a8\"],[0.3333333333333333,\"#9c179e\"],[0.4444444444444444,\"#bd3786\"],[0.5555555555555556,\"#d8576b\"],[0.6666666666666666,\"#ed7953\"],[0.7777777777777778,\"#fb9f3a\"],[0.8888888888888888,\"#fdca26\"],[1.0,\"#f0f921\"]]}],\"contourcarpet\":[{\"type\":\"contourcarpet\",\"colorbar\":{\"outlinewidth\":0,\"ticks\":\"\"}}],\"contour\":[{\"type\":\"contour\",\"colorbar\":{\"outlinewidth\":0,\"ticks\":\"\"},\"colorscale\":[[0.0,\"#0d0887\"],[0.1111111111111111,\"#46039f\"],[0.2222222222222222,\"#7201a8\"],[0.3333333333333333,\"#9c179e\"],[0.4444444444444444,\"#bd3786\"],[0.5555555555555556,\"#d8576b\"],[0.6666666666666666,\"#ed7953\"],[0.7777777777777778,\"#fb9f3a\"],[0.8888888888888888,\"#fdca26\"],[1.0,\"#f0f921\"]]}],\"surface\":[{\"type\":\"surface\",\"colorbar\":{\"outlinewidth\":0,\"ticks\":\"\"},\"colorscale\":[[0.0,\"#0d0887\"],[0.1111111111111111,\"#46039f\"],[0.2222222222222222,\"#7201a8\"],[0.3333333333333333,\"#9c179e\"],[0.4444444444444444,\"#bd3786\"],[0.5555555555555556,\"#d8576b\"],[0.6666666666666666,\"#ed7953\"],[0.7777777777777778,\"#fb9f3a\"],[0.8888888888888888,\"#fdca26\"],[1.0,\"#f0f921\"]]}],\"mesh3d\":[{\"type\":\"mesh3d\",\"colorbar\":{\"outlinewidth\":0,\"ticks\":\"\"}}],\"scatter\":[{\"fillpattern\":{\"fillmode\":\"overlay\",\"size\":10,\"solidity\":0.2},\"type\":\"scatter\"}],\"parcoords\":[{\"type\":\"parcoords\",\"line\":{\"colorbar\":{\"outlinewidth\":0,\"ticks\":\"\"}}}],\"scatterpolargl\":[{\"type\":\"scatterpolargl\",\"marker\":{\"colorbar\":{\"outlinewidth\":0,\"ticks\":\"\"}}}],\"bar\":[{\"error_x\":{\"color\":\"#2a3f5f\"},\"error_y\":{\"color\":\"#2a3f5f\"},\"marker\":{\"line\":{\"color\":\"#E5ECF6\",\"width\":0.5},\"pattern\":{\"fillmode\":\"overlay\",\"size\":10,\"solidity\":0.2}},\"type\":\"bar\"}],\"scattergeo\":[{\"type\":\"scattergeo\",\"marker\":{\"colorbar\":{\"outlinewidth\":0,\"ticks\":\"\"}}}],\"scatterpolar\":[{\"type\":\"scatterpolar\",\"marker\":{\"colorbar\":{\"outlinewidth\":0,\"ticks\":\"\"}}}],\"histogram\":[{\"marker\":{\"pattern\":{\"fillmode\":\"overlay\",\"size\":10,\"solidity\":0.2}},\"type\":\"histogram\"}],\"scattergl\":[{\"type\":\"scattergl\",\"marker\":{\"colorbar\":{\"outlinewidth\":0,\"ticks\":\"\"}}}],\"scatter3d\":[{\"type\":\"scatter3d\",\"line\":{\"colorbar\":{\"outlinewidth\":0,\"ticks\":\"\"}},\"marker\":{\"colorbar\":{\"outlinewidth\":0,\"ticks\":\"\"}}}],\"scattermapbox\":[{\"type\":\"scattermapbox\",\"marker\":{\"colorbar\":{\"outlinewidth\":0,\"ticks\":\"\"}}}],\"scatterternary\":[{\"type\":\"scatterternary\",\"marker\":{\"colorbar\":{\"outlinewidth\":0,\"ticks\":\"\"}}}],\"scattercarpet\":[{\"type\":\"scattercarpet\",\"marker\":{\"colorbar\":{\"outlinewidth\":0,\"ticks\":\"\"}}}],\"carpet\":[{\"aaxis\":{\"endlinecolor\":\"#2a3f5f\",\"gridcolor\":\"white\",\"linecolor\":\"white\",\"minorgridcolor\":\"white\",\"startlinecolor\":\"#2a3f5f\"},\"baxis\":{\"endlinecolor\":\"#2a3f5f\",\"gridcolor\":\"white\",\"linecolor\":\"white\",\"minorgridcolor\":\"white\",\"startlinecolor\":\"#2a3f5f\"},\"type\":\"carpet\"}],\"table\":[{\"cells\":{\"fill\":{\"color\":\"#EBF0F8\"},\"line\":{\"color\":\"white\"}},\"header\":{\"fill\":{\"color\":\"#C8D4E3\"},\"line\":{\"color\":\"white\"}},\"type\":\"table\"}],\"barpolar\":[{\"marker\":{\"line\":{\"color\":\"#E5ECF6\",\"width\":0.5},\"pattern\":{\"fillmode\":\"overlay\",\"size\":10,\"solidity\":0.2}},\"type\":\"barpolar\"}],\"pie\":[{\"automargin\":true,\"type\":\"pie\"}]},\"layout\":{\"autotypenumbers\":\"strict\",\"colorway\":[\"#636efa\",\"#EF553B\",\"#00cc96\",\"#ab63fa\",\"#FFA15A\",\"#19d3f3\",\"#FF6692\",\"#B6E880\",\"#FF97FF\",\"#FECB52\"],\"font\":{\"color\":\"#2a3f5f\"},\"hovermode\":\"closest\",\"hoverlabel\":{\"align\":\"left\"},\"paper_bgcolor\":\"white\",\"plot_bgcolor\":\"#E5ECF6\",\"polar\":{\"bgcolor\":\"#E5ECF6\",\"angularaxis\":{\"gridcolor\":\"white\",\"linecolor\":\"white\",\"ticks\":\"\"},\"radialaxis\":{\"gridcolor\":\"white\",\"linecolor\":\"white\",\"ticks\":\"\"}},\"ternary\":{\"bgcolor\":\"#E5ECF6\",\"aaxis\":{\"gridcolor\":\"white\",\"linecolor\":\"white\",\"ticks\":\"\"},\"baxis\":{\"gridcolor\":\"white\",\"linecolor\":\"white\",\"ticks\":\"\"},\"caxis\":{\"gridcolor\":\"white\",\"linecolor\":\"white\",\"ticks\":\"\"}},\"coloraxis\":{\"colorbar\":{\"outlinewidth\":0,\"ticks\":\"\"}},\"colorscale\":{\"sequential\":[[0.0,\"#0d0887\"],[0.1111111111111111,\"#46039f\"],[0.2222222222222222,\"#7201a8\"],[0.3333333333333333,\"#9c179e\"],[0.4444444444444444,\"#bd3786\"],[0.5555555555555556,\"#d8576b\"],[0.6666666666666666,\"#ed7953\"],[0.7777777777777778,\"#fb9f3a\"],[0.8888888888888888,\"#fdca26\"],[1.0,\"#f0f921\"]],\"sequentialminus\":[[0.0,\"#0d0887\"],[0.1111111111111111,\"#46039f\"],[0.2222222222222222,\"#7201a8\"],[0.3333333333333333,\"#9c179e\"],[0.4444444444444444,\"#bd3786\"],[0.5555555555555556,\"#d8576b\"],[0.6666666666666666,\"#ed7953\"],[0.7777777777777778,\"#fb9f3a\"],[0.8888888888888888,\"#fdca26\"],[1.0,\"#f0f921\"]],\"diverging\":[[0,\"#8e0152\"],[0.1,\"#c51b7d\"],[0.2,\"#de77ae\"],[0.3,\"#f1b6da\"],[0.4,\"#fde0ef\"],[0.5,\"#f7f7f7\"],[0.6,\"#e6f5d0\"],[0.7,\"#b8e186\"],[0.8,\"#7fbc41\"],[0.9,\"#4d9221\"],[1,\"#276419\"]]},\"xaxis\":{\"gridcolor\":\"white\",\"linecolor\":\"white\",\"ticks\":\"\",\"title\":{\"standoff\":15},\"zerolinecolor\":\"white\",\"automargin\":true,\"zerolinewidth\":2},\"yaxis\":{\"gridcolor\":\"white\",\"linecolor\":\"white\",\"ticks\":\"\",\"title\":{\"standoff\":15},\"zerolinecolor\":\"white\",\"automargin\":true,\"zerolinewidth\":2},\"scene\":{\"xaxis\":{\"backgroundcolor\":\"#E5ECF6\",\"gridcolor\":\"white\",\"linecolor\":\"white\",\"showbackground\":true,\"ticks\":\"\",\"zerolinecolor\":\"white\",\"gridwidth\":2},\"yaxis\":{\"backgroundcolor\":\"#E5ECF6\",\"gridcolor\":\"white\",\"linecolor\":\"white\",\"showbackground\":true,\"ticks\":\"\",\"zerolinecolor\":\"white\",\"gridwidth\":2},\"zaxis\":{\"backgroundcolor\":\"#E5ECF6\",\"gridcolor\":\"white\",\"linecolor\":\"white\",\"showbackground\":true,\"ticks\":\"\",\"zerolinecolor\":\"white\",\"gridwidth\":2}},\"shapedefaults\":{\"line\":{\"color\":\"#2a3f5f\"}},\"annotationdefaults\":{\"arrowcolor\":\"#2a3f5f\",\"arrowhead\":0,\"arrowwidth\":1},\"geo\":{\"bgcolor\":\"white\",\"landcolor\":\"#E5ECF6\",\"subunitcolor\":\"white\",\"showland\":true,\"showlakes\":true,\"lakecolor\":\"white\"},\"title\":{\"x\":0.05},\"mapbox\":{\"style\":\"light\"}}},\"geo\":{\"domain\":{\"x\":[0.0,1.0],\"y\":[0.0,1.0]},\"center\":{},\"projection\":{\"type\":\"natural earth\"}},\"legend\":{\"tracegroupgap\":0,\"itemsizing\":\"constant\"},\"margin\":{\"t\":60},\"updatemenus\":[{\"buttons\":[{\"args\":[null,{\"frame\":{\"duration\":500,\"redraw\":true},\"mode\":\"immediate\",\"fromcurrent\":true,\"transition\":{\"duration\":500,\"easing\":\"linear\"}}],\"label\":\"&#9654;\",\"method\":\"animate\"},{\"args\":[[null],{\"frame\":{\"duration\":0,\"redraw\":true},\"mode\":\"immediate\",\"fromcurrent\":true,\"transition\":{\"duration\":0,\"easing\":\"linear\"}}],\"label\":\"&#9724;\",\"method\":\"animate\"}],\"direction\":\"left\",\"pad\":{\"r\":10,\"t\":70},\"showactive\":false,\"type\":\"buttons\",\"x\":0.1,\"xanchor\":\"right\",\"y\":0,\"yanchor\":\"top\"}],\"sliders\":[{\"active\":0,\"currentvalue\":{\"prefix\":\"Year=\"},\"len\":0.9,\"pad\":{\"b\":10,\"t\":60},\"steps\":[{\"args\":[[\"2007\"],{\"frame\":{\"duration\":0,\"redraw\":true},\"mode\":\"immediate\",\"fromcurrent\":true,\"transition\":{\"duration\":0,\"easing\":\"linear\"}}],\"label\":\"2007\",\"method\":\"animate\"},{\"args\":[[\"2008\"],{\"frame\":{\"duration\":0,\"redraw\":true},\"mode\":\"immediate\",\"fromcurrent\":true,\"transition\":{\"duration\":0,\"easing\":\"linear\"}}],\"label\":\"2008\",\"method\":\"animate\"},{\"args\":[[\"2009\"],{\"frame\":{\"duration\":0,\"redraw\":true},\"mode\":\"immediate\",\"fromcurrent\":true,\"transition\":{\"duration\":0,\"easing\":\"linear\"}}],\"label\":\"2009\",\"method\":\"animate\"},{\"args\":[[\"2010\"],{\"frame\":{\"duration\":0,\"redraw\":true},\"mode\":\"immediate\",\"fromcurrent\":true,\"transition\":{\"duration\":0,\"easing\":\"linear\"}}],\"label\":\"2010\",\"method\":\"animate\"},{\"args\":[[\"2011\"],{\"frame\":{\"duration\":0,\"redraw\":true},\"mode\":\"immediate\",\"fromcurrent\":true,\"transition\":{\"duration\":0,\"easing\":\"linear\"}}],\"label\":\"2011\",\"method\":\"animate\"},{\"args\":[[\"2012\"],{\"frame\":{\"duration\":0,\"redraw\":true},\"mode\":\"immediate\",\"fromcurrent\":true,\"transition\":{\"duration\":0,\"easing\":\"linear\"}}],\"label\":\"2012\",\"method\":\"animate\"},{\"args\":[[\"2013\"],{\"frame\":{\"duration\":0,\"redraw\":true},\"mode\":\"immediate\",\"fromcurrent\":true,\"transition\":{\"duration\":0,\"easing\":\"linear\"}}],\"label\":\"2013\",\"method\":\"animate\"},{\"args\":[[\"2014\"],{\"frame\":{\"duration\":0,\"redraw\":true},\"mode\":\"immediate\",\"fromcurrent\":true,\"transition\":{\"duration\":0,\"easing\":\"linear\"}}],\"label\":\"2014\",\"method\":\"animate\"},{\"args\":[[\"2015\"],{\"frame\":{\"duration\":0,\"redraw\":true},\"mode\":\"immediate\",\"fromcurrent\":true,\"transition\":{\"duration\":0,\"easing\":\"linear\"}}],\"label\":\"2015\",\"method\":\"animate\"}],\"x\":0.1,\"xanchor\":\"left\",\"y\":0,\"yanchor\":\"top\"}],\"title\":{\"text\":\"Cement Per Capita Consumption (kg/person)\"}},                        {\"responsive\": true}                    ).then(function(){\n",
       "                            Plotly.addFrames('6aa999cb-7701-4e5a-a03c-d963eed77304', [{\"data\":[{\"geo\":\"geo\",\"hovertemplate\":\"<b>%{hovertext}</b><br><br>Year=2007<br>Per Capita Consumption=%{marker.size}<br>Code=%{location}<extra></extra>\",\"hovertext\":[\"IRL\",\"USA\",\"BRA\",\"CHN\",\"DEU\",\"RUS\",\"AUS\",\"VNM\",\"JPN\",\"IRN\"],\"legendgroup\":\"\",\"locations\":[\"IRL\",\"USA\",\"BRA\",\"CHN\",\"DEU\",\"RUS\",\"AUS\",\"VNM\",\"JPN\",\"IRN\"],\"marker\":{\"color\":\"#636efa\",\"size\":[810.1,391.0,238.7,985.0,338.9,421.6,452.8,431.7,458.5,569.0],\"sizemode\":\"area\",\"sizeref\":1.09125,\"symbol\":\"circle\"},\"mode\":\"markers\",\"name\":\"\",\"showlegend\":false,\"type\":\"scattergeo\"}],\"name\":\"2007\"},{\"data\":[{\"geo\":\"geo\",\"hovertemplate\":\"<b>%{hovertext}</b><br><br>Year=2008<br>Per Capita Consumption=%{marker.size}<br>Code=%{location}<extra></extra>\",\"hovertext\":[\"IRL\",\"USA\",\"BRA\",\"CHN\",\"DEU\",\"RUS\",\"AUS\",\"VNM\",\"JPN\",\"IRN\"],\"legendgroup\":\"\",\"locations\":[\"IRL\",\"USA\",\"BRA\",\"CHN\",\"DEU\",\"RUS\",\"AUS\",\"VNM\",\"JPN\",\"IRN\"],\"marker\":{\"color\":\"#636efa\",\"size\":[777.2,321.5,267.7,1009.0,338.4,411.8,472.6,461.7,447.0,608.9],\"sizemode\":\"area\",\"sizeref\":1.09125,\"symbol\":\"circle\"},\"mode\":\"markers\",\"name\":\"\",\"showlegend\":false,\"type\":\"scattergeo\"}],\"name\":\"2008\"},{\"data\":[{\"geo\":\"geo\",\"hovertemplate\":\"<b>%{hovertext}</b><br><br>Year=2009<br>Per Capita Consumption=%{marker.size}<br>Code=%{location}<extra></extra>\",\"hovertext\":[\"IRL\",\"USA\",\"BRA\",\"CHN\",\"DEU\",\"RUS\",\"AUS\",\"VNM\",\"JPN\",\"IRN\"],\"legendgroup\":\"\",\"locations\":[\"IRL\",\"USA\",\"BRA\",\"CHN\",\"DEU\",\"RUS\",\"AUS\",\"VNM\",\"JPN\",\"IRN\"],\"marker\":{\"color\":\"#636efa\",\"size\":[382.6,229.4,267.3,1183.0,307.8,307.8,442.3,547.4,385.2,670.0],\"sizemode\":\"area\",\"sizeref\":1.09125,\"symbol\":\"circle\"},\"mode\":\"markers\",\"name\":\"\",\"showlegend\":false,\"type\":\"scattergeo\"}],\"name\":\"2009\"},{\"data\":[{\"geo\":\"geo\",\"hovertemplate\":\"<b>%{hovertext}</b><br><br>Year=2010<br>Per Capita Consumption=%{marker.size}<br>Code=%{location}<extra></extra>\",\"hovertext\":[\"IRL\",\"USA\",\"BRA\",\"CHN\",\"DEU\",\"RUS\",\"AUS\",\"VNM\",\"JPN\",\"IRN\"],\"legendgroup\":\"\",\"locations\":[\"IRL\",\"USA\",\"BRA\",\"CHN\",\"DEU\",\"RUS\",\"AUS\",\"VNM\",\"JPN\",\"IRN\"],\"marker\":{\"color\":\"#636efa\",\"size\":[368.2,233.1,304.6,1346.0,306.0,355.3,425.6,628.4,363.7,653.2],\"sizemode\":\"area\",\"sizeref\":1.09125,\"symbol\":\"circle\"},\"mode\":\"markers\",\"name\":\"\",\"showlegend\":false,\"type\":\"scattergeo\"}],\"name\":\"2010\"},{\"data\":[{\"geo\":\"geo\",\"hovertemplate\":\"<b>%{hovertext}</b><br><br>Year=2011<br>Per Capita Consumption=%{marker.size}<br>Code=%{location}<extra></extra>\",\"hovertext\":[\"IRL\",\"USA\",\"BRA\",\"CHN\",\"DEU\",\"RUS\",\"AUS\",\"VNM\",\"JPN\",\"IRN\"],\"legendgroup\":\"\",\"locations\":[\"IRL\",\"USA\",\"BRA\",\"CHN\",\"DEU\",\"RUS\",\"AUS\",\"VNM\",\"JPN\",\"IRN\"],\"marker\":{\"color\":\"#636efa\",\"size\":[270.8,234.5,327.9,1495.0,330.7,406.0,405.1,647.5,366.5,861.6],\"sizemode\":\"area\",\"sizeref\":1.09125,\"symbol\":\"circle\"},\"mode\":\"markers\",\"name\":\"\",\"showlegend\":false,\"type\":\"scattergeo\"}],\"name\":\"2011\"},{\"data\":[{\"geo\":\"geo\",\"hovertemplate\":\"<b>%{hovertext}</b><br><br>Year=2012<br>Per Capita Consumption=%{marker.size}<br>Code=%{location}<extra></extra>\",\"hovertext\":[\"IRL\",\"USA\",\"BRA\",\"CHN\",\"DEU\",\"RUS\",\"AUS\",\"VNM\",\"JPN\",\"IRN\"],\"legendgroup\":\"\",\"locations\":[\"IRL\",\"USA\",\"BRA\",\"CHN\",\"DEU\",\"RUS\",\"AUS\",\"VNM\",\"JPN\",\"IRN\"],\"marker\":{\"color\":\"#636efa\",\"size\":[10.4,252.8,350.4,1566.0,335.1,449.5,399.1,610.1,390.7,902.8],\"sizemode\":\"area\",\"sizeref\":1.09125,\"symbol\":\"circle\"},\"mode\":\"markers\",\"name\":\"\",\"showlegend\":false,\"type\":\"scattergeo\"}],\"name\":\"2012\"},{\"data\":[{\"geo\":\"geo\",\"hovertemplate\":\"<b>%{hovertext}</b><br><br>Year=2013<br>Per Capita Consumption=%{marker.size}<br>Code=%{location}<extra></extra>\",\"hovertext\":[\"IRL\",\"USA\",\"BRA\",\"CHN\",\"DEU\",\"RUS\",\"AUS\",\"VNM\",\"JPN\",\"IRN\"],\"legendgroup\":\"\",\"locations\":[\"IRL\",\"USA\",\"BRA\",\"CHN\",\"DEU\",\"RUS\",\"AUS\",\"VNM\",\"JPN\",\"IRN\"],\"marker\":{\"color\":\"#636efa\",\"size\":[182.8,260.0,350.7,1698.0,327.4,481.4,380.6,591.4,417.5,862.3],\"sizemode\":\"area\",\"sizeref\":1.09125,\"symbol\":\"circle\"},\"mode\":\"markers\",\"name\":\"\",\"showlegend\":false,\"type\":\"scattergeo\"}],\"name\":\"2013\"},{\"data\":[{\"geo\":\"geo\",\"hovertemplate\":\"<b>%{hovertext}</b><br><br>Year=2014<br>Per Capita Consumption=%{marker.size}<br>Code=%{location}<extra></extra>\",\"hovertext\":[\"IRL\",\"USA\",\"BRA\",\"CHN\",\"DEU\",\"RUS\",\"AUS\",\"VNM\",\"JPN\",\"IRN\"],\"legendgroup\":\"\",\"locations\":[\"IRL\",\"USA\",\"BRA\",\"CHN\",\"DEU\",\"RUS\",\"AUS\",\"VNM\",\"JPN\",\"IRN\"],\"marker\":{\"color\":\"#636efa\",\"size\":[124.0,271.8,352.7,1746.0,339.6,499.2,399.4,617.9,415.8,800.3],\"sizemode\":\"area\",\"sizeref\":1.09125,\"symbol\":\"circle\"},\"mode\":\"markers\",\"name\":\"\",\"showlegend\":false,\"type\":\"scattergeo\"}],\"name\":\"2014\"},{\"data\":[{\"geo\":\"geo\",\"hovertemplate\":\"<b>%{hovertext}</b><br><br>Year=2015<br>Per Capita Consumption=%{marker.size}<br>Code=%{location}<extra></extra>\",\"hovertext\":[\"IRL\",\"USA\",\"BRA\",\"CHN\",\"DEU\",\"RUS\",\"AUS\",\"VNM\",\"JPN\",\"IRN\"],\"legendgroup\":\"\",\"locations\":[\"IRL\",\"USA\",\"BRA\",\"CHN\",\"DEU\",\"RUS\",\"AUS\",\"VNM\",\"JPN\",\"IRN\"],\"marker\":{\"color\":\"#636efa\",\"size\":[141.9,318.7,318.7,1645.0,320.7,439.7,394.7,689.5,386.3,626.9],\"sizemode\":\"area\",\"sizeref\":1.09125,\"symbol\":\"circle\"},\"mode\":\"markers\",\"name\":\"\",\"showlegend\":false,\"type\":\"scattergeo\"}],\"name\":\"2015\"}]);\n",
       "                        }).then(function(){\n",
       "                            \n",
       "var gd = document.getElementById('6aa999cb-7701-4e5a-a03c-d963eed77304');\n",
       "var x = new MutationObserver(function (mutations, observer) {{\n",
       "        var display = window.getComputedStyle(gd).display;\n",
       "        if (!display || display === 'none') {{\n",
       "            console.log([gd, 'removed!']);\n",
       "            Plotly.purge(gd);\n",
       "            observer.disconnect();\n",
       "        }}\n",
       "}});\n",
       "\n",
       "// Listen for the removal of the full notebook cells\n",
       "var notebookContainer = gd.closest('#notebook-container');\n",
       "if (notebookContainer) {{\n",
       "    x.observe(notebookContainer, {childList: true});\n",
       "}}\n",
       "\n",
       "// Listen for the clearing of the current output cell\n",
       "var outputEl = gd.closest('.output');\n",
       "if (outputEl) {{\n",
       "    x.observe(outputEl, {childList: true});\n",
       "}}\n",
       "\n",
       "                        })                };                });            </script>        </div>"
      ]
     },
     "metadata": {},
     "output_type": "display_data"
    }
   ],
   "source": [
    "fig = px.scatter_geo(cement_merge, \n",
    "                    locations=\"Code\", \n",
    "                     # name of column which contains state codes\n",
    "                    size=\"Per Capita Consumption\", \n",
    "                     # name of column which contains aggregate value to visualize\n",
    "                    hover_name=\"Code\",\n",
    "                    size_max=40,\n",
    "                    animation_frame=\"Year\",)\n",
    "                    \n",
    "fig.update_layout(\n",
    "    # add a title text for the plot\n",
    "    title_text = 'Cement Per Capita Consumption (kg/person)',\n",
    "    # limit plot scope to USA\n",
    "    geo = dict(projection={'type':'natural earth'})\n",
    ")\n",
    "fig.show()\n"
   ]
  },
  {
   "cell_type": "code",
   "execution_count": 84,
   "id": "cace28c1",
   "metadata": {},
   "outputs": [
    {
     "data": {
      "application/vnd.plotly.v1+json": {
       "config": {
        "plotlyServerURL": "https://plot.ly"
       },
       "data": [
        {
         "geo": "geo",
         "hovertemplate": "<b>%{hovertext}</b><br><br>Year=2007<br>Import Price=%{marker.size}<br>Code=%{location}<extra></extra>",
         "hovertext": [
          "IRL",
          "USA",
          "BRA",
          "CHN",
          "DEU",
          "RUS",
          "AUS",
          "VNM",
          "JPN",
          "IRN"
         ],
         "legendgroup": "",
         "locations": [
          "IRL",
          "USA",
          "BRA",
          "CHN",
          "DEU",
          "RUS",
          "AUS",
          "VNM",
          "JPN",
          "IRN"
         ],
         "marker": {
          "color": "#636efa",
          "size": [
           95.7,
           77.9,
           72.5,
           42.1,
           140.6,
           100,
           124.7,
           115.2,
           53.6,
           81.5
          ],
          "sizemode": "area",
          "sizeref": 0.48362499999999997,
          "symbol": "circle"
         },
         "mode": "markers",
         "name": "",
         "showlegend": false,
         "type": "scattergeo"
        }
       ],
       "frames": [
        {
         "data": [
          {
           "geo": "geo",
           "hovertemplate": "<b>%{hovertext}</b><br><br>Year=2007<br>Import Price=%{marker.size}<br>Code=%{location}<extra></extra>",
           "hovertext": [
            "IRL",
            "USA",
            "BRA",
            "CHN",
            "DEU",
            "RUS",
            "AUS",
            "VNM",
            "JPN",
            "IRN"
           ],
           "legendgroup": "",
           "locations": [
            "IRL",
            "USA",
            "BRA",
            "CHN",
            "DEU",
            "RUS",
            "AUS",
            "VNM",
            "JPN",
            "IRN"
           ],
           "marker": {
            "color": "#636efa",
            "size": [
             95.7,
             77.9,
             72.5,
             42.1,
             140.6,
             100,
             124.7,
             115.2,
             53.6,
             81.5
            ],
            "sizemode": "area",
            "sizeref": 0.48362499999999997,
            "symbol": "circle"
           },
           "mode": "markers",
           "name": "",
           "showlegend": false,
           "type": "scattergeo"
          }
         ],
         "name": "2007"
        },
        {
         "data": [
          {
           "geo": "geo",
           "hovertemplate": "<b>%{hovertext}</b><br><br>Year=2008<br>Import Price=%{marker.size}<br>Code=%{location}<extra></extra>",
           "hovertext": [
            "IRL",
            "USA",
            "BRA",
            "CHN",
            "DEU",
            "RUS",
            "AUS",
            "VNM",
            "JPN",
            "IRN"
           ],
           "legendgroup": "",
           "locations": [
            "IRL",
            "USA",
            "BRA",
            "CHN",
            "DEU",
            "RUS",
            "AUS",
            "VNM",
            "JPN",
            "IRN"
           ],
           "marker": {
            "color": "#636efa",
            "size": [
             88.9,
             87.1,
             93.3,
             47.9,
             162.8,
             101.2,
             109.6,
             105.8,
             65.8,
             97.6
            ],
            "sizemode": "area",
            "sizeref": 0.48362499999999997,
            "symbol": "circle"
           },
           "mode": "markers",
           "name": "",
           "showlegend": false,
           "type": "scattergeo"
          }
         ],
         "name": "2008"
        },
        {
         "data": [
          {
           "geo": "geo",
           "hovertemplate": "<b>%{hovertext}</b><br><br>Year=2009<br>Import Price=%{marker.size}<br>Code=%{location}<extra></extra>",
           "hovertext": [
            "IRL",
            "USA",
            "BRA",
            "CHN",
            "DEU",
            "RUS",
            "AUS",
            "VNM",
            "JPN",
            "IRN"
           ],
           "legendgroup": "",
           "locations": [
            "IRL",
            "USA",
            "BRA",
            "CHN",
            "DEU",
            "RUS",
            "AUS",
            "VNM",
            "JPN",
            "IRN"
           ],
           "marker": {
            "color": "#636efa",
            "size": [
             112.6,
             88.6,
             99.3,
             47.5,
             155.7,
             78.9,
             107.1,
             126.6,
             75.2,
             225.8
            ],
            "sizemode": "area",
            "sizeref": 0.48362499999999997,
            "symbol": "circle"
           },
           "mode": "markers",
           "name": "",
           "showlegend": false,
           "type": "scattergeo"
          }
         ],
         "name": "2009"
        },
        {
         "data": [
          {
           "geo": "geo",
           "hovertemplate": "<b>%{hovertext}</b><br><br>Year=2010<br>Import Price=%{marker.size}<br>Code=%{location}<extra></extra>",
           "hovertext": [
            "IRL",
            "USA",
            "BRA",
            "CHN",
            "DEU",
            "RUS",
            "AUS",
            "VNM",
            "JPN",
            "IRN"
           ],
           "legendgroup": "",
           "locations": [
            "IRL",
            "USA",
            "BRA",
            "CHN",
            "DEU",
            "RUS",
            "AUS",
            "VNM",
            "JPN",
            "IRN"
           ],
           "marker": {
            "color": "#636efa",
            "size": [
             99.9,
             87.3,
             92.3,
             47.2,
             158.8,
             77.8,
             116.7,
             124.3,
             89.8,
             343
            ],
            "sizemode": "area",
            "sizeref": 0.48362499999999997,
            "symbol": "circle"
           },
           "mode": "markers",
           "name": "",
           "showlegend": false,
           "type": "scattergeo"
          }
         ],
         "name": "2010"
        },
        {
         "data": [
          {
           "geo": "geo",
           "hovertemplate": "<b>%{hovertext}</b><br><br>Year=2011<br>Import Price=%{marker.size}<br>Code=%{location}<extra></extra>",
           "hovertext": [
            "IRL",
            "USA",
            "BRA",
            "CHN",
            "DEU",
            "RUS",
            "AUS",
            "VNM",
            "JPN",
            "IRN"
           ],
           "legendgroup": "",
           "locations": [
            "IRL",
            "USA",
            "BRA",
            "CHN",
            "DEU",
            "RUS",
            "AUS",
            "VNM",
            "JPN",
            "IRN"
           ],
           "marker": {
            "color": "#636efa",
            "size": [
             104.6,
             87.4,
             90.6,
             52.9,
             164.9,
             88.6,
             85.9,
             135.1,
             96.1,
             773.8
            ],
            "sizemode": "area",
            "sizeref": 0.48362499999999997,
            "symbol": "circle"
           },
           "mode": "markers",
           "name": "",
           "showlegend": false,
           "type": "scattergeo"
          }
         ],
         "name": "2011"
        },
        {
         "data": [
          {
           "geo": "geo",
           "hovertemplate": "<b>%{hovertext}</b><br><br>Year=2012<br>Import Price=%{marker.size}<br>Code=%{location}<extra></extra>",
           "hovertext": [
            "IRL",
            "USA",
            "BRA",
            "CHN",
            "DEU",
            "RUS",
            "AUS",
            "VNM",
            "JPN",
            "IRN"
           ],
           "legendgroup": "",
           "locations": [
            "IRL",
            "USA",
            "BRA",
            "CHN",
            "DEU",
            "RUS",
            "AUS",
            "VNM",
            "JPN",
            "IRN"
           ],
           "marker": {
            "color": "#636efa",
            "size": [
             118.5,
             88.1,
             93.4,
             57.9,
             141.8,
             82.3,
             81.4,
             107.9,
             93.4,
             189.3
            ],
            "sizemode": "area",
            "sizeref": 0.48362499999999997,
            "symbol": "circle"
           },
           "mode": "markers",
           "name": "",
           "showlegend": false,
           "type": "scattergeo"
          }
         ],
         "name": "2012"
        },
        {
         "data": [
          {
           "geo": "geo",
           "hovertemplate": "<b>%{hovertext}</b><br><br>Year=2013<br>Import Price=%{marker.size}<br>Code=%{location}<extra></extra>",
           "hovertext": [
            "IRL",
            "USA",
            "BRA",
            "CHN",
            "DEU",
            "RUS",
            "AUS",
            "VNM",
            "JPN",
            "IRN"
           ],
           "legendgroup": "",
           "locations": [
            "IRL",
            "USA",
            "BRA",
            "CHN",
            "DEU",
            "RUS",
            "AUS",
            "VNM",
            "JPN",
            "IRN"
           ],
           "marker": {
            "color": "#636efa",
            "size": [
             107.8,
             87.8,
             89.8,
             65.3,
             151.4,
             80.1,
             95,
             125.9,
             83,
             330.6
            ],
            "sizemode": "area",
            "sizeref": 0.48362499999999997,
            "symbol": "circle"
           },
           "mode": "markers",
           "name": "",
           "showlegend": false,
           "type": "scattergeo"
          }
         ],
         "name": "2013"
        },
        {
         "data": [
          {
           "geo": "geo",
           "hovertemplate": "<b>%{hovertext}</b><br><br>Year=2014<br>Import Price=%{marker.size}<br>Code=%{location}<extra></extra>",
           "hovertext": [
            "IRL",
            "USA",
            "BRA",
            "CHN",
            "DEU",
            "RUS",
            "AUS",
            "VNM",
            "JPN",
            "IRN"
           ],
           "legendgroup": "",
           "locations": [
            "IRL",
            "USA",
            "BRA",
            "CHN",
            "DEU",
            "RUS",
            "AUS",
            "VNM",
            "JPN",
            "IRN"
           ],
           "marker": {
            "color": "#636efa",
            "size": [
             88.9,
             109.3,
             93.4,
             89.8,
             157.6,
             75.1,
             106.3,
             188.5,
             92.2,
             225.8
            ],
            "sizemode": "area",
            "sizeref": 0.48362499999999997,
            "symbol": "circle"
           },
           "mode": "markers",
           "name": "",
           "showlegend": false,
           "type": "scattergeo"
          }
         ],
         "name": "2014"
        },
        {
         "data": [
          {
           "geo": "geo",
           "hovertemplate": "<b>%{hovertext}</b><br><br>Year=2015<br>Import Price=%{marker.size}<br>Code=%{location}<extra></extra>",
           "hovertext": [
            "IRL",
            "USA",
            "BRA",
            "CHN",
            "DEU",
            "RUS",
            "AUS",
            "VNM",
            "JPN",
            "IRN"
           ],
           "legendgroup": "",
           "locations": [
            "IRL",
            "USA",
            "BRA",
            "CHN",
            "DEU",
            "RUS",
            "AUS",
            "VNM",
            "JPN",
            "IRN"
           ],
           "marker": {
            "color": "#636efa",
            "size": [
             78.1,
             86.7,
             94.8,
             162.3,
             135.4,
             58.7,
             104.2,
             141.9,
             101.1,
             275.3
            ],
            "sizemode": "area",
            "sizeref": 0.48362499999999997,
            "symbol": "circle"
           },
           "mode": "markers",
           "name": "",
           "showlegend": false,
           "type": "scattergeo"
          }
         ],
         "name": "2015"
        }
       ],
       "layout": {
        "geo": {
         "center": {},
         "domain": {
          "x": [
           0,
           1
          ],
          "y": [
           0,
           1
          ]
         },
         "projection": {
          "type": "natural earth"
         }
        },
        "legend": {
         "itemsizing": "constant",
         "tracegroupgap": 0
        },
        "margin": {
         "t": 60
        },
        "sliders": [
         {
          "active": 0,
          "currentvalue": {
           "prefix": "Year="
          },
          "len": 0.9,
          "pad": {
           "b": 10,
           "t": 60
          },
          "steps": [
           {
            "args": [
             [
              "2007"
             ],
             {
              "frame": {
               "duration": 0,
               "redraw": true
              },
              "fromcurrent": true,
              "mode": "immediate",
              "transition": {
               "duration": 0,
               "easing": "linear"
              }
             }
            ],
            "label": "2007",
            "method": "animate"
           },
           {
            "args": [
             [
              "2008"
             ],
             {
              "frame": {
               "duration": 0,
               "redraw": true
              },
              "fromcurrent": true,
              "mode": "immediate",
              "transition": {
               "duration": 0,
               "easing": "linear"
              }
             }
            ],
            "label": "2008",
            "method": "animate"
           },
           {
            "args": [
             [
              "2009"
             ],
             {
              "frame": {
               "duration": 0,
               "redraw": true
              },
              "fromcurrent": true,
              "mode": "immediate",
              "transition": {
               "duration": 0,
               "easing": "linear"
              }
             }
            ],
            "label": "2009",
            "method": "animate"
           },
           {
            "args": [
             [
              "2010"
             ],
             {
              "frame": {
               "duration": 0,
               "redraw": true
              },
              "fromcurrent": true,
              "mode": "immediate",
              "transition": {
               "duration": 0,
               "easing": "linear"
              }
             }
            ],
            "label": "2010",
            "method": "animate"
           },
           {
            "args": [
             [
              "2011"
             ],
             {
              "frame": {
               "duration": 0,
               "redraw": true
              },
              "fromcurrent": true,
              "mode": "immediate",
              "transition": {
               "duration": 0,
               "easing": "linear"
              }
             }
            ],
            "label": "2011",
            "method": "animate"
           },
           {
            "args": [
             [
              "2012"
             ],
             {
              "frame": {
               "duration": 0,
               "redraw": true
              },
              "fromcurrent": true,
              "mode": "immediate",
              "transition": {
               "duration": 0,
               "easing": "linear"
              }
             }
            ],
            "label": "2012",
            "method": "animate"
           },
           {
            "args": [
             [
              "2013"
             ],
             {
              "frame": {
               "duration": 0,
               "redraw": true
              },
              "fromcurrent": true,
              "mode": "immediate",
              "transition": {
               "duration": 0,
               "easing": "linear"
              }
             }
            ],
            "label": "2013",
            "method": "animate"
           },
           {
            "args": [
             [
              "2014"
             ],
             {
              "frame": {
               "duration": 0,
               "redraw": true
              },
              "fromcurrent": true,
              "mode": "immediate",
              "transition": {
               "duration": 0,
               "easing": "linear"
              }
             }
            ],
            "label": "2014",
            "method": "animate"
           },
           {
            "args": [
             [
              "2015"
             ],
             {
              "frame": {
               "duration": 0,
               "redraw": true
              },
              "fromcurrent": true,
              "mode": "immediate",
              "transition": {
               "duration": 0,
               "easing": "linear"
              }
             }
            ],
            "label": "2015",
            "method": "animate"
           }
          ],
          "x": 0.1,
          "xanchor": "left",
          "y": 0,
          "yanchor": "top"
         }
        ],
        "template": {
         "data": {
          "bar": [
           {
            "error_x": {
             "color": "#2a3f5f"
            },
            "error_y": {
             "color": "#2a3f5f"
            },
            "marker": {
             "line": {
              "color": "#E5ECF6",
              "width": 0.5
             },
             "pattern": {
              "fillmode": "overlay",
              "size": 10,
              "solidity": 0.2
             }
            },
            "type": "bar"
           }
          ],
          "barpolar": [
           {
            "marker": {
             "line": {
              "color": "#E5ECF6",
              "width": 0.5
             },
             "pattern": {
              "fillmode": "overlay",
              "size": 10,
              "solidity": 0.2
             }
            },
            "type": "barpolar"
           }
          ],
          "carpet": [
           {
            "aaxis": {
             "endlinecolor": "#2a3f5f",
             "gridcolor": "white",
             "linecolor": "white",
             "minorgridcolor": "white",
             "startlinecolor": "#2a3f5f"
            },
            "baxis": {
             "endlinecolor": "#2a3f5f",
             "gridcolor": "white",
             "linecolor": "white",
             "minorgridcolor": "white",
             "startlinecolor": "#2a3f5f"
            },
            "type": "carpet"
           }
          ],
          "choropleth": [
           {
            "colorbar": {
             "outlinewidth": 0,
             "ticks": ""
            },
            "type": "choropleth"
           }
          ],
          "contour": [
           {
            "colorbar": {
             "outlinewidth": 0,
             "ticks": ""
            },
            "colorscale": [
             [
              0,
              "#0d0887"
             ],
             [
              0.1111111111111111,
              "#46039f"
             ],
             [
              0.2222222222222222,
              "#7201a8"
             ],
             [
              0.3333333333333333,
              "#9c179e"
             ],
             [
              0.4444444444444444,
              "#bd3786"
             ],
             [
              0.5555555555555556,
              "#d8576b"
             ],
             [
              0.6666666666666666,
              "#ed7953"
             ],
             [
              0.7777777777777778,
              "#fb9f3a"
             ],
             [
              0.8888888888888888,
              "#fdca26"
             ],
             [
              1,
              "#f0f921"
             ]
            ],
            "type": "contour"
           }
          ],
          "contourcarpet": [
           {
            "colorbar": {
             "outlinewidth": 0,
             "ticks": ""
            },
            "type": "contourcarpet"
           }
          ],
          "heatmap": [
           {
            "colorbar": {
             "outlinewidth": 0,
             "ticks": ""
            },
            "colorscale": [
             [
              0,
              "#0d0887"
             ],
             [
              0.1111111111111111,
              "#46039f"
             ],
             [
              0.2222222222222222,
              "#7201a8"
             ],
             [
              0.3333333333333333,
              "#9c179e"
             ],
             [
              0.4444444444444444,
              "#bd3786"
             ],
             [
              0.5555555555555556,
              "#d8576b"
             ],
             [
              0.6666666666666666,
              "#ed7953"
             ],
             [
              0.7777777777777778,
              "#fb9f3a"
             ],
             [
              0.8888888888888888,
              "#fdca26"
             ],
             [
              1,
              "#f0f921"
             ]
            ],
            "type": "heatmap"
           }
          ],
          "heatmapgl": [
           {
            "colorbar": {
             "outlinewidth": 0,
             "ticks": ""
            },
            "colorscale": [
             [
              0,
              "#0d0887"
             ],
             [
              0.1111111111111111,
              "#46039f"
             ],
             [
              0.2222222222222222,
              "#7201a8"
             ],
             [
              0.3333333333333333,
              "#9c179e"
             ],
             [
              0.4444444444444444,
              "#bd3786"
             ],
             [
              0.5555555555555556,
              "#d8576b"
             ],
             [
              0.6666666666666666,
              "#ed7953"
             ],
             [
              0.7777777777777778,
              "#fb9f3a"
             ],
             [
              0.8888888888888888,
              "#fdca26"
             ],
             [
              1,
              "#f0f921"
             ]
            ],
            "type": "heatmapgl"
           }
          ],
          "histogram": [
           {
            "marker": {
             "pattern": {
              "fillmode": "overlay",
              "size": 10,
              "solidity": 0.2
             }
            },
            "type": "histogram"
           }
          ],
          "histogram2d": [
           {
            "colorbar": {
             "outlinewidth": 0,
             "ticks": ""
            },
            "colorscale": [
             [
              0,
              "#0d0887"
             ],
             [
              0.1111111111111111,
              "#46039f"
             ],
             [
              0.2222222222222222,
              "#7201a8"
             ],
             [
              0.3333333333333333,
              "#9c179e"
             ],
             [
              0.4444444444444444,
              "#bd3786"
             ],
             [
              0.5555555555555556,
              "#d8576b"
             ],
             [
              0.6666666666666666,
              "#ed7953"
             ],
             [
              0.7777777777777778,
              "#fb9f3a"
             ],
             [
              0.8888888888888888,
              "#fdca26"
             ],
             [
              1,
              "#f0f921"
             ]
            ],
            "type": "histogram2d"
           }
          ],
          "histogram2dcontour": [
           {
            "colorbar": {
             "outlinewidth": 0,
             "ticks": ""
            },
            "colorscale": [
             [
              0,
              "#0d0887"
             ],
             [
              0.1111111111111111,
              "#46039f"
             ],
             [
              0.2222222222222222,
              "#7201a8"
             ],
             [
              0.3333333333333333,
              "#9c179e"
             ],
             [
              0.4444444444444444,
              "#bd3786"
             ],
             [
              0.5555555555555556,
              "#d8576b"
             ],
             [
              0.6666666666666666,
              "#ed7953"
             ],
             [
              0.7777777777777778,
              "#fb9f3a"
             ],
             [
              0.8888888888888888,
              "#fdca26"
             ],
             [
              1,
              "#f0f921"
             ]
            ],
            "type": "histogram2dcontour"
           }
          ],
          "mesh3d": [
           {
            "colorbar": {
             "outlinewidth": 0,
             "ticks": ""
            },
            "type": "mesh3d"
           }
          ],
          "parcoords": [
           {
            "line": {
             "colorbar": {
              "outlinewidth": 0,
              "ticks": ""
             }
            },
            "type": "parcoords"
           }
          ],
          "pie": [
           {
            "automargin": true,
            "type": "pie"
           }
          ],
          "scatter": [
           {
            "fillpattern": {
             "fillmode": "overlay",
             "size": 10,
             "solidity": 0.2
            },
            "type": "scatter"
           }
          ],
          "scatter3d": [
           {
            "line": {
             "colorbar": {
              "outlinewidth": 0,
              "ticks": ""
             }
            },
            "marker": {
             "colorbar": {
              "outlinewidth": 0,
              "ticks": ""
             }
            },
            "type": "scatter3d"
           }
          ],
          "scattercarpet": [
           {
            "marker": {
             "colorbar": {
              "outlinewidth": 0,
              "ticks": ""
             }
            },
            "type": "scattercarpet"
           }
          ],
          "scattergeo": [
           {
            "marker": {
             "colorbar": {
              "outlinewidth": 0,
              "ticks": ""
             }
            },
            "type": "scattergeo"
           }
          ],
          "scattergl": [
           {
            "marker": {
             "colorbar": {
              "outlinewidth": 0,
              "ticks": ""
             }
            },
            "type": "scattergl"
           }
          ],
          "scattermapbox": [
           {
            "marker": {
             "colorbar": {
              "outlinewidth": 0,
              "ticks": ""
             }
            },
            "type": "scattermapbox"
           }
          ],
          "scatterpolar": [
           {
            "marker": {
             "colorbar": {
              "outlinewidth": 0,
              "ticks": ""
             }
            },
            "type": "scatterpolar"
           }
          ],
          "scatterpolargl": [
           {
            "marker": {
             "colorbar": {
              "outlinewidth": 0,
              "ticks": ""
             }
            },
            "type": "scatterpolargl"
           }
          ],
          "scatterternary": [
           {
            "marker": {
             "colorbar": {
              "outlinewidth": 0,
              "ticks": ""
             }
            },
            "type": "scatterternary"
           }
          ],
          "surface": [
           {
            "colorbar": {
             "outlinewidth": 0,
             "ticks": ""
            },
            "colorscale": [
             [
              0,
              "#0d0887"
             ],
             [
              0.1111111111111111,
              "#46039f"
             ],
             [
              0.2222222222222222,
              "#7201a8"
             ],
             [
              0.3333333333333333,
              "#9c179e"
             ],
             [
              0.4444444444444444,
              "#bd3786"
             ],
             [
              0.5555555555555556,
              "#d8576b"
             ],
             [
              0.6666666666666666,
              "#ed7953"
             ],
             [
              0.7777777777777778,
              "#fb9f3a"
             ],
             [
              0.8888888888888888,
              "#fdca26"
             ],
             [
              1,
              "#f0f921"
             ]
            ],
            "type": "surface"
           }
          ],
          "table": [
           {
            "cells": {
             "fill": {
              "color": "#EBF0F8"
             },
             "line": {
              "color": "white"
             }
            },
            "header": {
             "fill": {
              "color": "#C8D4E3"
             },
             "line": {
              "color": "white"
             }
            },
            "type": "table"
           }
          ]
         },
         "layout": {
          "annotationdefaults": {
           "arrowcolor": "#2a3f5f",
           "arrowhead": 0,
           "arrowwidth": 1
          },
          "autotypenumbers": "strict",
          "coloraxis": {
           "colorbar": {
            "outlinewidth": 0,
            "ticks": ""
           }
          },
          "colorscale": {
           "diverging": [
            [
             0,
             "#8e0152"
            ],
            [
             0.1,
             "#c51b7d"
            ],
            [
             0.2,
             "#de77ae"
            ],
            [
             0.3,
             "#f1b6da"
            ],
            [
             0.4,
             "#fde0ef"
            ],
            [
             0.5,
             "#f7f7f7"
            ],
            [
             0.6,
             "#e6f5d0"
            ],
            [
             0.7,
             "#b8e186"
            ],
            [
             0.8,
             "#7fbc41"
            ],
            [
             0.9,
             "#4d9221"
            ],
            [
             1,
             "#276419"
            ]
           ],
           "sequential": [
            [
             0,
             "#0d0887"
            ],
            [
             0.1111111111111111,
             "#46039f"
            ],
            [
             0.2222222222222222,
             "#7201a8"
            ],
            [
             0.3333333333333333,
             "#9c179e"
            ],
            [
             0.4444444444444444,
             "#bd3786"
            ],
            [
             0.5555555555555556,
             "#d8576b"
            ],
            [
             0.6666666666666666,
             "#ed7953"
            ],
            [
             0.7777777777777778,
             "#fb9f3a"
            ],
            [
             0.8888888888888888,
             "#fdca26"
            ],
            [
             1,
             "#f0f921"
            ]
           ],
           "sequentialminus": [
            [
             0,
             "#0d0887"
            ],
            [
             0.1111111111111111,
             "#46039f"
            ],
            [
             0.2222222222222222,
             "#7201a8"
            ],
            [
             0.3333333333333333,
             "#9c179e"
            ],
            [
             0.4444444444444444,
             "#bd3786"
            ],
            [
             0.5555555555555556,
             "#d8576b"
            ],
            [
             0.6666666666666666,
             "#ed7953"
            ],
            [
             0.7777777777777778,
             "#fb9f3a"
            ],
            [
             0.8888888888888888,
             "#fdca26"
            ],
            [
             1,
             "#f0f921"
            ]
           ]
          },
          "colorway": [
           "#636efa",
           "#EF553B",
           "#00cc96",
           "#ab63fa",
           "#FFA15A",
           "#19d3f3",
           "#FF6692",
           "#B6E880",
           "#FF97FF",
           "#FECB52"
          ],
          "font": {
           "color": "#2a3f5f"
          },
          "geo": {
           "bgcolor": "white",
           "lakecolor": "white",
           "landcolor": "#E5ECF6",
           "showlakes": true,
           "showland": true,
           "subunitcolor": "white"
          },
          "hoverlabel": {
           "align": "left"
          },
          "hovermode": "closest",
          "mapbox": {
           "style": "light"
          },
          "paper_bgcolor": "white",
          "plot_bgcolor": "#E5ECF6",
          "polar": {
           "angularaxis": {
            "gridcolor": "white",
            "linecolor": "white",
            "ticks": ""
           },
           "bgcolor": "#E5ECF6",
           "radialaxis": {
            "gridcolor": "white",
            "linecolor": "white",
            "ticks": ""
           }
          },
          "scene": {
           "xaxis": {
            "backgroundcolor": "#E5ECF6",
            "gridcolor": "white",
            "gridwidth": 2,
            "linecolor": "white",
            "showbackground": true,
            "ticks": "",
            "zerolinecolor": "white"
           },
           "yaxis": {
            "backgroundcolor": "#E5ECF6",
            "gridcolor": "white",
            "gridwidth": 2,
            "linecolor": "white",
            "showbackground": true,
            "ticks": "",
            "zerolinecolor": "white"
           },
           "zaxis": {
            "backgroundcolor": "#E5ECF6",
            "gridcolor": "white",
            "gridwidth": 2,
            "linecolor": "white",
            "showbackground": true,
            "ticks": "",
            "zerolinecolor": "white"
           }
          },
          "shapedefaults": {
           "line": {
            "color": "#2a3f5f"
           }
          },
          "ternary": {
           "aaxis": {
            "gridcolor": "white",
            "linecolor": "white",
            "ticks": ""
           },
           "baxis": {
            "gridcolor": "white",
            "linecolor": "white",
            "ticks": ""
           },
           "bgcolor": "#E5ECF6",
           "caxis": {
            "gridcolor": "white",
            "linecolor": "white",
            "ticks": ""
           }
          },
          "title": {
           "x": 0.05
          },
          "xaxis": {
           "automargin": true,
           "gridcolor": "white",
           "linecolor": "white",
           "ticks": "",
           "title": {
            "standoff": 15
           },
           "zerolinecolor": "white",
           "zerolinewidth": 2
          },
          "yaxis": {
           "automargin": true,
           "gridcolor": "white",
           "linecolor": "white",
           "ticks": "",
           "title": {
            "standoff": 15
           },
           "zerolinecolor": "white",
           "zerolinewidth": 2
          }
         }
        },
        "title": {
         "text": "Cement Production Value"
        },
        "updatemenus": [
         {
          "buttons": [
           {
            "args": [
             null,
             {
              "frame": {
               "duration": 500,
               "redraw": true
              },
              "fromcurrent": true,
              "mode": "immediate",
              "transition": {
               "duration": 500,
               "easing": "linear"
              }
             }
            ],
            "label": "&#9654;",
            "method": "animate"
           },
           {
            "args": [
             [
              null
             ],
             {
              "frame": {
               "duration": 0,
               "redraw": true
              },
              "fromcurrent": true,
              "mode": "immediate",
              "transition": {
               "duration": 0,
               "easing": "linear"
              }
             }
            ],
            "label": "&#9724;",
            "method": "animate"
           }
          ],
          "direction": "left",
          "pad": {
           "r": 10,
           "t": 70
          },
          "showactive": false,
          "type": "buttons",
          "x": 0.1,
          "xanchor": "right",
          "y": 0,
          "yanchor": "top"
         }
        ]
       }
      },
      "text/html": [
       "<div>                            <div id=\"8b3365ef-8edb-4103-a7ae-01cba86b0298\" class=\"plotly-graph-div\" style=\"height:525px; width:100%;\"></div>            <script type=\"text/javascript\">                require([\"plotly\"], function(Plotly) {                    window.PLOTLYENV=window.PLOTLYENV || {};                                    if (document.getElementById(\"8b3365ef-8edb-4103-a7ae-01cba86b0298\")) {                    Plotly.newPlot(                        \"8b3365ef-8edb-4103-a7ae-01cba86b0298\",                        [{\"geo\":\"geo\",\"hovertemplate\":\"<b>%{hovertext}</b><br><br>Year=2007<br>Import Price=%{marker.size}<br>Code=%{location}<extra></extra>\",\"hovertext\":[\"IRL\",\"USA\",\"BRA\",\"CHN\",\"DEU\",\"RUS\",\"AUS\",\"VNM\",\"JPN\",\"IRN\"],\"legendgroup\":\"\",\"locations\":[\"IRL\",\"USA\",\"BRA\",\"CHN\",\"DEU\",\"RUS\",\"AUS\",\"VNM\",\"JPN\",\"IRN\"],\"marker\":{\"color\":\"#636efa\",\"size\":[95.7,77.9,72.5,42.1,140.6,100.0,124.7,115.2,53.6,81.5],\"sizemode\":\"area\",\"sizeref\":0.48362499999999997,\"symbol\":\"circle\"},\"mode\":\"markers\",\"name\":\"\",\"showlegend\":false,\"type\":\"scattergeo\"}],                        {\"template\":{\"data\":{\"histogram2dcontour\":[{\"type\":\"histogram2dcontour\",\"colorbar\":{\"outlinewidth\":0,\"ticks\":\"\"},\"colorscale\":[[0.0,\"#0d0887\"],[0.1111111111111111,\"#46039f\"],[0.2222222222222222,\"#7201a8\"],[0.3333333333333333,\"#9c179e\"],[0.4444444444444444,\"#bd3786\"],[0.5555555555555556,\"#d8576b\"],[0.6666666666666666,\"#ed7953\"],[0.7777777777777778,\"#fb9f3a\"],[0.8888888888888888,\"#fdca26\"],[1.0,\"#f0f921\"]]}],\"choropleth\":[{\"type\":\"choropleth\",\"colorbar\":{\"outlinewidth\":0,\"ticks\":\"\"}}],\"histogram2d\":[{\"type\":\"histogram2d\",\"colorbar\":{\"outlinewidth\":0,\"ticks\":\"\"},\"colorscale\":[[0.0,\"#0d0887\"],[0.1111111111111111,\"#46039f\"],[0.2222222222222222,\"#7201a8\"],[0.3333333333333333,\"#9c179e\"],[0.4444444444444444,\"#bd3786\"],[0.5555555555555556,\"#d8576b\"],[0.6666666666666666,\"#ed7953\"],[0.7777777777777778,\"#fb9f3a\"],[0.8888888888888888,\"#fdca26\"],[1.0,\"#f0f921\"]]}],\"heatmap\":[{\"type\":\"heatmap\",\"colorbar\":{\"outlinewidth\":0,\"ticks\":\"\"},\"colorscale\":[[0.0,\"#0d0887\"],[0.1111111111111111,\"#46039f\"],[0.2222222222222222,\"#7201a8\"],[0.3333333333333333,\"#9c179e\"],[0.4444444444444444,\"#bd3786\"],[0.5555555555555556,\"#d8576b\"],[0.6666666666666666,\"#ed7953\"],[0.7777777777777778,\"#fb9f3a\"],[0.8888888888888888,\"#fdca26\"],[1.0,\"#f0f921\"]]}],\"heatmapgl\":[{\"type\":\"heatmapgl\",\"colorbar\":{\"outlinewidth\":0,\"ticks\":\"\"},\"colorscale\":[[0.0,\"#0d0887\"],[0.1111111111111111,\"#46039f\"],[0.2222222222222222,\"#7201a8\"],[0.3333333333333333,\"#9c179e\"],[0.4444444444444444,\"#bd3786\"],[0.5555555555555556,\"#d8576b\"],[0.6666666666666666,\"#ed7953\"],[0.7777777777777778,\"#fb9f3a\"],[0.8888888888888888,\"#fdca26\"],[1.0,\"#f0f921\"]]}],\"contourcarpet\":[{\"type\":\"contourcarpet\",\"colorbar\":{\"outlinewidth\":0,\"ticks\":\"\"}}],\"contour\":[{\"type\":\"contour\",\"colorbar\":{\"outlinewidth\":0,\"ticks\":\"\"},\"colorscale\":[[0.0,\"#0d0887\"],[0.1111111111111111,\"#46039f\"],[0.2222222222222222,\"#7201a8\"],[0.3333333333333333,\"#9c179e\"],[0.4444444444444444,\"#bd3786\"],[0.5555555555555556,\"#d8576b\"],[0.6666666666666666,\"#ed7953\"],[0.7777777777777778,\"#fb9f3a\"],[0.8888888888888888,\"#fdca26\"],[1.0,\"#f0f921\"]]}],\"surface\":[{\"type\":\"surface\",\"colorbar\":{\"outlinewidth\":0,\"ticks\":\"\"},\"colorscale\":[[0.0,\"#0d0887\"],[0.1111111111111111,\"#46039f\"],[0.2222222222222222,\"#7201a8\"],[0.3333333333333333,\"#9c179e\"],[0.4444444444444444,\"#bd3786\"],[0.5555555555555556,\"#d8576b\"],[0.6666666666666666,\"#ed7953\"],[0.7777777777777778,\"#fb9f3a\"],[0.8888888888888888,\"#fdca26\"],[1.0,\"#f0f921\"]]}],\"mesh3d\":[{\"type\":\"mesh3d\",\"colorbar\":{\"outlinewidth\":0,\"ticks\":\"\"}}],\"scatter\":[{\"fillpattern\":{\"fillmode\":\"overlay\",\"size\":10,\"solidity\":0.2},\"type\":\"scatter\"}],\"parcoords\":[{\"type\":\"parcoords\",\"line\":{\"colorbar\":{\"outlinewidth\":0,\"ticks\":\"\"}}}],\"scatterpolargl\":[{\"type\":\"scatterpolargl\",\"marker\":{\"colorbar\":{\"outlinewidth\":0,\"ticks\":\"\"}}}],\"bar\":[{\"error_x\":{\"color\":\"#2a3f5f\"},\"error_y\":{\"color\":\"#2a3f5f\"},\"marker\":{\"line\":{\"color\":\"#E5ECF6\",\"width\":0.5},\"pattern\":{\"fillmode\":\"overlay\",\"size\":10,\"solidity\":0.2}},\"type\":\"bar\"}],\"scattergeo\":[{\"type\":\"scattergeo\",\"marker\":{\"colorbar\":{\"outlinewidth\":0,\"ticks\":\"\"}}}],\"scatterpolar\":[{\"type\":\"scatterpolar\",\"marker\":{\"colorbar\":{\"outlinewidth\":0,\"ticks\":\"\"}}}],\"histogram\":[{\"marker\":{\"pattern\":{\"fillmode\":\"overlay\",\"size\":10,\"solidity\":0.2}},\"type\":\"histogram\"}],\"scattergl\":[{\"type\":\"scattergl\",\"marker\":{\"colorbar\":{\"outlinewidth\":0,\"ticks\":\"\"}}}],\"scatter3d\":[{\"type\":\"scatter3d\",\"line\":{\"colorbar\":{\"outlinewidth\":0,\"ticks\":\"\"}},\"marker\":{\"colorbar\":{\"outlinewidth\":0,\"ticks\":\"\"}}}],\"scattermapbox\":[{\"type\":\"scattermapbox\",\"marker\":{\"colorbar\":{\"outlinewidth\":0,\"ticks\":\"\"}}}],\"scatterternary\":[{\"type\":\"scatterternary\",\"marker\":{\"colorbar\":{\"outlinewidth\":0,\"ticks\":\"\"}}}],\"scattercarpet\":[{\"type\":\"scattercarpet\",\"marker\":{\"colorbar\":{\"outlinewidth\":0,\"ticks\":\"\"}}}],\"carpet\":[{\"aaxis\":{\"endlinecolor\":\"#2a3f5f\",\"gridcolor\":\"white\",\"linecolor\":\"white\",\"minorgridcolor\":\"white\",\"startlinecolor\":\"#2a3f5f\"},\"baxis\":{\"endlinecolor\":\"#2a3f5f\",\"gridcolor\":\"white\",\"linecolor\":\"white\",\"minorgridcolor\":\"white\",\"startlinecolor\":\"#2a3f5f\"},\"type\":\"carpet\"}],\"table\":[{\"cells\":{\"fill\":{\"color\":\"#EBF0F8\"},\"line\":{\"color\":\"white\"}},\"header\":{\"fill\":{\"color\":\"#C8D4E3\"},\"line\":{\"color\":\"white\"}},\"type\":\"table\"}],\"barpolar\":[{\"marker\":{\"line\":{\"color\":\"#E5ECF6\",\"width\":0.5},\"pattern\":{\"fillmode\":\"overlay\",\"size\":10,\"solidity\":0.2}},\"type\":\"barpolar\"}],\"pie\":[{\"automargin\":true,\"type\":\"pie\"}]},\"layout\":{\"autotypenumbers\":\"strict\",\"colorway\":[\"#636efa\",\"#EF553B\",\"#00cc96\",\"#ab63fa\",\"#FFA15A\",\"#19d3f3\",\"#FF6692\",\"#B6E880\",\"#FF97FF\",\"#FECB52\"],\"font\":{\"color\":\"#2a3f5f\"},\"hovermode\":\"closest\",\"hoverlabel\":{\"align\":\"left\"},\"paper_bgcolor\":\"white\",\"plot_bgcolor\":\"#E5ECF6\",\"polar\":{\"bgcolor\":\"#E5ECF6\",\"angularaxis\":{\"gridcolor\":\"white\",\"linecolor\":\"white\",\"ticks\":\"\"},\"radialaxis\":{\"gridcolor\":\"white\",\"linecolor\":\"white\",\"ticks\":\"\"}},\"ternary\":{\"bgcolor\":\"#E5ECF6\",\"aaxis\":{\"gridcolor\":\"white\",\"linecolor\":\"white\",\"ticks\":\"\"},\"baxis\":{\"gridcolor\":\"white\",\"linecolor\":\"white\",\"ticks\":\"\"},\"caxis\":{\"gridcolor\":\"white\",\"linecolor\":\"white\",\"ticks\":\"\"}},\"coloraxis\":{\"colorbar\":{\"outlinewidth\":0,\"ticks\":\"\"}},\"colorscale\":{\"sequential\":[[0.0,\"#0d0887\"],[0.1111111111111111,\"#46039f\"],[0.2222222222222222,\"#7201a8\"],[0.3333333333333333,\"#9c179e\"],[0.4444444444444444,\"#bd3786\"],[0.5555555555555556,\"#d8576b\"],[0.6666666666666666,\"#ed7953\"],[0.7777777777777778,\"#fb9f3a\"],[0.8888888888888888,\"#fdca26\"],[1.0,\"#f0f921\"]],\"sequentialminus\":[[0.0,\"#0d0887\"],[0.1111111111111111,\"#46039f\"],[0.2222222222222222,\"#7201a8\"],[0.3333333333333333,\"#9c179e\"],[0.4444444444444444,\"#bd3786\"],[0.5555555555555556,\"#d8576b\"],[0.6666666666666666,\"#ed7953\"],[0.7777777777777778,\"#fb9f3a\"],[0.8888888888888888,\"#fdca26\"],[1.0,\"#f0f921\"]],\"diverging\":[[0,\"#8e0152\"],[0.1,\"#c51b7d\"],[0.2,\"#de77ae\"],[0.3,\"#f1b6da\"],[0.4,\"#fde0ef\"],[0.5,\"#f7f7f7\"],[0.6,\"#e6f5d0\"],[0.7,\"#b8e186\"],[0.8,\"#7fbc41\"],[0.9,\"#4d9221\"],[1,\"#276419\"]]},\"xaxis\":{\"gridcolor\":\"white\",\"linecolor\":\"white\",\"ticks\":\"\",\"title\":{\"standoff\":15},\"zerolinecolor\":\"white\",\"automargin\":true,\"zerolinewidth\":2},\"yaxis\":{\"gridcolor\":\"white\",\"linecolor\":\"white\",\"ticks\":\"\",\"title\":{\"standoff\":15},\"zerolinecolor\":\"white\",\"automargin\":true,\"zerolinewidth\":2},\"scene\":{\"xaxis\":{\"backgroundcolor\":\"#E5ECF6\",\"gridcolor\":\"white\",\"linecolor\":\"white\",\"showbackground\":true,\"ticks\":\"\",\"zerolinecolor\":\"white\",\"gridwidth\":2},\"yaxis\":{\"backgroundcolor\":\"#E5ECF6\",\"gridcolor\":\"white\",\"linecolor\":\"white\",\"showbackground\":true,\"ticks\":\"\",\"zerolinecolor\":\"white\",\"gridwidth\":2},\"zaxis\":{\"backgroundcolor\":\"#E5ECF6\",\"gridcolor\":\"white\",\"linecolor\":\"white\",\"showbackground\":true,\"ticks\":\"\",\"zerolinecolor\":\"white\",\"gridwidth\":2}},\"shapedefaults\":{\"line\":{\"color\":\"#2a3f5f\"}},\"annotationdefaults\":{\"arrowcolor\":\"#2a3f5f\",\"arrowhead\":0,\"arrowwidth\":1},\"geo\":{\"bgcolor\":\"white\",\"landcolor\":\"#E5ECF6\",\"subunitcolor\":\"white\",\"showland\":true,\"showlakes\":true,\"lakecolor\":\"white\"},\"title\":{\"x\":0.05},\"mapbox\":{\"style\":\"light\"}}},\"geo\":{\"domain\":{\"x\":[0.0,1.0],\"y\":[0.0,1.0]},\"center\":{},\"projection\":{\"type\":\"natural earth\"}},\"legend\":{\"tracegroupgap\":0,\"itemsizing\":\"constant\"},\"margin\":{\"t\":60},\"updatemenus\":[{\"buttons\":[{\"args\":[null,{\"frame\":{\"duration\":500,\"redraw\":true},\"mode\":\"immediate\",\"fromcurrent\":true,\"transition\":{\"duration\":500,\"easing\":\"linear\"}}],\"label\":\"&#9654;\",\"method\":\"animate\"},{\"args\":[[null],{\"frame\":{\"duration\":0,\"redraw\":true},\"mode\":\"immediate\",\"fromcurrent\":true,\"transition\":{\"duration\":0,\"easing\":\"linear\"}}],\"label\":\"&#9724;\",\"method\":\"animate\"}],\"direction\":\"left\",\"pad\":{\"r\":10,\"t\":70},\"showactive\":false,\"type\":\"buttons\",\"x\":0.1,\"xanchor\":\"right\",\"y\":0,\"yanchor\":\"top\"}],\"sliders\":[{\"active\":0,\"currentvalue\":{\"prefix\":\"Year=\"},\"len\":0.9,\"pad\":{\"b\":10,\"t\":60},\"steps\":[{\"args\":[[\"2007\"],{\"frame\":{\"duration\":0,\"redraw\":true},\"mode\":\"immediate\",\"fromcurrent\":true,\"transition\":{\"duration\":0,\"easing\":\"linear\"}}],\"label\":\"2007\",\"method\":\"animate\"},{\"args\":[[\"2008\"],{\"frame\":{\"duration\":0,\"redraw\":true},\"mode\":\"immediate\",\"fromcurrent\":true,\"transition\":{\"duration\":0,\"easing\":\"linear\"}}],\"label\":\"2008\",\"method\":\"animate\"},{\"args\":[[\"2009\"],{\"frame\":{\"duration\":0,\"redraw\":true},\"mode\":\"immediate\",\"fromcurrent\":true,\"transition\":{\"duration\":0,\"easing\":\"linear\"}}],\"label\":\"2009\",\"method\":\"animate\"},{\"args\":[[\"2010\"],{\"frame\":{\"duration\":0,\"redraw\":true},\"mode\":\"immediate\",\"fromcurrent\":true,\"transition\":{\"duration\":0,\"easing\":\"linear\"}}],\"label\":\"2010\",\"method\":\"animate\"},{\"args\":[[\"2011\"],{\"frame\":{\"duration\":0,\"redraw\":true},\"mode\":\"immediate\",\"fromcurrent\":true,\"transition\":{\"duration\":0,\"easing\":\"linear\"}}],\"label\":\"2011\",\"method\":\"animate\"},{\"args\":[[\"2012\"],{\"frame\":{\"duration\":0,\"redraw\":true},\"mode\":\"immediate\",\"fromcurrent\":true,\"transition\":{\"duration\":0,\"easing\":\"linear\"}}],\"label\":\"2012\",\"method\":\"animate\"},{\"args\":[[\"2013\"],{\"frame\":{\"duration\":0,\"redraw\":true},\"mode\":\"immediate\",\"fromcurrent\":true,\"transition\":{\"duration\":0,\"easing\":\"linear\"}}],\"label\":\"2013\",\"method\":\"animate\"},{\"args\":[[\"2014\"],{\"frame\":{\"duration\":0,\"redraw\":true},\"mode\":\"immediate\",\"fromcurrent\":true,\"transition\":{\"duration\":0,\"easing\":\"linear\"}}],\"label\":\"2014\",\"method\":\"animate\"},{\"args\":[[\"2015\"],{\"frame\":{\"duration\":0,\"redraw\":true},\"mode\":\"immediate\",\"fromcurrent\":true,\"transition\":{\"duration\":0,\"easing\":\"linear\"}}],\"label\":\"2015\",\"method\":\"animate\"}],\"x\":0.1,\"xanchor\":\"left\",\"y\":0,\"yanchor\":\"top\"}],\"title\":{\"text\":\"Cement Production Value\"}},                        {\"responsive\": true}                    ).then(function(){\n",
       "                            Plotly.addFrames('8b3365ef-8edb-4103-a7ae-01cba86b0298', [{\"data\":[{\"geo\":\"geo\",\"hovertemplate\":\"<b>%{hovertext}</b><br><br>Year=2007<br>Import Price=%{marker.size}<br>Code=%{location}<extra></extra>\",\"hovertext\":[\"IRL\",\"USA\",\"BRA\",\"CHN\",\"DEU\",\"RUS\",\"AUS\",\"VNM\",\"JPN\",\"IRN\"],\"legendgroup\":\"\",\"locations\":[\"IRL\",\"USA\",\"BRA\",\"CHN\",\"DEU\",\"RUS\",\"AUS\",\"VNM\",\"JPN\",\"IRN\"],\"marker\":{\"color\":\"#636efa\",\"size\":[95.7,77.9,72.5,42.1,140.6,100.0,124.7,115.2,53.6,81.5],\"sizemode\":\"area\",\"sizeref\":0.48362499999999997,\"symbol\":\"circle\"},\"mode\":\"markers\",\"name\":\"\",\"showlegend\":false,\"type\":\"scattergeo\"}],\"name\":\"2007\"},{\"data\":[{\"geo\":\"geo\",\"hovertemplate\":\"<b>%{hovertext}</b><br><br>Year=2008<br>Import Price=%{marker.size}<br>Code=%{location}<extra></extra>\",\"hovertext\":[\"IRL\",\"USA\",\"BRA\",\"CHN\",\"DEU\",\"RUS\",\"AUS\",\"VNM\",\"JPN\",\"IRN\"],\"legendgroup\":\"\",\"locations\":[\"IRL\",\"USA\",\"BRA\",\"CHN\",\"DEU\",\"RUS\",\"AUS\",\"VNM\",\"JPN\",\"IRN\"],\"marker\":{\"color\":\"#636efa\",\"size\":[88.9,87.1,93.3,47.9,162.8,101.2,109.6,105.8,65.8,97.6],\"sizemode\":\"area\",\"sizeref\":0.48362499999999997,\"symbol\":\"circle\"},\"mode\":\"markers\",\"name\":\"\",\"showlegend\":false,\"type\":\"scattergeo\"}],\"name\":\"2008\"},{\"data\":[{\"geo\":\"geo\",\"hovertemplate\":\"<b>%{hovertext}</b><br><br>Year=2009<br>Import Price=%{marker.size}<br>Code=%{location}<extra></extra>\",\"hovertext\":[\"IRL\",\"USA\",\"BRA\",\"CHN\",\"DEU\",\"RUS\",\"AUS\",\"VNM\",\"JPN\",\"IRN\"],\"legendgroup\":\"\",\"locations\":[\"IRL\",\"USA\",\"BRA\",\"CHN\",\"DEU\",\"RUS\",\"AUS\",\"VNM\",\"JPN\",\"IRN\"],\"marker\":{\"color\":\"#636efa\",\"size\":[112.6,88.6,99.3,47.5,155.7,78.9,107.1,126.6,75.2,225.8],\"sizemode\":\"area\",\"sizeref\":0.48362499999999997,\"symbol\":\"circle\"},\"mode\":\"markers\",\"name\":\"\",\"showlegend\":false,\"type\":\"scattergeo\"}],\"name\":\"2009\"},{\"data\":[{\"geo\":\"geo\",\"hovertemplate\":\"<b>%{hovertext}</b><br><br>Year=2010<br>Import Price=%{marker.size}<br>Code=%{location}<extra></extra>\",\"hovertext\":[\"IRL\",\"USA\",\"BRA\",\"CHN\",\"DEU\",\"RUS\",\"AUS\",\"VNM\",\"JPN\",\"IRN\"],\"legendgroup\":\"\",\"locations\":[\"IRL\",\"USA\",\"BRA\",\"CHN\",\"DEU\",\"RUS\",\"AUS\",\"VNM\",\"JPN\",\"IRN\"],\"marker\":{\"color\":\"#636efa\",\"size\":[99.9,87.3,92.3,47.2,158.8,77.8,116.7,124.3,89.8,343.0],\"sizemode\":\"area\",\"sizeref\":0.48362499999999997,\"symbol\":\"circle\"},\"mode\":\"markers\",\"name\":\"\",\"showlegend\":false,\"type\":\"scattergeo\"}],\"name\":\"2010\"},{\"data\":[{\"geo\":\"geo\",\"hovertemplate\":\"<b>%{hovertext}</b><br><br>Year=2011<br>Import Price=%{marker.size}<br>Code=%{location}<extra></extra>\",\"hovertext\":[\"IRL\",\"USA\",\"BRA\",\"CHN\",\"DEU\",\"RUS\",\"AUS\",\"VNM\",\"JPN\",\"IRN\"],\"legendgroup\":\"\",\"locations\":[\"IRL\",\"USA\",\"BRA\",\"CHN\",\"DEU\",\"RUS\",\"AUS\",\"VNM\",\"JPN\",\"IRN\"],\"marker\":{\"color\":\"#636efa\",\"size\":[104.6,87.4,90.6,52.9,164.9,88.6,85.9,135.1,96.1,773.8],\"sizemode\":\"area\",\"sizeref\":0.48362499999999997,\"symbol\":\"circle\"},\"mode\":\"markers\",\"name\":\"\",\"showlegend\":false,\"type\":\"scattergeo\"}],\"name\":\"2011\"},{\"data\":[{\"geo\":\"geo\",\"hovertemplate\":\"<b>%{hovertext}</b><br><br>Year=2012<br>Import Price=%{marker.size}<br>Code=%{location}<extra></extra>\",\"hovertext\":[\"IRL\",\"USA\",\"BRA\",\"CHN\",\"DEU\",\"RUS\",\"AUS\",\"VNM\",\"JPN\",\"IRN\"],\"legendgroup\":\"\",\"locations\":[\"IRL\",\"USA\",\"BRA\",\"CHN\",\"DEU\",\"RUS\",\"AUS\",\"VNM\",\"JPN\",\"IRN\"],\"marker\":{\"color\":\"#636efa\",\"size\":[118.5,88.1,93.4,57.9,141.8,82.3,81.4,107.9,93.4,189.3],\"sizemode\":\"area\",\"sizeref\":0.48362499999999997,\"symbol\":\"circle\"},\"mode\":\"markers\",\"name\":\"\",\"showlegend\":false,\"type\":\"scattergeo\"}],\"name\":\"2012\"},{\"data\":[{\"geo\":\"geo\",\"hovertemplate\":\"<b>%{hovertext}</b><br><br>Year=2013<br>Import Price=%{marker.size}<br>Code=%{location}<extra></extra>\",\"hovertext\":[\"IRL\",\"USA\",\"BRA\",\"CHN\",\"DEU\",\"RUS\",\"AUS\",\"VNM\",\"JPN\",\"IRN\"],\"legendgroup\":\"\",\"locations\":[\"IRL\",\"USA\",\"BRA\",\"CHN\",\"DEU\",\"RUS\",\"AUS\",\"VNM\",\"JPN\",\"IRN\"],\"marker\":{\"color\":\"#636efa\",\"size\":[107.8,87.8,89.8,65.3,151.4,80.1,95.0,125.9,83.0,330.6],\"sizemode\":\"area\",\"sizeref\":0.48362499999999997,\"symbol\":\"circle\"},\"mode\":\"markers\",\"name\":\"\",\"showlegend\":false,\"type\":\"scattergeo\"}],\"name\":\"2013\"},{\"data\":[{\"geo\":\"geo\",\"hovertemplate\":\"<b>%{hovertext}</b><br><br>Year=2014<br>Import Price=%{marker.size}<br>Code=%{location}<extra></extra>\",\"hovertext\":[\"IRL\",\"USA\",\"BRA\",\"CHN\",\"DEU\",\"RUS\",\"AUS\",\"VNM\",\"JPN\",\"IRN\"],\"legendgroup\":\"\",\"locations\":[\"IRL\",\"USA\",\"BRA\",\"CHN\",\"DEU\",\"RUS\",\"AUS\",\"VNM\",\"JPN\",\"IRN\"],\"marker\":{\"color\":\"#636efa\",\"size\":[88.9,109.3,93.4,89.8,157.6,75.1,106.3,188.5,92.2,225.8],\"sizemode\":\"area\",\"sizeref\":0.48362499999999997,\"symbol\":\"circle\"},\"mode\":\"markers\",\"name\":\"\",\"showlegend\":false,\"type\":\"scattergeo\"}],\"name\":\"2014\"},{\"data\":[{\"geo\":\"geo\",\"hovertemplate\":\"<b>%{hovertext}</b><br><br>Year=2015<br>Import Price=%{marker.size}<br>Code=%{location}<extra></extra>\",\"hovertext\":[\"IRL\",\"USA\",\"BRA\",\"CHN\",\"DEU\",\"RUS\",\"AUS\",\"VNM\",\"JPN\",\"IRN\"],\"legendgroup\":\"\",\"locations\":[\"IRL\",\"USA\",\"BRA\",\"CHN\",\"DEU\",\"RUS\",\"AUS\",\"VNM\",\"JPN\",\"IRN\"],\"marker\":{\"color\":\"#636efa\",\"size\":[78.1,86.7,94.8,162.3,135.4,58.7,104.2,141.9,101.1,275.3],\"sizemode\":\"area\",\"sizeref\":0.48362499999999997,\"symbol\":\"circle\"},\"mode\":\"markers\",\"name\":\"\",\"showlegend\":false,\"type\":\"scattergeo\"}],\"name\":\"2015\"}]);\n",
       "                        }).then(function(){\n",
       "                            \n",
       "var gd = document.getElementById('8b3365ef-8edb-4103-a7ae-01cba86b0298');\n",
       "var x = new MutationObserver(function (mutations, observer) {{\n",
       "        var display = window.getComputedStyle(gd).display;\n",
       "        if (!display || display === 'none') {{\n",
       "            console.log([gd, 'removed!']);\n",
       "            Plotly.purge(gd);\n",
       "            observer.disconnect();\n",
       "        }}\n",
       "}});\n",
       "\n",
       "// Listen for the removal of the full notebook cells\n",
       "var notebookContainer = gd.closest('#notebook-container');\n",
       "if (notebookContainer) {{\n",
       "    x.observe(notebookContainer, {childList: true});\n",
       "}}\n",
       "\n",
       "// Listen for the clearing of the current output cell\n",
       "var outputEl = gd.closest('.output');\n",
       "if (outputEl) {{\n",
       "    x.observe(outputEl, {childList: true});\n",
       "}}\n",
       "\n",
       "                        })                };                });            </script>        </div>"
      ]
     },
     "metadata": {},
     "output_type": "display_data"
    }
   ],
   "source": [
    "fig = px.scatter_geo(cement_merge, \n",
    "                    locations=\"Code\", \n",
    "                     # name of column which contains state codes\n",
    "                    size=\"Import Price\", \n",
    "                     # name of column which contains aggregate value to visualize\n",
    "                    hover_name=\"Code\",\n",
    "                    size_max=40,\n",
    "                    animation_frame=\"Year\",)\n",
    "                    \n",
    "fig.update_layout(\n",
    "    # add a title text for the plot\n",
    "    title_text = 'Cement Production Value',\n",
    "    # limit plot scope to USA\n",
    "    geo = dict(projection={'type':'natural earth'})\n",
    ")\n",
    "fig.show()\n"
   ]
  },
  {
   "cell_type": "code",
   "execution_count": null,
   "id": "a944426e",
   "metadata": {},
   "outputs": [],
   "source": []
  }
 ],
 "metadata": {
  "kernelspec": {
   "display_name": "Python 3 (ipykernel)",
   "language": "python",
   "name": "python3"
  },
  "language_info": {
   "codemirror_mode": {
    "name": "ipython",
    "version": 3
   },
   "file_extension": ".py",
   "mimetype": "text/x-python",
   "name": "python",
   "nbconvert_exporter": "python",
   "pygments_lexer": "ipython3",
   "version": "3.9.13"
  }
 },
 "nbformat": 4,
 "nbformat_minor": 5
}
